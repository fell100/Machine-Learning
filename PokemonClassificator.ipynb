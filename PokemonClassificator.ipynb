{
  "nbformat": 4,
  "nbformat_minor": 0,
  "metadata": {
    "colab": {
      "name": "PokemonClassificator.ipynb",
      "provenance": [],
      "authorship_tag": "ABX9TyOBIXnuFJejmo8w2hPxRJgt",
      "include_colab_link": true
    },
    "kernelspec": {
      "name": "python3",
      "display_name": "Python 3"
    },
    "language_info": {
      "name": "python"
    }
  },
  "cells": [
    {
      "cell_type": "markdown",
      "metadata": {
        "id": "view-in-github",
        "colab_type": "text"
      },
      "source": [
        "<a href=\"https://colab.research.google.com/github/fell100/Machine-Learning/blob/master/PokemonClassificator.ipynb\" target=\"_parent\"><img src=\"https://colab.research.google.com/assets/colab-badge.svg\" alt=\"Open In Colab\"/></a>"
      ]
    },
    {
      "cell_type": "code",
      "source": [
        "import os\n",
        "import pandas as pd\n",
        "from google.colab import drive\n",
        "from torch.utils.data import DataLoader, Dataset\n",
        "import torchvision.transforms as T\n",
        "import torch\n",
        "import torch.nn as nn\n",
        "from torchvision import datasets, transforms\n",
        "from torchvision.utils import make_grid\n",
        "from torchvision.utils import save_image\n",
        "from IPython.display import Image\n",
        "import matplotlib.pyplot as plt\n",
        "import numpy as np\n",
        "import random\n",
        "%matplotlib inline\n",
        "from os import walk\n",
        "import plotly.express as px\n",
        "import cv2"
      ],
      "metadata": {
        "id": "evJMzdvzBbBO"
      },
      "execution_count": 268,
      "outputs": []
    },
    {
      "cell_type": "markdown",
      "source": [
        "Carregando os dados do Google Drive"
      ],
      "metadata": {
        "id": "1w9W9UVCMxqm"
      }
    },
    {
      "cell_type": "code",
      "source": [
        "drive.mount('/content/gdrive')"
      ],
      "metadata": {
        "colab": {
          "base_uri": "https://localhost:8080/"
        },
        "id": "UKfmZ853B1-G",
        "outputId": "32bee0d2-7312-48fe-9d4d-4d31baafd4db"
      },
      "execution_count": 269,
      "outputs": [
        {
          "output_type": "stream",
          "name": "stdout",
          "text": [
            "Drive already mounted at /content/gdrive; to attempt to forcibly remount, call drive.mount(\"/content/gdrive\", force_remount=True).\n"
          ]
        }
      ]
    },
    {
      "cell_type": "code",
      "source": [
        "#https://www.kaggle.com/datasets/vishalsubbiah/pokemon-images-and-types?select=pokemon.csv"
      ],
      "metadata": {
        "id": "nj--cLKtVAmB"
      },
      "execution_count": 270,
      "outputs": []
    },
    {
      "cell_type": "code",
      "source": [
        "DATA_DIR = '/content/gdrive/MyDrive/datasets/pokemon_classificator/pokemon_types'"
      ],
      "metadata": {
        "id": "jT9SMj1LBhC7"
      },
      "execution_count": 271,
      "outputs": []
    },
    {
      "cell_type": "code",
      "source": [
        "csv_path = '/content/gdrive/MyDrive/datasets/pokemon_classificator/pokemon.csv'"
      ],
      "metadata": {
        "id": "VBynvBxHGBPx"
      },
      "execution_count": 272,
      "outputs": []
    },
    {
      "cell_type": "markdown",
      "source": [
        "# Analisando o dataset com os labels"
      ],
      "metadata": {
        "id": "3wm4UtBcNDZS"
      }
    },
    {
      "cell_type": "code",
      "source": [
        "pokemon_label_df = pd.read_csv(csv_path)\n",
        "pokemon_label_df"
      ],
      "metadata": {
        "colab": {
          "base_uri": "https://localhost:8080/",
          "height": 0
        },
        "id": "WHOui6RFGGVl",
        "outputId": "c8509caf-96ad-4492-9445-5de2d411d81c"
      },
      "execution_count": 273,
      "outputs": [
        {
          "output_type": "execute_result",
          "data": {
            "text/plain": [
              "            Name     Type1   Type2\n",
              "0      bulbasaur     Grass  Poison\n",
              "1        ivysaur     Grass  Poison\n",
              "2       venusaur     Grass  Poison\n",
              "3     charmander      Fire     NaN\n",
              "4     charmeleon      Fire     NaN\n",
              "..           ...       ...     ...\n",
              "804    stakataka      Rock   Steel\n",
              "805  blacephalon      Fire   Ghost\n",
              "806      zeraora  Electric     NaN\n",
              "807       meltan     Steel     NaN\n",
              "808     melmetal     Steel     NaN\n",
              "\n",
              "[809 rows x 3 columns]"
            ],
            "text/html": [
              "\n",
              "  <div id=\"df-9c253752-420a-4858-940b-90d995446269\">\n",
              "    <div class=\"colab-df-container\">\n",
              "      <div>\n",
              "<style scoped>\n",
              "    .dataframe tbody tr th:only-of-type {\n",
              "        vertical-align: middle;\n",
              "    }\n",
              "\n",
              "    .dataframe tbody tr th {\n",
              "        vertical-align: top;\n",
              "    }\n",
              "\n",
              "    .dataframe thead th {\n",
              "        text-align: right;\n",
              "    }\n",
              "</style>\n",
              "<table border=\"1\" class=\"dataframe\">\n",
              "  <thead>\n",
              "    <tr style=\"text-align: right;\">\n",
              "      <th></th>\n",
              "      <th>Name</th>\n",
              "      <th>Type1</th>\n",
              "      <th>Type2</th>\n",
              "    </tr>\n",
              "  </thead>\n",
              "  <tbody>\n",
              "    <tr>\n",
              "      <th>0</th>\n",
              "      <td>bulbasaur</td>\n",
              "      <td>Grass</td>\n",
              "      <td>Poison</td>\n",
              "    </tr>\n",
              "    <tr>\n",
              "      <th>1</th>\n",
              "      <td>ivysaur</td>\n",
              "      <td>Grass</td>\n",
              "      <td>Poison</td>\n",
              "    </tr>\n",
              "    <tr>\n",
              "      <th>2</th>\n",
              "      <td>venusaur</td>\n",
              "      <td>Grass</td>\n",
              "      <td>Poison</td>\n",
              "    </tr>\n",
              "    <tr>\n",
              "      <th>3</th>\n",
              "      <td>charmander</td>\n",
              "      <td>Fire</td>\n",
              "      <td>NaN</td>\n",
              "    </tr>\n",
              "    <tr>\n",
              "      <th>4</th>\n",
              "      <td>charmeleon</td>\n",
              "      <td>Fire</td>\n",
              "      <td>NaN</td>\n",
              "    </tr>\n",
              "    <tr>\n",
              "      <th>...</th>\n",
              "      <td>...</td>\n",
              "      <td>...</td>\n",
              "      <td>...</td>\n",
              "    </tr>\n",
              "    <tr>\n",
              "      <th>804</th>\n",
              "      <td>stakataka</td>\n",
              "      <td>Rock</td>\n",
              "      <td>Steel</td>\n",
              "    </tr>\n",
              "    <tr>\n",
              "      <th>805</th>\n",
              "      <td>blacephalon</td>\n",
              "      <td>Fire</td>\n",
              "      <td>Ghost</td>\n",
              "    </tr>\n",
              "    <tr>\n",
              "      <th>806</th>\n",
              "      <td>zeraora</td>\n",
              "      <td>Electric</td>\n",
              "      <td>NaN</td>\n",
              "    </tr>\n",
              "    <tr>\n",
              "      <th>807</th>\n",
              "      <td>meltan</td>\n",
              "      <td>Steel</td>\n",
              "      <td>NaN</td>\n",
              "    </tr>\n",
              "    <tr>\n",
              "      <th>808</th>\n",
              "      <td>melmetal</td>\n",
              "      <td>Steel</td>\n",
              "      <td>NaN</td>\n",
              "    </tr>\n",
              "  </tbody>\n",
              "</table>\n",
              "<p>809 rows × 3 columns</p>\n",
              "</div>\n",
              "      <button class=\"colab-df-convert\" onclick=\"convertToInteractive('df-9c253752-420a-4858-940b-90d995446269')\"\n",
              "              title=\"Convert this dataframe to an interactive table.\"\n",
              "              style=\"display:none;\">\n",
              "        \n",
              "  <svg xmlns=\"http://www.w3.org/2000/svg\" height=\"24px\"viewBox=\"0 0 24 24\"\n",
              "       width=\"24px\">\n",
              "    <path d=\"M0 0h24v24H0V0z\" fill=\"none\"/>\n",
              "    <path d=\"M18.56 5.44l.94 2.06.94-2.06 2.06-.94-2.06-.94-.94-2.06-.94 2.06-2.06.94zm-11 1L8.5 8.5l.94-2.06 2.06-.94-2.06-.94L8.5 2.5l-.94 2.06-2.06.94zm10 10l.94 2.06.94-2.06 2.06-.94-2.06-.94-.94-2.06-.94 2.06-2.06.94z\"/><path d=\"M17.41 7.96l-1.37-1.37c-.4-.4-.92-.59-1.43-.59-.52 0-1.04.2-1.43.59L10.3 9.45l-7.72 7.72c-.78.78-.78 2.05 0 2.83L4 21.41c.39.39.9.59 1.41.59.51 0 1.02-.2 1.41-.59l7.78-7.78 2.81-2.81c.8-.78.8-2.07 0-2.86zM5.41 20L4 18.59l7.72-7.72 1.47 1.35L5.41 20z\"/>\n",
              "  </svg>\n",
              "      </button>\n",
              "      \n",
              "  <style>\n",
              "    .colab-df-container {\n",
              "      display:flex;\n",
              "      flex-wrap:wrap;\n",
              "      gap: 12px;\n",
              "    }\n",
              "\n",
              "    .colab-df-convert {\n",
              "      background-color: #E8F0FE;\n",
              "      border: none;\n",
              "      border-radius: 50%;\n",
              "      cursor: pointer;\n",
              "      display: none;\n",
              "      fill: #1967D2;\n",
              "      height: 32px;\n",
              "      padding: 0 0 0 0;\n",
              "      width: 32px;\n",
              "    }\n",
              "\n",
              "    .colab-df-convert:hover {\n",
              "      background-color: #E2EBFA;\n",
              "      box-shadow: 0px 1px 2px rgba(60, 64, 67, 0.3), 0px 1px 3px 1px rgba(60, 64, 67, 0.15);\n",
              "      fill: #174EA6;\n",
              "    }\n",
              "\n",
              "    [theme=dark] .colab-df-convert {\n",
              "      background-color: #3B4455;\n",
              "      fill: #D2E3FC;\n",
              "    }\n",
              "\n",
              "    [theme=dark] .colab-df-convert:hover {\n",
              "      background-color: #434B5C;\n",
              "      box-shadow: 0px 1px 3px 1px rgba(0, 0, 0, 0.15);\n",
              "      filter: drop-shadow(0px 1px 2px rgba(0, 0, 0, 0.3));\n",
              "      fill: #FFFFFF;\n",
              "    }\n",
              "  </style>\n",
              "\n",
              "      <script>\n",
              "        const buttonEl =\n",
              "          document.querySelector('#df-9c253752-420a-4858-940b-90d995446269 button.colab-df-convert');\n",
              "        buttonEl.style.display =\n",
              "          google.colab.kernel.accessAllowed ? 'block' : 'none';\n",
              "\n",
              "        async function convertToInteractive(key) {\n",
              "          const element = document.querySelector('#df-9c253752-420a-4858-940b-90d995446269');\n",
              "          const dataTable =\n",
              "            await google.colab.kernel.invokeFunction('convertToInteractive',\n",
              "                                                     [key], {});\n",
              "          if (!dataTable) return;\n",
              "\n",
              "          const docLinkHtml = 'Like what you see? Visit the ' +\n",
              "            '<a target=\"_blank\" href=https://colab.research.google.com/notebooks/data_table.ipynb>data table notebook</a>'\n",
              "            + ' to learn more about interactive tables.';\n",
              "          element.innerHTML = '';\n",
              "          dataTable['output_type'] = 'display_data';\n",
              "          await google.colab.output.renderOutput(dataTable, element);\n",
              "          const docLink = document.createElement('div');\n",
              "          docLink.innerHTML = docLinkHtml;\n",
              "          element.appendChild(docLink);\n",
              "        }\n",
              "      </script>\n",
              "    </div>\n",
              "  </div>\n",
              "  "
            ]
          },
          "metadata": {},
          "execution_count": 273
        }
      ]
    },
    {
      "cell_type": "code",
      "source": [
        "pokemon_label_df.query(\"Type1 == 'Water'\")"
      ],
      "metadata": {
        "colab": {
          "base_uri": "https://localhost:8080/",
          "height": 0
        },
        "id": "ur7v7zJrKw34",
        "outputId": "24fbe51a-3bae-49ff-a0e5-18b9a1ec7943"
      },
      "execution_count": 274,
      "outputs": [
        {
          "output_type": "execute_result",
          "data": {
            "text/plain": [
              "          Name  Type1    Type2\n",
              "6     squirtle  Water      NaN\n",
              "7    wartortle  Water      NaN\n",
              "8    blastoise  Water      NaN\n",
              "53     psyduck  Water      NaN\n",
              "54     golduck  Water      NaN\n",
              "..         ...    ...      ...\n",
              "750   dewpider  Water      Bug\n",
              "751  araquanid  Water      Bug\n",
              "770  pyukumuku  Water      NaN\n",
              "778    bruxish  Water  Psychic\n",
              "787  tapu-fini  Water    Fairy\n",
              "\n",
              "[114 rows x 3 columns]"
            ],
            "text/html": [
              "\n",
              "  <div id=\"df-a91af34a-af82-4082-9a5a-f52226efc7e6\">\n",
              "    <div class=\"colab-df-container\">\n",
              "      <div>\n",
              "<style scoped>\n",
              "    .dataframe tbody tr th:only-of-type {\n",
              "        vertical-align: middle;\n",
              "    }\n",
              "\n",
              "    .dataframe tbody tr th {\n",
              "        vertical-align: top;\n",
              "    }\n",
              "\n",
              "    .dataframe thead th {\n",
              "        text-align: right;\n",
              "    }\n",
              "</style>\n",
              "<table border=\"1\" class=\"dataframe\">\n",
              "  <thead>\n",
              "    <tr style=\"text-align: right;\">\n",
              "      <th></th>\n",
              "      <th>Name</th>\n",
              "      <th>Type1</th>\n",
              "      <th>Type2</th>\n",
              "    </tr>\n",
              "  </thead>\n",
              "  <tbody>\n",
              "    <tr>\n",
              "      <th>6</th>\n",
              "      <td>squirtle</td>\n",
              "      <td>Water</td>\n",
              "      <td>NaN</td>\n",
              "    </tr>\n",
              "    <tr>\n",
              "      <th>7</th>\n",
              "      <td>wartortle</td>\n",
              "      <td>Water</td>\n",
              "      <td>NaN</td>\n",
              "    </tr>\n",
              "    <tr>\n",
              "      <th>8</th>\n",
              "      <td>blastoise</td>\n",
              "      <td>Water</td>\n",
              "      <td>NaN</td>\n",
              "    </tr>\n",
              "    <tr>\n",
              "      <th>53</th>\n",
              "      <td>psyduck</td>\n",
              "      <td>Water</td>\n",
              "      <td>NaN</td>\n",
              "    </tr>\n",
              "    <tr>\n",
              "      <th>54</th>\n",
              "      <td>golduck</td>\n",
              "      <td>Water</td>\n",
              "      <td>NaN</td>\n",
              "    </tr>\n",
              "    <tr>\n",
              "      <th>...</th>\n",
              "      <td>...</td>\n",
              "      <td>...</td>\n",
              "      <td>...</td>\n",
              "    </tr>\n",
              "    <tr>\n",
              "      <th>750</th>\n",
              "      <td>dewpider</td>\n",
              "      <td>Water</td>\n",
              "      <td>Bug</td>\n",
              "    </tr>\n",
              "    <tr>\n",
              "      <th>751</th>\n",
              "      <td>araquanid</td>\n",
              "      <td>Water</td>\n",
              "      <td>Bug</td>\n",
              "    </tr>\n",
              "    <tr>\n",
              "      <th>770</th>\n",
              "      <td>pyukumuku</td>\n",
              "      <td>Water</td>\n",
              "      <td>NaN</td>\n",
              "    </tr>\n",
              "    <tr>\n",
              "      <th>778</th>\n",
              "      <td>bruxish</td>\n",
              "      <td>Water</td>\n",
              "      <td>Psychic</td>\n",
              "    </tr>\n",
              "    <tr>\n",
              "      <th>787</th>\n",
              "      <td>tapu-fini</td>\n",
              "      <td>Water</td>\n",
              "      <td>Fairy</td>\n",
              "    </tr>\n",
              "  </tbody>\n",
              "</table>\n",
              "<p>114 rows × 3 columns</p>\n",
              "</div>\n",
              "      <button class=\"colab-df-convert\" onclick=\"convertToInteractive('df-a91af34a-af82-4082-9a5a-f52226efc7e6')\"\n",
              "              title=\"Convert this dataframe to an interactive table.\"\n",
              "              style=\"display:none;\">\n",
              "        \n",
              "  <svg xmlns=\"http://www.w3.org/2000/svg\" height=\"24px\"viewBox=\"0 0 24 24\"\n",
              "       width=\"24px\">\n",
              "    <path d=\"M0 0h24v24H0V0z\" fill=\"none\"/>\n",
              "    <path d=\"M18.56 5.44l.94 2.06.94-2.06 2.06-.94-2.06-.94-.94-2.06-.94 2.06-2.06.94zm-11 1L8.5 8.5l.94-2.06 2.06-.94-2.06-.94L8.5 2.5l-.94 2.06-2.06.94zm10 10l.94 2.06.94-2.06 2.06-.94-2.06-.94-.94-2.06-.94 2.06-2.06.94z\"/><path d=\"M17.41 7.96l-1.37-1.37c-.4-.4-.92-.59-1.43-.59-.52 0-1.04.2-1.43.59L10.3 9.45l-7.72 7.72c-.78.78-.78 2.05 0 2.83L4 21.41c.39.39.9.59 1.41.59.51 0 1.02-.2 1.41-.59l7.78-7.78 2.81-2.81c.8-.78.8-2.07 0-2.86zM5.41 20L4 18.59l7.72-7.72 1.47 1.35L5.41 20z\"/>\n",
              "  </svg>\n",
              "      </button>\n",
              "      \n",
              "  <style>\n",
              "    .colab-df-container {\n",
              "      display:flex;\n",
              "      flex-wrap:wrap;\n",
              "      gap: 12px;\n",
              "    }\n",
              "\n",
              "    .colab-df-convert {\n",
              "      background-color: #E8F0FE;\n",
              "      border: none;\n",
              "      border-radius: 50%;\n",
              "      cursor: pointer;\n",
              "      display: none;\n",
              "      fill: #1967D2;\n",
              "      height: 32px;\n",
              "      padding: 0 0 0 0;\n",
              "      width: 32px;\n",
              "    }\n",
              "\n",
              "    .colab-df-convert:hover {\n",
              "      background-color: #E2EBFA;\n",
              "      box-shadow: 0px 1px 2px rgba(60, 64, 67, 0.3), 0px 1px 3px 1px rgba(60, 64, 67, 0.15);\n",
              "      fill: #174EA6;\n",
              "    }\n",
              "\n",
              "    [theme=dark] .colab-df-convert {\n",
              "      background-color: #3B4455;\n",
              "      fill: #D2E3FC;\n",
              "    }\n",
              "\n",
              "    [theme=dark] .colab-df-convert:hover {\n",
              "      background-color: #434B5C;\n",
              "      box-shadow: 0px 1px 3px 1px rgba(0, 0, 0, 0.15);\n",
              "      filter: drop-shadow(0px 1px 2px rgba(0, 0, 0, 0.3));\n",
              "      fill: #FFFFFF;\n",
              "    }\n",
              "  </style>\n",
              "\n",
              "      <script>\n",
              "        const buttonEl =\n",
              "          document.querySelector('#df-a91af34a-af82-4082-9a5a-f52226efc7e6 button.colab-df-convert');\n",
              "        buttonEl.style.display =\n",
              "          google.colab.kernel.accessAllowed ? 'block' : 'none';\n",
              "\n",
              "        async function convertToInteractive(key) {\n",
              "          const element = document.querySelector('#df-a91af34a-af82-4082-9a5a-f52226efc7e6');\n",
              "          const dataTable =\n",
              "            await google.colab.kernel.invokeFunction('convertToInteractive',\n",
              "                                                     [key], {});\n",
              "          if (!dataTable) return;\n",
              "\n",
              "          const docLinkHtml = 'Like what you see? Visit the ' +\n",
              "            '<a target=\"_blank\" href=https://colab.research.google.com/notebooks/data_table.ipynb>data table notebook</a>'\n",
              "            + ' to learn more about interactive tables.';\n",
              "          element.innerHTML = '';\n",
              "          dataTable['output_type'] = 'display_data';\n",
              "          await google.colab.output.renderOutput(dataTable, element);\n",
              "          const docLink = document.createElement('div');\n",
              "          docLink.innerHTML = docLinkHtml;\n",
              "          element.appendChild(docLink);\n",
              "        }\n",
              "      </script>\n",
              "    </div>\n",
              "  </div>\n",
              "  "
            ]
          },
          "metadata": {},
          "execution_count": 274
        }
      ]
    },
    {
      "cell_type": "markdown",
      "source": [
        "Observando os labels de cada classe e sua contagem"
      ],
      "metadata": {
        "id": "Rk7mTbUwNJiw"
      }
    },
    {
      "cell_type": "code",
      "source": [
        "pokemon_label_df['Type1'].value_counts()"
      ],
      "metadata": {
        "colab": {
          "base_uri": "https://localhost:8080/"
        },
        "id": "tlZChlxtKB5J",
        "outputId": "44237b9f-9593-4fd5-b2ce-1cf2421a858e"
      },
      "execution_count": 275,
      "outputs": [
        {
          "output_type": "execute_result",
          "data": {
            "text/plain": [
              "Water       114\n",
              "Normal      105\n",
              "Grass        78\n",
              "Bug          72\n",
              "Fire         53\n",
              "Psychic      53\n",
              "Rock         46\n",
              "Electric     40\n",
              "Poison       34\n",
              "Ground       32\n",
              "Dark         29\n",
              "Fighting     29\n",
              "Ghost        27\n",
              "Dragon       27\n",
              "Steel        26\n",
              "Ice          23\n",
              "Fairy        18\n",
              "Flying        3\n",
              "Name: Type1, dtype: int64"
            ]
          },
          "metadata": {},
          "execution_count": 275
        }
      ]
    },
    {
      "cell_type": "code",
      "source": [
        "types = pokemon_label_df['Type1'].value_counts().keys()\n",
        "count_types = pokemon_label_df['Type1'].value_counts().values\n",
        "print(types)\n",
        "print(count_types)"
      ],
      "metadata": {
        "colab": {
          "base_uri": "https://localhost:8080/"
        },
        "id": "bCteq60qIUwS",
        "outputId": "ccdb134b-0a36-4ce5-f6ba-6a4f2c9d1deb"
      },
      "execution_count": 276,
      "outputs": [
        {
          "output_type": "stream",
          "name": "stdout",
          "text": [
            "Index(['Water', 'Normal', 'Grass', 'Bug', 'Fire', 'Psychic', 'Rock',\n",
            "       'Electric', 'Poison', 'Ground', 'Dark', 'Fighting', 'Ghost', 'Dragon',\n",
            "       'Steel', 'Ice', 'Fairy', 'Flying'],\n",
            "      dtype='object')\n",
            "[114 105  78  72  53  53  46  40  34  32  29  29  27  27  26  23  18   3]\n"
          ]
        }
      ]
    },
    {
      "cell_type": "code",
      "source": [
        "fig = px.bar(pokemon_label_df['Type1'], x = types, y = count_types, color = count_types)\n",
        "fig.show()"
      ],
      "metadata": {
        "colab": {
          "base_uri": "https://localhost:8080/",
          "height": 0
        },
        "id": "E4w3e_uDHmnq",
        "outputId": "2b3dd771-2ff0-46a6-af0f-b135a316b15b"
      },
      "execution_count": 277,
      "outputs": [
        {
          "output_type": "display_data",
          "data": {
            "text/html": [
              "<html>\n",
              "<head><meta charset=\"utf-8\" /></head>\n",
              "<body>\n",
              "    <div>            <script src=\"https://cdnjs.cloudflare.com/ajax/libs/mathjax/2.7.5/MathJax.js?config=TeX-AMS-MML_SVG\"></script><script type=\"text/javascript\">if (window.MathJax) {MathJax.Hub.Config({SVG: {font: \"STIX-Web\"}});}</script>                <script type=\"text/javascript\">window.PlotlyConfig = {MathJaxConfig: 'local'};</script>\n",
              "        <script src=\"https://cdn.plot.ly/plotly-2.8.3.min.js\"></script>                <div id=\"6ebbf8f2-547d-4fc6-afdf-39ae59a66b29\" class=\"plotly-graph-div\" style=\"height:525px; width:100%;\"></div>            <script type=\"text/javascript\">                                    window.PLOTLYENV=window.PLOTLYENV || {};                                    if (document.getElementById(\"6ebbf8f2-547d-4fc6-afdf-39ae59a66b29\")) {                    Plotly.newPlot(                        \"6ebbf8f2-547d-4fc6-afdf-39ae59a66b29\",                        [{\"alignmentgroup\":\"True\",\"hovertemplate\":\"x=%{x}<br>y=%{y}<br>color=%{marker.color}<extra></extra>\",\"legendgroup\":\"\",\"marker\":{\"color\":[114,105,78,72,53,53,46,40,34,32,29,29,27,27,26,23,18,3],\"coloraxis\":\"coloraxis\",\"pattern\":{\"shape\":\"\"}},\"name\":\"\",\"offsetgroup\":\"\",\"orientation\":\"v\",\"showlegend\":false,\"textposition\":\"auto\",\"x\":[\"Water\",\"Normal\",\"Grass\",\"Bug\",\"Fire\",\"Psychic\",\"Rock\",\"Electric\",\"Poison\",\"Ground\",\"Dark\",\"Fighting\",\"Ghost\",\"Dragon\",\"Steel\",\"Ice\",\"Fairy\",\"Flying\"],\"xaxis\":\"x\",\"y\":[114,105,78,72,53,53,46,40,34,32,29,29,27,27,26,23,18,3],\"yaxis\":\"y\",\"type\":\"bar\"}],                        {\"template\":{\"data\":{\"bar\":[{\"error_x\":{\"color\":\"#2a3f5f\"},\"error_y\":{\"color\":\"#2a3f5f\"},\"marker\":{\"line\":{\"color\":\"#E5ECF6\",\"width\":0.5},\"pattern\":{\"fillmode\":\"overlay\",\"size\":10,\"solidity\":0.2}},\"type\":\"bar\"}],\"barpolar\":[{\"marker\":{\"line\":{\"color\":\"#E5ECF6\",\"width\":0.5},\"pattern\":{\"fillmode\":\"overlay\",\"size\":10,\"solidity\":0.2}},\"type\":\"barpolar\"}],\"carpet\":[{\"aaxis\":{\"endlinecolor\":\"#2a3f5f\",\"gridcolor\":\"white\",\"linecolor\":\"white\",\"minorgridcolor\":\"white\",\"startlinecolor\":\"#2a3f5f\"},\"baxis\":{\"endlinecolor\":\"#2a3f5f\",\"gridcolor\":\"white\",\"linecolor\":\"white\",\"minorgridcolor\":\"white\",\"startlinecolor\":\"#2a3f5f\"},\"type\":\"carpet\"}],\"choropleth\":[{\"colorbar\":{\"outlinewidth\":0,\"ticks\":\"\"},\"type\":\"choropleth\"}],\"contour\":[{\"colorbar\":{\"outlinewidth\":0,\"ticks\":\"\"},\"colorscale\":[[0.0,\"#0d0887\"],[0.1111111111111111,\"#46039f\"],[0.2222222222222222,\"#7201a8\"],[0.3333333333333333,\"#9c179e\"],[0.4444444444444444,\"#bd3786\"],[0.5555555555555556,\"#d8576b\"],[0.6666666666666666,\"#ed7953\"],[0.7777777777777778,\"#fb9f3a\"],[0.8888888888888888,\"#fdca26\"],[1.0,\"#f0f921\"]],\"type\":\"contour\"}],\"contourcarpet\":[{\"colorbar\":{\"outlinewidth\":0,\"ticks\":\"\"},\"type\":\"contourcarpet\"}],\"heatmap\":[{\"colorbar\":{\"outlinewidth\":0,\"ticks\":\"\"},\"colorscale\":[[0.0,\"#0d0887\"],[0.1111111111111111,\"#46039f\"],[0.2222222222222222,\"#7201a8\"],[0.3333333333333333,\"#9c179e\"],[0.4444444444444444,\"#bd3786\"],[0.5555555555555556,\"#d8576b\"],[0.6666666666666666,\"#ed7953\"],[0.7777777777777778,\"#fb9f3a\"],[0.8888888888888888,\"#fdca26\"],[1.0,\"#f0f921\"]],\"type\":\"heatmap\"}],\"heatmapgl\":[{\"colorbar\":{\"outlinewidth\":0,\"ticks\":\"\"},\"colorscale\":[[0.0,\"#0d0887\"],[0.1111111111111111,\"#46039f\"],[0.2222222222222222,\"#7201a8\"],[0.3333333333333333,\"#9c179e\"],[0.4444444444444444,\"#bd3786\"],[0.5555555555555556,\"#d8576b\"],[0.6666666666666666,\"#ed7953\"],[0.7777777777777778,\"#fb9f3a\"],[0.8888888888888888,\"#fdca26\"],[1.0,\"#f0f921\"]],\"type\":\"heatmapgl\"}],\"histogram\":[{\"marker\":{\"pattern\":{\"fillmode\":\"overlay\",\"size\":10,\"solidity\":0.2}},\"type\":\"histogram\"}],\"histogram2d\":[{\"colorbar\":{\"outlinewidth\":0,\"ticks\":\"\"},\"colorscale\":[[0.0,\"#0d0887\"],[0.1111111111111111,\"#46039f\"],[0.2222222222222222,\"#7201a8\"],[0.3333333333333333,\"#9c179e\"],[0.4444444444444444,\"#bd3786\"],[0.5555555555555556,\"#d8576b\"],[0.6666666666666666,\"#ed7953\"],[0.7777777777777778,\"#fb9f3a\"],[0.8888888888888888,\"#fdca26\"],[1.0,\"#f0f921\"]],\"type\":\"histogram2d\"}],\"histogram2dcontour\":[{\"colorbar\":{\"outlinewidth\":0,\"ticks\":\"\"},\"colorscale\":[[0.0,\"#0d0887\"],[0.1111111111111111,\"#46039f\"],[0.2222222222222222,\"#7201a8\"],[0.3333333333333333,\"#9c179e\"],[0.4444444444444444,\"#bd3786\"],[0.5555555555555556,\"#d8576b\"],[0.6666666666666666,\"#ed7953\"],[0.7777777777777778,\"#fb9f3a\"],[0.8888888888888888,\"#fdca26\"],[1.0,\"#f0f921\"]],\"type\":\"histogram2dcontour\"}],\"mesh3d\":[{\"colorbar\":{\"outlinewidth\":0,\"ticks\":\"\"},\"type\":\"mesh3d\"}],\"parcoords\":[{\"line\":{\"colorbar\":{\"outlinewidth\":0,\"ticks\":\"\"}},\"type\":\"parcoords\"}],\"pie\":[{\"automargin\":true,\"type\":\"pie\"}],\"scatter\":[{\"marker\":{\"colorbar\":{\"outlinewidth\":0,\"ticks\":\"\"}},\"type\":\"scatter\"}],\"scatter3d\":[{\"line\":{\"colorbar\":{\"outlinewidth\":0,\"ticks\":\"\"}},\"marker\":{\"colorbar\":{\"outlinewidth\":0,\"ticks\":\"\"}},\"type\":\"scatter3d\"}],\"scattercarpet\":[{\"marker\":{\"colorbar\":{\"outlinewidth\":0,\"ticks\":\"\"}},\"type\":\"scattercarpet\"}],\"scattergeo\":[{\"marker\":{\"colorbar\":{\"outlinewidth\":0,\"ticks\":\"\"}},\"type\":\"scattergeo\"}],\"scattergl\":[{\"marker\":{\"colorbar\":{\"outlinewidth\":0,\"ticks\":\"\"}},\"type\":\"scattergl\"}],\"scattermapbox\":[{\"marker\":{\"colorbar\":{\"outlinewidth\":0,\"ticks\":\"\"}},\"type\":\"scattermapbox\"}],\"scatterpolar\":[{\"marker\":{\"colorbar\":{\"outlinewidth\":0,\"ticks\":\"\"}},\"type\":\"scatterpolar\"}],\"scatterpolargl\":[{\"marker\":{\"colorbar\":{\"outlinewidth\":0,\"ticks\":\"\"}},\"type\":\"scatterpolargl\"}],\"scatterternary\":[{\"marker\":{\"colorbar\":{\"outlinewidth\":0,\"ticks\":\"\"}},\"type\":\"scatterternary\"}],\"surface\":[{\"colorbar\":{\"outlinewidth\":0,\"ticks\":\"\"},\"colorscale\":[[0.0,\"#0d0887\"],[0.1111111111111111,\"#46039f\"],[0.2222222222222222,\"#7201a8\"],[0.3333333333333333,\"#9c179e\"],[0.4444444444444444,\"#bd3786\"],[0.5555555555555556,\"#d8576b\"],[0.6666666666666666,\"#ed7953\"],[0.7777777777777778,\"#fb9f3a\"],[0.8888888888888888,\"#fdca26\"],[1.0,\"#f0f921\"]],\"type\":\"surface\"}],\"table\":[{\"cells\":{\"fill\":{\"color\":\"#EBF0F8\"},\"line\":{\"color\":\"white\"}},\"header\":{\"fill\":{\"color\":\"#C8D4E3\"},\"line\":{\"color\":\"white\"}},\"type\":\"table\"}]},\"layout\":{\"annotationdefaults\":{\"arrowcolor\":\"#2a3f5f\",\"arrowhead\":0,\"arrowwidth\":1},\"autotypenumbers\":\"strict\",\"coloraxis\":{\"colorbar\":{\"outlinewidth\":0,\"ticks\":\"\"}},\"colorscale\":{\"diverging\":[[0,\"#8e0152\"],[0.1,\"#c51b7d\"],[0.2,\"#de77ae\"],[0.3,\"#f1b6da\"],[0.4,\"#fde0ef\"],[0.5,\"#f7f7f7\"],[0.6,\"#e6f5d0\"],[0.7,\"#b8e186\"],[0.8,\"#7fbc41\"],[0.9,\"#4d9221\"],[1,\"#276419\"]],\"sequential\":[[0.0,\"#0d0887\"],[0.1111111111111111,\"#46039f\"],[0.2222222222222222,\"#7201a8\"],[0.3333333333333333,\"#9c179e\"],[0.4444444444444444,\"#bd3786\"],[0.5555555555555556,\"#d8576b\"],[0.6666666666666666,\"#ed7953\"],[0.7777777777777778,\"#fb9f3a\"],[0.8888888888888888,\"#fdca26\"],[1.0,\"#f0f921\"]],\"sequentialminus\":[[0.0,\"#0d0887\"],[0.1111111111111111,\"#46039f\"],[0.2222222222222222,\"#7201a8\"],[0.3333333333333333,\"#9c179e\"],[0.4444444444444444,\"#bd3786\"],[0.5555555555555556,\"#d8576b\"],[0.6666666666666666,\"#ed7953\"],[0.7777777777777778,\"#fb9f3a\"],[0.8888888888888888,\"#fdca26\"],[1.0,\"#f0f921\"]]},\"colorway\":[\"#636efa\",\"#EF553B\",\"#00cc96\",\"#ab63fa\",\"#FFA15A\",\"#19d3f3\",\"#FF6692\",\"#B6E880\",\"#FF97FF\",\"#FECB52\"],\"font\":{\"color\":\"#2a3f5f\"},\"geo\":{\"bgcolor\":\"white\",\"lakecolor\":\"white\",\"landcolor\":\"#E5ECF6\",\"showlakes\":true,\"showland\":true,\"subunitcolor\":\"white\"},\"hoverlabel\":{\"align\":\"left\"},\"hovermode\":\"closest\",\"mapbox\":{\"style\":\"light\"},\"paper_bgcolor\":\"white\",\"plot_bgcolor\":\"#E5ECF6\",\"polar\":{\"angularaxis\":{\"gridcolor\":\"white\",\"linecolor\":\"white\",\"ticks\":\"\"},\"bgcolor\":\"#E5ECF6\",\"radialaxis\":{\"gridcolor\":\"white\",\"linecolor\":\"white\",\"ticks\":\"\"}},\"scene\":{\"xaxis\":{\"backgroundcolor\":\"#E5ECF6\",\"gridcolor\":\"white\",\"gridwidth\":2,\"linecolor\":\"white\",\"showbackground\":true,\"ticks\":\"\",\"zerolinecolor\":\"white\"},\"yaxis\":{\"backgroundcolor\":\"#E5ECF6\",\"gridcolor\":\"white\",\"gridwidth\":2,\"linecolor\":\"white\",\"showbackground\":true,\"ticks\":\"\",\"zerolinecolor\":\"white\"},\"zaxis\":{\"backgroundcolor\":\"#E5ECF6\",\"gridcolor\":\"white\",\"gridwidth\":2,\"linecolor\":\"white\",\"showbackground\":true,\"ticks\":\"\",\"zerolinecolor\":\"white\"}},\"shapedefaults\":{\"line\":{\"color\":\"#2a3f5f\"}},\"ternary\":{\"aaxis\":{\"gridcolor\":\"white\",\"linecolor\":\"white\",\"ticks\":\"\"},\"baxis\":{\"gridcolor\":\"white\",\"linecolor\":\"white\",\"ticks\":\"\"},\"bgcolor\":\"#E5ECF6\",\"caxis\":{\"gridcolor\":\"white\",\"linecolor\":\"white\",\"ticks\":\"\"}},\"title\":{\"x\":0.05},\"xaxis\":{\"automargin\":true,\"gridcolor\":\"white\",\"linecolor\":\"white\",\"ticks\":\"\",\"title\":{\"standoff\":15},\"zerolinecolor\":\"white\",\"zerolinewidth\":2},\"yaxis\":{\"automargin\":true,\"gridcolor\":\"white\",\"linecolor\":\"white\",\"ticks\":\"\",\"title\":{\"standoff\":15},\"zerolinecolor\":\"white\",\"zerolinewidth\":2}}},\"xaxis\":{\"anchor\":\"y\",\"domain\":[0.0,1.0],\"title\":{\"text\":\"x\"}},\"yaxis\":{\"anchor\":\"x\",\"domain\":[0.0,1.0],\"title\":{\"text\":\"y\"}},\"coloraxis\":{\"colorbar\":{\"title\":{\"text\":\"color\"}},\"colorscale\":[[0.0,\"#0d0887\"],[0.1111111111111111,\"#46039f\"],[0.2222222222222222,\"#7201a8\"],[0.3333333333333333,\"#9c179e\"],[0.4444444444444444,\"#bd3786\"],[0.5555555555555556,\"#d8576b\"],[0.6666666666666666,\"#ed7953\"],[0.7777777777777778,\"#fb9f3a\"],[0.8888888888888888,\"#fdca26\"],[1.0,\"#f0f921\"]]},\"legend\":{\"tracegroupgap\":0},\"margin\":{\"t\":60},\"barmode\":\"relative\"},                        {\"responsive\": true}                    ).then(function(){\n",
              "                            \n",
              "var gd = document.getElementById('6ebbf8f2-547d-4fc6-afdf-39ae59a66b29');\n",
              "var x = new MutationObserver(function (mutations, observer) {{\n",
              "        var display = window.getComputedStyle(gd).display;\n",
              "        if (!display || display === 'none') {{\n",
              "            console.log([gd, 'removed!']);\n",
              "            Plotly.purge(gd);\n",
              "            observer.disconnect();\n",
              "        }}\n",
              "}});\n",
              "\n",
              "// Listen for the removal of the full notebook cells\n",
              "var notebookContainer = gd.closest('#notebook-container');\n",
              "if (notebookContainer) {{\n",
              "    x.observe(notebookContainer, {childList: true});\n",
              "}}\n",
              "\n",
              "// Listen for the clearing of the current output cell\n",
              "var outputEl = gd.closest('.output');\n",
              "if (outputEl) {{\n",
              "    x.observe(outputEl, {childList: true});\n",
              "}}\n",
              "\n",
              "                        })                };                            </script>        </div>\n",
              "</body>\n",
              "</html>"
            ]
          },
          "metadata": {}
        }
      ]
    },
    {
      "cell_type": "code",
      "source": [
        "types = pokemon_label_df['Type2'].value_counts().keys()\n",
        "count_types = pokemon_label_df['Type2'].value_counts().values\n",
        "print(types)\n",
        "print(count_types)\n",
        "\n",
        "fig = px.bar(pokemon_label_df['Type2'], x = types, y = count_types, color = count_types)\n",
        "fig.show()"
      ],
      "metadata": {
        "colab": {
          "base_uri": "https://localhost:8080/",
          "height": 0
        },
        "id": "Efx2j2f6LO6Y",
        "outputId": "bdc913f5-f49a-42e2-8238-beaf5e3bbb54"
      },
      "execution_count": 278,
      "outputs": [
        {
          "output_type": "stream",
          "name": "stdout",
          "text": [
            "Index(['Flying', 'Poison', 'Ground', 'Fairy', 'Psychic', 'Fighting', 'Steel',\n",
            "       'Grass', 'Dragon', 'Water', 'Dark', 'Ghost', 'Rock', 'Fire', 'Ice',\n",
            "       'Electric', 'Bug', 'Normal'],\n",
            "      dtype='object')\n",
            "[95 32 32 29 29 25 23 19 18 17 17 16 14 11 11  8  5  4]\n"
          ]
        },
        {
          "output_type": "display_data",
          "data": {
            "text/html": [
              "<html>\n",
              "<head><meta charset=\"utf-8\" /></head>\n",
              "<body>\n",
              "    <div>            <script src=\"https://cdnjs.cloudflare.com/ajax/libs/mathjax/2.7.5/MathJax.js?config=TeX-AMS-MML_SVG\"></script><script type=\"text/javascript\">if (window.MathJax) {MathJax.Hub.Config({SVG: {font: \"STIX-Web\"}});}</script>                <script type=\"text/javascript\">window.PlotlyConfig = {MathJaxConfig: 'local'};</script>\n",
              "        <script src=\"https://cdn.plot.ly/plotly-2.8.3.min.js\"></script>                <div id=\"cd32c368-3b35-4ceb-a037-285c30508a82\" class=\"plotly-graph-div\" style=\"height:525px; width:100%;\"></div>            <script type=\"text/javascript\">                                    window.PLOTLYENV=window.PLOTLYENV || {};                                    if (document.getElementById(\"cd32c368-3b35-4ceb-a037-285c30508a82\")) {                    Plotly.newPlot(                        \"cd32c368-3b35-4ceb-a037-285c30508a82\",                        [{\"alignmentgroup\":\"True\",\"hovertemplate\":\"x=%{x}<br>y=%{y}<br>color=%{marker.color}<extra></extra>\",\"legendgroup\":\"\",\"marker\":{\"color\":[95,32,32,29,29,25,23,19,18,17,17,16,14,11,11,8,5,4],\"coloraxis\":\"coloraxis\",\"pattern\":{\"shape\":\"\"}},\"name\":\"\",\"offsetgroup\":\"\",\"orientation\":\"v\",\"showlegend\":false,\"textposition\":\"auto\",\"x\":[\"Flying\",\"Poison\",\"Ground\",\"Fairy\",\"Psychic\",\"Fighting\",\"Steel\",\"Grass\",\"Dragon\",\"Water\",\"Dark\",\"Ghost\",\"Rock\",\"Fire\",\"Ice\",\"Electric\",\"Bug\",\"Normal\"],\"xaxis\":\"x\",\"y\":[95,32,32,29,29,25,23,19,18,17,17,16,14,11,11,8,5,4],\"yaxis\":\"y\",\"type\":\"bar\"}],                        {\"template\":{\"data\":{\"bar\":[{\"error_x\":{\"color\":\"#2a3f5f\"},\"error_y\":{\"color\":\"#2a3f5f\"},\"marker\":{\"line\":{\"color\":\"#E5ECF6\",\"width\":0.5},\"pattern\":{\"fillmode\":\"overlay\",\"size\":10,\"solidity\":0.2}},\"type\":\"bar\"}],\"barpolar\":[{\"marker\":{\"line\":{\"color\":\"#E5ECF6\",\"width\":0.5},\"pattern\":{\"fillmode\":\"overlay\",\"size\":10,\"solidity\":0.2}},\"type\":\"barpolar\"}],\"carpet\":[{\"aaxis\":{\"endlinecolor\":\"#2a3f5f\",\"gridcolor\":\"white\",\"linecolor\":\"white\",\"minorgridcolor\":\"white\",\"startlinecolor\":\"#2a3f5f\"},\"baxis\":{\"endlinecolor\":\"#2a3f5f\",\"gridcolor\":\"white\",\"linecolor\":\"white\",\"minorgridcolor\":\"white\",\"startlinecolor\":\"#2a3f5f\"},\"type\":\"carpet\"}],\"choropleth\":[{\"colorbar\":{\"outlinewidth\":0,\"ticks\":\"\"},\"type\":\"choropleth\"}],\"contour\":[{\"colorbar\":{\"outlinewidth\":0,\"ticks\":\"\"},\"colorscale\":[[0.0,\"#0d0887\"],[0.1111111111111111,\"#46039f\"],[0.2222222222222222,\"#7201a8\"],[0.3333333333333333,\"#9c179e\"],[0.4444444444444444,\"#bd3786\"],[0.5555555555555556,\"#d8576b\"],[0.6666666666666666,\"#ed7953\"],[0.7777777777777778,\"#fb9f3a\"],[0.8888888888888888,\"#fdca26\"],[1.0,\"#f0f921\"]],\"type\":\"contour\"}],\"contourcarpet\":[{\"colorbar\":{\"outlinewidth\":0,\"ticks\":\"\"},\"type\":\"contourcarpet\"}],\"heatmap\":[{\"colorbar\":{\"outlinewidth\":0,\"ticks\":\"\"},\"colorscale\":[[0.0,\"#0d0887\"],[0.1111111111111111,\"#46039f\"],[0.2222222222222222,\"#7201a8\"],[0.3333333333333333,\"#9c179e\"],[0.4444444444444444,\"#bd3786\"],[0.5555555555555556,\"#d8576b\"],[0.6666666666666666,\"#ed7953\"],[0.7777777777777778,\"#fb9f3a\"],[0.8888888888888888,\"#fdca26\"],[1.0,\"#f0f921\"]],\"type\":\"heatmap\"}],\"heatmapgl\":[{\"colorbar\":{\"outlinewidth\":0,\"ticks\":\"\"},\"colorscale\":[[0.0,\"#0d0887\"],[0.1111111111111111,\"#46039f\"],[0.2222222222222222,\"#7201a8\"],[0.3333333333333333,\"#9c179e\"],[0.4444444444444444,\"#bd3786\"],[0.5555555555555556,\"#d8576b\"],[0.6666666666666666,\"#ed7953\"],[0.7777777777777778,\"#fb9f3a\"],[0.8888888888888888,\"#fdca26\"],[1.0,\"#f0f921\"]],\"type\":\"heatmapgl\"}],\"histogram\":[{\"marker\":{\"pattern\":{\"fillmode\":\"overlay\",\"size\":10,\"solidity\":0.2}},\"type\":\"histogram\"}],\"histogram2d\":[{\"colorbar\":{\"outlinewidth\":0,\"ticks\":\"\"},\"colorscale\":[[0.0,\"#0d0887\"],[0.1111111111111111,\"#46039f\"],[0.2222222222222222,\"#7201a8\"],[0.3333333333333333,\"#9c179e\"],[0.4444444444444444,\"#bd3786\"],[0.5555555555555556,\"#d8576b\"],[0.6666666666666666,\"#ed7953\"],[0.7777777777777778,\"#fb9f3a\"],[0.8888888888888888,\"#fdca26\"],[1.0,\"#f0f921\"]],\"type\":\"histogram2d\"}],\"histogram2dcontour\":[{\"colorbar\":{\"outlinewidth\":0,\"ticks\":\"\"},\"colorscale\":[[0.0,\"#0d0887\"],[0.1111111111111111,\"#46039f\"],[0.2222222222222222,\"#7201a8\"],[0.3333333333333333,\"#9c179e\"],[0.4444444444444444,\"#bd3786\"],[0.5555555555555556,\"#d8576b\"],[0.6666666666666666,\"#ed7953\"],[0.7777777777777778,\"#fb9f3a\"],[0.8888888888888888,\"#fdca26\"],[1.0,\"#f0f921\"]],\"type\":\"histogram2dcontour\"}],\"mesh3d\":[{\"colorbar\":{\"outlinewidth\":0,\"ticks\":\"\"},\"type\":\"mesh3d\"}],\"parcoords\":[{\"line\":{\"colorbar\":{\"outlinewidth\":0,\"ticks\":\"\"}},\"type\":\"parcoords\"}],\"pie\":[{\"automargin\":true,\"type\":\"pie\"}],\"scatter\":[{\"marker\":{\"colorbar\":{\"outlinewidth\":0,\"ticks\":\"\"}},\"type\":\"scatter\"}],\"scatter3d\":[{\"line\":{\"colorbar\":{\"outlinewidth\":0,\"ticks\":\"\"}},\"marker\":{\"colorbar\":{\"outlinewidth\":0,\"ticks\":\"\"}},\"type\":\"scatter3d\"}],\"scattercarpet\":[{\"marker\":{\"colorbar\":{\"outlinewidth\":0,\"ticks\":\"\"}},\"type\":\"scattercarpet\"}],\"scattergeo\":[{\"marker\":{\"colorbar\":{\"outlinewidth\":0,\"ticks\":\"\"}},\"type\":\"scattergeo\"}],\"scattergl\":[{\"marker\":{\"colorbar\":{\"outlinewidth\":0,\"ticks\":\"\"}},\"type\":\"scattergl\"}],\"scattermapbox\":[{\"marker\":{\"colorbar\":{\"outlinewidth\":0,\"ticks\":\"\"}},\"type\":\"scattermapbox\"}],\"scatterpolar\":[{\"marker\":{\"colorbar\":{\"outlinewidth\":0,\"ticks\":\"\"}},\"type\":\"scatterpolar\"}],\"scatterpolargl\":[{\"marker\":{\"colorbar\":{\"outlinewidth\":0,\"ticks\":\"\"}},\"type\":\"scatterpolargl\"}],\"scatterternary\":[{\"marker\":{\"colorbar\":{\"outlinewidth\":0,\"ticks\":\"\"}},\"type\":\"scatterternary\"}],\"surface\":[{\"colorbar\":{\"outlinewidth\":0,\"ticks\":\"\"},\"colorscale\":[[0.0,\"#0d0887\"],[0.1111111111111111,\"#46039f\"],[0.2222222222222222,\"#7201a8\"],[0.3333333333333333,\"#9c179e\"],[0.4444444444444444,\"#bd3786\"],[0.5555555555555556,\"#d8576b\"],[0.6666666666666666,\"#ed7953\"],[0.7777777777777778,\"#fb9f3a\"],[0.8888888888888888,\"#fdca26\"],[1.0,\"#f0f921\"]],\"type\":\"surface\"}],\"table\":[{\"cells\":{\"fill\":{\"color\":\"#EBF0F8\"},\"line\":{\"color\":\"white\"}},\"header\":{\"fill\":{\"color\":\"#C8D4E3\"},\"line\":{\"color\":\"white\"}},\"type\":\"table\"}]},\"layout\":{\"annotationdefaults\":{\"arrowcolor\":\"#2a3f5f\",\"arrowhead\":0,\"arrowwidth\":1},\"autotypenumbers\":\"strict\",\"coloraxis\":{\"colorbar\":{\"outlinewidth\":0,\"ticks\":\"\"}},\"colorscale\":{\"diverging\":[[0,\"#8e0152\"],[0.1,\"#c51b7d\"],[0.2,\"#de77ae\"],[0.3,\"#f1b6da\"],[0.4,\"#fde0ef\"],[0.5,\"#f7f7f7\"],[0.6,\"#e6f5d0\"],[0.7,\"#b8e186\"],[0.8,\"#7fbc41\"],[0.9,\"#4d9221\"],[1,\"#276419\"]],\"sequential\":[[0.0,\"#0d0887\"],[0.1111111111111111,\"#46039f\"],[0.2222222222222222,\"#7201a8\"],[0.3333333333333333,\"#9c179e\"],[0.4444444444444444,\"#bd3786\"],[0.5555555555555556,\"#d8576b\"],[0.6666666666666666,\"#ed7953\"],[0.7777777777777778,\"#fb9f3a\"],[0.8888888888888888,\"#fdca26\"],[1.0,\"#f0f921\"]],\"sequentialminus\":[[0.0,\"#0d0887\"],[0.1111111111111111,\"#46039f\"],[0.2222222222222222,\"#7201a8\"],[0.3333333333333333,\"#9c179e\"],[0.4444444444444444,\"#bd3786\"],[0.5555555555555556,\"#d8576b\"],[0.6666666666666666,\"#ed7953\"],[0.7777777777777778,\"#fb9f3a\"],[0.8888888888888888,\"#fdca26\"],[1.0,\"#f0f921\"]]},\"colorway\":[\"#636efa\",\"#EF553B\",\"#00cc96\",\"#ab63fa\",\"#FFA15A\",\"#19d3f3\",\"#FF6692\",\"#B6E880\",\"#FF97FF\",\"#FECB52\"],\"font\":{\"color\":\"#2a3f5f\"},\"geo\":{\"bgcolor\":\"white\",\"lakecolor\":\"white\",\"landcolor\":\"#E5ECF6\",\"showlakes\":true,\"showland\":true,\"subunitcolor\":\"white\"},\"hoverlabel\":{\"align\":\"left\"},\"hovermode\":\"closest\",\"mapbox\":{\"style\":\"light\"},\"paper_bgcolor\":\"white\",\"plot_bgcolor\":\"#E5ECF6\",\"polar\":{\"angularaxis\":{\"gridcolor\":\"white\",\"linecolor\":\"white\",\"ticks\":\"\"},\"bgcolor\":\"#E5ECF6\",\"radialaxis\":{\"gridcolor\":\"white\",\"linecolor\":\"white\",\"ticks\":\"\"}},\"scene\":{\"xaxis\":{\"backgroundcolor\":\"#E5ECF6\",\"gridcolor\":\"white\",\"gridwidth\":2,\"linecolor\":\"white\",\"showbackground\":true,\"ticks\":\"\",\"zerolinecolor\":\"white\"},\"yaxis\":{\"backgroundcolor\":\"#E5ECF6\",\"gridcolor\":\"white\",\"gridwidth\":2,\"linecolor\":\"white\",\"showbackground\":true,\"ticks\":\"\",\"zerolinecolor\":\"white\"},\"zaxis\":{\"backgroundcolor\":\"#E5ECF6\",\"gridcolor\":\"white\",\"gridwidth\":2,\"linecolor\":\"white\",\"showbackground\":true,\"ticks\":\"\",\"zerolinecolor\":\"white\"}},\"shapedefaults\":{\"line\":{\"color\":\"#2a3f5f\"}},\"ternary\":{\"aaxis\":{\"gridcolor\":\"white\",\"linecolor\":\"white\",\"ticks\":\"\"},\"baxis\":{\"gridcolor\":\"white\",\"linecolor\":\"white\",\"ticks\":\"\"},\"bgcolor\":\"#E5ECF6\",\"caxis\":{\"gridcolor\":\"white\",\"linecolor\":\"white\",\"ticks\":\"\"}},\"title\":{\"x\":0.05},\"xaxis\":{\"automargin\":true,\"gridcolor\":\"white\",\"linecolor\":\"white\",\"ticks\":\"\",\"title\":{\"standoff\":15},\"zerolinecolor\":\"white\",\"zerolinewidth\":2},\"yaxis\":{\"automargin\":true,\"gridcolor\":\"white\",\"linecolor\":\"white\",\"ticks\":\"\",\"title\":{\"standoff\":15},\"zerolinecolor\":\"white\",\"zerolinewidth\":2}}},\"xaxis\":{\"anchor\":\"y\",\"domain\":[0.0,1.0],\"title\":{\"text\":\"x\"}},\"yaxis\":{\"anchor\":\"x\",\"domain\":[0.0,1.0],\"title\":{\"text\":\"y\"}},\"coloraxis\":{\"colorbar\":{\"title\":{\"text\":\"color\"}},\"colorscale\":[[0.0,\"#0d0887\"],[0.1111111111111111,\"#46039f\"],[0.2222222222222222,\"#7201a8\"],[0.3333333333333333,\"#9c179e\"],[0.4444444444444444,\"#bd3786\"],[0.5555555555555556,\"#d8576b\"],[0.6666666666666666,\"#ed7953\"],[0.7777777777777778,\"#fb9f3a\"],[0.8888888888888888,\"#fdca26\"],[1.0,\"#f0f921\"]]},\"legend\":{\"tracegroupgap\":0},\"margin\":{\"t\":60},\"barmode\":\"relative\"},                        {\"responsive\": true}                    ).then(function(){\n",
              "                            \n",
              "var gd = document.getElementById('cd32c368-3b35-4ceb-a037-285c30508a82');\n",
              "var x = new MutationObserver(function (mutations, observer) {{\n",
              "        var display = window.getComputedStyle(gd).display;\n",
              "        if (!display || display === 'none') {{\n",
              "            console.log([gd, 'removed!']);\n",
              "            Plotly.purge(gd);\n",
              "            observer.disconnect();\n",
              "        }}\n",
              "}});\n",
              "\n",
              "// Listen for the removal of the full notebook cells\n",
              "var notebookContainer = gd.closest('#notebook-container');\n",
              "if (notebookContainer) {{\n",
              "    x.observe(notebookContainer, {childList: true});\n",
              "}}\n",
              "\n",
              "// Listen for the clearing of the current output cell\n",
              "var outputEl = gd.closest('.output');\n",
              "if (outputEl) {{\n",
              "    x.observe(outputEl, {childList: true});\n",
              "}}\n",
              "\n",
              "                        })                };                            </script>        </div>\n",
              "</body>\n",
              "</html>"
            ]
          },
          "metadata": {}
        }
      ]
    },
    {
      "cell_type": "markdown",
      "source": [
        "# Preparando as imagens em diretórios\n"
      ],
      "metadata": {
        "id": "aH4VOtKEu7Yu"
      }
    },
    {
      "cell_type": "code",
      "source": [
        "path_exists = True\n",
        "if not path_exists:\n",
        "  for (dirpath, dirnames, filenames) in walk(\"/content/gdrive/MyDrive/datasets/pokemon_classificator/images/\"):\n",
        "    print(\"Directory path: \", dirpath)\n",
        "    print(\"Folder name: \", dirnames)\n",
        "    print(\"File name: \", filenames)\n",
        "    \n",
        "    #Criando as pastas de cada classe\n",
        "\n",
        "    types = pokemon_label_df['Type1'].value_counts().keys()\n",
        "    for poke_types in types:\n",
        "      os.mkdir(DATA_DIR + poke_types)\n",
        "\n",
        "    #Populando as pastas com os pokemons\n",
        "\n",
        "    for image in filenames:\n",
        "      x = image[:-4]\n",
        "      poke_type = pokemon_label_df.query(f\"Name == '{x}'\")['Type1'].values[0]\n",
        "      source = DATA_DIR + 'images/' + image\n",
        "      destination = DATA_DIR + poke_type + '/' + image\n",
        "      os.system(f'cp {source} {destination}')\n",
        "\n",
        "else:\n",
        "  print('Path Already exists on Drive')  "
      ],
      "metadata": {
        "colab": {
          "base_uri": "https://localhost:8080/"
        },
        "id": "vFbSSVl2w2Wq",
        "outputId": "0e148f23-6423-470c-89ed-1e99a3c657ef"
      },
      "execution_count": 279,
      "outputs": [
        {
          "output_type": "stream",
          "name": "stdout",
          "text": [
            "Path Already exists on Drive\n"
          ]
        }
      ]
    },
    {
      "cell_type": "code",
      "source": [
        "source = DATA_DIR + 'images/' + 'abra.png'\n",
        "source"
      ],
      "metadata": {
        "colab": {
          "base_uri": "https://localhost:8080/",
          "height": 36
        },
        "id": "yawX0w86RlA1",
        "outputId": "e9c9af66-c833-4adf-e78e-8505febe9c04"
      },
      "execution_count": 280,
      "outputs": [
        {
          "output_type": "execute_result",
          "data": {
            "text/plain": [
              "'/content/gdrive/MyDrive/datasets/pokemon_classificator/pokemon_typesimages/abra.png'"
            ],
            "application/vnd.google.colaboratory.intrinsic+json": {
              "type": "string"
            }
          },
          "metadata": {},
          "execution_count": 280
        }
      ]
    },
    {
      "cell_type": "markdown",
      "source": [
        "# Definindo o transform e o Dataloader"
      ],
      "metadata": {
        "id": "SxcaB8ZKdh7J"
      }
    },
    {
      "cell_type": "code",
      "source": [
        "transform = T.Compose([\n",
        "            T.ToTensor()])"
      ],
      "metadata": {
        "id": "Bs4f1tONEiZh"
      },
      "execution_count": 281,
      "outputs": []
    },
    {
      "cell_type": "code",
      "source": [
        "DATA_DIR"
      ],
      "metadata": {
        "colab": {
          "base_uri": "https://localhost:8080/",
          "height": 36
        },
        "id": "fCj2_QSmWQHN",
        "outputId": "a3f4ab1f-048a-4b4b-ceba-f7e2c2e57c78"
      },
      "execution_count": 282,
      "outputs": [
        {
          "output_type": "execute_result",
          "data": {
            "text/plain": [
              "'/content/gdrive/MyDrive/datasets/pokemon_classificator/pokemon_types'"
            ],
            "application/vnd.google.colaboratory.intrinsic+json": {
              "type": "string"
            }
          },
          "metadata": {},
          "execution_count": 282
        }
      ]
    },
    {
      "cell_type": "code",
      "source": [
        "dataset = datasets.ImageFolder(DATA_DIR, transform=transform)"
      ],
      "metadata": {
        "id": "koIC-0CvD_Vc"
      },
      "execution_count": 283,
      "outputs": []
    },
    {
      "cell_type": "code",
      "source": [
        "dataloader = torch.utils.data.DataLoader(dataset, batch_size=32, shuffle=True)"
      ],
      "metadata": {
        "id": "UvfXLWgsWa3C"
      },
      "execution_count": 284,
      "outputs": []
    },
    {
      "cell_type": "code",
      "source": [
        "#img = dataloader.dataset[np.random.randint(0, (len(pokemon_label_df) - 1) )][0]\n",
        "#plt.imshow(img.squeeze().permute(1,2,0));"
      ],
      "metadata": {
        "id": "Zlkau8qSdmHB"
      },
      "execution_count": 285,
      "outputs": []
    },
    {
      "cell_type": "code",
      "source": [
        "data_dir = '/content/gdrive/MyDrive/datasets/pokemon_classificator/pokemon_types'"
      ],
      "metadata": {
        "id": "bsFzFJk_3Ieg"
      },
      "execution_count": 286,
      "outputs": []
    },
    {
      "cell_type": "code",
      "source": [
        "image_size = 50"
      ],
      "metadata": {
        "id": "-0CvFxv1k4Iw"
      },
      "execution_count": 287,
      "outputs": []
    },
    {
      "cell_type": "code",
      "source": [
        "from torchvision.transforms.transforms import CenterCrop\n",
        "# TODO: Define transforms for the training data and testing data\n",
        "train_transforms = transforms.Compose([transforms.RandomRotation(30),\n",
        "                                      transforms.RandomResizedCrop(120),\n",
        "                                      transforms.RandomHorizontalFlip(),\n",
        "                                      transforms.RandomPerspective(),\n",
        "                                      transforms.CenterCrop((90,90)),\n",
        "                                      transforms.Resize((image_size, image_size)),\n",
        "                                      transforms.ToTensor()\n",
        "                                      \n",
        "                                      ,transforms.Normalize(mean = (0.485,0.456,0.406), std = (0.229, 0.224, 0.225))\n",
        "                                       ])\n",
        "\n",
        "test_transforms = transforms.Compose([#transforms.RandomRotation(30),\n",
        "                                     #transforms.RandomResizedCrop(120),\n",
        "                                      transforms.CenterCrop((90,90)),\n",
        "                                      transforms.Resize((image_size, image_size)),\n",
        "                                     transforms.ToTensor()\n",
        "                                     ,transforms.Normalize(mean = (0.485,0.456,0.406), std = (0.229, 0.224, 0.225))\n",
        "                                     ])\n",
        "\n",
        "validation_transforms = transforms.Compose([#transforms.RandomRotation(30),\n",
        "                                           #transforms.RandomResizedCrop(120),\n",
        "                                            transforms.CenterCrop((90,90)),\n",
        "                                            transforms.Resize((image_size, image_size)),\n",
        "                                            transforms.ToTensor()\n",
        "                                            ,transforms.Normalize(mean = (0.485,0.456,0.406), std = (0.229, 0.224, 0.225))\n",
        "                                            ])\n",
        "\n",
        "\n",
        "# Pass transforms in here, then run the next cell to see how the transforms look\n",
        "train_data = datasets.ImageFolder(data_dir, transform=train_transforms)\n",
        "test_data = datasets.ImageFolder(data_dir, transform=test_transforms)\n",
        "validation_data = datasets.ImageFolder(data_dir, transform=validation_transforms)\n",
        "\n",
        "#train_data = torch.utils.data.SubsetRandomSampler()\n",
        "#test_data = datasets.ImageFolder(data_dir, transform=test_transforms)\n",
        "#validation_data = datasets.ImageFolder(data_dir, transform=validation_transforms)\n",
        "\n",
        "trainloader = torch.utils.data.DataLoader(train_data, batch_size=64)\n",
        "testloader = torch.utils.data.DataLoader(test_data, batch_size=64)\n",
        "validationloader = torch.utils.data.DataLoader(validation_data, batch_size=64)"
      ],
      "metadata": {
        "id": "E5LrKdNOf2F1"
      },
      "execution_count": 288,
      "outputs": []
    },
    {
      "cell_type": "code",
      "source": [
        "testloader.dataset.classes"
      ],
      "metadata": {
        "colab": {
          "base_uri": "https://localhost:8080/"
        },
        "id": "mfHUQ9Ty46r5",
        "outputId": "33be59ba-81b8-4c9b-e6db-4ca95efa0b6f"
      },
      "execution_count": 289,
      "outputs": [
        {
          "output_type": "execute_result",
          "data": {
            "text/plain": [
              "['Electric', 'Fire', 'Grass', 'Water']"
            ]
          },
          "metadata": {},
          "execution_count": 289
        }
      ]
    },
    {
      "cell_type": "code",
      "source": [
        "# Run this to test your data loader\n",
        "images, labels = iter(trainloader).next()\n",
        "\n",
        "# helper.imshow(images[0], normalize=False)\n",
        "plt.imshow(images[23].squeeze().permute(1,2,0))\n",
        "print(images.shape)"
      ],
      "metadata": {
        "colab": {
          "base_uri": "https://localhost:8080/",
          "height": 371
        },
        "id": "qynEN6bn0Da6",
        "outputId": "0e107ee6-b2e2-43ec-e4bd-39d1159886ab"
      },
      "execution_count": 290,
      "outputs": [
        {
          "output_type": "stream",
          "name": "stderr",
          "text": [
            "/usr/local/lib/python3.7/dist-packages/PIL/Image.py:960: UserWarning:\n",
            "\n",
            "Palette images with Transparency expressed in bytes should be converted to RGBA images\n",
            "\n",
            "WARNING:matplotlib.image:Clipping input data to the valid range for imshow with RGB data ([0..1] for floats or [0..255] for integers).\n"
          ]
        },
        {
          "output_type": "stream",
          "name": "stdout",
          "text": [
            "torch.Size([64, 3, 50, 50])\n"
          ]
        },
        {
          "output_type": "display_data",
          "data": {
            "text/plain": [
              "<Figure size 432x288 with 1 Axes>"
            ],
            "image/png": "[encoded data removed]"
          },
          "metadata": {
            "needs_background": "light"
          }
        }
      ]
    },
    {
      "cell_type": "code",
      "source": [
        "from torch.utils.data import Subset\n",
        "from sklearn.model_selection import train_test_split\n",
        "from torchvision.transforms import Compose, ToTensor, Resize\n",
        "import torch.optim as optim"
      ],
      "metadata": {
        "id": "nciSNei-6jEZ"
      },
      "execution_count": 291,
      "outputs": []
    },
    {
      "cell_type": "code",
      "source": [
        "def train_val_dataset(dataset, val_split=0.25):\n",
        "    train_idx, val_idx = train_test_split(list(range(len(dataset))), test_size=val_split)\n",
        "    datasets = {}\n",
        "    datasets['train'] = Subset(dataset, train_idx)\n",
        "    datasets['val'] = Subset(dataset, val_idx)\n",
        "    return datasets"
      ],
      "metadata": {
        "id": "kFH6Ctdk6SvJ"
      },
      "execution_count": 292,
      "outputs": []
    },
    {
      "cell_type": "code",
      "source": [
        "full_dataset = datasets.ImageFolder(data_dir, transform=train_transforms)\n",
        "full_dataset = train_val_dataset(full_dataset, val_split = 0.30)\n",
        "\n",
        "pokemon_train = full_dataset['train']\n",
        "pokemon_test_val = full_dataset['val'] \n",
        "\n",
        "print(f'Train dataset length: {len(pokemon_train)}')\n",
        "print(f'Test and validation datasets length: {len(pokemon_test_val)}')"
      ],
      "metadata": {
        "colab": {
          "base_uri": "https://localhost:8080/"
        },
        "id": "QMB57oQaQABq",
        "outputId": "25c39704-a8ef-4f1c-9aaf-0e0711924432"
      },
      "execution_count": 293,
      "outputs": [
        {
          "output_type": "stream",
          "name": "stdout",
          "text": [
            "Train dataset length: 199\n",
            "Test and validation datasets length: 86\n"
          ]
        }
      ]
    },
    {
      "cell_type": "code",
      "source": [
        "full_dataset = train_val_dataset(pokemon_test_val, val_split = 0.20)\n",
        "\n",
        "pokemon_test = full_dataset['train']\n",
        "pokemon_val = full_dataset['val'] \n",
        "\n",
        "print(f'Test dataset length: {len(pokemon_test)}')\n",
        "print(f'Validation dataset length: {len(pokemon_val)}')"
      ],
      "metadata": {
        "colab": {
          "base_uri": "https://localhost:8080/"
        },
        "id": "7aXwpgT9RndG",
        "outputId": "ab624e58-f3d0-4167-d262-3a327a658713"
      },
      "execution_count": 294,
      "outputs": [
        {
          "output_type": "stream",
          "name": "stdout",
          "text": [
            "Test dataset length: 68\n",
            "Validation dataset length: 18\n"
          ]
        }
      ]
    },
    {
      "cell_type": "code",
      "source": [
        "train_loader = torch.utils.data.DataLoader(pokemon_train, batch_size=64)\n",
        "test_loader = torch.utils.data.DataLoader(pokemon_test, batch_size=64)\n",
        "validation_loader = torch.utils.data.DataLoader(pokemon_val, batch_size=64)"
      ],
      "metadata": {
        "id": "4NniUcEJSgAk"
      },
      "execution_count": 295,
      "outputs": []
    },
    {
      "cell_type": "code",
      "source": [
        "x,y = next(iter(trainloader))\n",
        "print(x.shape, y.shape)"
      ],
      "metadata": {
        "colab": {
          "base_uri": "https://localhost:8080/"
        },
        "id": "yPFeaisTYhia",
        "outputId": "b1ccbeca-ea79-428a-9f55-d5c2e58909eb"
      },
      "execution_count": 296,
      "outputs": [
        {
          "output_type": "stream",
          "name": "stderr",
          "text": [
            "/usr/local/lib/python3.7/dist-packages/PIL/Image.py:960: UserWarning:\n",
            "\n",
            "Palette images with Transparency expressed in bytes should be converted to RGBA images\n",
            "\n"
          ]
        },
        {
          "output_type": "stream",
          "name": "stdout",
          "text": [
            "torch.Size([64, 3, 50, 50]) torch.Size([64])\n"
          ]
        }
      ]
    },
    {
      "cell_type": "code",
      "source": [
        "inputs = x.reshape(x.shape[0],-1)\n",
        "inputs.shape"
      ],
      "metadata": {
        "colab": {
          "base_uri": "https://localhost:8080/"
        },
        "id": "qKik8T3JTUrN",
        "outputId": "b5a3fe0e-d66d-480b-a5ac-2af111de37a3"
      },
      "execution_count": 297,
      "outputs": [
        {
          "output_type": "execute_result",
          "data": {
            "text/plain": [
              "torch.Size([64, 7500])"
            ]
          },
          "metadata": {},
          "execution_count": 297
        }
      ]
    },
    {
      "cell_type": "markdown",
      "source": [
        "# Definição do modelo e parâmetros"
      ],
      "metadata": {
        "id": "-VfMSZ84Lk7U"
      }
    },
    {
      "cell_type": "code",
      "source": [
        "device = torch.device(\"cuda:0\" if torch.cuda.is_available() else \"cpu\")\n",
        "device"
      ],
      "metadata": {
        "id": "0aDyanHjQLot",
        "colab": {
          "base_uri": "https://localhost:8080/"
        },
        "outputId": "f0821ca2-5cf8-46b6-fce1-f0c89a299095"
      },
      "execution_count": 298,
      "outputs": [
        {
          "output_type": "execute_result",
          "data": {
            "text/plain": [
              "device(type='cpu')"
            ]
          },
          "metadata": {},
          "execution_count": 298
        }
      ]
    },
    {
      "cell_type": "code",
      "source": [
        "images.shape"
      ],
      "metadata": {
        "colab": {
          "base_uri": "https://localhost:8080/"
        },
        "id": "QTHxglabxPuM",
        "outputId": "796d2486-067b-4885-d5ae-ae8b1afd48d3"
      },
      "execution_count": 299,
      "outputs": [
        {
          "output_type": "execute_result",
          "data": {
            "text/plain": [
              "torch.Size([64, 3, 50, 50])"
            ]
          },
          "metadata": {},
          "execution_count": 299
        }
      ]
    },
    {
      "cell_type": "code",
      "source": [
        "learning_Rate = 0.0002\n",
        "n_Inputs = images.shape[1] * images.shape[2] * images.shape[3]\n",
        "n_Classes = len(pokemon_train.dataset.classes)\n",
        "p_dropout = 0.5\n",
        "\n",
        "model = torch.nn.Sequential(\n",
        "    torch.nn.Linear(n_Inputs,4000),\n",
        "    torch.nn.ReLU(),\n",
        "    torch.nn.Dropout(p_dropout),\n",
        "\n",
        "    torch.nn.Linear(4000,3000),\n",
        "    torch.nn.ReLU(),\n",
        "    torch.nn.Dropout(p_dropout),\n",
        "\n",
        "    torch.nn.Linear(3000,3000),\n",
        "    torch.nn.ReLU(),\n",
        "    torch.nn.Dropout(p_dropout),\n",
        "\n",
        "    torch.nn.Linear(3000,600),\n",
        "    torch.nn.ReLU(),\n",
        "    torch.nn.Dropout(p_dropout),\n",
        "\n",
        "    torch.nn.Linear(600,n_Classes)\n",
        ")\n",
        "model.to(device)\n",
        "criterion = nn.CrossEntropyLoss()\n",
        "optimizer = optim.Adam(model.parameters(), lr=learning_Rate)\n",
        "#optimizer = optim.SGD(model.parameters(), lr=learning_Rate, momentum=0.9)\n",
        "print(model)"
      ],
      "metadata": {
        "colab": {
          "base_uri": "https://localhost:8080/"
        },
        "id": "lqxynauILkHJ",
        "outputId": "9072a8ee-b763-420d-db1b-d8e3a7a8cdca"
      },
      "execution_count": 300,
      "outputs": [
        {
          "output_type": "stream",
          "name": "stdout",
          "text": [
            "Sequential(\n",
            "  (0): Linear(in_features=7500, out_features=4000, bias=True)\n",
            "  (1): ReLU()\n",
            "  (2): Dropout(p=0.5, inplace=False)\n",
            "  (3): Linear(in_features=4000, out_features=3000, bias=True)\n",
            "  (4): ReLU()\n",
            "  (5): Dropout(p=0.5, inplace=False)\n",
            "  (6): Linear(in_features=3000, out_features=3000, bias=True)\n",
            "  (7): ReLU()\n",
            "  (8): Dropout(p=0.5, inplace=False)\n",
            "  (9): Linear(in_features=3000, out_features=600, bias=True)\n",
            "  (10): ReLU()\n",
            "  (11): Dropout(p=0.5, inplace=False)\n",
            "  (12): Linear(in_features=600, out_features=4, bias=True)\n",
            ")\n"
          ]
        }
      ]
    },
    {
      "cell_type": "markdown",
      "source": [
        "Visualizando os tensores do modelo antes do treinamento"
      ],
      "metadata": {
        "id": "SH88FAFVSOQz"
      }
    },
    {
      "cell_type": "code",
      "source": [
        "for param in model.parameters():\n",
        "    print(param)"
      ],
      "metadata": {
        "colab": {
          "base_uri": "https://localhost:8080/"
        },
        "id": "i4ns1wsOGSLk",
        "outputId": "95b4e5e7-85ec-48a5-ed48-f65b8d69f4e8"
      },
      "execution_count": 301,
      "outputs": [
        {
          "output_type": "stream",
          "name": "stdout",
          "text": [
            "Parameter containing:\n",
            "tensor([[-0.0036,  0.0057, -0.0075,  ...,  0.0057, -0.0074, -0.0068],\n",
            "        [-0.0049,  0.0074, -0.0070,  ..., -0.0022, -0.0011,  0.0055],\n",
            "        [-0.0071,  0.0044,  0.0041,  ...,  0.0055,  0.0008,  0.0046],\n",
            "        ...,\n",
            "        [-0.0058, -0.0010, -0.0063,  ..., -0.0109,  0.0053, -0.0080],\n",
            "        [-0.0018, -0.0105,  0.0044,  ...,  0.0043,  0.0060,  0.0061],\n",
            "        [-0.0019,  0.0006,  0.0109,  ...,  0.0096,  0.0047, -0.0041]],\n",
            "       requires_grad=True)\n",
            "Parameter containing:\n",
            "tensor([ 0.0068,  0.0020,  0.0056,  ..., -0.0106, -0.0017, -0.0111],\n",
            "       requires_grad=True)\n",
            "Parameter containing:\n",
            "tensor([[-0.0079,  0.0016,  0.0138,  ...,  0.0047, -0.0129, -0.0112],\n",
            "        [-0.0018,  0.0016,  0.0120,  ..., -0.0091,  0.0100,  0.0086],\n",
            "        [-0.0113,  0.0038, -0.0152,  ..., -0.0019, -0.0068,  0.0035],\n",
            "        ...,\n",
            "        [-0.0019,  0.0024,  0.0076,  ...,  0.0071,  0.0136, -0.0086],\n",
            "        [-0.0074, -0.0154, -0.0030,  ..., -0.0014,  0.0080,  0.0081],\n",
            "        [-0.0002,  0.0141, -0.0147,  ..., -0.0116,  0.0151, -0.0123]],\n",
            "       requires_grad=True)\n",
            "Parameter containing:\n",
            "tensor([ 0.0038,  0.0095, -0.0015,  ...,  0.0157, -0.0040, -0.0090],\n",
            "       requires_grad=True)\n",
            "Parameter containing:\n",
            "tensor([[ 0.0060, -0.0035,  0.0083,  ...,  0.0146,  0.0023, -0.0064],\n",
            "        [ 0.0051, -0.0117,  0.0092,  ...,  0.0103, -0.0028, -0.0147],\n",
            "        [ 0.0004,  0.0085, -0.0068,  ...,  0.0092,  0.0142,  0.0141],\n",
            "        ...,\n",
            "        [ 0.0047,  0.0071,  0.0036,  ..., -0.0090,  0.0076,  0.0142],\n",
            "        [-0.0139, -0.0042,  0.0050,  ...,  0.0086,  0.0174,  0.0164],\n",
            "        [ 0.0152,  0.0072, -0.0002,  ...,  0.0106, -0.0140,  0.0179]],\n",
            "       requires_grad=True)\n",
            "Parameter containing:\n",
            "tensor([ 0.0082, -0.0043,  0.0125,  ...,  0.0181, -0.0027,  0.0062],\n",
            "       requires_grad=True)\n",
            "Parameter containing:\n",
            "tensor([[ 0.0097,  0.0075,  0.0064,  ..., -0.0144, -0.0129, -0.0040],\n",
            "        [ 0.0109,  0.0102,  0.0009,  ..., -0.0088, -0.0081,  0.0058],\n",
            "        [ 0.0054, -0.0031,  0.0086,  ...,  0.0135,  0.0091,  0.0143],\n",
            "        ...,\n",
            "        [ 0.0049, -0.0118, -0.0058,  ..., -0.0032, -0.0117,  0.0037],\n",
            "        [-0.0124, -0.0019,  0.0012,  ..., -0.0062, -0.0103, -0.0169],\n",
            "        [ 0.0010, -0.0090,  0.0019,  ...,  0.0005, -0.0176, -0.0168]],\n",
            "       requires_grad=True)\n",
            "Parameter containing:\n",
            "tensor([ 5.2669e-03,  1.3403e-02,  1.9390e-03,  4.5765e-03, -1.1027e-02,\n",
            "         1.5010e-02, -5.1232e-03, -1.7577e-02, -9.4361e-03,  1.2101e-02,\n",
            "        -1.7695e-02, -5.4809e-03, -3.6209e-03, -9.5056e-03,  3.7712e-03,\n",
            "        -1.0270e-02, -1.0291e-02,  1.4582e-02, -6.6929e-03, -1.4328e-02,\n",
            "        -1.8131e-02, -9.1536e-03,  1.9357e-03,  8.5125e-04, -1.3386e-02,\n",
            "        -7.2036e-03, -1.6927e-03,  1.5290e-02,  1.2542e-02,  1.2049e-02,\n",
            "         2.5252e-03, -6.1704e-03, -3.5961e-03, -1.3313e-02, -5.9978e-03,\n",
            "         3.2153e-03, -1.3269e-02,  1.1812e-02, -7.4702e-03,  1.5178e-02,\n",
            "         5.4170e-03,  1.0447e-02, -1.3349e-02,  7.7755e-03,  6.6524e-03,\n",
            "        -1.0406e-02,  1.4909e-02,  1.0492e-02,  9.7985e-03, -5.2622e-03,\n",
            "         9.7540e-03, -7.0255e-03, -8.8140e-03,  1.4992e-02,  2.8062e-03,\n",
            "        -1.3674e-02,  5.2922e-04,  1.3116e-02,  1.1248e-02, -2.2339e-03,\n",
            "        -9.0365e-03, -1.4138e-02,  1.2062e-02, -1.3564e-02, -2.3200e-03,\n",
            "        -1.2962e-02, -4.3636e-03, -7.6255e-03, -9.4690e-03,  6.3964e-03,\n",
            "        -1.7533e-02,  1.3775e-02, -5.5105e-03, -1.7853e-02, -9.1159e-03,\n",
            "        -1.7371e-03,  1.2206e-02, -1.2214e-02, -1.0835e-03, -6.7239e-03,\n",
            "         1.7026e-02,  2.7919e-03,  9.5118e-03,  2.1152e-03,  2.0658e-03,\n",
            "        -1.3079e-02, -9.0472e-03,  3.1412e-03, -1.0743e-03, -1.7554e-02,\n",
            "         7.1226e-03,  3.6919e-03,  2.2908e-03, -4.1770e-03, -1.3381e-03,\n",
            "        -1.2627e-02, -1.0504e-02, -1.3038e-02,  5.1298e-03,  1.1420e-02,\n",
            "        -1.3618e-02,  1.2002e-02,  6.4787e-03, -8.0971e-03, -7.2926e-03,\n",
            "        -1.2958e-03, -7.3882e-03, -5.2198e-03, -1.7017e-02, -3.6058e-04,\n",
            "        -1.3086e-02,  1.1166e-02, -1.1216e-02,  1.5060e-02, -6.4815e-03,\n",
            "        -5.5564e-03,  1.2287e-02, -1.7852e-02,  8.1343e-03,  1.3649e-02,\n",
            "         1.5227e-03, -1.0532e-02, -7.0005e-03, -1.0053e-02,  6.8435e-03,\n",
            "        -4.0262e-03, -1.0436e-02, -1.7359e-02, -1.1667e-02, -8.3766e-03,\n",
            "        -4.8950e-04, -3.3964e-03, -8.6284e-03,  9.7173e-03,  2.7934e-03,\n",
            "        -8.7597e-03, -1.4475e-02,  3.4993e-03, -1.6396e-02,  1.7819e-03,\n",
            "        -6.3060e-03, -1.7625e-02, -1.0464e-02, -1.1048e-02, -4.6657e-03,\n",
            "         1.6148e-02, -3.2632e-03,  9.4072e-03, -5.8913e-03, -1.1985e-02,\n",
            "        -1.4916e-02, -1.0507e-02,  1.1535e-02, -5.9781e-04, -1.6065e-03,\n",
            "         5.8028e-03, -1.3033e-02, -5.1263e-03, -1.4104e-02,  6.0792e-03,\n",
            "        -1.4897e-02,  9.2398e-03, -3.0757e-03, -1.1983e-02, -5.2661e-03,\n",
            "         4.7582e-03,  1.1136e-02, -4.1480e-03,  1.6395e-02, -4.0510e-04,\n",
            "         1.8038e-02,  5.9611e-03,  3.7126e-03,  1.7979e-02,  1.2360e-02,\n",
            "        -3.1913e-05,  1.4857e-02,  1.7672e-03, -9.3128e-03,  3.2586e-04,\n",
            "        -1.3716e-03, -1.2627e-02, -1.2152e-02,  9.4453e-03, -8.3677e-04,\n",
            "        -3.3664e-03,  1.1752e-02,  8.6237e-03, -1.3282e-02, -1.5462e-02,\n",
            "         6.8055e-03,  1.6563e-02,  5.3655e-03, -1.5166e-02, -1.4473e-02,\n",
            "        -1.7573e-02, -3.4027e-03,  1.8768e-04,  1.0495e-02,  5.9047e-03,\n",
            "        -7.8045e-03, -4.0007e-03,  1.2259e-02,  1.6764e-02, -6.3308e-03,\n",
            "         1.8038e-02,  4.9621e-03, -1.6873e-02,  1.2422e-02,  1.4634e-02,\n",
            "         1.2922e-02,  6.1811e-03, -6.8127e-03,  4.7127e-03,  9.9585e-03,\n",
            "         4.5514e-03,  1.5985e-02,  1.6112e-02, -4.3520e-03,  1.2206e-02,\n",
            "         2.0572e-03,  9.5671e-03,  1.5774e-02, -7.1970e-03,  8.0883e-04,\n",
            "        -2.8098e-04, -1.5459e-02,  1.1802e-02, -1.7203e-02, -2.8144e-04,\n",
            "         1.6791e-03,  1.3429e-02, -1.4290e-02,  6.0645e-03,  7.5607e-03,\n",
            "         1.6613e-02,  6.3858e-03,  1.5785e-02,  6.3274e-03, -7.4858e-03,\n",
            "        -6.0611e-03, -9.8195e-03, -1.1398e-02, -6.3767e-03,  6.8724e-03,\n",
            "         1.1839e-02, -4.5770e-03,  1.3496e-03, -3.8321e-03, -1.0348e-02,\n",
            "        -1.3588e-04,  7.6040e-03, -2.5571e-03, -1.5511e-02,  1.2761e-02,\n",
            "         6.6073e-03,  4.7991e-03, -8.0329e-03,  1.0609e-02,  1.7550e-02,\n",
            "        -5.9600e-03, -1.3358e-02,  1.0585e-02,  4.4439e-03,  1.2301e-02,\n",
            "         8.4834e-03,  1.2555e-04, -4.8239e-03,  6.2876e-03, -1.7719e-02,\n",
            "        -5.8988e-03, -1.0990e-02,  1.7891e-03, -1.6770e-02, -1.5008e-02,\n",
            "        -1.7316e-02, -9.7419e-03,  8.6637e-04, -9.6621e-03,  1.1651e-02,\n",
            "        -9.0887e-03, -1.5548e-02,  1.5573e-02,  1.9455e-03, -1.4981e-02,\n",
            "         3.9487e-03, -1.7883e-02, -1.7043e-02, -1.3870e-02,  4.0432e-03,\n",
            "         4.1990e-04, -1.7171e-02,  1.6091e-03,  7.0960e-03, -1.2406e-02,\n",
            "        -1.4055e-02, -5.7672e-05,  1.0456e-02, -3.3238e-03,  1.7539e-02,\n",
            "         1.2117e-02, -1.0888e-02,  2.2584e-03, -2.2606e-03,  1.0423e-02,\n",
            "        -1.3392e-02, -1.6948e-02,  1.5352e-02,  1.5823e-03,  6.6478e-03,\n",
            "         1.4239e-02, -5.9774e-03, -3.4852e-05, -3.4841e-03,  7.8784e-03,\n",
            "        -8.3507e-03,  7.1490e-03, -2.2581e-03,  1.3651e-02, -6.6001e-03,\n",
            "         1.7245e-02, -2.4773e-04,  1.2131e-02, -1.1607e-02,  2.5469e-03,\n",
            "        -1.5866e-02, -8.1748e-03,  1.1626e-02,  1.2390e-03, -1.0647e-02,\n",
            "        -4.7020e-03, -7.1095e-03, -3.1812e-03, -1.6803e-02, -1.3510e-02,\n",
            "         1.4552e-02, -2.7387e-03, -1.7485e-02, -1.7866e-02, -4.4199e-03,\n",
            "         3.0234e-03, -5.7856e-03,  1.7921e-02,  1.1577e-02, -1.5590e-02,\n",
            "         9.1416e-03, -7.5439e-03, -4.0587e-03, -1.1242e-02,  4.5056e-03,\n",
            "         1.1363e-02,  4.6948e-03, -7.2174e-03,  1.5957e-02,  7.8536e-03,\n",
            "        -9.4162e-03, -1.6556e-02, -1.2716e-02, -6.9097e-03,  1.3717e-02,\n",
            "        -1.6899e-03,  1.4093e-02,  1.3946e-02,  9.7690e-03, -2.1976e-03,\n",
            "        -8.9713e-03, -6.6710e-03, -1.7566e-02, -7.2313e-03,  1.2061e-02,\n",
            "         3.3437e-03,  2.6355e-05,  6.6981e-03, -1.8061e-02, -1.7676e-02,\n",
            "         5.0019e-03, -1.8082e-02, -7.3474e-03,  4.1873e-03,  6.6995e-03,\n",
            "         3.6611e-03, -1.0554e-02, -1.6124e-02,  1.3348e-02,  7.1016e-03,\n",
            "         9.0726e-03,  1.4396e-02, -1.4968e-02, -1.6829e-02,  6.9397e-03,\n",
            "        -7.4256e-03,  6.0273e-03, -1.7532e-02, -1.1961e-02, -2.7059e-04,\n",
            "         1.6576e-02, -4.8344e-04, -4.5153e-03, -4.6391e-05, -7.4624e-03,\n",
            "         4.4411e-04,  1.5631e-02, -2.6544e-03, -1.0111e-02, -1.7891e-02,\n",
            "         1.3845e-02,  3.0471e-03, -1.4113e-02,  9.2503e-03, -1.4467e-02,\n",
            "        -7.4846e-03,  4.9596e-03,  5.3789e-04,  1.3292e-02,  4.4987e-03,\n",
            "         1.6957e-02, -3.2489e-03, -1.2703e-02, -1.4950e-02, -1.0420e-02,\n",
            "         6.4603e-03,  5.5520e-03, -5.3038e-03,  8.4405e-03, -1.4449e-03,\n",
            "        -9.1518e-03, -1.0711e-02, -1.7826e-02, -6.9650e-03, -7.6531e-03,\n",
            "         1.7977e-02,  1.4006e-02, -8.3229e-03, -8.2172e-03, -3.4160e-03,\n",
            "         1.6198e-02,  6.6348e-03,  8.3666e-03, -1.7613e-02, -1.1815e-02,\n",
            "         1.7444e-02,  8.8373e-03,  9.3175e-03,  1.2895e-02, -1.6066e-02,\n",
            "         1.4207e-03,  1.1011e-02, -7.0755e-03,  2.9750e-03, -7.1120e-03,\n",
            "         4.4064e-03,  9.8072e-03,  4.9206e-03, -6.4538e-03,  5.5365e-04,\n",
            "        -2.1591e-04, -1.1231e-02, -2.3352e-03, -3.9796e-03, -1.7420e-03,\n",
            "        -1.5172e-02, -1.4627e-02, -1.1202e-02,  1.6929e-02, -1.4566e-02,\n",
            "        -1.2149e-02, -1.5115e-02, -3.1936e-03,  7.5171e-03,  2.1488e-04,\n",
            "        -6.2998e-03, -1.0032e-03,  4.6162e-04,  7.6395e-03,  1.1922e-02,\n",
            "        -1.4805e-02, -1.2076e-02,  1.2144e-02, -6.2722e-03, -4.3828e-03,\n",
            "        -1.2832e-02,  5.3559e-03,  6.7588e-03,  7.4760e-03, -1.4199e-03,\n",
            "        -3.1210e-03,  1.6589e-03,  8.2811e-03, -3.3319e-03, -1.0464e-02,\n",
            "         1.5148e-02, -1.7364e-02,  1.1025e-02, -1.8038e-02, -1.1092e-02,\n",
            "         1.6442e-02, -9.4397e-03,  1.2522e-02, -9.0932e-03, -4.4515e-03,\n",
            "        -1.8072e-02,  7.8391e-03, -1.1228e-02,  1.6824e-02, -2.4578e-04,\n",
            "        -3.5533e-03, -1.4645e-02, -1.2541e-03, -1.3677e-02, -1.4970e-04,\n",
            "         1.4723e-03, -1.1465e-02,  8.8541e-03, -1.5447e-02, -1.3092e-02,\n",
            "         6.3439e-03, -1.4428e-02, -9.6728e-03,  5.0363e-03, -1.5752e-02,\n",
            "        -7.3909e-03, -1.3690e-02,  1.5547e-02, -1.1530e-03, -3.7179e-04,\n",
            "        -1.2845e-02,  3.4213e-03, -6.8765e-03, -1.5231e-02, -7.3603e-03,\n",
            "         3.5516e-04,  1.3550e-02, -8.6230e-03, -7.7419e-03, -1.3028e-02,\n",
            "         1.3518e-02,  1.2079e-03,  1.6291e-02, -1.0344e-03,  5.6517e-03,\n",
            "         7.4805e-03,  7.4164e-04,  6.6192e-03,  8.2610e-03, -2.4067e-03,\n",
            "        -4.8039e-03, -1.5412e-02,  5.1403e-03, -1.6565e-02, -1.5351e-02,\n",
            "        -4.0251e-03, -1.7883e-02,  7.5270e-03, -1.2672e-02, -4.6166e-03,\n",
            "        -1.5254e-02, -3.3835e-03, -1.3852e-02, -9.1205e-03, -9.8978e-03,\n",
            "         5.0688e-03, -1.3533e-02, -1.3486e-02,  7.4751e-03, -3.4917e-04,\n",
            "         4.5264e-03,  7.5774e-03,  3.0357e-03,  7.0930e-03,  8.4302e-03,\n",
            "         9.4134e-03, -1.5761e-02,  1.1427e-02, -4.5271e-04,  1.4938e-02,\n",
            "         1.4208e-02, -5.7178e-03, -1.0951e-02, -1.5259e-02, -6.3832e-03,\n",
            "        -1.4041e-02, -3.2808e-03,  1.6644e-02,  1.4800e-02,  1.0343e-02,\n",
            "         7.6218e-04, -5.2799e-03, -9.8622e-03,  5.7366e-03,  1.3132e-02,\n",
            "        -1.3983e-02,  1.0954e-02, -9.3514e-04,  3.3309e-03, -1.7229e-02,\n",
            "         1.0692e-02, -1.0579e-02,  1.3440e-03,  1.1422e-02, -9.3555e-03],\n",
            "       requires_grad=True)\n",
            "Parameter containing:\n",
            "tensor([[ 0.0321, -0.0221, -0.0159,  ..., -0.0177, -0.0078,  0.0241],\n",
            "        [ 0.0305,  0.0299,  0.0225,  ...,  0.0281,  0.0176, -0.0129],\n",
            "        [-0.0007,  0.0270, -0.0259,  ...,  0.0391, -0.0048,  0.0359],\n",
            "        [ 0.0346, -0.0299, -0.0363,  ...,  0.0153,  0.0117,  0.0394]],\n",
            "       requires_grad=True)\n",
            "Parameter containing:\n",
            "tensor([-0.0033,  0.0330, -0.0186, -0.0164], requires_grad=True)\n"
          ]
        }
      ]
    },
    {
      "cell_type": "code",
      "source": [
        "inputs = images.reshape(images.shape[0],-1)\n",
        "outputs = model(inputs)\n",
        "outputsClass = torch.argmax(outputs, dim=1)\n",
        "accuracy = 100*(outputsClass==labels).sum()/len(labels)\n",
        "print(accuracy)"
      ],
      "metadata": {
        "colab": {
          "base_uri": "https://localhost:8080/"
        },
        "id": "j_bdkO62TdkN",
        "outputId": "f059ff54-7a30-4655-e2b3-7eceb1e3f0d0"
      },
      "execution_count": 302,
      "outputs": [
        {
          "output_type": "stream",
          "name": "stdout",
          "text": [
            "tensor(25.)\n"
          ]
        }
      ]
    },
    {
      "cell_type": "markdown",
      "source": [
        "# Treinando o Modelo"
      ],
      "metadata": {
        "id": "2N6J4-6eDMoA"
      }
    },
    {
      "cell_type": "code",
      "source": [
        "def train_model(nEpochs = 20):\n",
        "  errors_train=[]\n",
        "  errors_test=[]\n",
        "  accuracy_test=[]\n",
        "  for epoch in range(nEpochs):\n",
        "    #carrega dados de lote\n",
        "    train_loss=0\n",
        "    for images, labels in train_loader:\n",
        "    #images, labels = next(iter(trainloader))\n",
        "      if torch.cuda.is_available():\n",
        "        images.to('cuda')\n",
        "        labels.to('cuda')\n",
        "      #ajusta as dimensões\n",
        "      model.train()\n",
        "      inputs = images.reshape(images.shape[0],-1)\n",
        "      #zera o gradiente\n",
        "      optimizer.zero_grad()\n",
        "      #propaga os dados na rede\n",
        "      outputs = model(inputs)\n",
        "      #calcula o erro\n",
        "      \n",
        "      #torch.nn.Dropout()\n",
        "      loss = criterion(outputs, labels)\n",
        "      train_loss+=loss.item()\n",
        "      #calcula gradientes com backward\n",
        "\n",
        "      loss.backward()\n",
        "      #faz um passo de otimização\n",
        "      \n",
        "      optimizer.step()\n",
        "      #calcula a acurácia\n",
        "      model.eval()\n",
        "      outputsClass = torch.argmax(outputs, dim=1)\n",
        "      accuracy = (outputsClass==labels).sum()/len(labels)\n",
        "      \n",
        "      #usa os dados de fora do grupo de teste para fazer a validação\n",
        "\n",
        "    with torch.no_grad():\n",
        "      test_correct = 0\n",
        "      test_loss=0\n",
        "      for images, labels in validation_loader:\n",
        "        if torch.cuda.is_available():\n",
        "          images.to('cuda')\n",
        "          labels.to('cuda')        \n",
        "        inputs = images.reshape(images.shape[0],-1)\n",
        "        outputs = model(inputs)\n",
        "        loss = criterion(outputs, labels)\n",
        "        test_loss+=loss.item()\n",
        "        outputsClass = torch.argmax(outputs, dim=1)\n",
        "        test_correct += (outputsClass==labels).sum()\n",
        "    train_loss = train_loss/len(train_loader.dataset)\n",
        "    test_loss = test_loss/len(validation_loader.dataset)\n",
        "    errors_train.append(train_loss)\n",
        "    errors_test.append(test_loss)\n",
        "    print(f\"Epochs: {epoch}, error train: {errors_train[-1]}, error test: {errors_test[-1]}\")\n",
        "    print(f'Accuracy {accuracy}')\n",
        "    accuracy_test.append(accuracy)\n",
        "\n",
        "  return errors_train, errors_test, accuracy_test"
      ],
      "metadata": {
        "id": "GqEPDbylQ1Z1"
      },
      "execution_count": 303,
      "outputs": []
    },
    {
      "cell_type": "code",
      "source": [
        "errors_train, errors_test, accuracy_test = train_model(50)"
      ],
      "metadata": {
        "colab": {
          "base_uri": "https://localhost:8080/"
        },
        "id": "Nnt6L-rwQ6PU",
        "outputId": "c072f7ac-eaae-40b1-90d8-40c038a79204"
      },
      "execution_count": 304,
      "outputs": [
        {
          "output_type": "stream",
          "name": "stderr",
          "text": [
            "/usr/local/lib/python3.7/dist-packages/PIL/Image.py:960: UserWarning:\n",
            "\n",
            "Palette images with Transparency expressed in bytes should be converted to RGBA images\n",
            "\n"
          ]
        },
        {
          "output_type": "stream",
          "name": "stdout",
          "text": [
            "Epochs: 0, error train: 0.02867274607845287, error test: 0.09694384204016791\n",
            "Accuracy 0.4285714328289032\n",
            "Epochs: 1, error train: 0.03157772490726644, error test: 0.0780680841869778\n",
            "Accuracy 0.1428571492433548\n",
            "Epochs: 2, error train: 0.029750055404164682, error test: 0.08249729209476048\n",
            "Accuracy 0.4285714328289032\n",
            "Epochs: 3, error train: 0.026778834848547702, error test: 0.09035121070014106\n",
            "Accuracy 0.7142857313156128\n",
            "Epochs: 4, error train: 0.028842362327192297, error test: 0.0972016387515598\n",
            "Accuracy 0.5714285969734192\n",
            "Epochs: 5, error train: 0.031651130872755194, error test: 0.10892183913124932\n",
            "Accuracy 0.2857142984867096\n",
            "Epochs: 6, error train: 0.0317644551770771, error test: 0.0895747873518202\n",
            "Accuracy 0.5714285969734192\n",
            "Epochs: 7, error train: 0.034311691121240356, error test: 0.08962255054050022\n",
            "Accuracy 0.1428571492433548\n",
            "Epochs: 8, error train: 0.03090256123087514, error test: 0.08437689807679918\n",
            "Accuracy 0.1428571492433548\n",
            "Epochs: 9, error train: 0.031145726616059115, error test: 0.0862131913503011\n",
            "Accuracy 0.4285714328289032\n",
            "Epochs: 10, error train: 0.028156947849982947, error test: 0.09122369686762492\n",
            "Accuracy 0.7142857313156128\n",
            "Epochs: 11, error train: 0.030522408796914258, error test: 0.08122911055882771\n",
            "Accuracy 0.1428571492433548\n",
            "Epochs: 12, error train: 0.03294420841351226, error test: 0.08160283168156941\n",
            "Accuracy 0.4285714328289032\n",
            "Epochs: 13, error train: 0.0334930174314796, error test: 0.08979743056827122\n",
            "Accuracy 0.1428571492433548\n",
            "Epochs: 14, error train: 0.029121274325116794, error test: 0.08293383651309544\n",
            "Accuracy 0.1428571492433548\n",
            "Epochs: 15, error train: 0.02861158452441345, error test: 0.08758037620120579\n",
            "Accuracy 0.2857142984867096\n",
            "Epochs: 16, error train: 0.028451258812717456, error test: 0.08694624900817871\n",
            "Accuracy 0.4285714328289032\n",
            "Epochs: 17, error train: 0.030010158093131366, error test: 0.09868171479966906\n",
            "Accuracy 0.1428571492433548\n",
            "Epochs: 18, error train: 0.027974678643384772, error test: 0.08370521995756361\n",
            "Accuracy 0.5714285969734192\n",
            "Epochs: 19, error train: 0.02787612191396742, error test: 0.07864138152864245\n",
            "Accuracy 0.5714285969734192\n",
            "Epochs: 20, error train: 0.028032789278270014, error test: 0.08255410194396973\n",
            "Accuracy 0.4285714328289032\n",
            "Epochs: 21, error train: 0.027638792991638184, error test: 0.08500111103057861\n",
            "Accuracy 0.4285714328289032\n",
            "Epochs: 22, error train: 0.02865728541235229, error test: 0.08669267098108928\n",
            "Accuracy 0.2857142984867096\n",
            "Epochs: 23, error train: 0.02746424183773635, error test: 0.08449043167961968\n",
            "Accuracy 0.4285714328289032\n",
            "Epochs: 24, error train: 0.026952488338527966, error test: 0.08010361591974895\n",
            "Accuracy 0.4285714328289032\n",
            "Epochs: 25, error train: 0.026564344688875592, error test: 0.07653821839226617\n",
            "Accuracy 0.7142857313156128\n",
            "Epochs: 26, error train: 0.027448850660467868, error test: 0.08008132378260295\n",
            "Accuracy 0.4285714328289032\n",
            "Epochs: 27, error train: 0.026199428879435938, error test: 0.0837033126089308\n",
            "Accuracy 0.4285714328289032\n",
            "Epochs: 28, error train: 0.027354127797649133, error test: 0.07835423284106785\n",
            "Accuracy 0.4285714328289032\n",
            "Epochs: 29, error train: 0.028736805796024188, error test: 0.07890306578742133\n",
            "Accuracy 0.4285714328289032\n",
            "Epochs: 30, error train: 0.027898429027154815, error test: 0.08068750964270698\n",
            "Accuracy 0.4285714328289032\n",
            "Epochs: 31, error train: 0.02675350706780975, error test: 0.08599533637364705\n",
            "Accuracy 0.2857142984867096\n",
            "Epochs: 32, error train: 0.026390345252338965, error test: 0.08284550242953831\n",
            "Accuracy 0.4285714328289032\n",
            "Epochs: 33, error train: 0.02643942892850943, error test: 0.07865444819132487\n",
            "Accuracy 0.4285714328289032\n",
            "Epochs: 34, error train: 0.027255487801441595, error test: 0.08294269111421373\n",
            "Accuracy 0.7142857313156128\n",
            "Epochs: 35, error train: 0.025401614419179944, error test: 0.07812955644395617\n",
            "Accuracy 0.7142857313156128\n",
            "Epochs: 36, error train: 0.02552439399700069, error test: 0.07954474290211995\n",
            "Accuracy 0.5714285969734192\n",
            "Epochs: 37, error train: 0.027210333838534714, error test: 0.08264325724707709\n",
            "Accuracy 0.4285714328289032\n",
            "Epochs: 38, error train: 0.027579828123351437, error test: 0.08798679378297594\n",
            "Accuracy 0.4285714328289032\n",
            "Epochs: 39, error train: 0.027512475473796903, error test: 0.07914523283640544\n",
            "Accuracy 0.4285714328289032\n",
            "Epochs: 40, error train: 0.027742043811472217, error test: 0.08093330595228407\n",
            "Accuracy 0.1428571492433548\n",
            "Epochs: 41, error train: 0.024628769213230765, error test: 0.07835037840737237\n",
            "Accuracy 0.5714285969734192\n",
            "Epochs: 42, error train: 0.02582846574447862, error test: 0.07955251137415568\n",
            "Accuracy 0.4285714328289032\n",
            "Epochs: 43, error train: 0.025636940146211405, error test: 0.07691089312235515\n",
            "Accuracy 0.5714285969734192\n",
            "Epochs: 44, error train: 0.0254574031686064, error test: 0.08002265956666735\n",
            "Accuracy 0.5714285969734192\n",
            "Epochs: 45, error train: 0.024514997424791806, error test: 0.08055545886357625\n",
            "Accuracy 0.5714285969734192\n",
            "Epochs: 46, error train: 0.02576742879110365, error test: 0.07447603676054212\n",
            "Accuracy 0.2857142984867096\n",
            "Epochs: 47, error train: 0.025626835511557422, error test: 0.06607054339514838\n",
            "Accuracy 0.7142857313156128\n",
            "Epochs: 48, error train: 0.02532012977791791, error test: 0.07385098934173584\n",
            "Accuracy 0.4285714328289032\n",
            "Epochs: 49, error train: 0.02429111189578646, error test: 0.0765739878018697\n",
            "Accuracy 0.7142857313156128\n"
          ]
        }
      ]
    },
    {
      "cell_type": "markdown",
      "source": [
        "# Avaliando Resultados"
      ],
      "metadata": {
        "id": "IsechtqIDSk7"
      }
    },
    {
      "cell_type": "code",
      "source": [
        "plt.plot(accuracy_test)"
      ],
      "metadata": {
        "colab": {
          "base_uri": "https://localhost:8080/",
          "height": 282
        },
        "id": "HqdUCHUp4Fbw",
        "outputId": "2336798c-d2b9-4b0c-c0ae-e1a7441d39e4"
      },
      "execution_count": 305,
      "outputs": [
        {
          "output_type": "execute_result",
          "data": {
            "text/plain": [
              "[<matplotlib.lines.Line2D at 0x7f4f231ad990>]"
            ]
          },
          "metadata": {},
          "execution_count": 305
        },
        {
          "output_type": "display_data",
          "data": {
            "text/plain": [
              "<Figure size 432x288 with 1 Axes>"
            ],
            "image/png": "[encoded data removed]"
          },
          "metadata": {
            "needs_background": "light"
          }
        }
      ]
    },
    {
      "cell_type": "code",
      "source": [
        "plt.plot(errors_train)\n",
        "plt.plot(errors_test)"
      ],
      "metadata": {
        "colab": {
          "base_uri": "https://localhost:8080/",
          "height": 282
        },
        "id": "KmVuxnwHYhLk",
        "outputId": "6a00d113-4299-4b92-e32f-8929ffff2a6a"
      },
      "execution_count": 306,
      "outputs": [
        {
          "output_type": "execute_result",
          "data": {
            "text/plain": [
              "[<matplotlib.lines.Line2D at 0x7f4f231211d0>]"
            ]
          },
          "metadata": {},
          "execution_count": 306
        },
        {
          "output_type": "display_data",
          "data": {
            "text/plain": [
              "<Figure size 432x288 with 1 Axes>"
            ],
            "image/png": "[encoded data removed]"
          },
          "metadata": {
            "needs_background": "light"
          }
        }
      ]
    },
    {
      "cell_type": "code",
      "source": [
        "len(test_loader.dataset)"
      ],
      "metadata": {
        "colab": {
          "base_uri": "https://localhost:8080/"
        },
        "id": "zRf2dMoDchdW",
        "outputId": "00493738-f9f5-45c7-92d9-b7f9576c7096"
      },
      "execution_count": 307,
      "outputs": [
        {
          "output_type": "execute_result",
          "data": {
            "text/plain": [
              "68"
            ]
          },
          "metadata": {},
          "execution_count": 307
        }
      ]
    },
    {
      "cell_type": "code",
      "source": [
        "correct = 0\n",
        "total = 0\n",
        "correct_label = []\n",
        "pred = []\n",
        "# since we're not training, we don't need to calculate the gradients for our outputs\n",
        "with torch.no_grad():\n",
        "    for data in test_loader:\n",
        "        images, labels = data\n",
        "        correct_label += labels\n",
        "        # calculate outputs by running images through the network\n",
        "        #inputs = images.reshape(images.shape[0],-1)\n",
        "        outputs = model(images.reshape(images.shape[0],-1))\n",
        "        # the class with the highest energy is what we choose as prediction\n",
        "        _, predicted = torch.max(outputs.data, 1)\n",
        "        pred += predicted\n",
        "        total += labels.size(0)\n",
        "        correct += (predicted == labels).sum().item()\n",
        "\n",
        "print(f'Accuracy of the network on the test images: {100 * correct // total} %')"
      ],
      "metadata": {
        "colab": {
          "base_uri": "https://localhost:8080/"
        },
        "id": "zgcchPsRU202",
        "outputId": "12973cd7-7f62-4a49-f715-129055b5f1de"
      },
      "execution_count": 308,
      "outputs": [
        {
          "output_type": "stream",
          "name": "stderr",
          "text": [
            "/usr/local/lib/python3.7/dist-packages/PIL/Image.py:960: UserWarning:\n",
            "\n",
            "Palette images with Transparency expressed in bytes should be converted to RGBA images\n",
            "\n"
          ]
        },
        {
          "output_type": "stream",
          "name": "stdout",
          "text": [
            "Accuracy of the network on the test images: 47 %\n"
          ]
        }
      ]
    },
    {
      "cell_type": "code",
      "source": [
        "from sklearn.metrics import accuracy_score, confusion_matrix, classification_report"
      ],
      "metadata": {
        "id": "2UG4eZmvYCFy"
      },
      "execution_count": 309,
      "outputs": []
    },
    {
      "cell_type": "code",
      "source": [
        "accuracy_score(correct_label, pred)"
      ],
      "metadata": {
        "colab": {
          "base_uri": "https://localhost:8080/"
        },
        "id": "QzBj8k7RYNSC",
        "outputId": "cd75a7b0-c2db-404d-b694-d38ffa883bcd"
      },
      "execution_count": 310,
      "outputs": [
        {
          "output_type": "execute_result",
          "data": {
            "text/plain": [
              "0.47058823529411764"
            ]
          },
          "metadata": {},
          "execution_count": 310
        }
      ]
    },
    {
      "cell_type": "code",
      "source": [
        "confusion_matrix(correct_label, pred)"
      ],
      "metadata": {
        "colab": {
          "base_uri": "https://localhost:8080/"
        },
        "id": "lU4WWQ-zYM5I",
        "outputId": "bef60918-9419-4aa3-bcd8-ddd77a91864a"
      },
      "execution_count": 311,
      "outputs": [
        {
          "output_type": "execute_result",
          "data": {
            "text/plain": [
              "array([[ 3,  0,  0,  3],\n",
              "       [ 6,  0,  3,  4],\n",
              "       [ 6,  0,  6, 10],\n",
              "       [ 3,  0,  1, 23]])"
            ]
          },
          "metadata": {},
          "execution_count": 311
        }
      ]
    },
    {
      "cell_type": "code",
      "source": [
        "print(classification_report(correct_label, pred))"
      ],
      "metadata": {
        "colab": {
          "base_uri": "https://localhost:8080/"
        },
        "id": "uu8BLO4GYXlG",
        "outputId": "8a66ba65-bf1d-4c83-bb1f-1572ef1f7931"
      },
      "execution_count": 312,
      "outputs": [
        {
          "output_type": "stream",
          "name": "stdout",
          "text": [
            "              precision    recall  f1-score   support\n",
            "\n",
            "           0       0.17      0.50      0.25         6\n",
            "           1       0.00      0.00      0.00        13\n",
            "           2       0.60      0.27      0.37        22\n",
            "           3       0.57      0.85      0.69        27\n",
            "\n",
            "    accuracy                           0.47        68\n",
            "   macro avg       0.34      0.41      0.33        68\n",
            "weighted avg       0.44      0.47      0.42        68\n",
            "\n"
          ]
        },
        {
          "output_type": "stream",
          "name": "stderr",
          "text": [
            "/usr/local/lib/python3.7/dist-packages/sklearn/metrics/_classification.py:1318: UndefinedMetricWarning:\n",
            "\n",
            "Precision and F-score are ill-defined and being set to 0.0 in labels with no predicted samples. Use `zero_division` parameter to control this behavior.\n",
            "\n",
            "/usr/local/lib/python3.7/dist-packages/sklearn/metrics/_classification.py:1318: UndefinedMetricWarning:\n",
            "\n",
            "Precision and F-score are ill-defined and being set to 0.0 in labels with no predicted samples. Use `zero_division` parameter to control this behavior.\n",
            "\n",
            "/usr/local/lib/python3.7/dist-packages/sklearn/metrics/_classification.py:1318: UndefinedMetricWarning:\n",
            "\n",
            "Precision and F-score are ill-defined and being set to 0.0 in labels with no predicted samples. Use `zero_division` parameter to control this behavior.\n",
            "\n"
          ]
        }
      ]
    },
    {
      "cell_type": "code",
      "source": [
        "correct = 0\n",
        "total = 0\n",
        "# since we're not training, we don't need to calculate the gradients for our outputs\n",
        "with torch.no_grad():\n",
        "    for data in train_loader:\n",
        "        images, labels = data\n",
        "        # calculate outputs by running images through the network\n",
        "        #inputs = images.reshape(images.shape[0],-1)\n",
        "        outputs = model(images.reshape(images.shape[0],-1))\n",
        "        # the class with the highest energy is what we choose as prediction\n",
        "        _, predicted = torch.max(outputs.data, 1)\n",
        "        total += labels.size(0)\n",
        "        correct += (predicted == labels).sum().item()\n",
        "\n",
        "print(f'Accuracy of the network on the train images: {100 * correct // total} %')"
      ],
      "metadata": {
        "colab": {
          "base_uri": "https://localhost:8080/"
        },
        "id": "kAGRNyur3vCT",
        "outputId": "0af036a5-76e8-4cbe-bbeb-a7aa334b33fc"
      },
      "execution_count": 313,
      "outputs": [
        {
          "output_type": "stream",
          "name": "stderr",
          "text": [
            "/usr/local/lib/python3.7/dist-packages/PIL/Image.py:960: UserWarning:\n",
            "\n",
            "Palette images with Transparency expressed in bytes should be converted to RGBA images\n",
            "\n"
          ]
        },
        {
          "output_type": "stream",
          "name": "stdout",
          "text": [
            "Accuracy of the network on the train images: 40 %\n"
          ]
        }
      ]
    },
    {
      "cell_type": "code",
      "source": [
        "correct = 0\n",
        "total = 0\n",
        "# since we're not training, we don't need to calculate the gradients for our outputs\n",
        "with torch.no_grad():\n",
        "    for data in validation_loader:\n",
        "        images, labels = data\n",
        "        # calculate outputs by running images through the network\n",
        "        #inputs = images.reshape(images.shape[0],-1)\n",
        "        outputs = model(images.reshape(images.shape[0],-1))\n",
        "        # the class with the highest energy is what we choose as prediction\n",
        "        _, predicted = torch.max(outputs.data, 1)\n",
        "        total += labels.size(0)\n",
        "        correct += (predicted == labels).sum().item()\n",
        "\n",
        "print(f'Accuracy of the network on the validation images: {100 * correct // total} %')"
      ],
      "metadata": {
        "colab": {
          "base_uri": "https://localhost:8080/"
        },
        "id": "RU2vTP1q3xPU",
        "outputId": "d24d9cef-3210-4044-f3d1-7d37ef043348"
      },
      "execution_count": 314,
      "outputs": [
        {
          "output_type": "stream",
          "name": "stdout",
          "text": [
            "Accuracy of the network on the validation images: 33 %\n"
          ]
        }
      ]
    },
    {
      "cell_type": "markdown",
      "source": [
        "Visualizando os tensores do modelo após o treinamento"
      ],
      "metadata": {
        "id": "Z5gO8zq0SGu0"
      }
    },
    {
      "cell_type": "code",
      "source": [
        "for param in model.parameters():\n",
        "    print(param)"
      ],
      "metadata": {
        "colab": {
          "base_uri": "https://localhost:8080/"
        },
        "id": "56kBIVsvRJIw",
        "outputId": "68166839-d8f0-4823-b42b-65c90238a129"
      },
      "execution_count": 315,
      "outputs": [
        {
          "output_type": "stream",
          "name": "stdout",
          "text": [
            "Parameter containing:\n",
            "tensor([[-3.6272e-03,  5.7986e-03, -7.4155e-03,  ...,  4.6495e-03,\n",
            "         -8.6702e-03, -7.9092e-03],\n",
            "        [-3.6228e-03,  8.7745e-03, -5.4646e-03,  ..., -9.3026e-04,\n",
            "          2.7533e-06,  6.9322e-03],\n",
            "        [-8.6053e-03,  2.9885e-03,  2.7133e-03,  ...,  7.7761e-03,\n",
            "          3.0435e-03,  6.7723e-03],\n",
            "        ...,\n",
            "        [-5.7060e-03, -1.0136e-03, -6.4023e-03,  ..., -1.0778e-02,\n",
            "          5.6586e-03, -7.7848e-03],\n",
            "        [-2.9653e-03, -1.1707e-02,  3.1968e-03,  ...,  4.3790e-03,\n",
            "          5.9423e-03,  6.1415e-03],\n",
            "        [-4.5038e-04,  2.1123e-03,  1.2016e-02,  ...,  1.1900e-02,\n",
            "          7.0941e-03, -1.9045e-03]], requires_grad=True)\n",
            "Parameter containing:\n",
            "tensor([ 7.4628e-03, -1.7310e-05,  5.1200e-03,  ..., -1.1929e-02,\n",
            "        -3.6715e-03, -1.2189e-02], requires_grad=True)\n",
            "Parameter containing:\n",
            "tensor([[-0.0060,  0.0029,  0.0137,  ...,  0.0017, -0.0107, -0.0100],\n",
            "        [-0.0042,  0.0051,  0.0105,  ..., -0.0116,  0.0082,  0.0062],\n",
            "        [-0.0132,  0.0031, -0.0160,  ..., -0.0018, -0.0076,  0.0025],\n",
            "        ...,\n",
            "        [-0.0057,  0.0033,  0.0094,  ...,  0.0049,  0.0116, -0.0086],\n",
            "        [-0.0057, -0.0164, -0.0060,  ..., -0.0052,  0.0101,  0.0111],\n",
            "        [ 0.0002,  0.0128, -0.0176,  ..., -0.0099,  0.0161, -0.0110]],\n",
            "       requires_grad=True)\n",
            "Parameter containing:\n",
            "tensor([ 0.0048,  0.0066, -0.0030,  ...,  0.0128, -0.0021, -0.0089],\n",
            "       requires_grad=True)\n",
            "Parameter containing:\n",
            "tensor([[ 0.0061, -0.0041,  0.0089,  ...,  0.0133,  0.0047, -0.0086],\n",
            "        [ 0.0057, -0.0068,  0.0108,  ...,  0.0090, -0.0028, -0.0121],\n",
            "        [ 0.0008,  0.0058, -0.0072,  ...,  0.0145,  0.0182,  0.0133],\n",
            "        ...,\n",
            "        [ 0.0065,  0.0044,  0.0048,  ..., -0.0085,  0.0071,  0.0160],\n",
            "        [-0.0177, -0.0048,  0.0036,  ...,  0.0096,  0.0143,  0.0145],\n",
            "        [ 0.0184,  0.0064, -0.0024,  ...,  0.0112, -0.0140,  0.0168]],\n",
            "       requires_grad=True)\n",
            "Parameter containing:\n",
            "tensor([ 0.0083, -0.0037,  0.0108,  ...,  0.0214, -0.0060,  0.0099],\n",
            "       requires_grad=True)\n",
            "Parameter containing:\n",
            "tensor([[ 0.0095,  0.0008,  0.0096,  ..., -0.0169, -0.0115, -0.0014],\n",
            "        [ 0.0122,  0.0070, -0.0003,  ..., -0.0098, -0.0070,  0.0045],\n",
            "        [ 0.0028, -0.0023,  0.0005,  ...,  0.0145,  0.0070,  0.0139],\n",
            "        ...,\n",
            "        [ 0.0047, -0.0093, -0.0086,  ..., -0.0066, -0.0101,  0.0010],\n",
            "        [-0.0126, -0.0038,  0.0036,  ..., -0.0089, -0.0085, -0.0193],\n",
            "        [-0.0008, -0.0067,  0.0025,  ...,  0.0014, -0.0164, -0.0200]],\n",
            "       requires_grad=True)\n",
            "Parameter containing:\n",
            "tensor([ 2.5659e-03,  1.1367e-02,  3.7972e-03,  2.1523e-03, -1.2186e-02,\n",
            "         1.2966e-02, -7.9081e-03, -1.8080e-02, -1.1677e-02,  1.1590e-02,\n",
            "        -1.8914e-02, -7.2873e-03, -6.3197e-03, -1.0357e-02,  2.7045e-03,\n",
            "        -1.2544e-02, -1.1515e-02,  1.4532e-02, -9.8229e-03, -1.6176e-02,\n",
            "        -2.0111e-02, -1.0881e-02, -3.7031e-04, -7.0164e-04, -1.4412e-02,\n",
            "        -1.0070e-02, -2.8858e-03,  1.2708e-02,  1.1045e-02,  9.3607e-03,\n",
            "        -3.2230e-05, -6.2613e-03, -7.2742e-03, -1.3907e-02, -7.8421e-03,\n",
            "         6.5137e-04, -1.6766e-02,  9.3209e-03, -7.2659e-03,  1.4066e-02,\n",
            "         2.4732e-03,  8.8501e-03, -1.4534e-02,  4.4239e-03,  4.7103e-03,\n",
            "        -1.1804e-02,  1.3423e-02,  9.9116e-03,  7.4223e-03, -6.9644e-03,\n",
            "         8.9290e-03, -5.8115e-03, -1.2094e-02,  1.3770e-02, -2.7498e-04,\n",
            "        -1.4656e-02, -1.0728e-03,  1.0409e-02,  9.6271e-03, -1.3765e-03,\n",
            "        -1.1869e-02, -1.4452e-02,  9.9567e-03, -1.3337e-02,  7.2440e-04,\n",
            "        -1.3008e-02, -5.1949e-03, -8.8908e-03, -8.1410e-03,  5.2230e-03,\n",
            "        -2.0022e-02,  1.4018e-02, -7.4397e-03, -1.9519e-02, -8.6376e-03,\n",
            "        -4.5140e-03,  1.0970e-02, -1.3172e-02, -2.4618e-03, -8.3115e-03,\n",
            "         1.5185e-02,  2.5592e-03,  1.0046e-02,  1.9084e-03, -2.6617e-03,\n",
            "        -1.5052e-02, -1.1096e-02,  1.0452e-03, -2.1111e-04, -1.8949e-02,\n",
            "         4.0575e-03,  1.1836e-03, -4.9017e-05, -6.4642e-03, -1.4813e-03,\n",
            "        -1.4782e-02, -1.3377e-02, -1.2712e-02,  2.9604e-03,  7.2500e-03,\n",
            "        -1.5423e-02,  1.1460e-02,  5.0619e-03, -7.7387e-03, -8.5829e-03,\n",
            "        -4.2743e-03, -7.7121e-03, -7.6171e-03, -1.8934e-02, -7.6594e-04,\n",
            "        -1.4215e-02,  9.6096e-03, -1.1928e-02,  1.3602e-02, -8.0711e-03,\n",
            "        -7.3714e-03,  1.0114e-02, -1.9112e-02,  6.7823e-03,  1.4340e-02,\n",
            "        -1.0452e-03, -1.4991e-02, -7.1913e-03, -9.4994e-03,  5.7748e-03,\n",
            "        -5.2989e-03, -1.0308e-02, -1.7815e-02, -1.4070e-02, -1.1312e-02,\n",
            "        -2.6646e-03, -5.0373e-03, -6.6587e-03,  7.8862e-03,  1.2389e-04,\n",
            "        -9.8059e-03, -1.4851e-02, -6.4458e-04, -1.8204e-02, -1.4516e-04,\n",
            "        -7.4721e-03, -1.8684e-02, -1.2483e-02, -1.1951e-02, -5.4460e-03,\n",
            "         1.3963e-02, -4.9032e-03,  8.6245e-03, -8.8268e-03, -1.1219e-02,\n",
            "        -1.4798e-02, -1.2757e-02,  1.1377e-02, -3.6870e-03, -4.7222e-03,\n",
            "         3.1816e-03, -1.2575e-02, -5.0867e-03, -1.4953e-02,  6.7547e-03,\n",
            "        -1.6072e-02,  7.0228e-03, -4.0869e-03, -1.2450e-02, -7.1996e-03,\n",
            "         3.4173e-03,  8.1168e-03, -6.6365e-03,  1.2441e-02, -1.9002e-03,\n",
            "         1.9481e-02,  2.9182e-03,  3.9985e-03,  1.4649e-02,  1.1081e-02,\n",
            "         1.0400e-03,  1.2267e-02,  1.9220e-05, -1.0146e-02,  4.3156e-05,\n",
            "        -9.8784e-04, -1.2142e-02, -1.2235e-02,  6.6772e-03, -6.6666e-04,\n",
            "        -2.9815e-03,  8.1254e-03,  6.3088e-03, -1.4785e-02, -1.7985e-02,\n",
            "         7.1208e-03,  1.4729e-02,  5.0347e-03, -1.6533e-02, -1.7280e-02,\n",
            "        -1.6694e-02, -4.1244e-03,  7.9990e-04,  9.2913e-03,  6.4519e-03,\n",
            "        -9.5133e-03, -7.3349e-03,  1.1555e-02,  1.5253e-02, -7.7847e-03,\n",
            "         1.6078e-02,  2.4628e-03, -1.7728e-02,  1.0557e-02,  1.4398e-02,\n",
            "         1.7372e-02,  4.3209e-03, -9.9909e-03,  2.9943e-03,  5.7625e-03,\n",
            "         5.3715e-03,  1.4745e-02,  1.5529e-02, -5.6288e-03,  1.0433e-02,\n",
            "         2.5227e-04,  7.9824e-03,  1.4161e-02, -9.0699e-03, -3.8889e-04,\n",
            "        -4.2984e-03, -1.8759e-02,  1.0320e-02, -1.9190e-02, -3.8172e-03,\n",
            "        -1.6699e-03,  1.2275e-02, -1.6691e-02,  4.8315e-03,  5.0381e-03,\n",
            "         1.4052e-02,  7.3282e-03,  1.4005e-02,  7.2205e-03, -1.0269e-02,\n",
            "        -7.4702e-03, -1.1144e-02, -1.1980e-02, -8.1478e-03,  6.0478e-03,\n",
            "         9.6309e-03, -6.3496e-03, -7.3770e-04, -5.4003e-03, -1.2930e-02,\n",
            "        -2.5514e-03,  6.5760e-03, -5.6953e-03, -1.5266e-02,  1.3155e-02,\n",
            "         4.2582e-03,  1.2198e-03, -7.8946e-03,  9.7206e-03,  1.6836e-02,\n",
            "        -7.0261e-03, -1.5566e-02,  8.8669e-03,  3.8691e-03,  1.1067e-02,\n",
            "         6.1274e-03, -1.8388e-03, -4.7879e-03,  6.2402e-03, -1.9741e-02,\n",
            "        -6.4711e-03, -1.1903e-02,  2.4818e-03, -1.8254e-02, -1.0172e-02,\n",
            "        -1.8086e-02, -1.2213e-02,  2.0909e-03, -1.1277e-02,  1.2626e-02,\n",
            "        -1.2694e-02, -1.8840e-02,  1.3566e-02, -2.9186e-04, -1.6909e-02,\n",
            "         1.6332e-03, -2.0450e-02, -1.6439e-02, -1.3767e-02,  2.8280e-03,\n",
            "        -6.5014e-04, -1.8682e-02, -3.4370e-04,  4.5677e-03, -1.2895e-02,\n",
            "        -1.5764e-02, -3.9805e-04,  8.9980e-03, -4.9328e-03,  1.5740e-02,\n",
            "         9.9828e-03, -1.2629e-02, -5.3581e-04, -1.2264e-03,  1.1976e-02,\n",
            "        -1.6036e-02, -2.0133e-02,  1.1616e-02,  2.3123e-05,  5.7658e-03,\n",
            "         1.2088e-02, -8.0909e-03, -5.3872e-04, -4.7909e-03,  5.4868e-03,\n",
            "        -6.2569e-03,  5.4485e-03, -3.2471e-03,  1.1639e-02, -7.2604e-03,\n",
            "         1.5979e-02, -9.9312e-04,  9.2117e-03, -1.4884e-02,  1.8325e-04,\n",
            "        -1.2721e-02, -9.6339e-03,  1.1402e-02,  1.6679e-03, -1.2301e-02,\n",
            "        -9.6543e-03, -9.4109e-03, -4.2234e-03, -1.9090e-02, -1.5337e-02,\n",
            "         1.3166e-02, -1.2157e-03, -2.0512e-02, -2.0332e-02, -6.5195e-03,\n",
            "         6.6729e-03, -6.5067e-03,  1.5105e-02,  9.3297e-03, -1.6282e-02,\n",
            "         7.0063e-03, -7.6677e-03, -5.7371e-03, -1.4067e-02,  4.4005e-03,\n",
            "         8.9127e-03,  2.8514e-03, -8.3396e-03,  1.5147e-02,  9.8478e-03,\n",
            "        -9.5429e-03, -1.9837e-02, -1.2520e-02, -7.5121e-03,  1.0324e-02,\n",
            "        -3.8987e-03,  1.0660e-02,  1.1069e-02,  8.4233e-03, -4.2908e-03,\n",
            "        -9.8892e-03, -7.6364e-03, -2.0359e-02, -8.4850e-03,  1.0677e-02,\n",
            "         1.2056e-03, -2.3264e-03,  4.2033e-03, -2.0935e-02, -1.9278e-02,\n",
            "         1.3187e-03, -2.0523e-02, -4.7004e-03,  1.4812e-03,  5.2014e-03,\n",
            "         1.9303e-03, -1.2394e-02, -1.9100e-02,  1.0807e-02,  4.9126e-03,\n",
            "         8.2340e-03,  1.4551e-02, -1.7114e-02, -1.4637e-02,  5.5760e-03,\n",
            "        -7.7228e-03,  5.1066e-03, -2.0652e-02, -1.3321e-02,  1.4509e-04,\n",
            "         1.4162e-02, -2.7364e-03, -6.9842e-03, -7.3567e-04, -7.1575e-03,\n",
            "        -6.6446e-04,  1.5071e-02, -3.5631e-03, -1.3100e-02, -1.9289e-02,\n",
            "         1.1907e-02,  3.0397e-03, -1.6391e-02,  9.0140e-03, -1.5045e-02,\n",
            "        -9.5222e-03,  3.6142e-03, -3.4036e-04,  1.0872e-02,  2.6600e-03,\n",
            "         1.6584e-02, -3.3939e-03, -1.5242e-02, -1.5916e-02, -1.0848e-02,\n",
            "         4.6892e-03,  2.9909e-03, -6.6335e-03,  7.5033e-03, -1.9507e-03,\n",
            "        -1.1275e-02, -1.2949e-02, -1.7369e-02, -8.6657e-03, -1.0786e-02,\n",
            "         1.5318e-02,  1.3574e-02, -1.2003e-02, -9.7402e-03, -5.4964e-03,\n",
            "         1.6898e-02,  4.9537e-03,  4.8692e-03, -2.1194e-02, -1.1468e-02,\n",
            "         1.2761e-02,  9.0627e-03,  1.1092e-02,  1.0130e-02, -1.6449e-02,\n",
            "        -7.3034e-04,  8.4644e-03, -8.9469e-03,  2.1394e-03, -9.7767e-03,\n",
            "         4.6957e-03,  8.4134e-03,  5.8887e-03, -9.5397e-03, -1.5421e-03,\n",
            "        -1.2150e-03, -1.3246e-02, -4.1385e-03, -5.3220e-03, -4.5063e-03,\n",
            "        -1.7166e-02, -1.7470e-02, -1.3579e-02,  1.5298e-02, -1.3356e-02,\n",
            "        -1.1864e-02, -1.6437e-02, -4.1911e-03,  4.3491e-03, -4.0437e-04,\n",
            "        -9.6004e-03, -1.9875e-03, -2.7035e-03,  4.7064e-03,  8.9945e-03,\n",
            "        -1.6050e-02, -1.4423e-02,  8.8823e-03, -7.6411e-03, -6.0015e-03,\n",
            "        -1.4390e-02,  4.1364e-03,  5.3255e-03,  7.4513e-03, -1.4372e-03,\n",
            "        -3.9747e-03, -1.3300e-03,  1.1213e-02, -5.3045e-03, -1.2522e-02,\n",
            "         1.3906e-02, -1.9402e-02,  9.4032e-03, -2.0707e-02, -1.3076e-02,\n",
            "         1.5009e-02, -1.2298e-02,  1.0929e-02, -1.1531e-02, -6.5181e-03,\n",
            "        -1.8581e-02,  9.0731e-03, -1.4113e-02,  1.5602e-02, -3.1471e-03,\n",
            "        -5.3739e-03, -1.4779e-02, -2.2184e-03, -1.7319e-02, -1.0975e-03,\n",
            "         4.6555e-03, -1.3631e-02,  5.5887e-03, -1.6282e-02, -1.3503e-02,\n",
            "         3.7655e-03, -1.2997e-02, -1.1818e-02,  2.7025e-03, -1.6653e-02,\n",
            "        -9.3170e-03, -1.6738e-02,  1.3366e-02, -2.2003e-03, -2.4550e-03,\n",
            "        -1.3968e-02,  1.8243e-03, -9.2802e-03, -1.7225e-02, -8.8958e-03,\n",
            "        -2.0456e-03,  1.1353e-02, -1.1337e-02, -9.8730e-03, -1.5523e-02,\n",
            "         1.1485e-02, -1.4020e-03,  1.6715e-02, -2.3826e-03,  5.5582e-03,\n",
            "         6.2321e-03,  1.2460e-04,  5.8038e-03,  7.4727e-03, -5.9360e-03,\n",
            "        -7.2926e-03, -1.7379e-02,  3.3479e-03, -1.5558e-02, -1.7510e-02,\n",
            "        -6.5757e-03, -1.8227e-02,  5.4876e-03, -1.5492e-02, -6.7179e-03,\n",
            "        -1.7895e-02, -5.8468e-03, -1.5148e-02, -1.1681e-02, -1.1775e-02,\n",
            "         4.6192e-03, -1.5336e-02, -1.4244e-02,  6.0887e-03, -1.6006e-03,\n",
            "         3.8188e-03,  5.3716e-03,  2.3947e-03,  4.4885e-03,  5.2328e-03,\n",
            "         7.4805e-03, -1.8805e-02,  7.5655e-03, -1.2899e-03,  1.5074e-02,\n",
            "         1.6394e-02, -7.7149e-03, -1.1185e-02, -1.5703e-02, -5.3596e-03,\n",
            "        -1.5032e-02, -3.5503e-03,  1.4960e-02,  1.4324e-02,  7.9186e-03,\n",
            "        -1.6056e-03, -8.0703e-03, -9.7938e-03,  4.1185e-03,  1.1918e-02,\n",
            "        -1.5964e-02,  8.9582e-03, -1.6532e-03,  6.1703e-03, -1.7218e-02,\n",
            "         9.3576e-03, -1.1649e-02,  5.1251e-04,  1.4338e-02, -8.8692e-03],\n",
            "       requires_grad=True)\n",
            "Parameter containing:\n",
            "tensor([[ 0.0291, -0.0204, -0.0105,  ..., -0.0174, -0.0059,  0.0250],\n",
            "        [ 0.0294,  0.0270,  0.0177,  ...,  0.0254,  0.0124, -0.0138],\n",
            "        [ 0.0053,  0.0254, -0.0272,  ...,  0.0411, -0.0074,  0.0320],\n",
            "        [ 0.0325, -0.0282, -0.0373,  ...,  0.0138,  0.0132,  0.0411]],\n",
            "       requires_grad=True)\n",
            "Parameter containing:\n",
            "tensor([-0.0012,  0.0319, -0.0225, -0.0148], requires_grad=True)\n"
          ]
        }
      ]
    },
    {
      "cell_type": "markdown",
      "source": [
        "# Modelo inicializado com Zeros"
      ],
      "metadata": {
        "id": "Ir0JAD84R9xk"
      }
    },
    {
      "cell_type": "code",
      "source": [
        "learning_Rate = 0.0002\n",
        "n_Inputs = images.shape[1] * images.shape[2] * images.shape[3]\n",
        "n_Classes = len(pokemon_train.dataset.classes)\n",
        "p_dropout = 0.5\n",
        "\n",
        "model = torch.nn.Sequential(\n",
        "    torch.nn.Linear(n_Inputs,4000),\n",
        "    torch.nn.ReLU(),\n",
        "    torch.nn.Dropout(p_dropout),\n",
        "\n",
        "    torch.nn.Linear(4000,3000),\n",
        "    torch.nn.ReLU(),\n",
        "    torch.nn.Dropout(p_dropout),\n",
        "\n",
        "    torch.nn.Linear(3000,3000),\n",
        "    torch.nn.ReLU(),\n",
        "    torch.nn.Dropout(p_dropout),\n",
        "\n",
        "    torch.nn.Linear(3000,600),\n",
        "    torch.nn.ReLU(),\n",
        "    torch.nn.Dropout(p_dropout),\n",
        "\n",
        "    torch.nn.Linear(600,n_Classes)\n",
        ")\n",
        "model.to(device)\n",
        "criterion = nn.CrossEntropyLoss()\n",
        "optimizer = optim.Adam(model.parameters(), lr=learning_Rate)\n",
        "#optimizer = optim.SGD(model.parameters(), lr=learning_Rate, momentum=0.9)\n",
        "print(model)"
      ],
      "metadata": {
        "colab": {
          "base_uri": "https://localhost:8080/"
        },
        "id": "5o5oQb3zSoW3",
        "outputId": "3dadcd27-8123-4f64-b62a-c65538264124"
      },
      "execution_count": 316,
      "outputs": [
        {
          "output_type": "stream",
          "name": "stdout",
          "text": [
            "Sequential(\n",
            "  (0): Linear(in_features=7500, out_features=4000, bias=True)\n",
            "  (1): ReLU()\n",
            "  (2): Dropout(p=0.5, inplace=False)\n",
            "  (3): Linear(in_features=4000, out_features=3000, bias=True)\n",
            "  (4): ReLU()\n",
            "  (5): Dropout(p=0.5, inplace=False)\n",
            "  (6): Linear(in_features=3000, out_features=3000, bias=True)\n",
            "  (7): ReLU()\n",
            "  (8): Dropout(p=0.5, inplace=False)\n",
            "  (9): Linear(in_features=3000, out_features=600, bias=True)\n",
            "  (10): ReLU()\n",
            "  (11): Dropout(p=0.5, inplace=False)\n",
            "  (12): Linear(in_features=600, out_features=4, bias=True)\n",
            ")\n"
          ]
        }
      ]
    },
    {
      "cell_type": "code",
      "source": [
        "@torch.no_grad()\n",
        "def init_weights(m):\n",
        "    print(m)\n",
        "    if type(m) == nn.Linear:\n",
        "        m.weight.fill_(0)\n",
        "        #torch.nn.init.uniform_(tensor, a=0.0, b=1.0)\n",
        "        print(m.weight)\n",
        "model.apply(init_weights)"
      ],
      "metadata": {
        "colab": {
          "base_uri": "https://localhost:8080/"
        },
        "id": "bJEhrOWXR3ut",
        "outputId": "6aaf0b6d-ce93-4c25-9a99-b63db293da90"
      },
      "execution_count": 317,
      "outputs": [
        {
          "output_type": "stream",
          "name": "stdout",
          "text": [
            "Linear(in_features=7500, out_features=4000, bias=True)\n",
            "Parameter containing:\n",
            "tensor([[0., 0., 0.,  ..., 0., 0., 0.],\n",
            "        [0., 0., 0.,  ..., 0., 0., 0.],\n",
            "        [0., 0., 0.,  ..., 0., 0., 0.],\n",
            "        ...,\n",
            "        [0., 0., 0.,  ..., 0., 0., 0.],\n",
            "        [0., 0., 0.,  ..., 0., 0., 0.],\n",
            "        [0., 0., 0.,  ..., 0., 0., 0.]], requires_grad=True)\n",
            "ReLU()\n",
            "Dropout(p=0.5, inplace=False)\n",
            "Linear(in_features=4000, out_features=3000, bias=True)\n",
            "Parameter containing:\n",
            "tensor([[0., 0., 0.,  ..., 0., 0., 0.],\n",
            "        [0., 0., 0.,  ..., 0., 0., 0.],\n",
            "        [0., 0., 0.,  ..., 0., 0., 0.],\n",
            "        ...,\n",
            "        [0., 0., 0.,  ..., 0., 0., 0.],\n",
            "        [0., 0., 0.,  ..., 0., 0., 0.],\n",
            "        [0., 0., 0.,  ..., 0., 0., 0.]], requires_grad=True)\n",
            "ReLU()\n",
            "Dropout(p=0.5, inplace=False)\n",
            "Linear(in_features=3000, out_features=3000, bias=True)\n",
            "Parameter containing:\n",
            "tensor([[0., 0., 0.,  ..., 0., 0., 0.],\n",
            "        [0., 0., 0.,  ..., 0., 0., 0.],\n",
            "        [0., 0., 0.,  ..., 0., 0., 0.],\n",
            "        ...,\n",
            "        [0., 0., 0.,  ..., 0., 0., 0.],\n",
            "        [0., 0., 0.,  ..., 0., 0., 0.],\n",
            "        [0., 0., 0.,  ..., 0., 0., 0.]], requires_grad=True)\n",
            "ReLU()\n",
            "Dropout(p=0.5, inplace=False)\n",
            "Linear(in_features=3000, out_features=600, bias=True)\n",
            "Parameter containing:\n",
            "tensor([[0., 0., 0.,  ..., 0., 0., 0.],\n",
            "        [0., 0., 0.,  ..., 0., 0., 0.],\n",
            "        [0., 0., 0.,  ..., 0., 0., 0.],\n",
            "        ...,\n",
            "        [0., 0., 0.,  ..., 0., 0., 0.],\n",
            "        [0., 0., 0.,  ..., 0., 0., 0.],\n",
            "        [0., 0., 0.,  ..., 0., 0., 0.]], requires_grad=True)\n",
            "ReLU()\n",
            "Dropout(p=0.5, inplace=False)\n",
            "Linear(in_features=600, out_features=4, bias=True)\n",
            "Parameter containing:\n",
            "tensor([[0., 0., 0.,  ..., 0., 0., 0.],\n",
            "        [0., 0., 0.,  ..., 0., 0., 0.],\n",
            "        [0., 0., 0.,  ..., 0., 0., 0.],\n",
            "        [0., 0., 0.,  ..., 0., 0., 0.]], requires_grad=True)\n",
            "Sequential(\n",
            "  (0): Linear(in_features=7500, out_features=4000, bias=True)\n",
            "  (1): ReLU()\n",
            "  (2): Dropout(p=0.5, inplace=False)\n",
            "  (3): Linear(in_features=4000, out_features=3000, bias=True)\n",
            "  (4): ReLU()\n",
            "  (5): Dropout(p=0.5, inplace=False)\n",
            "  (6): Linear(in_features=3000, out_features=3000, bias=True)\n",
            "  (7): ReLU()\n",
            "  (8): Dropout(p=0.5, inplace=False)\n",
            "  (9): Linear(in_features=3000, out_features=600, bias=True)\n",
            "  (10): ReLU()\n",
            "  (11): Dropout(p=0.5, inplace=False)\n",
            "  (12): Linear(in_features=600, out_features=4, bias=True)\n",
            ")\n"
          ]
        },
        {
          "output_type": "execute_result",
          "data": {
            "text/plain": [
              "Sequential(\n",
              "  (0): Linear(in_features=7500, out_features=4000, bias=True)\n",
              "  (1): ReLU()\n",
              "  (2): Dropout(p=0.5, inplace=False)\n",
              "  (3): Linear(in_features=4000, out_features=3000, bias=True)\n",
              "  (4): ReLU()\n",
              "  (5): Dropout(p=0.5, inplace=False)\n",
              "  (6): Linear(in_features=3000, out_features=3000, bias=True)\n",
              "  (7): ReLU()\n",
              "  (8): Dropout(p=0.5, inplace=False)\n",
              "  (9): Linear(in_features=3000, out_features=600, bias=True)\n",
              "  (10): ReLU()\n",
              "  (11): Dropout(p=0.5, inplace=False)\n",
              "  (12): Linear(in_features=600, out_features=4, bias=True)\n",
              ")"
            ]
          },
          "metadata": {},
          "execution_count": 317
        }
      ]
    },
    {
      "cell_type": "code",
      "source": [
        "for param in model.parameters():\n",
        "    print(param)"
      ],
      "metadata": {
        "colab": {
          "base_uri": "https://localhost:8080/"
        },
        "id": "tpK02Yj9R8E4",
        "outputId": "3db693aa-95c5-4eda-e0e4-0876de3be0f8"
      },
      "execution_count": 318,
      "outputs": [
        {
          "output_type": "stream",
          "name": "stdout",
          "text": [
            "Parameter containing:\n",
            "tensor([[0., 0., 0.,  ..., 0., 0., 0.],\n",
            "        [0., 0., 0.,  ..., 0., 0., 0.],\n",
            "        [0., 0., 0.,  ..., 0., 0., 0.],\n",
            "        ...,\n",
            "        [0., 0., 0.,  ..., 0., 0., 0.],\n",
            "        [0., 0., 0.,  ..., 0., 0., 0.],\n",
            "        [0., 0., 0.,  ..., 0., 0., 0.]], requires_grad=True)\n",
            "Parameter containing:\n",
            "tensor([ 0.0025,  0.0037,  0.0082,  ..., -0.0092,  0.0051,  0.0036],\n",
            "       requires_grad=True)\n",
            "Parameter containing:\n",
            "tensor([[0., 0., 0.,  ..., 0., 0., 0.],\n",
            "        [0., 0., 0.,  ..., 0., 0., 0.],\n",
            "        [0., 0., 0.,  ..., 0., 0., 0.],\n",
            "        ...,\n",
            "        [0., 0., 0.,  ..., 0., 0., 0.],\n",
            "        [0., 0., 0.,  ..., 0., 0., 0.],\n",
            "        [0., 0., 0.,  ..., 0., 0., 0.]], requires_grad=True)\n",
            "Parameter containing:\n",
            "tensor([-0.0058, -0.0075, -0.0062,  ...,  0.0073,  0.0054, -0.0066],\n",
            "       requires_grad=True)\n",
            "Parameter containing:\n",
            "tensor([[0., 0., 0.,  ..., 0., 0., 0.],\n",
            "        [0., 0., 0.,  ..., 0., 0., 0.],\n",
            "        [0., 0., 0.,  ..., 0., 0., 0.],\n",
            "        ...,\n",
            "        [0., 0., 0.,  ..., 0., 0., 0.],\n",
            "        [0., 0., 0.,  ..., 0., 0., 0.],\n",
            "        [0., 0., 0.,  ..., 0., 0., 0.]], requires_grad=True)\n",
            "Parameter containing:\n",
            "tensor([-0.0001, -0.0069, -0.0104,  ..., -0.0086,  0.0178, -0.0136],\n",
            "       requires_grad=True)\n",
            "Parameter containing:\n",
            "tensor([[0., 0., 0.,  ..., 0., 0., 0.],\n",
            "        [0., 0., 0.,  ..., 0., 0., 0.],\n",
            "        [0., 0., 0.,  ..., 0., 0., 0.],\n",
            "        ...,\n",
            "        [0., 0., 0.,  ..., 0., 0., 0.],\n",
            "        [0., 0., 0.,  ..., 0., 0., 0.],\n",
            "        [0., 0., 0.,  ..., 0., 0., 0.]], requires_grad=True)\n",
            "Parameter containing:\n",
            "tensor([-1.5325e-02,  2.6362e-03, -2.5032e-03,  2.5448e-03, -1.2515e-02,\n",
            "        -1.3304e-02,  7.3442e-03,  1.5833e-02, -1.6344e-03,  7.7458e-03,\n",
            "        -1.8015e-04, -1.4785e-02,  7.8069e-03, -1.3139e-02, -1.2512e-03,\n",
            "         1.2392e-02,  1.1258e-02,  1.5708e-02, -5.5889e-03,  5.0474e-04,\n",
            "         1.7872e-02, -2.5234e-03,  4.2889e-03, -7.3790e-05,  1.7001e-02,\n",
            "        -8.0525e-04,  7.5494e-04, -5.0728e-03, -1.9353e-03,  1.2901e-02,\n",
            "         1.1113e-02, -1.1389e-02,  1.5690e-02,  1.6382e-02,  6.8785e-03,\n",
            "        -1.0984e-02,  9.4554e-03,  7.2498e-03, -4.3149e-03,  9.7713e-03,\n",
            "        -8.4288e-04, -1.7281e-02,  1.3964e-02, -2.5887e-04, -1.1516e-02,\n",
            "        -1.4446e-03,  1.7923e-02, -1.7707e-02,  1.1459e-02, -4.2777e-03,\n",
            "        -1.5682e-02,  7.3800e-03, -1.4249e-02, -1.4317e-02, -1.7282e-02,\n",
            "        -7.8986e-04,  4.7438e-03, -3.2253e-03, -7.7141e-03, -3.5866e-03,\n",
            "         1.5831e-02, -1.1111e-02,  1.6348e-02, -1.0577e-02,  6.0915e-03,\n",
            "         8.1584e-03,  1.8830e-03, -1.6452e-02,  1.6740e-02, -1.2795e-02,\n",
            "         8.8951e-03,  2.3545e-03,  1.1707e-02,  8.1708e-03,  2.4690e-03,\n",
            "        -1.6038e-02,  1.6659e-02, -1.1416e-02,  8.0828e-03, -5.3871e-03,\n",
            "        -4.2779e-03,  4.0820e-03,  1.2450e-02,  5.2510e-03,  1.0840e-02,\n",
            "         3.2355e-03,  5.0723e-03, -4.1115e-03,  7.5069e-03, -1.3712e-02,\n",
            "        -2.6971e-03, -1.2124e-02, -9.1693e-03,  1.1304e-02, -6.9677e-03,\n",
            "        -1.4867e-02,  1.5355e-02, -9.3813e-03, -1.0540e-02, -4.8360e-03,\n",
            "         1.1149e-02, -1.1530e-02,  1.1069e-02, -9.6408e-03,  2.7598e-03,\n",
            "         5.7225e-03, -6.7258e-03,  1.1148e-02,  6.7521e-03,  3.4669e-03,\n",
            "         9.8127e-03,  1.6548e-02,  1.8055e-03, -1.0853e-02,  4.1734e-03,\n",
            "        -4.5113e-03, -1.5979e-02, -2.7038e-03, -9.0904e-03, -8.0175e-03,\n",
            "        -2.1099e-03, -2.5116e-03,  5.6713e-03, -7.7666e-04, -1.2458e-02,\n",
            "        -1.7851e-02,  1.4238e-02,  1.2432e-02, -5.7097e-03, -8.6341e-03,\n",
            "         3.2121e-03,  1.1567e-02,  8.4941e-03,  1.5197e-02,  4.0645e-03,\n",
            "         3.6603e-03, -1.2522e-02, -3.3192e-03, -1.1740e-03, -6.3302e-03,\n",
            "        -3.0528e-03,  1.8887e-04, -1.3843e-02,  1.5012e-02,  1.4889e-02,\n",
            "         7.6836e-03, -9.7684e-03, -5.7423e-03,  1.3858e-03,  6.8415e-04,\n",
            "         1.4635e-02,  1.7370e-02, -1.3147e-02,  9.7810e-03,  1.3048e-02,\n",
            "         2.5966e-03, -5.7058e-03, -1.4839e-02, -6.9820e-03,  3.4497e-03,\n",
            "        -2.2549e-03, -1.6945e-02, -9.1348e-03,  6.5737e-03,  6.5498e-04,\n",
            "        -1.3571e-02, -1.4665e-02,  1.7222e-02, -4.9654e-03, -9.9297e-03,\n",
            "        -5.2050e-03, -1.0071e-02,  1.0826e-02, -7.6343e-03,  7.6900e-03,\n",
            "        -1.7841e-02, -1.4457e-02,  1.3920e-03,  4.6656e-03, -1.6827e-02,\n",
            "        -7.4028e-03,  6.4699e-03, -1.5436e-02,  6.0360e-03,  1.7209e-02,\n",
            "         9.0084e-04,  1.8177e-02,  5.6105e-03,  3.6681e-03, -1.5534e-02,\n",
            "         1.2293e-02, -1.5590e-03,  1.7780e-02, -1.2216e-03,  1.2782e-02,\n",
            "        -7.1094e-03, -1.2711e-02, -1.0400e-02, -2.2803e-03,  1.8223e-02,\n",
            "        -2.0209e-03,  6.5277e-03,  2.7110e-03, -6.5695e-04, -1.9129e-03,\n",
            "         1.5524e-02, -1.5097e-02,  1.8055e-03, -5.0148e-03, -1.7269e-02,\n",
            "        -6.8731e-03,  1.3026e-02,  1.4954e-02, -9.8648e-03,  1.4170e-03,\n",
            "         1.5339e-03, -1.5189e-02,  3.4078e-03, -1.4858e-02,  3.9347e-03,\n",
            "         1.4305e-02, -3.1895e-03, -1.1856e-02,  1.7866e-02,  2.9029e-03,\n",
            "        -3.1603e-03,  5.3923e-03,  2.4568e-03,  4.5877e-03,  2.0153e-03,\n",
            "        -3.1232e-03,  1.8088e-02,  6.5173e-03, -1.3783e-02,  1.4463e-02,\n",
            "        -1.4891e-02,  9.9623e-03,  9.9100e-04,  1.0118e-02, -1.4378e-02,\n",
            "        -1.7868e-02, -6.1171e-03,  1.4175e-02,  2.6568e-05,  5.2983e-03,\n",
            "        -5.6623e-03, -1.7898e-02, -9.6967e-03, -1.3584e-02,  3.8845e-03,\n",
            "        -1.4234e-02,  1.3859e-02,  1.3088e-02,  9.3754e-03, -9.2479e-04,\n",
            "        -9.9133e-03,  4.7205e-03,  3.3855e-03, -1.8231e-02,  1.6021e-02,\n",
            "        -4.4897e-03,  6.2558e-03,  1.0421e-02,  6.9774e-03, -9.9411e-03,\n",
            "         8.7107e-03, -4.7662e-03, -1.7138e-02,  1.5811e-02,  1.1954e-02,\n",
            "         6.0327e-03,  2.2777e-03,  1.6018e-02, -1.2032e-02, -9.4240e-03,\n",
            "         5.6804e-03,  2.7383e-03, -4.2006e-03,  7.6080e-03, -4.3925e-03,\n",
            "         1.2687e-02,  1.1299e-02,  1.6685e-02, -9.0578e-03, -1.5272e-02,\n",
            "        -1.6259e-02, -2.1311e-03, -2.7517e-03,  1.0663e-02,  1.1976e-02,\n",
            "        -1.3298e-02,  1.3461e-02,  3.1421e-03, -9.2261e-03,  1.4235e-02,\n",
            "         1.2059e-02,  4.3405e-03,  6.3210e-03,  8.9865e-03, -5.0866e-03,\n",
            "         1.5884e-02, -1.0070e-02, -1.1657e-02,  7.9858e-03, -1.3704e-02,\n",
            "         1.0154e-02, -1.3786e-02,  4.9835e-03,  2.6424e-03,  9.4249e-03,\n",
            "        -1.2026e-02,  1.6303e-02, -9.1442e-03, -5.6523e-03, -8.8765e-03,\n",
            "        -1.1166e-02,  1.6967e-02, -9.3918e-03,  3.5493e-04, -1.1006e-02,\n",
            "         1.1291e-02,  4.4148e-03, -2.2269e-03,  1.5730e-02,  1.0697e-02,\n",
            "        -7.2215e-03, -1.7351e-02, -6.9541e-03,  9.7558e-03, -1.5267e-02,\n",
            "        -1.5007e-02,  1.9921e-03, -1.6607e-02,  1.6244e-02,  3.1662e-03,\n",
            "         1.7721e-02,  1.5888e-02,  1.1286e-04, -7.1059e-03, -5.7251e-03,\n",
            "        -7.3687e-03, -1.7432e-02, -1.3188e-02, -1.6729e-02, -6.0332e-03,\n",
            "         6.1197e-03, -1.3629e-02,  9.6553e-03, -4.1568e-03, -1.5972e-02,\n",
            "         1.4577e-02, -7.9583e-03,  1.2253e-02, -7.3184e-03, -1.2419e-02,\n",
            "        -1.4967e-02, -4.4653e-03,  8.5141e-03,  7.3721e-03, -9.0780e-03,\n",
            "        -1.2815e-02, -1.7221e-02,  3.7880e-03,  1.2340e-02,  1.3612e-02,\n",
            "         2.8319e-03, -4.0602e-03,  9.8903e-03, -3.2874e-03, -2.3724e-03,\n",
            "        -1.7481e-02,  1.4491e-02, -7.7787e-03,  1.6292e-02,  1.3556e-02,\n",
            "        -3.4281e-03,  3.0037e-03, -1.3201e-02, -1.0832e-02, -3.2956e-03,\n",
            "         1.3486e-02,  5.6128e-04, -1.8129e-02,  1.1757e-02, -1.4288e-03,\n",
            "        -1.4177e-02,  5.0860e-03, -3.0153e-03, -3.7375e-03, -1.1788e-02,\n",
            "         1.7779e-02,  1.0885e-02,  1.4731e-02, -2.4058e-03,  1.4608e-02,\n",
            "         1.4625e-03,  1.5869e-02, -6.3297e-03, -6.1767e-04, -1.7503e-03,\n",
            "         7.6805e-03,  1.6079e-02, -1.6693e-02,  1.3675e-02,  6.0298e-04,\n",
            "         1.9004e-03, -4.1808e-04, -1.9310e-03, -8.0984e-03, -6.7202e-03,\n",
            "         8.2708e-03,  1.5664e-02,  9.1761e-03,  1.0194e-02, -1.0680e-02,\n",
            "         1.3157e-02, -4.6559e-03, -1.1973e-02, -7.9283e-03, -1.4047e-02,\n",
            "        -1.3019e-02,  7.9495e-03,  9.0926e-03,  3.3874e-04, -5.6442e-03,\n",
            "        -3.8641e-03,  7.7229e-03,  1.6885e-02, -8.9082e-03,  1.6338e-02,\n",
            "        -2.7564e-03, -1.4577e-02, -2.4712e-03, -1.3742e-02, -1.1509e-02,\n",
            "        -2.8718e-03,  5.2697e-03, -6.9696e-03,  7.6367e-03,  8.4264e-04,\n",
            "         2.1643e-03, -1.6868e-02,  1.1019e-02,  1.5364e-02, -1.1002e-02,\n",
            "         1.4416e-02, -5.6269e-03, -1.5646e-02,  1.5093e-02,  1.6667e-02,\n",
            "        -8.8801e-03,  9.5336e-03,  2.9957e-03,  1.3739e-02, -1.4964e-02,\n",
            "        -2.1818e-03, -1.7828e-02,  1.8152e-02, -1.4410e-02,  1.2184e-02,\n",
            "        -7.8418e-04,  1.4640e-02,  9.5851e-04,  1.2708e-02,  7.7035e-03,\n",
            "         1.5034e-02, -2.4007e-03, -8.3379e-03,  6.7600e-03,  4.2648e-03,\n",
            "         8.3106e-03, -1.5711e-02, -7.2866e-03, -1.2071e-02, -6.4332e-03,\n",
            "        -9.9635e-03,  1.0922e-02,  1.3471e-03,  1.1900e-02, -7.8012e-04,\n",
            "         1.7418e-02,  1.6591e-02, -3.9865e-03,  1.2070e-02,  1.2465e-02,\n",
            "        -3.8098e-03,  9.4369e-03,  4.2070e-03, -1.4371e-03,  7.3581e-03,\n",
            "         3.4787e-03,  1.4929e-02, -1.8187e-02,  9.8469e-03,  6.2687e-03,\n",
            "         1.7863e-02,  4.1616e-03,  1.2068e-02,  1.7547e-02,  6.5569e-03,\n",
            "         1.6675e-02,  3.9270e-03, -1.1129e-03,  1.6183e-02, -1.6843e-02,\n",
            "         1.6715e-06, -4.6822e-03, -1.0908e-02, -1.2667e-03, -1.3915e-02,\n",
            "        -1.7210e-03,  1.5749e-02, -1.1954e-02,  1.4890e-02,  1.3975e-02,\n",
            "         1.6086e-02, -1.1061e-02, -1.5699e-02,  1.1055e-03,  2.2126e-04,\n",
            "         1.0814e-02, -1.8166e-02,  6.0007e-03, -1.7307e-02,  1.1421e-02,\n",
            "         1.1929e-02,  5.6803e-03, -5.5927e-03,  5.6649e-03, -2.8126e-03,\n",
            "        -8.3795e-03,  1.4744e-02, -4.4487e-03,  6.1972e-03,  1.3880e-03,\n",
            "         4.3896e-03,  6.2590e-03,  1.0261e-03,  1.1660e-02, -1.5745e-02,\n",
            "         1.1001e-02, -4.9971e-03,  8.6933e-03,  2.3098e-03,  1.7001e-02,\n",
            "         4.5513e-03,  3.0945e-03, -1.0531e-02,  6.2858e-03, -1.7940e-02,\n",
            "        -6.3726e-03, -8.6766e-03,  9.0225e-04, -1.0354e-02,  3.0027e-03,\n",
            "         1.1687e-02,  1.3154e-03, -1.8106e-02,  1.6549e-02,  8.9544e-03,\n",
            "        -1.1097e-02,  1.7366e-02,  5.0140e-03,  7.9195e-03,  9.1595e-04,\n",
            "         9.8643e-03, -7.8445e-03,  3.3364e-03,  1.1712e-02, -5.7451e-03,\n",
            "         5.8213e-03, -1.5691e-02, -6.9102e-03,  5.6836e-03, -1.4411e-02,\n",
            "         1.0872e-02, -5.6116e-03,  4.2928e-03, -1.3725e-02,  8.0798e-04,\n",
            "         1.1962e-02, -1.3202e-03, -6.6635e-03,  1.1211e-02, -4.5950e-03,\n",
            "        -2.4185e-03,  6.5667e-03, -6.6306e-04, -8.9945e-03,  3.5433e-04,\n",
            "         3.7568e-03, -9.6075e-05,  3.8842e-03, -1.5590e-02, -7.6845e-03,\n",
            "        -8.1875e-03,  1.7268e-02,  1.7856e-02, -1.2061e-02,  8.3709e-03],\n",
            "       requires_grad=True)\n",
            "Parameter containing:\n",
            "tensor([[0., 0., 0.,  ..., 0., 0., 0.],\n",
            "        [0., 0., 0.,  ..., 0., 0., 0.],\n",
            "        [0., 0., 0.,  ..., 0., 0., 0.],\n",
            "        [0., 0., 0.,  ..., 0., 0., 0.]], requires_grad=True)\n",
            "Parameter containing:\n",
            "tensor([0.0197, 0.0109, 0.0125, 0.0253], requires_grad=True)\n"
          ]
        }
      ]
    },
    {
      "cell_type": "code",
      "source": [
        "errors_train, errors_test, accuracy_test = train_model(50)"
      ],
      "metadata": {
        "colab": {
          "base_uri": "https://localhost:8080/"
        },
        "id": "DCOzGHq5SXzb",
        "outputId": "dcddbc0a-cff8-46da-83d1-666d1c3ee059"
      },
      "execution_count": 319,
      "outputs": [
        {
          "output_type": "stream",
          "name": "stderr",
          "text": [
            "/usr/local/lib/python3.7/dist-packages/PIL/Image.py:960: UserWarning:\n",
            "\n",
            "Palette images with Transparency expressed in bytes should be converted to RGBA images\n",
            "\n"
          ]
        },
        {
          "output_type": "stream",
          "name": "stdout",
          "text": [
            "Epochs: 0, error train: 0.027818252093827905, error test: 0.07700610160827637\n",
            "Accuracy 0.4285714328289032\n",
            "Epochs: 1, error train: 0.027586458915442078, error test: 0.07549544175465901\n",
            "Accuracy 0.4285714328289032\n",
            "Epochs: 2, error train: 0.02648769012048616, error test: 0.0802212225066291\n",
            "Accuracy 0.4285714328289032\n",
            "Epochs: 3, error train: 0.026526759018251047, error test: 0.07732354270087348\n",
            "Accuracy 0.4285714328289032\n",
            "Epochs: 4, error train: 0.02612101252953611, error test: 0.07872700691223145\n",
            "Accuracy 0.4285714328289032\n",
            "Epochs: 5, error train: 0.02541284824735555, error test: 0.08437436156802708\n",
            "Accuracy 0.4285714328289032\n",
            "Epochs: 6, error train: 0.02600298095588109, error test: 0.0774223804473877\n",
            "Accuracy 0.4285714328289032\n",
            "Epochs: 7, error train: 0.02582659553642848, error test: 0.07511566744910346\n",
            "Accuracy 0.4285714328289032\n",
            "Epochs: 8, error train: 0.02506319961356158, error test: 0.07494874795277913\n",
            "Accuracy 0.4285714328289032\n",
            "Epochs: 9, error train: 0.025298474422052276, error test: 0.07130293051401775\n",
            "Accuracy 0.4285714328289032\n",
            "Epochs: 10, error train: 0.024582864651128876, error test: 0.06895625591278076\n",
            "Accuracy 0.4285714328289032\n",
            "Epochs: 11, error train: 0.024179520319454632, error test: 0.07264441251754761\n",
            "Accuracy 0.4285714328289032\n",
            "Epochs: 12, error train: 0.02388477804672778, error test: 0.08205281363593207\n",
            "Accuracy 0.4285714328289032\n",
            "Epochs: 13, error train: 0.023298892543543524, error test: 0.08298659324645996\n",
            "Accuracy 0.4285714328289032\n",
            "Epochs: 14, error train: 0.02433415693254327, error test: 0.0680126084221734\n",
            "Accuracy 0.4285714328289032\n",
            "Epochs: 15, error train: 0.02347013519037908, error test: 0.07060000631544325\n",
            "Accuracy 0.4285714328289032\n",
            "Epochs: 16, error train: 0.02388924150610689, error test: 0.08034649160173205\n",
            "Accuracy 0.4285714328289032\n",
            "Epochs: 17, error train: 0.024060421253568564, error test: 0.06470163000954522\n",
            "Accuracy 0.4285714328289032\n",
            "Epochs: 18, error train: 0.024260142939773636, error test: 0.0707089900970459\n",
            "Accuracy 0.4285714328289032\n",
            "Epochs: 19, error train: 0.02393788488666017, error test: 0.07921614911821154\n",
            "Accuracy 0.4285714328289032\n",
            "Epochs: 20, error train: 0.02394261851382615, error test: 0.07321275605095758\n",
            "Accuracy 0.4285714328289032\n",
            "Epochs: 21, error train: 0.02370270592483444, error test: 0.06893372535705566\n",
            "Accuracy 0.4285714328289032\n",
            "Epochs: 22, error train: 0.022952252296946158, error test: 0.06503769424226549\n",
            "Accuracy 0.4285714328289032\n",
            "Epochs: 23, error train: 0.02418131864250605, error test: 0.07794785499572754\n",
            "Accuracy 0.4285714328289032\n",
            "Epochs: 24, error train: 0.023364141358802066, error test: 0.07038587994045681\n",
            "Accuracy 0.4285714328289032\n",
            "Epochs: 25, error train: 0.024158971992569354, error test: 0.06595073143641154\n",
            "Accuracy 0.4285714328289032\n",
            "Epochs: 26, error train: 0.023246714817219644, error test: 0.06728539201948378\n",
            "Accuracy 0.4285714328289032\n",
            "Epochs: 27, error train: 0.023074777881104742, error test: 0.06334154473410712\n",
            "Accuracy 0.5714285969734192\n",
            "Epochs: 28, error train: 0.023457028158945056, error test: 0.06623899936676025\n",
            "Accuracy 0.4285714328289032\n",
            "Epochs: 29, error train: 0.022496419336328555, error test: 0.07249384456210667\n",
            "Accuracy 0.5714285969734192\n",
            "Epochs: 30, error train: 0.022937615912164276, error test: 0.06749037239286634\n",
            "Accuracy 0.5714285969734192\n",
            "Epochs: 31, error train: 0.023601621239628626, error test: 0.06640945540534125\n",
            "Accuracy 0.4285714328289032\n",
            "Epochs: 32, error train: 0.023610538573720346, error test: 0.07327461242675781\n",
            "Accuracy 0.8571428656578064\n",
            "Epochs: 33, error train: 0.022969250103936124, error test: 0.07145992252561781\n",
            "Accuracy 0.5714285969734192\n",
            "Epochs: 34, error train: 0.023760356495727847, error test: 0.06743909915288289\n",
            "Accuracy 0.5714285969734192\n",
            "Epochs: 35, error train: 0.023474037347726486, error test: 0.07314317756228977\n",
            "Accuracy 0.2857142984867096\n",
            "Epochs: 36, error train: 0.023208415088941104, error test: 0.06850707530975342\n",
            "Accuracy 0.5714285969734192\n",
            "Epochs: 37, error train: 0.025004189817150635, error test: 0.07370226913028294\n",
            "Accuracy 0.5714285969734192\n",
            "Epochs: 38, error train: 0.023499333678777493, error test: 0.06896503766377766\n",
            "Accuracy 0.5714285969734192\n",
            "Epochs: 39, error train: 0.023946402060925662, error test: 0.07674366235733032\n",
            "Accuracy 0.5714285969734192\n",
            "Epochs: 40, error train: 0.023667823130161917, error test: 0.0708964467048645\n",
            "Accuracy 0.4285714328289032\n",
            "Epochs: 41, error train: 0.024059381916295343, error test: 0.06974934207068549\n",
            "Accuracy 0.4285714328289032\n",
            "Epochs: 42, error train: 0.022825995282312134, error test: 0.07992597421010335\n",
            "Accuracy 0.4285714328289032\n",
            "Epochs: 43, error train: 0.022959109826303607, error test: 0.07633491357167561\n",
            "Accuracy 0.5714285969734192\n",
            "Epochs: 44, error train: 0.02346185463756772, error test: 0.08151868316862318\n",
            "Accuracy 0.7142857313156128\n",
            "Epochs: 45, error train: 0.02335855230015127, error test: 0.07421216699812147\n",
            "Accuracy 0.4285714328289032\n",
            "Epochs: 46, error train: 0.022996297433747717, error test: 0.07164297501246135\n",
            "Accuracy 0.5714285969734192\n",
            "Epochs: 47, error train: 0.0232301662914717, error test: 0.07445471154318915\n",
            "Accuracy 0.5714285969734192\n",
            "Epochs: 48, error train: 0.02297977706295761, error test: 0.06884890794754028\n",
            "Accuracy 0.5714285969734192\n",
            "Epochs: 49, error train: 0.02319350733828904, error test: 0.07420129246181911\n",
            "Accuracy 0.5714285969734192\n"
          ]
        }
      ]
    },
    {
      "cell_type": "code",
      "source": [
        "plt.plot(accuracy_test)"
      ],
      "metadata": {
        "colab": {
          "base_uri": "https://localhost:8080/",
          "height": 282
        },
        "id": "zdwwUKaYTJyH",
        "outputId": "30e9cc77-6e93-4cc0-9414-1926c1175a47"
      },
      "execution_count": 320,
      "outputs": [
        {
          "output_type": "execute_result",
          "data": {
            "text/plain": [
              "[<matplotlib.lines.Line2D at 0x7f4f2310ee10>]"
            ]
          },
          "metadata": {},
          "execution_count": 320
        },
        {
          "output_type": "display_data",
          "data": {
            "text/plain": [
              "<Figure size 432x288 with 1 Axes>"
            ],
            "image/png": "[encoded data removed]"
          },
          "metadata": {
            "needs_background": "light"
          }
        }
      ]
    },
    {
      "cell_type": "code",
      "source": [
        "plt.plot(errors_train)\n",
        "plt.plot(errors_test)"
      ],
      "metadata": {
        "colab": {
          "base_uri": "https://localhost:8080/",
          "height": 282
        },
        "id": "2sXGthP7TMo0",
        "outputId": "1f4e3b75-f7f5-4f0a-d442-060323c58f5a"
      },
      "execution_count": 321,
      "outputs": [
        {
          "output_type": "execute_result",
          "data": {
            "text/plain": [
              "[<matplotlib.lines.Line2D at 0x7f4f23084810>]"
            ]
          },
          "metadata": {},
          "execution_count": 321
        },
        {
          "output_type": "display_data",
          "data": {
            "text/plain": [
              "<Figure size 432x288 with 1 Axes>"
            ],
            "image/png": "[encoded data removed]"
          },
          "metadata": {
            "needs_background": "light"
          }
        }
      ]
    },
    {
      "cell_type": "code",
      "source": [
        "correct = 0\n",
        "total = 0\n",
        "correct_label = []\n",
        "pred = []\n",
        "# since we're not training, we don't need to calculate the gradients for our outputs\n",
        "with torch.no_grad():\n",
        "    for data in test_loader:\n",
        "        images, labels = data\n",
        "        correct_label += labels\n",
        "        # calculate outputs by running images through the network\n",
        "        #inputs = images.reshape(images.shape[0],-1)\n",
        "        outputs = model(images.reshape(images.shape[0],-1))\n",
        "        # the class with the highest energy is what we choose as prediction\n",
        "        _, predicted = torch.max(outputs.data, 1)\n",
        "        pred += predicted\n",
        "        total += labels.size(0)\n",
        "        correct += (predicted == labels).sum().item()\n",
        "\n",
        "print(f'Accuracy of the network on the test images: {100 * correct // total} %')"
      ],
      "metadata": {
        "colab": {
          "base_uri": "https://localhost:8080/"
        },
        "id": "AL-PVTdDTQPS",
        "outputId": "79f6f88e-5b69-4be0-9179-b06fdd849595"
      },
      "execution_count": 322,
      "outputs": [
        {
          "output_type": "stream",
          "name": "stderr",
          "text": [
            "/usr/local/lib/python3.7/dist-packages/PIL/Image.py:960: UserWarning:\n",
            "\n",
            "Palette images with Transparency expressed in bytes should be converted to RGBA images\n",
            "\n"
          ]
        },
        {
          "output_type": "stream",
          "name": "stdout",
          "text": [
            "Accuracy of the network on the test images: 47 %\n"
          ]
        }
      ]
    },
    {
      "cell_type": "code",
      "source": [
        "accuracy_score(correct_label, pred)"
      ],
      "metadata": {
        "colab": {
          "base_uri": "https://localhost:8080/"
        },
        "id": "3vC5Q2cles-m",
        "outputId": "ce755939-4a1a-4d57-e730-3e3c7994c6d2"
      },
      "execution_count": 323,
      "outputs": [
        {
          "output_type": "execute_result",
          "data": {
            "text/plain": [
              "0.47058823529411764"
            ]
          },
          "metadata": {},
          "execution_count": 323
        }
      ]
    },
    {
      "cell_type": "code",
      "source": [
        "confusion_matrix(correct_label, pred)"
      ],
      "metadata": {
        "colab": {
          "base_uri": "https://localhost:8080/"
        },
        "id": "CN2OT11reuts",
        "outputId": "d9772577-5a91-4373-c3a4-df607c327a62"
      },
      "execution_count": 324,
      "outputs": [
        {
          "output_type": "execute_result",
          "data": {
            "text/plain": [
              "array([[ 0,  3,  0,  3],\n",
              "       [ 4,  4,  4,  1],\n",
              "       [ 1,  3,  6, 12],\n",
              "       [ 2,  3,  0, 22]])"
            ]
          },
          "metadata": {},
          "execution_count": 324
        }
      ]
    },
    {
      "cell_type": "code",
      "source": [
        "print(classification_report(correct_label, pred))"
      ],
      "metadata": {
        "colab": {
          "base_uri": "https://localhost:8080/"
        },
        "id": "Q7ZRH-2Leuoc",
        "outputId": "5ea58e05-70da-4d46-8e7f-71d164bac9cb"
      },
      "execution_count": 325,
      "outputs": [
        {
          "output_type": "stream",
          "name": "stdout",
          "text": [
            "              precision    recall  f1-score   support\n",
            "\n",
            "           0       0.00      0.00      0.00         6\n",
            "           1       0.31      0.31      0.31        13\n",
            "           2       0.60      0.27      0.37        22\n",
            "           3       0.58      0.81      0.68        27\n",
            "\n",
            "    accuracy                           0.47        68\n",
            "   macro avg       0.37      0.35      0.34        68\n",
            "weighted avg       0.48      0.47      0.45        68\n",
            "\n"
          ]
        }
      ]
    },
    {
      "cell_type": "code",
      "source": [
        "correct = 0\n",
        "total = 0\n",
        "# since we're not training, we don't need to calculate the gradients for our outputs\n",
        "with torch.no_grad():\n",
        "    for data in train_loader:\n",
        "        images, labels = data\n",
        "        # calculate outputs by running images through the network\n",
        "        #inputs = images.reshape(images.shape[0],-1)\n",
        "        outputs = model(images.reshape(images.shape[0],-1))\n",
        "        # the class with the highest energy is what we choose as prediction\n",
        "        _, predicted = torch.max(outputs.data, 1)\n",
        "        total += labels.size(0)\n",
        "        correct += (predicted == labels).sum().item()\n",
        "\n",
        "print(f'Accuracy of the network on the train images: {100 * correct // total} %')"
      ],
      "metadata": {
        "colab": {
          "base_uri": "https://localhost:8080/"
        },
        "id": "4-8W8oQ9TS2x",
        "outputId": "4e55da53-b872-49ce-f0c8-3a955e56cc00"
      },
      "execution_count": 326,
      "outputs": [
        {
          "output_type": "stream",
          "name": "stderr",
          "text": [
            "/usr/local/lib/python3.7/dist-packages/PIL/Image.py:960: UserWarning:\n",
            "\n",
            "Palette images with Transparency expressed in bytes should be converted to RGBA images\n",
            "\n"
          ]
        },
        {
          "output_type": "stream",
          "name": "stdout",
          "text": [
            "Accuracy of the network on the train images: 46 %\n"
          ]
        }
      ]
    },
    {
      "cell_type": "code",
      "source": [
        "correct = 0\n",
        "total = 0\n",
        "# since we're not training, we don't need to calculate the gradients for our outputs\n",
        "with torch.no_grad():\n",
        "    for data in validation_loader:\n",
        "        images, labels = data\n",
        "        # calculate outputs by running images through the network\n",
        "        #inputs = images.reshape(images.shape[0],-1)\n",
        "        outputs = model(images.reshape(images.shape[0],-1))\n",
        "        # the class with the highest energy is what we choose as prediction\n",
        "        _, predicted = torch.max(outputs.data, 1)\n",
        "        total += labels.size(0)\n",
        "        correct += (predicted == labels).sum().item()\n",
        "\n",
        "print(f'Accuracy of the network on the validation images: {100 * correct // total} %')"
      ],
      "metadata": {
        "colab": {
          "base_uri": "https://localhost:8080/"
        },
        "id": "WKpPNhgJTXLM",
        "outputId": "b3db5cf3-dfab-4565-e895-b26dceaa6cd7"
      },
      "execution_count": 327,
      "outputs": [
        {
          "output_type": "stream",
          "name": "stdout",
          "text": [
            "Accuracy of the network on the validation images: 50 %\n"
          ]
        }
      ]
    },
    {
      "cell_type": "markdown",
      "source": [
        "# Inicializando o modelo com uma distribuição uniforme entre -1 e 1"
      ],
      "metadata": {
        "id": "GbcWhS8dVFXL"
      }
    },
    {
      "cell_type": "code",
      "source": [
        "learning_Rate = 0.0002\n",
        "n_Inputs = images.shape[1] * images.shape[2] * images.shape[3]\n",
        "n_Classes = len(pokemon_train.dataset.classes)\n",
        "p_dropout = 0.5\n",
        "\n",
        "model = torch.nn.Sequential(\n",
        "    torch.nn.Linear(n_Inputs,4000),\n",
        "    torch.nn.ReLU(),\n",
        "    torch.nn.Dropout(p_dropout),\n",
        "\n",
        "    torch.nn.Linear(4000,3000),\n",
        "    torch.nn.ReLU(),\n",
        "    torch.nn.Dropout(p_dropout),\n",
        "\n",
        "    torch.nn.Linear(3000,3000),\n",
        "    torch.nn.ReLU(),\n",
        "    torch.nn.Dropout(p_dropout),\n",
        "\n",
        "    torch.nn.Linear(3000,600),\n",
        "    torch.nn.ReLU(),\n",
        "    torch.nn.Dropout(p_dropout),\n",
        "\n",
        "    torch.nn.Linear(600,n_Classes)\n",
        ")\n",
        "model.to(device)\n",
        "criterion = nn.CrossEntropyLoss()\n",
        "optimizer = optim.Adam(model.parameters(), lr=learning_Rate)\n",
        "#optimizer = optim.SGD(model.parameters(), lr=learning_Rate, momentum=0.9)\n",
        "print(model)"
      ],
      "metadata": {
        "colab": {
          "base_uri": "https://localhost:8080/"
        },
        "id": "B20UzinIVKXV",
        "outputId": "b9675c11-aa69-448c-faf7-01414ea08b21"
      },
      "execution_count": 328,
      "outputs": [
        {
          "output_type": "stream",
          "name": "stdout",
          "text": [
            "Sequential(\n",
            "  (0): Linear(in_features=7500, out_features=4000, bias=True)\n",
            "  (1): ReLU()\n",
            "  (2): Dropout(p=0.5, inplace=False)\n",
            "  (3): Linear(in_features=4000, out_features=3000, bias=True)\n",
            "  (4): ReLU()\n",
            "  (5): Dropout(p=0.5, inplace=False)\n",
            "  (6): Linear(in_features=3000, out_features=3000, bias=True)\n",
            "  (7): ReLU()\n",
            "  (8): Dropout(p=0.5, inplace=False)\n",
            "  (9): Linear(in_features=3000, out_features=600, bias=True)\n",
            "  (10): ReLU()\n",
            "  (11): Dropout(p=0.5, inplace=False)\n",
            "  (12): Linear(in_features=600, out_features=4, bias=True)\n",
            ")\n"
          ]
        }
      ]
    },
    {
      "cell_type": "code",
      "source": [
        "@torch.no_grad()\n",
        "def init_weights(m):\n",
        "    print(m)\n",
        "    if type(m) == nn.Linear:\n",
        "        m.weight.uniform_(-1, 1)\n",
        "        #torch.nn.init.uniform_(tensor, a=0.0, b=1.0)\n",
        "        print(m.weight)\n",
        "model.apply(init_weights)"
      ],
      "metadata": {
        "colab": {
          "base_uri": "https://localhost:8080/"
        },
        "id": "9WkCO4gJVNFa",
        "outputId": "6c434332-3bf0-4bf4-99aa-e73fa81cea55"
      },
      "execution_count": 329,
      "outputs": [
        {
          "output_type": "stream",
          "name": "stdout",
          "text": [
            "Linear(in_features=7500, out_features=4000, bias=True)\n",
            "Parameter containing:\n",
            "tensor([[ 1.7419e-01, -6.0418e-01, -3.5090e-02,  ..., -2.7185e-01,\n",
            "          2.4343e-01, -3.3442e-01],\n",
            "        [ 2.6368e-01,  2.1399e-01, -8.0393e-01,  ...,  5.1752e-01,\n",
            "         -5.1818e-01,  1.4924e-01],\n",
            "        [ 2.9544e-01, -3.0339e-04,  7.9364e-02,  ...,  6.2473e-01,\n",
            "         -3.4632e-01, -8.2689e-01],\n",
            "        ...,\n",
            "        [-7.6789e-01,  4.9377e-01,  1.7904e-01,  ...,  5.0890e-01,\n",
            "          3.2830e-02,  6.7301e-02],\n",
            "        [ 9.1634e-01, -7.3883e-01, -7.2577e-01,  ...,  4.9096e-01,\n",
            "          1.9384e-01, -2.1536e-01],\n",
            "        [ 2.2110e-01,  9.2937e-01,  6.5989e-01,  ..., -6.5806e-01,\n",
            "          7.9419e-01,  9.6296e-01]], requires_grad=True)\n",
            "ReLU()\n",
            "Dropout(p=0.5, inplace=False)\n",
            "Linear(in_features=4000, out_features=3000, bias=True)\n",
            "Parameter containing:\n",
            "tensor([[ 0.7517,  0.8190, -0.9276,  ...,  0.6286, -0.3292, -0.1207],\n",
            "        [ 0.9816,  0.9384,  0.3520,  ..., -0.5406, -0.2193,  0.9686],\n",
            "        [-0.6027, -0.4270, -0.4686,  ...,  0.2159,  0.3882,  0.3341],\n",
            "        ...,\n",
            "        [-0.7307,  0.7794, -0.4880,  ..., -0.3070,  0.9071, -0.2968],\n",
            "        [-0.3553, -0.9187, -0.6436,  ..., -0.3291, -0.7952,  0.4949],\n",
            "        [ 0.9940, -0.4322,  0.2833,  ..., -0.4367,  0.2476, -0.3193]],\n",
            "       requires_grad=True)\n",
            "ReLU()\n",
            "Dropout(p=0.5, inplace=False)\n",
            "Linear(in_features=3000, out_features=3000, bias=True)\n",
            "Parameter containing:\n",
            "tensor([[-0.6992, -0.6859, -0.1753,  ...,  0.2855, -0.6110, -0.9073],\n",
            "        [-0.7831, -0.3327, -0.5645,  ...,  0.9442, -0.4461, -0.9408],\n",
            "        [ 0.4516,  0.2088, -0.3766,  ...,  0.4905,  0.1936, -0.6871],\n",
            "        ...,\n",
            "        [ 0.5774,  0.8181, -0.7095,  ...,  0.3045,  0.1928,  0.6015],\n",
            "        [-0.2317,  0.2914, -0.3024,  ...,  0.5239,  0.2568, -0.1155],\n",
            "        [ 0.2247,  0.1634,  0.3490,  ..., -0.3271,  0.1208,  0.2564]],\n",
            "       requires_grad=True)\n",
            "ReLU()\n",
            "Dropout(p=0.5, inplace=False)\n",
            "Linear(in_features=3000, out_features=600, bias=True)\n",
            "Parameter containing:\n",
            "tensor([[ 0.4449,  0.0422, -0.6430,  ..., -0.0232,  0.8785, -0.2413],\n",
            "        [-0.3830,  0.3706,  0.2880,  ..., -0.4668, -0.7965,  0.0340],\n",
            "        [-0.9054, -0.8680, -0.0298,  ...,  0.9675, -0.6354,  0.4187],\n",
            "        ...,\n",
            "        [-0.2084, -0.5779,  0.9564,  ...,  0.5625,  0.2471, -0.5553],\n",
            "        [-0.2984, -0.9816,  0.9497,  ..., -0.4059,  0.9332, -0.4501],\n",
            "        [ 0.1022, -0.9302,  0.4002,  ..., -0.0175, -0.0703,  0.5398]],\n",
            "       requires_grad=True)\n",
            "ReLU()\n",
            "Dropout(p=0.5, inplace=False)\n",
            "Linear(in_features=600, out_features=4, bias=True)\n",
            "Parameter containing:\n",
            "tensor([[ 0.3559, -0.2545,  0.7485,  ...,  0.5149,  0.4288,  0.9066],\n",
            "        [-0.7136,  0.7361,  0.4116,  ..., -0.0183, -0.0425,  0.3390],\n",
            "        [ 0.1053,  0.9175, -0.4640,  ...,  0.1064, -0.5818, -0.8928],\n",
            "        [-0.5048,  0.1220,  0.5186,  ..., -0.6602, -0.4679,  0.8923]],\n",
            "       requires_grad=True)\n",
            "Sequential(\n",
            "  (0): Linear(in_features=7500, out_features=4000, bias=True)\n",
            "  (1): ReLU()\n",
            "  (2): Dropout(p=0.5, inplace=False)\n",
            "  (3): Linear(in_features=4000, out_features=3000, bias=True)\n",
            "  (4): ReLU()\n",
            "  (5): Dropout(p=0.5, inplace=False)\n",
            "  (6): Linear(in_features=3000, out_features=3000, bias=True)\n",
            "  (7): ReLU()\n",
            "  (8): Dropout(p=0.5, inplace=False)\n",
            "  (9): Linear(in_features=3000, out_features=600, bias=True)\n",
            "  (10): ReLU()\n",
            "  (11): Dropout(p=0.5, inplace=False)\n",
            "  (12): Linear(in_features=600, out_features=4, bias=True)\n",
            ")\n"
          ]
        },
        {
          "output_type": "execute_result",
          "data": {
            "text/plain": [
              "Sequential(\n",
              "  (0): Linear(in_features=7500, out_features=4000, bias=True)\n",
              "  (1): ReLU()\n",
              "  (2): Dropout(p=0.5, inplace=False)\n",
              "  (3): Linear(in_features=4000, out_features=3000, bias=True)\n",
              "  (4): ReLU()\n",
              "  (5): Dropout(p=0.5, inplace=False)\n",
              "  (6): Linear(in_features=3000, out_features=3000, bias=True)\n",
              "  (7): ReLU()\n",
              "  (8): Dropout(p=0.5, inplace=False)\n",
              "  (9): Linear(in_features=3000, out_features=600, bias=True)\n",
              "  (10): ReLU()\n",
              "  (11): Dropout(p=0.5, inplace=False)\n",
              "  (12): Linear(in_features=600, out_features=4, bias=True)\n",
              ")"
            ]
          },
          "metadata": {},
          "execution_count": 329
        }
      ]
    },
    {
      "cell_type": "code",
      "source": [
        "for param in model.parameters():\n",
        "    print(param)"
      ],
      "metadata": {
        "colab": {
          "base_uri": "https://localhost:8080/"
        },
        "id": "yfysbhwTVWVX",
        "outputId": "41b20e40-192a-4151-ee8b-396a26722725"
      },
      "execution_count": 330,
      "outputs": [
        {
          "output_type": "stream",
          "name": "stdout",
          "text": [
            "Parameter containing:\n",
            "tensor([[ 1.7419e-01, -6.0418e-01, -3.5090e-02,  ..., -2.7185e-01,\n",
            "          2.4343e-01, -3.3442e-01],\n",
            "        [ 2.6368e-01,  2.1399e-01, -8.0393e-01,  ...,  5.1752e-01,\n",
            "         -5.1818e-01,  1.4924e-01],\n",
            "        [ 2.9544e-01, -3.0339e-04,  7.9364e-02,  ...,  6.2473e-01,\n",
            "         -3.4632e-01, -8.2689e-01],\n",
            "        ...,\n",
            "        [-7.6789e-01,  4.9377e-01,  1.7904e-01,  ...,  5.0890e-01,\n",
            "          3.2830e-02,  6.7301e-02],\n",
            "        [ 9.1634e-01, -7.3883e-01, -7.2577e-01,  ...,  4.9096e-01,\n",
            "          1.9384e-01, -2.1536e-01],\n",
            "        [ 2.2110e-01,  9.2937e-01,  6.5989e-01,  ..., -6.5806e-01,\n",
            "          7.9419e-01,  9.6296e-01]], requires_grad=True)\n",
            "Parameter containing:\n",
            "tensor([-0.0114, -0.0035,  0.0094,  ...,  0.0041,  0.0104,  0.0068],\n",
            "       requires_grad=True)\n",
            "Parameter containing:\n",
            "tensor([[ 0.7517,  0.8190, -0.9276,  ...,  0.6286, -0.3292, -0.1207],\n",
            "        [ 0.9816,  0.9384,  0.3520,  ..., -0.5406, -0.2193,  0.9686],\n",
            "        [-0.6027, -0.4270, -0.4686,  ...,  0.2159,  0.3882,  0.3341],\n",
            "        ...,\n",
            "        [-0.7307,  0.7794, -0.4880,  ..., -0.3070,  0.9071, -0.2968],\n",
            "        [-0.3553, -0.9187, -0.6436,  ..., -0.3291, -0.7952,  0.4949],\n",
            "        [ 0.9940, -0.4322,  0.2833,  ..., -0.4367,  0.2476, -0.3193]],\n",
            "       requires_grad=True)\n",
            "Parameter containing:\n",
            "tensor([ 0.0140,  0.0044,  0.0132,  ..., -0.0025,  0.0004, -0.0086],\n",
            "       requires_grad=True)\n",
            "Parameter containing:\n",
            "tensor([[-0.6992, -0.6859, -0.1753,  ...,  0.2855, -0.6110, -0.9073],\n",
            "        [-0.7831, -0.3327, -0.5645,  ...,  0.9442, -0.4461, -0.9408],\n",
            "        [ 0.4516,  0.2088, -0.3766,  ...,  0.4905,  0.1936, -0.6871],\n",
            "        ...,\n",
            "        [ 0.5774,  0.8181, -0.7095,  ...,  0.3045,  0.1928,  0.6015],\n",
            "        [-0.2317,  0.2914, -0.3024,  ...,  0.5239,  0.2568, -0.1155],\n",
            "        [ 0.2247,  0.1634,  0.3490,  ..., -0.3271,  0.1208,  0.2564]],\n",
            "       requires_grad=True)\n",
            "Parameter containing:\n",
            "tensor([ 0.0007, -0.0086, -0.0048,  ...,  0.0130,  0.0088,  0.0052],\n",
            "       requires_grad=True)\n",
            "Parameter containing:\n",
            "tensor([[ 0.4449,  0.0422, -0.6430,  ..., -0.0232,  0.8785, -0.2413],\n",
            "        [-0.3830,  0.3706,  0.2880,  ..., -0.4668, -0.7965,  0.0340],\n",
            "        [-0.9054, -0.8680, -0.0298,  ...,  0.9675, -0.6354,  0.4187],\n",
            "        ...,\n",
            "        [-0.2084, -0.5779,  0.9564,  ...,  0.5625,  0.2471, -0.5553],\n",
            "        [-0.2984, -0.9816,  0.9497,  ..., -0.4059,  0.9332, -0.4501],\n",
            "        [ 0.1022, -0.9302,  0.4002,  ..., -0.0175, -0.0703,  0.5398]],\n",
            "       requires_grad=True)\n",
            "Parameter containing:\n",
            "tensor([ 1.2918e-02,  1.0979e-02, -1.4536e-02,  1.4190e-02,  1.6263e-02,\n",
            "        -1.6306e-02,  9.3944e-03, -4.8011e-03, -8.2706e-03,  2.3750e-03,\n",
            "        -1.2027e-02, -1.6468e-02, -8.8903e-03,  5.4986e-03, -1.6564e-02,\n",
            "        -3.6782e-03,  1.2467e-02,  1.7308e-02,  1.1835e-02,  5.0289e-03,\n",
            "        -1.4687e-02,  6.8755e-03,  6.3958e-03,  1.6685e-02, -9.5804e-03,\n",
            "         6.6315e-03, -1.8552e-03,  7.4131e-03, -5.9406e-03, -1.2259e-02,\n",
            "         1.6758e-02, -5.3164e-03, -5.0684e-03, -9.7975e-03, -1.4296e-02,\n",
            "        -4.4705e-03,  6.5999e-03, -1.4798e-02,  1.7047e-02, -6.4615e-03,\n",
            "         1.6004e-02, -1.0565e-02,  6.9074e-03, -1.1564e-02, -5.8407e-03,\n",
            "        -1.5421e-03,  1.0478e-02,  9.0512e-03, -1.5005e-02,  1.1506e-02,\n",
            "         1.0305e-02, -5.9409e-03,  5.4142e-04,  1.3876e-02,  1.3646e-02,\n",
            "         4.1828e-03, -5.7989e-05,  2.3150e-03, -2.1020e-03, -4.0326e-03,\n",
            "         1.1325e-02, -1.0486e-02,  1.1935e-02,  1.7180e-02, -5.4043e-03,\n",
            "         1.0294e-02, -8.6928e-03, -1.6142e-02, -4.8664e-03, -2.9598e-03,\n",
            "         9.5676e-03,  7.5732e-05,  1.2992e-02, -1.8175e-02, -4.0029e-03,\n",
            "         4.6375e-03,  1.6206e-02,  6.2014e-03, -8.3386e-03,  1.2750e-02,\n",
            "         3.8804e-03, -8.6685e-03, -2.3774e-03, -8.0683e-03, -1.7851e-02,\n",
            "         9.7348e-03, -1.7270e-02,  1.2715e-02, -1.0323e-02, -1.0798e-02,\n",
            "         8.3660e-04, -1.2562e-02, -1.3420e-02,  1.1956e-02,  1.4362e-02,\n",
            "         4.5416e-04,  1.3632e-02,  1.5851e-02,  1.0615e-02, -1.2878e-02,\n",
            "         1.1146e-02,  2.3492e-03, -1.7980e-02, -1.8071e-02, -1.4796e-02,\n",
            "         2.8612e-03, -4.9974e-03, -1.7422e-02, -1.2780e-02, -1.2996e-02,\n",
            "         1.7299e-02,  1.6626e-02,  4.1459e-03,  1.2483e-02,  1.1022e-02,\n",
            "         1.0824e-02, -5.7969e-03,  1.5801e-02, -1.7950e-02,  1.7749e-02,\n",
            "         1.1417e-02, -4.3361e-03,  1.5333e-02,  1.7710e-02, -1.6540e-02,\n",
            "         1.4150e-02, -1.3066e-02, -1.4399e-03,  1.5605e-02, -1.0379e-02,\n",
            "        -1.0746e-02, -3.6144e-03,  1.2858e-02, -3.3864e-03, -6.0175e-03,\n",
            "        -9.0265e-03,  3.5395e-03, -1.6813e-02, -8.4638e-03, -6.5378e-03,\n",
            "        -1.6529e-02, -1.6058e-03,  1.0606e-02, -7.8179e-03, -7.5582e-03,\n",
            "         1.7780e-03,  1.6149e-02,  9.6115e-03, -1.5541e-02,  6.2732e-03,\n",
            "        -4.7007e-03,  4.8556e-03,  6.7266e-03, -1.1627e-02, -6.5984e-03,\n",
            "        -3.1503e-03, -1.1325e-02, -5.8115e-03, -2.6045e-03,  4.7025e-03,\n",
            "        -3.3978e-03,  1.7231e-02,  1.9828e-03,  4.9558e-03, -9.2190e-03,\n",
            "         1.8057e-04,  8.9859e-04, -8.6985e-03,  8.1471e-03, -2.4055e-03,\n",
            "        -2.9537e-04, -2.6299e-03, -4.8360e-03,  8.1243e-03, -1.8050e-02,\n",
            "         3.8704e-05,  3.3486e-03,  1.4789e-02,  1.1342e-02,  7.6475e-03,\n",
            "         1.2068e-02,  4.1410e-03, -4.8623e-03, -4.1015e-04,  6.6868e-03,\n",
            "         4.9900e-03, -1.4278e-02, -4.9566e-03, -9.7416e-03,  4.0876e-03,\n",
            "        -6.7896e-03,  8.1185e-03,  1.1612e-02, -1.7062e-02,  1.8962e-04,\n",
            "        -4.0074e-03, -1.0045e-02, -5.4849e-03,  1.6506e-02, -1.4892e-02,\n",
            "         1.6843e-02, -6.9476e-03, -1.0946e-02,  1.1656e-02, -1.1860e-02,\n",
            "         1.1413e-02, -1.8817e-03,  7.7938e-03, -7.6465e-03, -8.8457e-03,\n",
            "        -5.3920e-03,  9.1131e-03, -4.9231e-03,  1.7439e-02,  3.6384e-04,\n",
            "        -8.2901e-03,  1.0274e-03,  1.6721e-04,  1.5472e-03,  1.5405e-03,\n",
            "         1.7432e-02, -9.8065e-03,  1.7609e-02,  9.3453e-03, -1.6783e-02,\n",
            "         2.5592e-03, -1.3975e-02,  1.2571e-02,  3.7815e-04,  1.2053e-03,\n",
            "         3.1948e-03,  5.2746e-03, -1.5780e-02,  8.1773e-03,  7.4958e-03,\n",
            "         1.2670e-02, -1.0516e-02,  1.5707e-02, -2.7865e-03,  4.6340e-03,\n",
            "         7.3131e-03,  2.6710e-03,  3.9480e-03, -5.7022e-03, -1.0733e-02,\n",
            "         1.6180e-02,  1.3919e-02, -1.6855e-02,  1.5956e-02, -4.6535e-03,\n",
            "        -8.8432e-03, -9.8163e-03, -1.4927e-02, -9.3007e-03,  1.7306e-03,\n",
            "        -1.0170e-02,  3.1543e-03,  6.1820e-03, -1.0438e-02, -1.5199e-03,\n",
            "         5.5599e-03, -9.6385e-03, -8.4986e-03,  9.5325e-03, -1.1244e-04,\n",
            "        -8.2246e-04, -1.3115e-02, -1.7477e-02, -7.3417e-03, -1.6403e-02,\n",
            "        -8.6408e-03,  1.3863e-03,  5.6908e-03,  1.1280e-02,  5.1753e-03,\n",
            "        -8.3482e-03, -3.8950e-03, -1.5744e-02, -1.6701e-02,  1.0455e-03,\n",
            "         7.9069e-03,  1.1647e-02, -1.1005e-02, -6.5310e-03, -8.3246e-03,\n",
            "        -5.7049e-03,  3.1609e-03, -9.6193e-03,  6.3591e-03, -8.1756e-03,\n",
            "        -3.5945e-04,  1.7900e-02,  1.5882e-02,  8.3624e-03,  2.9439e-04,\n",
            "         1.2432e-02,  1.5073e-03, -1.3876e-02, -6.0876e-03,  1.4044e-02,\n",
            "        -2.2646e-05,  1.0977e-02, -1.7614e-02, -9.2213e-03,  7.2127e-03,\n",
            "        -1.6822e-02,  1.7031e-02,  1.2729e-02,  2.2426e-03,  1.1165e-03,\n",
            "        -1.7535e-02, -7.3456e-03,  7.4147e-04,  1.3142e-02, -1.6156e-02,\n",
            "         7.7173e-03,  2.6241e-03, -4.1401e-03,  6.9019e-03,  1.4141e-02,\n",
            "         1.2463e-02,  1.0772e-02, -7.1808e-03, -4.6127e-03, -6.0235e-03,\n",
            "         1.1028e-02, -2.5480e-03,  9.0755e-03,  2.6613e-03, -1.4003e-02,\n",
            "         1.6227e-02,  1.4270e-02, -1.0619e-02,  5.7392e-03, -1.4199e-02,\n",
            "         9.3170e-03, -1.6336e-02,  2.2517e-03,  1.3855e-02,  7.6966e-03,\n",
            "        -1.1558e-02, -1.4208e-02,  4.5920e-03, -1.6722e-02, -5.1369e-03,\n",
            "        -1.8080e-02, -3.7601e-03, -1.6427e-02, -7.8947e-03, -1.5870e-02,\n",
            "        -1.1798e-02, -1.0199e-02, -1.5800e-02,  1.6403e-02, -1.3800e-02,\n",
            "        -5.3874e-03,  1.3821e-02, -8.6663e-04,  8.3486e-03, -8.9870e-03,\n",
            "         3.6010e-03,  1.6452e-02, -2.9935e-03,  2.5424e-03, -1.5265e-03,\n",
            "        -7.5493e-03,  7.6205e-03, -1.5348e-02,  1.2827e-02, -1.1238e-03,\n",
            "         3.0858e-03,  1.2322e-02,  6.6323e-03,  1.1811e-02, -4.4570e-03,\n",
            "         8.8939e-03,  1.3358e-02, -1.1286e-02,  6.2403e-03,  2.0499e-03,\n",
            "        -5.2209e-03,  1.0550e-02, -1.2584e-02, -1.5560e-02, -7.0330e-03,\n",
            "         1.7113e-02, -1.6138e-02, -6.5821e-03,  1.1281e-02,  1.4675e-02,\n",
            "        -1.3604e-02, -9.4629e-03, -1.0183e-02,  3.3634e-03, -2.3889e-03,\n",
            "        -9.7526e-03,  5.1831e-03, -6.9091e-03, -1.0910e-02,  1.5356e-02,\n",
            "        -1.5661e-02, -7.4758e-03, -1.7614e-02, -8.0096e-03, -1.0979e-03,\n",
            "         1.3668e-02,  4.4563e-03,  1.1669e-02,  1.0122e-02, -1.3901e-03,\n",
            "         3.4405e-03,  1.5522e-02, -1.7347e-02,  1.1661e-02,  1.2969e-02,\n",
            "         6.0988e-03, -3.9583e-03,  9.5800e-03, -7.7697e-03,  1.7657e-02,\n",
            "         1.4911e-02, -1.4040e-02,  9.0575e-03, -1.3011e-02, -1.4253e-02,\n",
            "        -7.3975e-03,  4.5212e-03, -6.2721e-03,  3.9582e-04, -8.5235e-03,\n",
            "        -1.9563e-03, -1.2967e-03,  5.9177e-03,  1.4855e-02,  1.8138e-02,\n",
            "         6.1959e-04,  2.9783e-03, -4.1706e-03,  1.0415e-02, -1.0730e-02,\n",
            "         1.0230e-02,  1.0097e-02, -7.4726e-03,  1.1993e-02, -1.2507e-02,\n",
            "         1.2609e-02, -1.7161e-02, -1.2159e-02,  1.1100e-02, -2.0850e-06,\n",
            "         1.5409e-02, -1.3534e-02,  6.7625e-03,  4.4268e-03,  1.1350e-02,\n",
            "        -5.8062e-03,  8.3465e-03, -1.7174e-02,  3.4040e-03, -8.4532e-03,\n",
            "        -8.9780e-03, -2.9672e-03,  2.6307e-03,  1.6236e-02, -1.8003e-02,\n",
            "         1.0569e-02,  9.3999e-03,  4.7395e-03, -1.6209e-02, -6.7098e-03,\n",
            "        -1.0085e-02, -8.2701e-03,  1.4452e-02,  6.4767e-03, -9.9338e-05,\n",
            "        -1.4826e-02, -9.8969e-03, -1.0630e-02,  1.4053e-02, -2.0690e-03,\n",
            "         1.5938e-02,  1.5150e-02, -3.6689e-03,  3.6484e-03, -1.1203e-02,\n",
            "        -1.3724e-02,  3.3504e-03,  1.2904e-02,  1.5826e-02,  9.4414e-03,\n",
            "         3.1071e-03,  8.1996e-03,  1.1352e-03,  8.4467e-03, -4.6042e-04,\n",
            "        -1.1377e-02,  9.6162e-03, -1.1947e-02,  2.2566e-03, -9.1989e-03,\n",
            "         7.2857e-03,  1.4453e-02,  1.7683e-02,  1.1734e-02, -1.1770e-02,\n",
            "         7.6240e-03, -7.1710e-03, -8.4261e-03, -1.5697e-02,  1.4997e-02,\n",
            "        -1.0872e-02, -1.2274e-02,  9.6780e-03, -1.6972e-02, -5.2416e-03,\n",
            "        -6.4841e-03,  6.5421e-03,  1.0471e-02, -1.6604e-02,  1.5921e-02,\n",
            "        -4.2819e-03, -9.7618e-03, -1.4193e-02, -1.2334e-02,  1.4705e-02,\n",
            "         1.2317e-02, -9.9059e-03,  1.0423e-02,  3.3907e-03, -1.1882e-02,\n",
            "         1.2600e-02, -1.6807e-02,  4.7303e-03, -1.8015e-02,  3.0305e-03,\n",
            "         6.7719e-03,  1.4962e-03,  1.6881e-02,  1.1169e-02,  2.5042e-03,\n",
            "        -1.2790e-02,  9.5529e-03, -1.4137e-02, -1.1475e-02, -1.7228e-02,\n",
            "        -6.7331e-03,  2.1391e-03, -1.5470e-02,  1.5153e-02,  3.2832e-03,\n",
            "        -3.1965e-03, -4.9290e-03,  1.2044e-02,  1.4323e-02, -3.5038e-04,\n",
            "         3.6188e-03,  1.3619e-02, -1.3449e-02,  7.1275e-03, -2.1702e-03,\n",
            "        -2.7241e-04, -5.6458e-03, -1.3148e-02,  9.4536e-03, -3.3268e-03,\n",
            "         5.8204e-03,  1.9426e-03,  4.8008e-03, -9.6876e-05,  4.9680e-03,\n",
            "        -1.4720e-02,  1.6531e-02, -1.7224e-03,  1.4364e-02,  5.4760e-03,\n",
            "        -4.6635e-03,  1.2384e-02,  1.2146e-02, -7.7964e-03, -1.1214e-02,\n",
            "         4.1946e-04,  5.9967e-03,  2.1866e-03,  1.6132e-02,  7.3125e-03,\n",
            "         6.2532e-03, -1.0344e-02,  6.5482e-03,  1.2824e-02, -7.6179e-03,\n",
            "        -7.8724e-03,  1.2529e-02,  3.4415e-03, -5.5612e-04, -5.1539e-03,\n",
            "        -1.7598e-02,  4.0320e-03, -1.2516e-02, -1.1096e-02,  4.2514e-03],\n",
            "       requires_grad=True)\n",
            "Parameter containing:\n",
            "tensor([[ 0.3559, -0.2545,  0.7485,  ...,  0.5149,  0.4288,  0.9066],\n",
            "        [-0.7136,  0.7361,  0.4116,  ..., -0.0183, -0.0425,  0.3390],\n",
            "        [ 0.1053,  0.9175, -0.4640,  ...,  0.1064, -0.5818, -0.8928],\n",
            "        [-0.5048,  0.1220,  0.5186,  ..., -0.6602, -0.4679,  0.8923]],\n",
            "       requires_grad=True)\n",
            "Parameter containing:\n",
            "tensor([0.0183, 0.0130, 0.0209, 0.0275], requires_grad=True)\n"
          ]
        }
      ]
    },
    {
      "cell_type": "code",
      "source": [
        "errors_train, errors_test, accuracy_test = train_model(50)"
      ],
      "metadata": {
        "colab": {
          "base_uri": "https://localhost:8080/"
        },
        "id": "BJ0fAY9tVfHJ",
        "outputId": "9fd1f7a8-1657-4f06-f0a2-4314a9d8dc89"
      },
      "execution_count": 331,
      "outputs": [
        {
          "output_type": "stream",
          "name": "stderr",
          "text": [
            "/usr/local/lib/python3.7/dist-packages/PIL/Image.py:960: UserWarning:\n",
            "\n",
            "Palette images with Transparency expressed in bytes should be converted to RGBA images\n",
            "\n"
          ]
        },
        {
          "output_type": "stream",
          "name": "stdout",
          "text": [
            "Epochs: 0, error train: 970473.3668341709, error test: 494229.0\n",
            "Accuracy 0.2857142984867096\n",
            "Epochs: 1, error train: 765909.8090452261, error test: 395363.47222222225\n",
            "Accuracy 0.4285714328289032\n",
            "Epochs: 2, error train: 733996.2512562814, error test: 306500.30555555556\n",
            "Accuracy 0.4285714328289032\n",
            "Epochs: 3, error train: 827069.8693467337, error test: 263582.5833333333\n",
            "Accuracy 0.4285714328289032\n",
            "Epochs: 4, error train: 848249.6482412061, error test: 171282.36111111112\n",
            "Accuracy 0.2857142984867096\n",
            "Epochs: 5, error train: 640805.9698492462, error test: 300383.0\n",
            "Accuracy 0.4285714328289032\n",
            "Epochs: 6, error train: 625976.2512562814, error test: 281925.3611111111\n",
            "Accuracy 0.7142857313156128\n",
            "Epochs: 7, error train: 759608.2814070352, error test: 278441.55555555556\n",
            "Accuracy 0.0\n",
            "Epochs: 8, error train: 823983.9095477387, error test: 325664.69444444444\n",
            "Accuracy 0.1428571492433548\n",
            "Epochs: 9, error train: 734862.2311557789, error test: 422432.5\n",
            "Accuracy 0.4285714328289032\n",
            "Epochs: 10, error train: 655924.2311557789, error test: 315941.6666666667\n",
            "Accuracy 0.4285714328289032\n",
            "Epochs: 11, error train: 709828.512562814, error test: 197768.02777777778\n",
            "Accuracy 0.4285714328289032\n",
            "Epochs: 12, error train: 848855.5979899497, error test: 368470.30555555556\n",
            "Accuracy 0.1428571492433548\n",
            "Epochs: 13, error train: 740239.5577889447, error test: 322868.22222222225\n",
            "Accuracy 0.1428571492433548\n",
            "Epochs: 14, error train: 838997.8291457286, error test: 504029.1111111111\n",
            "Accuracy 0.2857142984867096\n",
            "Epochs: 15, error train: 797425.1356783919, error test: 491069.94444444444\n",
            "Accuracy 0.2857142984867096\n",
            "Epochs: 16, error train: 726989.0753768844, error test: 499189.55555555556\n",
            "Accuracy 0.1428571492433548\n",
            "Epochs: 17, error train: 792131.8793969849, error test: 436046.80555555556\n",
            "Accuracy 0.1428571492433548\n",
            "Epochs: 18, error train: 707668.0904522613, error test: 303303.75\n",
            "Accuracy 0.1428571492433548\n",
            "Epochs: 19, error train: 699878.7638190954, error test: 441985.9166666667\n",
            "Accuracy 0.1428571492433548\n",
            "Epochs: 20, error train: 674705.2261306533, error test: 431933.5833333333\n",
            "Accuracy 0.1428571492433548\n",
            "Epochs: 21, error train: 630138.08040201, error test: 372603.25\n",
            "Accuracy 0.2857142984867096\n",
            "Epochs: 22, error train: 575217.3869346734, error test: 457569.27777777775\n",
            "Accuracy 0.4285714328289032\n",
            "Epochs: 23, error train: 527914.4170854271, error test: 496339.77777777775\n",
            "Accuracy 0.7142857313156128\n",
            "Epochs: 24, error train: 658324.9547738694, error test: 509167.44444444444\n",
            "Accuracy 0.1428571492433548\n",
            "Epochs: 25, error train: 712242.391959799, error test: 440038.72222222225\n",
            "Accuracy 0.2857142984867096\n",
            "Epochs: 26, error train: 636098.5628140704, error test: 462721.52777777775\n",
            "Accuracy 0.5714285969734192\n",
            "Epochs: 27, error train: 645156.5929648242, error test: 472959.5\n",
            "Accuracy 0.4285714328289032\n",
            "Epochs: 28, error train: 592671.283919598, error test: 512426.3333333333\n",
            "Accuracy 0.4285714328289032\n",
            "Epochs: 29, error train: 735598.3718592965, error test: 440466.3333333333\n",
            "Accuracy 0.1428571492433548\n",
            "Epochs: 30, error train: 519583.7487437186, error test: 577680.6666666666\n",
            "Accuracy 0.4285714328289032\n",
            "Epochs: 31, error train: 546209.527638191, error test: 408835.05555555556\n",
            "Accuracy 0.4285714328289032\n",
            "Epochs: 32, error train: 684225.1356783919, error test: 321419.97222222225\n",
            "Accuracy 0.1428571492433548\n",
            "Epochs: 33, error train: 577565.5728643216, error test: 326735.3333333333\n",
            "Accuracy 0.2857142984867096\n",
            "Epochs: 34, error train: 615856.0100502513, error test: 522997.8888888889\n",
            "Accuracy 0.1428571492433548\n",
            "Epochs: 35, error train: 580797.9095477387, error test: 310099.8888888889\n",
            "Accuracy 0.4285714328289032\n",
            "Epochs: 36, error train: 609728.7738693467, error test: 487601.05555555556\n",
            "Accuracy 0.4285714328289032\n",
            "Epochs: 37, error train: 648422.311557789, error test: 412845.5833333333\n",
            "Accuracy 0.2857142984867096\n",
            "Epochs: 38, error train: 641394.5527638191, error test: 481922.8888888889\n",
            "Accuracy 0.4285714328289032\n",
            "Epochs: 39, error train: 547374.7889447237, error test: 411302.3333333333\n",
            "Accuracy 0.4285714328289032\n",
            "Epochs: 40, error train: 609174.4924623115, error test: 425266.3333333333\n",
            "Accuracy 0.2857142984867096\n",
            "Epochs: 41, error train: 565756.4221105528, error test: 459424.05555555556\n",
            "Accuracy 0.5714285969734192\n",
            "Epochs: 42, error train: 740901.8391959799, error test: 439931.80555555556\n",
            "Accuracy 0.0\n",
            "Epochs: 43, error train: 614581.8693467337, error test: 454007.5\n",
            "Accuracy 0.2857142984867096\n",
            "Epochs: 44, error train: 470455.05025125627, error test: 398838.52777777775\n",
            "Accuracy 0.4285714328289032\n",
            "Epochs: 45, error train: 466358.351758794, error test: 416154.72222222225\n",
            "Accuracy 0.2857142984867096\n",
            "Epochs: 46, error train: 593839.0050251256, error test: 493720.6111111111\n",
            "Accuracy 0.1428571492433548\n",
            "Epochs: 47, error train: 487221.216080402, error test: 502967.3333333333\n",
            "Accuracy 0.4285714328289032\n",
            "Epochs: 48, error train: 513764.7336683417, error test: 389008.75\n",
            "Accuracy 0.1428571492433548\n",
            "Epochs: 49, error train: 505076.29145728645, error test: 451217.0\n",
            "Accuracy 0.1428571492433548\n"
          ]
        }
      ]
    },
    {
      "cell_type": "code",
      "source": [
        "plt.plot(accuracy_test)"
      ],
      "metadata": {
        "colab": {
          "base_uri": "https://localhost:8080/",
          "height": 282
        },
        "id": "URCMkqEPVguR",
        "outputId": "da598103-5147-47af-c9b3-16582a832d58"
      },
      "execution_count": 332,
      "outputs": [
        {
          "output_type": "execute_result",
          "data": {
            "text/plain": [
              "[<matplotlib.lines.Line2D at 0x7f4f230059d0>]"
            ]
          },
          "metadata": {},
          "execution_count": 332
        },
        {
          "output_type": "display_data",
          "data": {
            "text/plain": [
              "<Figure size 432x288 with 1 Axes>"
            ],
            "image/png": "[encoded data removed]"
          },
          "metadata": {
            "needs_background": "light"
          }
        }
      ]
    },
    {
      "cell_type": "code",
      "source": [
        "plt.plot(errors_train)\n",
        "plt.plot(errors_test)"
      ],
      "metadata": {
        "colab": {
          "base_uri": "https://localhost:8080/",
          "height": 293
        },
        "id": "VQEwCvwCViTR",
        "outputId": "daa4a8b5-8910-4279-8836-5bc4d9dbc794"
      },
      "execution_count": 333,
      "outputs": [
        {
          "output_type": "execute_result",
          "data": {
            "text/plain": [
              "[<matplotlib.lines.Line2D at 0x7f4f22f7ad90>]"
            ]
          },
          "metadata": {},
          "execution_count": 333
        },
        {
          "output_type": "display_data",
          "data": {
            "text/plain": [
              "<Figure size 432x288 with 1 Axes>"
            ],
            "image/png": "[encoded data removed]"
          },
          "metadata": {
            "needs_background": "light"
          }
        }
      ]
    },
    {
      "cell_type": "code",
      "source": [
        "correct = 0\n",
        "total = 0\n",
        "correct_label = []\n",
        "pred = []\n",
        "# since we're not training, we don't need to calculate the gradients for our outputs\n",
        "with torch.no_grad():\n",
        "    for data in test_loader:\n",
        "        images, labels = data\n",
        "        correct_label += labels\n",
        "        # calculate outputs by running images through the network\n",
        "        #inputs = images.reshape(images.shape[0],-1)\n",
        "        outputs = model(images.reshape(images.shape[0],-1))\n",
        "        # the class with the highest energy is what we choose as prediction\n",
        "        _, predicted = torch.max(outputs.data, 1)\n",
        "        pred += predicted\n",
        "        total += labels.size(0)\n",
        "        correct += (predicted == labels).sum().item()\n",
        "\n",
        "print(f'Accuracy of the network on the test images: {100 * correct // total} %')"
      ],
      "metadata": {
        "colab": {
          "base_uri": "https://localhost:8080/"
        },
        "id": "GtcmagvCVqGE",
        "outputId": "de790ba6-711b-41ad-9c9c-25dde0078a5e"
      },
      "execution_count": 334,
      "outputs": [
        {
          "output_type": "stream",
          "name": "stderr",
          "text": [
            "/usr/local/lib/python3.7/dist-packages/PIL/Image.py:960: UserWarning:\n",
            "\n",
            "Palette images with Transparency expressed in bytes should be converted to RGBA images\n",
            "\n"
          ]
        },
        {
          "output_type": "stream",
          "name": "stdout",
          "text": [
            "Accuracy of the network on the test images: 44 %\n"
          ]
        }
      ]
    },
    {
      "cell_type": "code",
      "source": [
        "accuracy_score(correct_label, pred)"
      ],
      "metadata": {
        "colab": {
          "base_uri": "https://localhost:8080/"
        },
        "id": "Q9xpK-j5enmT",
        "outputId": "c1c12fe4-165a-4615-ff73-eb51823f390f"
      },
      "execution_count": 335,
      "outputs": [
        {
          "output_type": "execute_result",
          "data": {
            "text/plain": [
              "0.4411764705882353"
            ]
          },
          "metadata": {},
          "execution_count": 335
        }
      ]
    },
    {
      "cell_type": "code",
      "source": [
        "confusion_matrix(correct_label, pred)"
      ],
      "metadata": {
        "colab": {
          "base_uri": "https://localhost:8080/"
        },
        "id": "2MfWx8aPeosK",
        "outputId": "d989d56b-dae8-4f58-e25c-bb04a4fe4ce7"
      },
      "execution_count": 336,
      "outputs": [
        {
          "output_type": "execute_result",
          "data": {
            "text/plain": [
              "array([[ 0,  0,  1,  5],\n",
              "       [ 0,  2,  6,  5],\n",
              "       [ 1,  3,  7, 11],\n",
              "       [ 1,  2,  3, 21]])"
            ]
          },
          "metadata": {},
          "execution_count": 336
        }
      ]
    },
    {
      "cell_type": "code",
      "source": [
        "print(classification_report(correct_label, pred))"
      ],
      "metadata": {
        "colab": {
          "base_uri": "https://localhost:8080/"
        },
        "id": "ImT1a-nTepv9",
        "outputId": "49303675-4b4a-42b6-ba1b-b3f8ccc40dbb"
      },
      "execution_count": 337,
      "outputs": [
        {
          "output_type": "stream",
          "name": "stdout",
          "text": [
            "              precision    recall  f1-score   support\n",
            "\n",
            "           0       0.00      0.00      0.00         6\n",
            "           1       0.29      0.15      0.20        13\n",
            "           2       0.41      0.32      0.36        22\n",
            "           3       0.50      0.78      0.61        27\n",
            "\n",
            "    accuracy                           0.44        68\n",
            "   macro avg       0.30      0.31      0.29        68\n",
            "weighted avg       0.39      0.44      0.40        68\n",
            "\n"
          ]
        }
      ]
    },
    {
      "cell_type": "code",
      "source": [
        "correct = 0\n",
        "total = 0\n",
        "# since we're not training, we don't need to calculate the gradients for our outputs\n",
        "with torch.no_grad():\n",
        "    for data in train_loader:\n",
        "        images, labels = data\n",
        "        # calculate outputs by running images through the network\n",
        "        #inputs = images.reshape(images.shape[0],-1)\n",
        "        outputs = model(images.reshape(images.shape[0],-1))\n",
        "        # the class with the highest energy is what we choose as prediction\n",
        "        _, predicted = torch.max(outputs.data, 1)\n",
        "        total += labels.size(0)\n",
        "        correct += (predicted == labels).sum().item()\n",
        "\n",
        "print(f'Accuracy of the network on the train images: {100 * correct // total} %')"
      ],
      "metadata": {
        "colab": {
          "base_uri": "https://localhost:8080/"
        },
        "id": "xeVvp5kqVtIN",
        "outputId": "f5354460-04b4-44d9-d878-c935f18bab39"
      },
      "execution_count": 338,
      "outputs": [
        {
          "output_type": "stream",
          "name": "stderr",
          "text": [
            "/usr/local/lib/python3.7/dist-packages/PIL/Image.py:960: UserWarning:\n",
            "\n",
            "Palette images with Transparency expressed in bytes should be converted to RGBA images\n",
            "\n"
          ]
        },
        {
          "output_type": "stream",
          "name": "stdout",
          "text": [
            "Accuracy of the network on the train images: 41 %\n"
          ]
        }
      ]
    },
    {
      "cell_type": "code",
      "source": [
        "correct = 0\n",
        "total = 0\n",
        "# since we're not training, we don't need to calculate the gradients for our outputs\n",
        "with torch.no_grad():\n",
        "    for data in validation_loader:\n",
        "        images, labels = data\n",
        "        # calculate outputs by running images through the network\n",
        "        #inputs = images.reshape(images.shape[0],-1)\n",
        "        outputs = model(images.reshape(images.shape[0],-1))\n",
        "        # the class with the highest energy is what we choose as prediction\n",
        "        _, predicted = torch.max(outputs.data, 1)\n",
        "        total += labels.size(0)\n",
        "        correct += (predicted == labels).sum().item()\n",
        "\n",
        "print(f'Accuracy of the network on the validation images: {100 * correct // total} %')"
      ],
      "metadata": {
        "colab": {
          "base_uri": "https://localhost:8080/"
        },
        "id": "-rD1lV-mVv5S",
        "outputId": "623cfc5b-4d3c-4c42-e97d-b0598a02d9fb"
      },
      "execution_count": 339,
      "outputs": [
        {
          "output_type": "stream",
          "name": "stdout",
          "text": [
            "Accuracy of the network on the validation images: 50 %\n"
          ]
        }
      ]
    }
  ]
}