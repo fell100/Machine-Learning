{
  "nbformat": 4,
  "nbformat_minor": 0,
  "metadata": {
    "colab": {
      "name": "1-regressao_linear_1.ipynb",
      "provenance": [],
      "include_colab_link": true
    },
    "kernelspec": {
      "name": "python3",
      "display_name": "Python 3"
    },
    "language_info": {
      "name": "python"
    }
  },
  "cells": [
    {
      "cell_type": "markdown",
      "metadata": {
        "id": "view-in-github",
        "colab_type": "text"
      },
      "source": [
        "<a href=\"https://colab.research.google.com/github/fell100/Machine-Learning/blob/master/1_regressao_linear_1.ipynb\" target=\"_parent\"><img src=\"https://colab.research.google.com/assets/colab-badge.svg\" alt=\"Open In Colab\"/></a>"
      ]
    },
    {
      "cell_type": "markdown",
      "metadata": {
        "id": "6-Dv7y5KH8gC"
      },
      "source": [
        "# Importando bibliotecas"
      ]
    },
    {
      "cell_type": "code",
      "metadata": {
        "id": "9J37DQgxr5Gv"
      },
      "source": [
        "import numpy as np\n",
        "import matplotlib.pyplot as plt\n",
        "import torch "
      ],
      "execution_count": 1,
      "outputs": []
    },
    {
      "cell_type": "markdown",
      "metadata": {
        "id": "lSfD3cXyHGW6"
      },
      "source": [
        "# Descrição\n",
        "\n",
        "Neste exercício vamos verificar como podemos usar o PyTorch para implementarmos um dos modelos mais simples: regressão linear.\n",
        "\n",
        "Nesse modelo, desprezando os valores residuais $\\varepsilon$, temos que:\n",
        "\n",
        "$y_i = \\alpha + \\beta X_i$\n",
        "\n",
        "ou, na sua forma matricial:\n",
        "\n",
        "$Y =B X$\n",
        "\n",
        "Onde **$Y$** é uma matriz $n$x$1$ observações, **$X$** é uma matriz de tamanho $n$ x $(p+1)$ (sendo a primeira coluna com valores sempre iguais a 1, representando a constante $\\alpha$, e $p$ é a quantidade de variáveis explicativas.\n",
        "\n",
        "Temos mais de uma forma de obtermos os valores de **$B$** para aproximar a função que minimiza os erros. Vamos usar o método conhecido como *Gradient Descent*.\n",
        "\n",
        "Para dar início, vamos atacar um problema bem simples, tendo apenas uma variável.\n",
        "Vamos gerar uma série de par de dados ${(x,y)}$ onde \n",
        "\n",
        "$y = 3x + 2$"
      ]
    },
    {
      "cell_type": "code",
      "metadata": {
        "colab": {
          "base_uri": "https://localhost:8080/",
          "height": 269
        },
        "id": "5iYMfJlSsCL4",
        "outputId": "b634c05b-d619-4c82-be07-ddd53ced30a2"
      },
      "source": [
        "N = 1000\n",
        "# criar o vetor x com N valores entre -3 e 3\n",
        "x = (np.random.rand(N)*6)-3\n",
        "#cria o vetor y\n",
        "y = 3*x + 2\n",
        "plt.plot(x,y)\n",
        "plt.grid('both')\n",
        "plt.axis([-3,3,-15,15]);"
      ],
      "execution_count": 2,
      "outputs": [
        {
          "output_type": "display_data",
          "data": {
            "text/plain": [
              "<Figure size 432x288 with 1 Axes>"
            ],
            "image/png": "[encoded data removed]"
          },
          "metadata": {
            "needs_background": "light"
          }
        }
      ]
    },
    {
      "cell_type": "markdown",
      "metadata": {
        "id": "yAvsAKS4QejX"
      },
      "source": [
        "Já temos os nossos dados para ajustar o modelo. Agora, vamos dar início ao uso do Pytorch. Vamos criar uma classe que define o nosso modelo e já cria um método para propogar a entrada e criar uma saída.\n",
        "\n",
        "A ideia do Pytorch é justamente facilitar o trabalho, e não precisamos nos preocupar com multiplicação de matrizes e, como veremos logo à frente, com operações mais complexas e necessárias, como cálculos de gradientes."
      ]
    },
    {
      "cell_type": "code",
      "metadata": {
        "id": "lR6ranOr0Jw6"
      },
      "source": [
        "x_treino = np.array(x,dtype=np.float32)\n",
        "x_treino = x_treino.reshape(-1,1)\n",
        "\n",
        "y_treino = np.array(y,dtype=np.float32)\n",
        "y_treino = y_treino.reshape(-1,1)\n",
        "\n",
        "\n",
        "nEntrada = 1\n",
        "nSaida = 1\n",
        "modelo = torch.nn.Linear(nEntrada, nSaida) "
      ],
      "execution_count": 3,
      "outputs": []
    },
    {
      "cell_type": "markdown",
      "metadata": {
        "id": "8Btmrye8S9hv"
      },
      "source": [
        "Temos o nosso modelo e dados preprados para treinamento. Agora, vamos nos preparar para usar o potencial das GPUs, caso estejam disponíveis. Caso esteja executando esse código no Google Colaboratory, você pode escolher usar uma GPU no lugar de uma CPU. É sugerido que você use GPUs apenas quando necessário, o que não é o nosso caso aqui."
      ]
    },
    {
      "cell_type": "code",
      "metadata": {
        "colab": {
          "base_uri": "https://localhost:8080/"
        },
        "id": "-U94_GT9TQHv",
        "outputId": "83ecd031-3bdd-4cf6-9dff-2ad8891406e0"
      },
      "source": [
        "if torch.cuda.is_available():\n",
        "  modelo.cuda()\n",
        "  print('Ueba! Vamos de GPU')\n",
        "else:\n",
        "  print('Ok. Vamos de CPU')"
      ],
      "execution_count": 4,
      "outputs": [
        {
          "output_type": "stream",
          "name": "stdout",
          "text": [
            "Ok. Vamos de CPU\n"
          ]
        }
      ]
    },
    {
      "cell_type": "markdown",
      "metadata": {
        "id": "tK9OqbQqTXJs"
      },
      "source": [
        "A estrutura acima serve para mover o modelo para a GPU, caso esteja disponível.\n",
        "\n",
        "O próximo passo é extremamente motivador. A medida de performace do nosso modelo será medida pelo erro quadrático médio. E para otimizar os parâmetros do nosso modelo, queremos usar o *Gradient Descent*.\n",
        "\n",
        "Os códigos necessários para implementar essas duas operações (cálculo do erro e juste dos parâmetros) não são tão elaborados. Mas o Pytorch já oferece esse suporte."
      ]
    },
    {
      "cell_type": "code",
      "metadata": {
        "id": "VGfzj3QVUfGw"
      },
      "source": [
        "taxaAprendizagem = 0.01 #posteriormente, altere o valor dessa taxa e verifique o que acontece no treinamento.\n",
        "\n",
        "criterion = torch.nn.MSELoss() \n",
        "optimizer = torch.optim.SGD(modelo.parameters(), lr=taxaAprendizagem)      "
      ],
      "execution_count": 5,
      "outputs": []
    },
    {
      "cell_type": "markdown",
      "metadata": {
        "id": "KIo4Ii1rU9un"
      },
      "source": [
        "Recapitulando, temos:\n",
        "\n",
        "*   Os dados para treinamento\n",
        "*   O modelo declarado\n",
        "*   O erro definido (MSE)\n",
        "*   O algoritmo de ajuste definido (SGD)\n",
        "\n",
        "Finalmente, podemos treinar o nosso modelo. Como estamos com um caso extremamente simples nas mãos, podemos usar 100 épocas. Veremos que, com deeplearning, 10 épocas pode levar tempo demais.\n",
        "\n",
        "Para cada época:\n",
        "\n",
        "\n",
        "*   os gradientes são zerados\n",
        "*   as saídas do modelo são calculadas\n",
        "*   os erros são calculados\n",
        "*   os gradientes são calculados\n",
        "*   executamos um passo na otimização dos parâmetros\n",
        "\n",
        "\n"
      ]
    },
    {
      "cell_type": "code",
      "metadata": {
        "colab": {
          "base_uri": "https://localhost:8080/"
        },
        "id": "ttBig1lQVT7h",
        "outputId": "cf5726d4-149f-4678-ff42-b1b8801d2b8c"
      },
      "source": [
        "nEpocas = 100\n",
        "erros=[]\n",
        "\n",
        "for epoca in range(nEpocas):\n",
        "    if torch.cuda.is_available():\n",
        "        entradas = torch.tensor(x_treino).to('cuda')\n",
        "        saidasEsperadas = torch.tensor(y_treino).to('cuda')\n",
        "    else:\n",
        "        entradas = torch.tensor(x_treino) #Variable(torch.from_numpy(x_treino))\n",
        "        saidasEsperadas = torch.tensor(y_treino) #Variable(torch.from_numpy(y_treino))\n",
        "\n",
        "    # A linha abaixo zera os gradientes calculados anteriormente, para não acumular informações\n",
        "    optimizer.zero_grad()\n",
        "\n",
        "    # calculamos a saída da rede\n",
        "    saidas = modelo(entradas)\n",
        "\n",
        "    # calcula o erro\n",
        "    loss = criterion(saidas, saidasEsperadas)\n",
        "\n",
        "    # calcular os gradientes\n",
        "    loss.backward()\n",
        "\n",
        "    # atualiza parâmetros \n",
        "    optimizer.step()\n",
        "\n",
        "    erros.append(loss.item())\n",
        "\n",
        "    if(not epoca%10):\n",
        "      print('Época:' + str(epoca) + ' Erro: ' + str(loss.item()))"
      ],
      "execution_count": 6,
      "outputs": [
        {
          "output_type": "stream",
          "name": "stdout",
          "text": [
            "Época:0 Erro: 28.27301597595215\n",
            "Época:10 Erro: 9.1861572265625\n",
            "Época:20 Erro: 3.30031418800354\n",
            "Época:30 Erro: 1.3753516674041748\n",
            "Época:40 Erro: 0.676201343536377\n",
            "Época:50 Erro: 0.380729079246521\n",
            "Época:60 Erro: 0.2335316687822342\n",
            "Época:70 Erro: 0.14988823235034943\n",
            "Época:80 Erro: 0.09831803292036057\n",
            "Época:90 Erro: 0.06513408571481705\n"
          ]
        }
      ]
    },
    {
      "cell_type": "markdown",
      "metadata": {
        "id": "YQrJj6ABXGBg"
      },
      "source": [
        "Observando o gráfico, percebemos que o erro caiu rapidamente logo nas primeras épocas."
      ]
    },
    {
      "cell_type": "code",
      "metadata": {
        "colab": {
          "base_uri": "https://localhost:8080/",
          "height": 282
        },
        "id": "jYCMRaXkYbgm",
        "outputId": "900075a2-c9fd-416b-fd7f-4f2deb7337ab"
      },
      "source": [
        "plt.plot(erros)"
      ],
      "execution_count": 7,
      "outputs": [
        {
          "output_type": "execute_result",
          "data": {
            "text/plain": [
              "[<matplotlib.lines.Line2D at 0x7ff1d6b5bbd0>]"
            ]
          },
          "metadata": {},
          "execution_count": 7
        },
        {
          "output_type": "display_data",
          "data": {
            "text/plain": [
              "<Figure size 432x288 with 1 Axes>"
            ],
            "image/png": "[encoded data removed]"
          },
          "metadata": {
            "needs_background": "light"
          }
        }
      ]
    },
    {
      "cell_type": "markdown",
      "metadata": {
        "id": "Q1T-7yZLY76l"
      },
      "source": [
        "Podemos verificar o sucesso plotando o gráfico de x versus a saída do modelo para esses valores.\n"
      ]
    },
    {
      "cell_type": "code",
      "metadata": {
        "colab": {
          "base_uri": "https://localhost:8080/",
          "height": 265
        },
        "id": "b-iSfAob1tsc",
        "outputId": "215d5442-1b4d-44e9-b03c-b75238c0e6be"
      },
      "source": [
        "with torch.no_grad():# isso desabilita o cálculo de gradientes\n",
        "  if torch.cuda.is_available():\n",
        "    entradas = torch.tensor(x_treino).to('cuda')\n",
        "  else:\n",
        "    entradas = torch.tensor(x_treino)\n",
        "  saidas = modelo(entradas)\n",
        "\n",
        "plt.clf()\n",
        "plt.plot(x_treino, y_treino, 'g', label='Dados reais', lw=5)\n",
        "plt.plot(x_treino, saidas, 'k', label='Saída do modelo')\n",
        "plt.legend(loc='best')\n",
        "plt.show()"
      ],
      "execution_count": 8,
      "outputs": [
        {
          "output_type": "display_data",
          "data": {
            "text/plain": [
              "<Figure size 432x288 with 1 Axes>"
            ],
            "image/png": "[encoded data removed]"
          },
          "metadata": {
            "needs_background": "light"
          }
        }
      ]
    },
    {
      "cell_type": "markdown",
      "metadata": {
        "id": "qciLELcpaqeX"
      },
      "source": [
        "Como esperado, com um erro muito baixo no treinamento, não existe diferença perceptível entre a saída real e a calculada pelo modelo.\n",
        "\n",
        "Resta agora verificar como o modelo se sai quando é apresentado para dados desconhecidos. Vamos criar dados entre 10 e 20 e verificar como o modelo se sai."
      ]
    },
    {
      "cell_type": "code",
      "metadata": {
        "colab": {
          "base_uri": "https://localhost:8080/",
          "height": 265
        },
        "id": "sK-ycj0kbbNG",
        "outputId": "bb19b488-1c9a-48b9-e7d2-e9ed4b8f3919"
      },
      "source": [
        "x2 = (np.random.rand(N)*10)+10\n",
        "#cria o vetor y\n",
        "y2 = 3*x2 + 2\n",
        "x_teste = np.array(x2,dtype=np.float32)\n",
        "x_teste = x_teste.reshape(-1,1)\n",
        "\n",
        "y_teste = np.array(y2,dtype=np.float32)\n",
        "y_teste = y_teste.reshape(-1,1)\n",
        "\n",
        "with torch.no_grad():# isso desabilita o cálculo de gradientes\n",
        "  if torch.cuda.is_available():\n",
        "    entradas = torch.tensor(x_teste).to('cuda')\n",
        "  else:\n",
        "    entradas = torch.tensor(x_teste)\n",
        "  saidas = modelo(entradas)\n",
        "\n",
        "\n",
        "plt.clf()\n",
        "plt.plot(x_teste, y_teste, 'g', label='Dados reais', lw=5)\n",
        "plt.plot(x_teste, saidas, 'k', label='Saída do modelo')\n",
        "plt.legend(loc='best')\n",
        "plt.show()"
      ],
      "execution_count": 9,
      "outputs": [
        {
          "output_type": "display_data",
          "data": {
            "text/plain": [
              "<Figure size 432x288 with 1 Axes>"
            ],
            "image/png": "[encoded data removed]"
          },
          "metadata": {
            "needs_background": "light"
          }
        }
      ]
    },
    {
      "cell_type": "markdown",
      "metadata": {
        "id": "WI-y14Ol179d"
      },
      "source": [
        "## **O que vimos**\n",
        "Como fazer uma regressão linear usando recursos do PyTorch.\n",
        "\n",
        "## **Do PyTorch**\n",
        "\n",
        "torch.nn.Linear()\n",
        "\n",
        "torch.nn.MSELoss()\n",
        "\n",
        "torch.optim.SGD()\n",
        "\n",
        "torch.cuda.is_available()\n"
      ]
    }
  ]
}