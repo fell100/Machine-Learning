{
  "nbformat": 4,
  "nbformat_minor": 0,
  "metadata": {
    "colab": {
      "name": "2-regressao_linear_2.ipynb",
      "provenance": [],
      "collapsed_sections": [],
      "include_colab_link": true
    },
    "kernelspec": {
      "name": "python3",
      "display_name": "Python 3"
    },
    "language_info": {
      "name": "python"
    }
  },
  "cells": [
    {
      "cell_type": "markdown",
      "metadata": {
        "id": "view-in-github",
        "colab_type": "text"
      },
      "source": [
        "<a href=\"https://colab.research.google.com/github/fell100/Machine-Learning/blob/master/2_regressao_linear_2.ipynb\" target=\"_parent\"><img src=\"https://colab.research.google.com/assets/colab-badge.svg\" alt=\"Open In Colab\"/></a>"
      ]
    },
    {
      "cell_type": "markdown",
      "metadata": {
        "id": "6-Dv7y5KH8gC"
      },
      "source": [
        "# Importando bibliotecas"
      ]
    },
    {
      "cell_type": "code",
      "metadata": {
        "id": "9J37DQgxr5Gv"
      },
      "source": [
        "import numpy as np\n",
        "import matplotlib.pyplot as plt\n",
        "import torch "
      ],
      "execution_count": 1,
      "outputs": []
    },
    {
      "cell_type": "markdown",
      "metadata": {
        "id": "lSfD3cXyHGW6"
      },
      "source": [
        "# Descrição\n",
        "\n",
        "No último exercício fizemos a regressão linear para ajustar um modelo para dados gerados a partir da equação \n",
        "\n",
        "$y = 3x+2$\n",
        "\n",
        "Agora, vamos partir para a tragédia anunciada e tentar usar os mesmos passos para a equação \n",
        "\n",
        "$y = 3x^2+2x+1$"
      ]
    },
    {
      "cell_type": "code",
      "metadata": {
        "colab": {
          "base_uri": "https://localhost:8080/",
          "height": 265
        },
        "id": "5iYMfJlSsCL4",
        "outputId": "73b136c2-7227-4fa7-a20c-5026bc1daa2b"
      },
      "source": [
        "N = 100\n",
        "# criar o vetor x com N valores entre -2 e 2\n",
        "x = (np.random.rand(N)*4)-2\n",
        "#cria o vetor y\n",
        "y = 3*np.power(x,2)+2*x+1\n",
        "plt.plot(x,y,'xb')\n",
        "plt.grid('both')\n",
        "plt.axis([-3,3,0,15]);"
      ],
      "execution_count": 2,
      "outputs": [
        {
          "output_type": "display_data",
          "data": {
            "text/plain": [
              "<Figure size 432x288 with 1 Axes>"
            ],
            "image/png": "[encoded data removed]"
          },
          "metadata": {
            "needs_background": "light"
          }
        }
      ]
    },
    {
      "cell_type": "code",
      "metadata": {
        "id": "lR6ranOr0Jw6"
      },
      "source": [
        "x_treino = np.array(x,dtype=np.float32)\n",
        "x_treino = x_treino.reshape(-1,1)\n",
        "\n",
        "y_treino = np.array(y,dtype=np.float32)\n",
        "y_treino = y_treino.reshape(-1,1)\n",
        "\n",
        "\n",
        "nEntrada = 1\n",
        "nSaida = 1\n",
        "modelo = torch.nn.Linear(nEntrada, nSaida) "
      ],
      "execution_count": 3,
      "outputs": []
    },
    {
      "cell_type": "code",
      "metadata": {
        "colab": {
          "base_uri": "https://localhost:8080/"
        },
        "id": "-U94_GT9TQHv",
        "outputId": "b153f24f-6313-418f-8829-9f98f50c5758"
      },
      "source": [
        "if torch.cuda.is_available():\n",
        "  modelo.cuda()\n",
        "  print('Ueba! Vamos de GPU')\n",
        "else:\n",
        "  print('Ok. Vamos de CPU')"
      ],
      "execution_count": 4,
      "outputs": [
        {
          "output_type": "stream",
          "name": "stdout",
          "text": [
            "Ok. Vamos de CPU\n"
          ]
        }
      ]
    },
    {
      "cell_type": "code",
      "metadata": {
        "id": "VGfzj3QVUfGw"
      },
      "source": [
        "taxaAprendizagem = 0.01 \n",
        "\n",
        "criterion = torch.nn.MSELoss() \n",
        "optimizer = torch.optim.SGD(modelo.parameters(), lr=taxaAprendizagem)      "
      ],
      "execution_count": 5,
      "outputs": []
    },
    {
      "cell_type": "code",
      "metadata": {
        "colab": {
          "base_uri": "https://localhost:8080/"
        },
        "id": "ttBig1lQVT7h",
        "outputId": "36685910-d48f-427e-8a7d-50befb6707ae"
      },
      "source": [
        "nEpocas = 150\n",
        "erros=[]\n",
        "\n",
        "for epoca in range(nEpocas):\n",
        "  if torch.cuda.is_available():\n",
        "    entradas = torch.tensor(x_treino).to('cuda')\n",
        "    saidasEsperadas = torch.tensor(y_treino).to('cuda')\n",
        "  else:\n",
        "    entradas = torch.tensor(x_treino) #Variable(torch.from_numpy(x_treino))\n",
        "    saidasEsperadas = torch.tensor(y_treino) #Variable(torch.from_numpy(y_treino))\n",
        "\n",
        "  # A linha abaixo zera os gradientes calculados anteriormente, para não acumular informações\n",
        "  optimizer.zero_grad()\n",
        "\n",
        "      # calculamos a saída da rede\n",
        "  saidas = modelo(entradas)\n",
        "\n",
        "      # calcula o erro\n",
        "  loss = criterion(saidas, saidasEsperadas)\n",
        "\n",
        "      # calcula os gradientes\n",
        "  loss.backward()\n",
        "\n",
        "      # atualiza parâmetros \n",
        "  optimizer.step()\n",
        "\n",
        "  erros.append(loss.item())\n",
        "\n",
        "  if(not epoca%10):\n",
        "    print('Época:' + str(epoca) + ' Erro: ' + str(loss.item()))"
      ],
      "execution_count": 6,
      "outputs": [
        {
          "output_type": "stream",
          "name": "stdout",
          "text": [
            "Época:0 Erro: 47.818782806396484\n",
            "Época:10 Erro: 33.621185302734375\n",
            "Época:20 Erro: 25.051311492919922\n",
            "Época:30 Erro: 19.847362518310547\n",
            "Época:40 Erro: 16.666950225830078\n",
            "Época:50 Erro: 14.709924697875977\n",
            "Época:60 Erro: 13.49706745147705\n",
            "Época:70 Erro: 12.739849090576172\n",
            "Época:80 Erro: 12.26354694366455\n",
            "Época:90 Erro: 11.961688041687012\n",
            "Época:100 Erro: 11.768965721130371\n",
            "Época:110 Erro: 11.645033836364746\n",
            "Época:120 Erro: 11.564784049987793\n",
            "Época:130 Erro: 11.512481689453125\n",
            "Época:140 Erro: 11.478184700012207\n"
          ]
        }
      ]
    },
    {
      "cell_type": "markdown",
      "metadata": {
        "id": "YQrJj6ABXGBg"
      },
      "source": [
        "Observando o gráfico, percebemos que o erro caiu. Porém, está muito acima do que vimos para a equação liner."
      ]
    },
    {
      "cell_type": "code",
      "metadata": {
        "colab": {
          "base_uri": "https://localhost:8080/",
          "height": 282
        },
        "id": "jYCMRaXkYbgm",
        "outputId": "16858bef-dad6-48f7-8a1e-2c9026ccfc8a"
      },
      "source": [
        "plt.plot(erros)"
      ],
      "execution_count": 7,
      "outputs": [
        {
          "output_type": "execute_result",
          "data": {
            "text/plain": [
              "[<matplotlib.lines.Line2D at 0x7fd00a7b89d0>]"
            ]
          },
          "metadata": {},
          "execution_count": 7
        },
        {
          "output_type": "display_data",
          "data": {
            "text/plain": [
              "<Figure size 432x288 with 1 Axes>"
            ],
            "image/png": "[encoded data removed]"
          },
          "metadata": {
            "needs_background": "light"
          }
        }
      ]
    },
    {
      "cell_type": "markdown",
      "metadata": {
        "id": "Q1T-7yZLY76l"
      },
      "source": [
        "Podemos verificar a falha plotando o gráfico de $x$ versus a saída do modelo para esses valores.\n"
      ]
    },
    {
      "cell_type": "code",
      "metadata": {
        "colab": {
          "base_uri": "https://localhost:8080/",
          "height": 265
        },
        "id": "b-iSfAob1tsc",
        "outputId": "7e093f32-65fa-463f-bd28-bcd06a75d00c"
      },
      "source": [
        "with torch.no_grad():# isso desabilita o cálculo de gradientes\n",
        "  if torch.cuda.is_available():\n",
        "    entradas = torch.tensor(x_treino).to('cuda')\n",
        "  else:\n",
        "    entradas = torch.tensor(x_treino)\n",
        "  saidas = modelo(entradas)\n",
        "  \n",
        "plt.clf()\n",
        "plt.plot(x_treino, y_treino, 'xb', label='Dados reais', lw=5)\n",
        "plt.plot(x_treino, saidas, 'ko', label='Saída do modelo')\n",
        "plt.legend(loc='best')\n",
        "plt.show()"
      ],
      "execution_count": 8,
      "outputs": [
        {
          "output_type": "display_data",
          "data": {
            "text/plain": [
              "<Figure size 432x288 with 1 Axes>"
            ],
            "image/png": "[encoded data removed]"
          },
          "metadata": {
            "needs_background": "light"
          }
        }
      ]
    },
    {
      "cell_type": "markdown",
      "metadata": {
        "id": "qciLELcpaqeX"
      },
      "source": [
        "Como esperado, com um modelo linear, é impossível termos uma aproximação decente. Não é necessário sequer verificar como o modelo se comporta para dados desconhecidos.\n",
        "\n",
        "Como esse é um problema para aprendizado, podemos alterar as entradas, incluindo os valores de $x^2$ e ajustando um novo modelo.\n",
        "\n",
        "Note que o modelo ainda será linear:\n",
        "\n",
        "$ w_0 x_0 + w_1 x_1 + b0$\n",
        "\n",
        "mas, nesse caso, $x_0$ e $x_1$ tem os valores numéricos de $x$ e $x^2$, respectivamente."
      ]
    },
    {
      "cell_type": "code",
      "metadata": {
        "colab": {
          "base_uri": "https://localhost:8080/"
        },
        "id": "sK-ycj0kbbNG",
        "outputId": "91404cad-4c8c-4e44-b9d8-8e6abef1112c"
      },
      "source": [
        "x_treino = np.array(x,dtype=np.float32).reshape(-1,1)\n",
        "x2 = np.array(np.power(x,2).reshape(-1,1),dtype=np.float32)\n",
        "x_treino = np.concatenate((x_treino,x2),axis=1)\n",
        "\n",
        "y_treino = np.array(y,dtype=np.float32)\n",
        "y_treino = y_treino.reshape(-1,1)\n",
        "\n",
        "\n",
        "nEntrada = 2\n",
        "nSaida = 1\n",
        "modelo = torch.nn.Linear(nEntrada, nSaida) \n",
        "if torch.cuda.is_available():\n",
        "  modelo.cuda()\n",
        "  print('Ueba! Vamos de GPU')\n",
        "else:\n",
        "  print('Ok. Vamos de CPU')\n",
        "  taxaAprendizagem = 0.01 \n",
        "\n",
        "criterion = torch.nn.MSELoss() \n",
        "optimizer = torch.optim.SGD(modelo.parameters(), lr=taxaAprendizagem)  \n",
        "nEpocas = 100\n",
        "erros=[]\n",
        "for epoca in range(nEpocas):\n",
        "  if torch.cuda.is_available():\n",
        "          #entradas = Variable(torch.from_numpy(x_treino).cuda())\n",
        "    entradas = torch.tensor(x_treino).to('cuda')\n",
        "          #saidasEsperadas = Variable(torch.from_numpy(y_treino).cuda())\n",
        "    saidasEsperadas = torch.tensor(y_treino).to('cuda')\n",
        "  else:\n",
        "    entradas = torch.tensor(x_treino) #Variable(torch.from_numpy(x_treino))\n",
        "    saidasEsperadas = torch.tensor(y_treino) #Variable(torch.from_numpy(y_treino))\n",
        "\n",
        "      # A linha abaixo zera os gradientes calculados anteriormente, para não acumular informações\n",
        "  optimizer.zero_grad()\n",
        "\n",
        "      # calculamos a saída da rede\n",
        "  saidas = modelo(entradas)\n",
        "\n",
        "      # calcula o erro\n",
        "  loss = criterion(saidas, saidasEsperadas)\n",
        "\n",
        "      # calcular os gradientes\n",
        "  loss.backward()\n",
        "\n",
        "      # atualiza parâmetros \n",
        "  optimizer.step()\n",
        "\n",
        "  erros.append(loss.item())\n",
        "\n",
        "  if(not epoca%10):\n",
        "    print('Época:' + str(epoca) + ' Erro: ' + str(loss.item()))"
      ],
      "execution_count": 9,
      "outputs": [
        {
          "output_type": "stream",
          "name": "stdout",
          "text": [
            "Ok. Vamos de CPU\n",
            "Época:0 Erro: 50.767616271972656\n",
            "Época:10 Erro: 12.087616920471191\n",
            "Época:20 Erro: 3.391343116760254\n",
            "Época:30 Erro: 1.2657417058944702\n",
            "Época:40 Erro: 0.6418616771697998\n",
            "Época:50 Erro: 0.39902153611183167\n",
            "Época:60 Erro: 0.2751968204975128\n",
            "Época:70 Erro: 0.2005462497472763\n",
            "Época:80 Erro: 0.15155459940433502\n",
            "Época:90 Erro: 0.11783646792173386\n"
          ]
        }
      ]
    },
    {
      "cell_type": "code",
      "metadata": {
        "colab": {
          "base_uri": "https://localhost:8080/",
          "height": 265
        },
        "id": "KrZoSISWti2p",
        "outputId": "c593fca6-ca8a-4ae3-d1a1-ce9b1df45456"
      },
      "source": [
        "with torch.no_grad():# isso desabilita o cálculo de gradientes\n",
        "  if torch.cuda.is_available():\n",
        "    entradas = torch.tensor(x_treino).to('cuda')\n",
        "  else:\n",
        "    entradas = torch.tensor(x_treino)\n",
        "  saidas = modelo(entradas)\n",
        "\n",
        "plt.clf()\n",
        "plt.plot(x_treino[:,0], y_treino, 'xb', label='Dados reais', lw=5)\n",
        "plt.plot(x_treino[:,0], saidas, 'ko', label='Saída do modelo')\n",
        "plt.legend(loc='best')\n",
        "plt.show()"
      ],
      "execution_count": 10,
      "outputs": [
        {
          "output_type": "display_data",
          "data": {
            "text/plain": [
              "<Figure size 432x288 with 1 Axes>"
            ],
            "image/png": "[encoded data removed]"
          },
          "metadata": {
            "needs_background": "light"
          }
        }
      ]
    },
    {
      "cell_type": "code",
      "metadata": {
        "colab": {
          "base_uri": "https://localhost:8080/",
          "height": 265
        },
        "id": "bfmbyJQdylPh",
        "outputId": "d786910f-3219-41ea-cf8e-355de77cc001"
      },
      "source": [
        "#Vamos testar para dados não vistos\n",
        "xt = (np.random.rand(N)*30)-15\n",
        "#cria o vetor y\n",
        "yt = 3*np.power(xt,2)+2*xt+1\n",
        "\n",
        "x_teste = np.array(xt,dtype=np.float32).reshape(-1,1)\n",
        "x2 = np.array(np.power(xt,2).reshape(-1,1),dtype=np.float32)\n",
        "x_teste = np.concatenate((x_teste,x2),axis=1)\n",
        "\n",
        "y_teste = np.array(yt,dtype=np.float32)\n",
        "y_teste = y_teste.reshape(-1,1)\n",
        "\n",
        "with torch.no_grad():# isso desabilita o cálculo de gradientes\n",
        "  if torch.cuda.is_available():\n",
        "    entradas = torch.tensor(x_teste).to('cuda')\n",
        "  else:\n",
        "    entradas = torch.tensor(x_teste)\n",
        "  saidas = modelo(entradas)\n",
        "\n",
        "\n",
        "plt.clf()\n",
        "plt.plot(x_teste[:,0], y_teste, 'xb', label='Dados reais', lw=5)\n",
        "plt.plot(x_teste[:,0], saidas, 'ko', label='Saída do modelo')\n",
        "plt.legend(loc='best')\n",
        "plt.show()"
      ],
      "execution_count": 11,
      "outputs": [
        {
          "output_type": "display_data",
          "data": {
            "text/plain": [
              "<Figure size 432x288 with 1 Axes>"
            ],
            "image/png": "[encoded data removed]"
          },
          "metadata": {
            "needs_background": "light"
          }
        }
      ]
    },
    {
      "cell_type": "markdown",
      "metadata": {
        "id": "69oiqS6WxHUN"
      },
      "source": [
        "Apesar de ainda ser linear, obviamente o modelo funcionou (mesmo para dados desconhecidos), uma vez que o termo de ordem dois foi inserido como entrada. \n",
        "\n",
        "Mas você deve ter em mente que esse é um exemplo simples e do qual tínhamos conhecimento prévio sobre a ordem apropriada. Um problema real pode ter milhares de entradas e é inviável tentarmos as várias possibilidades de ordem de polinômio.\n",
        "\n",
        "Para se ter uma ideia, vamos acrescentar $x^3$ à entrada e verificar o que ocorre."
      ]
    },
    {
      "cell_type": "code",
      "metadata": {
        "colab": {
          "base_uri": "https://localhost:8080/",
          "height": 456
        },
        "id": "fEFfbbSNySKx",
        "outputId": "bfbab85e-f3e9-47a1-b3bc-33893cc1d1a6"
      },
      "source": [
        "x_treino = np.array(x,dtype=np.float32).reshape(-1,1)\n",
        "x2 = np.array(np.power(x,2).reshape(-1,1),dtype=np.float32)\n",
        "x3 = np.array(np.power(x,3).reshape(-1,1),dtype=np.float32)\n",
        "x_treino = np.concatenate((x_treino,x2,x3),axis=1)\n",
        "\n",
        "y_treino = np.array(y,dtype=np.float32)\n",
        "y_treino = y_treino.reshape(-1,1)\n",
        "\n",
        "\n",
        "nEntrada = 3\n",
        "nSaida = 1\n",
        "modelo = torch.nn.Linear(nEntrada, nSaida) \n",
        "if torch.cuda.is_available():\n",
        "  modelo.cuda()\n",
        "  print('Ueba! Vamos de GPU')\n",
        "else:\n",
        "  print('Ok. Vamos de CPU')\n",
        "  taxaAprendizagem = 0.01 \n",
        "\n",
        "criterion = torch.nn.MSELoss() \n",
        "optimizer = torch.optim.SGD(modelo.parameters(), lr=taxaAprendizagem)  \n",
        "nEpocas = 100\n",
        "erros=[]\n",
        "for epoca in range(nEpocas):\n",
        "  if torch.cuda.is_available():\n",
        "    entradas = torch.tensor(x_treino).to('cuda')\n",
        "    saidasEsperadas = torch.tensor(y_treino).to('cuda')\n",
        "  else:\n",
        "    entradas = torch.tensor(x_treino) #Variable(torch.from_numpy(x_treino))\n",
        "    saidasEsperadas = torch.tensor(y_treino) #Variable(torch.from_numpy(y_treino))\n",
        "\n",
        "      # A linha abaixo zera os gradientes calculados anteriormente, para não acumular informações\n",
        "  optimizer.zero_grad()\n",
        "\n",
        "      # calculamos a saída da rede\n",
        "  saidas = modelo(entradas)\n",
        "\n",
        "      # calcula o erro\n",
        "  loss = criterion(saidas, saidasEsperadas)\n",
        "\n",
        "      # calcular os gradientes\n",
        "  loss.backward()\n",
        "\n",
        "      # atualiza parâmetros \n",
        "  optimizer.step()\n",
        "\n",
        "  erros.append(loss.item())\n",
        "\n",
        "  if(not epoca%10):\n",
        "    print('Época:' + str(epoca) + ' Erro: ' + str(loss.item()))\n",
        "\n",
        "with torch.no_grad():# isso desabilita o cálculo de gradientes\n",
        "  if torch.cuda.is_available():\n",
        "    entradas = torch.tensor(x_treino).to('cuda')\n",
        "  else:\n",
        "    entradas = torch.tensor(x_treino)\n",
        "  saidas = modelo(entradas)\n",
        "\n",
        "plt.clf()\n",
        "plt.plot(x_treino[:,0], y_treino, 'xb', label='Dados reais', lw=5)\n",
        "plt.plot(x_treino[:,0], saidas, 'ko', label='Saída do modelo')\n",
        "plt.legend(loc='best')\n",
        "plt.show()    "
      ],
      "execution_count": 12,
      "outputs": [
        {
          "output_type": "stream",
          "name": "stdout",
          "text": [
            "Ok. Vamos de CPU\n",
            "Época:0 Erro: 45.117069244384766\n",
            "Época:10 Erro: 8.987418174743652\n",
            "Época:20 Erro: 2.637551784515381\n",
            "Época:30 Erro: 0.9811702966690063\n",
            "Época:40 Erro: 0.523699939250946\n",
            "Época:50 Erro: 0.3837010860443115\n",
            "Época:60 Erro: 0.32892730832099915\n",
            "Época:70 Erro: 0.29797011613845825\n",
            "Época:80 Erro: 0.27451831102371216\n",
            "Época:90 Erro: 0.2541739046573639\n"
          ]
        },
        {
          "output_type": "display_data",
          "data": {
            "text/plain": [
              "<Figure size 432x288 with 1 Axes>"
            ],
            "image/png": "[encoded data removed]"
          },
          "metadata": {
            "needs_background": "light"
          }
        }
      ]
    },
    {
      "cell_type": "code",
      "metadata": {
        "colab": {
          "base_uri": "https://localhost:8080/",
          "height": 265
        },
        "id": "HbdGlkYE19-G",
        "outputId": "e265f202-5550-4340-df43-dd708628cb9a"
      },
      "source": [
        "#Vamos testar para dados não vistos\n",
        "xt = (np.random.rand(N)*20)\n",
        "#cria o vetor y\n",
        "yt = 3*np.power(xt,2)+2*xt+1\n",
        "\n",
        "x_teste = np.array(xt,dtype=np.float32).reshape(-1,1)\n",
        "x2 = np.array(np.power(xt,2).reshape(-1,1),dtype=np.float32)\n",
        "x3 = np.array(np.power(xt,3).reshape(-1,1),dtype=np.float32)\n",
        "x_teste = np.concatenate((x_teste,x2,x3),axis=1)\n",
        "\n",
        "y_teste = np.array(yt,dtype=np.float32)\n",
        "y_teste = y_teste.reshape(-1,1)\n",
        "\n",
        "with torch.no_grad():# isso desabilita o cálculo de gradientes\n",
        "  if torch.cuda.is_available():\n",
        "    entradas = torch.tensor(x_teste).to('cuda')\n",
        "  else:\n",
        "    entradas = torch.tensor(x_teste)\n",
        "  saidas = modelo(entradas)\n",
        "\n",
        "\n",
        "plt.clf()\n",
        "plt.plot(x_teste[:,0], y_teste, 'xb', label='Dados reais', lw=5)\n",
        "plt.plot(x_teste[:,0], saidas, 'ko', label='Saída do modelo')\n",
        "plt.legend(loc='best')\n",
        "plt.show()"
      ],
      "execution_count": 13,
      "outputs": [
        {
          "output_type": "display_data",
          "data": {
            "text/plain": [
              "<Figure size 432x288 with 1 Axes>"
            ],
            "image/png": "[encoded data removed]"
          },
          "metadata": {
            "needs_background": "light"
          }
        }
      ]
    },
    {
      "cell_type": "markdown",
      "metadata": {
        "id": "V4yPInyH2KBZ"
      },
      "source": [
        "Supondo desconhecimento de qual a ordem adequada da função a ser aproximada, ao inserir uma entrada para ordem 3, o modelo não se mostra confiável para dados desconhecidos.\n",
        "\n",
        "Além disso, suponha um problema com 100 entradas e vamos tentar usar entradas equivalentes à segunda ordem ($x_0^2$, $x_0 x_1$, $x_0 x_2$...). Percebemos ser uma abordagem pouco eficiente.\n",
        "\n",
        "Agora, imagine para um modelo de 800 entradas (não é raro) e se for necessário tentar combinações de ordem 3 ($x_0^3$, $x_0 x_1 x_2$, $x_0 x_1 x_3$...)."
      ]
    },
    {
      "cell_type": "markdown",
      "metadata": {
        "id": "KybFWtTw3aR1"
      },
      "source": [
        "## **O que vimos**\n",
        "\n",
        "A limitação ao se utilizar a regressão linear e uma forma pouco prática de contornar o problema em casos reais."
      ]
    }
  ]
}