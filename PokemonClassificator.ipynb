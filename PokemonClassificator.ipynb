{
  "nbformat": 4,
  "nbformat_minor": 0,
  "metadata": {
    "colab": {
      "name": "PokemonClassificator.ipynb",
      "provenance": [],
      "authorship_tag": "ABX9TyMKNrtgF/IRkPFsugiVuiuU",
      "include_colab_link": true
    },
    "kernelspec": {
      "name": "python3",
      "display_name": "Python 3"
    },
    "language_info": {
      "name": "python"
    }
  },
  "cells": [
    {
      "cell_type": "markdown",
      "metadata": {
        "id": "view-in-github",
        "colab_type": "text"
      },
      "source": [
        "<a href=\"https://colab.research.google.com/github/fell100/Machine-Learning/blob/master/PokemonClassificator.ipynb\" target=\"_parent\"><img src=\"https://colab.research.google.com/assets/colab-badge.svg\" alt=\"Open In Colab\"/></a>"
      ]
    },
    {
      "cell_type": "code",
      "source": [
        "import os\n",
        "import pandas as pd\n",
        "from google.colab import drive\n",
        "from torch.utils.data import DataLoader, Dataset\n",
        "import torchvision.transforms as T\n",
        "import torch\n",
        "import torch.nn as nn\n",
        "from torchvision import datasets, transforms\n",
        "from torchvision.utils import make_grid\n",
        "from torchvision.utils import save_image\n",
        "from IPython.display import Image\n",
        "import matplotlib.pyplot as plt\n",
        "import numpy as np\n",
        "import random\n",
        "%matplotlib inline\n",
        "from os import walk\n",
        "import plotly.express as px\n",
        "import cv2"
      ],
      "metadata": {
        "id": "evJMzdvzBbBO"
      },
      "execution_count": 401,
      "outputs": []
    },
    {
      "cell_type": "markdown",
      "source": [
        "Carregando os dados do Google Drive"
      ],
      "metadata": {
        "id": "1w9W9UVCMxqm"
      }
    },
    {
      "cell_type": "code",
      "source": [
        "drive.mount('/content/gdrive')"
      ],
      "metadata": {
        "colab": {
          "base_uri": "https://localhost:8080/"
        },
        "id": "UKfmZ853B1-G",
        "outputId": "429c3bd9-18b8-40fc-b13b-fe5ab938e6ed"
      },
      "execution_count": 402,
      "outputs": [
        {
          "output_type": "stream",
          "name": "stdout",
          "text": [
            "Drive already mounted at /content/gdrive; to attempt to forcibly remount, call drive.mount(\"/content/gdrive\", force_remount=True).\n"
          ]
        }
      ]
    },
    {
      "cell_type": "code",
      "source": [
        "#https://www.kaggle.com/datasets/vishalsubbiah/pokemon-images-and-types?select=pokemon.csv"
      ],
      "metadata": {
        "id": "nj--cLKtVAmB"
      },
      "execution_count": 403,
      "outputs": []
    },
    {
      "cell_type": "code",
      "source": [
        "image_size = 120\n",
        "DATA_DIR = '/content/gdrive/MyDrive/datasets/pokemon_classificator/pokemon_types'"
      ],
      "metadata": {
        "id": "jT9SMj1LBhC7"
      },
      "execution_count": 404,
      "outputs": []
    },
    {
      "cell_type": "code",
      "source": [
        "csv_path = '/content/gdrive/MyDrive/datasets/pokemon_classificator/pokemon.csv'"
      ],
      "metadata": {
        "id": "VBynvBxHGBPx"
      },
      "execution_count": 405,
      "outputs": []
    },
    {
      "cell_type": "markdown",
      "source": [
        "# Analisando o dataset com os labels"
      ],
      "metadata": {
        "id": "3wm4UtBcNDZS"
      }
    },
    {
      "cell_type": "code",
      "source": [
        "pokemon_label_df = pd.read_csv(csv_path)\n",
        "pokemon_label_df"
      ],
      "metadata": {
        "colab": {
          "base_uri": "https://localhost:8080/",
          "height": 0
        },
        "id": "WHOui6RFGGVl",
        "outputId": "e27bf051-26b8-480b-9596-827afa75f575"
      },
      "execution_count": 406,
      "outputs": [
        {
          "output_type": "execute_result",
          "data": {
            "text/plain": [
              "            Name     Type1   Type2\n",
              "0      bulbasaur     Grass  Poison\n",
              "1        ivysaur     Grass  Poison\n",
              "2       venusaur     Grass  Poison\n",
              "3     charmander      Fire     NaN\n",
              "4     charmeleon      Fire     NaN\n",
              "..           ...       ...     ...\n",
              "804    stakataka      Rock   Steel\n",
              "805  blacephalon      Fire   Ghost\n",
              "806      zeraora  Electric     NaN\n",
              "807       meltan     Steel     NaN\n",
              "808     melmetal     Steel     NaN\n",
              "\n",
              "[809 rows x 3 columns]"
            ],
            "text/html": [
              "\n",
              "  <div id=\"df-73d9a851-0749-4dad-b66f-6c4376f13424\">\n",
              "    <div class=\"colab-df-container\">\n",
              "      <div>\n",
              "<style scoped>\n",
              "    .dataframe tbody tr th:only-of-type {\n",
              "        vertical-align: middle;\n",
              "    }\n",
              "\n",
              "    .dataframe tbody tr th {\n",
              "        vertical-align: top;\n",
              "    }\n",
              "\n",
              "    .dataframe thead th {\n",
              "        text-align: right;\n",
              "    }\n",
              "</style>\n",
              "<table border=\"1\" class=\"dataframe\">\n",
              "  <thead>\n",
              "    <tr style=\"text-align: right;\">\n",
              "      <th></th>\n",
              "      <th>Name</th>\n",
              "      <th>Type1</th>\n",
              "      <th>Type2</th>\n",
              "    </tr>\n",
              "  </thead>\n",
              "  <tbody>\n",
              "    <tr>\n",
              "      <th>0</th>\n",
              "      <td>bulbasaur</td>\n",
              "      <td>Grass</td>\n",
              "      <td>Poison</td>\n",
              "    </tr>\n",
              "    <tr>\n",
              "      <th>1</th>\n",
              "      <td>ivysaur</td>\n",
              "      <td>Grass</td>\n",
              "      <td>Poison</td>\n",
              "    </tr>\n",
              "    <tr>\n",
              "      <th>2</th>\n",
              "      <td>venusaur</td>\n",
              "      <td>Grass</td>\n",
              "      <td>Poison</td>\n",
              "    </tr>\n",
              "    <tr>\n",
              "      <th>3</th>\n",
              "      <td>charmander</td>\n",
              "      <td>Fire</td>\n",
              "      <td>NaN</td>\n",
              "    </tr>\n",
              "    <tr>\n",
              "      <th>4</th>\n",
              "      <td>charmeleon</td>\n",
              "      <td>Fire</td>\n",
              "      <td>NaN</td>\n",
              "    </tr>\n",
              "    <tr>\n",
              "      <th>...</th>\n",
              "      <td>...</td>\n",
              "      <td>...</td>\n",
              "      <td>...</td>\n",
              "    </tr>\n",
              "    <tr>\n",
              "      <th>804</th>\n",
              "      <td>stakataka</td>\n",
              "      <td>Rock</td>\n",
              "      <td>Steel</td>\n",
              "    </tr>\n",
              "    <tr>\n",
              "      <th>805</th>\n",
              "      <td>blacephalon</td>\n",
              "      <td>Fire</td>\n",
              "      <td>Ghost</td>\n",
              "    </tr>\n",
              "    <tr>\n",
              "      <th>806</th>\n",
              "      <td>zeraora</td>\n",
              "      <td>Electric</td>\n",
              "      <td>NaN</td>\n",
              "    </tr>\n",
              "    <tr>\n",
              "      <th>807</th>\n",
              "      <td>meltan</td>\n",
              "      <td>Steel</td>\n",
              "      <td>NaN</td>\n",
              "    </tr>\n",
              "    <tr>\n",
              "      <th>808</th>\n",
              "      <td>melmetal</td>\n",
              "      <td>Steel</td>\n",
              "      <td>NaN</td>\n",
              "    </tr>\n",
              "  </tbody>\n",
              "</table>\n",
              "<p>809 rows × 3 columns</p>\n",
              "</div>\n",
              "      <button class=\"colab-df-convert\" onclick=\"convertToInteractive('df-73d9a851-0749-4dad-b66f-6c4376f13424')\"\n",
              "              title=\"Convert this dataframe to an interactive table.\"\n",
              "              style=\"display:none;\">\n",
              "        \n",
              "  <svg xmlns=\"http://www.w3.org/2000/svg\" height=\"24px\"viewBox=\"0 0 24 24\"\n",
              "       width=\"24px\">\n",
              "    <path d=\"M0 0h24v24H0V0z\" fill=\"none\"/>\n",
              "    <path d=\"M18.56 5.44l.94 2.06.94-2.06 2.06-.94-2.06-.94-.94-2.06-.94 2.06-2.06.94zm-11 1L8.5 8.5l.94-2.06 2.06-.94-2.06-.94L8.5 2.5l-.94 2.06-2.06.94zm10 10l.94 2.06.94-2.06 2.06-.94-2.06-.94-.94-2.06-.94 2.06-2.06.94z\"/><path d=\"M17.41 7.96l-1.37-1.37c-.4-.4-.92-.59-1.43-.59-.52 0-1.04.2-1.43.59L10.3 9.45l-7.72 7.72c-.78.78-.78 2.05 0 2.83L4 21.41c.39.39.9.59 1.41.59.51 0 1.02-.2 1.41-.59l7.78-7.78 2.81-2.81c.8-.78.8-2.07 0-2.86zM5.41 20L4 18.59l7.72-7.72 1.47 1.35L5.41 20z\"/>\n",
              "  </svg>\n",
              "      </button>\n",
              "      \n",
              "  <style>\n",
              "    .colab-df-container {\n",
              "      display:flex;\n",
              "      flex-wrap:wrap;\n",
              "      gap: 12px;\n",
              "    }\n",
              "\n",
              "    .colab-df-convert {\n",
              "      background-color: #E8F0FE;\n",
              "      border: none;\n",
              "      border-radius: 50%;\n",
              "      cursor: pointer;\n",
              "      display: none;\n",
              "      fill: #1967D2;\n",
              "      height: 32px;\n",
              "      padding: 0 0 0 0;\n",
              "      width: 32px;\n",
              "    }\n",
              "\n",
              "    .colab-df-convert:hover {\n",
              "      background-color: #E2EBFA;\n",
              "      box-shadow: 0px 1px 2px rgba(60, 64, 67, 0.3), 0px 1px 3px 1px rgba(60, 64, 67, 0.15);\n",
              "      fill: #174EA6;\n",
              "    }\n",
              "\n",
              "    [theme=dark] .colab-df-convert {\n",
              "      background-color: #3B4455;\n",
              "      fill: #D2E3FC;\n",
              "    }\n",
              "\n",
              "    [theme=dark] .colab-df-convert:hover {\n",
              "      background-color: #434B5C;\n",
              "      box-shadow: 0px 1px 3px 1px rgba(0, 0, 0, 0.15);\n",
              "      filter: drop-shadow(0px 1px 2px rgba(0, 0, 0, 0.3));\n",
              "      fill: #FFFFFF;\n",
              "    }\n",
              "  </style>\n",
              "\n",
              "      <script>\n",
              "        const buttonEl =\n",
              "          document.querySelector('#df-73d9a851-0749-4dad-b66f-6c4376f13424 button.colab-df-convert');\n",
              "        buttonEl.style.display =\n",
              "          google.colab.kernel.accessAllowed ? 'block' : 'none';\n",
              "\n",
              "        async function convertToInteractive(key) {\n",
              "          const element = document.querySelector('#df-73d9a851-0749-4dad-b66f-6c4376f13424');\n",
              "          const dataTable =\n",
              "            await google.colab.kernel.invokeFunction('convertToInteractive',\n",
              "                                                     [key], {});\n",
              "          if (!dataTable) return;\n",
              "\n",
              "          const docLinkHtml = 'Like what you see? Visit the ' +\n",
              "            '<a target=\"_blank\" href=https://colab.research.google.com/notebooks/data_table.ipynb>data table notebook</a>'\n",
              "            + ' to learn more about interactive tables.';\n",
              "          element.innerHTML = '';\n",
              "          dataTable['output_type'] = 'display_data';\n",
              "          await google.colab.output.renderOutput(dataTable, element);\n",
              "          const docLink = document.createElement('div');\n",
              "          docLink.innerHTML = docLinkHtml;\n",
              "          element.appendChild(docLink);\n",
              "        }\n",
              "      </script>\n",
              "    </div>\n",
              "  </div>\n",
              "  "
            ]
          },
          "metadata": {},
          "execution_count": 406
        }
      ]
    },
    {
      "cell_type": "code",
      "source": [
        "pokemon_label_df.query(\"Type1 == 'Water'\")"
      ],
      "metadata": {
        "colab": {
          "base_uri": "https://localhost:8080/",
          "height": 0
        },
        "id": "ur7v7zJrKw34",
        "outputId": "3d35b720-8d4b-46f5-9a35-2c6bca76067d"
      },
      "execution_count": 407,
      "outputs": [
        {
          "output_type": "execute_result",
          "data": {
            "text/plain": [
              "          Name  Type1    Type2\n",
              "6     squirtle  Water      NaN\n",
              "7    wartortle  Water      NaN\n",
              "8    blastoise  Water      NaN\n",
              "53     psyduck  Water      NaN\n",
              "54     golduck  Water      NaN\n",
              "..         ...    ...      ...\n",
              "750   dewpider  Water      Bug\n",
              "751  araquanid  Water      Bug\n",
              "770  pyukumuku  Water      NaN\n",
              "778    bruxish  Water  Psychic\n",
              "787  tapu-fini  Water    Fairy\n",
              "\n",
              "[114 rows x 3 columns]"
            ],
            "text/html": [
              "\n",
              "  <div id=\"df-2700c306-6254-499f-b8e4-2ac4006b420a\">\n",
              "    <div class=\"colab-df-container\">\n",
              "      <div>\n",
              "<style scoped>\n",
              "    .dataframe tbody tr th:only-of-type {\n",
              "        vertical-align: middle;\n",
              "    }\n",
              "\n",
              "    .dataframe tbody tr th {\n",
              "        vertical-align: top;\n",
              "    }\n",
              "\n",
              "    .dataframe thead th {\n",
              "        text-align: right;\n",
              "    }\n",
              "</style>\n",
              "<table border=\"1\" class=\"dataframe\">\n",
              "  <thead>\n",
              "    <tr style=\"text-align: right;\">\n",
              "      <th></th>\n",
              "      <th>Name</th>\n",
              "      <th>Type1</th>\n",
              "      <th>Type2</th>\n",
              "    </tr>\n",
              "  </thead>\n",
              "  <tbody>\n",
              "    <tr>\n",
              "      <th>6</th>\n",
              "      <td>squirtle</td>\n",
              "      <td>Water</td>\n",
              "      <td>NaN</td>\n",
              "    </tr>\n",
              "    <tr>\n",
              "      <th>7</th>\n",
              "      <td>wartortle</td>\n",
              "      <td>Water</td>\n",
              "      <td>NaN</td>\n",
              "    </tr>\n",
              "    <tr>\n",
              "      <th>8</th>\n",
              "      <td>blastoise</td>\n",
              "      <td>Water</td>\n",
              "      <td>NaN</td>\n",
              "    </tr>\n",
              "    <tr>\n",
              "      <th>53</th>\n",
              "      <td>psyduck</td>\n",
              "      <td>Water</td>\n",
              "      <td>NaN</td>\n",
              "    </tr>\n",
              "    <tr>\n",
              "      <th>54</th>\n",
              "      <td>golduck</td>\n",
              "      <td>Water</td>\n",
              "      <td>NaN</td>\n",
              "    </tr>\n",
              "    <tr>\n",
              "      <th>...</th>\n",
              "      <td>...</td>\n",
              "      <td>...</td>\n",
              "      <td>...</td>\n",
              "    </tr>\n",
              "    <tr>\n",
              "      <th>750</th>\n",
              "      <td>dewpider</td>\n",
              "      <td>Water</td>\n",
              "      <td>Bug</td>\n",
              "    </tr>\n",
              "    <tr>\n",
              "      <th>751</th>\n",
              "      <td>araquanid</td>\n",
              "      <td>Water</td>\n",
              "      <td>Bug</td>\n",
              "    </tr>\n",
              "    <tr>\n",
              "      <th>770</th>\n",
              "      <td>pyukumuku</td>\n",
              "      <td>Water</td>\n",
              "      <td>NaN</td>\n",
              "    </tr>\n",
              "    <tr>\n",
              "      <th>778</th>\n",
              "      <td>bruxish</td>\n",
              "      <td>Water</td>\n",
              "      <td>Psychic</td>\n",
              "    </tr>\n",
              "    <tr>\n",
              "      <th>787</th>\n",
              "      <td>tapu-fini</td>\n",
              "      <td>Water</td>\n",
              "      <td>Fairy</td>\n",
              "    </tr>\n",
              "  </tbody>\n",
              "</table>\n",
              "<p>114 rows × 3 columns</p>\n",
              "</div>\n",
              "      <button class=\"colab-df-convert\" onclick=\"convertToInteractive('df-2700c306-6254-499f-b8e4-2ac4006b420a')\"\n",
              "              title=\"Convert this dataframe to an interactive table.\"\n",
              "              style=\"display:none;\">\n",
              "        \n",
              "  <svg xmlns=\"http://www.w3.org/2000/svg\" height=\"24px\"viewBox=\"0 0 24 24\"\n",
              "       width=\"24px\">\n",
              "    <path d=\"M0 0h24v24H0V0z\" fill=\"none\"/>\n",
              "    <path d=\"M18.56 5.44l.94 2.06.94-2.06 2.06-.94-2.06-.94-.94-2.06-.94 2.06-2.06.94zm-11 1L8.5 8.5l.94-2.06 2.06-.94-2.06-.94L8.5 2.5l-.94 2.06-2.06.94zm10 10l.94 2.06.94-2.06 2.06-.94-2.06-.94-.94-2.06-.94 2.06-2.06.94z\"/><path d=\"M17.41 7.96l-1.37-1.37c-.4-.4-.92-.59-1.43-.59-.52 0-1.04.2-1.43.59L10.3 9.45l-7.72 7.72c-.78.78-.78 2.05 0 2.83L4 21.41c.39.39.9.59 1.41.59.51 0 1.02-.2 1.41-.59l7.78-7.78 2.81-2.81c.8-.78.8-2.07 0-2.86zM5.41 20L4 18.59l7.72-7.72 1.47 1.35L5.41 20z\"/>\n",
              "  </svg>\n",
              "      </button>\n",
              "      \n",
              "  <style>\n",
              "    .colab-df-container {\n",
              "      display:flex;\n",
              "      flex-wrap:wrap;\n",
              "      gap: 12px;\n",
              "    }\n",
              "\n",
              "    .colab-df-convert {\n",
              "      background-color: #E8F0FE;\n",
              "      border: none;\n",
              "      border-radius: 50%;\n",
              "      cursor: pointer;\n",
              "      display: none;\n",
              "      fill: #1967D2;\n",
              "      height: 32px;\n",
              "      padding: 0 0 0 0;\n",
              "      width: 32px;\n",
              "    }\n",
              "\n",
              "    .colab-df-convert:hover {\n",
              "      background-color: #E2EBFA;\n",
              "      box-shadow: 0px 1px 2px rgba(60, 64, 67, 0.3), 0px 1px 3px 1px rgba(60, 64, 67, 0.15);\n",
              "      fill: #174EA6;\n",
              "    }\n",
              "\n",
              "    [theme=dark] .colab-df-convert {\n",
              "      background-color: #3B4455;\n",
              "      fill: #D2E3FC;\n",
              "    }\n",
              "\n",
              "    [theme=dark] .colab-df-convert:hover {\n",
              "      background-color: #434B5C;\n",
              "      box-shadow: 0px 1px 3px 1px rgba(0, 0, 0, 0.15);\n",
              "      filter: drop-shadow(0px 1px 2px rgba(0, 0, 0, 0.3));\n",
              "      fill: #FFFFFF;\n",
              "    }\n",
              "  </style>\n",
              "\n",
              "      <script>\n",
              "        const buttonEl =\n",
              "          document.querySelector('#df-2700c306-6254-499f-b8e4-2ac4006b420a button.colab-df-convert');\n",
              "        buttonEl.style.display =\n",
              "          google.colab.kernel.accessAllowed ? 'block' : 'none';\n",
              "\n",
              "        async function convertToInteractive(key) {\n",
              "          const element = document.querySelector('#df-2700c306-6254-499f-b8e4-2ac4006b420a');\n",
              "          const dataTable =\n",
              "            await google.colab.kernel.invokeFunction('convertToInteractive',\n",
              "                                                     [key], {});\n",
              "          if (!dataTable) return;\n",
              "\n",
              "          const docLinkHtml = 'Like what you see? Visit the ' +\n",
              "            '<a target=\"_blank\" href=https://colab.research.google.com/notebooks/data_table.ipynb>data table notebook</a>'\n",
              "            + ' to learn more about interactive tables.';\n",
              "          element.innerHTML = '';\n",
              "          dataTable['output_type'] = 'display_data';\n",
              "          await google.colab.output.renderOutput(dataTable, element);\n",
              "          const docLink = document.createElement('div');\n",
              "          docLink.innerHTML = docLinkHtml;\n",
              "          element.appendChild(docLink);\n",
              "        }\n",
              "      </script>\n",
              "    </div>\n",
              "  </div>\n",
              "  "
            ]
          },
          "metadata": {},
          "execution_count": 407
        }
      ]
    },
    {
      "cell_type": "markdown",
      "source": [
        "Observando os labels de cada classe e sua contagem"
      ],
      "metadata": {
        "id": "Rk7mTbUwNJiw"
      }
    },
    {
      "cell_type": "code",
      "source": [
        "pokemon_label_df['Type1'].value_counts()"
      ],
      "metadata": {
        "colab": {
          "base_uri": "https://localhost:8080/"
        },
        "id": "tlZChlxtKB5J",
        "outputId": "003e1dd7-eace-4b10-9183-e7941ed6e2c1"
      },
      "execution_count": 408,
      "outputs": [
        {
          "output_type": "execute_result",
          "data": {
            "text/plain": [
              "Water       114\n",
              "Normal      105\n",
              "Grass        78\n",
              "Bug          72\n",
              "Fire         53\n",
              "Psychic      53\n",
              "Rock         46\n",
              "Electric     40\n",
              "Poison       34\n",
              "Ground       32\n",
              "Dark         29\n",
              "Fighting     29\n",
              "Ghost        27\n",
              "Dragon       27\n",
              "Steel        26\n",
              "Ice          23\n",
              "Fairy        18\n",
              "Flying        3\n",
              "Name: Type1, dtype: int64"
            ]
          },
          "metadata": {},
          "execution_count": 408
        }
      ]
    },
    {
      "cell_type": "code",
      "source": [
        "types = pokemon_label_df['Type1'].value_counts().keys()\n",
        "count_types = pokemon_label_df['Type1'].value_counts().values\n",
        "print(types)\n",
        "print(count_types)"
      ],
      "metadata": {
        "colab": {
          "base_uri": "https://localhost:8080/"
        },
        "id": "bCteq60qIUwS",
        "outputId": "5440fa59-be4a-45f2-c925-430e4205ac5c"
      },
      "execution_count": 409,
      "outputs": [
        {
          "output_type": "stream",
          "name": "stdout",
          "text": [
            "Index(['Water', 'Normal', 'Grass', 'Bug', 'Fire', 'Psychic', 'Rock',\n",
            "       'Electric', 'Poison', 'Ground', 'Dark', 'Fighting', 'Ghost', 'Dragon',\n",
            "       'Steel', 'Ice', 'Fairy', 'Flying'],\n",
            "      dtype='object')\n",
            "[114 105  78  72  53  53  46  40  34  32  29  29  27  27  26  23  18   3]\n"
          ]
        }
      ]
    },
    {
      "cell_type": "code",
      "source": [
        "fig = px.bar(pokemon_label_df['Type1'], x = types, y = count_types, color = count_types)\n",
        "fig.show()"
      ],
      "metadata": {
        "colab": {
          "base_uri": "https://localhost:8080/",
          "height": 0
        },
        "id": "E4w3e_uDHmnq",
        "outputId": "ac94e9b9-2816-4f44-cc8a-91010dde645f"
      },
      "execution_count": 410,
      "outputs": [
        {
          "output_type": "display_data",
          "data": {
            "text/html": [
              "<html>\n",
              "<head><meta charset=\"utf-8\" /></head>\n",
              "<body>\n",
              "    <div>            <script src=\"https://cdnjs.cloudflare.com/ajax/libs/mathjax/2.7.5/MathJax.js?config=TeX-AMS-MML_SVG\"></script><script type=\"text/javascript\">if (window.MathJax) {MathJax.Hub.Config({SVG: {font: \"STIX-Web\"}});}</script>                <script type=\"text/javascript\">window.PlotlyConfig = {MathJaxConfig: 'local'};</script>\n",
              "        <script src=\"https://cdn.plot.ly/plotly-2.8.3.min.js\"></script>                <div id=\"75c4ae02-29b9-4cc3-a7c3-076b86b347e1\" class=\"plotly-graph-div\" style=\"height:525px; width:100%;\"></div>            <script type=\"text/javascript\">                                    window.PLOTLYENV=window.PLOTLYENV || {};                                    if (document.getElementById(\"75c4ae02-29b9-4cc3-a7c3-076b86b347e1\")) {                    Plotly.newPlot(                        \"75c4ae02-29b9-4cc3-a7c3-076b86b347e1\",                        [{\"alignmentgroup\":\"True\",\"hovertemplate\":\"x=%{x}<br>y=%{y}<br>color=%{marker.color}<extra></extra>\",\"legendgroup\":\"\",\"marker\":{\"color\":[114,105,78,72,53,53,46,40,34,32,29,29,27,27,26,23,18,3],\"coloraxis\":\"coloraxis\",\"pattern\":{\"shape\":\"\"}},\"name\":\"\",\"offsetgroup\":\"\",\"orientation\":\"v\",\"showlegend\":false,\"textposition\":\"auto\",\"x\":[\"Water\",\"Normal\",\"Grass\",\"Bug\",\"Fire\",\"Psychic\",\"Rock\",\"Electric\",\"Poison\",\"Ground\",\"Dark\",\"Fighting\",\"Ghost\",\"Dragon\",\"Steel\",\"Ice\",\"Fairy\",\"Flying\"],\"xaxis\":\"x\",\"y\":[114,105,78,72,53,53,46,40,34,32,29,29,27,27,26,23,18,3],\"yaxis\":\"y\",\"type\":\"bar\"}],                        {\"template\":{\"data\":{\"bar\":[{\"error_x\":{\"color\":\"#2a3f5f\"},\"error_y\":{\"color\":\"#2a3f5f\"},\"marker\":{\"line\":{\"color\":\"#E5ECF6\",\"width\":0.5},\"pattern\":{\"fillmode\":\"overlay\",\"size\":10,\"solidity\":0.2}},\"type\":\"bar\"}],\"barpolar\":[{\"marker\":{\"line\":{\"color\":\"#E5ECF6\",\"width\":0.5},\"pattern\":{\"fillmode\":\"overlay\",\"size\":10,\"solidity\":0.2}},\"type\":\"barpolar\"}],\"carpet\":[{\"aaxis\":{\"endlinecolor\":\"#2a3f5f\",\"gridcolor\":\"white\",\"linecolor\":\"white\",\"minorgridcolor\":\"white\",\"startlinecolor\":\"#2a3f5f\"},\"baxis\":{\"endlinecolor\":\"#2a3f5f\",\"gridcolor\":\"white\",\"linecolor\":\"white\",\"minorgridcolor\":\"white\",\"startlinecolor\":\"#2a3f5f\"},\"type\":\"carpet\"}],\"choropleth\":[{\"colorbar\":{\"outlinewidth\":0,\"ticks\":\"\"},\"type\":\"choropleth\"}],\"contour\":[{\"colorbar\":{\"outlinewidth\":0,\"ticks\":\"\"},\"colorscale\":[[0.0,\"#0d0887\"],[0.1111111111111111,\"#46039f\"],[0.2222222222222222,\"#7201a8\"],[0.3333333333333333,\"#9c179e\"],[0.4444444444444444,\"#bd3786\"],[0.5555555555555556,\"#d8576b\"],[0.6666666666666666,\"#ed7953\"],[0.7777777777777778,\"#fb9f3a\"],[0.8888888888888888,\"#fdca26\"],[1.0,\"#f0f921\"]],\"type\":\"contour\"}],\"contourcarpet\":[{\"colorbar\":{\"outlinewidth\":0,\"ticks\":\"\"},\"type\":\"contourcarpet\"}],\"heatmap\":[{\"colorbar\":{\"outlinewidth\":0,\"ticks\":\"\"},\"colorscale\":[[0.0,\"#0d0887\"],[0.1111111111111111,\"#46039f\"],[0.2222222222222222,\"#7201a8\"],[0.3333333333333333,\"#9c179e\"],[0.4444444444444444,\"#bd3786\"],[0.5555555555555556,\"#d8576b\"],[0.6666666666666666,\"#ed7953\"],[0.7777777777777778,\"#fb9f3a\"],[0.8888888888888888,\"#fdca26\"],[1.0,\"#f0f921\"]],\"type\":\"heatmap\"}],\"heatmapgl\":[{\"colorbar\":{\"outlinewidth\":0,\"ticks\":\"\"},\"colorscale\":[[0.0,\"#0d0887\"],[0.1111111111111111,\"#46039f\"],[0.2222222222222222,\"#7201a8\"],[0.3333333333333333,\"#9c179e\"],[0.4444444444444444,\"#bd3786\"],[0.5555555555555556,\"#d8576b\"],[0.6666666666666666,\"#ed7953\"],[0.7777777777777778,\"#fb9f3a\"],[0.8888888888888888,\"#fdca26\"],[1.0,\"#f0f921\"]],\"type\":\"heatmapgl\"}],\"histogram\":[{\"marker\":{\"pattern\":{\"fillmode\":\"overlay\",\"size\":10,\"solidity\":0.2}},\"type\":\"histogram\"}],\"histogram2d\":[{\"colorbar\":{\"outlinewidth\":0,\"ticks\":\"\"},\"colorscale\":[[0.0,\"#0d0887\"],[0.1111111111111111,\"#46039f\"],[0.2222222222222222,\"#7201a8\"],[0.3333333333333333,\"#9c179e\"],[0.4444444444444444,\"#bd3786\"],[0.5555555555555556,\"#d8576b\"],[0.6666666666666666,\"#ed7953\"],[0.7777777777777778,\"#fb9f3a\"],[0.8888888888888888,\"#fdca26\"],[1.0,\"#f0f921\"]],\"type\":\"histogram2d\"}],\"histogram2dcontour\":[{\"colorbar\":{\"outlinewidth\":0,\"ticks\":\"\"},\"colorscale\":[[0.0,\"#0d0887\"],[0.1111111111111111,\"#46039f\"],[0.2222222222222222,\"#7201a8\"],[0.3333333333333333,\"#9c179e\"],[0.4444444444444444,\"#bd3786\"],[0.5555555555555556,\"#d8576b\"],[0.6666666666666666,\"#ed7953\"],[0.7777777777777778,\"#fb9f3a\"],[0.8888888888888888,\"#fdca26\"],[1.0,\"#f0f921\"]],\"type\":\"histogram2dcontour\"}],\"mesh3d\":[{\"colorbar\":{\"outlinewidth\":0,\"ticks\":\"\"},\"type\":\"mesh3d\"}],\"parcoords\":[{\"line\":{\"colorbar\":{\"outlinewidth\":0,\"ticks\":\"\"}},\"type\":\"parcoords\"}],\"pie\":[{\"automargin\":true,\"type\":\"pie\"}],\"scatter\":[{\"marker\":{\"colorbar\":{\"outlinewidth\":0,\"ticks\":\"\"}},\"type\":\"scatter\"}],\"scatter3d\":[{\"line\":{\"colorbar\":{\"outlinewidth\":0,\"ticks\":\"\"}},\"marker\":{\"colorbar\":{\"outlinewidth\":0,\"ticks\":\"\"}},\"type\":\"scatter3d\"}],\"scattercarpet\":[{\"marker\":{\"colorbar\":{\"outlinewidth\":0,\"ticks\":\"\"}},\"type\":\"scattercarpet\"}],\"scattergeo\":[{\"marker\":{\"colorbar\":{\"outlinewidth\":0,\"ticks\":\"\"}},\"type\":\"scattergeo\"}],\"scattergl\":[{\"marker\":{\"colorbar\":{\"outlinewidth\":0,\"ticks\":\"\"}},\"type\":\"scattergl\"}],\"scattermapbox\":[{\"marker\":{\"colorbar\":{\"outlinewidth\":0,\"ticks\":\"\"}},\"type\":\"scattermapbox\"}],\"scatterpolar\":[{\"marker\":{\"colorbar\":{\"outlinewidth\":0,\"ticks\":\"\"}},\"type\":\"scatterpolar\"}],\"scatterpolargl\":[{\"marker\":{\"colorbar\":{\"outlinewidth\":0,\"ticks\":\"\"}},\"type\":\"scatterpolargl\"}],\"scatterternary\":[{\"marker\":{\"colorbar\":{\"outlinewidth\":0,\"ticks\":\"\"}},\"type\":\"scatterternary\"}],\"surface\":[{\"colorbar\":{\"outlinewidth\":0,\"ticks\":\"\"},\"colorscale\":[[0.0,\"#0d0887\"],[0.1111111111111111,\"#46039f\"],[0.2222222222222222,\"#7201a8\"],[0.3333333333333333,\"#9c179e\"],[0.4444444444444444,\"#bd3786\"],[0.5555555555555556,\"#d8576b\"],[0.6666666666666666,\"#ed7953\"],[0.7777777777777778,\"#fb9f3a\"],[0.8888888888888888,\"#fdca26\"],[1.0,\"#f0f921\"]],\"type\":\"surface\"}],\"table\":[{\"cells\":{\"fill\":{\"color\":\"#EBF0F8\"},\"line\":{\"color\":\"white\"}},\"header\":{\"fill\":{\"color\":\"#C8D4E3\"},\"line\":{\"color\":\"white\"}},\"type\":\"table\"}]},\"layout\":{\"annotationdefaults\":{\"arrowcolor\":\"#2a3f5f\",\"arrowhead\":0,\"arrowwidth\":1},\"autotypenumbers\":\"strict\",\"coloraxis\":{\"colorbar\":{\"outlinewidth\":0,\"ticks\":\"\"}},\"colorscale\":{\"diverging\":[[0,\"#8e0152\"],[0.1,\"#c51b7d\"],[0.2,\"#de77ae\"],[0.3,\"#f1b6da\"],[0.4,\"#fde0ef\"],[0.5,\"#f7f7f7\"],[0.6,\"#e6f5d0\"],[0.7,\"#b8e186\"],[0.8,\"#7fbc41\"],[0.9,\"#4d9221\"],[1,\"#276419\"]],\"sequential\":[[0.0,\"#0d0887\"],[0.1111111111111111,\"#46039f\"],[0.2222222222222222,\"#7201a8\"],[0.3333333333333333,\"#9c179e\"],[0.4444444444444444,\"#bd3786\"],[0.5555555555555556,\"#d8576b\"],[0.6666666666666666,\"#ed7953\"],[0.7777777777777778,\"#fb9f3a\"],[0.8888888888888888,\"#fdca26\"],[1.0,\"#f0f921\"]],\"sequentialminus\":[[0.0,\"#0d0887\"],[0.1111111111111111,\"#46039f\"],[0.2222222222222222,\"#7201a8\"],[0.3333333333333333,\"#9c179e\"],[0.4444444444444444,\"#bd3786\"],[0.5555555555555556,\"#d8576b\"],[0.6666666666666666,\"#ed7953\"],[0.7777777777777778,\"#fb9f3a\"],[0.8888888888888888,\"#fdca26\"],[1.0,\"#f0f921\"]]},\"colorway\":[\"#636efa\",\"#EF553B\",\"#00cc96\",\"#ab63fa\",\"#FFA15A\",\"#19d3f3\",\"#FF6692\",\"#B6E880\",\"#FF97FF\",\"#FECB52\"],\"font\":{\"color\":\"#2a3f5f\"},\"geo\":{\"bgcolor\":\"white\",\"lakecolor\":\"white\",\"landcolor\":\"#E5ECF6\",\"showlakes\":true,\"showland\":true,\"subunitcolor\":\"white\"},\"hoverlabel\":{\"align\":\"left\"},\"hovermode\":\"closest\",\"mapbox\":{\"style\":\"light\"},\"paper_bgcolor\":\"white\",\"plot_bgcolor\":\"#E5ECF6\",\"polar\":{\"angularaxis\":{\"gridcolor\":\"white\",\"linecolor\":\"white\",\"ticks\":\"\"},\"bgcolor\":\"#E5ECF6\",\"radialaxis\":{\"gridcolor\":\"white\",\"linecolor\":\"white\",\"ticks\":\"\"}},\"scene\":{\"xaxis\":{\"backgroundcolor\":\"#E5ECF6\",\"gridcolor\":\"white\",\"gridwidth\":2,\"linecolor\":\"white\",\"showbackground\":true,\"ticks\":\"\",\"zerolinecolor\":\"white\"},\"yaxis\":{\"backgroundcolor\":\"#E5ECF6\",\"gridcolor\":\"white\",\"gridwidth\":2,\"linecolor\":\"white\",\"showbackground\":true,\"ticks\":\"\",\"zerolinecolor\":\"white\"},\"zaxis\":{\"backgroundcolor\":\"#E5ECF6\",\"gridcolor\":\"white\",\"gridwidth\":2,\"linecolor\":\"white\",\"showbackground\":true,\"ticks\":\"\",\"zerolinecolor\":\"white\"}},\"shapedefaults\":{\"line\":{\"color\":\"#2a3f5f\"}},\"ternary\":{\"aaxis\":{\"gridcolor\":\"white\",\"linecolor\":\"white\",\"ticks\":\"\"},\"baxis\":{\"gridcolor\":\"white\",\"linecolor\":\"white\",\"ticks\":\"\"},\"bgcolor\":\"#E5ECF6\",\"caxis\":{\"gridcolor\":\"white\",\"linecolor\":\"white\",\"ticks\":\"\"}},\"title\":{\"x\":0.05},\"xaxis\":{\"automargin\":true,\"gridcolor\":\"white\",\"linecolor\":\"white\",\"ticks\":\"\",\"title\":{\"standoff\":15},\"zerolinecolor\":\"white\",\"zerolinewidth\":2},\"yaxis\":{\"automargin\":true,\"gridcolor\":\"white\",\"linecolor\":\"white\",\"ticks\":\"\",\"title\":{\"standoff\":15},\"zerolinecolor\":\"white\",\"zerolinewidth\":2}}},\"xaxis\":{\"anchor\":\"y\",\"domain\":[0.0,1.0],\"title\":{\"text\":\"x\"}},\"yaxis\":{\"anchor\":\"x\",\"domain\":[0.0,1.0],\"title\":{\"text\":\"y\"}},\"coloraxis\":{\"colorbar\":{\"title\":{\"text\":\"color\"}},\"colorscale\":[[0.0,\"#0d0887\"],[0.1111111111111111,\"#46039f\"],[0.2222222222222222,\"#7201a8\"],[0.3333333333333333,\"#9c179e\"],[0.4444444444444444,\"#bd3786\"],[0.5555555555555556,\"#d8576b\"],[0.6666666666666666,\"#ed7953\"],[0.7777777777777778,\"#fb9f3a\"],[0.8888888888888888,\"#fdca26\"],[1.0,\"#f0f921\"]]},\"legend\":{\"tracegroupgap\":0},\"margin\":{\"t\":60},\"barmode\":\"relative\"},                        {\"responsive\": true}                    ).then(function(){\n",
              "                            \n",
              "var gd = document.getElementById('75c4ae02-29b9-4cc3-a7c3-076b86b347e1');\n",
              "var x = new MutationObserver(function (mutations, observer) {{\n",
              "        var display = window.getComputedStyle(gd).display;\n",
              "        if (!display || display === 'none') {{\n",
              "            console.log([gd, 'removed!']);\n",
              "            Plotly.purge(gd);\n",
              "            observer.disconnect();\n",
              "        }}\n",
              "}});\n",
              "\n",
              "// Listen for the removal of the full notebook cells\n",
              "var notebookContainer = gd.closest('#notebook-container');\n",
              "if (notebookContainer) {{\n",
              "    x.observe(notebookContainer, {childList: true});\n",
              "}}\n",
              "\n",
              "// Listen for the clearing of the current output cell\n",
              "var outputEl = gd.closest('.output');\n",
              "if (outputEl) {{\n",
              "    x.observe(outputEl, {childList: true});\n",
              "}}\n",
              "\n",
              "                        })                };                            </script>        </div>\n",
              "</body>\n",
              "</html>"
            ]
          },
          "metadata": {}
        }
      ]
    },
    {
      "cell_type": "code",
      "source": [
        "types = pokemon_label_df['Type2'].value_counts().keys()\n",
        "count_types = pokemon_label_df['Type2'].value_counts().values\n",
        "print(types)\n",
        "print(count_types)\n",
        "\n",
        "fig = px.bar(pokemon_label_df['Type2'], x = types, y = count_types, color = count_types)\n",
        "fig.show()"
      ],
      "metadata": {
        "colab": {
          "base_uri": "https://localhost:8080/",
          "height": 0
        },
        "id": "Efx2j2f6LO6Y",
        "outputId": "969b24c7-a503-406c-e1f9-10cff1b98e48"
      },
      "execution_count": 411,
      "outputs": [
        {
          "output_type": "stream",
          "name": "stdout",
          "text": [
            "Index(['Flying', 'Poison', 'Ground', 'Fairy', 'Psychic', 'Fighting', 'Steel',\n",
            "       'Grass', 'Dragon', 'Water', 'Dark', 'Ghost', 'Rock', 'Fire', 'Ice',\n",
            "       'Electric', 'Bug', 'Normal'],\n",
            "      dtype='object')\n",
            "[95 32 32 29 29 25 23 19 18 17 17 16 14 11 11  8  5  4]\n"
          ]
        },
        {
          "output_type": "display_data",
          "data": {
            "text/html": [
              "<html>\n",
              "<head><meta charset=\"utf-8\" /></head>\n",
              "<body>\n",
              "    <div>            <script src=\"https://cdnjs.cloudflare.com/ajax/libs/mathjax/2.7.5/MathJax.js?config=TeX-AMS-MML_SVG\"></script><script type=\"text/javascript\">if (window.MathJax) {MathJax.Hub.Config({SVG: {font: \"STIX-Web\"}});}</script>                <script type=\"text/javascript\">window.PlotlyConfig = {MathJaxConfig: 'local'};</script>\n",
              "        <script src=\"https://cdn.plot.ly/plotly-2.8.3.min.js\"></script>                <div id=\"b2f19c5e-d737-4777-a024-6a117b46db3f\" class=\"plotly-graph-div\" style=\"height:525px; width:100%;\"></div>            <script type=\"text/javascript\">                                    window.PLOTLYENV=window.PLOTLYENV || {};                                    if (document.getElementById(\"b2f19c5e-d737-4777-a024-6a117b46db3f\")) {                    Plotly.newPlot(                        \"b2f19c5e-d737-4777-a024-6a117b46db3f\",                        [{\"alignmentgroup\":\"True\",\"hovertemplate\":\"x=%{x}<br>y=%{y}<br>color=%{marker.color}<extra></extra>\",\"legendgroup\":\"\",\"marker\":{\"color\":[95,32,32,29,29,25,23,19,18,17,17,16,14,11,11,8,5,4],\"coloraxis\":\"coloraxis\",\"pattern\":{\"shape\":\"\"}},\"name\":\"\",\"offsetgroup\":\"\",\"orientation\":\"v\",\"showlegend\":false,\"textposition\":\"auto\",\"x\":[\"Flying\",\"Poison\",\"Ground\",\"Fairy\",\"Psychic\",\"Fighting\",\"Steel\",\"Grass\",\"Dragon\",\"Water\",\"Dark\",\"Ghost\",\"Rock\",\"Fire\",\"Ice\",\"Electric\",\"Bug\",\"Normal\"],\"xaxis\":\"x\",\"y\":[95,32,32,29,29,25,23,19,18,17,17,16,14,11,11,8,5,4],\"yaxis\":\"y\",\"type\":\"bar\"}],                        {\"template\":{\"data\":{\"bar\":[{\"error_x\":{\"color\":\"#2a3f5f\"},\"error_y\":{\"color\":\"#2a3f5f\"},\"marker\":{\"line\":{\"color\":\"#E5ECF6\",\"width\":0.5},\"pattern\":{\"fillmode\":\"overlay\",\"size\":10,\"solidity\":0.2}},\"type\":\"bar\"}],\"barpolar\":[{\"marker\":{\"line\":{\"color\":\"#E5ECF6\",\"width\":0.5},\"pattern\":{\"fillmode\":\"overlay\",\"size\":10,\"solidity\":0.2}},\"type\":\"barpolar\"}],\"carpet\":[{\"aaxis\":{\"endlinecolor\":\"#2a3f5f\",\"gridcolor\":\"white\",\"linecolor\":\"white\",\"minorgridcolor\":\"white\",\"startlinecolor\":\"#2a3f5f\"},\"baxis\":{\"endlinecolor\":\"#2a3f5f\",\"gridcolor\":\"white\",\"linecolor\":\"white\",\"minorgridcolor\":\"white\",\"startlinecolor\":\"#2a3f5f\"},\"type\":\"carpet\"}],\"choropleth\":[{\"colorbar\":{\"outlinewidth\":0,\"ticks\":\"\"},\"type\":\"choropleth\"}],\"contour\":[{\"colorbar\":{\"outlinewidth\":0,\"ticks\":\"\"},\"colorscale\":[[0.0,\"#0d0887\"],[0.1111111111111111,\"#46039f\"],[0.2222222222222222,\"#7201a8\"],[0.3333333333333333,\"#9c179e\"],[0.4444444444444444,\"#bd3786\"],[0.5555555555555556,\"#d8576b\"],[0.6666666666666666,\"#ed7953\"],[0.7777777777777778,\"#fb9f3a\"],[0.8888888888888888,\"#fdca26\"],[1.0,\"#f0f921\"]],\"type\":\"contour\"}],\"contourcarpet\":[{\"colorbar\":{\"outlinewidth\":0,\"ticks\":\"\"},\"type\":\"contourcarpet\"}],\"heatmap\":[{\"colorbar\":{\"outlinewidth\":0,\"ticks\":\"\"},\"colorscale\":[[0.0,\"#0d0887\"],[0.1111111111111111,\"#46039f\"],[0.2222222222222222,\"#7201a8\"],[0.3333333333333333,\"#9c179e\"],[0.4444444444444444,\"#bd3786\"],[0.5555555555555556,\"#d8576b\"],[0.6666666666666666,\"#ed7953\"],[0.7777777777777778,\"#fb9f3a\"],[0.8888888888888888,\"#fdca26\"],[1.0,\"#f0f921\"]],\"type\":\"heatmap\"}],\"heatmapgl\":[{\"colorbar\":{\"outlinewidth\":0,\"ticks\":\"\"},\"colorscale\":[[0.0,\"#0d0887\"],[0.1111111111111111,\"#46039f\"],[0.2222222222222222,\"#7201a8\"],[0.3333333333333333,\"#9c179e\"],[0.4444444444444444,\"#bd3786\"],[0.5555555555555556,\"#d8576b\"],[0.6666666666666666,\"#ed7953\"],[0.7777777777777778,\"#fb9f3a\"],[0.8888888888888888,\"#fdca26\"],[1.0,\"#f0f921\"]],\"type\":\"heatmapgl\"}],\"histogram\":[{\"marker\":{\"pattern\":{\"fillmode\":\"overlay\",\"size\":10,\"solidity\":0.2}},\"type\":\"histogram\"}],\"histogram2d\":[{\"colorbar\":{\"outlinewidth\":0,\"ticks\":\"\"},\"colorscale\":[[0.0,\"#0d0887\"],[0.1111111111111111,\"#46039f\"],[0.2222222222222222,\"#7201a8\"],[0.3333333333333333,\"#9c179e\"],[0.4444444444444444,\"#bd3786\"],[0.5555555555555556,\"#d8576b\"],[0.6666666666666666,\"#ed7953\"],[0.7777777777777778,\"#fb9f3a\"],[0.8888888888888888,\"#fdca26\"],[1.0,\"#f0f921\"]],\"type\":\"histogram2d\"}],\"histogram2dcontour\":[{\"colorbar\":{\"outlinewidth\":0,\"ticks\":\"\"},\"colorscale\":[[0.0,\"#0d0887\"],[0.1111111111111111,\"#46039f\"],[0.2222222222222222,\"#7201a8\"],[0.3333333333333333,\"#9c179e\"],[0.4444444444444444,\"#bd3786\"],[0.5555555555555556,\"#d8576b\"],[0.6666666666666666,\"#ed7953\"],[0.7777777777777778,\"#fb9f3a\"],[0.8888888888888888,\"#fdca26\"],[1.0,\"#f0f921\"]],\"type\":\"histogram2dcontour\"}],\"mesh3d\":[{\"colorbar\":{\"outlinewidth\":0,\"ticks\":\"\"},\"type\":\"mesh3d\"}],\"parcoords\":[{\"line\":{\"colorbar\":{\"outlinewidth\":0,\"ticks\":\"\"}},\"type\":\"parcoords\"}],\"pie\":[{\"automargin\":true,\"type\":\"pie\"}],\"scatter\":[{\"marker\":{\"colorbar\":{\"outlinewidth\":0,\"ticks\":\"\"}},\"type\":\"scatter\"}],\"scatter3d\":[{\"line\":{\"colorbar\":{\"outlinewidth\":0,\"ticks\":\"\"}},\"marker\":{\"colorbar\":{\"outlinewidth\":0,\"ticks\":\"\"}},\"type\":\"scatter3d\"}],\"scattercarpet\":[{\"marker\":{\"colorbar\":{\"outlinewidth\":0,\"ticks\":\"\"}},\"type\":\"scattercarpet\"}],\"scattergeo\":[{\"marker\":{\"colorbar\":{\"outlinewidth\":0,\"ticks\":\"\"}},\"type\":\"scattergeo\"}],\"scattergl\":[{\"marker\":{\"colorbar\":{\"outlinewidth\":0,\"ticks\":\"\"}},\"type\":\"scattergl\"}],\"scattermapbox\":[{\"marker\":{\"colorbar\":{\"outlinewidth\":0,\"ticks\":\"\"}},\"type\":\"scattermapbox\"}],\"scatterpolar\":[{\"marker\":{\"colorbar\":{\"outlinewidth\":0,\"ticks\":\"\"}},\"type\":\"scatterpolar\"}],\"scatterpolargl\":[{\"marker\":{\"colorbar\":{\"outlinewidth\":0,\"ticks\":\"\"}},\"type\":\"scatterpolargl\"}],\"scatterternary\":[{\"marker\":{\"colorbar\":{\"outlinewidth\":0,\"ticks\":\"\"}},\"type\":\"scatterternary\"}],\"surface\":[{\"colorbar\":{\"outlinewidth\":0,\"ticks\":\"\"},\"colorscale\":[[0.0,\"#0d0887\"],[0.1111111111111111,\"#46039f\"],[0.2222222222222222,\"#7201a8\"],[0.3333333333333333,\"#9c179e\"],[0.4444444444444444,\"#bd3786\"],[0.5555555555555556,\"#d8576b\"],[0.6666666666666666,\"#ed7953\"],[0.7777777777777778,\"#fb9f3a\"],[0.8888888888888888,\"#fdca26\"],[1.0,\"#f0f921\"]],\"type\":\"surface\"}],\"table\":[{\"cells\":{\"fill\":{\"color\":\"#EBF0F8\"},\"line\":{\"color\":\"white\"}},\"header\":{\"fill\":{\"color\":\"#C8D4E3\"},\"line\":{\"color\":\"white\"}},\"type\":\"table\"}]},\"layout\":{\"annotationdefaults\":{\"arrowcolor\":\"#2a3f5f\",\"arrowhead\":0,\"arrowwidth\":1},\"autotypenumbers\":\"strict\",\"coloraxis\":{\"colorbar\":{\"outlinewidth\":0,\"ticks\":\"\"}},\"colorscale\":{\"diverging\":[[0,\"#8e0152\"],[0.1,\"#c51b7d\"],[0.2,\"#de77ae\"],[0.3,\"#f1b6da\"],[0.4,\"#fde0ef\"],[0.5,\"#f7f7f7\"],[0.6,\"#e6f5d0\"],[0.7,\"#b8e186\"],[0.8,\"#7fbc41\"],[0.9,\"#4d9221\"],[1,\"#276419\"]],\"sequential\":[[0.0,\"#0d0887\"],[0.1111111111111111,\"#46039f\"],[0.2222222222222222,\"#7201a8\"],[0.3333333333333333,\"#9c179e\"],[0.4444444444444444,\"#bd3786\"],[0.5555555555555556,\"#d8576b\"],[0.6666666666666666,\"#ed7953\"],[0.7777777777777778,\"#fb9f3a\"],[0.8888888888888888,\"#fdca26\"],[1.0,\"#f0f921\"]],\"sequentialminus\":[[0.0,\"#0d0887\"],[0.1111111111111111,\"#46039f\"],[0.2222222222222222,\"#7201a8\"],[0.3333333333333333,\"#9c179e\"],[0.4444444444444444,\"#bd3786\"],[0.5555555555555556,\"#d8576b\"],[0.6666666666666666,\"#ed7953\"],[0.7777777777777778,\"#fb9f3a\"],[0.8888888888888888,\"#fdca26\"],[1.0,\"#f0f921\"]]},\"colorway\":[\"#636efa\",\"#EF553B\",\"#00cc96\",\"#ab63fa\",\"#FFA15A\",\"#19d3f3\",\"#FF6692\",\"#B6E880\",\"#FF97FF\",\"#FECB52\"],\"font\":{\"color\":\"#2a3f5f\"},\"geo\":{\"bgcolor\":\"white\",\"lakecolor\":\"white\",\"landcolor\":\"#E5ECF6\",\"showlakes\":true,\"showland\":true,\"subunitcolor\":\"white\"},\"hoverlabel\":{\"align\":\"left\"},\"hovermode\":\"closest\",\"mapbox\":{\"style\":\"light\"},\"paper_bgcolor\":\"white\",\"plot_bgcolor\":\"#E5ECF6\",\"polar\":{\"angularaxis\":{\"gridcolor\":\"white\",\"linecolor\":\"white\",\"ticks\":\"\"},\"bgcolor\":\"#E5ECF6\",\"radialaxis\":{\"gridcolor\":\"white\",\"linecolor\":\"white\",\"ticks\":\"\"}},\"scene\":{\"xaxis\":{\"backgroundcolor\":\"#E5ECF6\",\"gridcolor\":\"white\",\"gridwidth\":2,\"linecolor\":\"white\",\"showbackground\":true,\"ticks\":\"\",\"zerolinecolor\":\"white\"},\"yaxis\":{\"backgroundcolor\":\"#E5ECF6\",\"gridcolor\":\"white\",\"gridwidth\":2,\"linecolor\":\"white\",\"showbackground\":true,\"ticks\":\"\",\"zerolinecolor\":\"white\"},\"zaxis\":{\"backgroundcolor\":\"#E5ECF6\",\"gridcolor\":\"white\",\"gridwidth\":2,\"linecolor\":\"white\",\"showbackground\":true,\"ticks\":\"\",\"zerolinecolor\":\"white\"}},\"shapedefaults\":{\"line\":{\"color\":\"#2a3f5f\"}},\"ternary\":{\"aaxis\":{\"gridcolor\":\"white\",\"linecolor\":\"white\",\"ticks\":\"\"},\"baxis\":{\"gridcolor\":\"white\",\"linecolor\":\"white\",\"ticks\":\"\"},\"bgcolor\":\"#E5ECF6\",\"caxis\":{\"gridcolor\":\"white\",\"linecolor\":\"white\",\"ticks\":\"\"}},\"title\":{\"x\":0.05},\"xaxis\":{\"automargin\":true,\"gridcolor\":\"white\",\"linecolor\":\"white\",\"ticks\":\"\",\"title\":{\"standoff\":15},\"zerolinecolor\":\"white\",\"zerolinewidth\":2},\"yaxis\":{\"automargin\":true,\"gridcolor\":\"white\",\"linecolor\":\"white\",\"ticks\":\"\",\"title\":{\"standoff\":15},\"zerolinecolor\":\"white\",\"zerolinewidth\":2}}},\"xaxis\":{\"anchor\":\"y\",\"domain\":[0.0,1.0],\"title\":{\"text\":\"x\"}},\"yaxis\":{\"anchor\":\"x\",\"domain\":[0.0,1.0],\"title\":{\"text\":\"y\"}},\"coloraxis\":{\"colorbar\":{\"title\":{\"text\":\"color\"}},\"colorscale\":[[0.0,\"#0d0887\"],[0.1111111111111111,\"#46039f\"],[0.2222222222222222,\"#7201a8\"],[0.3333333333333333,\"#9c179e\"],[0.4444444444444444,\"#bd3786\"],[0.5555555555555556,\"#d8576b\"],[0.6666666666666666,\"#ed7953\"],[0.7777777777777778,\"#fb9f3a\"],[0.8888888888888888,\"#fdca26\"],[1.0,\"#f0f921\"]]},\"legend\":{\"tracegroupgap\":0},\"margin\":{\"t\":60},\"barmode\":\"relative\"},                        {\"responsive\": true}                    ).then(function(){\n",
              "                            \n",
              "var gd = document.getElementById('b2f19c5e-d737-4777-a024-6a117b46db3f');\n",
              "var x = new MutationObserver(function (mutations, observer) {{\n",
              "        var display = window.getComputedStyle(gd).display;\n",
              "        if (!display || display === 'none') {{\n",
              "            console.log([gd, 'removed!']);\n",
              "            Plotly.purge(gd);\n",
              "            observer.disconnect();\n",
              "        }}\n",
              "}});\n",
              "\n",
              "// Listen for the removal of the full notebook cells\n",
              "var notebookContainer = gd.closest('#notebook-container');\n",
              "if (notebookContainer) {{\n",
              "    x.observe(notebookContainer, {childList: true});\n",
              "}}\n",
              "\n",
              "// Listen for the clearing of the current output cell\n",
              "var outputEl = gd.closest('.output');\n",
              "if (outputEl) {{\n",
              "    x.observe(outputEl, {childList: true});\n",
              "}}\n",
              "\n",
              "                        })                };                            </script>        </div>\n",
              "</body>\n",
              "</html>"
            ]
          },
          "metadata": {}
        }
      ]
    },
    {
      "cell_type": "markdown",
      "source": [
        "# Preparando as imagens em diretórios\n"
      ],
      "metadata": {
        "id": "aH4VOtKEu7Yu"
      }
    },
    {
      "cell_type": "code",
      "source": [
        "path_exists = True\n",
        "if not path_exists:\n",
        "  for (dirpath, dirnames, filenames) in walk(\"/content/gdrive/MyDrive/datasets/pokemon_classificator/images/\"):\n",
        "    print(\"Directory path: \", dirpath)\n",
        "    print(\"Folder name: \", dirnames)\n",
        "    print(\"File name: \", filenames)\n",
        "    \n",
        "    #Criando as pastas de cada classe\n",
        "\n",
        "    types = pokemon_label_df['Type1'].value_counts().keys()\n",
        "    for poke_types in types:\n",
        "      os.mkdir(DATA_DIR + poke_types)\n",
        "\n",
        "    #Populando as pastas com os pokemons\n",
        "\n",
        "    for image in filenames:\n",
        "      x = image[:-4]\n",
        "      poke_type = pokemon_label_df.query(f\"Name == '{x}'\")['Type1'].values[0]\n",
        "      source = DATA_DIR + 'images/' + image\n",
        "      destination = DATA_DIR + poke_type + '/' + image\n",
        "      os.system(f'cp {source} {destination}')\n",
        "\n",
        "else:\n",
        "  print('Path Already exists on Drive')  "
      ],
      "metadata": {
        "colab": {
          "base_uri": "https://localhost:8080/"
        },
        "id": "vFbSSVl2w2Wq",
        "outputId": "005f5441-1f5a-44f9-a9f6-21e88763101a"
      },
      "execution_count": 412,
      "outputs": [
        {
          "output_type": "stream",
          "name": "stdout",
          "text": [
            "Path Already exists on Drive\n"
          ]
        }
      ]
    },
    {
      "cell_type": "code",
      "source": [
        "source = DATA_DIR + 'images/' + 'abra.png'\n",
        "source"
      ],
      "metadata": {
        "colab": {
          "base_uri": "https://localhost:8080/",
          "height": 0
        },
        "id": "yawX0w86RlA1",
        "outputId": "5e18cb68-35dc-4d6e-b7a6-061e893c03cd"
      },
      "execution_count": 413,
      "outputs": [
        {
          "output_type": "execute_result",
          "data": {
            "text/plain": [
              "'/content/gdrive/MyDrive/datasets/pokemon_classificator/pokemon_typesimages/abra.png'"
            ],
            "application/vnd.google.colaboratory.intrinsic+json": {
              "type": "string"
            }
          },
          "metadata": {},
          "execution_count": 413
        }
      ]
    },
    {
      "cell_type": "markdown",
      "source": [
        "# Definindo o transform e o Dataloader"
      ],
      "metadata": {
        "id": "SxcaB8ZKdh7J"
      }
    },
    {
      "cell_type": "code",
      "source": [
        "transform = T.Compose([\n",
        "            T.ToTensor()])"
      ],
      "metadata": {
        "id": "Bs4f1tONEiZh"
      },
      "execution_count": 414,
      "outputs": []
    },
    {
      "cell_type": "code",
      "source": [
        "DATA_DIR"
      ],
      "metadata": {
        "colab": {
          "base_uri": "https://localhost:8080/",
          "height": 36
        },
        "id": "fCj2_QSmWQHN",
        "outputId": "72563018-f3b0-41a0-a231-81bf6cccf252"
      },
      "execution_count": 415,
      "outputs": [
        {
          "output_type": "execute_result",
          "data": {
            "text/plain": [
              "'/content/gdrive/MyDrive/datasets/pokemon_classificator/pokemon_types'"
            ],
            "application/vnd.google.colaboratory.intrinsic+json": {
              "type": "string"
            }
          },
          "metadata": {},
          "execution_count": 415
        }
      ]
    },
    {
      "cell_type": "code",
      "source": [
        "dataset = datasets.ImageFolder(DATA_DIR, transform=transform)"
      ],
      "metadata": {
        "id": "koIC-0CvD_Vc"
      },
      "execution_count": 416,
      "outputs": []
    },
    {
      "cell_type": "code",
      "source": [
        "dataloader = torch.utils.data.DataLoader(dataset, batch_size=32, shuffle=True)"
      ],
      "metadata": {
        "id": "UvfXLWgsWa3C"
      },
      "execution_count": 417,
      "outputs": []
    },
    {
      "cell_type": "code",
      "source": [
        "#img = dataloader.dataset[np.random.randint(0, (len(pokemon_label_df) - 1) )][0]\n",
        "#plt.imshow(img.squeeze().permute(1,2,0));"
      ],
      "metadata": {
        "id": "Zlkau8qSdmHB"
      },
      "execution_count": 418,
      "outputs": []
    },
    {
      "cell_type": "code",
      "source": [
        "data_dir = '/content/gdrive/MyDrive/datasets/pokemon_classificator/pokemon_types'"
      ],
      "metadata": {
        "id": "bsFzFJk_3Ieg"
      },
      "execution_count": 419,
      "outputs": []
    },
    {
      "cell_type": "code",
      "source": [
        "from torchvision.transforms.transforms import CenterCrop\n",
        "# TODO: Define transforms for the training data and testing data\n",
        "train_transforms = transforms.Compose([transforms.RandomRotation(30),\n",
        "                                      #transforms.RandomResizedCrop(120),\n",
        "                                      transforms.RandomHorizontalFlip(),\n",
        "                                      #transforms.RandomPerspective(),\n",
        "                                      transforms.CenterCrop((90,90)),\n",
        "                                      transforms.Resize((70, 70)),\n",
        "                                      transforms.ToTensor()\n",
        "                                      \n",
        "                                      ,transforms.Normalize(mean = (0.485,0.456,0.406), std = (0.229, 0.224, 0.225))\n",
        "                                       ])\n",
        "\n",
        "test_transforms = transforms.Compose([#transforms.RandomRotation(30),\n",
        "                                     #transforms.RandomResizedCrop(120),\n",
        "                                      transforms.CenterCrop((90,90)),\n",
        "                                      transforms.Resize((70, 70)),\n",
        "                                     transforms.ToTensor()\n",
        "                                     ,transforms.Normalize(mean = (0.485,0.456,0.406), std = (0.229, 0.224, 0.225))\n",
        "                                     ])\n",
        "\n",
        "validation_transforms = transforms.Compose([#transforms.RandomRotation(30),\n",
        "                                           #transforms.RandomResizedCrop(120),\n",
        "                                            transforms.CenterCrop((90,90)),\n",
        "                                            transforms.Resize((70, 70)),\n",
        "                                            transforms.ToTensor()\n",
        "                                            ,transforms.Normalize(mean = (0.485,0.456,0.406), std = (0.229, 0.224, 0.225))\n",
        "                                            ])\n",
        "\n",
        "\n",
        "# Pass transforms in here, then run the next cell to see how the transforms look\n",
        "train_data = datasets.ImageFolder(data_dir, transform=train_transforms)\n",
        "test_data = datasets.ImageFolder(data_dir, transform=test_transforms)\n",
        "validation_data = datasets.ImageFolder(data_dir, transform=validation_transforms)\n",
        "\n",
        "#train_data = torch.utils.data.SubsetRandomSampler()\n",
        "#test_data = datasets.ImageFolder(data_dir, transform=test_transforms)\n",
        "#validation_data = datasets.ImageFolder(data_dir, transform=validation_transforms)\n",
        "\n",
        "trainloader = torch.utils.data.DataLoader(train_data, batch_size=64)\n",
        "testloader = torch.utils.data.DataLoader(test_data, batch_size=64)\n",
        "validationloader = torch.utils.data.DataLoader(validation_data, batch_size=64)"
      ],
      "metadata": {
        "id": "E5LrKdNOf2F1"
      },
      "execution_count": 420,
      "outputs": []
    },
    {
      "cell_type": "code",
      "source": [
        "testloader.dataset.classes"
      ],
      "metadata": {
        "colab": {
          "base_uri": "https://localhost:8080/"
        },
        "id": "mfHUQ9Ty46r5",
        "outputId": "138f50ca-5407-46bf-ec38-42329c949c40"
      },
      "execution_count": 421,
      "outputs": [
        {
          "output_type": "execute_result",
          "data": {
            "text/plain": [
              "['Electric', 'Fire', 'Grass', 'Water']"
            ]
          },
          "metadata": {},
          "execution_count": 421
        }
      ]
    },
    {
      "cell_type": "code",
      "source": [
        "# Run this to test your data loader\n",
        "images, labels = iter(trainloader).next()\n",
        "\n",
        "# helper.imshow(images[0], normalize=False)\n",
        "plt.imshow(images[23].squeeze().permute(1,2,0))\n",
        "print(images.shape)"
      ],
      "metadata": {
        "colab": {
          "base_uri": "https://localhost:8080/",
          "height": 372
        },
        "id": "qynEN6bn0Da6",
        "outputId": "34f403a6-ffbd-4fe4-f731-2de9232b6973"
      },
      "execution_count": 422,
      "outputs": [
        {
          "output_type": "stream",
          "name": "stderr",
          "text": [
            "/usr/local/lib/python3.7/dist-packages/PIL/Image.py:960: UserWarning:\n",
            "\n",
            "Palette images with Transparency expressed in bytes should be converted to RGBA images\n",
            "\n",
            "WARNING:matplotlib.image:Clipping input data to the valid range for imshow with RGB data ([0..1] for floats or [0..255] for integers).\n"
          ]
        },
        {
          "output_type": "stream",
          "name": "stdout",
          "text": [
            "torch.Size([64, 3, 70, 70])\n"
          ]
        },
        {
          "output_type": "display_data",
          "data": {
            "text/plain": [
              "<Figure size 432x288 with 1 Axes>"
            ],
            "image/png": "[encoded data removed]"
          },
          "metadata": {
            "needs_background": "light"
          }
        }
      ]
    },
    {
      "cell_type": "code",
      "source": [
        "from torch.utils.data import Subset\n",
        "from sklearn.model_selection import train_test_split\n",
        "from torchvision.transforms import Compose, ToTensor, Resize\n",
        "import torch.optim as optim"
      ],
      "metadata": {
        "id": "nciSNei-6jEZ"
      },
      "execution_count": 423,
      "outputs": []
    },
    {
      "cell_type": "code",
      "source": [
        "def train_val_dataset(dataset, val_split=0.25):\n",
        "    train_idx, val_idx = train_test_split(list(range(len(dataset))), test_size=val_split)\n",
        "    datasets = {}\n",
        "    datasets['train'] = Subset(dataset, train_idx)\n",
        "    datasets['val'] = Subset(dataset, val_idx)\n",
        "    return datasets"
      ],
      "metadata": {
        "id": "kFH6Ctdk6SvJ"
      },
      "execution_count": 424,
      "outputs": []
    },
    {
      "cell_type": "code",
      "source": [
        "full_dataset = datasets.ImageFolder(data_dir, transform=train_transforms)\n",
        "full_dataset = train_val_dataset(full_dataset, val_split = 0.30)\n",
        "\n",
        "pokemon_train = full_dataset['train']\n",
        "pokemon_test_val = full_dataset['val'] \n",
        "\n",
        "print(f'Train dataset length: {len(pokemon_train)}')\n",
        "print(f'Test and validation datasets length: {len(pokemon_test_val)}')"
      ],
      "metadata": {
        "colab": {
          "base_uri": "https://localhost:8080/"
        },
        "id": "QMB57oQaQABq",
        "outputId": "45dcd605-569a-49a9-f9a1-9fae3cb0ef94"
      },
      "execution_count": 425,
      "outputs": [
        {
          "output_type": "stream",
          "name": "stdout",
          "text": [
            "Train dataset length: 199\n",
            "Test and validation datasets length: 86\n"
          ]
        }
      ]
    },
    {
      "cell_type": "code",
      "source": [
        "full_dataset = train_val_dataset(pokemon_test_val, val_split = 0.05)\n",
        "\n",
        "pokemon_test = full_dataset['train']\n",
        "pokemon_val = full_dataset['val'] \n",
        "\n",
        "print(f'Test dataset length: {len(pokemon_test)}')\n",
        "print(f'Validation dataset length: {len(pokemon_val)}')"
      ],
      "metadata": {
        "colab": {
          "base_uri": "https://localhost:8080/"
        },
        "id": "7aXwpgT9RndG",
        "outputId": "a50d138a-2ce9-439d-bffb-c0ac77106527"
      },
      "execution_count": 426,
      "outputs": [
        {
          "output_type": "stream",
          "name": "stdout",
          "text": [
            "Test dataset length: 81\n",
            "Validation dataset length: 5\n"
          ]
        }
      ]
    },
    {
      "cell_type": "code",
      "source": [
        "train_loader = torch.utils.data.DataLoader(pokemon_train, batch_size=64)\n",
        "test_loader = torch.utils.data.DataLoader(pokemon_test, batch_size=64)\n",
        "validation_loader = torch.utils.data.DataLoader(pokemon_val, batch_size=64)"
      ],
      "metadata": {
        "id": "4NniUcEJSgAk"
      },
      "execution_count": 427,
      "outputs": []
    },
    {
      "cell_type": "code",
      "source": [
        "x,y = next(iter(trainloader))\n",
        "print(x.shape, y.shape)"
      ],
      "metadata": {
        "colab": {
          "base_uri": "https://localhost:8080/"
        },
        "id": "yPFeaisTYhia",
        "outputId": "b9d47d12-a257-46ec-f7c7-01aafebe5cbd"
      },
      "execution_count": 428,
      "outputs": [
        {
          "output_type": "stream",
          "name": "stdout",
          "text": [
            "torch.Size([64, 3, 70, 70]) torch.Size([64])\n"
          ]
        },
        {
          "output_type": "stream",
          "name": "stderr",
          "text": [
            "/usr/local/lib/python3.7/dist-packages/PIL/Image.py:960: UserWarning:\n",
            "\n",
            "Palette images with Transparency expressed in bytes should be converted to RGBA images\n",
            "\n"
          ]
        }
      ]
    },
    {
      "cell_type": "code",
      "source": [
        "inputs = x.reshape(x.shape[0],-1)\n",
        "inputs.shape"
      ],
      "metadata": {
        "colab": {
          "base_uri": "https://localhost:8080/"
        },
        "id": "qKik8T3JTUrN",
        "outputId": "33e2811b-86a4-41ff-c96e-8c171488038d"
      },
      "execution_count": 429,
      "outputs": [
        {
          "output_type": "execute_result",
          "data": {
            "text/plain": [
              "torch.Size([64, 14700])"
            ]
          },
          "metadata": {},
          "execution_count": 429
        }
      ]
    },
    {
      "cell_type": "markdown",
      "source": [
        "# Definição do modelo e parâmetros"
      ],
      "metadata": {
        "id": "-VfMSZ84Lk7U"
      }
    },
    {
      "cell_type": "code",
      "source": [
        "device = torch.device(\"cuda:0\" if torch.cuda.is_available() else \"cpu\")"
      ],
      "metadata": {
        "id": "0aDyanHjQLot"
      },
      "execution_count": 430,
      "outputs": []
    },
    {
      "cell_type": "code",
      "source": [
        "images.shape"
      ],
      "metadata": {
        "colab": {
          "base_uri": "https://localhost:8080/"
        },
        "id": "QTHxglabxPuM",
        "outputId": "6200c071-0430-4b46-fd36-f077c1c33dbc"
      },
      "execution_count": 431,
      "outputs": [
        {
          "output_type": "execute_result",
          "data": {
            "text/plain": [
              "torch.Size([64, 3, 70, 70])"
            ]
          },
          "metadata": {},
          "execution_count": 431
        }
      ]
    },
    {
      "cell_type": "code",
      "source": [
        "learning_Rate = 0.0002\n",
        "n_Inputs = images.shape[1] * images.shape[2] * images.shape[3]\n",
        "n_Classes = len(pokemon_train.dataset.classes)\n",
        "p_dropout = 0.5\n",
        "\n",
        "model = torch.nn.Sequential(\n",
        "    torch.nn.Linear(n_Inputs,5000),\n",
        "    torch.nn.ReLU(),\n",
        "    torch.nn.Dropout(p_dropout),\n",
        "\n",
        "    torch.nn.Linear(5000,1500),\n",
        "    torch.nn.Sigmoid(),\n",
        "    torch.nn.Dropout(p_dropout),\n",
        "\n",
        "    torch.nn.Linear(1500,300),\n",
        "    torch.nn.ReLU(),\n",
        "    torch.nn.Dropout(p_dropout),\n",
        "\n",
        "    torch.nn.Linear(300,n_Classes),\n",
        ")\n",
        "model.to(device)\n",
        "criterion = nn.CrossEntropyLoss()\n",
        "optimizer = optim.Adam(model.parameters(), lr=learning_Rate)\n",
        "#optimizer = optim.SGD(model.parameters(), lr=learning_Rate, momentum=0.9)\n",
        "print(model)"
      ],
      "metadata": {
        "colab": {
          "base_uri": "https://localhost:8080/"
        },
        "id": "lqxynauILkHJ",
        "outputId": "e933967a-87e2-47f6-e5d7-1527d2f65477"
      },
      "execution_count": 432,
      "outputs": [
        {
          "output_type": "stream",
          "name": "stdout",
          "text": [
            "Sequential(\n",
            "  (0): Linear(in_features=14700, out_features=5000, bias=True)\n",
            "  (1): ReLU()\n",
            "  (2): Dropout(p=0.5, inplace=False)\n",
            "  (3): Linear(in_features=5000, out_features=1500, bias=True)\n",
            "  (4): Sigmoid()\n",
            "  (5): Dropout(p=0.5, inplace=False)\n",
            "  (6): Linear(in_features=1500, out_features=300, bias=True)\n",
            "  (7): ReLU()\n",
            "  (8): Dropout(p=0.5, inplace=False)\n",
            "  (9): Linear(in_features=300, out_features=4, bias=True)\n",
            ")\n"
          ]
        }
      ]
    },
    {
      "cell_type": "code",
      "source": [
        "inputs = images.reshape(images.shape[0],-1)\n",
        "outputs = model(inputs)\n",
        "outputsClass = torch.argmax(outputs, dim=1)\n",
        "accuracy = 100*(outputsClass==labels).sum()/len(labels)\n",
        "print(accuracy)"
      ],
      "metadata": {
        "colab": {
          "base_uri": "https://localhost:8080/"
        },
        "id": "j_bdkO62TdkN",
        "outputId": "30292664-3917-4821-8691-fc5a610dddf2"
      },
      "execution_count": 433,
      "outputs": [
        {
          "output_type": "stream",
          "name": "stdout",
          "text": [
            "tensor(35.9375)\n"
          ]
        }
      ]
    },
    {
      "cell_type": "markdown",
      "source": [
        "# Treinando o Modelo"
      ],
      "metadata": {
        "id": "2N6J4-6eDMoA"
      }
    },
    {
      "cell_type": "code",
      "source": [
        "def train_model(nEpochs = 20):\n",
        "  errors_train=[]\n",
        "  errors_test=[]\n",
        "  accuracy_test=[]\n",
        "  for epoch in range(nEpochs):\n",
        "    #carrega dados de lote\n",
        "    train_loss=0\n",
        "    for images, labels in train_loader:\n",
        "    #images, labels = next(iter(trainloader))\n",
        "      if torch.cuda.is_available():\n",
        "        images.to('cuda')\n",
        "        labels.to('cuda')\n",
        "      #ajusta as dimensões\n",
        "      model.train()\n",
        "      inputs = images.reshape(images.shape[0],-1)\n",
        "      #zera o gradiente\n",
        "      optimizer.zero_grad()\n",
        "      #propaga os dados na rede\n",
        "      outputs = model(inputs)\n",
        "      #calcula o erro\n",
        "      \n",
        "      #torch.nn.Dropout()\n",
        "      loss = criterion(outputs, labels)\n",
        "      train_loss+=loss.item()\n",
        "      #calcula gradientes com backward\n",
        "\n",
        "      loss.backward()\n",
        "      #faz um passo de otimização\n",
        "      \n",
        "      optimizer.step()\n",
        "      #calcula a acurácia\n",
        "      model.eval()\n",
        "      outputsClass = torch.argmax(outputs, dim=1)\n",
        "      accuracy = (outputsClass==labels).sum()/len(labels)\n",
        "      \n",
        "      #usa os dados de fora do grupo de teste para fazer a validação\n",
        "\n",
        "    with torch.no_grad():\n",
        "      test_correct = 0\n",
        "      test_loss=0\n",
        "      for images, labels in test_loader:\n",
        "        if torch.cuda.is_available():\n",
        "          images.to('cuda')\n",
        "          labels.to('cuda')        \n",
        "        inputs = images.reshape(images.shape[0],-1)\n",
        "        outputs = model(inputs)\n",
        "        loss = criterion(outputs, labels)\n",
        "        test_loss+=loss.item()\n",
        "        outputsClass = torch.argmax(outputs, dim=1)\n",
        "        test_correct += (outputsClass==labels).sum()\n",
        "    train_loss = train_loss/len(train_loader.dataset)\n",
        "    test_loss = test_loss/len(test_loader.dataset)\n",
        "    errors_train.append(train_loss)\n",
        "    errors_test.append(test_loss)\n",
        "    print(f\"Epochs: {epoch}, error train: {errors_train[-1]}, error test: {errors_test[-1]}\")\n",
        "    print(f'Accuracy {accuracy}')\n",
        "    accuracy_test.append(accuracy)\n",
        "\n",
        "  return errors_train, errors_test, accuracy_test"
      ],
      "metadata": {
        "id": "GqEPDbylQ1Z1"
      },
      "execution_count": 434,
      "outputs": []
    },
    {
      "cell_type": "code",
      "source": [
        "errors_train, errors_test, accuracy_test = train_model(150)"
      ],
      "metadata": {
        "colab": {
          "base_uri": "https://localhost:8080/"
        },
        "id": "Nnt6L-rwQ6PU",
        "outputId": "314ee30f-6cf7-47ff-ebfe-8a737338b5e8"
      },
      "execution_count": 435,
      "outputs": [
        {
          "output_type": "stream",
          "name": "stderr",
          "text": [
            "/usr/local/lib/python3.7/dist-packages/PIL/Image.py:960: UserWarning:\n",
            "\n",
            "Palette images with Transparency expressed in bytes should be converted to RGBA images\n",
            "\n"
          ]
        },
        {
          "output_type": "stream",
          "name": "stdout",
          "text": [
            "Epochs: 0, error train: 0.027810876093917157, error test: 0.030750686739697868\n",
            "Accuracy 0.5714285969734192\n",
            "Epochs: 1, error train: 0.026532227070487323, error test: 0.031215386626161176\n",
            "Accuracy 0.5714285969734192\n",
            "Epochs: 2, error train: 0.027564826323159375, error test: 0.03142949681223175\n",
            "Accuracy 0.5714285969734192\n",
            "Epochs: 3, error train: 0.026748724918269632, error test: 0.031948119034001854\n",
            "Accuracy 0.4285714328289032\n",
            "Epochs: 4, error train: 0.026185445450059134, error test: 0.032180209218719856\n",
            "Accuracy 0.7142857313156128\n",
            "Epochs: 5, error train: 0.026085465397667047, error test: 0.03216009669833713\n",
            "Accuracy 0.5714285969734192\n",
            "Epochs: 6, error train: 0.027034242548535217, error test: 0.032014692271197284\n",
            "Accuracy 0.5714285969734192\n",
            "Epochs: 7, error train: 0.026176093211725128, error test: 0.03214542512540464\n",
            "Accuracy 0.5714285969734192\n",
            "Epochs: 8, error train: 0.026114088207034012, error test: 0.03200053580013322\n",
            "Accuracy 0.5714285969734192\n",
            "Epochs: 9, error train: 0.02604051211371494, error test: 0.03190683435510706\n",
            "Accuracy 0.5714285969734192\n",
            "Epochs: 10, error train: 0.026511730860226117, error test: 0.03194269427546748\n",
            "Accuracy 0.5714285969734192\n",
            "Epochs: 11, error train: 0.02594297135894622, error test: 0.03186151569272265\n",
            "Accuracy 0.7142857313156128\n",
            "Epochs: 12, error train: 0.026438436915527035, error test: 0.031672167189327284\n",
            "Accuracy 0.5714285969734192\n",
            "Epochs: 13, error train: 0.026229041904660324, error test: 0.031592082094263146\n",
            "Accuracy 0.5714285969734192\n",
            "Epochs: 14, error train: 0.026085899103826016, error test: 0.031671242949403364\n",
            "Accuracy 0.5714285969734192\n",
            "Epochs: 15, error train: 0.02702286674748713, error test: 0.031796790935375074\n",
            "Accuracy 0.5714285969734192\n",
            "Epochs: 16, error train: 0.02620164413547995, error test: 0.03176761850898648\n",
            "Accuracy 0.5714285969734192\n",
            "Epochs: 17, error train: 0.02587476327790687, error test: 0.03178672878830521\n",
            "Accuracy 0.5714285969734192\n",
            "Epochs: 18, error train: 0.0260988336112631, error test: 0.031758281919691295\n",
            "Accuracy 0.5714285969734192\n",
            "Epochs: 19, error train: 0.025085572621331143, error test: 0.031655473473631304\n",
            "Accuracy 0.5714285969734192\n",
            "Epochs: 20, error train: 0.026025055041864288, error test: 0.03143055056348259\n",
            "Accuracy 0.7142857313156128\n",
            "Epochs: 21, error train: 0.02599576969242575, error test: 0.031487709210242756\n",
            "Accuracy 0.7142857313156128\n",
            "Epochs: 22, error train: 0.025181514533919903, error test: 0.031589714097388\n",
            "Accuracy 0.7142857313156128\n",
            "Epochs: 23, error train: 0.02515630865815896, error test: 0.03143620638199794\n",
            "Accuracy 0.5714285969734192\n",
            "Epochs: 24, error train: 0.02567843037034998, error test: 0.031180227244341815\n",
            "Accuracy 0.7142857313156128\n",
            "Epochs: 25, error train: 0.02552649004375515, error test: 0.03113773575535527\n",
            "Accuracy 0.7142857313156128\n",
            "Epochs: 26, error train: 0.02572858273683481, error test: 0.031237951031437627\n",
            "Accuracy 0.7142857313156128\n",
            "Epochs: 27, error train: 0.024112389914354486, error test: 0.03115440003665877\n",
            "Accuracy 0.7142857313156128\n",
            "Epochs: 28, error train: 0.025483075697817395, error test: 0.031115876303778753\n",
            "Accuracy 0.7142857313156128\n",
            "Epochs: 29, error train: 0.025075566828550406, error test: 0.030931232888021586\n",
            "Accuracy 0.7142857313156128\n",
            "Epochs: 30, error train: 0.025409069492589288, error test: 0.030650313989615735\n",
            "Accuracy 0.5714285969734192\n",
            "Epochs: 31, error train: 0.025169201532200952, error test: 0.030605866585248782\n",
            "Accuracy 0.5714285969734192\n",
            "Epochs: 32, error train: 0.02520144165460788, error test: 0.030715060822757673\n",
            "Accuracy 0.7142857313156128\n",
            "Epochs: 33, error train: 0.024936677822515595, error test: 0.03062413798438178\n",
            "Accuracy 0.5714285969734192\n",
            "Epochs: 34, error train: 0.02383673580447633, error test: 0.030082271422868893\n",
            "Accuracy 0.8571428656578064\n",
            "Epochs: 35, error train: 0.02376057903970306, error test: 0.03007276705753656\n",
            "Accuracy 0.8571428656578064\n",
            "Epochs: 36, error train: 0.02321296810504779, error test: 0.03003956506281723\n",
            "Accuracy 0.8571428656578064\n",
            "Epochs: 37, error train: 0.024318388059510657, error test: 0.030181029696523407\n",
            "Accuracy 0.7142857313156128\n",
            "Epochs: 38, error train: 0.025180003750863388, error test: 0.029959125283323687\n",
            "Accuracy 0.8571428656578064\n",
            "Epochs: 39, error train: 0.024312834643838394, error test: 0.029768954088658463\n",
            "Accuracy 0.7142857313156128\n",
            "Epochs: 40, error train: 0.02405453357265223, error test: 0.029167129669660403\n",
            "Accuracy 0.8571428656578064\n",
            "Epochs: 41, error train: 0.024154804160247494, error test: 0.02909242076638304\n",
            "Accuracy 0.8571428656578064\n",
            "Epochs: 42, error train: 0.024305920804565277, error test: 0.029031080964170855\n",
            "Accuracy 0.8571428656578064\n",
            "Epochs: 43, error train: 0.022971254197796387, error test: 0.0291760880270122\n",
            "Accuracy 0.8571428656578064\n",
            "Epochs: 44, error train: 0.023645909287821707, error test: 0.028639119348408265\n",
            "Accuracy 0.8571428656578064\n",
            "Epochs: 45, error train: 0.022941944886691608, error test: 0.02851866939921438\n",
            "Accuracy 0.8571428656578064\n",
            "Epochs: 46, error train: 0.022092650583641012, error test: 0.02836312629558422\n",
            "Accuracy 0.8571428656578064\n",
            "Epochs: 47, error train: 0.022680154397859045, error test: 0.027986597131799767\n",
            "Accuracy 0.8571428656578064\n",
            "Epochs: 48, error train: 0.02205275680551577, error test: 0.02780190220585576\n",
            "Accuracy 0.8571428656578064\n",
            "Epochs: 49, error train: 0.021596436524510983, error test: 0.02807306949003243\n",
            "Accuracy 0.8571428656578064\n",
            "Epochs: 50, error train: 0.022822686176204202, error test: 0.02777627956720046\n",
            "Accuracy 0.8571428656578064\n",
            "Epochs: 51, error train: 0.0215592567046084, error test: 0.027550294075483157\n",
            "Accuracy 0.8571428656578064\n",
            "Epochs: 52, error train: 0.021580443010857358, error test: 0.02743095674632508\n",
            "Accuracy 0.8571428656578064\n",
            "Epochs: 53, error train: 0.021636106860098526, error test: 0.02693524478394308\n",
            "Accuracy 0.8571428656578064\n",
            "Epochs: 54, error train: 0.020872720222377298, error test: 0.026798517615706834\n",
            "Accuracy 0.8571428656578064\n",
            "Epochs: 55, error train: 0.021133801445889114, error test: 0.026527256141474217\n",
            "Accuracy 0.8571428656578064\n",
            "Epochs: 56, error train: 0.0207427003275809, error test: 0.02621902507028462\n",
            "Accuracy 0.8571428656578064\n",
            "Epochs: 57, error train: 0.02158552078745473, error test: 0.026956918798846964\n",
            "Accuracy 0.8571428656578064\n",
            "Epochs: 58, error train: 0.021539089967258014, error test: 0.026987214147308727\n",
            "Accuracy 0.8571428656578064\n",
            "Epochs: 59, error train: 0.02006581410690768, error test: 0.026283002194063165\n",
            "Accuracy 0.8571428656578064\n",
            "Epochs: 60, error train: 0.02133378700994367, error test: 0.026575296013443557\n",
            "Accuracy 0.8571428656578064\n",
            "Epochs: 61, error train: 0.021684514817280984, error test: 0.026985793937871486\n",
            "Accuracy 0.7142857313156128\n",
            "Epochs: 62, error train: 0.02108683687957687, error test: 0.02648366822136773\n",
            "Accuracy 0.7142857313156128\n",
            "Epochs: 63, error train: 0.02143029262073076, error test: 0.02648899805398635\n",
            "Accuracy 0.7142857313156128\n",
            "Epochs: 64, error train: 0.020637822810129904, error test: 0.02577778439462921\n",
            "Accuracy 0.8571428656578064\n",
            "Epochs: 65, error train: 0.021359574854673453, error test: 0.026350462878191913\n",
            "Accuracy 0.8571428656578064\n",
            "Epochs: 66, error train: 0.02057270069218161, error test: 0.026138338777754042\n",
            "Accuracy 0.8571428656578064\n",
            "Epochs: 67, error train: 0.020952932798682745, error test: 0.025633632400889457\n",
            "Accuracy 0.8571428656578064\n",
            "Epochs: 68, error train: 0.020091750813488983, error test: 0.02631722997736048\n",
            "Accuracy 0.8571428656578064\n",
            "Epochs: 69, error train: 0.02107909576377677, error test: 0.02605256916564188\n",
            "Accuracy 0.8571428656578064\n",
            "Epochs: 70, error train: 0.02090490193822276, error test: 0.02513808306352592\n",
            "Accuracy 0.7142857313156128\n",
            "Epochs: 71, error train: 0.020087786954851007, error test: 0.025786825904139766\n",
            "Accuracy 0.8571428656578064\n",
            "Epochs: 72, error train: 0.019528176916304544, error test: 0.02609814096380163\n",
            "Accuracy 0.8571428656578064\n",
            "Epochs: 73, error train: 0.019984327668520672, error test: 0.025839630468392077\n",
            "Accuracy 0.8571428656578064\n",
            "Epochs: 74, error train: 0.01959221117460548, error test: 0.025550188105783345\n",
            "Accuracy 0.8571428656578064\n",
            "Epochs: 75, error train: 0.019667933634178122, error test: 0.026285874254909563\n",
            "Accuracy 0.8571428656578064\n",
            "Epochs: 76, error train: 0.020293507144678778, error test: 0.026219772703853655\n",
            "Accuracy 0.8571428656578064\n",
            "Epochs: 77, error train: 0.02005441104946424, error test: 0.025506786358209303\n",
            "Accuracy 0.8571428656578064\n",
            "Epochs: 78, error train: 0.019372488386067914, error test: 0.026172428955266506\n",
            "Accuracy 0.8571428656578064\n",
            "Epochs: 79, error train: 0.01952498582140285, error test: 0.026110204649560244\n",
            "Accuracy 0.8571428656578064\n",
            "Epochs: 80, error train: 0.01948968459613359, error test: 0.025053863908037727\n",
            "Accuracy 0.8571428656578064\n",
            "Epochs: 81, error train: 0.019084698890321817, error test: 0.02566294022548346\n",
            "Accuracy 0.8571428656578064\n",
            "Epochs: 82, error train: 0.02024186346399125, error test: 0.0262557989285316\n",
            "Accuracy 0.7142857313156128\n",
            "Epochs: 83, error train: 0.020671208599703995, error test: 0.025296981687898987\n",
            "Accuracy 0.8571428656578064\n",
            "Epochs: 84, error train: 0.020957899153532095, error test: 0.02575307716558009\n",
            "Accuracy 0.5714285969734192\n",
            "Epochs: 85, error train: 0.020491588954350458, error test: 0.025413756017331725\n",
            "Accuracy 0.8571428656578064\n",
            "Epochs: 86, error train: 0.019767110970751126, error test: 0.02576995116693002\n",
            "Accuracy 0.8571428656578064\n",
            "Epochs: 87, error train: 0.020056062906830756, error test: 0.026410724645779458\n",
            "Accuracy 0.8571428656578064\n",
            "Epochs: 88, error train: 0.020030629395240515, error test: 0.02600067412411725\n",
            "Accuracy 0.7142857313156128\n",
            "Epochs: 89, error train: 0.019208042765382547, error test: 0.025408123010470542\n",
            "Accuracy 0.8571428656578064\n",
            "Epochs: 90, error train: 0.019632794150155994, error test: 0.026852970505938118\n",
            "Accuracy 0.8571428656578064\n",
            "Epochs: 91, error train: 0.0194207566167841, error test: 0.026272494115947204\n",
            "Accuracy 0.8571428656578064\n",
            "Epochs: 92, error train: 0.01873287259034775, error test: 0.025550180747185226\n",
            "Accuracy 0.8571428656578064\n",
            "Epochs: 93, error train: 0.01968104066561215, error test: 0.025043938630892906\n",
            "Accuracy 0.8571428656578064\n",
            "Epochs: 94, error train: 0.019179937528006397, error test: 0.0253279216495561\n",
            "Accuracy 1.0\n",
            "Epochs: 95, error train: 0.01890753486647678, error test: 0.025519206935976757\n",
            "Accuracy 0.8571428656578064\n",
            "Epochs: 96, error train: 0.01997016153143878, error test: 0.025034161261570306\n",
            "Accuracy 0.8571428656578064\n",
            "Epochs: 97, error train: 0.0193576677959768, error test: 0.02575807218198423\n",
            "Accuracy 0.8571428656578064\n",
            "Epochs: 98, error train: 0.01904469174356317, error test: 0.024817463792400594\n",
            "Accuracy 1.0\n",
            "Epochs: 99, error train: 0.019387650130382135, error test: 0.02598947213019854\n",
            "Accuracy 0.8571428656578064\n",
            "Epochs: 100, error train: 0.019524020915055396, error test: 0.025837250697759936\n",
            "Accuracy 0.8571428656578064\n",
            "Epochs: 101, error train: 0.020142048447575403, error test: 0.02515424696015723\n",
            "Accuracy 0.8571428656578064\n",
            "Epochs: 102, error train: 0.019312738174170105, error test: 0.025225396509523743\n",
            "Accuracy 0.8571428656578064\n",
            "Epochs: 103, error train: 0.018790534692793036, error test: 0.025088528056203582\n",
            "Accuracy 0.8571428656578064\n",
            "Epochs: 104, error train: 0.018753403545025006, error test: 0.02481777506110109\n",
            "Accuracy 0.8571428656578064\n",
            "Epochs: 105, error train: 0.0197231913331765, error test: 0.02572281566666968\n",
            "Accuracy 0.7142857313156128\n",
            "Epochs: 106, error train: 0.0192674834225046, error test: 0.025341707983134704\n",
            "Accuracy 1.0\n",
            "Epochs: 107, error train: 0.019555098147847543, error test: 0.026132360652641014\n",
            "Accuracy 0.8571428656578064\n",
            "Epochs: 108, error train: 0.018218898593480862, error test: 0.025050748277593543\n",
            "Accuracy 1.0\n",
            "Epochs: 109, error train: 0.018217561981785837, error test: 0.025679188745993155\n",
            "Accuracy 1.0\n",
            "Epochs: 110, error train: 0.01847620001390352, error test: 0.025846819818755726\n",
            "Accuracy 1.0\n",
            "Epochs: 111, error train: 0.018770588253011655, error test: 0.026245580779181585\n",
            "Accuracy 0.8571428656578064\n",
            "Epochs: 112, error train: 0.01855159509721114, error test: 0.025655432247821196\n",
            "Accuracy 0.8571428656578064\n",
            "Epochs: 113, error train: 0.019044072484251242, error test: 0.026219953725367416\n",
            "Accuracy 1.0\n",
            "Epochs: 114, error train: 0.019046310953159427, error test: 0.025802639531500547\n",
            "Accuracy 1.0\n",
            "Epochs: 115, error train: 0.01895584802531717, error test: 0.025627725654178195\n",
            "Accuracy 0.8571428656578064\n",
            "Epochs: 116, error train: 0.019057821239059296, error test: 0.026805030710903215\n",
            "Accuracy 0.8571428656578064\n",
            "Epochs: 117, error train: 0.019456163273384824, error test: 0.025713105996449787\n",
            "Accuracy 0.8571428656578064\n",
            "Epochs: 118, error train: 0.018760469540878757, error test: 0.02603949146506227\n",
            "Accuracy 0.8571428656578064\n",
            "Epochs: 119, error train: 0.01808542986611026, error test: 0.02585652728139618\n",
            "Accuracy 0.8571428656578064\n",
            "Epochs: 120, error train: 0.018775936496916727, error test: 0.025061733928727514\n",
            "Accuracy 0.8571428656578064\n",
            "Epochs: 121, error train: 0.019516703770987354, error test: 0.02619920468624727\n",
            "Accuracy 1.0\n",
            "Epochs: 122, error train: 0.01904271280945246, error test: 0.02592649871920362\n",
            "Accuracy 0.8571428656578064\n",
            "Epochs: 123, error train: 0.018514932699538956, error test: 0.0256359084152881\n",
            "Accuracy 1.0\n",
            "Epochs: 124, error train: 0.018554422124546378, error test: 0.024377013430183316\n",
            "Accuracy 1.0\n",
            "Epochs: 125, error train: 0.018542188046565607, error test: 0.026119040854183245\n",
            "Accuracy 0.8571428656578064\n",
            "Epochs: 126, error train: 0.017495070420317914, error test: 0.026191551744202037\n",
            "Accuracy 1.0\n",
            "Epochs: 127, error train: 0.01865257315300218, error test: 0.025138374464011487\n",
            "Accuracy 1.0\n",
            "Epochs: 128, error train: 0.019398320260359415, error test: 0.02617379618279728\n",
            "Accuracy 0.8571428656578064\n",
            "Epochs: 129, error train: 0.018414220618243195, error test: 0.026403978283022655\n",
            "Accuracy 1.0\n",
            "Epochs: 130, error train: 0.01769723529791712, error test: 0.025884018268114255\n",
            "Accuracy 1.0\n",
            "Epochs: 131, error train: 0.018136050233888867, error test: 0.027360016917004997\n",
            "Accuracy 0.8571428656578064\n",
            "Epochs: 132, error train: 0.017302713801513363, error test: 0.024915698133868937\n",
            "Accuracy 1.0\n",
            "Epochs: 133, error train: 0.01907321855650475, error test: 0.02602708413277143\n",
            "Accuracy 1.0\n",
            "Epochs: 134, error train: 0.018018744548960547, error test: 0.025966759081240052\n",
            "Accuracy 1.0\n",
            "Epochs: 135, error train: 0.01806088398449385, error test: 0.02549232671290268\n",
            "Accuracy 0.7142857313156128\n",
            "Epochs: 136, error train: 0.017964634464014716, error test: 0.026024724230354214\n",
            "Accuracy 1.0\n",
            "Epochs: 137, error train: 0.017969571016541678, error test: 0.025717396795013805\n",
            "Accuracy 0.8571428656578064\n",
            "Epochs: 138, error train: 0.01849612743411232, error test: 0.026802036497328017\n",
            "Accuracy 1.0\n",
            "Epochs: 139, error train: 0.017801471691035745, error test: 0.026524685047290945\n",
            "Accuracy 1.0\n",
            "Epochs: 140, error train: 0.017303816337681296, error test: 0.026324361194798977\n",
            "Accuracy 1.0\n",
            "Epochs: 141, error train: 0.01731520951093741, error test: 0.025555793149971667\n",
            "Accuracy 1.0\n",
            "Epochs: 142, error train: 0.01763697829677831, error test: 0.027042994528640934\n",
            "Accuracy 1.0\n",
            "Epochs: 143, error train: 0.018498565383891965, error test: 0.0252231388916204\n",
            "Accuracy 1.0\n",
            "Epochs: 144, error train: 0.01771208823625766, error test: 0.025186138388551313\n",
            "Accuracy 0.8571428656578064\n",
            "Epochs: 145, error train: 0.017352979686392014, error test: 0.02578425775339574\n",
            "Accuracy 1.0\n",
            "Epochs: 146, error train: 0.017489060759544373, error test: 0.025737232632107206\n",
            "Accuracy 1.0\n",
            "Epochs: 147, error train: 0.017087726736787576, error test: 0.026425708959132065\n",
            "Accuracy 1.0\n",
            "Epochs: 148, error train: 0.017503205705527686, error test: 0.02488056818644206\n",
            "Accuracy 1.0\n",
            "Epochs: 149, error train: 0.016875180467289298, error test: 0.025766293943664174\n",
            "Accuracy 1.0\n"
          ]
        }
      ]
    },
    {
      "cell_type": "markdown",
      "source": [
        "# Avaliando Resultados"
      ],
      "metadata": {
        "id": "IsechtqIDSk7"
      }
    },
    {
      "cell_type": "code",
      "source": [
        "plt.plot(accuracy_test)"
      ],
      "metadata": {
        "colab": {
          "base_uri": "https://localhost:8080/",
          "height": 282
        },
        "id": "HqdUCHUp4Fbw",
        "outputId": "007679fe-303e-4d3d-af06-bdd301ac9603"
      },
      "execution_count": 436,
      "outputs": [
        {
          "output_type": "execute_result",
          "data": {
            "text/plain": [
              "[<matplotlib.lines.Line2D at 0x7f7c474db4d0>]"
            ]
          },
          "metadata": {},
          "execution_count": 436
        },
        {
          "output_type": "display_data",
          "data": {
            "text/plain": [
              "<Figure size 432x288 with 1 Axes>"
            ],
            "image/png": "[encoded data removed]"
          },
          "metadata": {
            "needs_background": "light"
          }
        }
      ]
    },
    {
      "cell_type": "code",
      "source": [
        "plt.plot(errors_train)\n",
        "plt.plot(errors_test)"
      ],
      "metadata": {
        "colab": {
          "base_uri": "https://localhost:8080/",
          "height": 282
        },
        "id": "KmVuxnwHYhLk",
        "outputId": "c64dd8cc-07b0-47c0-c634-c13aa8f8017a"
      },
      "execution_count": 437,
      "outputs": [
        {
          "output_type": "execute_result",
          "data": {
            "text/plain": [
              "[<matplotlib.lines.Line2D at 0x7f7c47565950>]"
            ]
          },
          "metadata": {},
          "execution_count": 437
        },
        {
          "output_type": "display_data",
          "data": {
            "text/plain": [
              "<Figure size 432x288 with 1 Axes>"
            ],
            "image/png": "[encoded data removed]"
          },
          "metadata": {
            "needs_background": "light"
          }
        }
      ]
    },
    {
      "cell_type": "code",
      "source": [
        "correct = 0\n",
        "total = 0\n",
        "# since we're not training, we don't need to calculate the gradients for our outputs\n",
        "with torch.no_grad():\n",
        "    for data in test_loader:\n",
        "        images, labels = data\n",
        "        # calculate outputs by running images through the network\n",
        "        #inputs = images.reshape(images.shape[0],-1)\n",
        "        outputs = model(images.reshape(images.shape[0],-1))\n",
        "        # the class with the highest energy is what we choose as prediction\n",
        "        _, predicted = torch.max(outputs.data, 1)\n",
        "        total += labels.size(0)\n",
        "        correct += (predicted == labels).sum().item()\n",
        "\n",
        "print(f'Accuracy of the network on the test images: {100 * correct // total} %')"
      ],
      "metadata": {
        "colab": {
          "base_uri": "https://localhost:8080/"
        },
        "id": "zgcchPsRU202",
        "outputId": "50fad7de-5c6a-436d-b35b-2a82a1bba1a3"
      },
      "execution_count": 444,
      "outputs": [
        {
          "output_type": "stream",
          "name": "stderr",
          "text": [
            "/usr/local/lib/python3.7/dist-packages/PIL/Image.py:960: UserWarning:\n",
            "\n",
            "Palette images with Transparency expressed in bytes should be converted to RGBA images\n",
            "\n"
          ]
        },
        {
          "output_type": "stream",
          "name": "stdout",
          "text": [
            "Accuracy of the network on the test images: 59 %\n"
          ]
        }
      ]
    },
    {
      "cell_type": "code",
      "source": [
        "correct = 0\n",
        "total = 0\n",
        "# since we're not training, we don't need to calculate the gradients for our outputs\n",
        "with torch.no_grad():\n",
        "    for data in train_loader:\n",
        "        images, labels = data\n",
        "        # calculate outputs by running images through the network\n",
        "        #inputs = images.reshape(images.shape[0],-1)\n",
        "        outputs = model(images.reshape(images.shape[0],-1))\n",
        "        # the class with the highest energy is what we choose as prediction\n",
        "        _, predicted = torch.max(outputs.data, 1)\n",
        "        total += labels.size(0)\n",
        "        correct += (predicted == labels).sum().item()\n",
        "\n",
        "print(f'Accuracy of the network on the train images: {100 * correct // total} %')"
      ],
      "metadata": {
        "colab": {
          "base_uri": "https://localhost:8080/"
        },
        "id": "kAGRNyur3vCT",
        "outputId": "390d86ed-646d-4350-e7c5-255355724da4"
      },
      "execution_count": 443,
      "outputs": [
        {
          "output_type": "stream",
          "name": "stderr",
          "text": [
            "/usr/local/lib/python3.7/dist-packages/PIL/Image.py:960: UserWarning:\n",
            "\n",
            "Palette images with Transparency expressed in bytes should be converted to RGBA images\n",
            "\n"
          ]
        },
        {
          "output_type": "stream",
          "name": "stdout",
          "text": [
            "Accuracy of the network on the train images: 58 %\n"
          ]
        }
      ]
    },
    {
      "cell_type": "code",
      "source": [
        "correct = 0\n",
        "total = 0\n",
        "# since we're not training, we don't need to calculate the gradients for our outputs\n",
        "with torch.no_grad():\n",
        "    for data in validation_loader:\n",
        "        images, labels = data\n",
        "        # calculate outputs by running images through the network\n",
        "        #inputs = images.reshape(images.shape[0],-1)\n",
        "        outputs = model(images.reshape(images.shape[0],-1))\n",
        "        # the class with the highest energy is what we choose as prediction\n",
        "        _, predicted = torch.max(outputs.data, 1)\n",
        "        total += labels.size(0)\n",
        "        correct += (predicted == labels).sum().item()\n",
        "\n",
        "print(f'Accuracy of the network on the validation images: {100 * correct // total} %')"
      ],
      "metadata": {
        "colab": {
          "base_uri": "https://localhost:8080/"
        },
        "id": "RU2vTP1q3xPU",
        "outputId": "e4b2408c-30d3-4e03-c207-a98b15e5b4e3"
      },
      "execution_count": 442,
      "outputs": [
        {
          "output_type": "stream",
          "name": "stdout",
          "text": [
            "Accuracy of the network on the validation images: 80 %\n"
          ]
        }
      ]
    }
  ]
}