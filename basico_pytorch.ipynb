{
  "nbformat": 4,
  "nbformat_minor": 0,
  "metadata": {
    "colab": {
      "name": "basico pytorch.ipynb",
      "provenance": [],
      "collapsed_sections": [],
      "include_colab_link": true
    },
    "kernelspec": {
      "name": "python3",
      "display_name": "Python 3"
    },
    "language_info": {
      "name": "python"
    }
  },
  "cells": [
    {
      "cell_type": "markdown",
      "metadata": {
        "id": "view-in-github",
        "colab_type": "text"
      },
      "source": [
        "<a href=\"https://colab.research.google.com/github/fell100/Machine-Learning/blob/master/basico_pytorch.ipynb\" target=\"_parent\"><img src=\"https://colab.research.google.com/assets/colab-badge.svg\" alt=\"Open In Colab\"/></a>"
      ]
    },
    {
      "cell_type": "code",
      "metadata": {
        "id": "DTewd9tu6yov"
      },
      "source": [
        "import torch\n",
        "import numpy as np"
      ],
      "execution_count": 1,
      "outputs": []
    },
    {
      "cell_type": "markdown",
      "metadata": {
        "id": "Jo0u8V2L7E40"
      },
      "source": [
        "Tensores são estruturas de dados especializadas muito semelhante a arrays e matrizes. No PyTorch, usamos tensores para codificar as entradas e saídas de um modelo, bem como os seu parâmetros.\n",
        "\n",
        "Tensores são muito parecidos com vetores em numpy. De fato, em alguns momentos teremos de criar um tensor a partir de uma matriz numpy.\n",
        "\n",
        "O código abaixo faz exatamente isso: com dois métodos diferentes, cria um tensor com os dados de uma matriz."
      ]
    },
    {
      "cell_type": "code",
      "metadata": {
        "colab": {
          "base_uri": "https://localhost:8080/"
        },
        "id": "CO7OnL9a77_i",
        "outputId": "69f6e6e2-4379-4f4b-995d-264aabdc2eb5"
      },
      "source": [
        "x = np.ones(5, dtype=np.float32)\n",
        "x_t = torch.tensor(x)\n",
        "x2_t = torch.from_numpy(x)\n",
        "print(x_t)\n",
        "print(type(x))\n",
        "print(type(x_t))\n",
        "print(type(x2_t))"
      ],
      "execution_count": 2,
      "outputs": [
        {
          "output_type": "stream",
          "name": "stdout",
          "text": [
            "tensor([1., 1., 1., 1., 1.])\n",
            "<class 'numpy.ndarray'>\n",
            "<class 'torch.Tensor'>\n",
            "<class 'torch.Tensor'>\n"
          ]
        }
      ]
    },
    {
      "cell_type": "markdown",
      "metadata": {
        "id": "OYP0SUMt-C8u"
      },
      "source": [
        "Também é possível passar de um tensor para uma matriz numpy"
      ]
    },
    {
      "cell_type": "code",
      "metadata": {
        "colab": {
          "base_uri": "https://localhost:8080/"
        },
        "id": "LI0MUSzP86an",
        "outputId": "ab226816-2bf0-4a3e-8f4f-c25186ba97cf"
      },
      "source": [
        "x2 = x_t.numpy()\n",
        "print(type(x))\n",
        "print(type(x_t))\n",
        "print(type(x2))"
      ],
      "execution_count": 3,
      "outputs": [
        {
          "output_type": "stream",
          "name": "stdout",
          "text": [
            "<class 'numpy.ndarray'>\n",
            "<class 'torch.Tensor'>\n",
            "<class 'numpy.ndarray'>\n"
          ]
        }
      ]
    },
    {
      "cell_type": "markdown",
      "metadata": {
        "id": "cotbtnv--IMk"
      },
      "source": [
        "As alterações na matriz numpy podem afetar o tensor."
      ]
    },
    {
      "cell_type": "code",
      "metadata": {
        "colab": {
          "base_uri": "https://localhost:8080/"
        },
        "id": "5aCLJPO69g-r",
        "outputId": "352ba230-de32-4aea-e76d-e9d4f022c1f7"
      },
      "source": [
        "np.add(x,1,out=x)\n",
        "print(f\"x: {x}\")\n",
        "print(f\"x_t: {x_t}\")\n",
        "print(f\"x2_t: {x2_t}\")"
      ],
      "execution_count": 4,
      "outputs": [
        {
          "output_type": "stream",
          "name": "stdout",
          "text": [
            "x: [2. 2. 2. 2. 2.]\n",
            "x_t: tensor([1., 1., 1., 1., 1.])\n",
            "x2_t: tensor([2., 2., 2., 2., 2.])\n"
          ]
        }
      ]
    },
    {
      "cell_type": "markdown",
      "metadata": {
        "id": "56cR41BV_LhK"
      },
      "source": [
        "Consultando a documentação do [pytorch](https://pytorch.org/docs/stable/torch.html), realize as tarefas indicadas abaixo com tensores."
      ]
    },
    {
      "cell_type": "code",
      "metadata": {
        "colab": {
          "base_uri": "https://localhost:8080/"
        },
        "id": "0Poxx_X2_siq",
        "outputId": "5ddf5836-e797-43a3-bb90-d6943c7bd082"
      },
      "source": [
        "torch.manual_seed(10)#não altere esta linha\n",
        "x = torch.rand(4,4) # tensor 4x4 com valores randômicos entre 0 e 1\n",
        "# Crie um tensor y contendo apenas zeros, usando o tensor x como modelo (terá as mesmas dimensoes). Isso é feito com apenas um método.\n",
        "# coloque o seu código aqui-------------\n",
        "\n",
        "y = torch.clone(x).zero_()\n",
        "\n",
        "#----------------------------------\n",
        "print(x)\n",
        "print(y)"
      ],
      "execution_count": 10,
      "outputs": [
        {
          "output_type": "stream",
          "name": "stdout",
          "text": [
            "tensor([[0.4581, 0.4829, 0.3125, 0.6150],\n",
            "        [0.2139, 0.4118, 0.6938, 0.9693],\n",
            "        [0.6178, 0.3304, 0.5479, 0.4440],\n",
            "        [0.7041, 0.5573, 0.6959, 0.9849]])\n",
            "tensor([[0., 0., 0., 0.],\n",
            "        [0., 0., 0., 0.],\n",
            "        [0., 0., 0., 0.],\n",
            "        [0., 0., 0., 0.]])\n"
          ]
        }
      ]
    },
    {
      "cell_type": "code",
      "metadata": {
        "colab": {
          "base_uri": "https://localhost:8080/"
        },
        "id": "ySTHj8_aAxF7",
        "outputId": "d993b009-3567-4ade-d663-c0a5ac8508fb"
      },
      "source": [
        "torch.manual_seed(10)\n",
        "# Crie um tensor y com dimensões (1 x 100) e elementos randômicos criados a partir de uma distribuição normal, com média 10 e desvio padrão 2\n",
        "# coloque o seu código aqui-------------\n",
        "y = torch.normal(mean=10, std = 2, size = (1, 100))\n",
        "\n",
        "#----------------------------------\n",
        "print(y)"
      ],
      "execution_count": 26,
      "outputs": [
        {
          "output_type": "stream",
          "name": "stdout",
          "text": [
            "tensor([[ 8.3653,  8.8889,  8.3466,  7.4061,  9.6052,  8.0713,  8.9734, 15.2556,\n",
            "          8.5070, 12.0102,  9.4863, 10.9530,  8.6696,  9.2747,  7.0993,  9.5008,\n",
            "         11.6595, 12.2419, 11.9998, 12.2334, 12.1526,  9.8675, 10.2631, 10.3362,\n",
            "         10.1123, 10.4912, 11.9070, 10.7107, 10.4242,  9.3245,  9.2928,  9.4542,\n",
            "         12.6581, 12.3948,  7.4710,  9.1311,  5.6388,  7.7812,  5.9179, 10.0667,\n",
            "          7.8390,  8.2335, 11.9482, 11.1263,  7.7698, 10.2980,  7.8154,  7.0897,\n",
            "          9.0378,  7.8354, 10.6354, 15.4940, 10.7380, 12.6747,  8.1640,  8.0770,\n",
            "          9.9898, 10.7076,  9.2881,  8.4669, 10.8602, 10.2993,  9.5080,  7.0727,\n",
            "         11.1752,  7.6795, 12.0090,  8.8502, 11.1706,  7.2684,  7.3332, 10.2901,\n",
            "         12.4973,  5.4452, 12.5051, 11.0933, 10.0402,  6.8305, 14.8864, 11.5344,\n",
            "         11.2546,  9.4195, 11.2078, 12.4345,  8.8442,  6.7615,  9.4493,  9.2594,\n",
            "         10.6648, 11.0446, 11.2055,  8.9195, 12.0029, 11.4613,  5.4711,  7.3552,\n",
            "          8.8280, 13.2206,  7.1638, 12.9710]])\n"
          ]
        }
      ]
    },
    {
      "cell_type": "code",
      "metadata": {
        "colab": {
          "base_uri": "https://localhost:8080/"
        },
        "id": "SLDOTH6vByK_",
        "outputId": "37cc6030-946f-45b5-a5a4-d96add8dd432"
      },
      "source": [
        "torch.manual_seed(10)#não altere esta linha\n",
        "# 1. Crie um tensor x com dimensões 5x5 e elementos randômicos entre 0 e 0.005\n",
        "# 2. imprima o tensor e, na linha seguinte, sua forma (dimensões)\n",
        "# 3. mude a forma do tensor para 1 x 25\n",
        "# 2. imprima o tensor e, na linha seguinte, sua forma (dimensões)\n",
        "# coloque o seu código aqui-------------\n",
        "\n",
        "my_tensor = torch.rand(5,5)\n",
        "print(my_tensor)\n",
        "print(my_tensor.size())\n",
        "#---------------------------------------\n",
        "new_tensor = my_tensor.reshape(1, 25)\n",
        "\n",
        "print(new_tensor)\n",
        "print(new_tensor.size())"
      ],
      "execution_count": 33,
      "outputs": [
        {
          "output_type": "stream",
          "name": "stdout",
          "text": [
            "tensor([[0.4581, 0.4829, 0.3125, 0.6150, 0.2139],\n",
            "        [0.4118, 0.6938, 0.9693, 0.6178, 0.3304],\n",
            "        [0.5479, 0.4440, 0.7041, 0.5573, 0.6959],\n",
            "        [0.9849, 0.2924, 0.4823, 0.6150, 0.4967],\n",
            "        [0.4521, 0.0575, 0.0687, 0.0501, 0.0108]])\n",
            "torch.Size([5, 5])\n",
            "tensor([[0.4581, 0.4829, 0.3125, 0.6150, 0.2139, 0.4118, 0.6938, 0.9693, 0.6178,\n",
            "         0.3304, 0.5479, 0.4440, 0.7041, 0.5573, 0.6959, 0.9849, 0.2924, 0.4823,\n",
            "         0.6150, 0.4967, 0.4521, 0.0575, 0.0687, 0.0501, 0.0108]])\n",
            "torch.Size([1, 25])\n"
          ]
        }
      ]
    },
    {
      "cell_type": "markdown",
      "metadata": {
        "id": "3WLnIVL3XriG"
      },
      "source": [
        "## **Cálculos**\n",
        "\n",
        "Na maior parte do tempo, vamos explorar ao máximo as facilidades oferecidas pelo PyTorch. Mas é interessante saber realizar algumas operações básicas.\n",
        "\n",
        "A equção abaixo é a representação de um modelo simples.\n",
        "\n",
        "$$\n",
        "\\begin{align}\n",
        "y &= f(w_1 x_1 + w_2 x_2 + b) \\\\\n",
        "y &= f\\left(\\sum_i w_i x_i +b \\right)\n",
        "\\end{align}\n",
        "$$\n",
        "\n",
        "Isso pode ser feito com o produto interno de dois vetores.\n",
        "$$\n",
        "h = \\begin{bmatrix}\n",
        "x_1 \\, x_2 \\cdots  x_n\n",
        "\\end{bmatrix}\n",
        "\\cdot \n",
        "\\begin{bmatrix}\n",
        "           w_1 \\\\\n",
        "           w_2 \\\\\n",
        "           \\vdots \\\\\n",
        "           w_n\n",
        "\\end{bmatrix}\n",
        "$$\n",
        "\n",
        "Sua tarefa: \n",
        "\n",
        "\n",
        "*   crie um tensor $x$ com valores randômicos entre 0 e 1 e com dimensões $1$x$12$\n",
        "*   crie um tensor $w$ com valores randômicos entre 0 e 1 e com dimensões $1$x$12$\n",
        "*   crie um tensor $b$ com valor randômico entre 0 e 1\n",
        "*   calcule $h$ (o valor de y será calculado depois de criarmos uma função de ativação)\n",
        "\n",
        "\n"
      ]
    },
    {
      "cell_type": "code",
      "metadata": {
        "id": "yR8NaRCYWPwc",
        "outputId": "3366f1a1-dd0f-4ffa-bdde-a86074aa0c17",
        "colab": {
          "base_uri": "https://localhost:8080/"
        }
      },
      "source": [
        "torch.manual_seed(10)#não altere esta linha\n",
        "\n",
        "#crie w\n",
        "w = torch.rand(size = (12,1))\n",
        "#crie x\n",
        "x = torch.rand(size = (1,12))\n",
        "# crie b\n",
        "b = torch.rand(size = (1,1))\n",
        "#calcule h (use .sum())\n",
        "h = torch.matmul(x, w)\n",
        "\n",
        "h\n"
      ],
      "execution_count": 57,
      "outputs": [
        {
          "output_type": "execute_result",
          "data": {
            "text/plain": [
              "tensor([[2.9424]])"
            ]
          },
          "metadata": {},
          "execution_count": 57
        }
      ]
    },
    {
      "cell_type": "markdown",
      "metadata": {
        "id": "d3ERmEdda6HT"
      },
      "source": [
        "Duas funções de ativação populares em redes neurais, que permitem a solução de problemas não-lineares, são a sigmoide e tangente hiperbólica.\n",
        "\n",
        "![image.png](data:image/png;base64,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)\n",
        "\n",
        "$sigmoid(x) = {{1} \\over {(1+e^{-x})}}$\n",
        "\n",
        "$tanh(x) = { {e^x}-e^{-x} \\over {e^x + e^{-x}}}$\n",
        "\n",
        "Crie essas duas funções utilizando exclusivamente o PyTorch."
      ]
    },
    {
      "cell_type": "code",
      "metadata": {
        "id": "sHSZj-sdbU7u"
      },
      "source": [
        "#implemente as duas funções, usando torch.exp()\n",
        "def sigmoid(x):\n",
        "#coloque o seu código aqui--------------------------------\n",
        "  return 1 / (1 + torch.exp(-x))\n",
        "#---------------------------------------------------------\n",
        "\n",
        "def tanh(x):\n",
        "#coloque o seu código aqui--------------------------------\n",
        "  return (torch.exp(x) - torch.exp(-x)) / (torch.exp(x) + torch.exp(-x))\n",
        "#---------------------------------------------------------\n"
      ],
      "execution_count": 58,
      "outputs": []
    },
    {
      "cell_type": "code",
      "metadata": {
        "colab": {
          "base_uri": "https://localhost:8080/",
          "height": 282
        },
        "id": "jlR_bly_c6R7",
        "outputId": "d3412c9f-a03e-408b-d71a-31e86950ac06"
      },
      "source": [
        "#execute esta célula para verificar se o seu código está correto\n",
        "import matplotlib.pyplot as plt\n",
        "x = torch.linspace(-5, 5, 100)\n",
        "y_sigmoid = sigmoid(x)\n",
        "y_tanh = tanh(x)\n",
        "plt.plot(x,y_sigmoid, label = 'sigmoid')\n",
        "plt.plot(x,y_tanh, '--', label= 'tanh')\n",
        "plt.grid('both')\n",
        "plt.legend()"
      ],
      "execution_count": 59,
      "outputs": [
        {
          "output_type": "execute_result",
          "data": {
            "text/plain": [
              "<matplotlib.legend.Legend at 0x7fe02c9199d0>"
            ]
          },
          "metadata": {},
          "execution_count": 59
        },
        {
          "output_type": "display_data",
          "data": {
            "text/plain": [
              "<Figure size 432x288 with 1 Axes>"
            ],
            "image/png": "[encoded data removed]"
          },
          "metadata": {
            "needs_background": "light"
          }
        }
      ]
    },
    {
      "cell_type": "markdown",
      "metadata": {
        "id": "u6NRaZGWfBgB"
      },
      "source": [
        "Finalmente, vamos calcular $y$.\n",
        "\n",
        "$$\n",
        "\\begin{align}\n",
        "y &= f\\left(\\sum_i w_i x_i +b \\right)\n",
        "\\end{align}\n",
        "$$\n",
        "\n",
        "O somatório já foi calculado antes ($h$). Agora, vamos fazer $h+b$ e passar esse valor nas duas funções de ativação.\n"
      ]
    },
    {
      "cell_type": "code",
      "metadata": {
        "colab": {
          "base_uri": "https://localhost:8080/"
        },
        "id": "hiEV1cCxf28A",
        "outputId": "21103dd5-c68e-483d-bd0f-ad78cef2af23"
      },
      "source": [
        "print(sigmoid(h+b))\n",
        "print(tanh(h+b))"
      ],
      "execution_count": 60,
      "outputs": [
        {
          "output_type": "stream",
          "name": "stdout",
          "text": [
            "tensor([[0.9504]])\n",
            "tensor([[0.9946]])\n"
          ]
        }
      ]
    },
    {
      "cell_type": "markdown",
      "metadata": {
        "id": "aftGOyL7gW0e"
      },
      "source": [
        "Os valores devem ser:\n",
        "\n",
        "```\n",
        "tensor([0.9504])\n",
        "tensor([0.9946])\n",
        "```\n",
        "\n",
        "\n"
      ]
    },
    {
      "cell_type": "markdown",
      "metadata": {
        "id": "SKeORYT_glEQ"
      },
      "source": [
        "## **Autograd**\n",
        "\n",
        "No coração das redes neurais artificiais pulsa o cálculo diferencial, usado busca de minimização de erros.\n",
        "\n",
        "O PyTorch facilita o nosso trabalho, calculando gradientes de forma transparente.\n",
        "\n",
        "Ao criar um tensor com *requires_grad=True* o Pytorch vai rastrear as operações envolvidas e calcular o gradiente (usando *.backward()*).\n",
        "\n",
        "A célula abaixo faz isso, e verifica o gradiente quando passamos um tensor pelas duas funções de ativação. Aproveitamos esse momento para diferenciar como as duas funções também apresentam comportamentos diferentes com suas derivadas."
      ]
    },
    {
      "cell_type": "code",
      "metadata": {
        "colab": {
          "base_uri": "https://localhost:8080/",
          "height": 282
        },
        "id": "FTj7Gt0XhD_z",
        "outputId": "531ca3d0-bc2d-459a-809e-9ef843eb7734"
      },
      "source": [
        "x = torch.linspace(-5, 5, 100,  requires_grad=True)\n",
        "y_sigmoid = sigmoid(x)\n",
        "z_sigmoid = y_sigmoid.sum()\n",
        "z_sigmoid.backward()\n",
        "plt.plot(x.grad,label='com operação sigmoid')\n",
        "\n",
        "y_tanh = tanh(x)\n",
        "z_tanh = y_tanh.sum()\n",
        "z_tanh.backward()\n",
        "plt.plot(x.grad,label='com operação tanh')\n",
        "plt.legend()"
      ],
      "execution_count": 63,
      "outputs": [
        {
          "output_type": "execute_result",
          "data": {
            "text/plain": [
              "<matplotlib.legend.Legend at 0x7fe02c8ce350>"
            ]
          },
          "metadata": {},
          "execution_count": 63
        },
        {
          "output_type": "display_data",
          "data": {
            "text/plain": [
              "<Figure size 432x288 with 1 Axes>"
            ],
            "image/png": "[encoded data removed]"
          },
          "metadata": {
            "needs_background": "light"
          }
        }
      ]
    },
    {
      "cell_type": "markdown",
      "metadata": {
        "id": "TiCRNIOQoIV3"
      },
      "source": [
        "Não precisa se preocupar em usar o **Autograd** agora. Na maior parte do tempo o seu uso será transparente."
      ]
    }
  ]
}