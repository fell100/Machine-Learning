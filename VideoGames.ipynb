{
  "nbformat": 4,
  "nbformat_minor": 0,
  "metadata": {
    "colab": {
      "provenance": [],
      "collapsed_sections": [],
      "authorship_tag": "ABX9TyMHP26eTRJhOIZ5zgQkQY4P",
      "include_colab_link": true
    },
    "kernelspec": {
      "name": "python3",
      "display_name": "Python 3"
    },
    "language_info": {
      "name": "python"
    }
  },
  "cells": [
    {
      "cell_type": "markdown",
      "metadata": {
        "id": "view-in-github",
        "colab_type": "text"
      },
      "source": [
        "<a href=\"https://colab.research.google.com/github/fell100/Machine-Learning/blob/master/VideoGames.ipynb\" target=\"_parent\"><img src=\"https://colab.research.google.com/assets/colab-badge.svg\" alt=\"Open In Colab\"/></a>"
      ]
    },
    {
      "cell_type": "code",
      "metadata": {
        "id": "VGSV-cMiapnc"
      },
      "source": [
        "import pandas as pd\n",
        "import numpy as np\n",
        "import matplotlib.pyplot as plt\n",
        "import plotly.express as px\n",
        "from google.colab import drive\n",
        "import seaborn as sns"
      ],
      "execution_count": 160,
      "outputs": []
    },
    {
      "cell_type": "code",
      "metadata": {
        "colab": {
          "base_uri": "https://localhost:8080/"
        },
        "id": "dBxXIVYsa_IH",
        "outputId": "a541ba97-8cf1-4e60-d57d-296afc06407f"
      },
      "source": [
        "drive.mount('/content/gdrive')"
      ],
      "execution_count": 161,
      "outputs": [
        {
          "output_type": "stream",
          "name": "stdout",
          "text": [
            "Drive already mounted at /content/gdrive; to attempt to forcibly remount, call drive.mount(\"/content/gdrive\", force_remount=True).\n"
          ]
        }
      ]
    },
    {
      "cell_type": "code",
      "metadata": {
        "id": "ZJGivO3qbSPQ"
      },
      "source": [
        "vg_data = pd.read_csv('/content/gdrive/MyDrive/datasets/VideoGames/vgsales.csv')"
      ],
      "execution_count": 162,
      "outputs": []
    },
    {
      "cell_type": "code",
      "metadata": {
        "colab": {
          "base_uri": "https://localhost:8080/",
          "height": 424
        },
        "id": "BUbmCNTHbf-t",
        "outputId": "788ea727-ea4c-40ea-eb20-a7f828d94325"
      },
      "source": [
        "vg_data\n",
        "#sales at milion copies sold"
      ],
      "execution_count": 163,
      "outputs": [
        {
          "output_type": "execute_result",
          "data": {
            "text/plain": [
              "        Rank                                              Name Platform  \\\n",
              "0          1                                        Wii Sports      Wii   \n",
              "1          2                                 Super Mario Bros.      NES   \n",
              "2          3                                    Mario Kart Wii      Wii   \n",
              "3          4                                 Wii Sports Resort      Wii   \n",
              "4          5                          Pokemon Red/Pokemon Blue       GB   \n",
              "...      ...                                               ...      ...   \n",
              "16593  16596                Woody Woodpecker in Crazy Castle 5      GBA   \n",
              "16594  16597                     Men in Black II: Alien Escape       GC   \n",
              "16595  16598  SCORE International Baja 1000: The Official Game      PS2   \n",
              "16596  16599                                        Know How 2       DS   \n",
              "16597  16600                                  Spirits & Spells      GBA   \n",
              "\n",
              "         Year         Genre   Publisher  NA_Sales  EU_Sales  JP_Sales  \\\n",
              "0      2006.0        Sports    Nintendo     41.49     29.02      3.77   \n",
              "1      1985.0      Platform    Nintendo     29.08      3.58      6.81   \n",
              "2      2008.0        Racing    Nintendo     15.85     12.88      3.79   \n",
              "3      2009.0        Sports    Nintendo     15.75     11.01      3.28   \n",
              "4      1996.0  Role-Playing    Nintendo     11.27      8.89     10.22   \n",
              "...       ...           ...         ...       ...       ...       ...   \n",
              "16593  2002.0      Platform       Kemco      0.01      0.00      0.00   \n",
              "16594  2003.0       Shooter  Infogrames      0.01      0.00      0.00   \n",
              "16595  2008.0        Racing  Activision      0.00      0.00      0.00   \n",
              "16596  2010.0        Puzzle    7G//AMES      0.00      0.01      0.00   \n",
              "16597  2003.0      Platform     Wanadoo      0.01      0.00      0.00   \n",
              "\n",
              "       Other_Sales  Global_Sales  \n",
              "0             8.46         82.74  \n",
              "1             0.77         40.24  \n",
              "2             3.31         35.82  \n",
              "3             2.96         33.00  \n",
              "4             1.00         31.37  \n",
              "...            ...           ...  \n",
              "16593         0.00          0.01  \n",
              "16594         0.00          0.01  \n",
              "16595         0.00          0.01  \n",
              "16596         0.00          0.01  \n",
              "16597         0.00          0.01  \n",
              "\n",
              "[16598 rows x 11 columns]"
            ],
            "text/html": [
              "\n",
              "  <div id=\"df-458404e1-667e-480e-b71d-ca308c95193f\">\n",
              "    <div class=\"colab-df-container\">\n",
              "      <div>\n",
              "<style scoped>\n",
              "    .dataframe tbody tr th:only-of-type {\n",
              "        vertical-align: middle;\n",
              "    }\n",
              "\n",
              "    .dataframe tbody tr th {\n",
              "        vertical-align: top;\n",
              "    }\n",
              "\n",
              "    .dataframe thead th {\n",
              "        text-align: right;\n",
              "    }\n",
              "</style>\n",
              "<table border=\"1\" class=\"dataframe\">\n",
              "  <thead>\n",
              "    <tr style=\"text-align: right;\">\n",
              "      <th></th>\n",
              "      <th>Rank</th>\n",
              "      <th>Name</th>\n",
              "      <th>Platform</th>\n",
              "      <th>Year</th>\n",
              "      <th>Genre</th>\n",
              "      <th>Publisher</th>\n",
              "      <th>NA_Sales</th>\n",
              "      <th>EU_Sales</th>\n",
              "      <th>JP_Sales</th>\n",
              "      <th>Other_Sales</th>\n",
              "      <th>Global_Sales</th>\n",
              "    </tr>\n",
              "  </thead>\n",
              "  <tbody>\n",
              "    <tr>\n",
              "      <th>0</th>\n",
              "      <td>1</td>\n",
              "      <td>Wii Sports</td>\n",
              "      <td>Wii</td>\n",
              "      <td>2006.0</td>\n",
              "      <td>Sports</td>\n",
              "      <td>Nintendo</td>\n",
              "      <td>41.49</td>\n",
              "      <td>29.02</td>\n",
              "      <td>3.77</td>\n",
              "      <td>8.46</td>\n",
              "      <td>82.74</td>\n",
              "    </tr>\n",
              "    <tr>\n",
              "      <th>1</th>\n",
              "      <td>2</td>\n",
              "      <td>Super Mario Bros.</td>\n",
              "      <td>NES</td>\n",
              "      <td>1985.0</td>\n",
              "      <td>Platform</td>\n",
              "      <td>Nintendo</td>\n",
              "      <td>29.08</td>\n",
              "      <td>3.58</td>\n",
              "      <td>6.81</td>\n",
              "      <td>0.77</td>\n",
              "      <td>40.24</td>\n",
              "    </tr>\n",
              "    <tr>\n",
              "      <th>2</th>\n",
              "      <td>3</td>\n",
              "      <td>Mario Kart Wii</td>\n",
              "      <td>Wii</td>\n",
              "      <td>2008.0</td>\n",
              "      <td>Racing</td>\n",
              "      <td>Nintendo</td>\n",
              "      <td>15.85</td>\n",
              "      <td>12.88</td>\n",
              "      <td>3.79</td>\n",
              "      <td>3.31</td>\n",
              "      <td>35.82</td>\n",
              "    </tr>\n",
              "    <tr>\n",
              "      <th>3</th>\n",
              "      <td>4</td>\n",
              "      <td>Wii Sports Resort</td>\n",
              "      <td>Wii</td>\n",
              "      <td>2009.0</td>\n",
              "      <td>Sports</td>\n",
              "      <td>Nintendo</td>\n",
              "      <td>15.75</td>\n",
              "      <td>11.01</td>\n",
              "      <td>3.28</td>\n",
              "      <td>2.96</td>\n",
              "      <td>33.00</td>\n",
              "    </tr>\n",
              "    <tr>\n",
              "      <th>4</th>\n",
              "      <td>5</td>\n",
              "      <td>Pokemon Red/Pokemon Blue</td>\n",
              "      <td>GB</td>\n",
              "      <td>1996.0</td>\n",
              "      <td>Role-Playing</td>\n",
              "      <td>Nintendo</td>\n",
              "      <td>11.27</td>\n",
              "      <td>8.89</td>\n",
              "      <td>10.22</td>\n",
              "      <td>1.00</td>\n",
              "      <td>31.37</td>\n",
              "    </tr>\n",
              "    <tr>\n",
              "      <th>...</th>\n",
              "      <td>...</td>\n",
              "      <td>...</td>\n",
              "      <td>...</td>\n",
              "      <td>...</td>\n",
              "      <td>...</td>\n",
              "      <td>...</td>\n",
              "      <td>...</td>\n",
              "      <td>...</td>\n",
              "      <td>...</td>\n",
              "      <td>...</td>\n",
              "      <td>...</td>\n",
              "    </tr>\n",
              "    <tr>\n",
              "      <th>16593</th>\n",
              "      <td>16596</td>\n",
              "      <td>Woody Woodpecker in Crazy Castle 5</td>\n",
              "      <td>GBA</td>\n",
              "      <td>2002.0</td>\n",
              "      <td>Platform</td>\n",
              "      <td>Kemco</td>\n",
              "      <td>0.01</td>\n",
              "      <td>0.00</td>\n",
              "      <td>0.00</td>\n",
              "      <td>0.00</td>\n",
              "      <td>0.01</td>\n",
              "    </tr>\n",
              "    <tr>\n",
              "      <th>16594</th>\n",
              "      <td>16597</td>\n",
              "      <td>Men in Black II: Alien Escape</td>\n",
              "      <td>GC</td>\n",
              "      <td>2003.0</td>\n",
              "      <td>Shooter</td>\n",
              "      <td>Infogrames</td>\n",
              "      <td>0.01</td>\n",
              "      <td>0.00</td>\n",
              "      <td>0.00</td>\n",
              "      <td>0.00</td>\n",
              "      <td>0.01</td>\n",
              "    </tr>\n",
              "    <tr>\n",
              "      <th>16595</th>\n",
              "      <td>16598</td>\n",
              "      <td>SCORE International Baja 1000: The Official Game</td>\n",
              "      <td>PS2</td>\n",
              "      <td>2008.0</td>\n",
              "      <td>Racing</td>\n",
              "      <td>Activision</td>\n",
              "      <td>0.00</td>\n",
              "      <td>0.00</td>\n",
              "      <td>0.00</td>\n",
              "      <td>0.00</td>\n",
              "      <td>0.01</td>\n",
              "    </tr>\n",
              "    <tr>\n",
              "      <th>16596</th>\n",
              "      <td>16599</td>\n",
              "      <td>Know How 2</td>\n",
              "      <td>DS</td>\n",
              "      <td>2010.0</td>\n",
              "      <td>Puzzle</td>\n",
              "      <td>7G//AMES</td>\n",
              "      <td>0.00</td>\n",
              "      <td>0.01</td>\n",
              "      <td>0.00</td>\n",
              "      <td>0.00</td>\n",
              "      <td>0.01</td>\n",
              "    </tr>\n",
              "    <tr>\n",
              "      <th>16597</th>\n",
              "      <td>16600</td>\n",
              "      <td>Spirits &amp; Spells</td>\n",
              "      <td>GBA</td>\n",
              "      <td>2003.0</td>\n",
              "      <td>Platform</td>\n",
              "      <td>Wanadoo</td>\n",
              "      <td>0.01</td>\n",
              "      <td>0.00</td>\n",
              "      <td>0.00</td>\n",
              "      <td>0.00</td>\n",
              "      <td>0.01</td>\n",
              "    </tr>\n",
              "  </tbody>\n",
              "</table>\n",
              "<p>16598 rows × 11 columns</p>\n",
              "</div>\n",
              "      <button class=\"colab-df-convert\" onclick=\"convertToInteractive('df-458404e1-667e-480e-b71d-ca308c95193f')\"\n",
              "              title=\"Convert this dataframe to an interactive table.\"\n",
              "              style=\"display:none;\">\n",
              "        \n",
              "  <svg xmlns=\"http://www.w3.org/2000/svg\" height=\"24px\"viewBox=\"0 0 24 24\"\n",
              "       width=\"24px\">\n",
              "    <path d=\"M0 0h24v24H0V0z\" fill=\"none\"/>\n",
              "    <path d=\"M18.56 5.44l.94 2.06.94-2.06 2.06-.94-2.06-.94-.94-2.06-.94 2.06-2.06.94zm-11 1L8.5 8.5l.94-2.06 2.06-.94-2.06-.94L8.5 2.5l-.94 2.06-2.06.94zm10 10l.94 2.06.94-2.06 2.06-.94-2.06-.94-.94-2.06-.94 2.06-2.06.94z\"/><path d=\"M17.41 7.96l-1.37-1.37c-.4-.4-.92-.59-1.43-.59-.52 0-1.04.2-1.43.59L10.3 9.45l-7.72 7.72c-.78.78-.78 2.05 0 2.83L4 21.41c.39.39.9.59 1.41.59.51 0 1.02-.2 1.41-.59l7.78-7.78 2.81-2.81c.8-.78.8-2.07 0-2.86zM5.41 20L4 18.59l7.72-7.72 1.47 1.35L5.41 20z\"/>\n",
              "  </svg>\n",
              "      </button>\n",
              "      \n",
              "  <style>\n",
              "    .colab-df-container {\n",
              "      display:flex;\n",
              "      flex-wrap:wrap;\n",
              "      gap: 12px;\n",
              "    }\n",
              "\n",
              "    .colab-df-convert {\n",
              "      background-color: #E8F0FE;\n",
              "      border: none;\n",
              "      border-radius: 50%;\n",
              "      cursor: pointer;\n",
              "      display: none;\n",
              "      fill: #1967D2;\n",
              "      height: 32px;\n",
              "      padding: 0 0 0 0;\n",
              "      width: 32px;\n",
              "    }\n",
              "\n",
              "    .colab-df-convert:hover {\n",
              "      background-color: #E2EBFA;\n",
              "      box-shadow: 0px 1px 2px rgba(60, 64, 67, 0.3), 0px 1px 3px 1px rgba(60, 64, 67, 0.15);\n",
              "      fill: #174EA6;\n",
              "    }\n",
              "\n",
              "    [theme=dark] .colab-df-convert {\n",
              "      background-color: #3B4455;\n",
              "      fill: #D2E3FC;\n",
              "    }\n",
              "\n",
              "    [theme=dark] .colab-df-convert:hover {\n",
              "      background-color: #434B5C;\n",
              "      box-shadow: 0px 1px 3px 1px rgba(0, 0, 0, 0.15);\n",
              "      filter: drop-shadow(0px 1px 2px rgba(0, 0, 0, 0.3));\n",
              "      fill: #FFFFFF;\n",
              "    }\n",
              "  </style>\n",
              "\n",
              "      <script>\n",
              "        const buttonEl =\n",
              "          document.querySelector('#df-458404e1-667e-480e-b71d-ca308c95193f button.colab-df-convert');\n",
              "        buttonEl.style.display =\n",
              "          google.colab.kernel.accessAllowed ? 'block' : 'none';\n",
              "\n",
              "        async function convertToInteractive(key) {\n",
              "          const element = document.querySelector('#df-458404e1-667e-480e-b71d-ca308c95193f');\n",
              "          const dataTable =\n",
              "            await google.colab.kernel.invokeFunction('convertToInteractive',\n",
              "                                                     [key], {});\n",
              "          if (!dataTable) return;\n",
              "\n",
              "          const docLinkHtml = 'Like what you see? Visit the ' +\n",
              "            '<a target=\"_blank\" href=https://colab.research.google.com/notebooks/data_table.ipynb>data table notebook</a>'\n",
              "            + ' to learn more about interactive tables.';\n",
              "          element.innerHTML = '';\n",
              "          dataTable['output_type'] = 'display_data';\n",
              "          await google.colab.output.renderOutput(dataTable, element);\n",
              "          const docLink = document.createElement('div');\n",
              "          docLink.innerHTML = docLinkHtml;\n",
              "          element.appendChild(docLink);\n",
              "        }\n",
              "      </script>\n",
              "    </div>\n",
              "  </div>\n",
              "  "
            ]
          },
          "metadata": {},
          "execution_count": 163
        }
      ]
    },
    {
      "cell_type": "code",
      "metadata": {
        "colab": {
          "base_uri": "https://localhost:8080/",
          "height": 300
        },
        "id": "WdR0HyI0bmMR",
        "outputId": "1232d663-cc90-491d-a1b6-b401946f8745"
      },
      "source": [
        "vg_data.describe()"
      ],
      "execution_count": 164,
      "outputs": [
        {
          "output_type": "execute_result",
          "data": {
            "text/plain": [
              "               Rank          Year      NA_Sales      EU_Sales      JP_Sales  \\\n",
              "count  16598.000000  16327.000000  16598.000000  16598.000000  16598.000000   \n",
              "mean    8300.605254   2006.406443      0.264667      0.146652      0.077782   \n",
              "std     4791.853933      5.828981      0.816683      0.505351      0.309291   \n",
              "min        1.000000   1980.000000      0.000000      0.000000      0.000000   \n",
              "25%     4151.250000   2003.000000      0.000000      0.000000      0.000000   \n",
              "50%     8300.500000   2007.000000      0.080000      0.020000      0.000000   \n",
              "75%    12449.750000   2010.000000      0.240000      0.110000      0.040000   \n",
              "max    16600.000000   2020.000000     41.490000     29.020000     10.220000   \n",
              "\n",
              "        Other_Sales  Global_Sales  \n",
              "count  16598.000000  16598.000000  \n",
              "mean       0.048063      0.537441  \n",
              "std        0.188588      1.555028  \n",
              "min        0.000000      0.010000  \n",
              "25%        0.000000      0.060000  \n",
              "50%        0.010000      0.170000  \n",
              "75%        0.040000      0.470000  \n",
              "max       10.570000     82.740000  "
            ],
            "text/html": [
              "\n",
              "  <div id=\"df-8550e7a8-8fc2-43ff-b92e-88c2b77865bf\">\n",
              "    <div class=\"colab-df-container\">\n",
              "      <div>\n",
              "<style scoped>\n",
              "    .dataframe tbody tr th:only-of-type {\n",
              "        vertical-align: middle;\n",
              "    }\n",
              "\n",
              "    .dataframe tbody tr th {\n",
              "        vertical-align: top;\n",
              "    }\n",
              "\n",
              "    .dataframe thead th {\n",
              "        text-align: right;\n",
              "    }\n",
              "</style>\n",
              "<table border=\"1\" class=\"dataframe\">\n",
              "  <thead>\n",
              "    <tr style=\"text-align: right;\">\n",
              "      <th></th>\n",
              "      <th>Rank</th>\n",
              "      <th>Year</th>\n",
              "      <th>NA_Sales</th>\n",
              "      <th>EU_Sales</th>\n",
              "      <th>JP_Sales</th>\n",
              "      <th>Other_Sales</th>\n",
              "      <th>Global_Sales</th>\n",
              "    </tr>\n",
              "  </thead>\n",
              "  <tbody>\n",
              "    <tr>\n",
              "      <th>count</th>\n",
              "      <td>16598.000000</td>\n",
              "      <td>16327.000000</td>\n",
              "      <td>16598.000000</td>\n",
              "      <td>16598.000000</td>\n",
              "      <td>16598.000000</td>\n",
              "      <td>16598.000000</td>\n",
              "      <td>16598.000000</td>\n",
              "    </tr>\n",
              "    <tr>\n",
              "      <th>mean</th>\n",
              "      <td>8300.605254</td>\n",
              "      <td>2006.406443</td>\n",
              "      <td>0.264667</td>\n",
              "      <td>0.146652</td>\n",
              "      <td>0.077782</td>\n",
              "      <td>0.048063</td>\n",
              "      <td>0.537441</td>\n",
              "    </tr>\n",
              "    <tr>\n",
              "      <th>std</th>\n",
              "      <td>4791.853933</td>\n",
              "      <td>5.828981</td>\n",
              "      <td>0.816683</td>\n",
              "      <td>0.505351</td>\n",
              "      <td>0.309291</td>\n",
              "      <td>0.188588</td>\n",
              "      <td>1.555028</td>\n",
              "    </tr>\n",
              "    <tr>\n",
              "      <th>min</th>\n",
              "      <td>1.000000</td>\n",
              "      <td>1980.000000</td>\n",
              "      <td>0.000000</td>\n",
              "      <td>0.000000</td>\n",
              "      <td>0.000000</td>\n",
              "      <td>0.000000</td>\n",
              "      <td>0.010000</td>\n",
              "    </tr>\n",
              "    <tr>\n",
              "      <th>25%</th>\n",
              "      <td>4151.250000</td>\n",
              "      <td>2003.000000</td>\n",
              "      <td>0.000000</td>\n",
              "      <td>0.000000</td>\n",
              "      <td>0.000000</td>\n",
              "      <td>0.000000</td>\n",
              "      <td>0.060000</td>\n",
              "    </tr>\n",
              "    <tr>\n",
              "      <th>50%</th>\n",
              "      <td>8300.500000</td>\n",
              "      <td>2007.000000</td>\n",
              "      <td>0.080000</td>\n",
              "      <td>0.020000</td>\n",
              "      <td>0.000000</td>\n",
              "      <td>0.010000</td>\n",
              "      <td>0.170000</td>\n",
              "    </tr>\n",
              "    <tr>\n",
              "      <th>75%</th>\n",
              "      <td>12449.750000</td>\n",
              "      <td>2010.000000</td>\n",
              "      <td>0.240000</td>\n",
              "      <td>0.110000</td>\n",
              "      <td>0.040000</td>\n",
              "      <td>0.040000</td>\n",
              "      <td>0.470000</td>\n",
              "    </tr>\n",
              "    <tr>\n",
              "      <th>max</th>\n",
              "      <td>16600.000000</td>\n",
              "      <td>2020.000000</td>\n",
              "      <td>41.490000</td>\n",
              "      <td>29.020000</td>\n",
              "      <td>10.220000</td>\n",
              "      <td>10.570000</td>\n",
              "      <td>82.740000</td>\n",
              "    </tr>\n",
              "  </tbody>\n",
              "</table>\n",
              "</div>\n",
              "      <button class=\"colab-df-convert\" onclick=\"convertToInteractive('df-8550e7a8-8fc2-43ff-b92e-88c2b77865bf')\"\n",
              "              title=\"Convert this dataframe to an interactive table.\"\n",
              "              style=\"display:none;\">\n",
              "        \n",
              "  <svg xmlns=\"http://www.w3.org/2000/svg\" height=\"24px\"viewBox=\"0 0 24 24\"\n",
              "       width=\"24px\">\n",
              "    <path d=\"M0 0h24v24H0V0z\" fill=\"none\"/>\n",
              "    <path d=\"M18.56 5.44l.94 2.06.94-2.06 2.06-.94-2.06-.94-.94-2.06-.94 2.06-2.06.94zm-11 1L8.5 8.5l.94-2.06 2.06-.94-2.06-.94L8.5 2.5l-.94 2.06-2.06.94zm10 10l.94 2.06.94-2.06 2.06-.94-2.06-.94-.94-2.06-.94 2.06-2.06.94z\"/><path d=\"M17.41 7.96l-1.37-1.37c-.4-.4-.92-.59-1.43-.59-.52 0-1.04.2-1.43.59L10.3 9.45l-7.72 7.72c-.78.78-.78 2.05 0 2.83L4 21.41c.39.39.9.59 1.41.59.51 0 1.02-.2 1.41-.59l7.78-7.78 2.81-2.81c.8-.78.8-2.07 0-2.86zM5.41 20L4 18.59l7.72-7.72 1.47 1.35L5.41 20z\"/>\n",
              "  </svg>\n",
              "      </button>\n",
              "      \n",
              "  <style>\n",
              "    .colab-df-container {\n",
              "      display:flex;\n",
              "      flex-wrap:wrap;\n",
              "      gap: 12px;\n",
              "    }\n",
              "\n",
              "    .colab-df-convert {\n",
              "      background-color: #E8F0FE;\n",
              "      border: none;\n",
              "      border-radius: 50%;\n",
              "      cursor: pointer;\n",
              "      display: none;\n",
              "      fill: #1967D2;\n",
              "      height: 32px;\n",
              "      padding: 0 0 0 0;\n",
              "      width: 32px;\n",
              "    }\n",
              "\n",
              "    .colab-df-convert:hover {\n",
              "      background-color: #E2EBFA;\n",
              "      box-shadow: 0px 1px 2px rgba(60, 64, 67, 0.3), 0px 1px 3px 1px rgba(60, 64, 67, 0.15);\n",
              "      fill: #174EA6;\n",
              "    }\n",
              "\n",
              "    [theme=dark] .colab-df-convert {\n",
              "      background-color: #3B4455;\n",
              "      fill: #D2E3FC;\n",
              "    }\n",
              "\n",
              "    [theme=dark] .colab-df-convert:hover {\n",
              "      background-color: #434B5C;\n",
              "      box-shadow: 0px 1px 3px 1px rgba(0, 0, 0, 0.15);\n",
              "      filter: drop-shadow(0px 1px 2px rgba(0, 0, 0, 0.3));\n",
              "      fill: #FFFFFF;\n",
              "    }\n",
              "  </style>\n",
              "\n",
              "      <script>\n",
              "        const buttonEl =\n",
              "          document.querySelector('#df-8550e7a8-8fc2-43ff-b92e-88c2b77865bf button.colab-df-convert');\n",
              "        buttonEl.style.display =\n",
              "          google.colab.kernel.accessAllowed ? 'block' : 'none';\n",
              "\n",
              "        async function convertToInteractive(key) {\n",
              "          const element = document.querySelector('#df-8550e7a8-8fc2-43ff-b92e-88c2b77865bf');\n",
              "          const dataTable =\n",
              "            await google.colab.kernel.invokeFunction('convertToInteractive',\n",
              "                                                     [key], {});\n",
              "          if (!dataTable) return;\n",
              "\n",
              "          const docLinkHtml = 'Like what you see? Visit the ' +\n",
              "            '<a target=\"_blank\" href=https://colab.research.google.com/notebooks/data_table.ipynb>data table notebook</a>'\n",
              "            + ' to learn more about interactive tables.';\n",
              "          element.innerHTML = '';\n",
              "          dataTable['output_type'] = 'display_data';\n",
              "          await google.colab.output.renderOutput(dataTable, element);\n",
              "          const docLink = document.createElement('div');\n",
              "          docLink.innerHTML = docLinkHtml;\n",
              "          element.appendChild(docLink);\n",
              "        }\n",
              "      </script>\n",
              "    </div>\n",
              "  </div>\n",
              "  "
            ]
          },
          "metadata": {},
          "execution_count": 164
        }
      ]
    },
    {
      "cell_type": "code",
      "metadata": {
        "colab": {
          "base_uri": "https://localhost:8080/"
        },
        "id": "ab2NiOPk5Ltf",
        "outputId": "21bde643-996c-4ee1-bb2e-985390861e90"
      },
      "source": [
        "vg_data.isnull().sum()"
      ],
      "execution_count": 165,
      "outputs": [
        {
          "output_type": "execute_result",
          "data": {
            "text/plain": [
              "Rank              0\n",
              "Name              0\n",
              "Platform          0\n",
              "Year            271\n",
              "Genre             0\n",
              "Publisher        58\n",
              "NA_Sales          0\n",
              "EU_Sales          0\n",
              "JP_Sales          0\n",
              "Other_Sales       0\n",
              "Global_Sales      0\n",
              "dtype: int64"
            ]
          },
          "metadata": {},
          "execution_count": 165
        }
      ]
    },
    {
      "cell_type": "code",
      "metadata": {
        "id": "D4ePz8XT5zsv"
      },
      "source": [
        "vg_data.dropna(subset = ['Publisher'], inplace = True)"
      ],
      "execution_count": 166,
      "outputs": []
    },
    {
      "cell_type": "code",
      "metadata": {
        "colab": {
          "base_uri": "https://localhost:8080/"
        },
        "id": "CjzeYQSG6v0H",
        "outputId": "2497a28f-5d26-47f7-ca62-b3c1d0defc13"
      },
      "source": [
        "np.floor(vg_data['Year'].mean())"
      ],
      "execution_count": 167,
      "outputs": [
        {
          "output_type": "execute_result",
          "data": {
            "text/plain": [
              "2006.0"
            ]
          },
          "metadata": {},
          "execution_count": 167
        }
      ]
    },
    {
      "cell_type": "code",
      "metadata": {
        "id": "gbtCWhOR6jxs"
      },
      "source": [
        "vg_data['Year'].fillna(np.floor(vg_data['Year'].mean()), inplace = True)"
      ],
      "execution_count": 168,
      "outputs": []
    },
    {
      "cell_type": "code",
      "metadata": {
        "id": "fTGVTpEAdRWR"
      },
      "source": [
        "sns.set(rc={'figure.figsize':(15,9)})"
      ],
      "execution_count": 169,
      "outputs": []
    },
    {
      "cell_type": "code",
      "metadata": {
        "colab": {
          "base_uri": "https://localhost:8080/",
          "height": 577
        },
        "id": "GNOqmxafb-WI",
        "outputId": "8509e310-cffc-4e2e-ae17-7048db383dd7"
      },
      "source": [
        "sns.countplot(x = vg_data['Genre'])"
      ],
      "execution_count": 170,
      "outputs": [
        {
          "output_type": "execute_result",
          "data": {
            "text/plain": [
              "<matplotlib.axes._subplots.AxesSubplot at 0x7f3ba6d3c7d0>"
            ]
          },
          "metadata": {},
          "execution_count": 170
        },
        {
          "output_type": "display_data",
          "data": {
            "text/plain": [
              "<Figure size 1080x648 with 1 Axes>"
            ],
            "image/png": "[encoded data removed]"
          },
          "metadata": {}
        }
      ]
    },
    {
      "cell_type": "code",
      "metadata": {
        "colab": {
          "base_uri": "https://localhost:8080/",
          "height": 424
        },
        "id": "_RuiJ8YifudT",
        "outputId": "fb42eb97-d78b-4f37-9fa1-ebb53bf66b81"
      },
      "source": [
        "vg_data.loc[vg_data['Publisher'] == 'Nintendo']"
      ],
      "execution_count": 171,
      "outputs": [
        {
          "output_type": "execute_result",
          "data": {
            "text/plain": [
              "        Rank                                               Name Platform  \\\n",
              "0          1                                         Wii Sports      Wii   \n",
              "1          2                                  Super Mario Bros.      NES   \n",
              "2          3                                     Mario Kart Wii      Wii   \n",
              "3          4                                  Wii Sports Resort      Wii   \n",
              "4          5                           Pokemon Red/Pokemon Blue       GB   \n",
              "...      ...                                                ...      ...   \n",
              "16269  16272                           Slide Adventure: Mag Kid       DS   \n",
              "16357  16360               Mario vs. Donkey Kong: Tipping Stars     WiiU   \n",
              "16456  16459                           Art Academy: Home Studio     WiiU   \n",
              "16473  16476                                    Captain Rainbow      Wii   \n",
              "16542  16545  Mario & Luigi: Paper Jam & Mario Kart 7 Double...      3DS   \n",
              "\n",
              "         Year         Genre Publisher  NA_Sales  EU_Sales  JP_Sales  \\\n",
              "0      2006.0        Sports  Nintendo     41.49     29.02      3.77   \n",
              "1      1985.0      Platform  Nintendo     29.08      3.58      6.81   \n",
              "2      2008.0        Racing  Nintendo     15.85     12.88      3.79   \n",
              "3      2009.0        Sports  Nintendo     15.75     11.01      3.28   \n",
              "4      1996.0  Role-Playing  Nintendo     11.27      8.89     10.22   \n",
              "...       ...           ...       ...       ...       ...       ...   \n",
              "16269  2007.0        Action  Nintendo      0.00      0.00      0.01   \n",
              "16357  2015.0        Puzzle  Nintendo      0.00      0.00      0.01   \n",
              "16456  2015.0          Misc  Nintendo      0.00      0.00      0.01   \n",
              "16473  2008.0     Adventure  Nintendo      0.00      0.00      0.01   \n",
              "16542  2015.0          Misc  Nintendo      0.00      0.00      0.01   \n",
              "\n",
              "       Other_Sales  Global_Sales  \n",
              "0             8.46         82.74  \n",
              "1             0.77         40.24  \n",
              "2             3.31         35.82  \n",
              "3             2.96         33.00  \n",
              "4             1.00         31.37  \n",
              "...            ...           ...  \n",
              "16269         0.00          0.01  \n",
              "16357         0.00          0.01  \n",
              "16456         0.00          0.01  \n",
              "16473         0.00          0.01  \n",
              "16542         0.00          0.01  \n",
              "\n",
              "[703 rows x 11 columns]"
            ],
            "text/html": [
              "\n",
              "  <div id=\"df-95671cfa-d43b-46df-811c-b797450ce3ba\">\n",
              "    <div class=\"colab-df-container\">\n",
              "      <div>\n",
              "<style scoped>\n",
              "    .dataframe tbody tr th:only-of-type {\n",
              "        vertical-align: middle;\n",
              "    }\n",
              "\n",
              "    .dataframe tbody tr th {\n",
              "        vertical-align: top;\n",
              "    }\n",
              "\n",
              "    .dataframe thead th {\n",
              "        text-align: right;\n",
              "    }\n",
              "</style>\n",
              "<table border=\"1\" class=\"dataframe\">\n",
              "  <thead>\n",
              "    <tr style=\"text-align: right;\">\n",
              "      <th></th>\n",
              "      <th>Rank</th>\n",
              "      <th>Name</th>\n",
              "      <th>Platform</th>\n",
              "      <th>Year</th>\n",
              "      <th>Genre</th>\n",
              "      <th>Publisher</th>\n",
              "      <th>NA_Sales</th>\n",
              "      <th>EU_Sales</th>\n",
              "      <th>JP_Sales</th>\n",
              "      <th>Other_Sales</th>\n",
              "      <th>Global_Sales</th>\n",
              "    </tr>\n",
              "  </thead>\n",
              "  <tbody>\n",
              "    <tr>\n",
              "      <th>0</th>\n",
              "      <td>1</td>\n",
              "      <td>Wii Sports</td>\n",
              "      <td>Wii</td>\n",
              "      <td>2006.0</td>\n",
              "      <td>Sports</td>\n",
              "      <td>Nintendo</td>\n",
              "      <td>41.49</td>\n",
              "      <td>29.02</td>\n",
              "      <td>3.77</td>\n",
              "      <td>8.46</td>\n",
              "      <td>82.74</td>\n",
              "    </tr>\n",
              "    <tr>\n",
              "      <th>1</th>\n",
              "      <td>2</td>\n",
              "      <td>Super Mario Bros.</td>\n",
              "      <td>NES</td>\n",
              "      <td>1985.0</td>\n",
              "      <td>Platform</td>\n",
              "      <td>Nintendo</td>\n",
              "      <td>29.08</td>\n",
              "      <td>3.58</td>\n",
              "      <td>6.81</td>\n",
              "      <td>0.77</td>\n",
              "      <td>40.24</td>\n",
              "    </tr>\n",
              "    <tr>\n",
              "      <th>2</th>\n",
              "      <td>3</td>\n",
              "      <td>Mario Kart Wii</td>\n",
              "      <td>Wii</td>\n",
              "      <td>2008.0</td>\n",
              "      <td>Racing</td>\n",
              "      <td>Nintendo</td>\n",
              "      <td>15.85</td>\n",
              "      <td>12.88</td>\n",
              "      <td>3.79</td>\n",
              "      <td>3.31</td>\n",
              "      <td>35.82</td>\n",
              "    </tr>\n",
              "    <tr>\n",
              "      <th>3</th>\n",
              "      <td>4</td>\n",
              "      <td>Wii Sports Resort</td>\n",
              "      <td>Wii</td>\n",
              "      <td>2009.0</td>\n",
              "      <td>Sports</td>\n",
              "      <td>Nintendo</td>\n",
              "      <td>15.75</td>\n",
              "      <td>11.01</td>\n",
              "      <td>3.28</td>\n",
              "      <td>2.96</td>\n",
              "      <td>33.00</td>\n",
              "    </tr>\n",
              "    <tr>\n",
              "      <th>4</th>\n",
              "      <td>5</td>\n",
              "      <td>Pokemon Red/Pokemon Blue</td>\n",
              "      <td>GB</td>\n",
              "      <td>1996.0</td>\n",
              "      <td>Role-Playing</td>\n",
              "      <td>Nintendo</td>\n",
              "      <td>11.27</td>\n",
              "      <td>8.89</td>\n",
              "      <td>10.22</td>\n",
              "      <td>1.00</td>\n",
              "      <td>31.37</td>\n",
              "    </tr>\n",
              "    <tr>\n",
              "      <th>...</th>\n",
              "      <td>...</td>\n",
              "      <td>...</td>\n",
              "      <td>...</td>\n",
              "      <td>...</td>\n",
              "      <td>...</td>\n",
              "      <td>...</td>\n",
              "      <td>...</td>\n",
              "      <td>...</td>\n",
              "      <td>...</td>\n",
              "      <td>...</td>\n",
              "      <td>...</td>\n",
              "    </tr>\n",
              "    <tr>\n",
              "      <th>16269</th>\n",
              "      <td>16272</td>\n",
              "      <td>Slide Adventure: Mag Kid</td>\n",
              "      <td>DS</td>\n",
              "      <td>2007.0</td>\n",
              "      <td>Action</td>\n",
              "      <td>Nintendo</td>\n",
              "      <td>0.00</td>\n",
              "      <td>0.00</td>\n",
              "      <td>0.01</td>\n",
              "      <td>0.00</td>\n",
              "      <td>0.01</td>\n",
              "    </tr>\n",
              "    <tr>\n",
              "      <th>16357</th>\n",
              "      <td>16360</td>\n",
              "      <td>Mario vs. Donkey Kong: Tipping Stars</td>\n",
              "      <td>WiiU</td>\n",
              "      <td>2015.0</td>\n",
              "      <td>Puzzle</td>\n",
              "      <td>Nintendo</td>\n",
              "      <td>0.00</td>\n",
              "      <td>0.00</td>\n",
              "      <td>0.01</td>\n",
              "      <td>0.00</td>\n",
              "      <td>0.01</td>\n",
              "    </tr>\n",
              "    <tr>\n",
              "      <th>16456</th>\n",
              "      <td>16459</td>\n",
              "      <td>Art Academy: Home Studio</td>\n",
              "      <td>WiiU</td>\n",
              "      <td>2015.0</td>\n",
              "      <td>Misc</td>\n",
              "      <td>Nintendo</td>\n",
              "      <td>0.00</td>\n",
              "      <td>0.00</td>\n",
              "      <td>0.01</td>\n",
              "      <td>0.00</td>\n",
              "      <td>0.01</td>\n",
              "    </tr>\n",
              "    <tr>\n",
              "      <th>16473</th>\n",
              "      <td>16476</td>\n",
              "      <td>Captain Rainbow</td>\n",
              "      <td>Wii</td>\n",
              "      <td>2008.0</td>\n",
              "      <td>Adventure</td>\n",
              "      <td>Nintendo</td>\n",
              "      <td>0.00</td>\n",
              "      <td>0.00</td>\n",
              "      <td>0.01</td>\n",
              "      <td>0.00</td>\n",
              "      <td>0.01</td>\n",
              "    </tr>\n",
              "    <tr>\n",
              "      <th>16542</th>\n",
              "      <td>16545</td>\n",
              "      <td>Mario &amp; Luigi: Paper Jam &amp; Mario Kart 7 Double...</td>\n",
              "      <td>3DS</td>\n",
              "      <td>2015.0</td>\n",
              "      <td>Misc</td>\n",
              "      <td>Nintendo</td>\n",
              "      <td>0.00</td>\n",
              "      <td>0.00</td>\n",
              "      <td>0.01</td>\n",
              "      <td>0.00</td>\n",
              "      <td>0.01</td>\n",
              "    </tr>\n",
              "  </tbody>\n",
              "</table>\n",
              "<p>703 rows × 11 columns</p>\n",
              "</div>\n",
              "      <button class=\"colab-df-convert\" onclick=\"convertToInteractive('df-95671cfa-d43b-46df-811c-b797450ce3ba')\"\n",
              "              title=\"Convert this dataframe to an interactive table.\"\n",
              "              style=\"display:none;\">\n",
              "        \n",
              "  <svg xmlns=\"http://www.w3.org/2000/svg\" height=\"24px\"viewBox=\"0 0 24 24\"\n",
              "       width=\"24px\">\n",
              "    <path d=\"M0 0h24v24H0V0z\" fill=\"none\"/>\n",
              "    <path d=\"M18.56 5.44l.94 2.06.94-2.06 2.06-.94-2.06-.94-.94-2.06-.94 2.06-2.06.94zm-11 1L8.5 8.5l.94-2.06 2.06-.94-2.06-.94L8.5 2.5l-.94 2.06-2.06.94zm10 10l.94 2.06.94-2.06 2.06-.94-2.06-.94-.94-2.06-.94 2.06-2.06.94z\"/><path d=\"M17.41 7.96l-1.37-1.37c-.4-.4-.92-.59-1.43-.59-.52 0-1.04.2-1.43.59L10.3 9.45l-7.72 7.72c-.78.78-.78 2.05 0 2.83L4 21.41c.39.39.9.59 1.41.59.51 0 1.02-.2 1.41-.59l7.78-7.78 2.81-2.81c.8-.78.8-2.07 0-2.86zM5.41 20L4 18.59l7.72-7.72 1.47 1.35L5.41 20z\"/>\n",
              "  </svg>\n",
              "      </button>\n",
              "      \n",
              "  <style>\n",
              "    .colab-df-container {\n",
              "      display:flex;\n",
              "      flex-wrap:wrap;\n",
              "      gap: 12px;\n",
              "    }\n",
              "\n",
              "    .colab-df-convert {\n",
              "      background-color: #E8F0FE;\n",
              "      border: none;\n",
              "      border-radius: 50%;\n",
              "      cursor: pointer;\n",
              "      display: none;\n",
              "      fill: #1967D2;\n",
              "      height: 32px;\n",
              "      padding: 0 0 0 0;\n",
              "      width: 32px;\n",
              "    }\n",
              "\n",
              "    .colab-df-convert:hover {\n",
              "      background-color: #E2EBFA;\n",
              "      box-shadow: 0px 1px 2px rgba(60, 64, 67, 0.3), 0px 1px 3px 1px rgba(60, 64, 67, 0.15);\n",
              "      fill: #174EA6;\n",
              "    }\n",
              "\n",
              "    [theme=dark] .colab-df-convert {\n",
              "      background-color: #3B4455;\n",
              "      fill: #D2E3FC;\n",
              "    }\n",
              "\n",
              "    [theme=dark] .colab-df-convert:hover {\n",
              "      background-color: #434B5C;\n",
              "      box-shadow: 0px 1px 3px 1px rgba(0, 0, 0, 0.15);\n",
              "      filter: drop-shadow(0px 1px 2px rgba(0, 0, 0, 0.3));\n",
              "      fill: #FFFFFF;\n",
              "    }\n",
              "  </style>\n",
              "\n",
              "      <script>\n",
              "        const buttonEl =\n",
              "          document.querySelector('#df-95671cfa-d43b-46df-811c-b797450ce3ba button.colab-df-convert');\n",
              "        buttonEl.style.display =\n",
              "          google.colab.kernel.accessAllowed ? 'block' : 'none';\n",
              "\n",
              "        async function convertToInteractive(key) {\n",
              "          const element = document.querySelector('#df-95671cfa-d43b-46df-811c-b797450ce3ba');\n",
              "          const dataTable =\n",
              "            await google.colab.kernel.invokeFunction('convertToInteractive',\n",
              "                                                     [key], {});\n",
              "          if (!dataTable) return;\n",
              "\n",
              "          const docLinkHtml = 'Like what you see? Visit the ' +\n",
              "            '<a target=\"_blank\" href=https://colab.research.google.com/notebooks/data_table.ipynb>data table notebook</a>'\n",
              "            + ' to learn more about interactive tables.';\n",
              "          element.innerHTML = '';\n",
              "          dataTable['output_type'] = 'display_data';\n",
              "          await google.colab.output.renderOutput(dataTable, element);\n",
              "          const docLink = document.createElement('div');\n",
              "          docLink.innerHTML = docLinkHtml;\n",
              "          element.appendChild(docLink);\n",
              "        }\n",
              "      </script>\n",
              "    </div>\n",
              "  </div>\n",
              "  "
            ]
          },
          "metadata": {},
          "execution_count": 171
        }
      ]
    },
    {
      "cell_type": "code",
      "metadata": {
        "colab": {
          "base_uri": "https://localhost:8080/"
        },
        "id": "UmRvIrS2guh2",
        "outputId": "ae57c5b8-e27c-4ff9-9ebc-6609033452e0"
      },
      "source": [
        "vg_data.groupby('Publisher').size()"
      ],
      "execution_count": 172,
      "outputs": [
        {
          "output_type": "execute_result",
          "data": {
            "text/plain": [
              "Publisher\n",
              "10TACLE Studios                  3\n",
              "1C Company                       3\n",
              "20th Century Fox Video Games     5\n",
              "2D Boy                           1\n",
              "3DO                             36\n",
              "                                ..\n",
              "id Software                      1\n",
              "imageepoch Inc.                  2\n",
              "inXile Entertainment             1\n",
              "mixi, Inc                        1\n",
              "responDESIGN                     2\n",
              "Length: 578, dtype: int64"
            ]
          },
          "metadata": {},
          "execution_count": 172
        }
      ]
    },
    {
      "cell_type": "code",
      "metadata": {
        "colab": {
          "base_uri": "https://localhost:8080/"
        },
        "id": "pslZ7zH1hpcq",
        "outputId": "98b5715a-6654-4879-deab-350c417a63fe"
      },
      "source": [
        "gn = vg_data.groupby('Genre').size()\n",
        "gn.keys()"
      ],
      "execution_count": 173,
      "outputs": [
        {
          "output_type": "execute_result",
          "data": {
            "text/plain": [
              "Index(['Action', 'Adventure', 'Fighting', 'Misc', 'Platform', 'Puzzle',\n",
              "       'Racing', 'Role-Playing', 'Shooter', 'Simulation', 'Sports',\n",
              "       'Strategy'],\n",
              "      dtype='object', name='Genre')"
            ]
          },
          "metadata": {},
          "execution_count": 173
        }
      ]
    },
    {
      "cell_type": "code",
      "metadata": {
        "colab": {
          "base_uri": "https://localhost:8080/"
        },
        "id": "VNRjjQGch-WP",
        "outputId": "7248c05b-3e44-4274-8954-52373ecf9189"
      },
      "source": [
        "labels = vg_data['Genre'].unique()\n",
        "labels"
      ],
      "execution_count": 174,
      "outputs": [
        {
          "output_type": "execute_result",
          "data": {
            "text/plain": [
              "array(['Sports', 'Platform', 'Racing', 'Role-Playing', 'Puzzle', 'Misc',\n",
              "       'Shooter', 'Simulation', 'Action', 'Fighting', 'Adventure',\n",
              "       'Strategy'], dtype=object)"
            ]
          },
          "metadata": {},
          "execution_count": 174
        }
      ]
    },
    {
      "cell_type": "code",
      "metadata": {
        "colab": {
          "base_uri": "https://localhost:8080/",
          "height": 542
        },
        "id": "jSlRdb3RedTH",
        "outputId": "aed406d4-9fec-4c64-96a8-46b4c08382a4"
      },
      "source": [
        "fig = px.pie(vg_data, names = gn.keys(), values = gn)\n",
        "fig.show()"
      ],
      "execution_count": 175,
      "outputs": [
        {
          "output_type": "display_data",
          "data": {
            "text/html": [
              "<html>\n",
              "<head><meta charset=\"utf-8\" /></head>\n",
              "<body>\n",
              "    <div>            <script src=\"https://cdnjs.cloudflare.com/ajax/libs/mathjax/2.7.5/MathJax.js?config=TeX-AMS-MML_SVG\"></script><script type=\"text/javascript\">if (window.MathJax) {MathJax.Hub.Config({SVG: {font: \"STIX-Web\"}});}</script>                <script type=\"text/javascript\">window.PlotlyConfig = {MathJaxConfig: 'local'};</script>\n",
              "        <script src=\"https://cdn.plot.ly/plotly-2.8.3.min.js\"></script>                <div id=\"155aca57-f367-4ae5-9a02-0924e4535f7c\" class=\"plotly-graph-div\" style=\"height:525px; width:100%;\"></div>            <script type=\"text/javascript\">                                    window.PLOTLYENV=window.PLOTLYENV || {};                                    if (document.getElementById(\"155aca57-f367-4ae5-9a02-0924e4535f7c\")) {                    Plotly.newPlot(                        \"155aca57-f367-4ae5-9a02-0924e4535f7c\",                        [{\"domain\":{\"x\":[0.0,1.0],\"y\":[0.0,1.0]},\"hovertemplate\":\"label=%{label}<br>value=%{value}<extra></extra>\",\"labels\":[\"Action\",\"Adventure\",\"Fighting\",\"Misc\",\"Platform\",\"Puzzle\",\"Racing\",\"Role-Playing\",\"Shooter\",\"Simulation\",\"Sports\",\"Strategy\"],\"legendgroup\":\"\",\"name\":\"\",\"showlegend\":true,\"values\":[3309,1282,846,1712,884,581,1248,1486,1308,863,2343,678],\"type\":\"pie\"}],                        {\"template\":{\"data\":{\"bar\":[{\"error_x\":{\"color\":\"#2a3f5f\"},\"error_y\":{\"color\":\"#2a3f5f\"},\"marker\":{\"line\":{\"color\":\"#E5ECF6\",\"width\":0.5},\"pattern\":{\"fillmode\":\"overlay\",\"size\":10,\"solidity\":0.2}},\"type\":\"bar\"}],\"barpolar\":[{\"marker\":{\"line\":{\"color\":\"#E5ECF6\",\"width\":0.5},\"pattern\":{\"fillmode\":\"overlay\",\"size\":10,\"solidity\":0.2}},\"type\":\"barpolar\"}],\"carpet\":[{\"aaxis\":{\"endlinecolor\":\"#2a3f5f\",\"gridcolor\":\"white\",\"linecolor\":\"white\",\"minorgridcolor\":\"white\",\"startlinecolor\":\"#2a3f5f\"},\"baxis\":{\"endlinecolor\":\"#2a3f5f\",\"gridcolor\":\"white\",\"linecolor\":\"white\",\"minorgridcolor\":\"white\",\"startlinecolor\":\"#2a3f5f\"},\"type\":\"carpet\"}],\"choropleth\":[{\"colorbar\":{\"outlinewidth\":0,\"ticks\":\"\"},\"type\":\"choropleth\"}],\"contour\":[{\"colorbar\":{\"outlinewidth\":0,\"ticks\":\"\"},\"colorscale\":[[0.0,\"#0d0887\"],[0.1111111111111111,\"#46039f\"],[0.2222222222222222,\"#7201a8\"],[0.3333333333333333,\"#9c179e\"],[0.4444444444444444,\"#bd3786\"],[0.5555555555555556,\"#d8576b\"],[0.6666666666666666,\"#ed7953\"],[0.7777777777777778,\"#fb9f3a\"],[0.8888888888888888,\"#fdca26\"],[1.0,\"#f0f921\"]],\"type\":\"contour\"}],\"contourcarpet\":[{\"colorbar\":{\"outlinewidth\":0,\"ticks\":\"\"},\"type\":\"contourcarpet\"}],\"heatmap\":[{\"colorbar\":{\"outlinewidth\":0,\"ticks\":\"\"},\"colorscale\":[[0.0,\"#0d0887\"],[0.1111111111111111,\"#46039f\"],[0.2222222222222222,\"#7201a8\"],[0.3333333333333333,\"#9c179e\"],[0.4444444444444444,\"#bd3786\"],[0.5555555555555556,\"#d8576b\"],[0.6666666666666666,\"#ed7953\"],[0.7777777777777778,\"#fb9f3a\"],[0.8888888888888888,\"#fdca26\"],[1.0,\"#f0f921\"]],\"type\":\"heatmap\"}],\"heatmapgl\":[{\"colorbar\":{\"outlinewidth\":0,\"ticks\":\"\"},\"colorscale\":[[0.0,\"#0d0887\"],[0.1111111111111111,\"#46039f\"],[0.2222222222222222,\"#7201a8\"],[0.3333333333333333,\"#9c179e\"],[0.4444444444444444,\"#bd3786\"],[0.5555555555555556,\"#d8576b\"],[0.6666666666666666,\"#ed7953\"],[0.7777777777777778,\"#fb9f3a\"],[0.8888888888888888,\"#fdca26\"],[1.0,\"#f0f921\"]],\"type\":\"heatmapgl\"}],\"histogram\":[{\"marker\":{\"pattern\":{\"fillmode\":\"overlay\",\"size\":10,\"solidity\":0.2}},\"type\":\"histogram\"}],\"histogram2d\":[{\"colorbar\":{\"outlinewidth\":0,\"ticks\":\"\"},\"colorscale\":[[0.0,\"#0d0887\"],[0.1111111111111111,\"#46039f\"],[0.2222222222222222,\"#7201a8\"],[0.3333333333333333,\"#9c179e\"],[0.4444444444444444,\"#bd3786\"],[0.5555555555555556,\"#d8576b\"],[0.6666666666666666,\"#ed7953\"],[0.7777777777777778,\"#fb9f3a\"],[0.8888888888888888,\"#fdca26\"],[1.0,\"#f0f921\"]],\"type\":\"histogram2d\"}],\"histogram2dcontour\":[{\"colorbar\":{\"outlinewidth\":0,\"ticks\":\"\"},\"colorscale\":[[0.0,\"#0d0887\"],[0.1111111111111111,\"#46039f\"],[0.2222222222222222,\"#7201a8\"],[0.3333333333333333,\"#9c179e\"],[0.4444444444444444,\"#bd3786\"],[0.5555555555555556,\"#d8576b\"],[0.6666666666666666,\"#ed7953\"],[0.7777777777777778,\"#fb9f3a\"],[0.8888888888888888,\"#fdca26\"],[1.0,\"#f0f921\"]],\"type\":\"histogram2dcontour\"}],\"mesh3d\":[{\"colorbar\":{\"outlinewidth\":0,\"ticks\":\"\"},\"type\":\"mesh3d\"}],\"parcoords\":[{\"line\":{\"colorbar\":{\"outlinewidth\":0,\"ticks\":\"\"}},\"type\":\"parcoords\"}],\"pie\":[{\"automargin\":true,\"type\":\"pie\"}],\"scatter\":[{\"marker\":{\"colorbar\":{\"outlinewidth\":0,\"ticks\":\"\"}},\"type\":\"scatter\"}],\"scatter3d\":[{\"line\":{\"colorbar\":{\"outlinewidth\":0,\"ticks\":\"\"}},\"marker\":{\"colorbar\":{\"outlinewidth\":0,\"ticks\":\"\"}},\"type\":\"scatter3d\"}],\"scattercarpet\":[{\"marker\":{\"colorbar\":{\"outlinewidth\":0,\"ticks\":\"\"}},\"type\":\"scattercarpet\"}],\"scattergeo\":[{\"marker\":{\"colorbar\":{\"outlinewidth\":0,\"ticks\":\"\"}},\"type\":\"scattergeo\"}],\"scattergl\":[{\"marker\":{\"colorbar\":{\"outlinewidth\":0,\"ticks\":\"\"}},\"type\":\"scattergl\"}],\"scattermapbox\":[{\"marker\":{\"colorbar\":{\"outlinewidth\":0,\"ticks\":\"\"}},\"type\":\"scattermapbox\"}],\"scatterpolar\":[{\"marker\":{\"colorbar\":{\"outlinewidth\":0,\"ticks\":\"\"}},\"type\":\"scatterpolar\"}],\"scatterpolargl\":[{\"marker\":{\"colorbar\":{\"outlinewidth\":0,\"ticks\":\"\"}},\"type\":\"scatterpolargl\"}],\"scatterternary\":[{\"marker\":{\"colorbar\":{\"outlinewidth\":0,\"ticks\":\"\"}},\"type\":\"scatterternary\"}],\"surface\":[{\"colorbar\":{\"outlinewidth\":0,\"ticks\":\"\"},\"colorscale\":[[0.0,\"#0d0887\"],[0.1111111111111111,\"#46039f\"],[0.2222222222222222,\"#7201a8\"],[0.3333333333333333,\"#9c179e\"],[0.4444444444444444,\"#bd3786\"],[0.5555555555555556,\"#d8576b\"],[0.6666666666666666,\"#ed7953\"],[0.7777777777777778,\"#fb9f3a\"],[0.8888888888888888,\"#fdca26\"],[1.0,\"#f0f921\"]],\"type\":\"surface\"}],\"table\":[{\"cells\":{\"fill\":{\"color\":\"#EBF0F8\"},\"line\":{\"color\":\"white\"}},\"header\":{\"fill\":{\"color\":\"#C8D4E3\"},\"line\":{\"color\":\"white\"}},\"type\":\"table\"}]},\"layout\":{\"annotationdefaults\":{\"arrowcolor\":\"#2a3f5f\",\"arrowhead\":0,\"arrowwidth\":1},\"autotypenumbers\":\"strict\",\"coloraxis\":{\"colorbar\":{\"outlinewidth\":0,\"ticks\":\"\"}},\"colorscale\":{\"diverging\":[[0,\"#8e0152\"],[0.1,\"#c51b7d\"],[0.2,\"#de77ae\"],[0.3,\"#f1b6da\"],[0.4,\"#fde0ef\"],[0.5,\"#f7f7f7\"],[0.6,\"#e6f5d0\"],[0.7,\"#b8e186\"],[0.8,\"#7fbc41\"],[0.9,\"#4d9221\"],[1,\"#276419\"]],\"sequential\":[[0.0,\"#0d0887\"],[0.1111111111111111,\"#46039f\"],[0.2222222222222222,\"#7201a8\"],[0.3333333333333333,\"#9c179e\"],[0.4444444444444444,\"#bd3786\"],[0.5555555555555556,\"#d8576b\"],[0.6666666666666666,\"#ed7953\"],[0.7777777777777778,\"#fb9f3a\"],[0.8888888888888888,\"#fdca26\"],[1.0,\"#f0f921\"]],\"sequentialminus\":[[0.0,\"#0d0887\"],[0.1111111111111111,\"#46039f\"],[0.2222222222222222,\"#7201a8\"],[0.3333333333333333,\"#9c179e\"],[0.4444444444444444,\"#bd3786\"],[0.5555555555555556,\"#d8576b\"],[0.6666666666666666,\"#ed7953\"],[0.7777777777777778,\"#fb9f3a\"],[0.8888888888888888,\"#fdca26\"],[1.0,\"#f0f921\"]]},\"colorway\":[\"#636efa\",\"#EF553B\",\"#00cc96\",\"#ab63fa\",\"#FFA15A\",\"#19d3f3\",\"#FF6692\",\"#B6E880\",\"#FF97FF\",\"#FECB52\"],\"font\":{\"color\":\"#2a3f5f\"},\"geo\":{\"bgcolor\":\"white\",\"lakecolor\":\"white\",\"landcolor\":\"#E5ECF6\",\"showlakes\":true,\"showland\":true,\"subunitcolor\":\"white\"},\"hoverlabel\":{\"align\":\"left\"},\"hovermode\":\"closest\",\"mapbox\":{\"style\":\"light\"},\"paper_bgcolor\":\"white\",\"plot_bgcolor\":\"#E5ECF6\",\"polar\":{\"angularaxis\":{\"gridcolor\":\"white\",\"linecolor\":\"white\",\"ticks\":\"\"},\"bgcolor\":\"#E5ECF6\",\"radialaxis\":{\"gridcolor\":\"white\",\"linecolor\":\"white\",\"ticks\":\"\"}},\"scene\":{\"xaxis\":{\"backgroundcolor\":\"#E5ECF6\",\"gridcolor\":\"white\",\"gridwidth\":2,\"linecolor\":\"white\",\"showbackground\":true,\"ticks\":\"\",\"zerolinecolor\":\"white\"},\"yaxis\":{\"backgroundcolor\":\"#E5ECF6\",\"gridcolor\":\"white\",\"gridwidth\":2,\"linecolor\":\"white\",\"showbackground\":true,\"ticks\":\"\",\"zerolinecolor\":\"white\"},\"zaxis\":{\"backgroundcolor\":\"#E5ECF6\",\"gridcolor\":\"white\",\"gridwidth\":2,\"linecolor\":\"white\",\"showbackground\":true,\"ticks\":\"\",\"zerolinecolor\":\"white\"}},\"shapedefaults\":{\"line\":{\"color\":\"#2a3f5f\"}},\"ternary\":{\"aaxis\":{\"gridcolor\":\"white\",\"linecolor\":\"white\",\"ticks\":\"\"},\"baxis\":{\"gridcolor\":\"white\",\"linecolor\":\"white\",\"ticks\":\"\"},\"bgcolor\":\"#E5ECF6\",\"caxis\":{\"gridcolor\":\"white\",\"linecolor\":\"white\",\"ticks\":\"\"}},\"title\":{\"x\":0.05},\"xaxis\":{\"automargin\":true,\"gridcolor\":\"white\",\"linecolor\":\"white\",\"ticks\":\"\",\"title\":{\"standoff\":15},\"zerolinecolor\":\"white\",\"zerolinewidth\":2},\"yaxis\":{\"automargin\":true,\"gridcolor\":\"white\",\"linecolor\":\"white\",\"ticks\":\"\",\"title\":{\"standoff\":15},\"zerolinecolor\":\"white\",\"zerolinewidth\":2}}},\"legend\":{\"tracegroupgap\":0},\"margin\":{\"t\":60}},                        {\"responsive\": true}                    ).then(function(){\n",
              "                            \n",
              "var gd = document.getElementById('155aca57-f367-4ae5-9a02-0924e4535f7c');\n",
              "var x = new MutationObserver(function (mutations, observer) {{\n",
              "        var display = window.getComputedStyle(gd).display;\n",
              "        if (!display || display === 'none') {{\n",
              "            console.log([gd, 'removed!']);\n",
              "            Plotly.purge(gd);\n",
              "            observer.disconnect();\n",
              "        }}\n",
              "}});\n",
              "\n",
              "// Listen for the removal of the full notebook cells\n",
              "var notebookContainer = gd.closest('#notebook-container');\n",
              "if (notebookContainer) {{\n",
              "    x.observe(notebookContainer, {childList: true});\n",
              "}}\n",
              "\n",
              "// Listen for the clearing of the current output cell\n",
              "var outputEl = gd.closest('.output');\n",
              "if (outputEl) {{\n",
              "    x.observe(outputEl, {childList: true});\n",
              "}}\n",
              "\n",
              "                        })                };                            </script>        </div>\n",
              "</body>\n",
              "</html>"
            ]
          },
          "metadata": {}
        }
      ]
    },
    {
      "cell_type": "code",
      "metadata": {
        "colab": {
          "base_uri": "https://localhost:8080/"
        },
        "id": "ORGQ80gbmDWb",
        "outputId": "608983b3-6973-4a64-dca9-a8d2b40ad6bc"
      },
      "source": [
        "vg_data['Platform'].unique()"
      ],
      "execution_count": 176,
      "outputs": [
        {
          "output_type": "execute_result",
          "data": {
            "text/plain": [
              "array(['Wii', 'NES', 'GB', 'DS', 'X360', 'PS3', 'PS2', 'SNES', 'GBA',\n",
              "       '3DS', 'PS4', 'N64', 'PS', 'XB', 'PC', '2600', 'PSP', 'XOne', 'GC',\n",
              "       'WiiU', 'GEN', 'DC', 'PSV', 'SAT', 'SCD', 'WS', 'NG', 'TG16',\n",
              "       '3DO', 'GG', 'PCFX'], dtype=object)"
            ]
          },
          "metadata": {},
          "execution_count": 176
        }
      ]
    },
    {
      "cell_type": "code",
      "metadata": {
        "colab": {
          "base_uri": "https://localhost:8080/",
          "height": 424
        },
        "id": "GzhLRV2-mucK",
        "outputId": "8e720d17-cc47-461c-9087-dec81675e0eb"
      },
      "source": [
        "ps3 = vg_data[vg_data['Platform'] == 'PS3']\n",
        "ps3"
      ],
      "execution_count": 177,
      "outputs": [
        {
          "output_type": "execute_result",
          "data": {
            "text/plain": [
              "        Rank                                               Name Platform  \\\n",
              "16        17                                 Grand Theft Auto V      PS3   \n",
              "34        35                         Call of Duty: Black Ops II      PS3   \n",
              "37        38                     Call of Duty: Modern Warfare 3      PS3   \n",
              "40        41                            Call of Duty: Black Ops      PS3   \n",
              "54        55                                     Gran Turismo 5      PS3   \n",
              "...      ...                                                ...      ...   \n",
              "16450  16453                        Hyperdimension Neptunia mk2      PS3   \n",
              "16451  16454  Shin Koihime Musou: Otome Taisen * Sangokushi ...      PS3   \n",
              "16480  16483                                Muv-Luv Alternative      PS3   \n",
              "16521  16524                           Akatsuki no Goei Trinity      PS3   \n",
              "16541  16544                                    Battle Fantasia      PS3   \n",
              "\n",
              "         Year       Genre                    Publisher  NA_Sales  EU_Sales  \\\n",
              "16     2013.0      Action         Take-Two Interactive      7.01      9.27   \n",
              "34     2012.0     Shooter                   Activision      4.99      5.88   \n",
              "37     2011.0     Shooter                   Activision      5.54      5.82   \n",
              "40     2010.0     Shooter                   Activision      5.98      4.44   \n",
              "54     2010.0      Racing  Sony Computer Entertainment      2.96      4.88   \n",
              "...       ...         ...                          ...       ...       ...   \n",
              "16450  2011.0      Action         Nippon Ichi Software      0.00      0.01   \n",
              "16451  2014.0   Adventure                        Views      0.00      0.00   \n",
              "16480  2012.0  Simulation                          5pb      0.00      0.00   \n",
              "16521  2012.0   Adventure                          5pb      0.00      0.00   \n",
              "16541  2008.0    Fighting                    505 Games      0.00      0.00   \n",
              "\n",
              "       JP_Sales  Other_Sales  Global_Sales  \n",
              "16         0.97         4.14         21.40  \n",
              "34         0.65         2.52         14.03  \n",
              "37         0.49         1.62         13.46  \n",
              "40         0.48         1.83         12.73  \n",
              "54         0.81         2.12         10.77  \n",
              "...         ...          ...           ...  \n",
              "16450      0.00         0.00          0.01  \n",
              "16451      0.01         0.00          0.01  \n",
              "16480      0.01         0.00          0.01  \n",
              "16521      0.01         0.00          0.01  \n",
              "16541      0.01         0.00          0.01  \n",
              "\n",
              "[1326 rows x 11 columns]"
            ],
            "text/html": [
              "\n",
              "  <div id=\"df-08232d42-03b3-4bfc-97be-6fc4e4d3926e\">\n",
              "    <div class=\"colab-df-container\">\n",
              "      <div>\n",
              "<style scoped>\n",
              "    .dataframe tbody tr th:only-of-type {\n",
              "        vertical-align: middle;\n",
              "    }\n",
              "\n",
              "    .dataframe tbody tr th {\n",
              "        vertical-align: top;\n",
              "    }\n",
              "\n",
              "    .dataframe thead th {\n",
              "        text-align: right;\n",
              "    }\n",
              "</style>\n",
              "<table border=\"1\" class=\"dataframe\">\n",
              "  <thead>\n",
              "    <tr style=\"text-align: right;\">\n",
              "      <th></th>\n",
              "      <th>Rank</th>\n",
              "      <th>Name</th>\n",
              "      <th>Platform</th>\n",
              "      <th>Year</th>\n",
              "      <th>Genre</th>\n",
              "      <th>Publisher</th>\n",
              "      <th>NA_Sales</th>\n",
              "      <th>EU_Sales</th>\n",
              "      <th>JP_Sales</th>\n",
              "      <th>Other_Sales</th>\n",
              "      <th>Global_Sales</th>\n",
              "    </tr>\n",
              "  </thead>\n",
              "  <tbody>\n",
              "    <tr>\n",
              "      <th>16</th>\n",
              "      <td>17</td>\n",
              "      <td>Grand Theft Auto V</td>\n",
              "      <td>PS3</td>\n",
              "      <td>2013.0</td>\n",
              "      <td>Action</td>\n",
              "      <td>Take-Two Interactive</td>\n",
              "      <td>7.01</td>\n",
              "      <td>9.27</td>\n",
              "      <td>0.97</td>\n",
              "      <td>4.14</td>\n",
              "      <td>21.40</td>\n",
              "    </tr>\n",
              "    <tr>\n",
              "      <th>34</th>\n",
              "      <td>35</td>\n",
              "      <td>Call of Duty: Black Ops II</td>\n",
              "      <td>PS3</td>\n",
              "      <td>2012.0</td>\n",
              "      <td>Shooter</td>\n",
              "      <td>Activision</td>\n",
              "      <td>4.99</td>\n",
              "      <td>5.88</td>\n",
              "      <td>0.65</td>\n",
              "      <td>2.52</td>\n",
              "      <td>14.03</td>\n",
              "    </tr>\n",
              "    <tr>\n",
              "      <th>37</th>\n",
              "      <td>38</td>\n",
              "      <td>Call of Duty: Modern Warfare 3</td>\n",
              "      <td>PS3</td>\n",
              "      <td>2011.0</td>\n",
              "      <td>Shooter</td>\n",
              "      <td>Activision</td>\n",
              "      <td>5.54</td>\n",
              "      <td>5.82</td>\n",
              "      <td>0.49</td>\n",
              "      <td>1.62</td>\n",
              "      <td>13.46</td>\n",
              "    </tr>\n",
              "    <tr>\n",
              "      <th>40</th>\n",
              "      <td>41</td>\n",
              "      <td>Call of Duty: Black Ops</td>\n",
              "      <td>PS3</td>\n",
              "      <td>2010.0</td>\n",
              "      <td>Shooter</td>\n",
              "      <td>Activision</td>\n",
              "      <td>5.98</td>\n",
              "      <td>4.44</td>\n",
              "      <td>0.48</td>\n",
              "      <td>1.83</td>\n",
              "      <td>12.73</td>\n",
              "    </tr>\n",
              "    <tr>\n",
              "      <th>54</th>\n",
              "      <td>55</td>\n",
              "      <td>Gran Turismo 5</td>\n",
              "      <td>PS3</td>\n",
              "      <td>2010.0</td>\n",
              "      <td>Racing</td>\n",
              "      <td>Sony Computer Entertainment</td>\n",
              "      <td>2.96</td>\n",
              "      <td>4.88</td>\n",
              "      <td>0.81</td>\n",
              "      <td>2.12</td>\n",
              "      <td>10.77</td>\n",
              "    </tr>\n",
              "    <tr>\n",
              "      <th>...</th>\n",
              "      <td>...</td>\n",
              "      <td>...</td>\n",
              "      <td>...</td>\n",
              "      <td>...</td>\n",
              "      <td>...</td>\n",
              "      <td>...</td>\n",
              "      <td>...</td>\n",
              "      <td>...</td>\n",
              "      <td>...</td>\n",
              "      <td>...</td>\n",
              "      <td>...</td>\n",
              "    </tr>\n",
              "    <tr>\n",
              "      <th>16450</th>\n",
              "      <td>16453</td>\n",
              "      <td>Hyperdimension Neptunia mk2</td>\n",
              "      <td>PS3</td>\n",
              "      <td>2011.0</td>\n",
              "      <td>Action</td>\n",
              "      <td>Nippon Ichi Software</td>\n",
              "      <td>0.00</td>\n",
              "      <td>0.01</td>\n",
              "      <td>0.00</td>\n",
              "      <td>0.00</td>\n",
              "      <td>0.01</td>\n",
              "    </tr>\n",
              "    <tr>\n",
              "      <th>16451</th>\n",
              "      <td>16454</td>\n",
              "      <td>Shin Koihime Musou: Otome Taisen * Sangokushi ...</td>\n",
              "      <td>PS3</td>\n",
              "      <td>2014.0</td>\n",
              "      <td>Adventure</td>\n",
              "      <td>Views</td>\n",
              "      <td>0.00</td>\n",
              "      <td>0.00</td>\n",
              "      <td>0.01</td>\n",
              "      <td>0.00</td>\n",
              "      <td>0.01</td>\n",
              "    </tr>\n",
              "    <tr>\n",
              "      <th>16480</th>\n",
              "      <td>16483</td>\n",
              "      <td>Muv-Luv Alternative</td>\n",
              "      <td>PS3</td>\n",
              "      <td>2012.0</td>\n",
              "      <td>Simulation</td>\n",
              "      <td>5pb</td>\n",
              "      <td>0.00</td>\n",
              "      <td>0.00</td>\n",
              "      <td>0.01</td>\n",
              "      <td>0.00</td>\n",
              "      <td>0.01</td>\n",
              "    </tr>\n",
              "    <tr>\n",
              "      <th>16521</th>\n",
              "      <td>16524</td>\n",
              "      <td>Akatsuki no Goei Trinity</td>\n",
              "      <td>PS3</td>\n",
              "      <td>2012.0</td>\n",
              "      <td>Adventure</td>\n",
              "      <td>5pb</td>\n",
              "      <td>0.00</td>\n",
              "      <td>0.00</td>\n",
              "      <td>0.01</td>\n",
              "      <td>0.00</td>\n",
              "      <td>0.01</td>\n",
              "    </tr>\n",
              "    <tr>\n",
              "      <th>16541</th>\n",
              "      <td>16544</td>\n",
              "      <td>Battle Fantasia</td>\n",
              "      <td>PS3</td>\n",
              "      <td>2008.0</td>\n",
              "      <td>Fighting</td>\n",
              "      <td>505 Games</td>\n",
              "      <td>0.00</td>\n",
              "      <td>0.00</td>\n",
              "      <td>0.01</td>\n",
              "      <td>0.00</td>\n",
              "      <td>0.01</td>\n",
              "    </tr>\n",
              "  </tbody>\n",
              "</table>\n",
              "<p>1326 rows × 11 columns</p>\n",
              "</div>\n",
              "      <button class=\"colab-df-convert\" onclick=\"convertToInteractive('df-08232d42-03b3-4bfc-97be-6fc4e4d3926e')\"\n",
              "              title=\"Convert this dataframe to an interactive table.\"\n",
              "              style=\"display:none;\">\n",
              "        \n",
              "  <svg xmlns=\"http://www.w3.org/2000/svg\" height=\"24px\"viewBox=\"0 0 24 24\"\n",
              "       width=\"24px\">\n",
              "    <path d=\"M0 0h24v24H0V0z\" fill=\"none\"/>\n",
              "    <path d=\"M18.56 5.44l.94 2.06.94-2.06 2.06-.94-2.06-.94-.94-2.06-.94 2.06-2.06.94zm-11 1L8.5 8.5l.94-2.06 2.06-.94-2.06-.94L8.5 2.5l-.94 2.06-2.06.94zm10 10l.94 2.06.94-2.06 2.06-.94-2.06-.94-.94-2.06-.94 2.06-2.06.94z\"/><path d=\"M17.41 7.96l-1.37-1.37c-.4-.4-.92-.59-1.43-.59-.52 0-1.04.2-1.43.59L10.3 9.45l-7.72 7.72c-.78.78-.78 2.05 0 2.83L4 21.41c.39.39.9.59 1.41.59.51 0 1.02-.2 1.41-.59l7.78-7.78 2.81-2.81c.8-.78.8-2.07 0-2.86zM5.41 20L4 18.59l7.72-7.72 1.47 1.35L5.41 20z\"/>\n",
              "  </svg>\n",
              "      </button>\n",
              "      \n",
              "  <style>\n",
              "    .colab-df-container {\n",
              "      display:flex;\n",
              "      flex-wrap:wrap;\n",
              "      gap: 12px;\n",
              "    }\n",
              "\n",
              "    .colab-df-convert {\n",
              "      background-color: #E8F0FE;\n",
              "      border: none;\n",
              "      border-radius: 50%;\n",
              "      cursor: pointer;\n",
              "      display: none;\n",
              "      fill: #1967D2;\n",
              "      height: 32px;\n",
              "      padding: 0 0 0 0;\n",
              "      width: 32px;\n",
              "    }\n",
              "\n",
              "    .colab-df-convert:hover {\n",
              "      background-color: #E2EBFA;\n",
              "      box-shadow: 0px 1px 2px rgba(60, 64, 67, 0.3), 0px 1px 3px 1px rgba(60, 64, 67, 0.15);\n",
              "      fill: #174EA6;\n",
              "    }\n",
              "\n",
              "    [theme=dark] .colab-df-convert {\n",
              "      background-color: #3B4455;\n",
              "      fill: #D2E3FC;\n",
              "    }\n",
              "\n",
              "    [theme=dark] .colab-df-convert:hover {\n",
              "      background-color: #434B5C;\n",
              "      box-shadow: 0px 1px 3px 1px rgba(0, 0, 0, 0.15);\n",
              "      filter: drop-shadow(0px 1px 2px rgba(0, 0, 0, 0.3));\n",
              "      fill: #FFFFFF;\n",
              "    }\n",
              "  </style>\n",
              "\n",
              "      <script>\n",
              "        const buttonEl =\n",
              "          document.querySelector('#df-08232d42-03b3-4bfc-97be-6fc4e4d3926e button.colab-df-convert');\n",
              "        buttonEl.style.display =\n",
              "          google.colab.kernel.accessAllowed ? 'block' : 'none';\n",
              "\n",
              "        async function convertToInteractive(key) {\n",
              "          const element = document.querySelector('#df-08232d42-03b3-4bfc-97be-6fc4e4d3926e');\n",
              "          const dataTable =\n",
              "            await google.colab.kernel.invokeFunction('convertToInteractive',\n",
              "                                                     [key], {});\n",
              "          if (!dataTable) return;\n",
              "\n",
              "          const docLinkHtml = 'Like what you see? Visit the ' +\n",
              "            '<a target=\"_blank\" href=https://colab.research.google.com/notebooks/data_table.ipynb>data table notebook</a>'\n",
              "            + ' to learn more about interactive tables.';\n",
              "          element.innerHTML = '';\n",
              "          dataTable['output_type'] = 'display_data';\n",
              "          await google.colab.output.renderOutput(dataTable, element);\n",
              "          const docLink = document.createElement('div');\n",
              "          docLink.innerHTML = docLinkHtml;\n",
              "          element.appendChild(docLink);\n",
              "        }\n",
              "      </script>\n",
              "    </div>\n",
              "  </div>\n",
              "  "
            ]
          },
          "metadata": {},
          "execution_count": 177
        }
      ]
    },
    {
      "cell_type": "code",
      "metadata": {
        "colab": {
          "base_uri": "https://localhost:8080/"
        },
        "id": "6LHTN6nXoDmK",
        "outputId": "f397b037-c2c7-4647-99a0-8d866b2474e9"
      },
      "source": [
        "ps3Gen = ps3.groupby('Genre').size()\n",
        "ps3Gen"
      ],
      "execution_count": 178,
      "outputs": [
        {
          "output_type": "execute_result",
          "data": {
            "text/plain": [
              "Genre\n",
              "Action          380\n",
              "Adventure        73\n",
              "Fighting         76\n",
              "Misc            124\n",
              "Platform         36\n",
              "Puzzle            3\n",
              "Racing           92\n",
              "Role-Playing    118\n",
              "Shooter         156\n",
              "Simulation       31\n",
              "Sports          213\n",
              "Strategy         24\n",
              "dtype: int64"
            ]
          },
          "metadata": {},
          "execution_count": 178
        }
      ]
    },
    {
      "cell_type": "code",
      "metadata": {
        "colab": {
          "base_uri": "https://localhost:8080/",
          "height": 542
        },
        "id": "K4DH4ELYnnib",
        "outputId": "6a31fbc8-fc50-46ba-aeed-5eb663580025"
      },
      "source": [
        "fig = px.pie(ps3, names = ps3Gen.keys(), values = ps3Gen)\n",
        "fig.show()"
      ],
      "execution_count": 179,
      "outputs": [
        {
          "output_type": "display_data",
          "data": {
            "text/html": [
              "<html>\n",
              "<head><meta charset=\"utf-8\" /></head>\n",
              "<body>\n",
              "    <div>            <script src=\"https://cdnjs.cloudflare.com/ajax/libs/mathjax/2.7.5/MathJax.js?config=TeX-AMS-MML_SVG\"></script><script type=\"text/javascript\">if (window.MathJax) {MathJax.Hub.Config({SVG: {font: \"STIX-Web\"}});}</script>                <script type=\"text/javascript\">window.PlotlyConfig = {MathJaxConfig: 'local'};</script>\n",
              "        <script src=\"https://cdn.plot.ly/plotly-2.8.3.min.js\"></script>                <div id=\"98f89431-f601-49c5-b0f5-1a657ae0fc08\" class=\"plotly-graph-div\" style=\"height:525px; width:100%;\"></div>            <script type=\"text/javascript\">                                    window.PLOTLYENV=window.PLOTLYENV || {};                                    if (document.getElementById(\"98f89431-f601-49c5-b0f5-1a657ae0fc08\")) {                    Plotly.newPlot(                        \"98f89431-f601-49c5-b0f5-1a657ae0fc08\",                        [{\"domain\":{\"x\":[0.0,1.0],\"y\":[0.0,1.0]},\"hovertemplate\":\"label=%{label}<br>value=%{value}<extra></extra>\",\"labels\":[\"Action\",\"Adventure\",\"Fighting\",\"Misc\",\"Platform\",\"Puzzle\",\"Racing\",\"Role-Playing\",\"Shooter\",\"Simulation\",\"Sports\",\"Strategy\"],\"legendgroup\":\"\",\"name\":\"\",\"showlegend\":true,\"values\":[380,73,76,124,36,3,92,118,156,31,213,24],\"type\":\"pie\"}],                        {\"template\":{\"data\":{\"bar\":[{\"error_x\":{\"color\":\"#2a3f5f\"},\"error_y\":{\"color\":\"#2a3f5f\"},\"marker\":{\"line\":{\"color\":\"#E5ECF6\",\"width\":0.5},\"pattern\":{\"fillmode\":\"overlay\",\"size\":10,\"solidity\":0.2}},\"type\":\"bar\"}],\"barpolar\":[{\"marker\":{\"line\":{\"color\":\"#E5ECF6\",\"width\":0.5},\"pattern\":{\"fillmode\":\"overlay\",\"size\":10,\"solidity\":0.2}},\"type\":\"barpolar\"}],\"carpet\":[{\"aaxis\":{\"endlinecolor\":\"#2a3f5f\",\"gridcolor\":\"white\",\"linecolor\":\"white\",\"minorgridcolor\":\"white\",\"startlinecolor\":\"#2a3f5f\"},\"baxis\":{\"endlinecolor\":\"#2a3f5f\",\"gridcolor\":\"white\",\"linecolor\":\"white\",\"minorgridcolor\":\"white\",\"startlinecolor\":\"#2a3f5f\"},\"type\":\"carpet\"}],\"choropleth\":[{\"colorbar\":{\"outlinewidth\":0,\"ticks\":\"\"},\"type\":\"choropleth\"}],\"contour\":[{\"colorbar\":{\"outlinewidth\":0,\"ticks\":\"\"},\"colorscale\":[[0.0,\"#0d0887\"],[0.1111111111111111,\"#46039f\"],[0.2222222222222222,\"#7201a8\"],[0.3333333333333333,\"#9c179e\"],[0.4444444444444444,\"#bd3786\"],[0.5555555555555556,\"#d8576b\"],[0.6666666666666666,\"#ed7953\"],[0.7777777777777778,\"#fb9f3a\"],[0.8888888888888888,\"#fdca26\"],[1.0,\"#f0f921\"]],\"type\":\"contour\"}],\"contourcarpet\":[{\"colorbar\":{\"outlinewidth\":0,\"ticks\":\"\"},\"type\":\"contourcarpet\"}],\"heatmap\":[{\"colorbar\":{\"outlinewidth\":0,\"ticks\":\"\"},\"colorscale\":[[0.0,\"#0d0887\"],[0.1111111111111111,\"#46039f\"],[0.2222222222222222,\"#7201a8\"],[0.3333333333333333,\"#9c179e\"],[0.4444444444444444,\"#bd3786\"],[0.5555555555555556,\"#d8576b\"],[0.6666666666666666,\"#ed7953\"],[0.7777777777777778,\"#fb9f3a\"],[0.8888888888888888,\"#fdca26\"],[1.0,\"#f0f921\"]],\"type\":\"heatmap\"}],\"heatmapgl\":[{\"colorbar\":{\"outlinewidth\":0,\"ticks\":\"\"},\"colorscale\":[[0.0,\"#0d0887\"],[0.1111111111111111,\"#46039f\"],[0.2222222222222222,\"#7201a8\"],[0.3333333333333333,\"#9c179e\"],[0.4444444444444444,\"#bd3786\"],[0.5555555555555556,\"#d8576b\"],[0.6666666666666666,\"#ed7953\"],[0.7777777777777778,\"#fb9f3a\"],[0.8888888888888888,\"#fdca26\"],[1.0,\"#f0f921\"]],\"type\":\"heatmapgl\"}],\"histogram\":[{\"marker\":{\"pattern\":{\"fillmode\":\"overlay\",\"size\":10,\"solidity\":0.2}},\"type\":\"histogram\"}],\"histogram2d\":[{\"colorbar\":{\"outlinewidth\":0,\"ticks\":\"\"},\"colorscale\":[[0.0,\"#0d0887\"],[0.1111111111111111,\"#46039f\"],[0.2222222222222222,\"#7201a8\"],[0.3333333333333333,\"#9c179e\"],[0.4444444444444444,\"#bd3786\"],[0.5555555555555556,\"#d8576b\"],[0.6666666666666666,\"#ed7953\"],[0.7777777777777778,\"#fb9f3a\"],[0.8888888888888888,\"#fdca26\"],[1.0,\"#f0f921\"]],\"type\":\"histogram2d\"}],\"histogram2dcontour\":[{\"colorbar\":{\"outlinewidth\":0,\"ticks\":\"\"},\"colorscale\":[[0.0,\"#0d0887\"],[0.1111111111111111,\"#46039f\"],[0.2222222222222222,\"#7201a8\"],[0.3333333333333333,\"#9c179e\"],[0.4444444444444444,\"#bd3786\"],[0.5555555555555556,\"#d8576b\"],[0.6666666666666666,\"#ed7953\"],[0.7777777777777778,\"#fb9f3a\"],[0.8888888888888888,\"#fdca26\"],[1.0,\"#f0f921\"]],\"type\":\"histogram2dcontour\"}],\"mesh3d\":[{\"colorbar\":{\"outlinewidth\":0,\"ticks\":\"\"},\"type\":\"mesh3d\"}],\"parcoords\":[{\"line\":{\"colorbar\":{\"outlinewidth\":0,\"ticks\":\"\"}},\"type\":\"parcoords\"}],\"pie\":[{\"automargin\":true,\"type\":\"pie\"}],\"scatter\":[{\"marker\":{\"colorbar\":{\"outlinewidth\":0,\"ticks\":\"\"}},\"type\":\"scatter\"}],\"scatter3d\":[{\"line\":{\"colorbar\":{\"outlinewidth\":0,\"ticks\":\"\"}},\"marker\":{\"colorbar\":{\"outlinewidth\":0,\"ticks\":\"\"}},\"type\":\"scatter3d\"}],\"scattercarpet\":[{\"marker\":{\"colorbar\":{\"outlinewidth\":0,\"ticks\":\"\"}},\"type\":\"scattercarpet\"}],\"scattergeo\":[{\"marker\":{\"colorbar\":{\"outlinewidth\":0,\"ticks\":\"\"}},\"type\":\"scattergeo\"}],\"scattergl\":[{\"marker\":{\"colorbar\":{\"outlinewidth\":0,\"ticks\":\"\"}},\"type\":\"scattergl\"}],\"scattermapbox\":[{\"marker\":{\"colorbar\":{\"outlinewidth\":0,\"ticks\":\"\"}},\"type\":\"scattermapbox\"}],\"scatterpolar\":[{\"marker\":{\"colorbar\":{\"outlinewidth\":0,\"ticks\":\"\"}},\"type\":\"scatterpolar\"}],\"scatterpolargl\":[{\"marker\":{\"colorbar\":{\"outlinewidth\":0,\"ticks\":\"\"}},\"type\":\"scatterpolargl\"}],\"scatterternary\":[{\"marker\":{\"colorbar\":{\"outlinewidth\":0,\"ticks\":\"\"}},\"type\":\"scatterternary\"}],\"surface\":[{\"colorbar\":{\"outlinewidth\":0,\"ticks\":\"\"},\"colorscale\":[[0.0,\"#0d0887\"],[0.1111111111111111,\"#46039f\"],[0.2222222222222222,\"#7201a8\"],[0.3333333333333333,\"#9c179e\"],[0.4444444444444444,\"#bd3786\"],[0.5555555555555556,\"#d8576b\"],[0.6666666666666666,\"#ed7953\"],[0.7777777777777778,\"#fb9f3a\"],[0.8888888888888888,\"#fdca26\"],[1.0,\"#f0f921\"]],\"type\":\"surface\"}],\"table\":[{\"cells\":{\"fill\":{\"color\":\"#EBF0F8\"},\"line\":{\"color\":\"white\"}},\"header\":{\"fill\":{\"color\":\"#C8D4E3\"},\"line\":{\"color\":\"white\"}},\"type\":\"table\"}]},\"layout\":{\"annotationdefaults\":{\"arrowcolor\":\"#2a3f5f\",\"arrowhead\":0,\"arrowwidth\":1},\"autotypenumbers\":\"strict\",\"coloraxis\":{\"colorbar\":{\"outlinewidth\":0,\"ticks\":\"\"}},\"colorscale\":{\"diverging\":[[0,\"#8e0152\"],[0.1,\"#c51b7d\"],[0.2,\"#de77ae\"],[0.3,\"#f1b6da\"],[0.4,\"#fde0ef\"],[0.5,\"#f7f7f7\"],[0.6,\"#e6f5d0\"],[0.7,\"#b8e186\"],[0.8,\"#7fbc41\"],[0.9,\"#4d9221\"],[1,\"#276419\"]],\"sequential\":[[0.0,\"#0d0887\"],[0.1111111111111111,\"#46039f\"],[0.2222222222222222,\"#7201a8\"],[0.3333333333333333,\"#9c179e\"],[0.4444444444444444,\"#bd3786\"],[0.5555555555555556,\"#d8576b\"],[0.6666666666666666,\"#ed7953\"],[0.7777777777777778,\"#fb9f3a\"],[0.8888888888888888,\"#fdca26\"],[1.0,\"#f0f921\"]],\"sequentialminus\":[[0.0,\"#0d0887\"],[0.1111111111111111,\"#46039f\"],[0.2222222222222222,\"#7201a8\"],[0.3333333333333333,\"#9c179e\"],[0.4444444444444444,\"#bd3786\"],[0.5555555555555556,\"#d8576b\"],[0.6666666666666666,\"#ed7953\"],[0.7777777777777778,\"#fb9f3a\"],[0.8888888888888888,\"#fdca26\"],[1.0,\"#f0f921\"]]},\"colorway\":[\"#636efa\",\"#EF553B\",\"#00cc96\",\"#ab63fa\",\"#FFA15A\",\"#19d3f3\",\"#FF6692\",\"#B6E880\",\"#FF97FF\",\"#FECB52\"],\"font\":{\"color\":\"#2a3f5f\"},\"geo\":{\"bgcolor\":\"white\",\"lakecolor\":\"white\",\"landcolor\":\"#E5ECF6\",\"showlakes\":true,\"showland\":true,\"subunitcolor\":\"white\"},\"hoverlabel\":{\"align\":\"left\"},\"hovermode\":\"closest\",\"mapbox\":{\"style\":\"light\"},\"paper_bgcolor\":\"white\",\"plot_bgcolor\":\"#E5ECF6\",\"polar\":{\"angularaxis\":{\"gridcolor\":\"white\",\"linecolor\":\"white\",\"ticks\":\"\"},\"bgcolor\":\"#E5ECF6\",\"radialaxis\":{\"gridcolor\":\"white\",\"linecolor\":\"white\",\"ticks\":\"\"}},\"scene\":{\"xaxis\":{\"backgroundcolor\":\"#E5ECF6\",\"gridcolor\":\"white\",\"gridwidth\":2,\"linecolor\":\"white\",\"showbackground\":true,\"ticks\":\"\",\"zerolinecolor\":\"white\"},\"yaxis\":{\"backgroundcolor\":\"#E5ECF6\",\"gridcolor\":\"white\",\"gridwidth\":2,\"linecolor\":\"white\",\"showbackground\":true,\"ticks\":\"\",\"zerolinecolor\":\"white\"},\"zaxis\":{\"backgroundcolor\":\"#E5ECF6\",\"gridcolor\":\"white\",\"gridwidth\":2,\"linecolor\":\"white\",\"showbackground\":true,\"ticks\":\"\",\"zerolinecolor\":\"white\"}},\"shapedefaults\":{\"line\":{\"color\":\"#2a3f5f\"}},\"ternary\":{\"aaxis\":{\"gridcolor\":\"white\",\"linecolor\":\"white\",\"ticks\":\"\"},\"baxis\":{\"gridcolor\":\"white\",\"linecolor\":\"white\",\"ticks\":\"\"},\"bgcolor\":\"#E5ECF6\",\"caxis\":{\"gridcolor\":\"white\",\"linecolor\":\"white\",\"ticks\":\"\"}},\"title\":{\"x\":0.05},\"xaxis\":{\"automargin\":true,\"gridcolor\":\"white\",\"linecolor\":\"white\",\"ticks\":\"\",\"title\":{\"standoff\":15},\"zerolinecolor\":\"white\",\"zerolinewidth\":2},\"yaxis\":{\"automargin\":true,\"gridcolor\":\"white\",\"linecolor\":\"white\",\"ticks\":\"\",\"title\":{\"standoff\":15},\"zerolinecolor\":\"white\",\"zerolinewidth\":2}}},\"legend\":{\"tracegroupgap\":0},\"margin\":{\"t\":60}},                        {\"responsive\": true}                    ).then(function(){\n",
              "                            \n",
              "var gd = document.getElementById('98f89431-f601-49c5-b0f5-1a657ae0fc08');\n",
              "var x = new MutationObserver(function (mutations, observer) {{\n",
              "        var display = window.getComputedStyle(gd).display;\n",
              "        if (!display || display === 'none') {{\n",
              "            console.log([gd, 'removed!']);\n",
              "            Plotly.purge(gd);\n",
              "            observer.disconnect();\n",
              "        }}\n",
              "}});\n",
              "\n",
              "// Listen for the removal of the full notebook cells\n",
              "var notebookContainer = gd.closest('#notebook-container');\n",
              "if (notebookContainer) {{\n",
              "    x.observe(notebookContainer, {childList: true});\n",
              "}}\n",
              "\n",
              "// Listen for the clearing of the current output cell\n",
              "var outputEl = gd.closest('.output');\n",
              "if (outputEl) {{\n",
              "    x.observe(outputEl, {childList: true});\n",
              "}}\n",
              "\n",
              "                        })                };                            </script>        </div>\n",
              "</body>\n",
              "</html>"
            ]
          },
          "metadata": {}
        }
      ]
    },
    {
      "cell_type": "code",
      "metadata": {
        "colab": {
          "base_uri": "https://localhost:8080/"
        },
        "id": "01twb4wnM3jT",
        "outputId": "3f9e40cc-b016-46e0-d166-308773f2108d"
      },
      "source": [
        "platform = vg_data.groupby('Platform').size()\n",
        "platform = platform.where(platform.values > 1000)\n",
        "platform = platform.dropna()\n",
        "platformValues = np.array(platform.array)\n",
        "platformIndex = np.array(platform.index)\n",
        "print(platformIndex)\n",
        "print(platformValues)"
      ],
      "execution_count": 180,
      "outputs": [
        {
          "output_type": "stream",
          "name": "stdout",
          "text": [
            "['DS' 'PS' 'PS2' 'PS3' 'PSP' 'Wii' 'X360']\n",
            "[2156. 1193. 2159. 1326. 1211. 1324. 1261.]\n"
          ]
        }
      ]
    },
    {
      "cell_type": "code",
      "metadata": {
        "colab": {
          "base_uri": "https://localhost:8080/",
          "height": 559
        },
        "id": "HVuOV13IXiQC",
        "outputId": "c40a8b6e-f041-4e06-974e-d4bd047ab1a1"
      },
      "source": [
        "plt.bar(x = platformIndex, height = platformValues, color = ['#66ccff', '#3366ff'])\n",
        "plt.title(\"Games released by consoles\")\n",
        "plt.show()"
      ],
      "execution_count": 181,
      "outputs": [
        {
          "output_type": "display_data",
          "data": {
            "text/plain": [
              "<Figure size 1080x648 with 1 Axes>"
            ],
            "image/png": "[encoded data removed]"
          },
          "metadata": {}
        }
      ]
    },
    {
      "cell_type": "code",
      "metadata": {
        "colab": {
          "base_uri": "https://localhost:8080/",
          "height": 560
        },
        "id": "FyXyj3RfcijR",
        "outputId": "3f4bed19-036b-4c20-c262-9433489c0e8e"
      },
      "source": [
        "sns.barplot(x = platformIndex, y = platformValues)"
      ],
      "execution_count": 182,
      "outputs": [
        {
          "output_type": "execute_result",
          "data": {
            "text/plain": [
              "<matplotlib.axes._subplots.AxesSubplot at 0x7f3ba1299f90>"
            ]
          },
          "metadata": {},
          "execution_count": 182
        },
        {
          "output_type": "display_data",
          "data": {
            "text/plain": [
              "<Figure size 1080x648 with 1 Axes>"
            ],
            "image/png": "[encoded data removed]"
          },
          "metadata": {}
        }
      ]
    },
    {
      "cell_type": "code",
      "metadata": {
        "colab": {
          "base_uri": "https://localhost:8080/",
          "height": 542
        },
        "id": "78KklL8EdHW2",
        "outputId": "f2db9d3c-31a3-43af-c1e2-50ab4f693f54"
      },
      "source": [
        "px.bar(x = platformIndex, y = platformValues)"
      ],
      "execution_count": 183,
      "outputs": [
        {
          "output_type": "display_data",
          "data": {
            "text/html": [
              "<html>\n",
              "<head><meta charset=\"utf-8\" /></head>\n",
              "<body>\n",
              "    <div>            <script src=\"https://cdnjs.cloudflare.com/ajax/libs/mathjax/2.7.5/MathJax.js?config=TeX-AMS-MML_SVG\"></script><script type=\"text/javascript\">if (window.MathJax) {MathJax.Hub.Config({SVG: {font: \"STIX-Web\"}});}</script>                <script type=\"text/javascript\">window.PlotlyConfig = {MathJaxConfig: 'local'};</script>\n",
              "        <script src=\"https://cdn.plot.ly/plotly-2.8.3.min.js\"></script>                <div id=\"25cc52c5-06ae-4b77-8c24-e93ed4869508\" class=\"plotly-graph-div\" style=\"height:525px; width:100%;\"></div>            <script type=\"text/javascript\">                                    window.PLOTLYENV=window.PLOTLYENV || {};                                    if (document.getElementById(\"25cc52c5-06ae-4b77-8c24-e93ed4869508\")) {                    Plotly.newPlot(                        \"25cc52c5-06ae-4b77-8c24-e93ed4869508\",                        [{\"alignmentgroup\":\"True\",\"hovertemplate\":\"x=%{x}<br>y=%{y}<extra></extra>\",\"legendgroup\":\"\",\"marker\":{\"color\":\"#636efa\",\"pattern\":{\"shape\":\"\"}},\"name\":\"\",\"offsetgroup\":\"\",\"orientation\":\"v\",\"showlegend\":false,\"textposition\":\"auto\",\"x\":[\"DS\",\"PS\",\"PS2\",\"PS3\",\"PSP\",\"Wii\",\"X360\"],\"xaxis\":\"x\",\"y\":[2156.0,1193.0,2159.0,1326.0,1211.0,1324.0,1261.0],\"yaxis\":\"y\",\"type\":\"bar\"}],                        {\"template\":{\"data\":{\"bar\":[{\"error_x\":{\"color\":\"#2a3f5f\"},\"error_y\":{\"color\":\"#2a3f5f\"},\"marker\":{\"line\":{\"color\":\"#E5ECF6\",\"width\":0.5},\"pattern\":{\"fillmode\":\"overlay\",\"size\":10,\"solidity\":0.2}},\"type\":\"bar\"}],\"barpolar\":[{\"marker\":{\"line\":{\"color\":\"#E5ECF6\",\"width\":0.5},\"pattern\":{\"fillmode\":\"overlay\",\"size\":10,\"solidity\":0.2}},\"type\":\"barpolar\"}],\"carpet\":[{\"aaxis\":{\"endlinecolor\":\"#2a3f5f\",\"gridcolor\":\"white\",\"linecolor\":\"white\",\"minorgridcolor\":\"white\",\"startlinecolor\":\"#2a3f5f\"},\"baxis\":{\"endlinecolor\":\"#2a3f5f\",\"gridcolor\":\"white\",\"linecolor\":\"white\",\"minorgridcolor\":\"white\",\"startlinecolor\":\"#2a3f5f\"},\"type\":\"carpet\"}],\"choropleth\":[{\"colorbar\":{\"outlinewidth\":0,\"ticks\":\"\"},\"type\":\"choropleth\"}],\"contour\":[{\"colorbar\":{\"outlinewidth\":0,\"ticks\":\"\"},\"colorscale\":[[0.0,\"#0d0887\"],[0.1111111111111111,\"#46039f\"],[0.2222222222222222,\"#7201a8\"],[0.3333333333333333,\"#9c179e\"],[0.4444444444444444,\"#bd3786\"],[0.5555555555555556,\"#d8576b\"],[0.6666666666666666,\"#ed7953\"],[0.7777777777777778,\"#fb9f3a\"],[0.8888888888888888,\"#fdca26\"],[1.0,\"#f0f921\"]],\"type\":\"contour\"}],\"contourcarpet\":[{\"colorbar\":{\"outlinewidth\":0,\"ticks\":\"\"},\"type\":\"contourcarpet\"}],\"heatmap\":[{\"colorbar\":{\"outlinewidth\":0,\"ticks\":\"\"},\"colorscale\":[[0.0,\"#0d0887\"],[0.1111111111111111,\"#46039f\"],[0.2222222222222222,\"#7201a8\"],[0.3333333333333333,\"#9c179e\"],[0.4444444444444444,\"#bd3786\"],[0.5555555555555556,\"#d8576b\"],[0.6666666666666666,\"#ed7953\"],[0.7777777777777778,\"#fb9f3a\"],[0.8888888888888888,\"#fdca26\"],[1.0,\"#f0f921\"]],\"type\":\"heatmap\"}],\"heatmapgl\":[{\"colorbar\":{\"outlinewidth\":0,\"ticks\":\"\"},\"colorscale\":[[0.0,\"#0d0887\"],[0.1111111111111111,\"#46039f\"],[0.2222222222222222,\"#7201a8\"],[0.3333333333333333,\"#9c179e\"],[0.4444444444444444,\"#bd3786\"],[0.5555555555555556,\"#d8576b\"],[0.6666666666666666,\"#ed7953\"],[0.7777777777777778,\"#fb9f3a\"],[0.8888888888888888,\"#fdca26\"],[1.0,\"#f0f921\"]],\"type\":\"heatmapgl\"}],\"histogram\":[{\"marker\":{\"pattern\":{\"fillmode\":\"overlay\",\"size\":10,\"solidity\":0.2}},\"type\":\"histogram\"}],\"histogram2d\":[{\"colorbar\":{\"outlinewidth\":0,\"ticks\":\"\"},\"colorscale\":[[0.0,\"#0d0887\"],[0.1111111111111111,\"#46039f\"],[0.2222222222222222,\"#7201a8\"],[0.3333333333333333,\"#9c179e\"],[0.4444444444444444,\"#bd3786\"],[0.5555555555555556,\"#d8576b\"],[0.6666666666666666,\"#ed7953\"],[0.7777777777777778,\"#fb9f3a\"],[0.8888888888888888,\"#fdca26\"],[1.0,\"#f0f921\"]],\"type\":\"histogram2d\"}],\"histogram2dcontour\":[{\"colorbar\":{\"outlinewidth\":0,\"ticks\":\"\"},\"colorscale\":[[0.0,\"#0d0887\"],[0.1111111111111111,\"#46039f\"],[0.2222222222222222,\"#7201a8\"],[0.3333333333333333,\"#9c179e\"],[0.4444444444444444,\"#bd3786\"],[0.5555555555555556,\"#d8576b\"],[0.6666666666666666,\"#ed7953\"],[0.7777777777777778,\"#fb9f3a\"],[0.8888888888888888,\"#fdca26\"],[1.0,\"#f0f921\"]],\"type\":\"histogram2dcontour\"}],\"mesh3d\":[{\"colorbar\":{\"outlinewidth\":0,\"ticks\":\"\"},\"type\":\"mesh3d\"}],\"parcoords\":[{\"line\":{\"colorbar\":{\"outlinewidth\":0,\"ticks\":\"\"}},\"type\":\"parcoords\"}],\"pie\":[{\"automargin\":true,\"type\":\"pie\"}],\"scatter\":[{\"marker\":{\"colorbar\":{\"outlinewidth\":0,\"ticks\":\"\"}},\"type\":\"scatter\"}],\"scatter3d\":[{\"line\":{\"colorbar\":{\"outlinewidth\":0,\"ticks\":\"\"}},\"marker\":{\"colorbar\":{\"outlinewidth\":0,\"ticks\":\"\"}},\"type\":\"scatter3d\"}],\"scattercarpet\":[{\"marker\":{\"colorbar\":{\"outlinewidth\":0,\"ticks\":\"\"}},\"type\":\"scattercarpet\"}],\"scattergeo\":[{\"marker\":{\"colorbar\":{\"outlinewidth\":0,\"ticks\":\"\"}},\"type\":\"scattergeo\"}],\"scattergl\":[{\"marker\":{\"colorbar\":{\"outlinewidth\":0,\"ticks\":\"\"}},\"type\":\"scattergl\"}],\"scattermapbox\":[{\"marker\":{\"colorbar\":{\"outlinewidth\":0,\"ticks\":\"\"}},\"type\":\"scattermapbox\"}],\"scatterpolar\":[{\"marker\":{\"colorbar\":{\"outlinewidth\":0,\"ticks\":\"\"}},\"type\":\"scatterpolar\"}],\"scatterpolargl\":[{\"marker\":{\"colorbar\":{\"outlinewidth\":0,\"ticks\":\"\"}},\"type\":\"scatterpolargl\"}],\"scatterternary\":[{\"marker\":{\"colorbar\":{\"outlinewidth\":0,\"ticks\":\"\"}},\"type\":\"scatterternary\"}],\"surface\":[{\"colorbar\":{\"outlinewidth\":0,\"ticks\":\"\"},\"colorscale\":[[0.0,\"#0d0887\"],[0.1111111111111111,\"#46039f\"],[0.2222222222222222,\"#7201a8\"],[0.3333333333333333,\"#9c179e\"],[0.4444444444444444,\"#bd3786\"],[0.5555555555555556,\"#d8576b\"],[0.6666666666666666,\"#ed7953\"],[0.7777777777777778,\"#fb9f3a\"],[0.8888888888888888,\"#fdca26\"],[1.0,\"#f0f921\"]],\"type\":\"surface\"}],\"table\":[{\"cells\":{\"fill\":{\"color\":\"#EBF0F8\"},\"line\":{\"color\":\"white\"}},\"header\":{\"fill\":{\"color\":\"#C8D4E3\"},\"line\":{\"color\":\"white\"}},\"type\":\"table\"}]},\"layout\":{\"annotationdefaults\":{\"arrowcolor\":\"#2a3f5f\",\"arrowhead\":0,\"arrowwidth\":1},\"autotypenumbers\":\"strict\",\"coloraxis\":{\"colorbar\":{\"outlinewidth\":0,\"ticks\":\"\"}},\"colorscale\":{\"diverging\":[[0,\"#8e0152\"],[0.1,\"#c51b7d\"],[0.2,\"#de77ae\"],[0.3,\"#f1b6da\"],[0.4,\"#fde0ef\"],[0.5,\"#f7f7f7\"],[0.6,\"#e6f5d0\"],[0.7,\"#b8e186\"],[0.8,\"#7fbc41\"],[0.9,\"#4d9221\"],[1,\"#276419\"]],\"sequential\":[[0.0,\"#0d0887\"],[0.1111111111111111,\"#46039f\"],[0.2222222222222222,\"#7201a8\"],[0.3333333333333333,\"#9c179e\"],[0.4444444444444444,\"#bd3786\"],[0.5555555555555556,\"#d8576b\"],[0.6666666666666666,\"#ed7953\"],[0.7777777777777778,\"#fb9f3a\"],[0.8888888888888888,\"#fdca26\"],[1.0,\"#f0f921\"]],\"sequentialminus\":[[0.0,\"#0d0887\"],[0.1111111111111111,\"#46039f\"],[0.2222222222222222,\"#7201a8\"],[0.3333333333333333,\"#9c179e\"],[0.4444444444444444,\"#bd3786\"],[0.5555555555555556,\"#d8576b\"],[0.6666666666666666,\"#ed7953\"],[0.7777777777777778,\"#fb9f3a\"],[0.8888888888888888,\"#fdca26\"],[1.0,\"#f0f921\"]]},\"colorway\":[\"#636efa\",\"#EF553B\",\"#00cc96\",\"#ab63fa\",\"#FFA15A\",\"#19d3f3\",\"#FF6692\",\"#B6E880\",\"#FF97FF\",\"#FECB52\"],\"font\":{\"color\":\"#2a3f5f\"},\"geo\":{\"bgcolor\":\"white\",\"lakecolor\":\"white\",\"landcolor\":\"#E5ECF6\",\"showlakes\":true,\"showland\":true,\"subunitcolor\":\"white\"},\"hoverlabel\":{\"align\":\"left\"},\"hovermode\":\"closest\",\"mapbox\":{\"style\":\"light\"},\"paper_bgcolor\":\"white\",\"plot_bgcolor\":\"#E5ECF6\",\"polar\":{\"angularaxis\":{\"gridcolor\":\"white\",\"linecolor\":\"white\",\"ticks\":\"\"},\"bgcolor\":\"#E5ECF6\",\"radialaxis\":{\"gridcolor\":\"white\",\"linecolor\":\"white\",\"ticks\":\"\"}},\"scene\":{\"xaxis\":{\"backgroundcolor\":\"#E5ECF6\",\"gridcolor\":\"white\",\"gridwidth\":2,\"linecolor\":\"white\",\"showbackground\":true,\"ticks\":\"\",\"zerolinecolor\":\"white\"},\"yaxis\":{\"backgroundcolor\":\"#E5ECF6\",\"gridcolor\":\"white\",\"gridwidth\":2,\"linecolor\":\"white\",\"showbackground\":true,\"ticks\":\"\",\"zerolinecolor\":\"white\"},\"zaxis\":{\"backgroundcolor\":\"#E5ECF6\",\"gridcolor\":\"white\",\"gridwidth\":2,\"linecolor\":\"white\",\"showbackground\":true,\"ticks\":\"\",\"zerolinecolor\":\"white\"}},\"shapedefaults\":{\"line\":{\"color\":\"#2a3f5f\"}},\"ternary\":{\"aaxis\":{\"gridcolor\":\"white\",\"linecolor\":\"white\",\"ticks\":\"\"},\"baxis\":{\"gridcolor\":\"white\",\"linecolor\":\"white\",\"ticks\":\"\"},\"bgcolor\":\"#E5ECF6\",\"caxis\":{\"gridcolor\":\"white\",\"linecolor\":\"white\",\"ticks\":\"\"}},\"title\":{\"x\":0.05},\"xaxis\":{\"automargin\":true,\"gridcolor\":\"white\",\"linecolor\":\"white\",\"ticks\":\"\",\"title\":{\"standoff\":15},\"zerolinecolor\":\"white\",\"zerolinewidth\":2},\"yaxis\":{\"automargin\":true,\"gridcolor\":\"white\",\"linecolor\":\"white\",\"ticks\":\"\",\"title\":{\"standoff\":15},\"zerolinecolor\":\"white\",\"zerolinewidth\":2}}},\"xaxis\":{\"anchor\":\"y\",\"domain\":[0.0,1.0],\"title\":{\"text\":\"x\"}},\"yaxis\":{\"anchor\":\"x\",\"domain\":[0.0,1.0],\"title\":{\"text\":\"y\"}},\"legend\":{\"tracegroupgap\":0},\"margin\":{\"t\":60},\"barmode\":\"relative\"},                        {\"responsive\": true}                    ).then(function(){\n",
              "                            \n",
              "var gd = document.getElementById('25cc52c5-06ae-4b77-8c24-e93ed4869508');\n",
              "var x = new MutationObserver(function (mutations, observer) {{\n",
              "        var display = window.getComputedStyle(gd).display;\n",
              "        if (!display || display === 'none') {{\n",
              "            console.log([gd, 'removed!']);\n",
              "            Plotly.purge(gd);\n",
              "            observer.disconnect();\n",
              "        }}\n",
              "}});\n",
              "\n",
              "// Listen for the removal of the full notebook cells\n",
              "var notebookContainer = gd.closest('#notebook-container');\n",
              "if (notebookContainer) {{\n",
              "    x.observe(notebookContainer, {childList: true});\n",
              "}}\n",
              "\n",
              "// Listen for the clearing of the current output cell\n",
              "var outputEl = gd.closest('.output');\n",
              "if (outputEl) {{\n",
              "    x.observe(outputEl, {childList: true});\n",
              "}}\n",
              "\n",
              "                        })                };                            </script>        </div>\n",
              "</body>\n",
              "</html>"
            ]
          },
          "metadata": {}
        }
      ]
    },
    {
      "cell_type": "code",
      "metadata": {
        "colab": {
          "base_uri": "https://localhost:8080/",
          "height": 542
        },
        "id": "p2EqY9Xle9nR",
        "outputId": "fe9c3489-91d6-431f-9d72-decfcf7b4a67"
      },
      "source": [
        "fig = px.scatter_geo(vg_data, locations=['Italy', 'USA', 'Japan'], \n",
        "                     size=[vg_data['EU_Sales'].sum(), vg_data['NA_Sales'].sum() , vg_data['JP_Sales'].sum()],\n",
        "                     text = ['Europe Sales', 'US Sales', 'Japan Sales'], \n",
        "                     locationmode= \"country names\",\n",
        "                     projection=\"natural earth\")\n",
        "fig.show()"
      ],
      "execution_count": 184,
      "outputs": [
        {
          "output_type": "display_data",
          "data": {
            "text/html": [
              "<html>\n",
              "<head><meta charset=\"utf-8\" /></head>\n",
              "<body>\n",
              "    <div>            <script src=\"https://cdnjs.cloudflare.com/ajax/libs/mathjax/2.7.5/MathJax.js?config=TeX-AMS-MML_SVG\"></script><script type=\"text/javascript\">if (window.MathJax) {MathJax.Hub.Config({SVG: {font: \"STIX-Web\"}});}</script>                <script type=\"text/javascript\">window.PlotlyConfig = {MathJaxConfig: 'local'};</script>\n",
              "        <script src=\"https://cdn.plot.ly/plotly-2.8.3.min.js\"></script>                <div id=\"dec110c7-26fc-44b5-b4df-a82bbef7bdd7\" class=\"plotly-graph-div\" style=\"height:525px; width:100%;\"></div>            <script type=\"text/javascript\">                                    window.PLOTLYENV=window.PLOTLYENV || {};                                    if (document.getElementById(\"dec110c7-26fc-44b5-b4df-a82bbef7bdd7\")) {                    Plotly.newPlot(                        \"dec110c7-26fc-44b5-b4df-a82bbef7bdd7\",                        [{\"geo\":\"geo\",\"hovertemplate\":\"size=%{marker.size}<br>text=%{text}<br>locations=%{location}<extra></extra>\",\"legendgroup\":\"\",\"locationmode\":\"country names\",\"locations\":[\"Italy\",\"USA\",\"Japan\"],\"marker\":{\"color\":\"#636efa\",\"size\":[2429.4500000000003,4384.41,1290.09],\"sizemode\":\"area\",\"sizeref\":10.961025,\"symbol\":\"circle\"},\"mode\":\"markers+text\",\"name\":\"\",\"showlegend\":false,\"text\":[\"Europe Sales\",\"US Sales\",\"Japan Sales\"],\"type\":\"scattergeo\"}],                        {\"template\":{\"data\":{\"bar\":[{\"error_x\":{\"color\":\"#2a3f5f\"},\"error_y\":{\"color\":\"#2a3f5f\"},\"marker\":{\"line\":{\"color\":\"#E5ECF6\",\"width\":0.5},\"pattern\":{\"fillmode\":\"overlay\",\"size\":10,\"solidity\":0.2}},\"type\":\"bar\"}],\"barpolar\":[{\"marker\":{\"line\":{\"color\":\"#E5ECF6\",\"width\":0.5},\"pattern\":{\"fillmode\":\"overlay\",\"size\":10,\"solidity\":0.2}},\"type\":\"barpolar\"}],\"carpet\":[{\"aaxis\":{\"endlinecolor\":\"#2a3f5f\",\"gridcolor\":\"white\",\"linecolor\":\"white\",\"minorgridcolor\":\"white\",\"startlinecolor\":\"#2a3f5f\"},\"baxis\":{\"endlinecolor\":\"#2a3f5f\",\"gridcolor\":\"white\",\"linecolor\":\"white\",\"minorgridcolor\":\"white\",\"startlinecolor\":\"#2a3f5f\"},\"type\":\"carpet\"}],\"choropleth\":[{\"colorbar\":{\"outlinewidth\":0,\"ticks\":\"\"},\"type\":\"choropleth\"}],\"contour\":[{\"colorbar\":{\"outlinewidth\":0,\"ticks\":\"\"},\"colorscale\":[[0.0,\"#0d0887\"],[0.1111111111111111,\"#46039f\"],[0.2222222222222222,\"#7201a8\"],[0.3333333333333333,\"#9c179e\"],[0.4444444444444444,\"#bd3786\"],[0.5555555555555556,\"#d8576b\"],[0.6666666666666666,\"#ed7953\"],[0.7777777777777778,\"#fb9f3a\"],[0.8888888888888888,\"#fdca26\"],[1.0,\"#f0f921\"]],\"type\":\"contour\"}],\"contourcarpet\":[{\"colorbar\":{\"outlinewidth\":0,\"ticks\":\"\"},\"type\":\"contourcarpet\"}],\"heatmap\":[{\"colorbar\":{\"outlinewidth\":0,\"ticks\":\"\"},\"colorscale\":[[0.0,\"#0d0887\"],[0.1111111111111111,\"#46039f\"],[0.2222222222222222,\"#7201a8\"],[0.3333333333333333,\"#9c179e\"],[0.4444444444444444,\"#bd3786\"],[0.5555555555555556,\"#d8576b\"],[0.6666666666666666,\"#ed7953\"],[0.7777777777777778,\"#fb9f3a\"],[0.8888888888888888,\"#fdca26\"],[1.0,\"#f0f921\"]],\"type\":\"heatmap\"}],\"heatmapgl\":[{\"colorbar\":{\"outlinewidth\":0,\"ticks\":\"\"},\"colorscale\":[[0.0,\"#0d0887\"],[0.1111111111111111,\"#46039f\"],[0.2222222222222222,\"#7201a8\"],[0.3333333333333333,\"#9c179e\"],[0.4444444444444444,\"#bd3786\"],[0.5555555555555556,\"#d8576b\"],[0.6666666666666666,\"#ed7953\"],[0.7777777777777778,\"#fb9f3a\"],[0.8888888888888888,\"#fdca26\"],[1.0,\"#f0f921\"]],\"type\":\"heatmapgl\"}],\"histogram\":[{\"marker\":{\"pattern\":{\"fillmode\":\"overlay\",\"size\":10,\"solidity\":0.2}},\"type\":\"histogram\"}],\"histogram2d\":[{\"colorbar\":{\"outlinewidth\":0,\"ticks\":\"\"},\"colorscale\":[[0.0,\"#0d0887\"],[0.1111111111111111,\"#46039f\"],[0.2222222222222222,\"#7201a8\"],[0.3333333333333333,\"#9c179e\"],[0.4444444444444444,\"#bd3786\"],[0.5555555555555556,\"#d8576b\"],[0.6666666666666666,\"#ed7953\"],[0.7777777777777778,\"#fb9f3a\"],[0.8888888888888888,\"#fdca26\"],[1.0,\"#f0f921\"]],\"type\":\"histogram2d\"}],\"histogram2dcontour\":[{\"colorbar\":{\"outlinewidth\":0,\"ticks\":\"\"},\"colorscale\":[[0.0,\"#0d0887\"],[0.1111111111111111,\"#46039f\"],[0.2222222222222222,\"#7201a8\"],[0.3333333333333333,\"#9c179e\"],[0.4444444444444444,\"#bd3786\"],[0.5555555555555556,\"#d8576b\"],[0.6666666666666666,\"#ed7953\"],[0.7777777777777778,\"#fb9f3a\"],[0.8888888888888888,\"#fdca26\"],[1.0,\"#f0f921\"]],\"type\":\"histogram2dcontour\"}],\"mesh3d\":[{\"colorbar\":{\"outlinewidth\":0,\"ticks\":\"\"},\"type\":\"mesh3d\"}],\"parcoords\":[{\"line\":{\"colorbar\":{\"outlinewidth\":0,\"ticks\":\"\"}},\"type\":\"parcoords\"}],\"pie\":[{\"automargin\":true,\"type\":\"pie\"}],\"scatter\":[{\"marker\":{\"colorbar\":{\"outlinewidth\":0,\"ticks\":\"\"}},\"type\":\"scatter\"}],\"scatter3d\":[{\"line\":{\"colorbar\":{\"outlinewidth\":0,\"ticks\":\"\"}},\"marker\":{\"colorbar\":{\"outlinewidth\":0,\"ticks\":\"\"}},\"type\":\"scatter3d\"}],\"scattercarpet\":[{\"marker\":{\"colorbar\":{\"outlinewidth\":0,\"ticks\":\"\"}},\"type\":\"scattercarpet\"}],\"scattergeo\":[{\"marker\":{\"colorbar\":{\"outlinewidth\":0,\"ticks\":\"\"}},\"type\":\"scattergeo\"}],\"scattergl\":[{\"marker\":{\"colorbar\":{\"outlinewidth\":0,\"ticks\":\"\"}},\"type\":\"scattergl\"}],\"scattermapbox\":[{\"marker\":{\"colorbar\":{\"outlinewidth\":0,\"ticks\":\"\"}},\"type\":\"scattermapbox\"}],\"scatterpolar\":[{\"marker\":{\"colorbar\":{\"outlinewidth\":0,\"ticks\":\"\"}},\"type\":\"scatterpolar\"}],\"scatterpolargl\":[{\"marker\":{\"colorbar\":{\"outlinewidth\":0,\"ticks\":\"\"}},\"type\":\"scatterpolargl\"}],\"scatterternary\":[{\"marker\":{\"colorbar\":{\"outlinewidth\":0,\"ticks\":\"\"}},\"type\":\"scatterternary\"}],\"surface\":[{\"colorbar\":{\"outlinewidth\":0,\"ticks\":\"\"},\"colorscale\":[[0.0,\"#0d0887\"],[0.1111111111111111,\"#46039f\"],[0.2222222222222222,\"#7201a8\"],[0.3333333333333333,\"#9c179e\"],[0.4444444444444444,\"#bd3786\"],[0.5555555555555556,\"#d8576b\"],[0.6666666666666666,\"#ed7953\"],[0.7777777777777778,\"#fb9f3a\"],[0.8888888888888888,\"#fdca26\"],[1.0,\"#f0f921\"]],\"type\":\"surface\"}],\"table\":[{\"cells\":{\"fill\":{\"color\":\"#EBF0F8\"},\"line\":{\"color\":\"white\"}},\"header\":{\"fill\":{\"color\":\"#C8D4E3\"},\"line\":{\"color\":\"white\"}},\"type\":\"table\"}]},\"layout\":{\"annotationdefaults\":{\"arrowcolor\":\"#2a3f5f\",\"arrowhead\":0,\"arrowwidth\":1},\"autotypenumbers\":\"strict\",\"coloraxis\":{\"colorbar\":{\"outlinewidth\":0,\"ticks\":\"\"}},\"colorscale\":{\"diverging\":[[0,\"#8e0152\"],[0.1,\"#c51b7d\"],[0.2,\"#de77ae\"],[0.3,\"#f1b6da\"],[0.4,\"#fde0ef\"],[0.5,\"#f7f7f7\"],[0.6,\"#e6f5d0\"],[0.7,\"#b8e186\"],[0.8,\"#7fbc41\"],[0.9,\"#4d9221\"],[1,\"#276419\"]],\"sequential\":[[0.0,\"#0d0887\"],[0.1111111111111111,\"#46039f\"],[0.2222222222222222,\"#7201a8\"],[0.3333333333333333,\"#9c179e\"],[0.4444444444444444,\"#bd3786\"],[0.5555555555555556,\"#d8576b\"],[0.6666666666666666,\"#ed7953\"],[0.7777777777777778,\"#fb9f3a\"],[0.8888888888888888,\"#fdca26\"],[1.0,\"#f0f921\"]],\"sequentialminus\":[[0.0,\"#0d0887\"],[0.1111111111111111,\"#46039f\"],[0.2222222222222222,\"#7201a8\"],[0.3333333333333333,\"#9c179e\"],[0.4444444444444444,\"#bd3786\"],[0.5555555555555556,\"#d8576b\"],[0.6666666666666666,\"#ed7953\"],[0.7777777777777778,\"#fb9f3a\"],[0.8888888888888888,\"#fdca26\"],[1.0,\"#f0f921\"]]},\"colorway\":[\"#636efa\",\"#EF553B\",\"#00cc96\",\"#ab63fa\",\"#FFA15A\",\"#19d3f3\",\"#FF6692\",\"#B6E880\",\"#FF97FF\",\"#FECB52\"],\"font\":{\"color\":\"#2a3f5f\"},\"geo\":{\"bgcolor\":\"white\",\"lakecolor\":\"white\",\"landcolor\":\"#E5ECF6\",\"showlakes\":true,\"showland\":true,\"subunitcolor\":\"white\"},\"hoverlabel\":{\"align\":\"left\"},\"hovermode\":\"closest\",\"mapbox\":{\"style\":\"light\"},\"paper_bgcolor\":\"white\",\"plot_bgcolor\":\"#E5ECF6\",\"polar\":{\"angularaxis\":{\"gridcolor\":\"white\",\"linecolor\":\"white\",\"ticks\":\"\"},\"bgcolor\":\"#E5ECF6\",\"radialaxis\":{\"gridcolor\":\"white\",\"linecolor\":\"white\",\"ticks\":\"\"}},\"scene\":{\"xaxis\":{\"backgroundcolor\":\"#E5ECF6\",\"gridcolor\":\"white\",\"gridwidth\":2,\"linecolor\":\"white\",\"showbackground\":true,\"ticks\":\"\",\"zerolinecolor\":\"white\"},\"yaxis\":{\"backgroundcolor\":\"#E5ECF6\",\"gridcolor\":\"white\",\"gridwidth\":2,\"linecolor\":\"white\",\"showbackground\":true,\"ticks\":\"\",\"zerolinecolor\":\"white\"},\"zaxis\":{\"backgroundcolor\":\"#E5ECF6\",\"gridcolor\":\"white\",\"gridwidth\":2,\"linecolor\":\"white\",\"showbackground\":true,\"ticks\":\"\",\"zerolinecolor\":\"white\"}},\"shapedefaults\":{\"line\":{\"color\":\"#2a3f5f\"}},\"ternary\":{\"aaxis\":{\"gridcolor\":\"white\",\"linecolor\":\"white\",\"ticks\":\"\"},\"baxis\":{\"gridcolor\":\"white\",\"linecolor\":\"white\",\"ticks\":\"\"},\"bgcolor\":\"#E5ECF6\",\"caxis\":{\"gridcolor\":\"white\",\"linecolor\":\"white\",\"ticks\":\"\"}},\"title\":{\"x\":0.05},\"xaxis\":{\"automargin\":true,\"gridcolor\":\"white\",\"linecolor\":\"white\",\"ticks\":\"\",\"title\":{\"standoff\":15},\"zerolinecolor\":\"white\",\"zerolinewidth\":2},\"yaxis\":{\"automargin\":true,\"gridcolor\":\"white\",\"linecolor\":\"white\",\"ticks\":\"\",\"title\":{\"standoff\":15},\"zerolinecolor\":\"white\",\"zerolinewidth\":2}}},\"geo\":{\"domain\":{\"x\":[0.0,1.0],\"y\":[0.0,1.0]},\"projection\":{\"type\":\"natural earth\"},\"center\":{}},\"legend\":{\"tracegroupgap\":0,\"itemsizing\":\"constant\"},\"margin\":{\"t\":60}},                        {\"responsive\": true}                    ).then(function(){\n",
              "                            \n",
              "var gd = document.getElementById('dec110c7-26fc-44b5-b4df-a82bbef7bdd7');\n",
              "var x = new MutationObserver(function (mutations, observer) {{\n",
              "        var display = window.getComputedStyle(gd).display;\n",
              "        if (!display || display === 'none') {{\n",
              "            console.log([gd, 'removed!']);\n",
              "            Plotly.purge(gd);\n",
              "            observer.disconnect();\n",
              "        }}\n",
              "}});\n",
              "\n",
              "// Listen for the removal of the full notebook cells\n",
              "var notebookContainer = gd.closest('#notebook-container');\n",
              "if (notebookContainer) {{\n",
              "    x.observe(notebookContainer, {childList: true});\n",
              "}}\n",
              "\n",
              "// Listen for the clearing of the current output cell\n",
              "var outputEl = gd.closest('.output');\n",
              "if (outputEl) {{\n",
              "    x.observe(outputEl, {childList: true});\n",
              "}}\n",
              "\n",
              "                        })                };                            </script>        </div>\n",
              "</body>\n",
              "</html>"
            ]
          },
          "metadata": {}
        }
      ]
    },
    {
      "cell_type": "code",
      "metadata": {
        "colab": {
          "base_uri": "https://localhost:8080/",
          "height": 300
        },
        "id": "TOdwXgtinAtf",
        "outputId": "950d1e29-cb07-47e4-8574-8f1435be054a"
      },
      "source": [
        "vg_data.describe()"
      ],
      "execution_count": 185,
      "outputs": [
        {
          "output_type": "execute_result",
          "data": {
            "text/plain": [
              "               Rank          Year      NA_Sales      EU_Sales      JP_Sales  \\\n",
              "count  16540.000000  16540.000000  16540.000000  16540.000000  16540.000000   \n",
              "mean    8294.197642   2006.399456      0.265079      0.146883      0.077998   \n",
              "std     4790.703200      5.788552      0.817929      0.506129      0.309800   \n",
              "min        1.000000   1980.000000      0.000000      0.000000      0.000000   \n",
              "25%     4143.750000   2003.000000      0.000000      0.000000      0.000000   \n",
              "50%     8292.500000   2007.000000      0.080000      0.020000      0.000000   \n",
              "75%    12440.250000   2010.000000      0.240000      0.110000      0.040000   \n",
              "max    16600.000000   2020.000000     41.490000     29.020000     10.220000   \n",
              "\n",
              "        Other_Sales  Global_Sales  \n",
              "count  16540.000000  16540.000000  \n",
              "mean       0.048191      0.538426  \n",
              "std        0.188879      1.557424  \n",
              "min        0.000000      0.010000  \n",
              "25%        0.000000      0.060000  \n",
              "50%        0.010000      0.170000  \n",
              "75%        0.040000      0.480000  \n",
              "max       10.570000     82.740000  "
            ],
            "text/html": [
              "\n",
              "  <div id=\"df-71768a2e-d93e-4cea-8f6c-0d2783d28b73\">\n",
              "    <div class=\"colab-df-container\">\n",
              "      <div>\n",
              "<style scoped>\n",
              "    .dataframe tbody tr th:only-of-type {\n",
              "        vertical-align: middle;\n",
              "    }\n",
              "\n",
              "    .dataframe tbody tr th {\n",
              "        vertical-align: top;\n",
              "    }\n",
              "\n",
              "    .dataframe thead th {\n",
              "        text-align: right;\n",
              "    }\n",
              "</style>\n",
              "<table border=\"1\" class=\"dataframe\">\n",
              "  <thead>\n",
              "    <tr style=\"text-align: right;\">\n",
              "      <th></th>\n",
              "      <th>Rank</th>\n",
              "      <th>Year</th>\n",
              "      <th>NA_Sales</th>\n",
              "      <th>EU_Sales</th>\n",
              "      <th>JP_Sales</th>\n",
              "      <th>Other_Sales</th>\n",
              "      <th>Global_Sales</th>\n",
              "    </tr>\n",
              "  </thead>\n",
              "  <tbody>\n",
              "    <tr>\n",
              "      <th>count</th>\n",
              "      <td>16540.000000</td>\n",
              "      <td>16540.000000</td>\n",
              "      <td>16540.000000</td>\n",
              "      <td>16540.000000</td>\n",
              "      <td>16540.000000</td>\n",
              "      <td>16540.000000</td>\n",
              "      <td>16540.000000</td>\n",
              "    </tr>\n",
              "    <tr>\n",
              "      <th>mean</th>\n",
              "      <td>8294.197642</td>\n",
              "      <td>2006.399456</td>\n",
              "      <td>0.265079</td>\n",
              "      <td>0.146883</td>\n",
              "      <td>0.077998</td>\n",
              "      <td>0.048191</td>\n",
              "      <td>0.538426</td>\n",
              "    </tr>\n",
              "    <tr>\n",
              "      <th>std</th>\n",
              "      <td>4790.703200</td>\n",
              "      <td>5.788552</td>\n",
              "      <td>0.817929</td>\n",
              "      <td>0.506129</td>\n",
              "      <td>0.309800</td>\n",
              "      <td>0.188879</td>\n",
              "      <td>1.557424</td>\n",
              "    </tr>\n",
              "    <tr>\n",
              "      <th>min</th>\n",
              "      <td>1.000000</td>\n",
              "      <td>1980.000000</td>\n",
              "      <td>0.000000</td>\n",
              "      <td>0.000000</td>\n",
              "      <td>0.000000</td>\n",
              "      <td>0.000000</td>\n",
              "      <td>0.010000</td>\n",
              "    </tr>\n",
              "    <tr>\n",
              "      <th>25%</th>\n",
              "      <td>4143.750000</td>\n",
              "      <td>2003.000000</td>\n",
              "      <td>0.000000</td>\n",
              "      <td>0.000000</td>\n",
              "      <td>0.000000</td>\n",
              "      <td>0.000000</td>\n",
              "      <td>0.060000</td>\n",
              "    </tr>\n",
              "    <tr>\n",
              "      <th>50%</th>\n",
              "      <td>8292.500000</td>\n",
              "      <td>2007.000000</td>\n",
              "      <td>0.080000</td>\n",
              "      <td>0.020000</td>\n",
              "      <td>0.000000</td>\n",
              "      <td>0.010000</td>\n",
              "      <td>0.170000</td>\n",
              "    </tr>\n",
              "    <tr>\n",
              "      <th>75%</th>\n",
              "      <td>12440.250000</td>\n",
              "      <td>2010.000000</td>\n",
              "      <td>0.240000</td>\n",
              "      <td>0.110000</td>\n",
              "      <td>0.040000</td>\n",
              "      <td>0.040000</td>\n",
              "      <td>0.480000</td>\n",
              "    </tr>\n",
              "    <tr>\n",
              "      <th>max</th>\n",
              "      <td>16600.000000</td>\n",
              "      <td>2020.000000</td>\n",
              "      <td>41.490000</td>\n",
              "      <td>29.020000</td>\n",
              "      <td>10.220000</td>\n",
              "      <td>10.570000</td>\n",
              "      <td>82.740000</td>\n",
              "    </tr>\n",
              "  </tbody>\n",
              "</table>\n",
              "</div>\n",
              "      <button class=\"colab-df-convert\" onclick=\"convertToInteractive('df-71768a2e-d93e-4cea-8f6c-0d2783d28b73')\"\n",
              "              title=\"Convert this dataframe to an interactive table.\"\n",
              "              style=\"display:none;\">\n",
              "        \n",
              "  <svg xmlns=\"http://www.w3.org/2000/svg\" height=\"24px\"viewBox=\"0 0 24 24\"\n",
              "       width=\"24px\">\n",
              "    <path d=\"M0 0h24v24H0V0z\" fill=\"none\"/>\n",
              "    <path d=\"M18.56 5.44l.94 2.06.94-2.06 2.06-.94-2.06-.94-.94-2.06-.94 2.06-2.06.94zm-11 1L8.5 8.5l.94-2.06 2.06-.94-2.06-.94L8.5 2.5l-.94 2.06-2.06.94zm10 10l.94 2.06.94-2.06 2.06-.94-2.06-.94-.94-2.06-.94 2.06-2.06.94z\"/><path d=\"M17.41 7.96l-1.37-1.37c-.4-.4-.92-.59-1.43-.59-.52 0-1.04.2-1.43.59L10.3 9.45l-7.72 7.72c-.78.78-.78 2.05 0 2.83L4 21.41c.39.39.9.59 1.41.59.51 0 1.02-.2 1.41-.59l7.78-7.78 2.81-2.81c.8-.78.8-2.07 0-2.86zM5.41 20L4 18.59l7.72-7.72 1.47 1.35L5.41 20z\"/>\n",
              "  </svg>\n",
              "      </button>\n",
              "      \n",
              "  <style>\n",
              "    .colab-df-container {\n",
              "      display:flex;\n",
              "      flex-wrap:wrap;\n",
              "      gap: 12px;\n",
              "    }\n",
              "\n",
              "    .colab-df-convert {\n",
              "      background-color: #E8F0FE;\n",
              "      border: none;\n",
              "      border-radius: 50%;\n",
              "      cursor: pointer;\n",
              "      display: none;\n",
              "      fill: #1967D2;\n",
              "      height: 32px;\n",
              "      padding: 0 0 0 0;\n",
              "      width: 32px;\n",
              "    }\n",
              "\n",
              "    .colab-df-convert:hover {\n",
              "      background-color: #E2EBFA;\n",
              "      box-shadow: 0px 1px 2px rgba(60, 64, 67, 0.3), 0px 1px 3px 1px rgba(60, 64, 67, 0.15);\n",
              "      fill: #174EA6;\n",
              "    }\n",
              "\n",
              "    [theme=dark] .colab-df-convert {\n",
              "      background-color: #3B4455;\n",
              "      fill: #D2E3FC;\n",
              "    }\n",
              "\n",
              "    [theme=dark] .colab-df-convert:hover {\n",
              "      background-color: #434B5C;\n",
              "      box-shadow: 0px 1px 3px 1px rgba(0, 0, 0, 0.15);\n",
              "      filter: drop-shadow(0px 1px 2px rgba(0, 0, 0, 0.3));\n",
              "      fill: #FFFFFF;\n",
              "    }\n",
              "  </style>\n",
              "\n",
              "      <script>\n",
              "        const buttonEl =\n",
              "          document.querySelector('#df-71768a2e-d93e-4cea-8f6c-0d2783d28b73 button.colab-df-convert');\n",
              "        buttonEl.style.display =\n",
              "          google.colab.kernel.accessAllowed ? 'block' : 'none';\n",
              "\n",
              "        async function convertToInteractive(key) {\n",
              "          const element = document.querySelector('#df-71768a2e-d93e-4cea-8f6c-0d2783d28b73');\n",
              "          const dataTable =\n",
              "            await google.colab.kernel.invokeFunction('convertToInteractive',\n",
              "                                                     [key], {});\n",
              "          if (!dataTable) return;\n",
              "\n",
              "          const docLinkHtml = 'Like what you see? Visit the ' +\n",
              "            '<a target=\"_blank\" href=https://colab.research.google.com/notebooks/data_table.ipynb>data table notebook</a>'\n",
              "            + ' to learn more about interactive tables.';\n",
              "          element.innerHTML = '';\n",
              "          dataTable['output_type'] = 'display_data';\n",
              "          await google.colab.output.renderOutput(dataTable, element);\n",
              "          const docLink = document.createElement('div');\n",
              "          docLink.innerHTML = docLinkHtml;\n",
              "          element.appendChild(docLink);\n",
              "        }\n",
              "      </script>\n",
              "    </div>\n",
              "  </div>\n",
              "  "
            ]
          },
          "metadata": {},
          "execution_count": 185
        }
      ]
    },
    {
      "cell_type": "code",
      "metadata": {
        "colab": {
          "base_uri": "https://localhost:8080/",
          "height": 424
        },
        "id": "8yM96g34o1tb",
        "outputId": "da61a005-11d5-4f96-bd4f-59b587929084"
      },
      "source": [
        "conditions = [\n",
        "              (vg_data['Global_Sales'] <= 0.0600),\n",
        "              (vg_data['Global_Sales'] > 0.0600) & (vg_data['Global_Sales'] <= 0.1700),\n",
        "              (vg_data['Global_Sales'] > 0.1700) & (vg_data['Global_Sales'] <= 0.4700),\n",
        "              (vg_data['Global_Sales'] > 0.4700) \n",
        "]\n",
        "\n",
        "choices = ['<= 60K', '> 60K and <= 170K', '> 170K and <= 470K', '> 470K']\n",
        "\n",
        "vg_data['Categoric_Global_Sales'] = np.select(condlist= conditions, choicelist= choices)\n",
        "\n",
        "vg_data"
      ],
      "execution_count": 186,
      "outputs": [
        {
          "output_type": "execute_result",
          "data": {
            "text/plain": [
              "        Rank                                              Name Platform  \\\n",
              "0          1                                        Wii Sports      Wii   \n",
              "1          2                                 Super Mario Bros.      NES   \n",
              "2          3                                    Mario Kart Wii      Wii   \n",
              "3          4                                 Wii Sports Resort      Wii   \n",
              "4          5                          Pokemon Red/Pokemon Blue       GB   \n",
              "...      ...                                               ...      ...   \n",
              "16593  16596                Woody Woodpecker in Crazy Castle 5      GBA   \n",
              "16594  16597                     Men in Black II: Alien Escape       GC   \n",
              "16595  16598  SCORE International Baja 1000: The Official Game      PS2   \n",
              "16596  16599                                        Know How 2       DS   \n",
              "16597  16600                                  Spirits & Spells      GBA   \n",
              "\n",
              "         Year         Genre   Publisher  NA_Sales  EU_Sales  JP_Sales  \\\n",
              "0      2006.0        Sports    Nintendo     41.49     29.02      3.77   \n",
              "1      1985.0      Platform    Nintendo     29.08      3.58      6.81   \n",
              "2      2008.0        Racing    Nintendo     15.85     12.88      3.79   \n",
              "3      2009.0        Sports    Nintendo     15.75     11.01      3.28   \n",
              "4      1996.0  Role-Playing    Nintendo     11.27      8.89     10.22   \n",
              "...       ...           ...         ...       ...       ...       ...   \n",
              "16593  2002.0      Platform       Kemco      0.01      0.00      0.00   \n",
              "16594  2003.0       Shooter  Infogrames      0.01      0.00      0.00   \n",
              "16595  2008.0        Racing  Activision      0.00      0.00      0.00   \n",
              "16596  2010.0        Puzzle    7G//AMES      0.00      0.01      0.00   \n",
              "16597  2003.0      Platform     Wanadoo      0.01      0.00      0.00   \n",
              "\n",
              "       Other_Sales  Global_Sales Categoric_Global_Sales  \n",
              "0             8.46         82.74                 > 470K  \n",
              "1             0.77         40.24                 > 470K  \n",
              "2             3.31         35.82                 > 470K  \n",
              "3             2.96         33.00                 > 470K  \n",
              "4             1.00         31.37                 > 470K  \n",
              "...            ...           ...                    ...  \n",
              "16593         0.00          0.01                 <= 60K  \n",
              "16594         0.00          0.01                 <= 60K  \n",
              "16595         0.00          0.01                 <= 60K  \n",
              "16596         0.00          0.01                 <= 60K  \n",
              "16597         0.00          0.01                 <= 60K  \n",
              "\n",
              "[16540 rows x 12 columns]"
            ],
            "text/html": [
              "\n",
              "  <div id=\"df-c134ec83-df28-42aa-bc8e-a65c13d09933\">\n",
              "    <div class=\"colab-df-container\">\n",
              "      <div>\n",
              "<style scoped>\n",
              "    .dataframe tbody tr th:only-of-type {\n",
              "        vertical-align: middle;\n",
              "    }\n",
              "\n",
              "    .dataframe tbody tr th {\n",
              "        vertical-align: top;\n",
              "    }\n",
              "\n",
              "    .dataframe thead th {\n",
              "        text-align: right;\n",
              "    }\n",
              "</style>\n",
              "<table border=\"1\" class=\"dataframe\">\n",
              "  <thead>\n",
              "    <tr style=\"text-align: right;\">\n",
              "      <th></th>\n",
              "      <th>Rank</th>\n",
              "      <th>Name</th>\n",
              "      <th>Platform</th>\n",
              "      <th>Year</th>\n",
              "      <th>Genre</th>\n",
              "      <th>Publisher</th>\n",
              "      <th>NA_Sales</th>\n",
              "      <th>EU_Sales</th>\n",
              "      <th>JP_Sales</th>\n",
              "      <th>Other_Sales</th>\n",
              "      <th>Global_Sales</th>\n",
              "      <th>Categoric_Global_Sales</th>\n",
              "    </tr>\n",
              "  </thead>\n",
              "  <tbody>\n",
              "    <tr>\n",
              "      <th>0</th>\n",
              "      <td>1</td>\n",
              "      <td>Wii Sports</td>\n",
              "      <td>Wii</td>\n",
              "      <td>2006.0</td>\n",
              "      <td>Sports</td>\n",
              "      <td>Nintendo</td>\n",
              "      <td>41.49</td>\n",
              "      <td>29.02</td>\n",
              "      <td>3.77</td>\n",
              "      <td>8.46</td>\n",
              "      <td>82.74</td>\n",
              "      <td>&gt; 470K</td>\n",
              "    </tr>\n",
              "    <tr>\n",
              "      <th>1</th>\n",
              "      <td>2</td>\n",
              "      <td>Super Mario Bros.</td>\n",
              "      <td>NES</td>\n",
              "      <td>1985.0</td>\n",
              "      <td>Platform</td>\n",
              "      <td>Nintendo</td>\n",
              "      <td>29.08</td>\n",
              "      <td>3.58</td>\n",
              "      <td>6.81</td>\n",
              "      <td>0.77</td>\n",
              "      <td>40.24</td>\n",
              "      <td>&gt; 470K</td>\n",
              "    </tr>\n",
              "    <tr>\n",
              "      <th>2</th>\n",
              "      <td>3</td>\n",
              "      <td>Mario Kart Wii</td>\n",
              "      <td>Wii</td>\n",
              "      <td>2008.0</td>\n",
              "      <td>Racing</td>\n",
              "      <td>Nintendo</td>\n",
              "      <td>15.85</td>\n",
              "      <td>12.88</td>\n",
              "      <td>3.79</td>\n",
              "      <td>3.31</td>\n",
              "      <td>35.82</td>\n",
              "      <td>&gt; 470K</td>\n",
              "    </tr>\n",
              "    <tr>\n",
              "      <th>3</th>\n",
              "      <td>4</td>\n",
              "      <td>Wii Sports Resort</td>\n",
              "      <td>Wii</td>\n",
              "      <td>2009.0</td>\n",
              "      <td>Sports</td>\n",
              "      <td>Nintendo</td>\n",
              "      <td>15.75</td>\n",
              "      <td>11.01</td>\n",
              "      <td>3.28</td>\n",
              "      <td>2.96</td>\n",
              "      <td>33.00</td>\n",
              "      <td>&gt; 470K</td>\n",
              "    </tr>\n",
              "    <tr>\n",
              "      <th>4</th>\n",
              "      <td>5</td>\n",
              "      <td>Pokemon Red/Pokemon Blue</td>\n",
              "      <td>GB</td>\n",
              "      <td>1996.0</td>\n",
              "      <td>Role-Playing</td>\n",
              "      <td>Nintendo</td>\n",
              "      <td>11.27</td>\n",
              "      <td>8.89</td>\n",
              "      <td>10.22</td>\n",
              "      <td>1.00</td>\n",
              "      <td>31.37</td>\n",
              "      <td>&gt; 470K</td>\n",
              "    </tr>\n",
              "    <tr>\n",
              "      <th>...</th>\n",
              "      <td>...</td>\n",
              "      <td>...</td>\n",
              "      <td>...</td>\n",
              "      <td>...</td>\n",
              "      <td>...</td>\n",
              "      <td>...</td>\n",
              "      <td>...</td>\n",
              "      <td>...</td>\n",
              "      <td>...</td>\n",
              "      <td>...</td>\n",
              "      <td>...</td>\n",
              "      <td>...</td>\n",
              "    </tr>\n",
              "    <tr>\n",
              "      <th>16593</th>\n",
              "      <td>16596</td>\n",
              "      <td>Woody Woodpecker in Crazy Castle 5</td>\n",
              "      <td>GBA</td>\n",
              "      <td>2002.0</td>\n",
              "      <td>Platform</td>\n",
              "      <td>Kemco</td>\n",
              "      <td>0.01</td>\n",
              "      <td>0.00</td>\n",
              "      <td>0.00</td>\n",
              "      <td>0.00</td>\n",
              "      <td>0.01</td>\n",
              "      <td>&lt;= 60K</td>\n",
              "    </tr>\n",
              "    <tr>\n",
              "      <th>16594</th>\n",
              "      <td>16597</td>\n",
              "      <td>Men in Black II: Alien Escape</td>\n",
              "      <td>GC</td>\n",
              "      <td>2003.0</td>\n",
              "      <td>Shooter</td>\n",
              "      <td>Infogrames</td>\n",
              "      <td>0.01</td>\n",
              "      <td>0.00</td>\n",
              "      <td>0.00</td>\n",
              "      <td>0.00</td>\n",
              "      <td>0.01</td>\n",
              "      <td>&lt;= 60K</td>\n",
              "    </tr>\n",
              "    <tr>\n",
              "      <th>16595</th>\n",
              "      <td>16598</td>\n",
              "      <td>SCORE International Baja 1000: The Official Game</td>\n",
              "      <td>PS2</td>\n",
              "      <td>2008.0</td>\n",
              "      <td>Racing</td>\n",
              "      <td>Activision</td>\n",
              "      <td>0.00</td>\n",
              "      <td>0.00</td>\n",
              "      <td>0.00</td>\n",
              "      <td>0.00</td>\n",
              "      <td>0.01</td>\n",
              "      <td>&lt;= 60K</td>\n",
              "    </tr>\n",
              "    <tr>\n",
              "      <th>16596</th>\n",
              "      <td>16599</td>\n",
              "      <td>Know How 2</td>\n",
              "      <td>DS</td>\n",
              "      <td>2010.0</td>\n",
              "      <td>Puzzle</td>\n",
              "      <td>7G//AMES</td>\n",
              "      <td>0.00</td>\n",
              "      <td>0.01</td>\n",
              "      <td>0.00</td>\n",
              "      <td>0.00</td>\n",
              "      <td>0.01</td>\n",
              "      <td>&lt;= 60K</td>\n",
              "    </tr>\n",
              "    <tr>\n",
              "      <th>16597</th>\n",
              "      <td>16600</td>\n",
              "      <td>Spirits &amp; Spells</td>\n",
              "      <td>GBA</td>\n",
              "      <td>2003.0</td>\n",
              "      <td>Platform</td>\n",
              "      <td>Wanadoo</td>\n",
              "      <td>0.01</td>\n",
              "      <td>0.00</td>\n",
              "      <td>0.00</td>\n",
              "      <td>0.00</td>\n",
              "      <td>0.01</td>\n",
              "      <td>&lt;= 60K</td>\n",
              "    </tr>\n",
              "  </tbody>\n",
              "</table>\n",
              "<p>16540 rows × 12 columns</p>\n",
              "</div>\n",
              "      <button class=\"colab-df-convert\" onclick=\"convertToInteractive('df-c134ec83-df28-42aa-bc8e-a65c13d09933')\"\n",
              "              title=\"Convert this dataframe to an interactive table.\"\n",
              "              style=\"display:none;\">\n",
              "        \n",
              "  <svg xmlns=\"http://www.w3.org/2000/svg\" height=\"24px\"viewBox=\"0 0 24 24\"\n",
              "       width=\"24px\">\n",
              "    <path d=\"M0 0h24v24H0V0z\" fill=\"none\"/>\n",
              "    <path d=\"M18.56 5.44l.94 2.06.94-2.06 2.06-.94-2.06-.94-.94-2.06-.94 2.06-2.06.94zm-11 1L8.5 8.5l.94-2.06 2.06-.94-2.06-.94L8.5 2.5l-.94 2.06-2.06.94zm10 10l.94 2.06.94-2.06 2.06-.94-2.06-.94-.94-2.06-.94 2.06-2.06.94z\"/><path d=\"M17.41 7.96l-1.37-1.37c-.4-.4-.92-.59-1.43-.59-.52 0-1.04.2-1.43.59L10.3 9.45l-7.72 7.72c-.78.78-.78 2.05 0 2.83L4 21.41c.39.39.9.59 1.41.59.51 0 1.02-.2 1.41-.59l7.78-7.78 2.81-2.81c.8-.78.8-2.07 0-2.86zM5.41 20L4 18.59l7.72-7.72 1.47 1.35L5.41 20z\"/>\n",
              "  </svg>\n",
              "      </button>\n",
              "      \n",
              "  <style>\n",
              "    .colab-df-container {\n",
              "      display:flex;\n",
              "      flex-wrap:wrap;\n",
              "      gap: 12px;\n",
              "    }\n",
              "\n",
              "    .colab-df-convert {\n",
              "      background-color: #E8F0FE;\n",
              "      border: none;\n",
              "      border-radius: 50%;\n",
              "      cursor: pointer;\n",
              "      display: none;\n",
              "      fill: #1967D2;\n",
              "      height: 32px;\n",
              "      padding: 0 0 0 0;\n",
              "      width: 32px;\n",
              "    }\n",
              "\n",
              "    .colab-df-convert:hover {\n",
              "      background-color: #E2EBFA;\n",
              "      box-shadow: 0px 1px 2px rgba(60, 64, 67, 0.3), 0px 1px 3px 1px rgba(60, 64, 67, 0.15);\n",
              "      fill: #174EA6;\n",
              "    }\n",
              "\n",
              "    [theme=dark] .colab-df-convert {\n",
              "      background-color: #3B4455;\n",
              "      fill: #D2E3FC;\n",
              "    }\n",
              "\n",
              "    [theme=dark] .colab-df-convert:hover {\n",
              "      background-color: #434B5C;\n",
              "      box-shadow: 0px 1px 3px 1px rgba(0, 0, 0, 0.15);\n",
              "      filter: drop-shadow(0px 1px 2px rgba(0, 0, 0, 0.3));\n",
              "      fill: #FFFFFF;\n",
              "    }\n",
              "  </style>\n",
              "\n",
              "      <script>\n",
              "        const buttonEl =\n",
              "          document.querySelector('#df-c134ec83-df28-42aa-bc8e-a65c13d09933 button.colab-df-convert');\n",
              "        buttonEl.style.display =\n",
              "          google.colab.kernel.accessAllowed ? 'block' : 'none';\n",
              "\n",
              "        async function convertToInteractive(key) {\n",
              "          const element = document.querySelector('#df-c134ec83-df28-42aa-bc8e-a65c13d09933');\n",
              "          const dataTable =\n",
              "            await google.colab.kernel.invokeFunction('convertToInteractive',\n",
              "                                                     [key], {});\n",
              "          if (!dataTable) return;\n",
              "\n",
              "          const docLinkHtml = 'Like what you see? Visit the ' +\n",
              "            '<a target=\"_blank\" href=https://colab.research.google.com/notebooks/data_table.ipynb>data table notebook</a>'\n",
              "            + ' to learn more about interactive tables.';\n",
              "          element.innerHTML = '';\n",
              "          dataTable['output_type'] = 'display_data';\n",
              "          await google.colab.output.renderOutput(dataTable, element);\n",
              "          const docLink = document.createElement('div');\n",
              "          docLink.innerHTML = docLinkHtml;\n",
              "          element.appendChild(docLink);\n",
              "        }\n",
              "      </script>\n",
              "    </div>\n",
              "  </div>\n",
              "  "
            ]
          },
          "metadata": {},
          "execution_count": 186
        }
      ]
    },
    {
      "cell_type": "code",
      "metadata": {
        "colab": {
          "base_uri": "https://localhost:8080/"
        },
        "id": "DsuhfFHqutLS",
        "outputId": "69b1101c-643c-4c0c-a7e0-257d16079d3d"
      },
      "source": [
        "vg_data['Categoric_Global_Sales'].unique()"
      ],
      "execution_count": 187,
      "outputs": [
        {
          "output_type": "execute_result",
          "data": {
            "text/plain": [
              "array(['> 470K', '> 170K and <= 470K', '> 60K and <= 170K', '<= 60K'],\n",
              "      dtype=object)"
            ]
          },
          "metadata": {},
          "execution_count": 187
        }
      ]
    },
    {
      "cell_type": "code",
      "metadata": {
        "id": "XkeCtOjbvnX0",
        "colab": {
          "base_uri": "https://localhost:8080/"
        },
        "outputId": "5b93f749-d939-4668-d8eb-502e31800ed5"
      },
      "source": [
        "x_vg_data = vg_data.loc[: , ['Year', 'Genre', 'Platform', 'EU_Sales']].values\n",
        "x_vg_data"
      ],
      "execution_count": 188,
      "outputs": [
        {
          "output_type": "execute_result",
          "data": {
            "text/plain": [
              "array([[2006.0, 'Sports', 'Wii', 29.02],\n",
              "       [1985.0, 'Platform', 'NES', 3.58],\n",
              "       [2008.0, 'Racing', 'Wii', 12.88],\n",
              "       ...,\n",
              "       [2008.0, 'Racing', 'PS2', 0.0],\n",
              "       [2010.0, 'Puzzle', 'DS', 0.01],\n",
              "       [2003.0, 'Platform', 'GBA', 0.0]], dtype=object)"
            ]
          },
          "metadata": {},
          "execution_count": 188
        }
      ]
    },
    {
      "cell_type": "code",
      "metadata": {
        "colab": {
          "base_uri": "https://localhost:8080/"
        },
        "id": "aqLBsyCxsvML",
        "outputId": "9ceb3428-580c-48cc-c131-3591fff1c14b"
      },
      "source": [
        "y_vg_data = vg_data.iloc[:, 11]\n",
        "y_vg_data = np.array(y_vg_data)\n",
        "y_vg_data"
      ],
      "execution_count": 189,
      "outputs": [
        {
          "output_type": "execute_result",
          "data": {
            "text/plain": [
              "array(['> 470K', '> 470K', '> 470K', ..., '<= 60K', '<= 60K', '<= 60K'],\n",
              "      dtype=object)"
            ]
          },
          "metadata": {},
          "execution_count": 189
        }
      ]
    },
    {
      "cell_type": "code",
      "metadata": {
        "id": "dcfp7v_Etd6V"
      },
      "source": [
        "from sklearn.preprocessing import StandardScaler\n",
        "from sklearn.preprocessing import LabelEncoder\n",
        "from sklearn.preprocessing import OneHotEncoder\n",
        "from sklearn.compose import ColumnTransformer"
      ],
      "execution_count": 190,
      "outputs": []
    },
    {
      "cell_type": "code",
      "metadata": {
        "id": "nVfxWN7iu4RJ"
      },
      "source": [
        "label_encoder_genre = LabelEncoder()\n",
        "label_encoder_platform = LabelEncoder()"
      ],
      "execution_count": 191,
      "outputs": []
    },
    {
      "cell_type": "code",
      "metadata": {
        "id": "3DUjdgRYvNgu"
      },
      "source": [
        "x_vg_data[:, 1] = label_encoder_genre.fit_transform(x_vg_data[:, 1])\n",
        "x_vg_data[:, 2] = label_encoder_platform.fit_transform(x_vg_data[:, 2])"
      ],
      "execution_count": 192,
      "outputs": []
    },
    {
      "cell_type": "code",
      "metadata": {
        "colab": {
          "base_uri": "https://localhost:8080/"
        },
        "id": "0PZAaQ5CvyMs",
        "outputId": "412f99cf-c170-48f9-8152-a9fce1e459a7"
      },
      "source": [
        "x_vg_data"
      ],
      "execution_count": 193,
      "outputs": [
        {
          "output_type": "execute_result",
          "data": {
            "text/plain": [
              "array([[2006.0, 10, 26, 29.02],\n",
              "       [1985.0, 4, 11, 3.58],\n",
              "       [2008.0, 6, 26, 12.88],\n",
              "       ...,\n",
              "       [2008.0, 6, 16, 0.0],\n",
              "       [2010.0, 5, 4, 0.01],\n",
              "       [2003.0, 4, 6, 0.0]], dtype=object)"
            ]
          },
          "metadata": {},
          "execution_count": 193
        }
      ]
    },
    {
      "cell_type": "code",
      "metadata": {
        "id": "mRnk7BFJwcI_"
      },
      "source": [
        "onehotencoder_vg_data = ColumnTransformer(transformers = [('OneHot', OneHotEncoder(), [1, 2])], remainder = 'passthrough')"
      ],
      "execution_count": 194,
      "outputs": []
    },
    {
      "cell_type": "code",
      "metadata": {
        "id": "KUH-pvWSxXE6"
      },
      "source": [
        "x_vg_data = onehotencoder_vg_data.fit_transform(x_vg_data).toarray()"
      ],
      "execution_count": 195,
      "outputs": []
    },
    {
      "cell_type": "code",
      "metadata": {
        "colab": {
          "base_uri": "https://localhost:8080/"
        },
        "id": "Fq1nyWCQyjfu",
        "outputId": "fa46d868-867f-4c16-8d33-d4b87881b499"
      },
      "source": [
        "x_vg_data.shape"
      ],
      "execution_count": 196,
      "outputs": [
        {
          "output_type": "execute_result",
          "data": {
            "text/plain": [
              "(16540, 45)"
            ]
          },
          "metadata": {},
          "execution_count": 196
        }
      ]
    },
    {
      "cell_type": "code",
      "metadata": {
        "id": "288TITt1yvzl"
      },
      "source": [
        "# scaling the data\n",
        "scaler_vg_data = StandardScaler()\n",
        "x_vg_data = scaler_vg_data.fit_transform(x_vg_data)"
      ],
      "execution_count": 197,
      "outputs": []
    },
    {
      "cell_type": "code",
      "metadata": {
        "colab": {
          "base_uri": "https://localhost:8080/"
        },
        "id": "LQgssrQZzL0V",
        "outputId": "0cd7e895-f6b9-4c47-d85c-ae02fe60c5c8"
      },
      "source": [
        "x_vg_data[3]"
      ],
      "execution_count": 198,
      "outputs": [
        {
          "output_type": "execute_result",
          "data": {
            "text/plain": [
              "array([-5.00094466e-01, -2.89864618e-01, -2.32176552e-01, -3.39789998e-01,\n",
              "       -2.37621496e-01, -1.90803013e-01, -2.85676915e-01, -3.14183555e-01,\n",
              "       -2.93038988e-01, -2.34624802e-01,  2.46156975e+00, -2.06745409e-01,\n",
              "       -9.00349715e-02, -1.34689042e-02, -1.77826542e-01, -5.61587823e-02,\n",
              "       -3.87154705e-01, -7.72032736e-02, -2.24853159e-01, -1.86506796e-01,\n",
              "       -4.04360655e-02, -7.77580528e-03, -1.40235036e-01, -7.72032736e-02,\n",
              "       -2.69451416e-02, -2.47404077e-01, -7.77580528e-03, -2.78810083e-01,\n",
              "       -3.87464375e-01, -2.95222910e-01, -1.43998683e-01, -2.81070431e-01,\n",
              "       -1.59630984e-01, -1.02810746e-01, -1.90496350e-02, -1.21085413e-01,\n",
              "       -1.09969817e-02, -1.90496350e-02,  3.39005120e+00, -9.33868702e-02,\n",
              "       -2.87283100e-01, -2.28977387e-01, -1.14218540e-01,  4.49270002e-01,\n",
              "        2.14637880e+01])"
            ]
          },
          "metadata": {},
          "execution_count": 198
        }
      ]
    },
    {
      "cell_type": "code",
      "metadata": {
        "id": "horb2HEczoWD"
      },
      "source": [
        "from sklearn.model_selection import train_test_split"
      ],
      "execution_count": 199,
      "outputs": []
    },
    {
      "cell_type": "code",
      "metadata": {
        "id": "F4QC29LizvJR"
      },
      "source": [
        "x_vg_data_train, x_vg_data_test, y_vg_data_train, y_vg_data_test = train_test_split(x_vg_data, y_vg_data, test_size = 0.25, random_state = 0)"
      ],
      "execution_count": 200,
      "outputs": []
    },
    {
      "cell_type": "code",
      "metadata": {
        "colab": {
          "base_uri": "https://localhost:8080/"
        },
        "id": "yH4WoDXR0dRY",
        "outputId": "c5366190-41e7-4551-e517-f27f916b2c08"
      },
      "source": [
        "x_vg_data_train.shape, y_vg_data_train.shape"
      ],
      "execution_count": 201,
      "outputs": [
        {
          "output_type": "execute_result",
          "data": {
            "text/plain": [
              "((12405, 45), (12405,))"
            ]
          },
          "metadata": {},
          "execution_count": 201
        }
      ]
    },
    {
      "cell_type": "code",
      "metadata": {
        "colab": {
          "base_uri": "https://localhost:8080/"
        },
        "id": "4nHLOfBf0l7Q",
        "outputId": "5002ec4c-0e29-4b55-d076-c189d9bec001"
      },
      "source": [
        "x_vg_data_test.shape, y_vg_data_test.shape"
      ],
      "execution_count": 202,
      "outputs": [
        {
          "output_type": "execute_result",
          "data": {
            "text/plain": [
              "((4135, 45), (4135,))"
            ]
          },
          "metadata": {},
          "execution_count": 202
        }
      ]
    },
    {
      "cell_type": "code",
      "metadata": {
        "id": "os-EXOw205ST"
      },
      "source": [
        "from sklearn.naive_bayes import GaussianNB"
      ],
      "execution_count": 203,
      "outputs": []
    },
    {
      "cell_type": "code",
      "metadata": {
        "colab": {
          "base_uri": "https://localhost:8080/"
        },
        "id": "gwn8a6aU2aap",
        "outputId": "cef8dd23-fdf2-4402-de0b-074bd31d5e4e"
      },
      "source": [
        "#type(y_vg_data_train)\n",
        "type(y_vg_data_test)"
      ],
      "execution_count": 204,
      "outputs": [
        {
          "output_type": "execute_result",
          "data": {
            "text/plain": [
              "numpy.ndarray"
            ]
          },
          "metadata": {},
          "execution_count": 204
        }
      ]
    },
    {
      "cell_type": "code",
      "metadata": {
        "colab": {
          "base_uri": "https://localhost:8080/"
        },
        "id": "8hOu4jaZ0_1z",
        "outputId": "2a224e40-d8e3-4628-8e08-736a1edc6ea6"
      },
      "source": [
        "naive_vg = GaussianNB()\n",
        "naive_vg.fit(x_vg_data_train, y_vg_data_train)\n",
        "pred = naive_vg.predict(x_vg_data_test)\n",
        "pred"
      ],
      "execution_count": 205,
      "outputs": [
        {
          "output_type": "execute_result",
          "data": {
            "text/plain": [
              "array(['> 170K and <= 470K', '> 170K and <= 470K', '> 60K and <= 170K',\n",
              "       ..., '> 170K and <= 470K', '> 170K and <= 470K',\n",
              "       '> 170K and <= 470K'], dtype='<U18')"
            ]
          },
          "metadata": {},
          "execution_count": 205
        }
      ]
    },
    {
      "cell_type": "code",
      "metadata": {
        "id": "H5DQ4UAa-zlf"
      },
      "source": [
        "#newPrediction = naive_vg.predict([-5.00094466e-01,-5.00094466e-01, -5.00094466e-01, -5.00094466e-01])"
      ],
      "execution_count": 206,
      "outputs": []
    },
    {
      "cell_type": "code",
      "metadata": {
        "id": "9r81it0m8yDk"
      },
      "source": [
        "from sklearn.metrics import accuracy_score, confusion_matrix, classification_report\n",
        "from yellowbrick.classifier import ConfusionMatrix"
      ],
      "execution_count": 207,
      "outputs": []
    },
    {
      "cell_type": "code",
      "metadata": {
        "colab": {
          "base_uri": "https://localhost:8080/"
        },
        "id": "bOALLvXy828F",
        "outputId": "a9f0bec3-d4ad-4c62-e4df-c8e82492305d"
      },
      "source": [
        "accuracy_score(y_vg_data_test, pred)"
      ],
      "execution_count": 208,
      "outputs": [
        {
          "output_type": "execute_result",
          "data": {
            "text/plain": [
              "0.3639661426844015"
            ]
          },
          "metadata": {},
          "execution_count": 208
        }
      ]
    },
    {
      "cell_type": "code",
      "metadata": {
        "colab": {
          "base_uri": "https://localhost:8080/",
          "height": 679
        },
        "id": "d0E8V1KT9Gp9",
        "outputId": "f0c81b44-8965-4030-9587-8b992eeefd3b"
      },
      "source": [
        "cm = ConfusionMatrix(naive_vg)\n",
        "cm.fit(x_vg_data_train, y_vg_data_train)\n",
        "cm.score(x_vg_data_test, y_vg_data_test)"
      ],
      "execution_count": 209,
      "outputs": [
        {
          "output_type": "execute_result",
          "data": {
            "text/plain": [
              "0.3639661426844015"
            ]
          },
          "metadata": {},
          "execution_count": 209
        },
        {
          "output_type": "display_data",
          "data": {
            "text/plain": [
              "<Figure size 1080x648 with 1 Axes>"
            ],
            "image/png": "[encoded data removed]"
          },
          "metadata": {}
        }
      ]
    },
    {
      "cell_type": "code",
      "metadata": {
        "colab": {
          "base_uri": "https://localhost:8080/"
        },
        "id": "AwKgjGnX9iSz",
        "outputId": "6d2af4e3-9957-441c-f8e1-189f4dd0bef2"
      },
      "source": [
        "print(classification_report(y_vg_data_test, pred))"
      ],
      "execution_count": 210,
      "outputs": [
        {
          "output_type": "stream",
          "name": "stdout",
          "text": [
            "                    precision    recall  f1-score   support\n",
            "\n",
            "            <= 60K       0.50      0.00      0.00      1106\n",
            "> 170K and <= 470K       0.28      0.85      0.42      1031\n",
            "            > 470K       0.65      0.60      0.62       989\n",
            " > 60K and <= 170K       0.35      0.04      0.07      1009\n",
            "\n",
            "          accuracy                           0.36      4135\n",
            "         macro avg       0.45      0.37      0.28      4135\n",
            "      weighted avg       0.44      0.36      0.27      4135\n",
            "\n"
          ]
        }
      ]
    },
    {
      "cell_type": "code",
      "metadata": {
        "colab": {
          "base_uri": "https://localhost:8080/",
          "height": 937
        },
        "id": "qZrzRWkyEhau",
        "outputId": "99c5c986-3566-43fe-877b-e8aadff326b4"
      },
      "source": [
        "px.scatter_3d(vg_data, x = vg_data['EU_Sales'], y = vg_data['NA_Sales'], z = vg_data['JP_Sales'], width= 1700, height= 900, color = vg_data['Global_Sales'])"
      ],
      "execution_count": 211,
      "outputs": [
        {
          "output_type": "display_data",
          "data": {
            "text/html": [
              "<html>\n",
              "<head><meta charset=\"utf-8\" /></head>\n",
              "<body>\n",
              "    <div>            <script src=\"https://cdnjs.cloudflare.com/ajax/libs/mathjax/2.7.5/MathJax.js?config=TeX-AMS-MML_SVG\"></script><script type=\"text/javascript\">if (window.MathJax) {MathJax.Hub.Config({SVG: {font: \"STIX-Web\"}});}</script>                <script type=\"text/javascript\">window.PlotlyConfig = {MathJaxConfig: 'local'};</script>\n",
              "        <script src=\"https://cdn.plot.ly/plotly-2.8.3.min.js\"></script>                <div id=\"3501a93e-ff41-41c8-b37c-daefae1b5d4a\" class=\"plotly-graph-div\" style=\"height:900px; width:1700px;\"></div>            <script type=\"text/javascript\">                                    window.PLOTLYENV=window.PLOTLYENV || {};                                    if (document.getElementById(\"3501a93e-ff41-41c8-b37c-daefae1b5d4a\")) {                    Plotly.newPlot(                        \"3501a93e-ff41-41c8-b37c-daefae1b5d4a\",                        [{\"hovertemplate\":\"EU_Sales=%{x}<br>NA_Sales=%{y}<br>JP_Sales=%{z}<br>Global_Sales=%{marker.color}<extra></extra>\",\"legendgroup\":\"\",\"marker\":{\"color\":[82.74,40.24,35.82,33.0,31.37,30.26,30.01,29.02,28.62,28.31,24.76,23.42,23.1,22.72,22.0,21.82,21.4,20.81,20.61,20.22,18.36,18.14,17.28,16.38,16.15,15.85,15.32,15.3,14.98,14.76,14.64,14.64,14.35,14.24,14.03,13.73,13.51,13.46,13.1,13.04,12.73,12.27,12.21,12.14,11.98,11.9,11.89,11.66,11.52,11.33,11.18,11.02,10.95,10.79,10.77,10.69,10.57,10.55,10.49,10.42,10.26,10.21,9.88,9.87,9.82,9.76,9.72,9.59,9.52,9.49,9.32,9.3,9.2,9.09,9.02,8.84,8.76,8.49,8.49,8.49,8.42,8.33,8.24,8.11,8.09,8.06,8.05,7.86,7.84,7.81,7.72,7.69,7.67,7.6,7.6,7.58,7.46,7.45,7.37,7.34,7.31,7.3,7.27,7.23,7.2,7.16,7.13,7.07,6.96,6.96,6.95,6.91,6.9,6.9,6.83,6.83,6.82,6.81,6.76,6.73,6.72,6.69,6.67,6.6,6.59,6.59,6.56,6.51,6.5,6.43,6.41,6.4,6.39,6.36,6.34,6.31,6.3,6.28,6.27,6.24,6.24,6.11,6.05,6.03,6.03,6.03,5.99,5.95,5.92,5.84,5.83,5.82,5.74,5.72,5.65,5.58,5.57,5.55,5.55,5.53,5.51,5.5,5.49,5.47,5.46,5.45,5.43,5.42,5.42,5.36,5.34,5.31,5.3,5.3,5.29,5.27,5.27,5.26,5.24,5.23,5.21,5.2,5.2,5.19,5.19,5.18,5.17,5.15,5.15,5.14,5.13,5.13,5.13,5.13,5.12,5.12,5.11,5.08,5.08,5.08,5.07,5.05,5.02,5.02,5.01,5.0,5.0,4.98,4.96,4.96,4.94,4.91,4.9,4.88,4.87,4.85,4.84,4.83,4.83,4.82,4.79,4.77,4.76,4.73,4.7,4.68,4.68,4.67,4.64,4.63,4.62,4.61,4.6,4.58,4.58,4.57,4.55,4.53,4.53,4.5,4.49,4.48,4.47,4.47,4.45,4.45,4.44,4.42,4.41,4.39,4.39,4.38,4.37,4.35,4.34,4.33,4.31,4.31,4.31,4.31,4.26,4.25,4.25,4.24,4.24,4.23,4.22,4.21,4.21,4.21,4.2,4.2,4.2,4.19,4.19,4.19,4.17,4.16,4.16,4.14,4.14,4.12,4.12,4.11,4.1,4.1,4.1,4.09,4.09,4.08,4.07,4.06,4.06,4.05,4.05,4.03,4.03,4.02,4.01,4.01,4.0,3.99,3.98,3.92,3.92,3.91,3.9,3.89,3.89,3.88,3.88,3.87,3.87,3.87,3.85,3.85,3.84,3.84,3.83,3.83,3.82,3.81,3.79,3.78,3.78,3.77,3.77,3.76,3.76,3.76,3.73,3.73,3.72,3.71,3.7,3.7,3.69,3.69,3.67,3.67,3.66,3.65,3.65,3.65,3.64,3.64,3.63,3.63,3.63,3.63,3.62,3.61,3.61,3.61,3.61,3.61,3.6,3.59,3.58,3.56,3.54,3.54,3.54,3.53,3.53,3.53,3.53,3.52,3.52,3.52,3.52,3.51,3.51,3.5,3.5,3.5,3.5,3.49,3.49,3.48,3.48,3.46,3.45,3.44,3.44,3.44,3.43,3.42,3.42,3.42,3.41,3.41,3.4,3.39,3.38,3.38,3.38,3.36,3.36,3.36,3.34,3.34,3.33,3.33,3.33,3.32,3.32,3.31,3.28,3.28,3.28,3.27,3.27,3.27,3.26,3.24,3.23,3.23,3.22,3.22,3.21,3.2,3.2,3.2,3.19,3.19,3.19,3.19,3.18,3.18,3.17,3.17,3.17,3.17,3.16,3.15,3.15,3.15,3.15,3.15,3.14,3.13,3.12,3.12,3.12,3.12,3.12,3.12,3.11,3.11,3.09,3.08,3.08,3.07,3.07,3.07,3.07,3.07,3.05,3.04,3.04,3.03,3.03,3.02,3.02,3.02,3.02,3.0,3.0,3.0,2.99,2.99,2.99,2.99,2.99,2.98,2.97,2.97,2.97,2.96,2.96,2.96,2.95,2.94,2.94,2.94,2.94,2.94,2.93,2.92,2.91,2.91,2.9,2.9,2.9,2.9,2.9,2.89,2.89,2.89,2.88,2.88,2.88,2.87,2.86,2.86,2.86,2.85,2.85,2.85,2.85,2.85,2.85,2.84,2.83,2.83,2.83,2.83,2.82,2.82,2.81,2.81,2.81,2.8,2.8,2.8,2.79,2.79,2.79,2.79,2.79,2.79,2.79,2.79,2.79,2.79,2.78,2.78,2.78,2.78,2.77,2.77,2.77,2.76,2.75,2.74,2.73,2.73,2.72,2.71,2.7,2.7,2.7,2.7,2.69,2.69,2.69,2.69,2.68,2.68,2.68,2.68,2.68,2.67,2.67,2.67,2.67,2.66,2.65,2.65,2.65,2.65,2.65,2.65,2.64,2.63,2.63,2.63,2.63,2.62,2.62,2.62,2.62,2.62,2.61,2.61,2.6,2.6,2.59,2.59,2.59,2.58,2.58,2.58,2.58,2.58,2.57,2.57,2.57,2.57,2.56,2.56,2.56,2.54,2.54,2.54,2.53,2.52,2.52,2.52,2.52,2.51,2.5,2.5,2.5,2.49,2.49,2.49,2.49,2.48,2.48,2.48,2.48,2.48,2.47,2.47,2.46,2.45,2.45,2.45,2.44,2.44,2.44,2.43,2.43,2.42,2.42,2.42,2.42,2.41,2.41,2.41,2.41,2.41,2.4,2.4,2.4,2.4,2.39,2.39,2.39,2.39,2.39,2.39,2.39,2.38,2.38,2.38,2.38,2.38,2.38,2.38,2.38,2.37,2.37,2.37,2.37,2.37,2.36,2.36,2.35,2.35,2.35,2.35,2.34,2.34,2.34,2.34,2.33,2.32,2.32,2.32,2.32,2.32,2.31,2.31,2.31,2.31,2.31,2.3,2.3,2.3,2.29,2.29,2.29,2.28,2.28,2.28,2.28,2.28,2.28,2.28,2.28,2.28,2.27,2.27,2.27,2.27,2.26,2.26,2.26,2.26,2.25,2.25,2.25,2.25,2.25,2.25,2.25,2.24,2.23,2.23,2.23,2.23,2.22,2.22,2.22,2.22,2.22,2.21,2.21,2.21,2.2,2.2,2.2,2.2,2.2,2.2,2.2,2.19,2.19,2.19,2.19,2.19,2.19,2.18,2.18,2.18,2.18,2.18,2.17,2.17,2.17,2.17,2.16,2.16,2.15,2.15,2.15,2.15,2.14,2.14,2.14,2.14,2.14,2.13,2.13,2.13,2.13,2.13,2.12,2.12,2.12,2.12,2.12,2.11,2.11,2.11,2.11,2.11,2.11,2.11,2.11,2.11,2.1,2.1,2.1,2.1,2.1,2.09,2.09,2.09,2.09,2.09,2.09,2.09,2.09,2.09,2.08,2.08,2.08,2.08,2.08,2.08,2.08,2.08,2.08,2.07,2.07,2.07,2.07,2.07,2.06,2.06,2.06,2.06,2.06,2.06,2.06,2.06,2.05,2.05,2.05,2.05,2.05,2.05,2.05,2.05,2.04,2.04,2.04,2.04,2.04,2.04,2.04,2.03,2.03,2.03,2.03,2.02,2.02,2.02,2.02,2.01,2.01,2.0,2.0,2.0,2.0,2.0,1.99,1.99,1.99,1.98,1.98,1.98,1.98,1.97,1.97,1.97,1.97,1.97,1.97,1.97,1.96,1.96,1.96,1.96,1.96,1.96,1.95,1.95,1.95,1.95,1.95,1.94,1.94,1.94,1.94,1.94,1.94,1.94,1.94,1.93,1.93,1.93,1.93,1.93,1.93,1.93,1.93,1.93,1.92,1.92,1.92,1.92,1.92,1.92,1.92,1.92,1.92,1.91,1.91,1.91,1.91,1.91,1.9,1.9,1.89,1.89,1.89,1.88,1.88,1.88,1.88,1.88,1.88,1.87,1.87,1.87,1.87,1.87,1.86,1.86,1.86,1.86,1.86,1.86,1.86,1.86,1.86,1.86,1.86,1.85,1.85,1.85,1.85,1.85,1.85,1.84,1.84,1.84,1.83,1.83,1.83,1.83,1.83,1.83,1.83,1.83,1.82,1.82,1.82,1.82,1.82,1.81,1.81,1.81,1.81,1.81,1.81,1.8,1.8,1.8,1.8,1.8,1.79,1.79,1.79,1.78,1.78,1.78,1.78,1.78,1.78,1.78,1.78,1.77,1.77,1.77,1.77,1.77,1.77,1.77,1.77,1.77,1.76,1.76,1.76,1.76,1.76,1.76,1.76,1.76,1.76,1.76,1.76,1.76,1.76,1.76,1.76,1.76,1.75,1.75,1.75,1.75,1.75,1.75,1.75,1.75,1.75,1.75,1.75,1.74,1.74,1.74,1.74,1.74,1.74,1.74,1.74,1.74,1.74,1.73,1.73,1.73,1.73,1.73,1.73,1.73,1.73,1.72,1.72,1.72,1.72,1.72,1.72,1.72,1.72,1.71,1.71,1.71,1.71,1.71,1.71,1.71,1.71,1.7,1.7,1.7,1.7,1.7,1.7,1.7,1.7,1.7,1.69,1.69,1.69,1.69,1.69,1.69,1.69,1.69,1.69,1.69,1.69,1.69,1.69,1.69,1.69,1.68,1.68,1.68,1.68,1.68,1.68,1.68,1.68,1.68,1.68,1.67,1.67,1.67,1.67,1.67,1.67,1.67,1.67,1.67,1.67,1.67,1.67,1.67,1.67,1.67,1.66,1.66,1.66,1.66,1.66,1.66,1.66,1.66,1.66,1.65,1.65,1.65,1.65,1.65,1.65,1.64,1.64,1.64,1.64,1.64,1.64,1.64,1.64,1.64,1.64,1.64,1.63,1.63,1.63,1.63,1.63,1.63,1.63,1.63,1.62,1.62,1.62,1.62,1.62,1.62,1.62,1.62,1.61,1.61,1.61,1.61,1.61,1.61,1.61,1.61,1.61,1.6,1.6,1.6,1.6,1.6,1.6,1.6,1.6,1.6,1.6,1.59,1.59,1.59,1.59,1.59,1.59,1.59,1.59,1.59,1.59,1.58,1.58,1.58,1.58,1.58,1.58,1.58,1.58,1.58,1.58,1.58,1.58,1.57,1.57,1.57,1.57,1.56,1.56,1.56,1.56,1.56,1.56,1.56,1.56,1.56,1.56,1.55,1.55,1.55,1.55,1.55,1.55,1.55,1.55,1.55,1.55,1.55,1.55,1.55,1.55,1.54,1.54,1.54,1.54,1.54,1.54,1.54,1.54,1.54,1.53,1.53,1.53,1.53,1.53,1.53,1.53,1.53,1.53,1.53,1.52,1.52,1.52,1.52,1.52,1.52,1.52,1.52,1.52,1.52,1.52,1.52,1.52,1.51,1.51,1.51,1.51,1.51,1.51,1.51,1.51,1.51,1.51,1.51,1.5,1.5,1.5,1.5,1.5,1.5,1.5,1.5,1.5,1.5,1.5,1.5,1.5,1.5,1.5,1.49,1.49,1.49,1.49,1.49,1.49,1.49,1.49,1.49,1.48,1.48,1.48,1.48,1.48,1.48,1.48,1.48,1.48,1.48,1.47,1.47,1.47,1.47,1.47,1.47,1.47,1.47,1.47,1.47,1.47,1.47,1.46,1.46,1.46,1.46,1.46,1.46,1.46,1.46,1.46,1.46,1.46,1.46,1.46,1.46,1.46,1.46,1.46,1.45,1.45,1.45,1.45,1.45,1.45,1.45,1.45,1.45,1.45,1.45,1.45,1.45,1.45,1.45,1.45,1.45,1.44,1.44,1.44,1.44,1.44,1.44,1.44,1.44,1.44,1.44,1.44,1.44,1.44,1.43,1.43,1.43,1.43,1.43,1.43,1.43,1.43,1.42,1.42,1.42,1.42,1.42,1.42,1.42,1.42,1.42,1.42,1.42,1.42,1.41,1.41,1.41,1.41,1.41,1.41,1.41,1.41,1.41,1.41,1.41,1.41,1.41,1.41,1.4,1.4,1.4,1.4,1.4,1.4,1.4,1.4,1.4,1.39,1.39,1.39,1.39,1.39,1.39,1.39,1.39,1.39,1.39,1.39,1.38,1.38,1.38,1.38,1.38,1.38,1.38,1.38,1.38,1.38,1.38,1.38,1.38,1.37,1.37,1.37,1.37,1.37,1.37,1.37,1.37,1.37,1.37,1.36,1.36,1.36,1.36,1.36,1.36,1.36,1.36,1.36,1.36,1.36,1.36,1.35,1.35,1.35,1.35,1.35,1.35,1.35,1.35,1.35,1.35,1.35,1.35,1.35,1.35,1.35,1.35,1.35,1.35,1.35,1.35,1.35,1.34,1.34,1.34,1.34,1.34,1.34,1.34,1.34,1.34,1.34,1.33,1.33,1.33,1.33,1.33,1.33,1.33,1.33,1.33,1.33,1.33,1.33,1.33,1.33,1.33,1.33,1.33,1.32,1.32,1.32,1.32,1.32,1.32,1.32,1.32,1.32,1.32,1.32,1.32,1.32,1.32,1.32,1.32,1.32,1.31,1.31,1.31,1.31,1.31,1.31,1.31,1.31,1.31,1.31,1.31,1.31,1.31,1.31,1.3,1.3,1.3,1.3,1.3,1.3,1.3,1.3,1.3,1.3,1.3,1.3,1.29,1.29,1.29,1.29,1.29,1.29,1.29,1.29,1.29,1.29,1.29,1.29,1.29,1.28,1.28,1.28,1.28,1.28,1.28,1.28,1.28,1.28,1.28,1.28,1.28,1.27,1.27,1.27,1.27,1.27,1.27,1.27,1.27,1.27,1.27,1.27,1.27,1.27,1.27,1.27,1.27,1.27,1.27,1.27,1.26,1.26,1.26,1.26,1.26,1.26,1.26,1.26,1.26,1.26,1.26,1.26,1.26,1.25,1.25,1.25,1.25,1.25,1.25,1.25,1.25,1.25,1.25,1.25,1.25,1.25,1.25,1.25,1.24,1.24,1.24,1.24,1.24,1.24,1.24,1.24,1.24,1.24,1.24,1.24,1.24,1.23,1.23,1.23,1.23,1.23,1.23,1.23,1.23,1.23,1.23,1.23,1.23,1.23,1.23,1.23,1.23,1.23,1.23,1.23,1.23,1.23,1.23,1.22,1.22,1.22,1.22,1.22,1.22,1.22,1.22,1.22,1.22,1.22,1.22,1.22,1.22,1.22,1.22,1.22,1.22,1.22,1.21,1.21,1.21,1.21,1.21,1.21,1.21,1.21,1.21,1.21,1.21,1.21,1.21,1.2,1.2,1.2,1.2,1.2,1.2,1.2,1.2,1.2,1.2,1.2,1.2,1.2,1.2,1.2,1.2,1.2,1.2,1.2,1.19,1.19,1.19,1.19,1.19,1.19,1.19,1.19,1.19,1.19,1.19,1.19,1.19,1.19,1.19,1.19,1.19,1.19,1.19,1.19,1.18,1.18,1.18,1.18,1.18,1.18,1.18,1.18,1.18,1.18,1.18,1.18,1.18,1.17,1.17,1.17,1.17,1.17,1.17,1.17,1.17,1.17,1.17,1.17,1.17,1.17,1.17,1.17,1.17,1.17,1.17,1.17,1.17,1.17,1.17,1.16,1.16,1.16,1.16,1.16,1.16,1.16,1.16,1.16,1.16,1.16,1.16,1.16,1.16,1.16,1.16,1.16,1.16,1.16,1.16,1.16,1.16,1.15,1.15,1.15,1.15,1.15,1.15,1.15,1.15,1.15,1.15,1.15,1.15,1.15,1.15,1.15,1.15,1.15,1.15,1.15,1.15,1.14,1.14,1.14,1.14,1.14,1.14,1.14,1.14,1.14,1.14,1.14,1.14,1.14,1.14,1.14,1.14,1.14,1.14,1.14,1.14,1.13,1.13,1.13,1.13,1.13,1.13,1.13,1.13,1.13,1.13,1.13,1.13,1.13,1.13,1.13,1.12,1.12,1.12,1.12,1.12,1.12,1.12,1.12,1.12,1.12,1.12,1.12,1.12,1.12,1.12,1.11,1.11,1.11,1.11,1.11,1.11,1.11,1.11,1.11,1.11,1.11,1.11,1.11,1.11,1.11,1.11,1.1,1.1,1.1,1.1,1.1,1.1,1.1,1.1,1.1,1.1,1.1,1.1,1.1,1.1,1.1,1.1,1.1,1.1,1.1,1.1,1.1,1.1,1.1,1.09,1.09,1.09,1.09,1.09,1.09,1.09,1.09,1.09,1.09,1.09,1.09,1.09,1.09,1.09,1.09,1.09,1.09,1.09,1.09,1.09,1.09,1.09,1.08,1.08,1.08,1.08,1.08,1.08,1.08,1.08,1.08,1.08,1.08,1.08,1.08,1.08,1.08,1.08,1.08,1.08,1.08,1.08,1.08,1.08,1.08,1.08,1.07,1.07,1.07,1.07,1.07,1.07,1.07,1.07,1.07,1.07,1.07,1.07,1.07,1.07,1.07,1.07,1.07,1.07,1.07,1.07,1.06,1.06,1.06,1.06,1.06,1.06,1.06,1.06,1.06,1.06,1.06,1.06,1.06,1.06,1.06,1.06,1.06,1.06,1.06,1.06,1.06,1.06,1.06,1.06,1.06,1.06,1.06,1.05,1.05,1.05,1.05,1.05,1.05,1.05,1.05,1.05,1.05,1.05,1.05,1.05,1.05,1.05,1.05,1.05,1.05,1.05,1.05,1.05,1.05,1.05,1.05,1.04,1.04,1.04,1.04,1.04,1.04,1.04,1.04,1.04,1.04,1.04,1.04,1.04,1.04,1.04,1.04,1.04,1.04,1.04,1.04,1.04,1.04,1.04,1.04,1.04,1.03,1.03,1.03,1.03,1.03,1.03,1.03,1.03,1.03,1.03,1.03,1.03,1.02,1.02,1.02,1.02,1.02,1.02,1.02,1.02,1.02,1.02,1.02,1.02,1.02,1.02,1.02,1.01,1.01,1.01,1.01,1.01,1.01,1.01,1.01,1.01,1.01,1.01,1.01,1.01,1.01,1.0,1.0,1.0,1.0,1.0,1.0,1.0,1.0,1.0,1.0,1.0,1.0,1.0,1.0,1.0,1.0,1.0,1.0,1.0,1.0,1.0,1.0,1.0,1.0,1.0,1.0,1.0,0.99,0.99,0.99,0.99,0.99,0.99,0.99,0.99,0.99,0.99,0.99,0.99,0.99,0.99,0.99,0.99,0.99,0.99,0.99,0.99,0.99,0.99,0.99,0.98,0.98,0.98,0.98,0.98,0.98,0.98,0.98,0.98,0.98,0.98,0.98,0.98,0.98,0.98,0.98,0.98,0.98,0.98,0.98,0.98,0.98,0.98,0.97,0.97,0.97,0.97,0.97,0.97,0.97,0.97,0.97,0.97,0.97,0.97,0.97,0.97,0.97,0.97,0.97,0.97,0.97,0.97,0.97,0.96,0.96,0.96,0.96,0.96,0.96,0.96,0.96,0.96,0.96,0.96,0.96,0.96,0.96,0.96,0.96,0.96,0.96,0.96,0.96,0.96,0.96,0.96,0.95,0.95,0.95,0.95,0.95,0.95,0.95,0.95,0.95,0.95,0.95,0.95,0.95,0.95,0.95,0.95,0.95,0.95,0.95,0.95,0.95,0.95,0.95,0.94,0.94,0.94,0.94,0.94,0.94,0.94,0.94,0.94,0.94,0.94,0.94,0.94,0.94,0.94,0.94,0.94,0.94,0.94,0.94,0.94,0.94,0.94,0.94,0.93,0.93,0.93,0.93,0.93,0.93,0.93,0.93,0.93,0.93,0.93,0.93,0.93,0.93,0.93,0.93,0.93,0.93,0.93,0.93,0.93,0.93,0.93,0.93,0.93,0.92,0.92,0.92,0.92,0.92,0.92,0.92,0.92,0.92,0.92,0.92,0.92,0.92,0.92,0.92,0.92,0.92,0.92,0.92,0.92,0.92,0.92,0.92,0.92,0.92,0.92,0.92,0.92,0.92,0.91,0.91,0.91,0.91,0.91,0.91,0.91,0.91,0.91,0.91,0.91,0.91,0.91,0.91,0.91,0.91,0.91,0.91,0.91,0.91,0.91,0.9,0.9,0.9,0.9,0.9,0.9,0.9,0.9,0.9,0.9,0.9,0.9,0.9,0.9,0.9,0.9,0.9,0.9,0.9,0.9,0.9,0.9,0.9,0.9,0.9,0.9,0.9,0.9,0.9,0.9,0.89,0.89,0.89,0.89,0.89,0.89,0.89,0.89,0.89,0.89,0.89,0.89,0.89,0.89,0.89,0.89,0.89,0.89,0.89,0.89,0.89,0.89,0.89,0.89,0.89,0.89,0.89,0.89,0.89,0.89,0.88,0.88,0.88,0.88,0.88,0.88,0.88,0.88,0.88,0.88,0.88,0.88,0.88,0.88,0.88,0.88,0.88,0.88,0.88,0.88,0.87,0.87,0.87,0.87,0.87,0.87,0.87,0.87,0.87,0.87,0.87,0.87,0.87,0.87,0.87,0.87,0.87,0.87,0.87,0.87,0.87,0.87,0.87,0.87,0.87,0.87,0.87,0.87,0.87,0.87,0.87,0.87,0.87,0.87,0.87,0.86,0.86,0.86,0.86,0.86,0.86,0.86,0.86,0.86,0.86,0.86,0.86,0.86,0.86,0.86,0.86,0.86,0.86,0.85,0.85,0.85,0.85,0.85,0.85,0.85,0.85,0.85,0.85,0.85,0.85,0.85,0.85,0.85,0.85,0.85,0.85,0.85,0.85,0.85,0.85,0.85,0.85,0.85,0.84,0.84,0.84,0.84,0.84,0.84,0.84,0.84,0.84,0.84,0.84,0.84,0.84,0.84,0.84,0.84,0.84,0.84,0.84,0.84,0.84,0.84,0.84,0.84,0.84,0.84,0.84,0.84,0.83,0.83,0.83,0.83,0.83,0.83,0.83,0.83,0.83,0.83,0.83,0.83,0.83,0.83,0.83,0.83,0.83,0.83,0.83,0.83,0.83,0.83,0.83,0.82,0.82,0.82,0.82,0.82,0.82,0.82,0.82,0.82,0.82,0.82,0.82,0.82,0.82,0.82,0.82,0.82,0.82,0.82,0.82,0.82,0.82,0.82,0.82,0.82,0.82,0.82,0.82,0.81,0.81,0.81,0.81,0.81,0.81,0.81,0.81,0.81,0.81,0.81,0.81,0.81,0.81,0.81,0.81,0.81,0.81,0.81,0.81,0.81,0.81,0.81,0.81,0.81,0.81,0.81,0.81,0.81,0.81,0.8,0.8,0.8,0.8,0.8,0.8,0.8,0.8,0.8,0.8,0.8,0.8,0.8,0.8,0.8,0.8,0.8,0.8,0.8,0.8,0.8,0.8,0.8,0.8,0.8,0.8,0.8,0.8,0.8,0.8,0.8,0.8,0.8,0.79,0.79,0.79,0.79,0.79,0.79,0.79,0.79,0.79,0.79,0.79,0.79,0.79,0.79,0.79,0.79,0.79,0.79,0.79,0.79,0.79,0.79,0.79,0.79,0.79,0.79,0.79,0.79,0.79,0.79,0.79,0.79,0.79,0.78,0.78,0.78,0.78,0.78,0.78,0.78,0.78,0.78,0.78,0.78,0.78,0.78,0.78,0.78,0.78,0.78,0.78,0.78,0.78,0.78,0.78,0.78,0.78,0.78,0.78,0.78,0.78,0.78,0.78,0.77,0.77,0.77,0.77,0.77,0.77,0.77,0.77,0.77,0.77,0.77,0.77,0.77,0.77,0.77,0.77,0.77,0.77,0.77,0.77,0.77,0.77,0.77,0.77,0.77,0.77,0.77,0.77,0.76,0.76,0.76,0.76,0.76,0.76,0.76,0.76,0.76,0.76,0.76,0.76,0.76,0.76,0.76,0.76,0.76,0.76,0.76,0.76,0.76,0.76,0.76,0.76,0.76,0.76,0.76,0.76,0.76,0.76,0.76,0.76,0.76,0.76,0.76,0.76,0.76,0.76,0.76,0.76,0.76,0.76,0.76,0.76,0.75,0.75,0.75,0.75,0.75,0.75,0.75,0.75,0.75,0.75,0.75,0.75,0.75,0.75,0.75,0.75,0.75,0.75,0.75,0.75,0.75,0.75,0.75,0.75,0.75,0.75,0.75,0.75,0.75,0.75,0.75,0.75,0.75,0.74,0.74,0.74,0.74,0.74,0.74,0.74,0.74,0.74,0.74,0.74,0.74,0.74,0.74,0.74,0.74,0.74,0.74,0.74,0.74,0.74,0.74,0.74,0.74,0.74,0.74,0.74,0.74,0.74,0.74,0.73,0.73,0.73,0.73,0.73,0.73,0.73,0.73,0.73,0.73,0.73,0.73,0.73,0.73,0.73,0.73,0.73,0.73,0.73,0.73,0.73,0.73,0.73,0.73,0.73,0.73,0.73,0.73,0.73,0.72,0.72,0.72,0.72,0.72,0.72,0.72,0.72,0.72,0.72,0.72,0.72,0.72,0.72,0.72,0.72,0.72,0.72,0.72,0.72,0.72,0.72,0.72,0.72,0.72,0.72,0.72,0.72,0.72,0.72,0.72,0.72,0.72,0.72,0.72,0.71,0.71,0.71,0.71,0.71,0.71,0.71,0.71,0.71,0.71,0.71,0.71,0.71,0.71,0.71,0.71,0.71,0.71,0.71,0.71,0.71,0.71,0.71,0.71,0.71,0.71,0.71,0.71,0.71,0.71,0.71,0.71,0.71,0.71,0.71,0.71,0.71,0.71,0.71,0.71,0.71,0.71,0.71,0.71,0.71,0.71,0.7,0.7,0.7,0.7,0.7,0.7,0.7,0.7,0.7,0.7,0.7,0.7,0.7,0.7,0.7,0.7,0.7,0.7,0.7,0.7,0.7,0.7,0.7,0.7,0.7,0.7,0.7,0.7,0.7,0.7,0.7,0.7,0.7,0.7,0.7,0.7,0.7,0.7,0.69,0.69,0.69,0.69,0.69,0.69,0.69,0.69,0.69,0.69,0.69,0.69,0.69,0.69,0.69,0.69,0.69,0.69,0.69,0.69,0.69,0.69,0.69,0.69,0.69,0.69,0.69,0.69,0.69,0.69,0.68,0.68,0.68,0.68,0.68,0.68,0.68,0.68,0.68,0.68,0.68,0.68,0.68,0.68,0.68,0.68,0.68,0.68,0.68,0.68,0.68,0.68,0.68,0.68,0.68,0.68,0.68,0.68,0.68,0.68,0.68,0.68,0.68,0.68,0.68,0.68,0.67,0.67,0.67,0.67,0.67,0.67,0.67,0.67,0.67,0.67,0.67,0.67,0.67,0.67,0.67,0.67,0.67,0.67,0.67,0.67,0.67,0.67,0.67,0.67,0.67,0.67,0.67,0.67,0.67,0.67,0.67,0.67,0.67,0.67,0.67,0.67,0.67,0.67,0.67,0.67,0.67,0.67,0.67,0.67,0.66,0.66,0.66,0.66,0.66,0.66,0.66,0.66,0.66,0.66,0.66,0.66,0.66,0.66,0.66,0.66,0.66,0.66,0.66,0.66,0.66,0.66,0.66,0.66,0.66,0.66,0.66,0.66,0.66,0.66,0.66,0.66,0.66,0.66,0.66,0.66,0.66,0.66,0.66,0.66,0.66,0.66,0.66,0.66,0.65,0.65,0.65,0.65,0.65,0.65,0.65,0.65,0.65,0.65,0.65,0.65,0.65,0.65,0.65,0.65,0.65,0.65,0.65,0.65,0.65,0.65,0.65,0.65,0.65,0.65,0.65,0.65,0.65,0.65,0.65,0.65,0.65,0.65,0.65,0.65,0.65,0.65,0.64,0.64,0.64,0.64,0.64,0.64,0.64,0.64,0.64,0.64,0.64,0.64,0.64,0.64,0.64,0.64,0.64,0.64,0.64,0.64,0.64,0.64,0.64,0.64,0.64,0.64,0.64,0.64,0.64,0.64,0.64,0.64,0.64,0.64,0.64,0.64,0.64,0.64,0.64,0.64,0.64,0.64,0.64,0.64,0.64,0.64,0.64,0.64,0.64,0.63,0.63,0.63,0.63,0.63,0.63,0.63,0.63,0.63,0.63,0.63,0.63,0.63,0.63,0.63,0.63,0.63,0.63,0.63,0.63,0.63,0.63,0.63,0.63,0.63,0.63,0.63,0.63,0.63,0.63,0.63,0.63,0.63,0.63,0.63,0.63,0.63,0.63,0.63,0.63,0.63,0.63,0.63,0.63,0.63,0.63,0.63,0.63,0.63,0.63,0.63,0.63,0.63,0.62,0.62,0.62,0.62,0.62,0.62,0.62,0.62,0.62,0.62,0.62,0.62,0.62,0.62,0.62,0.62,0.62,0.62,0.62,0.62,0.62,0.62,0.62,0.62,0.62,0.62,0.62,0.62,0.62,0.62,0.62,0.62,0.62,0.62,0.62,0.62,0.62,0.62,0.62,0.62,0.62,0.62,0.62,0.62,0.62,0.62,0.61,0.61,0.61,0.61,0.61,0.61,0.61,0.61,0.61,0.61,0.61,0.61,0.61,0.61,0.61,0.61,0.61,0.61,0.61,0.61,0.61,0.61,0.61,0.61,0.61,0.61,0.61,0.61,0.61,0.61,0.61,0.61,0.61,0.61,0.61,0.61,0.61,0.61,0.61,0.61,0.61,0.61,0.61,0.61,0.61,0.61,0.61,0.61,0.61,0.61,0.61,0.6,0.6,0.6,0.6,0.6,0.6,0.6,0.6,0.6,0.6,0.6,0.6,0.6,0.6,0.6,0.6,0.6,0.6,0.6,0.6,0.6,0.6,0.6,0.6,0.6,0.6,0.6,0.6,0.6,0.6,0.6,0.6,0.6,0.6,0.6,0.6,0.6,0.6,0.6,0.6,0.6,0.6,0.6,0.6,0.6,0.6,0.6,0.6,0.6,0.59,0.59,0.59,0.59,0.59,0.59,0.59,0.59,0.59,0.59,0.59,0.59,0.59,0.59,0.59,0.59,0.59,0.59,0.59,0.59,0.59,0.59,0.59,0.59,0.59,0.59,0.59,0.59,0.59,0.59,0.59,0.59,0.59,0.59,0.59,0.59,0.59,0.59,0.59,0.59,0.59,0.59,0.59,0.59,0.59,0.59,0.59,0.59,0.59,0.59,0.59,0.59,0.59,0.59,0.59,0.58,0.58,0.58,0.58,0.58,0.58,0.58,0.58,0.58,0.58,0.58,0.58,0.58,0.58,0.58,0.58,0.58,0.58,0.58,0.58,0.58,0.58,0.58,0.58,0.58,0.58,0.58,0.58,0.58,0.58,0.58,0.58,0.58,0.58,0.58,0.58,0.58,0.58,0.58,0.58,0.58,0.58,0.58,0.58,0.58,0.58,0.58,0.58,0.58,0.58,0.58,0.58,0.58,0.58,0.58,0.58,0.58,0.58,0.58,0.58,0.58,0.58,0.58,0.58,0.58,0.58,0.57,0.57,0.57,0.57,0.57,0.57,0.57,0.57,0.57,0.57,0.57,0.57,0.57,0.57,0.57,0.57,0.57,0.57,0.57,0.57,0.57,0.57,0.57,0.57,0.57,0.57,0.57,0.57,0.57,0.57,0.57,0.57,0.57,0.57,0.57,0.57,0.57,0.57,0.57,0.57,0.57,0.57,0.57,0.57,0.57,0.57,0.57,0.57,0.57,0.57,0.57,0.57,0.57,0.57,0.57,0.56,0.56,0.56,0.56,0.56,0.56,0.56,0.56,0.56,0.56,0.56,0.56,0.56,0.56,0.56,0.56,0.56,0.56,0.56,0.56,0.56,0.56,0.56,0.56,0.56,0.56,0.56,0.56,0.56,0.56,0.56,0.56,0.56,0.56,0.56,0.56,0.56,0.56,0.56,0.56,0.56,0.56,0.56,0.56,0.56,0.56,0.56,0.56,0.56,0.56,0.56,0.56,0.56,0.56,0.56,0.56,0.56,0.56,0.56,0.56,0.56,0.56,0.56,0.56,0.56,0.56,0.56,0.56,0.56,0.55,0.55,0.55,0.55,0.55,0.55,0.55,0.55,0.55,0.55,0.55,0.55,0.55,0.55,0.55,0.55,0.55,0.55,0.55,0.55,0.55,0.55,0.55,0.55,0.55,0.55,0.55,0.55,0.55,0.55,0.55,0.55,0.55,0.55,0.55,0.55,0.55,0.55,0.55,0.55,0.55,0.55,0.55,0.55,0.55,0.55,0.55,0.55,0.55,0.55,0.55,0.55,0.55,0.55,0.55,0.55,0.55,0.55,0.55,0.55,0.54,0.54,0.54,0.54,0.54,0.54,0.54,0.54,0.54,0.54,0.54,0.54,0.54,0.54,0.54,0.54,0.54,0.54,0.54,0.54,0.54,0.54,0.54,0.54,0.54,0.54,0.54,0.54,0.54,0.54,0.54,0.54,0.54,0.54,0.54,0.54,0.54,0.54,0.54,0.54,0.54,0.54,0.54,0.54,0.54,0.54,0.54,0.54,0.54,0.54,0.54,0.54,0.54,0.54,0.54,0.54,0.54,0.54,0.54,0.54,0.54,0.54,0.54,0.54,0.54,0.54,0.54,0.54,0.54,0.53,0.53,0.53,0.53,0.53,0.53,0.53,0.53,0.53,0.53,0.53,0.53,0.53,0.53,0.53,0.53,0.53,0.53,0.53,0.53,0.53,0.53,0.53,0.53,0.53,0.53,0.53,0.53,0.53,0.53,0.53,0.53,0.53,0.53,0.53,0.53,0.53,0.53,0.53,0.53,0.53,0.53,0.53,0.53,0.53,0.53,0.53,0.53,0.53,0.53,0.53,0.53,0.53,0.53,0.53,0.53,0.53,0.53,0.53,0.53,0.53,0.53,0.53,0.53,0.53,0.52,0.52,0.52,0.52,0.52,0.52,0.52,0.52,0.52,0.52,0.52,0.52,0.52,0.52,0.52,0.52,0.52,0.52,0.52,0.52,0.52,0.52,0.52,0.52,0.52,0.52,0.52,0.52,0.52,0.52,0.52,0.52,0.52,0.52,0.52,0.52,0.52,0.52,0.52,0.52,0.52,0.52,0.52,0.52,0.52,0.52,0.52,0.52,0.52,0.52,0.52,0.52,0.52,0.52,0.51,0.51,0.51,0.51,0.51,0.51,0.51,0.51,0.51,0.51,0.51,0.51,0.51,0.51,0.51,0.51,0.51,0.51,0.51,0.51,0.51,0.51,0.51,0.51,0.51,0.51,0.51,0.51,0.51,0.51,0.51,0.51,0.51,0.51,0.51,0.51,0.51,0.51,0.51,0.51,0.51,0.51,0.51,0.51,0.51,0.51,0.51,0.51,0.51,0.51,0.51,0.51,0.51,0.51,0.51,0.51,0.51,0.51,0.51,0.51,0.51,0.51,0.51,0.51,0.51,0.51,0.51,0.51,0.51,0.51,0.51,0.5,0.5,0.5,0.5,0.5,0.5,0.5,0.5,0.5,0.5,0.5,0.5,0.5,0.5,0.5,0.5,0.5,0.5,0.5,0.5,0.5,0.5,0.5,0.5,0.5,0.5,0.5,0.5,0.5,0.5,0.5,0.5,0.5,0.5,0.5,0.5,0.5,0.5,0.5,0.5,0.5,0.5,0.5,0.5,0.5,0.5,0.5,0.5,0.5,0.5,0.5,0.5,0.5,0.5,0.5,0.5,0.5,0.5,0.5,0.5,0.5,0.5,0.5,0.5,0.5,0.5,0.5,0.5,0.5,0.5,0.5,0.49,0.49,0.49,0.49,0.49,0.49,0.49,0.49,0.49,0.49,0.49,0.49,0.49,0.49,0.49,0.49,0.49,0.49,0.49,0.49,0.49,0.49,0.49,0.49,0.49,0.49,0.49,0.49,0.49,0.49,0.49,0.49,0.49,0.49,0.49,0.49,0.49,0.49,0.49,0.49,0.49,0.49,0.49,0.49,0.49,0.49,0.49,0.49,0.49,0.49,0.49,0.49,0.49,0.49,0.49,0.49,0.49,0.49,0.49,0.49,0.49,0.49,0.49,0.48,0.48,0.48,0.48,0.48,0.48,0.48,0.48,0.48,0.48,0.48,0.48,0.48,0.48,0.48,0.48,0.48,0.48,0.48,0.48,0.48,0.48,0.48,0.48,0.48,0.48,0.48,0.48,0.48,0.48,0.48,0.48,0.48,0.48,0.48,0.48,0.48,0.48,0.48,0.48,0.48,0.48,0.48,0.48,0.48,0.48,0.48,0.48,0.48,0.48,0.48,0.48,0.48,0.48,0.48,0.48,0.48,0.48,0.48,0.48,0.48,0.48,0.48,0.48,0.47,0.47,0.47,0.47,0.47,0.47,0.47,0.47,0.47,0.47,0.47,0.47,0.47,0.47,0.47,0.47,0.47,0.47,0.47,0.47,0.47,0.47,0.47,0.47,0.47,0.47,0.47,0.47,0.47,0.47,0.47,0.47,0.47,0.47,0.47,0.47,0.47,0.47,0.47,0.47,0.47,0.47,0.47,0.47,0.47,0.47,0.47,0.47,0.47,0.47,0.47,0.47,0.47,0.47,0.47,0.47,0.47,0.47,0.47,0.47,0.47,0.47,0.47,0.47,0.47,0.47,0.47,0.47,0.47,0.47,0.47,0.47,0.47,0.47,0.47,0.47,0.47,0.47,0.46,0.46,0.46,0.46,0.46,0.46,0.46,0.46,0.46,0.46,0.46,0.46,0.46,0.46,0.46,0.46,0.46,0.46,0.46,0.46,0.46,0.46,0.46,0.46,0.46,0.46,0.46,0.46,0.46,0.46,0.46,0.46,0.46,0.46,0.46,0.46,0.46,0.46,0.46,0.46,0.46,0.46,0.46,0.46,0.46,0.46,0.46,0.46,0.46,0.46,0.46,0.46,0.46,0.46,0.46,0.46,0.46,0.46,0.46,0.46,0.46,0.46,0.46,0.46,0.46,0.46,0.46,0.46,0.46,0.46,0.46,0.46,0.46,0.46,0.46,0.46,0.46,0.46,0.46,0.46,0.46,0.46,0.46,0.46,0.45,0.45,0.45,0.45,0.45,0.45,0.45,0.45,0.45,0.45,0.45,0.45,0.45,0.45,0.45,0.45,0.45,0.45,0.45,0.45,0.45,0.45,0.45,0.45,0.45,0.45,0.45,0.45,0.45,0.45,0.45,0.45,0.45,0.45,0.45,0.45,0.45,0.45,0.45,0.45,0.45,0.45,0.45,0.45,0.45,0.45,0.45,0.45,0.45,0.45,0.45,0.45,0.45,0.45,0.45,0.45,0.45,0.45,0.45,0.45,0.45,0.45,0.45,0.45,0.45,0.45,0.45,0.45,0.45,0.45,0.45,0.45,0.45,0.45,0.45,0.45,0.45,0.45,0.45,0.45,0.45,0.45,0.45,0.45,0.45,0.45,0.45,0.45,0.45,0.45,0.45,0.45,0.45,0.45,0.45,0.45,0.45,0.45,0.45,0.45,0.45,0.44,0.44,0.44,0.44,0.44,0.44,0.44,0.44,0.44,0.44,0.44,0.44,0.44,0.44,0.44,0.44,0.44,0.44,0.44,0.44,0.44,0.44,0.44,0.44,0.44,0.44,0.44,0.44,0.44,0.44,0.44,0.44,0.44,0.44,0.44,0.44,0.44,0.44,0.44,0.44,0.44,0.44,0.44,0.44,0.44,0.44,0.44,0.44,0.44,0.44,0.44,0.44,0.44,0.44,0.44,0.44,0.44,0.44,0.44,0.44,0.44,0.44,0.44,0.44,0.44,0.44,0.44,0.44,0.44,0.44,0.44,0.44,0.44,0.44,0.44,0.44,0.44,0.44,0.44,0.44,0.44,0.44,0.44,0.43,0.43,0.43,0.43,0.43,0.43,0.43,0.43,0.43,0.43,0.43,0.43,0.43,0.43,0.43,0.43,0.43,0.43,0.43,0.43,0.43,0.43,0.43,0.43,0.43,0.43,0.43,0.43,0.43,0.43,0.43,0.43,0.43,0.43,0.43,0.43,0.43,0.43,0.43,0.43,0.43,0.43,0.43,0.43,0.43,0.43,0.43,0.43,0.43,0.43,0.43,0.43,0.43,0.43,0.43,0.43,0.43,0.43,0.43,0.43,0.43,0.43,0.43,0.43,0.43,0.43,0.43,0.43,0.43,0.43,0.43,0.43,0.43,0.42,0.42,0.42,0.42,0.42,0.42,0.42,0.42,0.42,0.42,0.42,0.42,0.42,0.42,0.42,0.42,0.42,0.42,0.42,0.42,0.42,0.42,0.42,0.42,0.42,0.42,0.42,0.42,0.42,0.42,0.42,0.42,0.42,0.42,0.42,0.42,0.42,0.42,0.42,0.42,0.42,0.42,0.42,0.42,0.42,0.42,0.42,0.42,0.42,0.42,0.42,0.42,0.42,0.42,0.42,0.42,0.42,0.42,0.42,0.42,0.42,0.42,0.42,0.42,0.42,0.42,0.42,0.42,0.42,0.42,0.42,0.42,0.42,0.42,0.42,0.42,0.42,0.42,0.42,0.42,0.42,0.42,0.42,0.42,0.42,0.42,0.42,0.42,0.42,0.42,0.42,0.42,0.42,0.42,0.42,0.42,0.42,0.42,0.42,0.42,0.42,0.42,0.42,0.42,0.42,0.42,0.41,0.41,0.41,0.41,0.41,0.41,0.41,0.41,0.41,0.41,0.41,0.41,0.41,0.41,0.41,0.41,0.41,0.41,0.41,0.41,0.41,0.41,0.41,0.41,0.41,0.41,0.41,0.41,0.41,0.41,0.41,0.41,0.41,0.41,0.41,0.41,0.41,0.41,0.41,0.41,0.41,0.41,0.41,0.41,0.41,0.41,0.41,0.41,0.41,0.41,0.41,0.41,0.41,0.41,0.41,0.41,0.41,0.41,0.41,0.41,0.41,0.41,0.41,0.41,0.41,0.41,0.41,0.41,0.41,0.41,0.41,0.41,0.41,0.41,0.41,0.41,0.41,0.41,0.41,0.41,0.41,0.41,0.41,0.41,0.41,0.41,0.41,0.41,0.41,0.41,0.41,0.41,0.41,0.41,0.41,0.41,0.41,0.41,0.41,0.41,0.41,0.41,0.41,0.41,0.41,0.4,0.4,0.4,0.4,0.4,0.4,0.4,0.4,0.4,0.4,0.4,0.4,0.4,0.4,0.4,0.4,0.4,0.4,0.4,0.4,0.4,0.4,0.4,0.4,0.4,0.4,0.4,0.4,0.4,0.4,0.4,0.4,0.4,0.4,0.4,0.4,0.4,0.4,0.4,0.4,0.4,0.4,0.4,0.4,0.4,0.4,0.4,0.4,0.4,0.4,0.4,0.4,0.4,0.4,0.4,0.4,0.4,0.4,0.4,0.4,0.4,0.4,0.4,0.4,0.4,0.4,0.4,0.4,0.4,0.4,0.4,0.4,0.4,0.4,0.4,0.4,0.4,0.4,0.4,0.4,0.4,0.4,0.4,0.4,0.4,0.4,0.4,0.4,0.4,0.4,0.4,0.4,0.4,0.4,0.4,0.4,0.4,0.4,0.4,0.39,0.39,0.39,0.39,0.39,0.39,0.39,0.39,0.39,0.39,0.39,0.39,0.39,0.39,0.39,0.39,0.39,0.39,0.39,0.39,0.39,0.39,0.39,0.39,0.39,0.39,0.39,0.39,0.39,0.39,0.39,0.39,0.39,0.39,0.39,0.39,0.39,0.39,0.39,0.39,0.39,0.39,0.39,0.39,0.39,0.39,0.39,0.39,0.39,0.39,0.39,0.39,0.39,0.39,0.39,0.39,0.39,0.39,0.39,0.39,0.39,0.39,0.39,0.39,0.39,0.39,0.39,0.39,0.39,0.39,0.39,0.39,0.39,0.39,0.39,0.39,0.39,0.39,0.39,0.39,0.39,0.39,0.39,0.39,0.39,0.39,0.39,0.39,0.39,0.39,0.39,0.39,0.39,0.39,0.39,0.39,0.39,0.38,0.38,0.38,0.38,0.38,0.38,0.38,0.38,0.38,0.38,0.38,0.38,0.38,0.38,0.38,0.38,0.38,0.38,0.38,0.38,0.38,0.38,0.38,0.38,0.38,0.38,0.38,0.38,0.38,0.38,0.38,0.38,0.38,0.38,0.38,0.38,0.38,0.38,0.38,0.38,0.38,0.38,0.38,0.38,0.38,0.38,0.38,0.38,0.38,0.38,0.38,0.38,0.38,0.38,0.38,0.38,0.38,0.38,0.38,0.38,0.38,0.38,0.38,0.38,0.38,0.38,0.38,0.38,0.38,0.38,0.38,0.38,0.38,0.38,0.38,0.38,0.38,0.38,0.38,0.38,0.38,0.38,0.38,0.38,0.38,0.38,0.38,0.38,0.38,0.38,0.38,0.38,0.38,0.38,0.38,0.38,0.38,0.38,0.38,0.38,0.38,0.38,0.38,0.38,0.38,0.38,0.38,0.37,0.37,0.37,0.37,0.37,0.37,0.37,0.37,0.37,0.37,0.37,0.37,0.37,0.37,0.37,0.37,0.37,0.37,0.37,0.37,0.37,0.37,0.37,0.37,0.37,0.37,0.37,0.37,0.37,0.37,0.37,0.37,0.37,0.37,0.37,0.37,0.37,0.37,0.37,0.37,0.37,0.37,0.37,0.37,0.37,0.37,0.37,0.37,0.37,0.37,0.37,0.37,0.37,0.37,0.37,0.37,0.37,0.37,0.37,0.37,0.37,0.37,0.37,0.37,0.37,0.37,0.37,0.37,0.37,0.37,0.37,0.37,0.37,0.37,0.37,0.37,0.37,0.37,0.37,0.37,0.36,0.36,0.36,0.36,0.36,0.36,0.36,0.36,0.36,0.36,0.36,0.36,0.36,0.36,0.36,0.36,0.36,0.36,0.36,0.36,0.36,0.36,0.36,0.36,0.36,0.36,0.36,0.36,0.36,0.36,0.36,0.36,0.36,0.36,0.36,0.36,0.36,0.36,0.36,0.36,0.36,0.36,0.36,0.36,0.36,0.36,0.36,0.36,0.36,0.36,0.36,0.36,0.36,0.36,0.36,0.36,0.36,0.36,0.36,0.36,0.36,0.36,0.36,0.36,0.36,0.36,0.36,0.36,0.36,0.36,0.36,0.36,0.36,0.36,0.36,0.36,0.36,0.36,0.36,0.36,0.36,0.36,0.36,0.36,0.36,0.36,0.36,0.36,0.36,0.36,0.36,0.36,0.36,0.36,0.36,0.36,0.36,0.36,0.36,0.36,0.36,0.36,0.35,0.35,0.35,0.35,0.35,0.35,0.35,0.35,0.35,0.35,0.35,0.35,0.35,0.35,0.35,0.35,0.35,0.35,0.35,0.35,0.35,0.35,0.35,0.35,0.35,0.35,0.35,0.35,0.35,0.35,0.35,0.35,0.35,0.35,0.35,0.35,0.35,0.35,0.35,0.35,0.35,0.35,0.35,0.35,0.35,0.35,0.35,0.35,0.35,0.35,0.35,0.35,0.35,0.35,0.35,0.35,0.35,0.35,0.35,0.35,0.35,0.35,0.35,0.35,0.35,0.35,0.35,0.35,0.35,0.35,0.35,0.35,0.35,0.35,0.35,0.35,0.35,0.35,0.35,0.35,0.35,0.35,0.35,0.35,0.35,0.34,0.34,0.34,0.34,0.34,0.34,0.34,0.34,0.34,0.34,0.34,0.34,0.34,0.34,0.34,0.34,0.34,0.34,0.34,0.34,0.34,0.34,0.34,0.34,0.34,0.34,0.34,0.34,0.34,0.34,0.34,0.34,0.34,0.34,0.34,0.34,0.34,0.34,0.34,0.34,0.34,0.34,0.34,0.34,0.34,0.34,0.34,0.34,0.34,0.34,0.34,0.34,0.34,0.34,0.34,0.34,0.34,0.34,0.34,0.34,0.34,0.34,0.34,0.34,0.34,0.34,0.34,0.34,0.34,0.34,0.34,0.34,0.34,0.34,0.34,0.34,0.34,0.34,0.34,0.34,0.34,0.34,0.34,0.34,0.34,0.34,0.34,0.34,0.34,0.34,0.33,0.33,0.33,0.33,0.33,0.33,0.33,0.33,0.33,0.33,0.33,0.33,0.33,0.33,0.33,0.33,0.33,0.33,0.33,0.33,0.33,0.33,0.33,0.33,0.33,0.33,0.33,0.33,0.33,0.33,0.33,0.33,0.33,0.33,0.33,0.33,0.33,0.33,0.33,0.33,0.33,0.33,0.33,0.33,0.33,0.33,0.33,0.33,0.33,0.33,0.33,0.33,0.33,0.33,0.33,0.33,0.33,0.33,0.33,0.33,0.33,0.33,0.33,0.33,0.33,0.33,0.33,0.33,0.33,0.33,0.33,0.33,0.33,0.33,0.33,0.33,0.33,0.33,0.33,0.33,0.33,0.33,0.33,0.33,0.33,0.33,0.33,0.33,0.33,0.33,0.33,0.33,0.33,0.33,0.33,0.33,0.33,0.33,0.33,0.33,0.33,0.33,0.33,0.33,0.33,0.33,0.33,0.33,0.33,0.33,0.33,0.33,0.33,0.33,0.33,0.33,0.33,0.33,0.33,0.33,0.33,0.33,0.33,0.33,0.33,0.33,0.33,0.33,0.33,0.33,0.33,0.33,0.33,0.33,0.33,0.33,0.32,0.32,0.32,0.32,0.32,0.32,0.32,0.32,0.32,0.32,0.32,0.32,0.32,0.32,0.32,0.32,0.32,0.32,0.32,0.32,0.32,0.32,0.32,0.32,0.32,0.32,0.32,0.32,0.32,0.32,0.32,0.32,0.32,0.32,0.32,0.32,0.32,0.32,0.32,0.32,0.32,0.32,0.32,0.32,0.32,0.32,0.32,0.32,0.32,0.32,0.32,0.32,0.32,0.32,0.32,0.32,0.32,0.32,0.32,0.32,0.32,0.32,0.32,0.32,0.32,0.32,0.32,0.32,0.32,0.32,0.32,0.32,0.32,0.32,0.32,0.32,0.32,0.32,0.32,0.32,0.32,0.32,0.32,0.32,0.32,0.32,0.32,0.32,0.32,0.32,0.32,0.32,0.32,0.32,0.32,0.32,0.32,0.32,0.32,0.32,0.32,0.32,0.32,0.32,0.32,0.32,0.32,0.32,0.32,0.32,0.32,0.32,0.32,0.32,0.32,0.32,0.32,0.32,0.32,0.32,0.32,0.32,0.32,0.31,0.31,0.31,0.31,0.31,0.31,0.31,0.31,0.31,0.31,0.31,0.31,0.31,0.31,0.31,0.31,0.31,0.31,0.31,0.31,0.31,0.31,0.31,0.31,0.31,0.31,0.31,0.31,0.31,0.31,0.31,0.31,0.31,0.31,0.31,0.31,0.31,0.31,0.31,0.31,0.31,0.31,0.31,0.31,0.31,0.31,0.31,0.31,0.31,0.31,0.31,0.31,0.31,0.31,0.31,0.31,0.31,0.31,0.31,0.31,0.31,0.31,0.31,0.31,0.31,0.31,0.31,0.31,0.31,0.31,0.31,0.31,0.31,0.31,0.31,0.31,0.31,0.31,0.31,0.31,0.31,0.31,0.31,0.31,0.31,0.31,0.31,0.31,0.31,0.31,0.31,0.31,0.31,0.31,0.31,0.31,0.31,0.31,0.31,0.31,0.31,0.31,0.31,0.31,0.31,0.31,0.31,0.31,0.31,0.31,0.31,0.31,0.31,0.31,0.31,0.31,0.31,0.31,0.31,0.31,0.31,0.3,0.3,0.3,0.3,0.3,0.3,0.3,0.3,0.3,0.3,0.3,0.3,0.3,0.3,0.3,0.3,0.3,0.3,0.3,0.3,0.3,0.3,0.3,0.3,0.3,0.3,0.3,0.3,0.3,0.3,0.3,0.3,0.3,0.3,0.3,0.3,0.3,0.3,0.3,0.3,0.3,0.3,0.3,0.3,0.3,0.3,0.3,0.3,0.3,0.3,0.3,0.3,0.3,0.3,0.3,0.3,0.3,0.3,0.3,0.3,0.3,0.3,0.3,0.3,0.3,0.3,0.3,0.3,0.3,0.3,0.3,0.3,0.3,0.3,0.3,0.3,0.3,0.3,0.3,0.3,0.3,0.3,0.3,0.3,0.3,0.3,0.3,0.3,0.3,0.3,0.3,0.3,0.3,0.3,0.3,0.3,0.3,0.3,0.3,0.3,0.3,0.3,0.3,0.3,0.3,0.3,0.3,0.3,0.3,0.3,0.3,0.3,0.3,0.3,0.3,0.3,0.3,0.3,0.3,0.3,0.3,0.3,0.3,0.3,0.3,0.3,0.3,0.3,0.3,0.3,0.3,0.3,0.3,0.3,0.3,0.29,0.29,0.29,0.29,0.29,0.29,0.29,0.29,0.29,0.29,0.29,0.29,0.29,0.29,0.29,0.29,0.29,0.29,0.29,0.29,0.29,0.29,0.29,0.29,0.29,0.29,0.29,0.29,0.29,0.29,0.29,0.29,0.29,0.29,0.29,0.29,0.29,0.29,0.29,0.29,0.29,0.29,0.29,0.29,0.29,0.29,0.29,0.29,0.29,0.29,0.29,0.29,0.29,0.29,0.29,0.29,0.29,0.29,0.29,0.29,0.29,0.29,0.29,0.29,0.29,0.29,0.29,0.29,0.29,0.29,0.29,0.29,0.29,0.29,0.29,0.29,0.29,0.29,0.29,0.29,0.29,0.29,0.29,0.29,0.29,0.29,0.29,0.29,0.29,0.29,0.29,0.29,0.29,0.29,0.29,0.29,0.29,0.29,0.29,0.29,0.29,0.29,0.29,0.29,0.29,0.29,0.29,0.29,0.29,0.29,0.29,0.29,0.29,0.29,0.29,0.29,0.29,0.29,0.29,0.29,0.29,0.29,0.29,0.29,0.29,0.29,0.29,0.29,0.29,0.29,0.29,0.29,0.29,0.29,0.29,0.29,0.29,0.29,0.29,0.29,0.29,0.29,0.29,0.29,0.29,0.29,0.29,0.29,0.29,0.28,0.28,0.28,0.28,0.28,0.28,0.28,0.28,0.28,0.28,0.28,0.28,0.28,0.28,0.28,0.28,0.28,0.28,0.28,0.28,0.28,0.28,0.28,0.28,0.28,0.28,0.28,0.28,0.28,0.28,0.28,0.28,0.28,0.28,0.28,0.28,0.28,0.28,0.28,0.28,0.28,0.28,0.28,0.28,0.28,0.28,0.28,0.28,0.28,0.28,0.28,0.28,0.28,0.28,0.28,0.28,0.28,0.28,0.28,0.28,0.28,0.28,0.28,0.28,0.28,0.28,0.28,0.28,0.28,0.28,0.28,0.28,0.28,0.28,0.28,0.28,0.28,0.28,0.28,0.28,0.28,0.28,0.28,0.28,0.28,0.28,0.28,0.28,0.28,0.28,0.28,0.28,0.28,0.28,0.28,0.28,0.28,0.28,0.28,0.28,0.28,0.28,0.28,0.28,0.28,0.28,0.28,0.28,0.28,0.28,0.28,0.28,0.28,0.28,0.28,0.28,0.28,0.28,0.28,0.28,0.28,0.28,0.28,0.28,0.28,0.28,0.28,0.28,0.28,0.28,0.28,0.28,0.28,0.28,0.28,0.28,0.28,0.28,0.28,0.28,0.28,0.28,0.28,0.28,0.28,0.28,0.28,0.28,0.28,0.28,0.28,0.28,0.28,0.28,0.28,0.28,0.28,0.27,0.27,0.27,0.27,0.27,0.27,0.27,0.27,0.27,0.27,0.27,0.27,0.27,0.27,0.27,0.27,0.27,0.27,0.27,0.27,0.27,0.27,0.27,0.27,0.27,0.27,0.27,0.27,0.27,0.27,0.27,0.27,0.27,0.27,0.27,0.27,0.27,0.27,0.27,0.27,0.27,0.27,0.27,0.27,0.27,0.27,0.27,0.27,0.27,0.27,0.27,0.27,0.27,0.27,0.27,0.27,0.27,0.27,0.27,0.27,0.27,0.27,0.27,0.27,0.27,0.27,0.27,0.27,0.27,0.27,0.27,0.27,0.27,0.27,0.27,0.27,0.27,0.27,0.27,0.27,0.27,0.27,0.27,0.27,0.27,0.27,0.27,0.27,0.27,0.27,0.27,0.27,0.27,0.27,0.27,0.27,0.27,0.27,0.27,0.27,0.27,0.27,0.27,0.27,0.27,0.27,0.27,0.27,0.27,0.27,0.27,0.27,0.27,0.27,0.27,0.27,0.27,0.27,0.27,0.27,0.27,0.27,0.27,0.27,0.27,0.27,0.27,0.27,0.27,0.27,0.27,0.27,0.27,0.27,0.27,0.27,0.27,0.27,0.27,0.27,0.27,0.27,0.27,0.27,0.27,0.27,0.27,0.27,0.27,0.27,0.27,0.27,0.27,0.27,0.27,0.27,0.27,0.27,0.27,0.27,0.27,0.27,0.27,0.27,0.27,0.27,0.27,0.27,0.27,0.27,0.27,0.27,0.27,0.27,0.27,0.27,0.27,0.26,0.26,0.26,0.26,0.26,0.26,0.26,0.26,0.26,0.26,0.26,0.26,0.26,0.26,0.26,0.26,0.26,0.26,0.26,0.26,0.26,0.26,0.26,0.26,0.26,0.26,0.26,0.26,0.26,0.26,0.26,0.26,0.26,0.26,0.26,0.26,0.26,0.26,0.26,0.26,0.26,0.26,0.26,0.26,0.26,0.26,0.26,0.26,0.26,0.26,0.26,0.26,0.26,0.26,0.26,0.26,0.26,0.26,0.26,0.26,0.26,0.26,0.26,0.26,0.26,0.26,0.26,0.26,0.26,0.26,0.26,0.26,0.26,0.26,0.26,0.26,0.26,0.26,0.26,0.26,0.26,0.26,0.26,0.26,0.26,0.26,0.26,0.26,0.26,0.26,0.26,0.26,0.26,0.26,0.26,0.26,0.26,0.26,0.26,0.26,0.26,0.26,0.26,0.26,0.26,0.26,0.26,0.26,0.26,0.26,0.26,0.26,0.26,0.26,0.26,0.26,0.26,0.26,0.26,0.26,0.26,0.26,0.26,0.26,0.26,0.26,0.26,0.26,0.26,0.26,0.26,0.26,0.26,0.26,0.26,0.26,0.26,0.26,0.26,0.26,0.26,0.26,0.26,0.26,0.26,0.26,0.26,0.26,0.26,0.26,0.26,0.26,0.26,0.26,0.26,0.26,0.26,0.26,0.26,0.26,0.26,0.26,0.26,0.26,0.26,0.26,0.25,0.25,0.25,0.25,0.25,0.25,0.25,0.25,0.25,0.25,0.25,0.25,0.25,0.25,0.25,0.25,0.25,0.25,0.25,0.25,0.25,0.25,0.25,0.25,0.25,0.25,0.25,0.25,0.25,0.25,0.25,0.25,0.25,0.25,0.25,0.25,0.25,0.25,0.25,0.25,0.25,0.25,0.25,0.25,0.25,0.25,0.25,0.25,0.25,0.25,0.25,0.25,0.25,0.25,0.25,0.25,0.25,0.25,0.25,0.25,0.25,0.25,0.25,0.25,0.25,0.25,0.25,0.25,0.25,0.25,0.25,0.25,0.25,0.25,0.25,0.25,0.25,0.25,0.25,0.25,0.25,0.25,0.25,0.25,0.25,0.25,0.25,0.25,0.25,0.25,0.25,0.25,0.25,0.25,0.25,0.25,0.25,0.25,0.25,0.25,0.25,0.25,0.25,0.25,0.25,0.25,0.25,0.25,0.25,0.25,0.25,0.25,0.25,0.25,0.25,0.25,0.25,0.25,0.25,0.25,0.25,0.25,0.25,0.25,0.25,0.25,0.25,0.25,0.25,0.25,0.25,0.25,0.25,0.25,0.25,0.25,0.25,0.25,0.25,0.25,0.25,0.25,0.25,0.25,0.25,0.25,0.25,0.25,0.25,0.25,0.25,0.25,0.25,0.25,0.25,0.25,0.25,0.25,0.25,0.25,0.25,0.25,0.24,0.24,0.24,0.24,0.24,0.24,0.24,0.24,0.24,0.24,0.24,0.24,0.24,0.24,0.24,0.24,0.24,0.24,0.24,0.24,0.24,0.24,0.24,0.24,0.24,0.24,0.24,0.24,0.24,0.24,0.24,0.24,0.24,0.24,0.24,0.24,0.24,0.24,0.24,0.24,0.24,0.24,0.24,0.24,0.24,0.24,0.24,0.24,0.24,0.24,0.24,0.24,0.24,0.24,0.24,0.24,0.24,0.24,0.24,0.24,0.24,0.24,0.24,0.24,0.24,0.24,0.24,0.24,0.24,0.24,0.24,0.24,0.24,0.24,0.24,0.24,0.24,0.24,0.24,0.24,0.24,0.24,0.24,0.24,0.24,0.24,0.24,0.24,0.24,0.24,0.24,0.24,0.24,0.24,0.24,0.24,0.24,0.24,0.24,0.24,0.24,0.24,0.24,0.24,0.24,0.24,0.24,0.24,0.24,0.24,0.24,0.24,0.24,0.24,0.24,0.24,0.24,0.24,0.24,0.24,0.24,0.24,0.24,0.24,0.24,0.24,0.24,0.24,0.24,0.24,0.24,0.24,0.24,0.24,0.24,0.24,0.24,0.24,0.24,0.24,0.24,0.24,0.24,0.24,0.24,0.24,0.24,0.24,0.24,0.24,0.24,0.24,0.24,0.24,0.24,0.24,0.24,0.24,0.24,0.24,0.24,0.24,0.24,0.24,0.24,0.24,0.24,0.24,0.24,0.24,0.24,0.24,0.24,0.24,0.24,0.24,0.24,0.24,0.24,0.24,0.24,0.23,0.23,0.23,0.23,0.23,0.23,0.23,0.23,0.23,0.23,0.23,0.23,0.23,0.23,0.23,0.23,0.23,0.23,0.23,0.23,0.23,0.23,0.23,0.23,0.23,0.23,0.23,0.23,0.23,0.23,0.23,0.23,0.23,0.23,0.23,0.23,0.23,0.23,0.23,0.23,0.23,0.23,0.23,0.23,0.23,0.23,0.23,0.23,0.23,0.23,0.23,0.23,0.23,0.23,0.23,0.23,0.23,0.23,0.23,0.23,0.23,0.23,0.23,0.23,0.23,0.23,0.23,0.23,0.23,0.23,0.23,0.23,0.23,0.23,0.23,0.23,0.23,0.23,0.23,0.23,0.23,0.23,0.23,0.23,0.23,0.23,0.23,0.23,0.23,0.23,0.23,0.23,0.23,0.23,0.23,0.23,0.23,0.23,0.23,0.23,0.23,0.23,0.23,0.23,0.23,0.23,0.23,0.23,0.23,0.23,0.23,0.23,0.23,0.23,0.23,0.23,0.23,0.23,0.23,0.23,0.23,0.23,0.23,0.23,0.23,0.23,0.23,0.23,0.23,0.23,0.23,0.23,0.23,0.23,0.23,0.23,0.23,0.23,0.23,0.23,0.23,0.23,0.23,0.23,0.23,0.23,0.23,0.23,0.23,0.23,0.23,0.23,0.23,0.23,0.23,0.23,0.23,0.23,0.23,0.23,0.23,0.23,0.23,0.23,0.23,0.23,0.23,0.23,0.23,0.23,0.23,0.23,0.23,0.23,0.23,0.23,0.23,0.23,0.23,0.23,0.23,0.23,0.22,0.22,0.22,0.22,0.22,0.22,0.22,0.22,0.22,0.22,0.22,0.22,0.22,0.22,0.22,0.22,0.22,0.22,0.22,0.22,0.22,0.22,0.22,0.22,0.22,0.22,0.22,0.22,0.22,0.22,0.22,0.22,0.22,0.22,0.22,0.22,0.22,0.22,0.22,0.22,0.22,0.22,0.22,0.22,0.22,0.22,0.22,0.22,0.22,0.22,0.22,0.22,0.22,0.22,0.22,0.22,0.22,0.22,0.22,0.22,0.22,0.22,0.22,0.22,0.22,0.22,0.22,0.22,0.22,0.22,0.22,0.22,0.22,0.22,0.22,0.22,0.22,0.22,0.22,0.22,0.22,0.22,0.22,0.22,0.22,0.22,0.22,0.22,0.22,0.22,0.22,0.22,0.22,0.22,0.22,0.22,0.22,0.22,0.22,0.22,0.22,0.22,0.22,0.22,0.22,0.22,0.22,0.22,0.22,0.22,0.22,0.22,0.22,0.22,0.22,0.22,0.22,0.22,0.22,0.22,0.22,0.22,0.22,0.22,0.22,0.22,0.22,0.22,0.22,0.22,0.22,0.22,0.22,0.22,0.22,0.22,0.22,0.22,0.22,0.22,0.22,0.22,0.22,0.22,0.22,0.22,0.22,0.22,0.22,0.22,0.22,0.22,0.22,0.22,0.22,0.22,0.22,0.22,0.22,0.22,0.22,0.22,0.22,0.22,0.22,0.22,0.22,0.22,0.22,0.22,0.22,0.22,0.22,0.22,0.22,0.22,0.22,0.21,0.21,0.21,0.21,0.21,0.21,0.21,0.21,0.21,0.21,0.21,0.21,0.21,0.21,0.21,0.21,0.21,0.21,0.21,0.21,0.21,0.21,0.21,0.21,0.21,0.21,0.21,0.21,0.21,0.21,0.21,0.21,0.21,0.21,0.21,0.21,0.21,0.21,0.21,0.21,0.21,0.21,0.21,0.21,0.21,0.21,0.21,0.21,0.21,0.21,0.21,0.21,0.21,0.21,0.21,0.21,0.21,0.21,0.21,0.21,0.21,0.21,0.21,0.21,0.21,0.21,0.21,0.21,0.21,0.21,0.21,0.21,0.21,0.21,0.21,0.21,0.21,0.21,0.21,0.21,0.21,0.21,0.21,0.21,0.21,0.21,0.21,0.21,0.21,0.21,0.21,0.21,0.21,0.21,0.21,0.21,0.21,0.21,0.21,0.21,0.21,0.21,0.21,0.21,0.21,0.21,0.21,0.21,0.21,0.21,0.21,0.21,0.21,0.21,0.21,0.21,0.21,0.21,0.21,0.21,0.21,0.21,0.21,0.21,0.21,0.21,0.21,0.21,0.21,0.21,0.21,0.21,0.21,0.21,0.21,0.21,0.21,0.21,0.21,0.21,0.21,0.21,0.21,0.21,0.21,0.21,0.21,0.21,0.21,0.21,0.21,0.21,0.21,0.21,0.21,0.21,0.21,0.21,0.21,0.21,0.21,0.21,0.21,0.21,0.21,0.21,0.21,0.21,0.21,0.21,0.21,0.21,0.21,0.21,0.21,0.21,0.21,0.21,0.21,0.21,0.21,0.2,0.2,0.2,0.2,0.2,0.2,0.2,0.2,0.2,0.2,0.2,0.2,0.2,0.2,0.2,0.2,0.2,0.2,0.2,0.2,0.2,0.2,0.2,0.2,0.2,0.2,0.2,0.2,0.2,0.2,0.2,0.2,0.2,0.2,0.2,0.2,0.2,0.2,0.2,0.2,0.2,0.2,0.2,0.2,0.2,0.2,0.2,0.2,0.2,0.2,0.2,0.2,0.2,0.2,0.2,0.2,0.2,0.2,0.2,0.2,0.2,0.2,0.2,0.2,0.2,0.2,0.2,0.2,0.2,0.2,0.2,0.2,0.2,0.2,0.2,0.2,0.2,0.2,0.2,0.2,0.2,0.2,0.2,0.2,0.2,0.2,0.2,0.2,0.2,0.2,0.2,0.2,0.2,0.2,0.2,0.2,0.2,0.2,0.2,0.2,0.2,0.2,0.2,0.2,0.2,0.2,0.2,0.2,0.2,0.2,0.2,0.2,0.2,0.2,0.2,0.2,0.2,0.2,0.2,0.2,0.2,0.2,0.2,0.2,0.2,0.2,0.2,0.2,0.2,0.2,0.2,0.2,0.2,0.2,0.2,0.2,0.2,0.2,0.2,0.2,0.2,0.2,0.2,0.2,0.2,0.2,0.2,0.2,0.2,0.2,0.2,0.2,0.2,0.2,0.2,0.2,0.2,0.2,0.2,0.2,0.2,0.2,0.2,0.2,0.2,0.2,0.2,0.2,0.2,0.2,0.2,0.2,0.2,0.2,0.2,0.2,0.2,0.2,0.2,0.2,0.2,0.2,0.2,0.2,0.2,0.2,0.2,0.2,0.2,0.2,0.2,0.2,0.2,0.2,0.2,0.2,0.2,0.2,0.2,0.2,0.2,0.2,0.2,0.2,0.2,0.2,0.2,0.2,0.2,0.2,0.2,0.2,0.2,0.2,0.2,0.2,0.2,0.2,0.2,0.2,0.2,0.2,0.2,0.2,0.2,0.2,0.2,0.2,0.2,0.2,0.2,0.2,0.2,0.2,0.2,0.2,0.2,0.2,0.2,0.19,0.19,0.19,0.19,0.19,0.19,0.19,0.19,0.19,0.19,0.19,0.19,0.19,0.19,0.19,0.19,0.19,0.19,0.19,0.19,0.19,0.19,0.19,0.19,0.19,0.19,0.19,0.19,0.19,0.19,0.19,0.19,0.19,0.19,0.19,0.19,0.19,0.19,0.19,0.19,0.19,0.19,0.19,0.19,0.19,0.19,0.19,0.19,0.19,0.19,0.19,0.19,0.19,0.19,0.19,0.19,0.19,0.19,0.19,0.19,0.19,0.19,0.19,0.19,0.19,0.19,0.19,0.19,0.19,0.19,0.19,0.19,0.19,0.19,0.19,0.19,0.19,0.19,0.19,0.19,0.19,0.19,0.19,0.19,0.19,0.19,0.19,0.19,0.19,0.19,0.19,0.19,0.19,0.19,0.19,0.19,0.19,0.19,0.19,0.19,0.19,0.19,0.19,0.19,0.19,0.19,0.19,0.19,0.19,0.19,0.19,0.19,0.19,0.19,0.19,0.19,0.19,0.19,0.19,0.19,0.19,0.19,0.19,0.19,0.19,0.19,0.19,0.19,0.19,0.19,0.19,0.19,0.19,0.19,0.19,0.19,0.19,0.19,0.19,0.19,0.19,0.19,0.19,0.19,0.19,0.19,0.19,0.19,0.19,0.19,0.19,0.19,0.19,0.19,0.19,0.19,0.19,0.19,0.19,0.19,0.19,0.19,0.19,0.19,0.19,0.19,0.19,0.19,0.19,0.19,0.19,0.19,0.19,0.19,0.19,0.19,0.19,0.19,0.19,0.19,0.19,0.19,0.19,0.19,0.19,0.19,0.19,0.19,0.19,0.19,0.19,0.19,0.19,0.19,0.19,0.19,0.19,0.19,0.19,0.19,0.19,0.19,0.19,0.19,0.19,0.19,0.19,0.19,0.19,0.19,0.19,0.19,0.19,0.19,0.19,0.19,0.19,0.19,0.19,0.19,0.19,0.19,0.19,0.19,0.19,0.19,0.19,0.19,0.19,0.19,0.19,0.19,0.19,0.19,0.19,0.19,0.19,0.19,0.19,0.19,0.19,0.19,0.19,0.19,0.19,0.19,0.19,0.19,0.19,0.19,0.19,0.19,0.19,0.19,0.19,0.19,0.19,0.19,0.19,0.19,0.19,0.18,0.18,0.18,0.18,0.18,0.18,0.18,0.18,0.18,0.18,0.18,0.18,0.18,0.18,0.18,0.18,0.18,0.18,0.18,0.18,0.18,0.18,0.18,0.18,0.18,0.18,0.18,0.18,0.18,0.18,0.18,0.18,0.18,0.18,0.18,0.18,0.18,0.18,0.18,0.18,0.18,0.18,0.18,0.18,0.18,0.18,0.18,0.18,0.18,0.18,0.18,0.18,0.18,0.18,0.18,0.18,0.18,0.18,0.18,0.18,0.18,0.18,0.18,0.18,0.18,0.18,0.18,0.18,0.18,0.18,0.18,0.18,0.18,0.18,0.18,0.18,0.18,0.18,0.18,0.18,0.18,0.18,0.18,0.18,0.18,0.18,0.18,0.18,0.18,0.18,0.18,0.18,0.18,0.18,0.18,0.18,0.18,0.18,0.18,0.18,0.18,0.18,0.18,0.18,0.18,0.18,0.18,0.18,0.18,0.18,0.18,0.18,0.18,0.18,0.18,0.18,0.18,0.18,0.18,0.18,0.18,0.18,0.18,0.18,0.18,0.18,0.18,0.18,0.18,0.18,0.18,0.18,0.18,0.18,0.18,0.18,0.18,0.18,0.18,0.18,0.18,0.18,0.18,0.18,0.18,0.18,0.18,0.18,0.18,0.18,0.18,0.18,0.18,0.18,0.18,0.18,0.18,0.18,0.18,0.18,0.18,0.18,0.18,0.18,0.18,0.18,0.18,0.18,0.18,0.18,0.18,0.18,0.18,0.18,0.18,0.18,0.18,0.18,0.18,0.18,0.18,0.18,0.18,0.18,0.18,0.18,0.18,0.18,0.18,0.18,0.18,0.18,0.18,0.18,0.18,0.18,0.18,0.18,0.18,0.18,0.18,0.18,0.18,0.18,0.18,0.18,0.18,0.18,0.18,0.18,0.17,0.17,0.17,0.17,0.17,0.17,0.17,0.17,0.17,0.17,0.17,0.17,0.17,0.17,0.17,0.17,0.17,0.17,0.17,0.17,0.17,0.17,0.17,0.17,0.17,0.17,0.17,0.17,0.17,0.17,0.17,0.17,0.17,0.17,0.17,0.17,0.17,0.17,0.17,0.17,0.17,0.17,0.17,0.17,0.17,0.17,0.17,0.17,0.17,0.17,0.17,0.17,0.17,0.17,0.17,0.17,0.17,0.17,0.17,0.17,0.17,0.17,0.17,0.17,0.17,0.17,0.17,0.17,0.17,0.17,0.17,0.17,0.17,0.17,0.17,0.17,0.17,0.17,0.17,0.17,0.17,0.17,0.17,0.17,0.17,0.17,0.17,0.17,0.17,0.17,0.17,0.17,0.17,0.17,0.17,0.17,0.17,0.17,0.17,0.17,0.17,0.17,0.17,0.17,0.17,0.17,0.17,0.17,0.17,0.17,0.17,0.17,0.17,0.17,0.17,0.17,0.17,0.17,0.17,0.17,0.17,0.17,0.17,0.17,0.17,0.17,0.17,0.17,0.17,0.17,0.17,0.17,0.17,0.17,0.17,0.17,0.17,0.17,0.17,0.17,0.17,0.17,0.17,0.17,0.17,0.17,0.17,0.17,0.17,0.17,0.17,0.17,0.17,0.17,0.17,0.17,0.17,0.17,0.17,0.17,0.17,0.17,0.17,0.17,0.17,0.17,0.17,0.17,0.17,0.17,0.17,0.17,0.17,0.17,0.17,0.17,0.17,0.17,0.17,0.17,0.17,0.17,0.17,0.17,0.17,0.17,0.17,0.17,0.17,0.17,0.17,0.17,0.17,0.17,0.17,0.17,0.17,0.17,0.17,0.17,0.17,0.17,0.17,0.17,0.17,0.17,0.17,0.17,0.17,0.17,0.17,0.17,0.17,0.17,0.17,0.17,0.17,0.17,0.17,0.17,0.17,0.17,0.17,0.17,0.17,0.17,0.17,0.17,0.17,0.17,0.17,0.17,0.17,0.17,0.17,0.17,0.17,0.17,0.17,0.17,0.17,0.17,0.17,0.17,0.17,0.17,0.17,0.17,0.17,0.17,0.17,0.17,0.16,0.16,0.16,0.16,0.16,0.16,0.16,0.16,0.16,0.16,0.16,0.16,0.16,0.16,0.16,0.16,0.16,0.16,0.16,0.16,0.16,0.16,0.16,0.16,0.16,0.16,0.16,0.16,0.16,0.16,0.16,0.16,0.16,0.16,0.16,0.16,0.16,0.16,0.16,0.16,0.16,0.16,0.16,0.16,0.16,0.16,0.16,0.16,0.16,0.16,0.16,0.16,0.16,0.16,0.16,0.16,0.16,0.16,0.16,0.16,0.16,0.16,0.16,0.16,0.16,0.16,0.16,0.16,0.16,0.16,0.16,0.16,0.16,0.16,0.16,0.16,0.16,0.16,0.16,0.16,0.16,0.16,0.16,0.16,0.16,0.16,0.16,0.16,0.16,0.16,0.16,0.16,0.16,0.16,0.16,0.16,0.16,0.16,0.16,0.16,0.16,0.16,0.16,0.16,0.16,0.16,0.16,0.16,0.16,0.16,0.16,0.16,0.16,0.16,0.16,0.16,0.16,0.16,0.16,0.16,0.16,0.16,0.16,0.16,0.16,0.16,0.16,0.16,0.16,0.16,0.16,0.16,0.16,0.16,0.16,0.16,0.16,0.16,0.16,0.16,0.16,0.16,0.16,0.16,0.16,0.16,0.16,0.16,0.16,0.16,0.16,0.16,0.16,0.16,0.16,0.16,0.16,0.16,0.16,0.16,0.16,0.16,0.16,0.16,0.16,0.16,0.16,0.16,0.16,0.16,0.16,0.16,0.16,0.16,0.16,0.16,0.16,0.16,0.16,0.16,0.16,0.16,0.16,0.16,0.16,0.16,0.16,0.16,0.16,0.16,0.16,0.16,0.16,0.16,0.16,0.16,0.16,0.16,0.16,0.16,0.16,0.16,0.16,0.16,0.16,0.16,0.16,0.16,0.16,0.16,0.16,0.16,0.16,0.16,0.16,0.16,0.16,0.16,0.16,0.16,0.16,0.16,0.16,0.16,0.16,0.16,0.16,0.16,0.16,0.16,0.16,0.16,0.16,0.16,0.16,0.16,0.16,0.16,0.16,0.16,0.16,0.16,0.16,0.16,0.16,0.16,0.16,0.16,0.16,0.16,0.16,0.16,0.16,0.16,0.15,0.15,0.15,0.15,0.15,0.15,0.15,0.15,0.15,0.15,0.15,0.15,0.15,0.15,0.15,0.15,0.15,0.15,0.15,0.15,0.15,0.15,0.15,0.15,0.15,0.15,0.15,0.15,0.15,0.15,0.15,0.15,0.15,0.15,0.15,0.15,0.15,0.15,0.15,0.15,0.15,0.15,0.15,0.15,0.15,0.15,0.15,0.15,0.15,0.15,0.15,0.15,0.15,0.15,0.15,0.15,0.15,0.15,0.15,0.15,0.15,0.15,0.15,0.15,0.15,0.15,0.15,0.15,0.15,0.15,0.15,0.15,0.15,0.15,0.15,0.15,0.15,0.15,0.15,0.15,0.15,0.15,0.15,0.15,0.15,0.15,0.15,0.15,0.15,0.15,0.15,0.15,0.15,0.15,0.15,0.15,0.15,0.15,0.15,0.15,0.15,0.15,0.15,0.15,0.15,0.15,0.15,0.15,0.15,0.15,0.15,0.15,0.15,0.15,0.15,0.15,0.15,0.15,0.15,0.15,0.15,0.15,0.15,0.15,0.15,0.15,0.15,0.15,0.15,0.15,0.15,0.15,0.15,0.15,0.15,0.15,0.15,0.15,0.15,0.15,0.15,0.15,0.15,0.15,0.15,0.15,0.15,0.15,0.15,0.15,0.15,0.15,0.15,0.15,0.15,0.15,0.15,0.15,0.15,0.15,0.15,0.15,0.15,0.15,0.15,0.15,0.15,0.15,0.15,0.15,0.15,0.15,0.15,0.15,0.15,0.15,0.15,0.15,0.15,0.15,0.15,0.15,0.15,0.15,0.15,0.15,0.15,0.15,0.15,0.15,0.15,0.15,0.15,0.15,0.15,0.15,0.15,0.15,0.15,0.15,0.15,0.15,0.15,0.15,0.15,0.15,0.15,0.15,0.15,0.15,0.15,0.15,0.15,0.15,0.15,0.15,0.15,0.15,0.15,0.15,0.15,0.15,0.15,0.15,0.15,0.15,0.15,0.15,0.15,0.15,0.15,0.15,0.15,0.15,0.15,0.15,0.15,0.15,0.15,0.15,0.15,0.15,0.15,0.15,0.15,0.15,0.15,0.15,0.15,0.15,0.15,0.15,0.15,0.15,0.15,0.15,0.15,0.15,0.15,0.15,0.15,0.15,0.15,0.15,0.15,0.15,0.15,0.15,0.15,0.15,0.15,0.15,0.15,0.15,0.14,0.14,0.14,0.14,0.14,0.14,0.14,0.14,0.14,0.14,0.14,0.14,0.14,0.14,0.14,0.14,0.14,0.14,0.14,0.14,0.14,0.14,0.14,0.14,0.14,0.14,0.14,0.14,0.14,0.14,0.14,0.14,0.14,0.14,0.14,0.14,0.14,0.14,0.14,0.14,0.14,0.14,0.14,0.14,0.14,0.14,0.14,0.14,0.14,0.14,0.14,0.14,0.14,0.14,0.14,0.14,0.14,0.14,0.14,0.14,0.14,0.14,0.14,0.14,0.14,0.14,0.14,0.14,0.14,0.14,0.14,0.14,0.14,0.14,0.14,0.14,0.14,0.14,0.14,0.14,0.14,0.14,0.14,0.14,0.14,0.14,0.14,0.14,0.14,0.14,0.14,0.14,0.14,0.14,0.14,0.14,0.14,0.14,0.14,0.14,0.14,0.14,0.14,0.14,0.14,0.14,0.14,0.14,0.14,0.14,0.14,0.14,0.14,0.14,0.14,0.14,0.14,0.14,0.14,0.14,0.14,0.14,0.14,0.14,0.14,0.14,0.14,0.14,0.14,0.14,0.14,0.14,0.14,0.14,0.14,0.14,0.14,0.14,0.14,0.14,0.14,0.14,0.14,0.14,0.14,0.14,0.14,0.14,0.14,0.14,0.14,0.14,0.14,0.14,0.14,0.14,0.14,0.14,0.14,0.14,0.14,0.14,0.14,0.14,0.14,0.14,0.14,0.14,0.14,0.14,0.14,0.14,0.14,0.14,0.14,0.14,0.14,0.14,0.14,0.14,0.14,0.14,0.14,0.14,0.14,0.14,0.14,0.14,0.14,0.14,0.14,0.14,0.14,0.14,0.14,0.14,0.14,0.14,0.14,0.14,0.14,0.14,0.14,0.14,0.14,0.14,0.14,0.14,0.14,0.14,0.14,0.14,0.14,0.14,0.14,0.14,0.14,0.14,0.14,0.14,0.14,0.14,0.14,0.14,0.14,0.14,0.14,0.14,0.14,0.14,0.14,0.14,0.14,0.14,0.14,0.14,0.14,0.14,0.14,0.14,0.14,0.14,0.14,0.14,0.14,0.14,0.14,0.14,0.14,0.14,0.14,0.14,0.14,0.14,0.14,0.14,0.14,0.14,0.14,0.14,0.14,0.14,0.14,0.14,0.14,0.14,0.14,0.14,0.14,0.14,0.14,0.14,0.14,0.14,0.14,0.14,0.14,0.14,0.14,0.14,0.14,0.14,0.14,0.14,0.14,0.14,0.14,0.14,0.14,0.14,0.14,0.14,0.14,0.14,0.14,0.14,0.14,0.14,0.14,0.14,0.14,0.14,0.14,0.14,0.14,0.14,0.14,0.14,0.14,0.14,0.14,0.14,0.14,0.14,0.14,0.14,0.14,0.14,0.14,0.14,0.14,0.14,0.14,0.14,0.14,0.14,0.14,0.14,0.14,0.14,0.14,0.14,0.14,0.14,0.14,0.14,0.13,0.13,0.13,0.13,0.13,0.13,0.13,0.13,0.13,0.13,0.13,0.13,0.13,0.13,0.13,0.13,0.13,0.13,0.13,0.13,0.13,0.13,0.13,0.13,0.13,0.13,0.13,0.13,0.13,0.13,0.13,0.13,0.13,0.13,0.13,0.13,0.13,0.13,0.13,0.13,0.13,0.13,0.13,0.13,0.13,0.13,0.13,0.13,0.13,0.13,0.13,0.13,0.13,0.13,0.13,0.13,0.13,0.13,0.13,0.13,0.13,0.13,0.13,0.13,0.13,0.13,0.13,0.13,0.13,0.13,0.13,0.13,0.13,0.13,0.13,0.13,0.13,0.13,0.13,0.13,0.13,0.13,0.13,0.13,0.13,0.13,0.13,0.13,0.13,0.13,0.13,0.13,0.13,0.13,0.13,0.13,0.13,0.13,0.13,0.13,0.13,0.13,0.13,0.13,0.13,0.13,0.13,0.13,0.13,0.13,0.13,0.13,0.13,0.13,0.13,0.13,0.13,0.13,0.13,0.13,0.13,0.13,0.13,0.13,0.13,0.13,0.13,0.13,0.13,0.13,0.13,0.13,0.13,0.13,0.13,0.13,0.13,0.13,0.13,0.13,0.13,0.13,0.13,0.13,0.13,0.13,0.13,0.13,0.13,0.13,0.13,0.13,0.13,0.13,0.13,0.13,0.13,0.13,0.13,0.13,0.13,0.13,0.13,0.13,0.13,0.13,0.13,0.13,0.13,0.13,0.13,0.13,0.13,0.13,0.13,0.13,0.13,0.13,0.13,0.13,0.13,0.13,0.13,0.13,0.13,0.13,0.13,0.13,0.13,0.13,0.13,0.13,0.13,0.13,0.13,0.13,0.13,0.13,0.13,0.13,0.13,0.13,0.13,0.13,0.13,0.13,0.13,0.13,0.13,0.13,0.13,0.13,0.13,0.13,0.13,0.13,0.13,0.13,0.13,0.13,0.13,0.13,0.13,0.13,0.13,0.13,0.13,0.13,0.13,0.13,0.13,0.13,0.13,0.13,0.13,0.13,0.13,0.13,0.13,0.13,0.13,0.13,0.13,0.13,0.13,0.13,0.13,0.13,0.13,0.13,0.13,0.13,0.13,0.13,0.13,0.13,0.13,0.13,0.13,0.13,0.13,0.13,0.13,0.13,0.13,0.13,0.13,0.13,0.13,0.13,0.13,0.13,0.13,0.13,0.13,0.13,0.13,0.13,0.13,0.13,0.13,0.13,0.13,0.13,0.13,0.13,0.13,0.13,0.13,0.13,0.13,0.13,0.13,0.13,0.13,0.13,0.13,0.13,0.13,0.13,0.13,0.13,0.13,0.13,0.13,0.13,0.13,0.13,0.13,0.13,0.13,0.13,0.13,0.13,0.13,0.13,0.13,0.13,0.13,0.13,0.13,0.13,0.13,0.13,0.13,0.13,0.13,0.13,0.12,0.12,0.12,0.12,0.12,0.12,0.12,0.12,0.12,0.12,0.12,0.12,0.12,0.12,0.12,0.12,0.12,0.12,0.12,0.12,0.12,0.12,0.12,0.12,0.12,0.12,0.12,0.12,0.12,0.12,0.12,0.12,0.12,0.12,0.12,0.12,0.12,0.12,0.12,0.12,0.12,0.12,0.12,0.12,0.12,0.12,0.12,0.12,0.12,0.12,0.12,0.12,0.12,0.12,0.12,0.12,0.12,0.12,0.12,0.12,0.12,0.12,0.12,0.12,0.12,0.12,0.12,0.12,0.12,0.12,0.12,0.12,0.12,0.12,0.12,0.12,0.12,0.12,0.12,0.12,0.12,0.12,0.12,0.12,0.12,0.12,0.12,0.12,0.12,0.12,0.12,0.12,0.12,0.12,0.12,0.12,0.12,0.12,0.12,0.12,0.12,0.12,0.12,0.12,0.12,0.12,0.12,0.12,0.12,0.12,0.12,0.12,0.12,0.12,0.12,0.12,0.12,0.12,0.12,0.12,0.12,0.12,0.12,0.12,0.12,0.12,0.12,0.12,0.12,0.12,0.12,0.12,0.12,0.12,0.12,0.12,0.12,0.12,0.12,0.12,0.12,0.12,0.12,0.12,0.12,0.12,0.12,0.12,0.12,0.12,0.12,0.12,0.12,0.12,0.12,0.12,0.12,0.12,0.12,0.12,0.12,0.12,0.12,0.12,0.12,0.12,0.12,0.12,0.12,0.12,0.12,0.12,0.12,0.12,0.12,0.12,0.12,0.12,0.12,0.12,0.12,0.12,0.12,0.12,0.12,0.12,0.12,0.12,0.12,0.12,0.12,0.12,0.12,0.12,0.12,0.12,0.12,0.12,0.12,0.12,0.12,0.12,0.12,0.12,0.12,0.12,0.12,0.12,0.12,0.12,0.12,0.12,0.12,0.12,0.12,0.12,0.12,0.12,0.12,0.12,0.12,0.12,0.12,0.12,0.12,0.12,0.12,0.12,0.12,0.12,0.12,0.12,0.12,0.12,0.12,0.12,0.12,0.12,0.12,0.12,0.12,0.12,0.12,0.12,0.12,0.12,0.12,0.12,0.12,0.12,0.12,0.12,0.12,0.12,0.12,0.12,0.12,0.12,0.12,0.12,0.12,0.12,0.12,0.12,0.12,0.12,0.12,0.12,0.12,0.12,0.12,0.12,0.12,0.12,0.12,0.12,0.12,0.12,0.12,0.12,0.12,0.12,0.12,0.12,0.12,0.12,0.12,0.12,0.12,0.12,0.12,0.12,0.12,0.12,0.12,0.12,0.12,0.12,0.12,0.12,0.12,0.12,0.12,0.12,0.12,0.12,0.12,0.12,0.12,0.12,0.12,0.12,0.12,0.12,0.12,0.12,0.12,0.12,0.12,0.12,0.12,0.12,0.12,0.12,0.12,0.12,0.12,0.12,0.12,0.12,0.12,0.12,0.12,0.12,0.12,0.12,0.12,0.11,0.11,0.11,0.11,0.11,0.11,0.11,0.11,0.11,0.11,0.11,0.11,0.11,0.11,0.11,0.11,0.11,0.11,0.11,0.11,0.11,0.11,0.11,0.11,0.11,0.11,0.11,0.11,0.11,0.11,0.11,0.11,0.11,0.11,0.11,0.11,0.11,0.11,0.11,0.11,0.11,0.11,0.11,0.11,0.11,0.11,0.11,0.11,0.11,0.11,0.11,0.11,0.11,0.11,0.11,0.11,0.11,0.11,0.11,0.11,0.11,0.11,0.11,0.11,0.11,0.11,0.11,0.11,0.11,0.11,0.11,0.11,0.11,0.11,0.11,0.11,0.11,0.11,0.11,0.11,0.11,0.11,0.11,0.11,0.11,0.11,0.11,0.11,0.11,0.11,0.11,0.11,0.11,0.11,0.11,0.11,0.11,0.11,0.11,0.11,0.11,0.11,0.11,0.11,0.11,0.11,0.11,0.11,0.11,0.11,0.11,0.11,0.11,0.11,0.11,0.11,0.11,0.11,0.11,0.11,0.11,0.11,0.11,0.11,0.11,0.11,0.11,0.11,0.11,0.11,0.11,0.11,0.11,0.11,0.11,0.11,0.11,0.11,0.11,0.11,0.11,0.11,0.11,0.11,0.11,0.11,0.11,0.11,0.11,0.11,0.11,0.11,0.11,0.11,0.11,0.11,0.11,0.11,0.11,0.11,0.11,0.11,0.11,0.11,0.11,0.11,0.11,0.11,0.11,0.11,0.11,0.11,0.11,0.11,0.11,0.11,0.11,0.11,0.11,0.11,0.11,0.11,0.11,0.11,0.11,0.11,0.11,0.11,0.11,0.11,0.11,0.11,0.11,0.11,0.11,0.11,0.11,0.11,0.11,0.11,0.11,0.11,0.11,0.11,0.11,0.11,0.11,0.11,0.11,0.11,0.11,0.11,0.11,0.11,0.11,0.11,0.11,0.11,0.11,0.11,0.11,0.11,0.11,0.11,0.11,0.11,0.11,0.11,0.11,0.11,0.11,0.11,0.11,0.11,0.11,0.11,0.11,0.11,0.11,0.11,0.11,0.11,0.11,0.11,0.11,0.11,0.11,0.11,0.11,0.11,0.11,0.11,0.11,0.11,0.11,0.11,0.11,0.11,0.11,0.11,0.11,0.11,0.11,0.11,0.11,0.11,0.11,0.11,0.11,0.11,0.11,0.11,0.11,0.11,0.11,0.11,0.11,0.11,0.11,0.11,0.11,0.11,0.11,0.11,0.11,0.11,0.11,0.11,0.11,0.11,0.11,0.11,0.11,0.11,0.11,0.11,0.11,0.11,0.11,0.11,0.11,0.11,0.11,0.11,0.11,0.11,0.11,0.11,0.11,0.11,0.11,0.11,0.11,0.11,0.11,0.11,0.11,0.11,0.11,0.11,0.11,0.11,0.11,0.11,0.11,0.11,0.11,0.11,0.11,0.11,0.11,0.11,0.11,0.11,0.11,0.11,0.11,0.11,0.11,0.11,0.11,0.11,0.11,0.11,0.11,0.11,0.11,0.11,0.11,0.11,0.11,0.11,0.11,0.11,0.11,0.11,0.11,0.11,0.11,0.11,0.11,0.11,0.11,0.11,0.11,0.11,0.11,0.11,0.11,0.11,0.11,0.11,0.11,0.11,0.11,0.11,0.11,0.11,0.11,0.11,0.11,0.11,0.11,0.11,0.11,0.11,0.11,0.11,0.11,0.11,0.11,0.11,0.11,0.11,0.11,0.11,0.11,0.11,0.11,0.11,0.11,0.11,0.11,0.11,0.11,0.11,0.11,0.11,0.11,0.11,0.11,0.11,0.11,0.11,0.11,0.11,0.11,0.11,0.11,0.11,0.1,0.1,0.1,0.1,0.1,0.1,0.1,0.1,0.1,0.1,0.1,0.1,0.1,0.1,0.1,0.1,0.1,0.1,0.1,0.1,0.1,0.1,0.1,0.1,0.1,0.1,0.1,0.1,0.1,0.1,0.1,0.1,0.1,0.1,0.1,0.1,0.1,0.1,0.1,0.1,0.1,0.1,0.1,0.1,0.1,0.1,0.1,0.1,0.1,0.1,0.1,0.1,0.1,0.1,0.1,0.1,0.1,0.1,0.1,0.1,0.1,0.1,0.1,0.1,0.1,0.1,0.1,0.1,0.1,0.1,0.1,0.1,0.1,0.1,0.1,0.1,0.1,0.1,0.1,0.1,0.1,0.1,0.1,0.1,0.1,0.1,0.1,0.1,0.1,0.1,0.1,0.1,0.1,0.1,0.1,0.1,0.1,0.1,0.1,0.1,0.1,0.1,0.1,0.1,0.1,0.1,0.1,0.1,0.1,0.1,0.1,0.1,0.1,0.1,0.1,0.1,0.1,0.1,0.1,0.1,0.1,0.1,0.1,0.1,0.1,0.1,0.1,0.1,0.1,0.1,0.1,0.1,0.1,0.1,0.1,0.1,0.1,0.1,0.1,0.1,0.1,0.1,0.1,0.1,0.1,0.1,0.1,0.1,0.1,0.1,0.1,0.1,0.1,0.1,0.1,0.1,0.1,0.1,0.1,0.1,0.1,0.1,0.1,0.1,0.1,0.1,0.1,0.1,0.1,0.1,0.1,0.1,0.1,0.1,0.1,0.1,0.1,0.1,0.1,0.1,0.1,0.1,0.1,0.1,0.1,0.1,0.1,0.1,0.1,0.1,0.1,0.1,0.1,0.1,0.1,0.1,0.1,0.1,0.1,0.1,0.1,0.1,0.1,0.1,0.1,0.1,0.1,0.1,0.1,0.1,0.1,0.1,0.1,0.1,0.1,0.1,0.1,0.1,0.1,0.1,0.1,0.1,0.1,0.1,0.1,0.1,0.1,0.1,0.1,0.1,0.1,0.1,0.1,0.1,0.1,0.1,0.1,0.1,0.1,0.1,0.1,0.1,0.1,0.1,0.1,0.1,0.1,0.1,0.1,0.1,0.1,0.1,0.1,0.1,0.1,0.1,0.1,0.1,0.1,0.1,0.1,0.1,0.1,0.1,0.1,0.1,0.1,0.1,0.1,0.1,0.1,0.1,0.1,0.1,0.1,0.1,0.1,0.1,0.1,0.1,0.1,0.1,0.1,0.1,0.1,0.1,0.1,0.1,0.1,0.1,0.1,0.1,0.1,0.1,0.1,0.1,0.1,0.1,0.1,0.1,0.1,0.1,0.1,0.1,0.1,0.1,0.1,0.1,0.1,0.1,0.1,0.1,0.1,0.1,0.1,0.1,0.1,0.1,0.1,0.1,0.1,0.1,0.1,0.1,0.1,0.1,0.1,0.1,0.1,0.1,0.1,0.1,0.1,0.1,0.1,0.1,0.1,0.1,0.1,0.1,0.1,0.1,0.1,0.1,0.1,0.1,0.1,0.1,0.1,0.1,0.1,0.1,0.1,0.1,0.1,0.1,0.1,0.1,0.1,0.1,0.1,0.1,0.1,0.1,0.1,0.1,0.1,0.1,0.1,0.1,0.1,0.1,0.1,0.1,0.1,0.1,0.1,0.1,0.1,0.1,0.1,0.1,0.1,0.1,0.1,0.1,0.1,0.1,0.1,0.1,0.1,0.1,0.1,0.1,0.1,0.1,0.1,0.1,0.1,0.09,0.09,0.09,0.09,0.09,0.09,0.09,0.09,0.09,0.09,0.09,0.09,0.09,0.09,0.09,0.09,0.09,0.09,0.09,0.09,0.09,0.09,0.09,0.09,0.09,0.09,0.09,0.09,0.09,0.09,0.09,0.09,0.09,0.09,0.09,0.09,0.09,0.09,0.09,0.09,0.09,0.09,0.09,0.09,0.09,0.09,0.09,0.09,0.09,0.09,0.09,0.09,0.09,0.09,0.09,0.09,0.09,0.09,0.09,0.09,0.09,0.09,0.09,0.09,0.09,0.09,0.09,0.09,0.09,0.09,0.09,0.09,0.09,0.09,0.09,0.09,0.09,0.09,0.09,0.09,0.09,0.09,0.09,0.09,0.09,0.09,0.09,0.09,0.09,0.09,0.09,0.09,0.09,0.09,0.09,0.09,0.09,0.09,0.09,0.09,0.09,0.09,0.09,0.09,0.09,0.09,0.09,0.09,0.09,0.09,0.09,0.09,0.09,0.09,0.09,0.09,0.09,0.09,0.09,0.09,0.09,0.09,0.09,0.09,0.09,0.09,0.09,0.09,0.09,0.09,0.09,0.09,0.09,0.09,0.09,0.09,0.09,0.09,0.09,0.09,0.09,0.09,0.09,0.09,0.09,0.09,0.09,0.09,0.09,0.09,0.09,0.09,0.09,0.09,0.09,0.09,0.09,0.09,0.09,0.09,0.09,0.09,0.09,0.09,0.09,0.09,0.09,0.09,0.09,0.09,0.09,0.09,0.09,0.09,0.09,0.09,0.09,0.09,0.09,0.09,0.09,0.09,0.09,0.09,0.09,0.09,0.09,0.09,0.09,0.09,0.09,0.09,0.09,0.09,0.09,0.09,0.09,0.09,0.09,0.09,0.09,0.09,0.09,0.09,0.09,0.09,0.09,0.09,0.09,0.09,0.09,0.09,0.09,0.09,0.09,0.09,0.09,0.09,0.09,0.09,0.09,0.09,0.09,0.09,0.09,0.09,0.09,0.09,0.09,0.09,0.09,0.09,0.09,0.09,0.09,0.09,0.09,0.09,0.09,0.09,0.09,0.09,0.09,0.09,0.09,0.09,0.09,0.09,0.09,0.09,0.09,0.09,0.09,0.09,0.09,0.09,0.09,0.09,0.09,0.09,0.09,0.09,0.09,0.09,0.09,0.09,0.09,0.09,0.09,0.09,0.09,0.09,0.09,0.09,0.09,0.09,0.09,0.09,0.09,0.09,0.09,0.09,0.09,0.09,0.09,0.09,0.09,0.09,0.09,0.09,0.09,0.09,0.09,0.09,0.09,0.09,0.09,0.09,0.09,0.09,0.09,0.09,0.09,0.09,0.09,0.09,0.09,0.09,0.09,0.09,0.09,0.09,0.09,0.09,0.09,0.09,0.09,0.09,0.09,0.09,0.09,0.09,0.09,0.09,0.09,0.09,0.09,0.09,0.09,0.09,0.09,0.09,0.09,0.09,0.09,0.09,0.09,0.09,0.09,0.09,0.09,0.09,0.09,0.09,0.09,0.09,0.09,0.09,0.09,0.09,0.09,0.09,0.09,0.09,0.09,0.09,0.09,0.09,0.09,0.09,0.09,0.09,0.09,0.09,0.09,0.09,0.09,0.09,0.09,0.09,0.09,0.09,0.09,0.09,0.09,0.09,0.09,0.09,0.09,0.09,0.09,0.09,0.09,0.09,0.09,0.09,0.09,0.09,0.09,0.09,0.09,0.09,0.09,0.09,0.09,0.09,0.09,0.09,0.09,0.09,0.09,0.09,0.09,0.09,0.09,0.09,0.09,0.09,0.09,0.09,0.09,0.09,0.09,0.09,0.09,0.09,0.09,0.09,0.09,0.09,0.09,0.09,0.09,0.09,0.09,0.09,0.09,0.09,0.09,0.09,0.09,0.09,0.09,0.08,0.08,0.08,0.08,0.08,0.08,0.08,0.08,0.08,0.08,0.08,0.08,0.08,0.08,0.08,0.08,0.08,0.08,0.08,0.08,0.08,0.08,0.08,0.08,0.08,0.08,0.08,0.08,0.08,0.08,0.08,0.08,0.08,0.08,0.08,0.08,0.08,0.08,0.08,0.08,0.08,0.08,0.08,0.08,0.08,0.08,0.08,0.08,0.08,0.08,0.08,0.08,0.08,0.08,0.08,0.08,0.08,0.08,0.08,0.08,0.08,0.08,0.08,0.08,0.08,0.08,0.08,0.08,0.08,0.08,0.08,0.08,0.08,0.08,0.08,0.08,0.08,0.08,0.08,0.08,0.08,0.08,0.08,0.08,0.08,0.08,0.08,0.08,0.08,0.08,0.08,0.08,0.08,0.08,0.08,0.08,0.08,0.08,0.08,0.08,0.08,0.08,0.08,0.08,0.08,0.08,0.08,0.08,0.08,0.08,0.08,0.08,0.08,0.08,0.08,0.08,0.08,0.08,0.08,0.08,0.08,0.08,0.08,0.08,0.08,0.08,0.08,0.08,0.08,0.08,0.08,0.08,0.08,0.08,0.08,0.08,0.08,0.08,0.08,0.08,0.08,0.08,0.08,0.08,0.08,0.08,0.08,0.08,0.08,0.08,0.08,0.08,0.08,0.08,0.08,0.08,0.08,0.08,0.08,0.08,0.08,0.08,0.08,0.08,0.08,0.08,0.08,0.08,0.08,0.08,0.08,0.08,0.08,0.08,0.08,0.08,0.08,0.08,0.08,0.08,0.08,0.08,0.08,0.08,0.08,0.08,0.08,0.08,0.08,0.08,0.08,0.08,0.08,0.08,0.08,0.08,0.08,0.08,0.08,0.08,0.08,0.08,0.08,0.08,0.08,0.08,0.08,0.08,0.08,0.08,0.08,0.08,0.08,0.08,0.08,0.08,0.08,0.08,0.08,0.08,0.08,0.08,0.08,0.08,0.08,0.08,0.08,0.08,0.08,0.08,0.08,0.08,0.08,0.08,0.08,0.08,0.08,0.08,0.08,0.08,0.08,0.08,0.08,0.08,0.08,0.08,0.08,0.08,0.08,0.08,0.08,0.08,0.08,0.08,0.08,0.08,0.08,0.08,0.08,0.08,0.08,0.08,0.08,0.08,0.08,0.08,0.08,0.08,0.08,0.08,0.08,0.08,0.08,0.08,0.08,0.08,0.08,0.08,0.08,0.08,0.08,0.08,0.08,0.08,0.08,0.08,0.08,0.08,0.08,0.08,0.08,0.08,0.08,0.08,0.08,0.08,0.08,0.08,0.08,0.08,0.08,0.08,0.08,0.08,0.08,0.08,0.08,0.08,0.08,0.08,0.08,0.08,0.08,0.08,0.08,0.08,0.08,0.08,0.08,0.08,0.08,0.08,0.08,0.08,0.08,0.08,0.08,0.08,0.08,0.08,0.08,0.08,0.08,0.08,0.08,0.08,0.08,0.08,0.08,0.08,0.08,0.08,0.08,0.08,0.08,0.08,0.08,0.08,0.08,0.08,0.08,0.08,0.08,0.08,0.08,0.08,0.08,0.08,0.08,0.08,0.08,0.08,0.08,0.08,0.08,0.08,0.08,0.08,0.08,0.08,0.08,0.08,0.08,0.08,0.08,0.08,0.08,0.08,0.08,0.08,0.08,0.08,0.08,0.08,0.08,0.08,0.08,0.08,0.08,0.08,0.08,0.08,0.08,0.08,0.08,0.08,0.08,0.08,0.08,0.08,0.08,0.08,0.08,0.08,0.08,0.08,0.08,0.08,0.08,0.08,0.08,0.08,0.08,0.08,0.08,0.08,0.08,0.08,0.08,0.08,0.08,0.08,0.08,0.08,0.08,0.08,0.08,0.08,0.08,0.08,0.08,0.08,0.08,0.08,0.08,0.08,0.08,0.08,0.08,0.08,0.08,0.08,0.08,0.08,0.08,0.08,0.08,0.08,0.08,0.08,0.08,0.08,0.08,0.08,0.08,0.08,0.08,0.08,0.08,0.08,0.08,0.08,0.08,0.08,0.08,0.08,0.08,0.08,0.08,0.08,0.08,0.08,0.08,0.08,0.08,0.08,0.08,0.08,0.08,0.08,0.08,0.08,0.07,0.07,0.07,0.07,0.07,0.07,0.07,0.07,0.07,0.07,0.07,0.07,0.07,0.07,0.07,0.07,0.07,0.07,0.07,0.07,0.07,0.07,0.07,0.07,0.07,0.07,0.07,0.07,0.07,0.07,0.07,0.07,0.07,0.07,0.07,0.07,0.07,0.07,0.07,0.07,0.07,0.07,0.07,0.07,0.07,0.07,0.07,0.07,0.07,0.07,0.07,0.07,0.07,0.07,0.07,0.07,0.07,0.07,0.07,0.07,0.07,0.07,0.07,0.07,0.07,0.07,0.07,0.07,0.07,0.07,0.07,0.07,0.07,0.07,0.07,0.07,0.07,0.07,0.07,0.07,0.07,0.07,0.07,0.07,0.07,0.07,0.07,0.07,0.07,0.07,0.07,0.07,0.07,0.07,0.07,0.07,0.07,0.07,0.07,0.07,0.07,0.07,0.07,0.07,0.07,0.07,0.07,0.07,0.07,0.07,0.07,0.07,0.07,0.07,0.07,0.07,0.07,0.07,0.07,0.07,0.07,0.07,0.07,0.07,0.07,0.07,0.07,0.07,0.07,0.07,0.07,0.07,0.07,0.07,0.07,0.07,0.07,0.07,0.07,0.07,0.07,0.07,0.07,0.07,0.07,0.07,0.07,0.07,0.07,0.07,0.07,0.07,0.07,0.07,0.07,0.07,0.07,0.07,0.07,0.07,0.07,0.07,0.07,0.07,0.07,0.07,0.07,0.07,0.07,0.07,0.07,0.07,0.07,0.07,0.07,0.07,0.07,0.07,0.07,0.07,0.07,0.07,0.07,0.07,0.07,0.07,0.07,0.07,0.07,0.07,0.07,0.07,0.07,0.07,0.07,0.07,0.07,0.07,0.07,0.07,0.07,0.07,0.07,0.07,0.07,0.07,0.07,0.07,0.07,0.07,0.07,0.07,0.07,0.07,0.07,0.07,0.07,0.07,0.07,0.07,0.07,0.07,0.07,0.07,0.07,0.07,0.07,0.07,0.07,0.07,0.07,0.07,0.07,0.07,0.07,0.07,0.07,0.07,0.07,0.07,0.07,0.07,0.07,0.07,0.07,0.07,0.07,0.07,0.07,0.07,0.07,0.07,0.07,0.07,0.07,0.07,0.07,0.07,0.07,0.07,0.07,0.07,0.07,0.07,0.07,0.07,0.07,0.07,0.07,0.07,0.07,0.07,0.07,0.07,0.07,0.07,0.07,0.07,0.07,0.07,0.07,0.07,0.07,0.07,0.07,0.07,0.07,0.07,0.07,0.07,0.07,0.07,0.07,0.07,0.07,0.07,0.07,0.07,0.07,0.07,0.07,0.07,0.07,0.07,0.07,0.07,0.07,0.07,0.07,0.07,0.07,0.07,0.07,0.07,0.07,0.07,0.07,0.07,0.07,0.07,0.07,0.07,0.07,0.07,0.07,0.07,0.07,0.07,0.07,0.07,0.07,0.07,0.07,0.07,0.07,0.07,0.07,0.07,0.07,0.07,0.07,0.07,0.07,0.07,0.07,0.07,0.07,0.07,0.07,0.07,0.07,0.07,0.07,0.07,0.07,0.07,0.07,0.07,0.07,0.07,0.07,0.07,0.07,0.07,0.07,0.07,0.07,0.07,0.07,0.07,0.07,0.07,0.07,0.07,0.07,0.07,0.07,0.07,0.07,0.07,0.07,0.07,0.07,0.07,0.07,0.07,0.07,0.07,0.07,0.07,0.07,0.07,0.07,0.07,0.07,0.07,0.07,0.07,0.07,0.07,0.07,0.07,0.07,0.07,0.07,0.07,0.07,0.07,0.07,0.07,0.07,0.07,0.07,0.07,0.07,0.07,0.07,0.07,0.07,0.07,0.07,0.07,0.07,0.07,0.07,0.07,0.07,0.07,0.07,0.07,0.07,0.07,0.07,0.07,0.07,0.07,0.07,0.07,0.07,0.07,0.07,0.07,0.07,0.07,0.07,0.07,0.07,0.07,0.07,0.07,0.07,0.07,0.07,0.07,0.07,0.07,0.07,0.07,0.07,0.07,0.07,0.07,0.07,0.07,0.07,0.07,0.07,0.07,0.07,0.07,0.07,0.07,0.07,0.07,0.07,0.07,0.07,0.07,0.07,0.07,0.07,0.07,0.07,0.07,0.07,0.07,0.07,0.07,0.07,0.07,0.07,0.07,0.07,0.07,0.07,0.07,0.07,0.07,0.07,0.07,0.07,0.07,0.07,0.07,0.07,0.07,0.07,0.07,0.07,0.07,0.06,0.06,0.06,0.06,0.06,0.06,0.06,0.06,0.06,0.06,0.06,0.06,0.06,0.06,0.06,0.06,0.06,0.06,0.06,0.06,0.06,0.06,0.06,0.06,0.06,0.06,0.06,0.06,0.06,0.06,0.06,0.06,0.06,0.06,0.06,0.06,0.06,0.06,0.06,0.06,0.06,0.06,0.06,0.06,0.06,0.06,0.06,0.06,0.06,0.06,0.06,0.06,0.06,0.06,0.06,0.06,0.06,0.06,0.06,0.06,0.06,0.06,0.06,0.06,0.06,0.06,0.06,0.06,0.06,0.06,0.06,0.06,0.06,0.06,0.06,0.06,0.06,0.06,0.06,0.06,0.06,0.06,0.06,0.06,0.06,0.06,0.06,0.06,0.06,0.06,0.06,0.06,0.06,0.06,0.06,0.06,0.06,0.06,0.06,0.06,0.06,0.06,0.06,0.06,0.06,0.06,0.06,0.06,0.06,0.06,0.06,0.06,0.06,0.06,0.06,0.06,0.06,0.06,0.06,0.06,0.06,0.06,0.06,0.06,0.06,0.06,0.06,0.06,0.06,0.06,0.06,0.06,0.06,0.06,0.06,0.06,0.06,0.06,0.06,0.06,0.06,0.06,0.06,0.06,0.06,0.06,0.06,0.06,0.06,0.06,0.06,0.06,0.06,0.06,0.06,0.06,0.06,0.06,0.06,0.06,0.06,0.06,0.06,0.06,0.06,0.06,0.06,0.06,0.06,0.06,0.06,0.06,0.06,0.06,0.06,0.06,0.06,0.06,0.06,0.06,0.06,0.06,0.06,0.06,0.06,0.06,0.06,0.06,0.06,0.06,0.06,0.06,0.06,0.06,0.06,0.06,0.06,0.06,0.06,0.06,0.06,0.06,0.06,0.06,0.06,0.06,0.06,0.06,0.06,0.06,0.06,0.06,0.06,0.06,0.06,0.06,0.06,0.06,0.06,0.06,0.06,0.06,0.06,0.06,0.06,0.06,0.06,0.06,0.06,0.06,0.06,0.06,0.06,0.06,0.06,0.06,0.06,0.06,0.06,0.06,0.06,0.06,0.06,0.06,0.06,0.06,0.06,0.06,0.06,0.06,0.06,0.06,0.06,0.06,0.06,0.06,0.06,0.06,0.06,0.06,0.06,0.06,0.06,0.06,0.06,0.06,0.06,0.06,0.06,0.06,0.06,0.06,0.06,0.06,0.06,0.06,0.06,0.06,0.06,0.06,0.06,0.06,0.06,0.06,0.06,0.06,0.06,0.06,0.06,0.06,0.06,0.06,0.06,0.06,0.06,0.06,0.06,0.06,0.06,0.06,0.06,0.06,0.06,0.06,0.06,0.06,0.06,0.06,0.06,0.06,0.06,0.06,0.06,0.06,0.06,0.06,0.06,0.06,0.06,0.06,0.06,0.06,0.06,0.06,0.06,0.06,0.06,0.06,0.06,0.06,0.06,0.06,0.06,0.06,0.06,0.06,0.06,0.06,0.06,0.06,0.06,0.06,0.06,0.06,0.06,0.06,0.06,0.06,0.06,0.06,0.06,0.06,0.06,0.06,0.06,0.06,0.06,0.06,0.06,0.06,0.06,0.06,0.06,0.06,0.06,0.06,0.06,0.06,0.06,0.06,0.06,0.06,0.06,0.06,0.06,0.06,0.06,0.06,0.06,0.06,0.06,0.06,0.06,0.06,0.06,0.06,0.06,0.06,0.06,0.06,0.06,0.06,0.06,0.06,0.06,0.06,0.06,0.06,0.06,0.06,0.06,0.06,0.06,0.06,0.06,0.06,0.06,0.06,0.06,0.06,0.06,0.06,0.06,0.06,0.06,0.06,0.06,0.06,0.06,0.06,0.06,0.06,0.06,0.06,0.06,0.06,0.06,0.06,0.06,0.06,0.06,0.06,0.06,0.06,0.06,0.06,0.06,0.06,0.06,0.06,0.06,0.06,0.06,0.06,0.06,0.06,0.06,0.06,0.06,0.06,0.06,0.06,0.06,0.06,0.06,0.06,0.06,0.06,0.06,0.06,0.06,0.06,0.06,0.06,0.06,0.06,0.06,0.06,0.06,0.06,0.06,0.06,0.06,0.06,0.06,0.06,0.06,0.06,0.06,0.06,0.06,0.06,0.06,0.06,0.06,0.06,0.06,0.06,0.06,0.06,0.06,0.06,0.06,0.06,0.06,0.06,0.06,0.06,0.06,0.06,0.06,0.06,0.06,0.06,0.06,0.06,0.06,0.06,0.06,0.06,0.06,0.06,0.06,0.06,0.06,0.06,0.06,0.06,0.06,0.06,0.06,0.06,0.06,0.06,0.06,0.06,0.06,0.06,0.06,0.06,0.06,0.06,0.06,0.06,0.06,0.06,0.06,0.06,0.06,0.06,0.06,0.06,0.06,0.06,0.06,0.06,0.06,0.06,0.06,0.06,0.06,0.06,0.06,0.06,0.06,0.06,0.06,0.06,0.06,0.06,0.06,0.06,0.06,0.06,0.06,0.06,0.06,0.06,0.06,0.06,0.06,0.06,0.06,0.06,0.06,0.05,0.05,0.05,0.05,0.05,0.05,0.05,0.05,0.05,0.05,0.05,0.05,0.05,0.05,0.05,0.05,0.05,0.05,0.05,0.05,0.05,0.05,0.05,0.05,0.05,0.05,0.05,0.05,0.05,0.05,0.05,0.05,0.05,0.05,0.05,0.05,0.05,0.05,0.05,0.05,0.05,0.05,0.05,0.05,0.05,0.05,0.05,0.05,0.05,0.05,0.05,0.05,0.05,0.05,0.05,0.05,0.05,0.05,0.05,0.05,0.05,0.05,0.05,0.05,0.05,0.05,0.05,0.05,0.05,0.05,0.05,0.05,0.05,0.05,0.05,0.05,0.05,0.05,0.05,0.05,0.05,0.05,0.05,0.05,0.05,0.05,0.05,0.05,0.05,0.05,0.05,0.05,0.05,0.05,0.05,0.05,0.05,0.05,0.05,0.05,0.05,0.05,0.05,0.05,0.05,0.05,0.05,0.05,0.05,0.05,0.05,0.05,0.05,0.05,0.05,0.05,0.05,0.05,0.05,0.05,0.05,0.05,0.05,0.05,0.05,0.05,0.05,0.05,0.05,0.05,0.05,0.05,0.05,0.05,0.05,0.05,0.05,0.05,0.05,0.05,0.05,0.05,0.05,0.05,0.05,0.05,0.05,0.05,0.05,0.05,0.05,0.05,0.05,0.05,0.05,0.05,0.05,0.05,0.05,0.05,0.05,0.05,0.05,0.05,0.05,0.05,0.05,0.05,0.05,0.05,0.05,0.05,0.05,0.05,0.05,0.05,0.05,0.05,0.05,0.05,0.05,0.05,0.05,0.05,0.05,0.05,0.05,0.05,0.05,0.05,0.05,0.05,0.05,0.05,0.05,0.05,0.05,0.05,0.05,0.05,0.05,0.05,0.05,0.05,0.05,0.05,0.05,0.05,0.05,0.05,0.05,0.05,0.05,0.05,0.05,0.05,0.05,0.05,0.05,0.05,0.05,0.05,0.05,0.05,0.05,0.05,0.05,0.05,0.05,0.05,0.05,0.05,0.05,0.05,0.05,0.05,0.05,0.05,0.05,0.05,0.05,0.05,0.05,0.05,0.05,0.05,0.05,0.05,0.05,0.05,0.05,0.05,0.05,0.05,0.05,0.05,0.05,0.05,0.05,0.05,0.05,0.05,0.05,0.05,0.05,0.05,0.05,0.05,0.05,0.05,0.05,0.05,0.05,0.05,0.05,0.05,0.05,0.05,0.05,0.05,0.05,0.05,0.05,0.05,0.05,0.05,0.05,0.05,0.05,0.05,0.05,0.05,0.05,0.05,0.05,0.05,0.05,0.05,0.05,0.05,0.05,0.05,0.05,0.05,0.05,0.05,0.05,0.05,0.05,0.05,0.05,0.05,0.05,0.05,0.05,0.05,0.05,0.05,0.05,0.05,0.05,0.05,0.05,0.05,0.05,0.05,0.05,0.05,0.05,0.05,0.05,0.05,0.05,0.05,0.05,0.05,0.05,0.05,0.05,0.05,0.05,0.05,0.05,0.05,0.05,0.05,0.05,0.05,0.05,0.05,0.05,0.05,0.05,0.05,0.05,0.05,0.05,0.05,0.05,0.05,0.05,0.05,0.05,0.05,0.05,0.05,0.05,0.05,0.05,0.05,0.05,0.05,0.05,0.05,0.05,0.05,0.05,0.05,0.05,0.05,0.05,0.05,0.05,0.05,0.05,0.05,0.05,0.05,0.05,0.05,0.05,0.05,0.05,0.05,0.05,0.05,0.05,0.05,0.05,0.05,0.05,0.05,0.05,0.05,0.05,0.05,0.05,0.05,0.05,0.05,0.05,0.05,0.05,0.05,0.05,0.05,0.05,0.05,0.05,0.05,0.05,0.05,0.05,0.05,0.05,0.05,0.05,0.05,0.05,0.05,0.05,0.05,0.05,0.05,0.05,0.05,0.05,0.05,0.05,0.05,0.05,0.05,0.05,0.05,0.05,0.05,0.05,0.05,0.05,0.05,0.05,0.05,0.05,0.05,0.05,0.05,0.05,0.05,0.05,0.05,0.05,0.05,0.05,0.05,0.05,0.05,0.05,0.05,0.05,0.05,0.05,0.05,0.05,0.05,0.05,0.05,0.05,0.05,0.05,0.05,0.05,0.05,0.05,0.05,0.05,0.05,0.05,0.05,0.05,0.05,0.05,0.05,0.05,0.05,0.05,0.05,0.05,0.05,0.05,0.05,0.05,0.05,0.05,0.05,0.05,0.05,0.05,0.05,0.05,0.05,0.05,0.05,0.05,0.05,0.05,0.05,0.05,0.05,0.05,0.05,0.05,0.05,0.05,0.05,0.05,0.05,0.05,0.05,0.05,0.05,0.05,0.05,0.05,0.05,0.05,0.05,0.05,0.05,0.05,0.05,0.05,0.05,0.05,0.05,0.05,0.05,0.05,0.05,0.05,0.05,0.05,0.05,0.05,0.05,0.05,0.05,0.05,0.05,0.05,0.05,0.05,0.05,0.05,0.05,0.05,0.05,0.05,0.05,0.05,0.05,0.05,0.05,0.05,0.05,0.05,0.05,0.05,0.05,0.05,0.05,0.05,0.05,0.05,0.05,0.05,0.05,0.05,0.05,0.05,0.05,0.05,0.05,0.05,0.05,0.05,0.05,0.05,0.05,0.05,0.05,0.05,0.05,0.05,0.05,0.05,0.05,0.05,0.05,0.05,0.05,0.05,0.05,0.05,0.05,0.05,0.05,0.05,0.05,0.05,0.05,0.05,0.05,0.05,0.05,0.05,0.05,0.05,0.05,0.05,0.05,0.05,0.04,0.04,0.04,0.04,0.04,0.04,0.04,0.04,0.04,0.04,0.04,0.04,0.04,0.04,0.04,0.04,0.04,0.04,0.04,0.04,0.04,0.04,0.04,0.04,0.04,0.04,0.04,0.04,0.04,0.04,0.04,0.04,0.04,0.04,0.04,0.04,0.04,0.04,0.04,0.04,0.04,0.04,0.04,0.04,0.04,0.04,0.04,0.04,0.04,0.04,0.04,0.04,0.04,0.04,0.04,0.04,0.04,0.04,0.04,0.04,0.04,0.04,0.04,0.04,0.04,0.04,0.04,0.04,0.04,0.04,0.04,0.04,0.04,0.04,0.04,0.04,0.04,0.04,0.04,0.04,0.04,0.04,0.04,0.04,0.04,0.04,0.04,0.04,0.04,0.04,0.04,0.04,0.04,0.04,0.04,0.04,0.04,0.04,0.04,0.04,0.04,0.04,0.04,0.04,0.04,0.04,0.04,0.04,0.04,0.04,0.04,0.04,0.04,0.04,0.04,0.04,0.04,0.04,0.04,0.04,0.04,0.04,0.04,0.04,0.04,0.04,0.04,0.04,0.04,0.04,0.04,0.04,0.04,0.04,0.04,0.04,0.04,0.04,0.04,0.04,0.04,0.04,0.04,0.04,0.04,0.04,0.04,0.04,0.04,0.04,0.04,0.04,0.04,0.04,0.04,0.04,0.04,0.04,0.04,0.04,0.04,0.04,0.04,0.04,0.04,0.04,0.04,0.04,0.04,0.04,0.04,0.04,0.04,0.04,0.04,0.04,0.04,0.04,0.04,0.04,0.04,0.04,0.04,0.04,0.04,0.04,0.04,0.04,0.04,0.04,0.04,0.04,0.04,0.04,0.04,0.04,0.04,0.04,0.04,0.04,0.04,0.04,0.04,0.04,0.04,0.04,0.04,0.04,0.04,0.04,0.04,0.04,0.04,0.04,0.04,0.04,0.04,0.04,0.04,0.04,0.04,0.04,0.04,0.04,0.04,0.04,0.04,0.04,0.04,0.04,0.04,0.04,0.04,0.04,0.04,0.04,0.04,0.04,0.04,0.04,0.04,0.04,0.04,0.04,0.04,0.04,0.04,0.04,0.04,0.04,0.04,0.04,0.04,0.04,0.04,0.04,0.04,0.04,0.04,0.04,0.04,0.04,0.04,0.04,0.04,0.04,0.04,0.04,0.04,0.04,0.04,0.04,0.04,0.04,0.04,0.04,0.04,0.04,0.04,0.04,0.04,0.04,0.04,0.04,0.04,0.04,0.04,0.04,0.04,0.04,0.04,0.04,0.04,0.04,0.04,0.04,0.04,0.04,0.04,0.04,0.04,0.04,0.04,0.04,0.04,0.04,0.04,0.04,0.04,0.04,0.04,0.04,0.04,0.04,0.04,0.04,0.04,0.04,0.04,0.04,0.04,0.04,0.04,0.04,0.04,0.04,0.04,0.04,0.04,0.04,0.04,0.04,0.04,0.04,0.04,0.04,0.04,0.04,0.04,0.04,0.04,0.04,0.04,0.04,0.04,0.04,0.04,0.04,0.04,0.04,0.04,0.04,0.04,0.04,0.04,0.04,0.04,0.04,0.04,0.04,0.04,0.04,0.04,0.04,0.04,0.04,0.04,0.04,0.04,0.04,0.04,0.04,0.04,0.04,0.04,0.04,0.04,0.04,0.04,0.04,0.04,0.04,0.04,0.04,0.04,0.04,0.04,0.04,0.04,0.04,0.04,0.04,0.04,0.04,0.04,0.04,0.04,0.04,0.04,0.04,0.04,0.04,0.04,0.04,0.04,0.04,0.04,0.04,0.04,0.04,0.04,0.04,0.04,0.04,0.04,0.04,0.04,0.04,0.04,0.04,0.04,0.04,0.04,0.04,0.04,0.04,0.04,0.04,0.04,0.04,0.04,0.04,0.04,0.04,0.04,0.04,0.04,0.04,0.04,0.04,0.04,0.04,0.04,0.04,0.04,0.04,0.04,0.04,0.04,0.04,0.04,0.04,0.04,0.04,0.04,0.04,0.04,0.04,0.04,0.04,0.04,0.04,0.04,0.04,0.04,0.04,0.04,0.04,0.04,0.04,0.04,0.04,0.04,0.04,0.04,0.04,0.04,0.04,0.04,0.04,0.04,0.04,0.04,0.04,0.04,0.04,0.04,0.04,0.04,0.04,0.04,0.04,0.04,0.04,0.04,0.04,0.04,0.04,0.04,0.04,0.04,0.04,0.04,0.04,0.04,0.04,0.04,0.04,0.04,0.04,0.04,0.04,0.04,0.04,0.04,0.04,0.04,0.04,0.04,0.04,0.04,0.04,0.04,0.04,0.04,0.04,0.04,0.04,0.04,0.04,0.04,0.04,0.04,0.04,0.04,0.04,0.04,0.04,0.04,0.04,0.04,0.04,0.04,0.04,0.04,0.04,0.04,0.04,0.04,0.04,0.04,0.04,0.04,0.04,0.04,0.04,0.04,0.04,0.04,0.04,0.04,0.04,0.04,0.04,0.04,0.04,0.04,0.04,0.04,0.04,0.04,0.04,0.04,0.04,0.04,0.04,0.04,0.04,0.04,0.04,0.04,0.04,0.04,0.04,0.04,0.04,0.04,0.04,0.04,0.04,0.04,0.04,0.04,0.04,0.04,0.04,0.04,0.04,0.04,0.04,0.04,0.04,0.04,0.04,0.04,0.04,0.04,0.04,0.04,0.04,0.04,0.04,0.04,0.04,0.04,0.04,0.04,0.04,0.04,0.04,0.04,0.04,0.04,0.04,0.04,0.04,0.04,0.04,0.04,0.04,0.04,0.04,0.04,0.04,0.04,0.04,0.04,0.04,0.04,0.04,0.04,0.04,0.03,0.03,0.03,0.03,0.03,0.03,0.03,0.03,0.03,0.03,0.03,0.03,0.03,0.03,0.03,0.03,0.03,0.03,0.03,0.03,0.03,0.03,0.03,0.03,0.03,0.03,0.03,0.03,0.03,0.03,0.03,0.03,0.03,0.03,0.03,0.03,0.03,0.03,0.03,0.03,0.03,0.03,0.03,0.03,0.03,0.03,0.03,0.03,0.03,0.03,0.03,0.03,0.03,0.03,0.03,0.03,0.03,0.03,0.03,0.03,0.03,0.03,0.03,0.03,0.03,0.03,0.03,0.03,0.03,0.03,0.03,0.03,0.03,0.03,0.03,0.03,0.03,0.03,0.03,0.03,0.03,0.03,0.03,0.03,0.03,0.03,0.03,0.03,0.03,0.03,0.03,0.03,0.03,0.03,0.03,0.03,0.03,0.03,0.03,0.03,0.03,0.03,0.03,0.03,0.03,0.03,0.03,0.03,0.03,0.03,0.03,0.03,0.03,0.03,0.03,0.03,0.03,0.03,0.03,0.03,0.03,0.03,0.03,0.03,0.03,0.03,0.03,0.03,0.03,0.03,0.03,0.03,0.03,0.03,0.03,0.03,0.03,0.03,0.03,0.03,0.03,0.03,0.03,0.03,0.03,0.03,0.03,0.03,0.03,0.03,0.03,0.03,0.03,0.03,0.03,0.03,0.03,0.03,0.03,0.03,0.03,0.03,0.03,0.03,0.03,0.03,0.03,0.03,0.03,0.03,0.03,0.03,0.03,0.03,0.03,0.03,0.03,0.03,0.03,0.03,0.03,0.03,0.03,0.03,0.03,0.03,0.03,0.03,0.03,0.03,0.03,0.03,0.03,0.03,0.03,0.03,0.03,0.03,0.03,0.03,0.03,0.03,0.03,0.03,0.03,0.03,0.03,0.03,0.03,0.03,0.03,0.03,0.03,0.03,0.03,0.03,0.03,0.03,0.03,0.03,0.03,0.03,0.03,0.03,0.03,0.03,0.03,0.03,0.03,0.03,0.03,0.03,0.03,0.03,0.03,0.03,0.03,0.03,0.03,0.03,0.03,0.03,0.03,0.03,0.03,0.03,0.03,0.03,0.03,0.03,0.03,0.03,0.03,0.03,0.03,0.03,0.03,0.03,0.03,0.03,0.03,0.03,0.03,0.03,0.03,0.03,0.03,0.03,0.03,0.03,0.03,0.03,0.03,0.03,0.03,0.03,0.03,0.03,0.03,0.03,0.03,0.03,0.03,0.03,0.03,0.03,0.03,0.03,0.03,0.03,0.03,0.03,0.03,0.03,0.03,0.03,0.03,0.03,0.03,0.03,0.03,0.03,0.03,0.03,0.03,0.03,0.03,0.03,0.03,0.03,0.03,0.03,0.03,0.03,0.03,0.03,0.03,0.03,0.03,0.03,0.03,0.03,0.03,0.03,0.03,0.03,0.03,0.03,0.03,0.03,0.03,0.03,0.03,0.03,0.03,0.03,0.03,0.03,0.03,0.03,0.03,0.03,0.03,0.03,0.03,0.03,0.03,0.03,0.03,0.03,0.03,0.03,0.03,0.03,0.03,0.03,0.03,0.03,0.03,0.03,0.03,0.03,0.03,0.03,0.03,0.03,0.03,0.03,0.03,0.03,0.03,0.03,0.03,0.03,0.03,0.03,0.03,0.03,0.03,0.03,0.03,0.03,0.03,0.03,0.03,0.03,0.03,0.03,0.03,0.03,0.03,0.03,0.03,0.03,0.03,0.03,0.03,0.03,0.03,0.03,0.03,0.03,0.03,0.03,0.03,0.03,0.03,0.03,0.03,0.03,0.03,0.03,0.03,0.03,0.03,0.03,0.03,0.03,0.03,0.03,0.03,0.03,0.03,0.03,0.03,0.03,0.03,0.03,0.03,0.03,0.03,0.03,0.03,0.03,0.03,0.03,0.03,0.03,0.03,0.03,0.03,0.03,0.03,0.03,0.03,0.03,0.03,0.03,0.03,0.03,0.03,0.03,0.03,0.03,0.03,0.03,0.03,0.03,0.03,0.03,0.03,0.03,0.03,0.03,0.03,0.03,0.03,0.03,0.03,0.03,0.03,0.03,0.03,0.03,0.03,0.03,0.03,0.03,0.03,0.03,0.03,0.03,0.03,0.03,0.03,0.03,0.03,0.03,0.03,0.03,0.03,0.03,0.03,0.03,0.03,0.03,0.03,0.03,0.03,0.03,0.03,0.03,0.03,0.03,0.03,0.03,0.03,0.03,0.03,0.03,0.03,0.03,0.03,0.03,0.03,0.03,0.03,0.03,0.03,0.03,0.03,0.03,0.03,0.03,0.03,0.03,0.03,0.03,0.03,0.03,0.03,0.03,0.03,0.03,0.03,0.03,0.03,0.03,0.03,0.03,0.03,0.03,0.03,0.03,0.03,0.03,0.03,0.03,0.03,0.03,0.03,0.03,0.03,0.03,0.03,0.03,0.03,0.03,0.03,0.03,0.03,0.03,0.03,0.03,0.03,0.03,0.03,0.03,0.03,0.03,0.03,0.03,0.03,0.03,0.03,0.03,0.03,0.03,0.03,0.03,0.03,0.03,0.03,0.03,0.03,0.03,0.03,0.03,0.03,0.03,0.03,0.03,0.03,0.03,0.03,0.03,0.03,0.03,0.03,0.03,0.03,0.03,0.03,0.03,0.03,0.03,0.03,0.03,0.03,0.03,0.03,0.03,0.03,0.03,0.03,0.03,0.03,0.03,0.03,0.03,0.03,0.03,0.03,0.03,0.03,0.03,0.03,0.03,0.03,0.03,0.03,0.03,0.03,0.03,0.03,0.03,0.03,0.03,0.03,0.03,0.03,0.03,0.03,0.03,0.03,0.03,0.03,0.03,0.03,0.03,0.03,0.03,0.03,0.03,0.03,0.03,0.03,0.03,0.03,0.03,0.03,0.03,0.03,0.03,0.03,0.03,0.03,0.03,0.03,0.03,0.03,0.03,0.03,0.03,0.03,0.03,0.03,0.03,0.03,0.03,0.03,0.03,0.03,0.03,0.03,0.03,0.03,0.03,0.03,0.03,0.03,0.03,0.03,0.03,0.03,0.03,0.03,0.03,0.03,0.03,0.03,0.03,0.03,0.03,0.03,0.03,0.03,0.03,0.03,0.03,0.03,0.03,0.03,0.03,0.03,0.03,0.03,0.03,0.03,0.03,0.03,0.03,0.03,0.03,0.03,0.03,0.03,0.03,0.03,0.03,0.03,0.03,0.03,0.03,0.03,0.03,0.03,0.03,0.03,0.03,0.03,0.03,0.03,0.03,0.03,0.03,0.03,0.03,0.03,0.03,0.03,0.03,0.03,0.03,0.03,0.03,0.03,0.03,0.03,0.03,0.03,0.03,0.03,0.03,0.03,0.03,0.03,0.03,0.03,0.03,0.03,0.03,0.03,0.03,0.03,0.03,0.03,0.03,0.03,0.03,0.03,0.03,0.03,0.03,0.03,0.03,0.03,0.03,0.03,0.03,0.03,0.03,0.03,0.03,0.03,0.03,0.03,0.03,0.03,0.03,0.03,0.03,0.03,0.03,0.03,0.03,0.03,0.03,0.02,0.02,0.02,0.02,0.02,0.02,0.02,0.02,0.02,0.02,0.02,0.02,0.02,0.02,0.02,0.02,0.02,0.02,0.02,0.02,0.02,0.02,0.02,0.02,0.02,0.02,0.02,0.02,0.02,0.02,0.02,0.02,0.02,0.02,0.02,0.02,0.02,0.02,0.02,0.02,0.02,0.02,0.02,0.02,0.02,0.02,0.02,0.02,0.02,0.02,0.02,0.02,0.02,0.02,0.02,0.02,0.02,0.02,0.02,0.02,0.02,0.02,0.02,0.02,0.02,0.02,0.02,0.02,0.02,0.02,0.02,0.02,0.02,0.02,0.02,0.02,0.02,0.02,0.02,0.02,0.02,0.02,0.02,0.02,0.02,0.02,0.02,0.02,0.02,0.02,0.02,0.02,0.02,0.02,0.02,0.02,0.02,0.02,0.02,0.02,0.02,0.02,0.02,0.02,0.02,0.02,0.02,0.02,0.02,0.02,0.02,0.02,0.02,0.02,0.02,0.02,0.02,0.02,0.02,0.02,0.02,0.02,0.02,0.02,0.02,0.02,0.02,0.02,0.02,0.02,0.02,0.02,0.02,0.02,0.02,0.02,0.02,0.02,0.02,0.02,0.02,0.02,0.02,0.02,0.02,0.02,0.02,0.02,0.02,0.02,0.02,0.02,0.02,0.02,0.02,0.02,0.02,0.02,0.02,0.02,0.02,0.02,0.02,0.02,0.02,0.02,0.02,0.02,0.02,0.02,0.02,0.02,0.02,0.02,0.02,0.02,0.02,0.02,0.02,0.02,0.02,0.02,0.02,0.02,0.02,0.02,0.02,0.02,0.02,0.02,0.02,0.02,0.02,0.02,0.02,0.02,0.02,0.02,0.02,0.02,0.02,0.02,0.02,0.02,0.02,0.02,0.02,0.02,0.02,0.02,0.02,0.02,0.02,0.02,0.02,0.02,0.02,0.02,0.02,0.02,0.02,0.02,0.02,0.02,0.02,0.02,0.02,0.02,0.02,0.02,0.02,0.02,0.02,0.02,0.02,0.02,0.02,0.02,0.02,0.02,0.02,0.02,0.02,0.02,0.02,0.02,0.02,0.02,0.02,0.02,0.02,0.02,0.02,0.02,0.02,0.02,0.02,0.02,0.02,0.02,0.02,0.02,0.02,0.02,0.02,0.02,0.02,0.02,0.02,0.02,0.02,0.02,0.02,0.02,0.02,0.02,0.02,0.02,0.02,0.02,0.02,0.02,0.02,0.02,0.02,0.02,0.02,0.02,0.02,0.02,0.02,0.02,0.02,0.02,0.02,0.02,0.02,0.02,0.02,0.02,0.02,0.02,0.02,0.02,0.02,0.02,0.02,0.02,0.02,0.02,0.02,0.02,0.02,0.02,0.02,0.02,0.02,0.02,0.02,0.02,0.02,0.02,0.02,0.02,0.02,0.02,0.02,0.02,0.02,0.02,0.02,0.02,0.02,0.02,0.02,0.02,0.02,0.02,0.02,0.02,0.02,0.02,0.02,0.02,0.02,0.02,0.02,0.02,0.02,0.02,0.02,0.02,0.02,0.02,0.02,0.02,0.02,0.02,0.02,0.02,0.02,0.02,0.02,0.02,0.02,0.02,0.02,0.02,0.02,0.02,0.02,0.02,0.02,0.02,0.02,0.02,0.02,0.02,0.02,0.02,0.02,0.02,0.02,0.02,0.02,0.02,0.02,0.02,0.02,0.02,0.02,0.02,0.02,0.02,0.02,0.02,0.02,0.02,0.02,0.02,0.02,0.02,0.02,0.02,0.02,0.02,0.02,0.02,0.02,0.02,0.02,0.02,0.02,0.02,0.02,0.02,0.02,0.02,0.02,0.02,0.02,0.02,0.02,0.02,0.02,0.02,0.02,0.02,0.02,0.02,0.02,0.02,0.02,0.02,0.02,0.02,0.02,0.02,0.02,0.02,0.02,0.02,0.02,0.02,0.02,0.02,0.02,0.02,0.02,0.02,0.02,0.02,0.02,0.02,0.02,0.02,0.02,0.02,0.02,0.02,0.02,0.02,0.02,0.02,0.02,0.02,0.02,0.02,0.02,0.02,0.02,0.02,0.02,0.02,0.02,0.02,0.02,0.02,0.02,0.02,0.02,0.02,0.02,0.02,0.02,0.02,0.02,0.02,0.02,0.02,0.02,0.02,0.02,0.02,0.02,0.02,0.02,0.02,0.02,0.02,0.02,0.02,0.02,0.02,0.02,0.02,0.02,0.02,0.02,0.02,0.02,0.02,0.02,0.02,0.02,0.02,0.02,0.02,0.02,0.02,0.02,0.02,0.02,0.02,0.02,0.02,0.02,0.02,0.02,0.02,0.02,0.02,0.02,0.02,0.02,0.02,0.02,0.02,0.02,0.02,0.02,0.02,0.02,0.02,0.02,0.02,0.02,0.02,0.02,0.02,0.02,0.02,0.02,0.02,0.02,0.02,0.02,0.02,0.02,0.02,0.02,0.02,0.02,0.02,0.02,0.02,0.02,0.02,0.02,0.02,0.02,0.02,0.02,0.02,0.02,0.02,0.02,0.02,0.02,0.02,0.02,0.02,0.02,0.02,0.02,0.02,0.02,0.02,0.02,0.02,0.02,0.02,0.02,0.02,0.02,0.02,0.02,0.02,0.02,0.02,0.02,0.02,0.02,0.02,0.02,0.02,0.02,0.02,0.02,0.02,0.02,0.02,0.02,0.02,0.02,0.02,0.02,0.02,0.02,0.02,0.02,0.02,0.02,0.02,0.02,0.02,0.02,0.02,0.02,0.02,0.02,0.02,0.02,0.02,0.02,0.02,0.02,0.02,0.02,0.02,0.02,0.02,0.02,0.02,0.02,0.02,0.02,0.02,0.02,0.02,0.02,0.02,0.02,0.02,0.02,0.02,0.02,0.02,0.02,0.02,0.02,0.02,0.02,0.02,0.02,0.02,0.02,0.02,0.02,0.02,0.02,0.02,0.02,0.02,0.02,0.02,0.02,0.02,0.02,0.02,0.02,0.02,0.02,0.02,0.02,0.02,0.02,0.02,0.02,0.02,0.02,0.02,0.02,0.02,0.02,0.02,0.02,0.02,0.02,0.02,0.02,0.02,0.02,0.02,0.02,0.02,0.02,0.02,0.02,0.02,0.02,0.02,0.02,0.02,0.02,0.02,0.02,0.02,0.02,0.02,0.02,0.02,0.02,0.02,0.02,0.02,0.02,0.02,0.02,0.02,0.02,0.02,0.02,0.02,0.02,0.02,0.02,0.02,0.02,0.02,0.02,0.02,0.02,0.02,0.02,0.02,0.02,0.02,0.02,0.02,0.02,0.02,0.02,0.02,0.02,0.02,0.02,0.02,0.02,0.02,0.02,0.02,0.02,0.02,0.02,0.02,0.02,0.02,0.02,0.02,0.02,0.02,0.02,0.02,0.02,0.02,0.02,0.02,0.02,0.02,0.02,0.02,0.02,0.02,0.02,0.02,0.02,0.02,0.02,0.02,0.02,0.02,0.02,0.02,0.02,0.02,0.02,0.02,0.02,0.02,0.02,0.02,0.02,0.02,0.02,0.02,0.02,0.02,0.02,0.02,0.02,0.02,0.02,0.02,0.02,0.02,0.02,0.02,0.02,0.02,0.02,0.02,0.02,0.02,0.02,0.02,0.02,0.02,0.02,0.02,0.02,0.02,0.02,0.02,0.02,0.02,0.02,0.02,0.02,0.02,0.02,0.02,0.02,0.02,0.02,0.02,0.02,0.02,0.02,0.02,0.02,0.02,0.02,0.02,0.02,0.02,0.02,0.02,0.02,0.02,0.02,0.02,0.02,0.02,0.02,0.02,0.02,0.02,0.02,0.02,0.02,0.02,0.02,0.02,0.02,0.02,0.02,0.02,0.02,0.02,0.02,0.02,0.02,0.02,0.02,0.02,0.02,0.02,0.02,0.02,0.02,0.02,0.02,0.02,0.02,0.02,0.02,0.02,0.02,0.02,0.02,0.02,0.02,0.02,0.02,0.02,0.02,0.02,0.02,0.02,0.02,0.02,0.02,0.02,0.02,0.02,0.02,0.02,0.02,0.02,0.02,0.02,0.02,0.02,0.02,0.02,0.02,0.02,0.02,0.02,0.02,0.02,0.02,0.02,0.02,0.02,0.02,0.02,0.02,0.02,0.02,0.02,0.02,0.02,0.02,0.02,0.02,0.02,0.02,0.02,0.02,0.02,0.02,0.02,0.02,0.02,0.02,0.02,0.02,0.02,0.02,0.02,0.02,0.02,0.02,0.02,0.02,0.02,0.02,0.02,0.02,0.02,0.02,0.02,0.02,0.02,0.02,0.02,0.02,0.02,0.02,0.02,0.02,0.02,0.02,0.02,0.02,0.02,0.02,0.02,0.02,0.02,0.02,0.02,0.02,0.02,0.02,0.02,0.02,0.02,0.02,0.02,0.02,0.02,0.02,0.02,0.02,0.02,0.02,0.02,0.02,0.02,0.02,0.02,0.02,0.02,0.02,0.02,0.02,0.02,0.02,0.02,0.02,0.02,0.02,0.02,0.02,0.02,0.02,0.02,0.02,0.02,0.02,0.02,0.02,0.02,0.02,0.02,0.02,0.02,0.02,0.02,0.02,0.02,0.02,0.02,0.02,0.02,0.02,0.02,0.02,0.02,0.02,0.02,0.02,0.02,0.02,0.02,0.02,0.02,0.02,0.02,0.02,0.02,0.01,0.01,0.01,0.01,0.01,0.01,0.01,0.01,0.01,0.01,0.01,0.01,0.01,0.01,0.01,0.01,0.01,0.01,0.01,0.01,0.01,0.01,0.01,0.01,0.01,0.01,0.01,0.01,0.01,0.01,0.01,0.01,0.01,0.01,0.01,0.01,0.01,0.01,0.01,0.01,0.01,0.01,0.01,0.01,0.01,0.01,0.01,0.01,0.01,0.01,0.01,0.01,0.01,0.01,0.01,0.01,0.01,0.01,0.01,0.01,0.01,0.01,0.01,0.01,0.01,0.01,0.01,0.01,0.01,0.01,0.01,0.01,0.01,0.01,0.01,0.01,0.01,0.01,0.01,0.01,0.01,0.01,0.01,0.01,0.01,0.01,0.01,0.01,0.01,0.01,0.01,0.01,0.01,0.01,0.01,0.01,0.01,0.01,0.01,0.01,0.01,0.01,0.01,0.01,0.01,0.01,0.01,0.01,0.01,0.01,0.01,0.01,0.01,0.01,0.01,0.01,0.01,0.01,0.01,0.01,0.01,0.01,0.01,0.01,0.01,0.01,0.01,0.01,0.01,0.01,0.01,0.01,0.01,0.01,0.01,0.01,0.01,0.01,0.01,0.01,0.01,0.01,0.01,0.01,0.01,0.01,0.01,0.01,0.01,0.01,0.01,0.01,0.01,0.01,0.01,0.01,0.01,0.01,0.01,0.01,0.01,0.01,0.01,0.01,0.01,0.01,0.01,0.01,0.01,0.01,0.01,0.01,0.01,0.01,0.01,0.01,0.01,0.01,0.01,0.01,0.01,0.01,0.01,0.01,0.01,0.01,0.01,0.01,0.01,0.01,0.01,0.01,0.01,0.01,0.01,0.01,0.01,0.01,0.01,0.01,0.01,0.01,0.01,0.01,0.01,0.01,0.01,0.01,0.01,0.01,0.01,0.01,0.01,0.01,0.01,0.01,0.01,0.01,0.01,0.01,0.01,0.01,0.01,0.01,0.01,0.01,0.01,0.01,0.01,0.01,0.01,0.01,0.01,0.01,0.01,0.01,0.01,0.01,0.01,0.01,0.01,0.01,0.01,0.01,0.01,0.01,0.01,0.01,0.01,0.01,0.01,0.01,0.01,0.01,0.01,0.01,0.01,0.01,0.01,0.01,0.01,0.01,0.01,0.01,0.01,0.01,0.01,0.01,0.01,0.01,0.01,0.01,0.01,0.01,0.01,0.01,0.01,0.01,0.01,0.01,0.01,0.01,0.01,0.01,0.01,0.01,0.01,0.01,0.01,0.01,0.01,0.01,0.01,0.01,0.01,0.01,0.01,0.01,0.01,0.01,0.01,0.01,0.01,0.01,0.01,0.01,0.01,0.01,0.01,0.01,0.01,0.01,0.01,0.01,0.01,0.01,0.01,0.01,0.01,0.01,0.01,0.01,0.01,0.01,0.01,0.01,0.01,0.01,0.01,0.01,0.01,0.01,0.01,0.01,0.01,0.01,0.01,0.01,0.01,0.01,0.01,0.01,0.01,0.01,0.01,0.01,0.01,0.01,0.01,0.01,0.01,0.01,0.01,0.01,0.01,0.01,0.01,0.01,0.01,0.01,0.01,0.01,0.01,0.01,0.01,0.01,0.01,0.01,0.01,0.01,0.01,0.01,0.01,0.01,0.01,0.01,0.01,0.01,0.01,0.01,0.01,0.01,0.01,0.01,0.01,0.01,0.01,0.01,0.01,0.01,0.01,0.01,0.01,0.01,0.01,0.01,0.01,0.01,0.01,0.01,0.01,0.01,0.01,0.01,0.01,0.01,0.01,0.01,0.01,0.01,0.01,0.01,0.01,0.01,0.01,0.01,0.01,0.01,0.01,0.01,0.01,0.01,0.01,0.01,0.01,0.01,0.01,0.01,0.01,0.01,0.01,0.01,0.01,0.01,0.01,0.01,0.01,0.01,0.01,0.01,0.01,0.01,0.01,0.01,0.01,0.01,0.01,0.01,0.01,0.01,0.01,0.01,0.01,0.01,0.01,0.01,0.01,0.01,0.01,0.01,0.01,0.01,0.01,0.01,0.01,0.01,0.01,0.01,0.01,0.01,0.01,0.01,0.01,0.01,0.01,0.01,0.01,0.01,0.01,0.01,0.01,0.01,0.01,0.01,0.01,0.01,0.01,0.01,0.01,0.01,0.01,0.01,0.01,0.01,0.01,0.01,0.01,0.01,0.01,0.01,0.01,0.01,0.01,0.01,0.01,0.01,0.01,0.01,0.01,0.01,0.01,0.01,0.01,0.01,0.01,0.01,0.01,0.01,0.01,0.01,0.01,0.01,0.01,0.01,0.01,0.01,0.01,0.01,0.01,0.01,0.01,0.01,0.01,0.01,0.01,0.01,0.01,0.01,0.01,0.01,0.01,0.01,0.01,0.01,0.01,0.01,0.01,0.01,0.01,0.01,0.01,0.01,0.01,0.01,0.01,0.01,0.01,0.01,0.01,0.01,0.01,0.01,0.01,0.01,0.01,0.01,0.01,0.01,0.01,0.01,0.01,0.01,0.01,0.01,0.01,0.01,0.01,0.01,0.01,0.01,0.01,0.01,0.01,0.01,0.01,0.01,0.01,0.01,0.01,0.01,0.01,0.01,0.01,0.01,0.01,0.01,0.01,0.01,0.01,0.01,0.01,0.01,0.01,0.01,0.01,0.01,0.01,0.01,0.01,0.01],\"coloraxis\":\"coloraxis\",\"symbol\":\"circle\"},\"mode\":\"markers\",\"name\":\"\",\"scene\":\"scene\",\"showlegend\":false,\"x\":[29.02,3.58,12.88,11.01,8.89,2.26,9.23,9.2,7.06,0.63,11.0,7.57,6.18,8.03,8.59,4.94,9.27,0.4,3.75,9.26,4.52,2.71,3.44,5.31,5.49,3.9,3.28,5.36,5.09,4.28,5.04,3.73,4.05,5.81,5.88,4.3,3.63,5.82,4.51,2.61,4.44,3.52,3.91,2.83,5.81,2.77,2.85,0.01,3.4,3.37,2.04,3.1,3.87,2.99,4.88,3.69,3.76,2.15,2.65,3.11,3.15,2.63,1.98,1.94,3.07,2.36,2.47,3.73,2.89,3.42,2.38,1.71,2.83,2.32,1.88,2.86,1.24,6.06,3.53,1.53,2.3,1.86,5.05,6.42,2.01,3.9,2.07,1.72,1.78,0.45,2.83,2.42,3.29,3.3,1.89,2.17,1.18,1.35,1.9,2.13,2.19,2.09,3.03,2.93,2.83,2.22,1.75,1.04,2.07,3.15,1.77,2.21,4.32,3.02,2.75,2.8,2.35,2.64,1.92,2.25,2.3,4.32,2.78,2.61,4.29,1.84,2.71,0.93,2.56,1.3,1.58,1.2,1.56,1.35,1.97,1.26,0.83,6.21,2.8,1.78,1.62,1.9,2.01,1.2,1.74,1.83,2.28,0.0,2.05,0.69,1.63,1.47,1.89,1.94,2.05,0.69,1.95,0.6,1.65,1.91,1.92,0.57,1.24,1.64,1.11,1.24,1.87,2.29,2.51,1.24,0.96,1.12,1.71,0.77,1.08,0.79,1.56,2.48,2.46,0.26,0.75,2.15,1.25,1.3,0.98,3.48,1.83,0.74,2.02,2.48,2.23,0.61,1.11,1.53,1.69,0.63,1.43,2.01,2.02,3.29,1.3,1.16,1.38,1.06,1.89,1.36,1.18,0.01,1.03,1.2,1.73,0.26,1.54,0.99,0.0,0.6,1.36,1.68,2.0,3.14,1.57,3.75,1.31,2.1,2.19,1.41,1.12,1.95,2.04,1.97,1.12,0.91,0.99,1.99,1.39,1.15,1.87,0.92,0.26,0.24,0.24,1.51,0.14,1.69,1.94,1.29,1.11,1.35,1.29,2.39,1.05,0.5,1.79,1.73,0.91,0.58,2.93,1.18,0.26,1.27,1.2,1.11,1.34,2.02,1.11,0.0,1.02,2.27,1.27,2.55,2.3,2.07,1.83,1.47,1.06,2.79,0.44,0.48,0.27,0.21,1.86,0.0,0.61,2.48,1.2,0.51,1.5,1.26,1.52,1.06,0.04,1.28,2.26,1.55,1.51,2.12,0.58,1.87,0.28,1.2,1.78,0.89,1.35,1.36,1.96,0.76,1.17,1.71,0.49,1.61,2.09,1.94,0.0,1.14,0.65,1.89,1.57,1.44,0.96,0.48,1.93,1.37,1.58,1.91,1.03,1.24,1.4,1.47,1.56,0.88,2.0,2.0,0.77,1.58,2.48,0.73,1.51,1.61,0.0,1.18,1.22,1.13,0.81,0.97,1.8,1.09,0.68,2.46,0.0,1.42,0.83,1.61,1.22,1.4,1.17,1.5,0.67,1.02,1.35,1.79,1.4,1.77,1.58,1.13,1.14,1.08,2.4,1.33,1.21,0.5,1.66,0.94,0.5,0.39,0.38,0.97,1.83,2.36,1.22,1.02,1.01,0.89,1.75,0.0,0.73,1.27,1.54,1.07,2.07,0.0,1.2,0.69,2.28,1.47,1.03,1.35,0.94,0.76,0.67,1.61,1.53,1.14,0.99,1.29,1.01,1.17,1.39,1.05,1.28,1.92,0.92,1.05,1.13,1.59,0.19,1.3,2.11,1.33,0.3,0.0,1.33,0.1,0.72,1.21,0.6,1.01,0.0,0.77,1.12,0.87,1.08,1.02,0.51,0.56,0.98,0.16,1.06,1.57,0.97,0.99,0.0,1.25,0.86,0.62,1.0,0.87,0.0,1.27,0.82,2.02,0.28,0.16,0.45,0.91,0.99,0.62,1.21,0.86,0.84,1.35,0.64,0.8,1.33,1.07,1.04,0.47,1.13,0.32,0.21,0.0,1.41,0.51,1.18,1.26,0.86,1.0,1.12,1.72,1.01,1.37,0.04,1.15,0.71,0.58,0.51,1.11,0.69,0.77,0.8,1.06,1.13,0.45,1.85,0.8,1.14,0.86,1.24,1.51,0.32,1.12,1.07,0.72,1.27,2.43,0.77,0.16,0.63,0.55,0.51,0.53,1.34,1.14,1.98,0.57,0.86,0.09,1.05,1.08,0.67,1.05,2.79,1.25,1.19,1.06,0.8,0.07,0.2,0.88,0.72,1.15,0.0,0.7,1.43,0.22,1.47,0.29,0.74,0.97,0.83,0.98,1.12,1.2,1.15,0.17,0.54,1.31,0.36,0.31,0.94,0.93,0.52,0.48,0.76,0.53,0.11,0.64,0.12,0.52,0.98,1.11,0.0,1.41,0.75,0.63,0.92,0.64,1.09,0.58,0.8,1.11,0.88,1.11,0.0,0.5,0.87,0.47,1.1,0.82,0.46,0.12,1.06,0.81,1.79,0.14,0.84,1.22,0.52,0.55,1.63,1.12,0.21,1.24,1.33,1.24,0.27,0.88,0.74,1.68,0.56,0.08,0.59,0.0,0.23,0.57,0.87,0.12,0.14,1.12,0.75,0.78,0.0,1.31,0.02,0.07,0.14,1.06,0.56,0.97,0.52,0.85,0.85,1.14,0.44,0.34,0.2,0.36,0.58,0.54,0.0,0.12,0.25,0.73,0.98,1.19,0.82,0.61,0.61,0.32,1.18,0.22,0.26,0.76,0.76,0.0,0.08,0.24,0.18,0.1,0.18,1.49,0.48,0.63,0.81,0.87,0.71,0.61,0.97,0.46,0.39,0.76,0.54,0.15,0.91,0.01,0.02,1.08,0.86,0.13,0.74,0.14,1.05,0.48,0.0,0.46,0.83,0.0,0.9,0.7,0.86,0.54,0.14,0.56,0.4,1.35,1.06,0.45,0.64,0.0,0.46,0.85,1.06,0.54,0.75,1.25,0.68,0.8,1.27,0.98,0.0,0.12,0.07,0.9,0.77,2.0,0.39,0.62,0.92,0.1,0.73,0.54,0.84,0.57,0.79,0.44,0.46,0.25,0.15,0.41,0.51,0.71,0.83,0.25,0.61,0.85,0.62,1.03,0.32,0.63,0.98,0.55,0.55,0.82,0.24,0.12,0.02,0.51,0.0,0.68,0.91,0.97,0.78,0.44,0.17,0.72,1.07,0.0,0.2,0.78,0.07,0.04,0.17,0.68,0.46,0.11,0.83,0.47,0.55,1.16,0.03,1.41,1.03,0.0,0.0,0.38,0.84,0.12,0.81,0.07,0.37,1.16,0.97,0.05,0.09,0.61,0.33,0.27,0.62,0.4,1.34,0.31,0.45,0.56,0.21,0.33,0.07,0.72,0.44,0.13,0.51,0.63,0.0,0.65,0.6,0.12,0.0,0.94,0.93,0.42,0.32,0.71,1.02,0.52,0.33,0.99,0.04,1.08,0.94,0.46,0.42,0.39,0.54,0.36,0.8,0.97,0.63,0.52,0.77,0.46,0.62,0.57,0.92,0.64,0.33,0.06,0.48,0.83,0.25,1.29,0.27,0.42,1.09,0.02,1.02,0.48,1.06,0.25,0.61,0.4,0.18,0.67,0.05,0.09,0.98,1.27,0.62,0.85,0.45,1.31,0.16,0.3,0.64,0.3,0.64,1.09,0.27,0.58,0.63,0.86,0.8,0.95,0.59,0.58,0.64,0.11,0.57,0.5,0.37,0.23,0.03,0.65,0.49,1.01,0.61,0.77,0.2,0.74,1.26,0.0,1.23,0.38,0.15,0.42,0.4,0.72,0.61,0.56,0.39,0.26,0.6,0.24,0.89,0.0,0.87,0.53,0.97,0.85,0.96,0.8,0.73,0.16,0.67,0.16,0.57,0.44,0.78,0.66,0.75,0.92,0.91,0.15,0.3,0.54,0.44,0.72,0.12,0.69,0.36,0.08,0.53,1.47,0.16,0.62,0.52,0.03,0.69,0.44,0.41,1.37,0.92,0.71,0.37,0.42,0.71,0.59,0.49,0.82,0.18,0.19,0.49,1.1,0.34,0.05,0.06,0.49,0.76,0.4,1.02,0.07,0.54,0.33,0.34,0.43,0.07,0.0,0.74,0.21,0.84,0.59,0.51,0.44,0.69,0.03,0.59,0.0,0.21,0.68,0.96,0.39,0.88,0.57,0.29,0.03,0.58,1.01,0.95,0.94,0.46,0.57,0.76,0.45,0.54,0.03,0.09,0.06,0.29,0.45,0.31,0.42,0.54,0.38,0.47,0.12,0.67,0.46,0.67,0.69,0.9,0.47,0.48,0.95,1.07,0.87,0.04,0.37,0.45,0.9,0.54,0.13,0.34,0.14,0.66,0.66,0.46,0.89,0.49,0.63,0.4,0.89,0.61,0.04,0.04,0.88,0.75,0.66,0.66,0.68,0.2,0.62,0.44,0.7,0.52,0.66,0.78,0.78,0.18,0.83,0.98,0.03,0.21,0.87,0.16,0.64,0.41,0.34,0.55,0.0,0.39,0.0,1.08,0.24,0.42,1.12,0.21,0.0,0.83,0.05,0.34,0.18,0.54,0.53,0.64,0.44,1.01,0.28,0.48,0.66,0.71,0.12,0.52,0.42,0.52,0.47,0.64,0.06,0.64,0.24,0.87,0.0,0.3,0.55,0.27,0.57,0.52,1.02,0.05,0.59,0.67,0.39,0.3,0.49,0.95,0.65,0.59,0.32,0.09,0.45,0.66,0.73,0.3,0.61,0.64,0.63,0.7,0.15,0.12,0.1,0.11,0.38,0.68,0.0,0.38,0.02,0.05,0.72,0.1,0.63,0.26,0.63,0.15,0.88,0.48,0.89,0.02,0.96,0.25,0.81,0.73,0.34,0.48,0.14,0.09,0.85,0.41,0.63,0.61,0.04,0.11,0.61,0.38,0.62,0.53,0.27,0.0,0.38,1.18,0.0,0.68,0.48,0.99,0.23,0.69,0.96,0.09,0.48,0.02,0.74,0.44,0.12,1.58,0.36,0.41,0.46,0.09,1.1,0.44,0.5,0.6,0.8,0.56,0.58,0.6,0.6,0.8,0.49,0.76,0.26,0.37,0.44,0.65,0.18,0.6,0.53,0.11,0.64,0.6,0.4,0.14,0.19,0.44,0.17,0.0,0.38,0.75,0.56,0.54,0.59,0.57,0.44,0.47,0.38,0.87,0.53,0.53,0.51,0.0,0.36,0.5,0.35,0.43,0.22,0.44,0.87,0.02,0.52,0.07,0.58,0.69,0.41,0.65,0.79,0.29,0.05,0.43,1.26,0.15,0.58,0.52,0.45,0.69,0.39,0.9,0.05,0.0,0.06,0.04,0.05,0.72,0.63,0.31,0.05,0.09,0.71,0.54,1.16,0.0,0.15,1.16,0.06,0.03,0.27,0.32,0.58,0.52,0.48,0.05,0.78,0.31,0.07,0.27,0.1,0.36,0.0,0.53,0.2,0.14,0.28,0.38,0.43,0.0,0.36,0.36,1.1,0.52,0.73,0.69,0.88,0.37,0.5,0.25,0.35,0.47,0.56,0.2,0.59,0.92,0.55,0.41,0.18,0.37,0.03,0.4,0.2,0.4,0.5,0.2,0.72,0.19,0.38,0.4,0.46,0.56,0.83,0.48,0.37,0.08,0.55,0.24,0.59,0.4,0.65,0.2,0.58,0.75,0.47,0.44,0.46,0.49,0.55,1.13,0.35,0.76,0.0,0.0,0.0,0.0,0.17,0.34,0.08,0.05,0.9,0.53,1.08,0.42,0.77,0.07,0.79,0.38,0.4,0.07,0.74,0.32,0.5,0.08,0.54,0.37,0.39,0.46,0.48,0.23,0.0,0.54,0.04,0.54,0.41,0.05,0.22,0.08,0.57,0.12,0.0,0.4,0.38,0.21,0.64,0.51,0.63,0.34,0.28,0.34,0.15,0.37,0.45,0.31,0.34,0.47,0.17,0.54,0.47,0.28,0.08,0.2,0.7,0.52,0.0,0.86,1.05,0.53,0.66,0.42,0.02,0.6,0.16,0.17,0.18,0.38,0.62,0.48,0.37,0.56,0.18,0.32,0.38,0.54,0.34,0.57,0.53,0.04,0.43,0.53,0.58,0.01,0.62,0.7,0.52,0.78,0.67,0.5,0.33,0.6,0.0,0.27,0.45,0.66,0.58,0.04,0.08,0.0,0.08,0.51,0.42,0.52,0.47,0.29,0.0,0.76,0.03,0.73,0.01,0.76,0.57,0.51,0.36,0.21,0.05,0.58,0.34,0.45,0.04,0.5,0.04,1.04,0.89,0.37,0.21,0.07,0.04,0.27,0.43,0.22,0.05,0.51,0.02,0.06,0.5,0.05,0.42,0.59,0.36,0.31,0.35,0.24,0.38,0.35,0.5,0.35,0.31,0.4,0.51,0.48,0.17,0.5,0.38,0.42,0.36,0.13,0.43,0.52,1.16,0.16,0.08,0.5,0.04,0.3,0.5,0.44,0.45,0.46,0.5,0.5,0.23,0.42,0.35,0.0,0.45,0.67,0.38,0.07,0.5,0.49,0.04,0.43,0.08,0.35,0.57,0.04,0.44,0.02,0.48,0.2,0.0,0.4,0.38,0.64,0.66,0.47,0.02,0.92,0.27,0.17,0.44,0.34,0.49,0.14,0.4,0.2,0.05,0.49,0.45,0.59,0.46,0.0,0.56,0.14,0.45,0.16,0.49,0.35,0.49,0.56,0.4,0.05,0.03,0.48,0.3,0.08,0.16,0.4,0.37,0.16,0.38,0.2,0.38,0.73,0.3,0.48,0.26,0.0,0.57,0.02,1.01,0.03,0.05,0.42,0.52,1.15,1.13,0.62,0.22,0.51,0.68,0.17,0.47,0.0,0.07,0.53,0.0,0.0,0.13,0.53,0.19,0.04,0.05,0.48,0.56,0.16,0.03,0.48,0.03,0.19,0.04,0.41,0.48,0.44,0.47,0.19,0.0,0.22,0.38,0.55,0.47,0.64,0.2,0.57,0.47,0.47,1.02,0.14,0.7,0.17,0.33,0.47,0.06,0.27,0.41,0.11,0.06,0.08,0.38,0.63,0.64,0.53,0.47,0.16,0.07,0.3,0.31,0.08,0.46,0.75,0.29,0.05,0.0,0.27,0.46,0.19,0.46,0.46,0.46,0.44,0.04,0.24,0.4,0.7,0.14,0.43,0.17,0.0,0.48,0.49,0.48,0.46,0.65,0.88,0.46,0.49,0.04,0.13,0.59,0.31,0.37,0.6,0.0,0.0,0.0,0.05,0.39,0.43,0.46,0.03,0.17,0.24,0.49,0.35,0.45,0.36,0.47,0.32,0.84,0.23,0.64,0.04,0.13,0.14,0.16,0.38,0.66,0.27,0.24,0.14,0.31,0.2,0.45,0.07,0.25,0.49,0.0,0.24,0.18,0.31,0.46,0.49,0.15,0.07,0.14,1.06,0.44,0.37,0.26,0.04,0.45,0.31,0.49,0.47,0.1,0.64,0.38,0.0,0.45,0.44,0.11,0.36,0.95,0.44,0.51,0.23,0.25,0.52,0.28,0.45,0.52,0.25,0.04,0.44,0.58,0.27,0.39,0.44,0.28,0.08,0.27,0.16,0.44,0.39,0.51,0.38,0.28,0.68,0.54,1.14,0.46,0.44,0.33,0.44,0.07,0.46,0.35,1.12,0.2,0.0,0.0,0.52,0.22,0.16,0.51,0.0,0.44,0.43,0.0,0.26,0.43,0.34,0.03,0.17,0.03,0.04,0.59,0.75,0.23,0.16,0.17,0.23,0.37,0.38,0.3,0.51,0.37,0.1,0.39,0.1,0.41,0.43,0.0,0.3,0.37,0.12,0.56,0.05,0.43,0.39,0.56,0.21,0.3,0.3,0.3,0.06,0.43,0.24,0.37,0.33,0.37,0.2,0.4,0.0,0.4,0.06,0.3,1.12,0.26,0.23,0.58,0.37,0.57,0.04,0.4,0.06,0.38,0.07,0.0,0.14,0.46,0.31,0.13,0.35,0.42,0.4,0.06,0.53,0.33,0.06,0.42,0.53,0.52,0.46,0.0,0.0,0.0,0.0,0.33,0.12,0.09,0.4,0.75,0.84,0.21,0.33,0.1,0.22,0.41,0.36,0.55,0.04,0.17,0.29,0.52,0.05,0.0,0.18,0.04,0.02,0.97,0.03,0.37,0.42,0.0,0.28,0.54,0.52,0.47,0.41,0.26,0.41,0.41,0.41,0.64,0.12,0.41,0.43,0.32,0.0,0.5,0.69,0.59,0.06,0.43,0.34,0.59,0.4,0.3,0.41,0.29,0.29,0.18,0.35,0.18,0.0,0.0,0.03,0.32,0.39,0.4,0.12,0.98,0.01,0.9,0.06,0.4,0.15,0.44,0.64,0.63,0.3,0.12,0.42,0.4,0.4,0.04,0.4,0.41,0.74,0.29,0.67,0.02,0.0,0.65,0.41,0.5,0.3,0.81,0.41,0.44,0.04,0.05,0.4,0.01,0.02,0.41,0.28,0.59,0.4,0.39,0.06,0.38,0.05,0.11,0.54,0.47,0.05,0.66,0.0,0.0,0.0,0.0,0.34,0.4,0.48,0.26,0.11,0.49,0.38,0.51,0.49,0.32,0.13,0.06,0.4,0.47,0.4,0.4,0.37,0.37,0.06,0.39,0.35,0.3,0.12,0.03,0.35,0.16,0.2,0.1,0.33,0.69,0.46,0.06,0.34,0.27,0.48,0.58,0.34,0.4,0.03,0.33,0.02,0.51,0.23,0.39,0.31,0.0,0.47,0.07,0.01,0.12,0.32,0.59,0.46,0.05,0.36,0.26,0.4,0.21,0.12,0.4,0.39,0.04,0.03,0.4,0.39,0.38,0.28,0.35,0.36,0.46,0.22,0.12,0.93,0.44,0.0,0.08,0.48,0.53,0.61,0.0,0.38,0.19,0.76,0.24,0.14,0.15,0.1,0.25,0.0,0.18,0.33,0.21,0.9,0.38,0.38,0.49,0.38,0.1,0.04,0.27,0.38,0.04,0.35,0.28,0.78,0.38,0.28,0.07,0.21,0.2,0.31,0.39,0.34,0.31,0.0,0.46,0.3,0.3,0.38,0.52,0.05,0.28,0.23,0.15,0.5,0.65,0.2,0.8,0.88,0.05,0.53,0.62,0.26,0.19,0.19,0.46,0.13,0.04,0.06,0.23,0.1,0.38,0.54,0.39,0.44,0.92,0.41,0.43,0.05,0.0,0.27,0.02,0.32,0.01,0.37,0.21,0.44,0.02,0.18,0.14,0.35,0.33,0.37,0.03,0.1,0.6,0.37,0.0,0.05,0.19,0.45,0.31,0.37,0.07,0.25,0.36,0.28,0.0,0.17,0.0,0.49,0.44,0.22,0.06,0.33,0.34,0.37,0.0,0.54,0.33,0.0,0.28,0.15,0.56,0.36,0.33,0.4,0.04,0.36,0.03,0.45,0.19,0.3,0.22,0.51,0.39,0.17,0.21,0.25,0.36,0.28,0.4,0.43,0.41,0.31,0.24,0.17,0.38,0.43,0.03,0.5,0.71,0.27,0.19,0.17,0.36,0.04,0.53,0.36,0.29,0.36,0.26,0.03,0.2,0.07,0.0,0.35,0.3,0.03,0.33,0.06,0.36,0.03,0.36,0.45,0.09,0.58,0.3,0.41,0.52,0.16,0.42,0.32,0.44,0.01,0.25,0.05,0.09,0.06,0.2,0.25,0.03,0.31,0.19,0.34,0.0,0.22,0.35,0.35,0.35,0.33,0.35,0.0,0.35,0.65,0.28,0.21,0.26,0.2,0.0,0.35,0.32,0.27,0.09,0.83,0.2,0.33,0.39,0.14,0.39,0.0,0.18,0.35,0.08,0.27,0.08,0.46,0.4,0.0,0.35,0.43,0.17,0.24,0.35,0.27,0.3,0.8,0.17,0.26,0.38,0.11,0.15,0.26,0.0,0.26,0.34,0.28,0.37,0.35,0.0,0.0,0.35,0.12,0.03,0.48,0.29,0.34,0.49,0.43,0.34,0.13,0.43,0.36,0.26,0.29,0.05,0.03,0.22,0.37,0.48,0.33,0.52,0.0,0.32,0.24,0.05,0.34,0.1,0.24,0.38,0.28,0.01,0.03,0.42,0.22,0.29,0.03,0.17,0.19,0.16,0.0,0.18,0.43,0.11,0.63,0.34,0.47,0.13,0.36,0.59,0.0,0.79,0.24,0.25,0.21,0.34,0.68,0.0,0.3,0.36,0.41,0.79,0.82,0.2,0.21,0.1,0.22,0.34,0.06,0.22,0.33,0.38,0.26,0.28,0.33,0.33,0.44,0.11,0.19,0.33,0.33,0.11,0.4,0.0,0.11,0.29,0.24,0.4,0.29,0.03,0.19,0.0,0.3,0.33,0.54,0.31,0.03,0.29,0.33,0.44,0.31,0.03,0.2,0.17,0.37,0.33,0.2,0.52,0.09,0.32,0.05,0.15,0.59,0.0,0.63,0.72,0.37,0.37,0.06,0.45,0.33,0.0,0.33,0.04,0.32,0.34,0.26,0.0,0.43,0.13,0.16,0.43,0.26,0.65,0.32,0.31,0.01,0.0,0.32,0.09,0.18,0.27,0.04,0.07,0.47,0.32,0.06,0.35,0.25,0.0,0.32,0.32,0.1,0.25,0.25,0.29,0.37,0.17,0.11,0.34,0.21,0.0,0.01,0.28,0.3,0.17,0.0,0.27,0.32,0.03,0.0,0.22,0.32,0.25,0.32,0.32,0.16,0.32,0.22,0.48,0.33,0.0,0.38,0.32,0.31,0.15,0.19,0.37,0.03,0.22,0.21,0.21,0.18,0.2,0.0,0.31,0.26,0.0,0.03,0.0,0.17,0.32,0.0,0.37,0.2,0.31,0.31,0.34,0.22,0.02,0.21,0.17,0.03,0.3,0.12,0.26,0.11,0.1,0.19,0.11,0.05,0.41,0.28,0.19,0.31,0.35,0.28,0.11,0.33,0.33,0.04,0.4,0.26,0.13,0.07,0.0,0.03,0.31,0.0,0.25,0.04,0.0,0.31,0.0,0.16,0.0,0.35,0.05,0.0,0.58,0.12,0.08,0.31,0.35,0.0,0.4,0.26,0.31,0.3,0.0,0.21,0.0,0.27,0.03,0.21,0.0,0.25,0.33,0.3,0.02,0.16,0.5,0.3,0.31,0.39,0.3,0.37,0.33,0.25,0.35,0.35,0.19,0.29,0.46,0.28,0.24,0.28,0.32,0.01,0.0,0.33,0.09,0.19,0.22,0.22,0.0,0.0,0.36,0.24,0.3,0.04,0.02,0.25,0.34,0.0,0.0,0.03,0.16,0.0,0.51,0.3,0.25,0.11,0.15,0.07,0.2,0.03,0.22,0.0,0.21,0.27,0.02,0.03,0.52,0.3,0.19,0.03,0.49,0.32,0.27,0.2,0.48,0.05,0.04,0.56,0.21,0.04,0.77,0.3,0.0,0.3,0.0,0.69,0.3,0.0,0.29,0.3,0.42,0.43,0.24,0.19,0.15,0.02,0.33,0.29,0.0,0.05,0.16,0.36,0.29,0.35,0.4,0.23,0.02,0.05,0.29,0.29,0.05,0.04,0.32,0.31,0.14,0.02,0.04,0.29,0.19,0.04,0.22,0.0,0.2,0.1,0.27,0.0,0.29,0.29,0.14,0.17,0.29,0.08,0.29,0.04,0.12,0.4,0.47,0.37,0.38,0.02,0.29,0.11,0.18,0.0,0.24,0.24,0.32,0.01,0.43,0.39,0.26,0.0,0.16,0.0,0.03,0.29,0.29,0.04,0.31,0.48,0.12,0.15,0.2,0.46,0.24,0.38,0.32,0.2,0.02,0.29,0.39,0.44,0.38,0.09,0.0,0.53,0.21,0.03,0.0,0.21,0.24,0.21,0.39,0.19,0.22,0.17,0.21,0.28,0.29,0.11,0.26,0.24,0.28,0.19,0.0,0.29,0.24,0.18,0.32,0.26,0.31,0.17,0.02,0.28,0.22,0.43,0.16,0.37,0.14,0.16,0.0,0.28,0.22,0.28,0.19,0.3,0.27,0.01,0.3,0.16,0.32,0.35,0.37,0.0,0.0,0.1,0.45,0.2,0.28,0.3,0.28,0.25,0.12,0.06,0.41,0.38,0.12,0.11,0.01,0.16,0.05,0.09,0.0,0.15,0.41,0.0,0.17,0.51,0.04,0.0,0.28,0.0,0.16,0.04,0.07,0.34,0.01,0.41,0.0,0.0,0.16,0.02,0.19,0.14,0.32,0.28,0.15,0.31,0.28,0.02,0.15,0.36,0.3,0.19,0.02,0.46,0.0,0.22,0.0,0.27,0.02,0.17,0.02,0.27,0.0,0.3,0.0,0.27,0.31,0.28,0.04,0.38,0.31,0.04,0.19,0.39,0.0,0.19,0.04,0.15,0.27,0.5,0.69,0.53,0.24,0.02,0.01,0.0,0.23,0.13,0.27,0.4,0.15,0.08,0.27,0.07,0.04,0.14,0.27,0.2,0.27,0.0,0.25,0.13,0.22,0.0,0.14,0.19,0.27,0.0,0.18,0.13,0.09,0.37,0.0,0.05,0.6,0.1,0.31,0.27,0.27,0.26,0.23,0.15,0.0,0.14,0.29,0.21,0.39,0.5,0.1,0.14,0.18,0.0,0.27,0.31,0.16,0.0,0.27,0.1,0.14,0.19,0.27,0.27,0.19,0.3,0.25,0.25,0.36,0.03,0.19,0.25,0.2,0.01,0.27,0.26,0.4,0.26,0.27,0.13,0.18,0.27,0.26,0.0,0.14,0.0,0.18,0.04,0.26,0.31,0.21,0.01,0.17,0.1,0.32,0.26,0.13,0.33,0.02,0.0,0.33,0.18,0.0,0.0,0.14,0.26,0.09,0.2,0.38,0.14,0.36,0.14,0.61,0.08,0.2,0.35,0.32,0.26,0.18,0.23,0.0,0.03,0.26,0.13,0.04,0.25,0.36,0.29,0.02,0.26,0.33,0.14,0.02,0.11,0.3,0.0,0.11,0.33,0.23,0.17,0.1,0.33,0.01,0.38,0.43,0.04,0.15,0.22,0.59,0.18,0.04,0.22,0.26,0.52,0.24,0.01,0.16,0.17,0.21,0.34,0.25,0.22,0.25,0.22,0.18,0.28,0.13,0.0,0.25,0.17,0.17,0.32,0.0,0.42,0.36,0.31,0.28,0.16,0.13,0.66,0.18,0.3,0.33,0.41,0.21,0.29,0.06,0.64,0.25,0.2,0.58,0.03,0.05,0.11,0.26,0.53,0.18,0.0,0.25,0.15,0.24,0.23,0.02,0.25,0.01,0.25,0.25,0.25,0.16,0.02,0.1,0.0,0.13,0.0,0.0,0.18,0.38,0.24,0.25,0.25,0.52,0.03,0.02,0.25,0.2,0.22,0.04,0.35,0.14,0.17,0.13,0.0,0.17,0.08,0.14,0.08,0.27,0.0,0.44,0.25,0.25,0.22,0.22,0.0,0.22,0.25,0.23,0.14,0.11,0.25,0.22,0.09,0.28,0.25,0.04,0.17,0.01,0.14,0.0,0.2,0.17,0.03,0.25,0.15,0.5,0.04,0.25,0.02,0.05,0.24,0.18,0.11,0.15,0.14,0.0,0.23,0.2,0.0,0.04,0.39,0.0,0.07,0.17,0.24,0.25,0.25,0.31,0.25,0.35,0.15,0.09,0.02,0.04,0.17,0.23,0.35,0.29,0.19,0.24,0.32,0.04,0.33,0.04,0.15,0.1,0.22,0.21,0.33,0.12,0.2,0.17,0.43,0.2,0.17,0.09,0.28,0.24,0.32,0.42,0.04,0.03,0.02,0.12,0.26,0.1,0.24,0.33,0.0,0.21,0.02,0.24,0.12,0.16,0.45,0.34,0.19,0.24,0.4,0.14,0.0,0.02,0.23,0.17,0.23,0.24,0.09,0.0,0.35,0.13,0.05,0.09,0.2,0.19,0.0,0.0,0.21,0.05,0.29,0.09,0.05,0.04,0.23,0.13,0.23,0.34,0.25,0.0,0.37,0.2,0.24,0.06,0.0,0.17,0.03,0.24,0.16,0.22,0.27,0.29,0.24,0.13,0.0,0.0,0.22,0.2,0.24,0.26,0.22,0.13,0.24,0.23,0.13,0.42,0.03,0.13,0.28,0.23,0.2,0.24,0.2,0.04,0.21,0.1,0.22,0.2,0.34,0.23,0.0,0.24,0.01,0.14,0.03,0.18,0.23,0.14,0.24,0.0,0.12,0.17,0.0,0.0,0.26,0.03,0.0,0.0,0.02,0.0,0.57,0.13,0.0,0.04,0.15,0.29,0.13,0.02,0.11,0.18,0.16,0.23,0.16,0.21,0.1,0.23,0.07,0.16,0.23,0.0,0.0,0.44,0.17,0.23,0.07,0.24,0.21,0.23,0.09,0.27,0.0,0.03,0.0,0.0,0.23,0.1,0.16,0.23,0.16,0.16,0.12,0.21,0.16,0.16,0.02,0.05,0.16,0.2,0.02,0.24,0.24,0.14,0.16,0.11,0.16,0.02,0.1,0.23,0.16,0.0,0.25,0.02,0.19,0.22,0.28,0.19,0.15,0.22,0.25,0.37,0.14,0.18,0.23,0.24,0.02,0.0,0.23,0.21,0.08,0.26,0.15,0.23,0.23,0.0,0.0,0.03,0.25,0.28,0.23,0.01,0.0,0.13,0.16,0.2,0.24,0.23,0.22,0.22,0.0,0.0,0.53,0.23,0.35,0.46,0.38,0.0,0.0,0.0,0.34,0.22,0.22,0.12,0.11,0.22,0.28,0.22,0.31,0.0,0.23,0.0,0.24,0.03,0.28,0.17,0.13,0.12,0.03,0.0,0.02,0.03,0.11,0.11,0.21,0.08,0.0,0.14,0.16,0.09,0.22,0.0,0.04,0.18,0.22,0.34,0.22,0.02,0.22,0.14,0.25,0.21,0.13,0.22,0.37,0.0,0.22,0.17,0.37,0.01,0.22,0.23,0.25,0.0,0.19,0.02,0.18,0.03,0.04,0.02,0.03,0.31,0.18,0.18,0.22,0.29,0.22,0.3,0.0,0.19,0.22,0.26,0.22,0.15,0.06,0.39,0.4,0.3,0.22,0.22,0.16,0.0,0.22,0.22,0.22,0.15,0.0,0.02,0.0,0.22,0.22,0.0,0.0,0.27,0.05,0.0,0.09,0.11,0.1,0.22,0.12,0.0,0.22,0.02,0.12,0.41,0.02,0.22,0.17,0.02,0.53,0.02,0.22,0.37,0.0,0.16,0.23,0.04,0.0,0.24,0.22,0.15,0.28,0.0,0.15,0.24,0.0,0.15,0.24,0.0,0.08,0.02,0.23,0.27,0.11,0.17,0.45,0.01,0.02,0.15,0.02,0.12,0.0,0.08,0.01,0.12,0.25,0.12,0.08,0.2,0.03,0.22,0.02,0.11,0.0,0.1,0.25,0.0,0.22,0.16,0.15,0.21,0.22,0.19,0.12,0.31,0.4,0.22,0.28,0.08,0.11,0.18,0.04,0.15,0.15,0.22,0.15,0.22,0.11,0.14,0.22,0.21,0.21,0.08,0.15,0.21,0.05,0.21,0.21,0.19,0.21,0.15,0.22,0.21,0.15,0.11,0.21,0.11,0.02,0.11,0.09,0.02,0.21,0.14,0.12,0.08,0.09,0.15,0.35,0.0,0.21,0.23,0.21,0.15,0.15,0.15,0.18,0.24,0.21,0.0,0.02,0.02,0.0,0.23,0.04,0.09,0.23,0.26,0.21,0.02,0.02,0.0,0.21,0.36,0.12,0.08,0.14,0.18,0.2,0.21,0.11,0.16,0.21,0.01,0.13,0.11,0.0,0.28,0.22,0.13,0.0,0.0,0.17,0.03,0.21,0.0,0.21,0.0,0.0,0.16,0.21,0.15,0.16,0.04,0.27,0.22,0.33,0.0,0.01,0.0,0.0,0.18,0.08,0.21,0.25,0.21,0.0,0.0,0.13,0.0,0.21,0.15,0.0,0.19,0.0,0.02,0.15,0.05,0.2,0.14,0.02,0.24,0.0,0.21,0.21,0.12,0.08,0.32,0.0,0.06,0.02,0.03,0.12,0.35,0.0,0.0,0.03,0.17,0.4,0.11,0.27,0.21,0.08,0.33,0.2,0.11,0.14,0.3,0.14,0.0,0.21,0.24,0.23,0.21,0.09,0.1,0.03,0.1,0.39,0.0,0.1,0.13,0.06,0.08,0.0,0.23,0.0,0.1,0.16,0.21,0.0,0.03,0.29,0.23,0.14,0.17,0.11,0.14,0.06,0.08,0.01,0.0,0.21,0.05,0.02,0.2,0.32,0.17,0.03,0.01,0.2,0.2,0.05,0.11,0.2,0.37,0.0,0.27,0.2,0.05,0.02,0.0,0.2,0.07,0.07,0.2,0.02,0.2,0.2,0.11,0.0,0.21,0.2,0.2,0.2,0.11,0.2,0.19,0.1,0.0,0.0,0.0,0.17,0.32,0.14,0.19,0.26,0.19,0.28,0.2,0.19,0.2,0.27,0.09,0.0,0.1,0.11,0.21,0.0,0.0,0.2,0.15,0.2,0.26,0.0,0.29,0.2,0.11,0.2,0.02,0.2,0.0,0.01,0.17,0.03,0.13,0.16,0.03,0.03,0.0,0.2,0.09,0.0,0.01,0.2,0.01,0.0,0.11,0.37,0.04,0.02,0.0,0.2,0.0,0.2,0.04,0.14,0.2,0.11,0.08,0.0,0.12,0.2,0.07,0.2,0.07,0.08,0.29,0.24,0.15,0.32,0.02,0.21,0.13,0.0,0.19,0.04,0.2,0.12,0.14,0.04,0.0,0.2,0.07,0.0,0.2,0.14,0.14,0.0,0.11,0.05,0.12,0.11,0.19,0.2,0.02,0.1,0.46,0.17,0.03,0.2,0.13,0.07,0.25,0.05,0.12,0.2,0.29,0.18,0.2,0.21,0.23,0.27,0.21,0.0,0.1,0.0,0.2,0.19,0.0,0.01,0.03,0.01,0.14,0.09,0.09,0.0,0.26,0.0,0.13,0.19,0.02,0.23,0.04,0.0,0.14,0.03,0.12,0.22,0.04,0.28,0.16,0.02,0.03,0.02,0.21,0.19,0.01,0.11,0.19,0.0,0.05,0.24,0.42,0.13,0.19,0.01,0.11,0.19,0.03,0.17,0.17,0.25,0.19,0.33,0.19,0.13,0.35,0.01,0.02,0.19,0.21,0.03,0.15,0.34,0.12,0.06,0.12,0.0,0.02,0.1,0.19,0.19,0.19,0.19,0.03,0.19,0.19,0.19,0.26,0.12,0.03,0.07,0.11,0.0,0.09,0.01,0.19,0.05,0.04,0.0,0.18,0.01,0.02,0.19,0.1,0.07,0.25,0.19,0.22,0.19,0.16,0.02,0.0,0.24,0.0,0.08,0.17,0.16,0.1,0.19,0.0,0.07,0.19,0.13,0.0,0.0,0.02,0.01,0.2,0.19,0.2,0.03,0.19,0.03,0.03,0.15,0.0,0.12,0.17,0.15,0.02,0.13,0.2,0.03,0.0,0.29,0.01,0.23,0.13,0.1,0.15,0.13,0.13,0.0,0.0,0.13,0.1,0.31,0.0,0.0,0.11,0.2,0.12,0.3,0.18,0.02,0.23,0.17,0.0,0.26,0.19,0.15,0.19,0.04,0.17,0.0,0.3,0.0,0.01,0.47,0.45,0.09,0.19,0.31,0.11,0.0,0.18,0.35,0.16,0.0,0.1,0.05,0.0,0.02,0.45,0.23,0.06,0.01,0.21,0.25,0.02,0.11,0.48,0.02,0.18,0.01,0.13,0.27,0.03,0.14,0.13,0.0,0.11,0.19,0.03,0.0,0.17,0.2,0.24,0.18,0.02,0.18,0.03,0.0,0.18,0.36,0.15,0.07,0.21,0.24,0.18,0.01,0.04,0.06,0.02,0.18,0.26,0.07,0.18,0.11,0.43,0.18,0.24,0.18,0.25,0.0,0.01,0.18,0.02,0.13,0.01,0.28,0.06,0.19,0.11,0.27,0.05,0.03,0.4,0.03,0.18,0.09,0.27,0.11,0.02,0.16,0.02,0.11,0.03,0.16,0.17,0.18,0.1,0.02,0.23,0.01,0.1,0.0,0.18,0.04,0.16,0.17,0.18,0.18,0.16,0.28,0.13,0.0,0.04,0.01,0.21,0.0,0.03,0.18,0.02,0.3,0.3,0.45,0.22,0.0,0.02,0.25,0.18,0.06,0.17,0.08,0.0,0.08,0.09,0.29,0.03,0.02,0.13,0.13,0.18,0.1,0.0,0.05,0.33,0.18,0.0,0.0,0.0,0.0,0.38,0.03,0.18,0.07,0.12,0.01,0.01,0.18,0.41,0.12,0.15,0.0,0.01,0.18,0.09,0.08,0.01,0.18,0.18,0.15,0.12,0.06,0.09,0.11,0.12,0.03,0.0,0.17,0.03,0.17,0.12,0.15,0.12,0.0,0.1,0.0,0.12,0.29,0.25,0.12,0.03,0.03,0.04,0.16,0.18,0.01,0.06,0.09,0.01,0.12,0.19,0.17,0.14,0.0,0.16,0.17,0.16,0.01,0.25,0.12,0.03,0.18,0.18,0.12,0.12,0.19,0.28,0.01,0.0,0.09,0.16,0.05,0.17,0.0,0.23,0.24,0.18,0.12,0.17,0.13,0.1,0.17,0.17,0.38,0.0,0.17,0.0,0.11,0.23,0.0,0.11,0.0,0.05,0.2,0.08,0.0,0.17,0.02,0.16,0.35,0.1,0.0,0.15,0.03,0.12,0.13,0.17,0.21,0.0,0.0,0.25,0.0,0.09,0.06,0.1,0.0,0.0,0.06,0.37,0.17,0.16,0.03,0.21,0.11,0.01,0.01,0.26,0.0,0.03,0.11,0.03,0.17,0.17,0.0,0.28,0.17,0.15,0.1,0.02,0.02,0.13,0.11,0.01,0.21,0.0,0.18,0.17,0.14,0.26,0.12,0.26,0.0,0.02,0.0,0.22,0.17,0.0,0.08,0.08,0.13,0.14,0.33,0.01,0.0,0.12,0.03,0.0,0.19,0.14,0.12,0.24,0.02,0.0,0.16,0.06,0.13,0.0,0.02,0.02,0.03,0.05,0.17,0.1,0.04,0.26,0.09,0.02,0.09,0.0,0.07,0.17,0.17,0.09,0.16,0.22,0.03,0.17,0.12,0.22,0.16,0.0,0.11,0.17,0.15,0.01,0.01,0.33,0.02,0.17,0.01,0.21,0.11,0.17,0.21,0.17,0.12,0.0,0.13,0.2,0.01,0.17,0.1,0.13,0.15,0.0,0.08,0.01,0.2,0.15,0.1,0.0,0.17,0.22,0.05,0.1,0.12,0.1,0.29,0.01,0.04,0.0,0.17,0.17,0.0,0.03,0.08,0.14,0.0,0.18,0.09,0.0,0.17,0.0,0.0,0.07,0.08,0.0,0.17,0.0,0.14,0.09,0.12,0.03,0.0,0.0,0.14,0.12,0.09,0.12,0.11,0.09,0.12,0.01,0.06,0.0,0.0,0.0,0.0,0.17,0.0,0.01,0.09,0.0,0.07,0.0,0.1,0.18,0.13,0.01,0.17,0.02,0.12,0.0,0.16,0.09,0.12,0.36,0.01,0.21,0.0,0.0,0.02,0.18,0.04,0.03,0.17,0.09,0.16,0.2,0.17,0.02,0.17,0.03,0.11,0.07,0.0,0.15,0.07,0.19,0.04,0.16,0.15,0.05,0.14,0.06,0.22,0.01,0.03,0.0,0.01,0.38,0.16,0.07,0.0,0.07,0.08,0.19,0.01,0.16,0.05,0.34,0.17,0.09,0.0,0.01,0.11,0.18,0.1,0.08,0.02,0.0,0.14,0.16,0.16,0.17,0.16,0.17,0.2,0.0,0.0,0.0,0.09,0.16,0.19,0.02,0.16,0.05,0.13,0.01,0.16,0.09,0.1,0.15,0.16,0.16,0.0,0.16,0.13,0.08,0.23,0.0,0.0,0.04,0.2,0.16,0.16,0.16,0.01,0.19,0.01,0.0,0.16,0.0,0.09,0.11,0.16,0.16,0.16,0.03,0.01,0.17,0.11,0.02,0.11,0.16,0.0,0.0,0.0,0.0,0.05,0.0,0.08,0.16,0.06,0.07,0.07,0.0,0.07,0.08,0.16,0.25,0.01,0.15,0.09,0.08,0.03,0.0,0.16,0.0,0.08,0.0,0.16,0.03,0.03,0.1,0.0,0.16,0.08,0.14,0.12,0.05,0.02,0.11,0.09,0.17,0.09,0.13,0.0,0.11,0.12,0.21,0.0,0.18,0.09,0.28,0.16,0.12,0.11,0.16,0.09,0.16,0.0,0.05,0.1,0.02,0.16,0.12,0.12,0.0,0.16,0.11,0.16,0.11,0.07,0.12,0.0,0.21,0.0,0.16,0.01,0.39,0.01,0.16,0.16,0.13,0.0,0.16,0.16,0.0,0.17,0.0,0.1,0.15,0.19,0.22,0.16,0.16,0.0,0.03,0.08,0.16,0.08,0.0,0.01,0.1,0.03,0.0,0.16,0.23,0.0,0.1,0.02,0.0,0.03,0.07,0.08,0.16,0.14,0.0,0.02,0.07,0.27,0.16,0.26,0.16,0.09,0.0,0.19,0.13,0.0,0.15,0.23,0.11,0.18,0.06,0.1,0.12,0.02,0.08,0.16,0.08,0.01,0.01,0.0,0.15,0.1,0.01,0.0,0.02,0.16,0.04,0.12,0.09,0.17,0.0,0.02,0.0,0.01,0.0,0.16,0.13,0.11,0.15,0.01,0.31,0.12,0.18,0.0,0.15,0.15,0.15,0.02,0.26,0.13,0.01,0.02,0.2,0.06,0.03,0.08,0.04,0.2,0.19,0.0,0.21,0.0,0.01,0.15,0.15,0.0,0.0,0.2,0.02,0.15,0.08,0.03,0.01,0.0,0.01,0.15,0.11,0.0,0.07,0.15,0.08,0.08,0.0,0.06,0.03,0.08,0.0,0.14,0.0,0.15,0.19,0.01,0.0,0.07,0.07,0.03,0.07,0.15,0.01,0.15,0.1,0.3,0.15,0.01,0.17,0.15,0.17,0.11,0.01,0.07,0.08,0.14,0.14,0.15,0.0,0.11,0.03,0.05,0.16,0.14,0.23,0.15,0.0,0.12,0.16,0.15,0.08,0.03,0.0,0.04,0.15,0.15,0.15,0.12,0.32,0.0,0.08,0.1,0.0,0.19,0.06,0.0,0.13,0.01,0.15,0.15,0.15,0.11,0.23,0.17,0.15,0.18,0.01,0.0,0.14,0.18,0.01,0.0,0.0,0.15,0.15,0.02,0.0,0.1,0.02,0.01,0.17,0.08,0.14,0.0,0.0,0.26,0.0,0.12,0.07,0.02,0.0,0.05,0.15,0.0,0.08,0.16,0.01,0.0,0.04,0.17,0.19,0.13,0.17,0.02,0.17,0.06,0.0,0.32,0.08,0.01,0.1,0.03,0.0,0.07,0.07,0.14,0.06,0.32,0.15,0.0,0.13,0.15,0.0,0.12,0.14,0.0,0.15,0.02,0.11,0.24,0.02,0.15,0.15,0.0,0.13,0.0,0.01,0.01,0.1,0.15,0.0,0.0,0.15,0.08,0.09,0.0,0.15,0.15,0.02,0.0,0.05,0.08,0.15,0.36,0.1,0.0,0.17,0.15,0.04,0.0,0.15,0.23,0.0,0.05,0.0,0.15,0.05,0.0,0.11,0.08,0.15,0.0,0.12,0.0,0.18,0.07,0.35,0.01,0.17,0.1,0.04,0.15,0.08,0.12,0.0,0.0,0.1,0.0,0.15,0.05,0.0,0.23,0.0,0.08,0.11,0.08,0.2,0.22,0.14,0.0,0.15,0.15,0.0,0.08,0.15,0.15,0.1,0.11,0.15,0.03,0.04,0.0,0.05,0.15,0.0,0.21,0.15,0.01,0.0,0.02,0.15,0.12,0.23,0.0,0.14,0.2,0.08,0.01,0.14,0.0,0.15,0.06,0.0,0.05,0.14,0.14,0.09,0.29,0.16,0.13,0.0,0.03,0.02,0.0,0.12,0.02,0.0,0.05,0.14,0.08,0.0,0.07,0.2,0.01,0.13,0.01,0.02,0.03,0.17,0.16,0.08,0.03,0.0,0.02,0.0,0.07,0.0,0.12,0.19,0.03,0.17,0.03,0.0,0.0,0.21,0.0,0.07,0.15,0.12,0.08,0.0,0.0,0.06,0.14,0.17,0.14,0.0,0.01,0.13,0.07,0.14,0.14,0.18,0.14,0.14,0.0,0.0,0.0,0.13,0.18,0.01,0.0,0.12,0.2,0.0,0.0,0.06,0.06,0.02,0.07,0.19,0.17,0.17,0.33,0.07,0.0,0.1,0.17,0.15,0.0,0.18,0.0,0.0,0.0,0.13,0.0,0.08,0.01,0.0,0.07,0.0,0.22,0.21,0.0,0.19,0.0,0.12,0.13,0.05,0.32,0.01,0.0,0.02,0.04,0.08,0.0,0.07,0.0,0.06,0.0,0.09,0.14,0.02,0.17,0.0,0.0,0.0,0.14,0.14,0.14,0.0,0.01,0.19,0.16,0.13,0.09,0.09,0.14,0.09,0.08,0.14,0.03,0.1,0.11,0.0,0.0,0.1,0.13,0.05,0.01,0.13,0.0,0.14,0.14,0.08,0.1,0.02,0.06,0.06,0.02,0.0,0.14,0.11,0.1,0.0,0.08,0.2,0.0,0.0,0.09,0.14,0.03,0.0,0.06,0.08,0.0,0.0,0.1,0.25,0.14,0.0,0.12,0.17,0.0,0.09,0.14,0.14,0.0,0.0,0.32,0.0,0.25,0.01,0.25,0.11,0.31,0.0,0.02,0.04,0.08,0.1,0.0,0.13,0.0,0.06,0.02,0.14,0.07,0.14,0.26,0.0,0.0,0.04,0.1,0.16,0.01,0.13,0.02,0.09,0.09,0.14,0.07,0.06,0.0,0.18,0.03,0.14,0.07,0.0,0.2,0.0,0.16,0.12,0.13,0.09,0.08,0.18,0.0,0.04,0.1,0.01,0.15,0.0,0.11,0.13,0.02,0.09,0.0,0.08,0.02,0.03,0.18,0.1,0.0,0.0,0.19,0.17,0.14,0.1,0.13,0.07,0.09,0.0,0.13,0.13,0.08,0.14,0.16,0.13,0.13,0.07,0.2,0.05,0.07,0.13,0.0,0.13,0.13,0.13,0.07,0.0,0.13,0.2,0.0,0.13,0.08,0.01,0.13,0.0,0.13,0.14,0.0,0.21,0.07,0.07,0.13,0.13,0.01,0.23,0.0,0.0,0.09,0.0,0.15,0.09,0.13,0.09,0.0,0.13,0.03,0.15,0.04,0.07,0.0,0.03,0.02,0.02,0.09,0.06,0.16,0.16,0.13,0.0,0.12,0.03,0.09,0.0,0.13,0.13,0.07,0.13,0.02,0.02,0.15,0.03,0.03,0.07,0.03,0.11,0.02,0.17,0.01,0.11,0.0,0.06,0.02,0.13,0.09,0.13,0.03,0.02,0.34,0.13,0.15,0.07,0.0,0.03,0.01,0.0,0.18,0.01,0.02,0.02,0.13,0.21,0.07,0.15,0.0,0.02,0.13,0.09,0.17,0.07,0.1,0.02,0.25,0.0,0.0,0.02,0.12,0.03,0.04,0.13,0.13,0.01,0.14,0.07,0.18,0.13,0.0,0.15,0.14,0.11,0.13,0.14,0.04,0.1,0.08,0.07,0.13,0.09,0.04,0.29,0.0,0.01,0.12,0.18,0.13,0.0,0.0,0.15,0.15,0.14,0.3,0.05,0.09,0.07,0.01,0.07,0.07,0.02,0.0,0.0,0.1,0.07,0.13,0.0,0.13,0.07,0.0,0.0,0.0,0.13,0.07,0.25,0.15,0.13,0.09,0.09,0.13,0.0,0.13,0.08,0.0,0.0,0.13,0.0,0.0,0.13,0.18,0.13,0.06,0.11,0.03,0.06,0.09,0.04,0.18,0.0,0.06,0.0,0.12,0.12,0.07,0.04,0.04,0.08,0.0,0.0,0.12,0.07,0.01,0.14,0.28,0.13,0.13,0.01,0.16,0.15,0.07,0.03,0.0,0.1,0.0,0.09,0.0,0.17,0.12,0.09,0.17,0.0,0.0,0.12,0.11,0.08,0.07,0.0,0.16,0.04,0.0,0.01,0.11,0.16,0.05,0.03,0.0,0.11,0.07,0.08,0.02,0.0,0.15,0.07,0.0,0.02,0.09,0.0,0.04,0.01,0.0,0.07,0.12,0.1,0.15,0.05,0.14,0.0,0.06,0.01,0.09,0.12,0.0,0.16,0.12,0.12,0.08,0.04,0.14,0.0,0.11,0.0,0.08,0.01,0.02,0.0,0.11,0.04,0.12,0.02,0.12,0.03,0.15,0.0,0.13,0.08,0.0,0.27,0.02,0.13,0.03,0.0,0.04,0.12,0.16,0.02,0.07,0.14,0.0,0.06,0.26,0.12,0.24,0.11,0.0,0.12,0.05,0.0,0.14,0.06,0.12,0.04,0.12,0.0,0.24,0.08,0.12,0.28,0.12,0.02,0.12,0.12,0.03,0.12,0.3,0.0,0.0,0.0,0.12,0.0,0.08,0.0,0.12,0.12,0.12,0.15,0.08,0.02,0.02,0.12,0.0,0.14,0.18,0.07,0.02,0.0,0.0,0.0,0.08,0.12,0.0,0.0,0.0,0.07,0.08,0.0,0.01,0.0,0.07,0.12,0.01,0.0,0.12,0.06,0.15,0.06,0.04,0.12,0.02,0.12,0.0,0.04,0.04,0.0,0.08,0.12,0.17,0.0,0.17,0.11,0.14,0.19,0.18,0.12,0.0,0.07,0.0,0.12,0.0,0.04,0.0,0.0,0.08,0.15,0.0,0.15,0.0,0.0,0.12,0.01,0.01,0.07,0.12,0.01,0.03,0.04,0.0,0.1,0.0,0.19,0.12,0.12,0.07,0.07,0.07,0.01,0.07,0.12,0.0,0.13,0.09,0.2,0.06,0.0,0.0,0.0,0.12,0.07,0.08,0.0,0.01,0.0,0.04,0.0,0.02,0.06,0.06,0.06,0.0,0.29,0.0,0.05,0.1,0.0,0.0,0.1,0.0,0.0,0.04,0.07,0.02,0.08,0.11,0.02,0.12,0.04,0.0,0.12,0.0,0.0,0.05,0.0,0.12,0.05,0.0,0.0,0.13,0.06,0.0,0.12,0.17,0.12,0.12,0.0,0.07,0.12,0.12,0.12,0.02,0.0,0.02,0.12,0.12,0.05,0.01,0.04,0.0,0.06,0.12,0.06,0.13,0.07,0.12,0.0,0.12,0.12,0.0,0.0,0.12,0.1,0.01,0.08,0.08,0.0,0.07,0.08,0.12,0.13,0.0,0.0,0.12,0.0,0.04,0.08,0.12,0.0,0.03,0.04,0.02,0.12,0.0,0.25,0.03,0.12,0.04,0.06,0.08,0.12,0.1,0.0,0.0,0.09,0.08,0.12,0.0,0.0,0.0,0.11,0.16,0.12,0.23,0.11,0.0,0.02,0.03,0.0,0.0,0.0,0.0,0.24,0.06,0.07,0.13,0.0,0.06,0.01,0.11,0.05,0.02,0.04,0.0,0.0,0.16,0.11,0.0,0.06,0.06,0.0,0.08,0.12,0.04,0.08,0.0,0.0,0.11,0.08,0.0,0.03,0.03,0.11,0.23,0.06,0.11,0.07,0.0,0.04,0.12,0.02,0.0,0.05,0.02,0.27,0.0,0.0,0.19,0.11,0.0,0.01,0.07,0.24,0.0,0.0,0.07,0.13,0.11,0.0,0.0,0.14,0.01,0.0,0.09,0.0,0.0,0.0,0.0,0.1,0.08,0.08,0.07,0.11,0.1,0.0,0.0,0.06,0.0,0.11,0.06,0.01,0.14,0.26,0.06,0.03,0.06,0.13,0.06,0.0,0.02,0.0,0.11,0.01,0.07,0.06,0.14,0.1,0.01,0.01,0.21,0.1,0.08,0.0,0.02,0.12,0.0,0.09,0.0,0.06,0.16,0.08,0.11,0.02,0.07,0.0,0.03,0.1,0.03,0.14,0.06,0.11,0.22,0.11,0.02,0.0,0.16,0.0,0.12,0.0,0.0,0.11,0.0,0.1,0.1,0.11,0.0,0.03,0.13,0.0,0.05,0.02,0.0,0.06,0.04,0.08,0.05,0.0,0.12,0.11,0.11,0.13,0.11,0.01,0.2,0.02,0.0,0.06,0.06,0.06,0.06,0.05,0.06,0.06,0.06,0.03,0.23,0.25,0.08,0.11,0.04,0.11,0.07,0.06,0.1,0.09,0.06,0.09,0.0,0.06,0.0,0.06,0.15,0.09,0.06,0.11,0.13,0.0,0.17,0.0,0.0,0.11,0.0,0.05,0.05,0.0,0.1,0.0,0.12,0.0,0.15,0.01,0.11,0.0,0.0,0.15,0.11,0.0,0.11,0.0,0.02,0.11,0.0,0.11,0.0,0.11,0.12,0.0,0.0,0.0,0.0,0.12,0.0,0.0,0.07,0.12,0.06,0.0,0.0,0.06,0.11,0.0,0.0,0.0,0.08,0.03,0.1,0.18,0.0,0.21,0.14,0.11,0.11,0.06,0.11,0.0,0.08,0.08,0.0,0.0,0.01,0.0,0.11,0.11,0.06,0.1,0.07,0.02,0.08,0.11,0.06,0.08,0.08,0.11,0.07,0.0,0.06,0.0,0.08,0.17,0.16,0.0,0.06,0.0,0.01,0.11,0.08,0.02,0.0,0.02,0.11,0.01,0.1,0.12,0.11,0.12,0.11,0.05,0.06,0.0,0.02,0.06,0.07,0.06,0.0,0.0,0.0,0.11,0.0,0.0,0.02,0.07,0.0,0.23,0.11,0.0,0.11,0.11,0.06,0.14,0.11,0.0,0.0,0.07,0.1,0.12,0.0,0.1,0.08,0.11,0.03,0.07,0.06,0.11,0.12,0.11,0.01,0.06,0.09,0.06,0.11,0.07,0.0,0.11,0.06,0.06,0.02,0.0,0.13,0.21,0.11,0.22,0.11,0.11,0.03,0.06,0.01,0.11,0.01,0.02,0.04,0.0,0.04,0.0,0.11,0.09,0.0,0.06,0.1,0.01,0.0,0.11,0.0,0.0,0.11,0.0,0.0,0.0,0.01,0.16,0.06,0.0,0.0,0.1,0.1,0.11,0.06,0.11,0.11,0.07,0.04,0.09,0.0,0.11,0.07,0.03,0.19,0.0,0.04,0.0,0.0,0.0,0.07,0.1,0.0,0.0,0.11,0.0,0.1,0.02,0.2,0.0,0.06,0.06,0.0,0.06,0.07,0.0,0.06,0.07,0.11,0.01,0.0,0.1,0.06,0.1,0.01,0.0,0.01,0.01,0.1,0.02,0.1,0.1,0.12,0.12,0.0,0.03,0.0,0.01,0.17,0.16,0.1,0.1,0.0,0.0,0.1,0.1,0.05,0.0,0.1,0.0,0.07,0.1,0.07,0.1,0.04,0.01,0.01,0.02,0.02,0.01,0.11,0.16,0.08,0.0,0.1,0.07,0.08,0.05,0.15,0.05,0.0,0.0,0.07,0.0,0.1,0.14,0.06,0.01,0.1,0.04,0.06,0.0,0.13,0.02,0.0,0.02,0.08,0.05,0.11,0.1,0.0,0.01,0.1,0.12,0.19,0.1,0.06,0.07,0.05,0.12,0.04,0.0,0.0,0.12,0.0,0.03,0.11,0.0,0.0,0.0,0.0,0.0,0.1,0.05,0.08,0.06,0.09,0.1,0.0,0.0,0.0,0.21,0.07,0.0,0.02,0.03,0.01,0.1,0.1,0.11,0.0,0.0,0.05,0.0,0.09,0.08,0.0,0.0,0.1,0.0,0.1,0.06,0.0,0.0,0.1,0.06,0.0,0.14,0.09,0.05,0.0,0.04,0.11,0.1,0.0,0.0,0.1,0.1,0.06,0.0,0.02,0.1,0.0,0.07,0.0,0.0,0.07,0.09,0.05,0.0,0.0,0.0,0.08,0.1,0.1,0.04,0.06,0.04,0.06,0.0,0.0,0.09,0.0,0.0,0.07,0.18,0.01,0.02,0.04,0.0,0.0,0.03,0.0,0.02,0.1,0.05,0.0,0.0,0.06,0.07,0.0,0.03,0.1,0.1,0.1,0.19,0.18,0.1,0.0,0.0,0.1,0.07,0.07,0.0,0.06,0.16,0.02,0.0,0.0,0.0,0.0,0.1,0.03,0.08,0.0,0.0,0.07,0.0,0.0,0.01,0.07,0.0,0.07,0.1,0.1,0.06,0.2,0.0,0.05,0.1,0.0,0.0,0.0,0.09,0.24,0.2,0.0,0.0,0.1,0.05,0.0,0.0,0.0,0.1,0.05,0.07,0.01,0.03,0.0,0.04,0.0,0.0,0.05,0.05,0.05,0.05,0.1,0.05,0.1,0.07,0.0,0.0,0.1,0.07,0.06,0.05,0.14,0.01,0.01,0.0,0.03,0.09,0.06,0.15,0.08,0.08,0.1,0.1,0.05,0.0,0.0,0.01,0.0,0.15,0.04,0.0,0.03,0.0,0.0,0.07,0.0,0.07,0.06,0.15,0.1,0.1,0.15,0.0,0.06,0.11,0.1,0.03,0.0,0.06,0.0,0.0,0.08,0.05,0.01,0.07,0.05,0.0,0.01,0.01,0.0,0.0,0.07,0.11,0.0,0.05,0.06,0.21,0.1,0.21,0.1,0.13,0.1,0.25,0.0,0.06,0.0,0.1,0.01,0.0,0.06,0.05,0.07,0.05,0.0,0.06,0.0,0.01,0.1,0.01,0.0,0.1,0.15,0.12,0.01,0.04,0.0,0.1,0.0,0.1,0.04,0.09,0.07,0.0,0.05,0.04,0.0,0.0,0.11,0.05,0.1,0.05,0.02,0.1,0.07,0.0,0.0,0.05,0.1,0.01,0.04,0.1,0.1,0.02,0.09,0.07,0.07,0.09,0.1,0.1,0.14,0.1,0.01,0.0,0.1,0.23,0.05,0.04,0.05,0.01,0.05,0.07,0.0,0.0,0.1,0.05,0.13,0.0,0.02,0.07,0.05,0.05,0.09,0.08,0.0,0.0,0.02,0.08,0.04,0.02,0.05,0.05,0.05,0.13,0.05,0.02,0.05,0.14,0.21,0.1,0.05,0.1,0.0,0.05,0.09,0.07,0.1,0.01,0.0,0.13,0.0,0.17,0.05,0.04,0.02,0.01,0.03,0.03,0.09,0.03,0.07,0.0,0.08,0.09,0.04,0.0,0.05,0.09,0.0,0.11,0.09,0.06,0.01,0.05,0.09,0.13,0.01,0.09,0.0,0.01,0.09,0.01,0.09,0.05,0.09,0.09,0.04,0.22,0.09,0.16,0.0,0.12,0.04,0.16,0.09,0.03,0.05,0.11,0.09,0.0,0.01,0.07,0.0,0.05,0.07,0.14,0.01,0.05,0.19,0.14,0.04,0.03,0.09,0.1,0.09,0.0,0.09,0.07,0.06,0.0,0.01,0.09,0.1,0.16,0.0,0.0,0.02,0.0,0.09,0.1,0.03,0.09,0.0,0.09,0.06,0.07,0.0,0.03,0.1,0.0,0.02,0.09,0.0,0.09,0.06,0.0,0.05,0.0,0.09,0.0,0.19,0.08,0.0,0.12,0.09,0.01,0.05,0.04,0.06,0.03,0.09,0.13,0.09,0.05,0.0,0.01,0.07,0.02,0.01,0.15,0.12,0.0,0.0,0.02,0.05,0.05,0.04,0.09,0.05,0.05,0.09,0.19,0.05,0.01,0.0,0.0,0.0,0.05,0.06,0.21,0.0,0.05,0.0,0.05,0.05,0.0,0.11,0.0,0.06,0.09,0.0,0.09,0.0,0.05,0.0,0.02,0.0,0.03,0.03,0.01,0.05,0.05,0.05,0.05,0.05,0.05,0.02,0.09,0.0,0.1,0.05,0.09,0.05,0.23,0.0,0.06,0.0,0.0,0.08,0.0,0.09,0.0,0.06,0.13,0.07,0.05,0.09,0.14,0.04,0.01,0.0,0.05,0.06,0.08,0.05,0.09,0.0,0.14,0.06,0.06,0.03,0.24,0.06,0.1,0.02,0.09,0.09,0.09,0.07,0.0,0.18,0.14,0.0,0.1,0.06,0.09,0.02,0.06,0.09,0.0,0.05,0.1,0.11,0.21,0.09,0.05,0.01,0.05,0.06,0.0,0.0,0.09,0.01,0.01,0.1,0.05,0.12,0.0,0.0,0.06,0.01,0.09,0.07,0.06,0.09,0.08,0.05,0.03,0.09,0.0,0.09,0.09,0.06,0.0,0.01,0.0,0.09,0.21,0.22,0.12,0.0,0.09,0.0,0.05,0.05,0.11,0.04,0.05,0.05,0.09,0.0,0.01,0.1,0.05,0.02,0.0,0.03,0.0,0.02,0.06,0.13,0.02,0.13,0.05,0.19,0.09,0.05,0.0,0.0,0.07,0.06,0.09,0.0,0.0,0.09,0.0,0.01,0.0,0.01,0.01,0.1,0.05,0.05,0.02,0.0,0.1,0.09,0.0,0.01,0.05,0.06,0.09,0.05,0.09,0.0,0.0,0.05,0.0,0.11,0.02,0.01,0.02,0.01,0.09,0.09,0.0,0.06,0.16,0.09,0.09,0.12,0.03,0.06,0.08,0.0,0.06,0.06,0.05,0.0,0.09,0.0,0.13,0.09,0.22,0.05,0.07,0.12,0.09,0.0,0.06,0.04,0.02,0.19,0.0,0.02,0.01,0.0,0.01,0.0,0.0,0.0,0.09,0.06,0.0,0.09,0.14,0.0,0.0,0.09,0.06,0.0,0.0,0.0,0.01,0.09,0.06,0.0,0.0,0.05,0.0,0.05,0.1,0.09,0.05,0.09,0.0,0.09,0.0,0.09,0.0,0.05,0.09,0.09,0.03,0.03,0.04,0.0,0.04,0.05,0.0,0.09,0.01,0.01,0.0,0.0,0.09,0.01,0.09,0.0,0.09,0.1,0.07,0.0,0.0,0.09,0.0,0.0,0.05,0.0,0.09,0.09,0.09,0.0,0.0,0.0,0.0,0.09,0.09,0.01,0.01,0.0,0.0,0.03,0.05,0.0,0.09,0.04,0.06,0.09,0.0,0.04,0.01,0.01,0.01,0.0,0.03,0.0,0.06,0.0,0.0,0.05,0.09,0.09,0.0,0.07,0.0,0.06,0.0,0.04,0.01,0.0,0.0,0.0,0.04,0.0,0.09,0.04,0.06,0.06,0.0,0.13,0.0,0.02,0.08,0.17,0.04,0.07,0.01,0.0,0.08,0.02,0.08,0.01,0.02,0.0,0.06,0.0,0.0,0.07,0.01,0.0,0.06,0.13,0.1,0.12,0.13,0.02,0.01,0.01,0.08,0.08,0.08,0.04,0.08,0.1,0.14,0.06,0.0,0.09,0.06,0.1,0.05,0.0,0.04,0.09,0.04,0.03,0.0,0.04,0.04,0.0,0.03,0.04,0.0,0.0,0.08,0.18,0.08,0.0,0.0,0.02,0.05,0.09,0.08,0.03,0.05,0.07,0.03,0.0,0.04,0.08,0.08,0.0,0.01,0.06,0.09,0.08,0.0,0.04,0.0,0.08,0.0,0.01,0.08,0.0,0.0,0.01,0.07,0.08,0.19,0.04,0.08,0.06,0.02,0.0,0.06,0.0,0.0,0.08,0.0,0.0,0.04,0.1,0.08,0.0,0.06,0.0,0.0,0.08,0.08,0.06,0.01,0.05,0.13,0.05,0.04,0.0,0.06,0.2,0.06,0.04,0.13,0.01,0.0,0.07,0.07,0.08,0.03,0.19,0.0,0.02,0.13,0.04,0.1,0.08,0.08,0.0,0.08,0.03,0.0,0.09,0.08,0.08,0.16,0.04,0.08,0.0,0.08,0.0,0.04,0.0,0.0,0.0,0.02,0.0,0.19,0.0,0.08,0.02,0.08,0.0,0.07,0.02,0.04,0.08,0.07,0.08,0.08,0.0,0.08,0.0,0.0,0.06,0.05,0.0,0.08,0.01,0.07,0.01,0.05,0.06,0.07,0.0,0.05,0.05,0.08,0.12,0.08,0.0,0.11,0.01,0.01,0.01,0.18,0.03,0.08,0.03,0.07,0.01,0.08,0.08,0.08,0.0,0.05,0.0,0.1,0.0,0.07,0.03,0.02,0.01,0.05,0.08,0.05,0.05,0.05,0.01,0.0,0.0,0.08,0.04,0.0,0.0,0.0,0.08,0.08,0.07,0.0,0.05,0.04,0.0,0.0,0.04,0.04,0.04,0.04,0.04,0.04,0.07,0.0,0.0,0.14,0.0,0.04,0.15,0.08,0.08,0.0,0.0,0.0,0.05,0.08,0.04,0.08,0.08,0.0,0.04,0.04,0.0,0.06,0.04,0.0,0.04,0.04,0.07,0.04,0.01,0.08,0.08,0.08,0.0,0.0,0.08,0.13,0.12,0.0,0.0,0.0,0.0,0.0,0.08,0.08,0.0,0.04,0.07,0.0,0.0,0.0,0.0,0.08,0.0,0.0,0.0,0.03,0.0,0.04,0.0,0.03,0.06,0.04,0.04,0.0,0.03,0.08,0.04,0.0,0.1,0.08,0.02,0.04,0.1,0.0,0.04,0.05,0.07,0.0,0.04,0.06,0.0,0.0,0.05,0.0,0.01,0.05,0.07,0.0,0.0,0.0,0.11,0.02,0.08,0.03,0.0,0.08,0.04,0.02,0.0,0.08,0.04,0.0,0.02,0.09,0.05,0.04,0.03,0.0,0.0,0.04,0.02,0.17,0.04,0.0,0.09,0.05,0.08,0.0,0.0,0.05,0.05,0.19,0.08,0.08,0.0,0.05,0.08,0.2,0.02,0.0,0.05,0.19,0.08,0.04,0.0,0.0,0.04,0.03,0.02,0.04,0.08,0.03,0.0,0.08,0.05,0.07,0.1,0.15,0.08,0.02,0.0,0.03,0.01,0.05,0.07,0.0,0.04,0.04,0.0,0.06,0.0,0.04,0.05,0.0,0.04,0.0,0.0,0.04,0.0,0.08,0.05,0.04,0.02,0.08,0.0,0.0,0.0,0.07,0.08,0.08,0.0,0.05,0.08,0.04,0.04,0.08,0.0,0.04,0.11,0.09,0.08,0.04,0.06,0.12,0.08,0.04,0.04,0.0,0.13,0.02,0.04,0.04,0.04,0.04,0.04,0.0,0.04,0.0,0.04,0.0,0.04,0.0,0.03,0.0,0.08,0.0,0.05,0.08,0.02,0.0,0.04,0.17,0.09,0.1,0.08,0.04,0.0,0.02,0.04,0.0,0.15,0.0,0.04,0.11,0.05,0.08,0.0,0.01,0.0,0.06,0.13,0.04,0.04,0.0,0.08,0.2,0.01,0.08,0.02,0.08,0.0,0.04,0.0,0.0,0.0,0.04,0.0,0.06,0.01,0.0,0.08,0.0,0.01,0.07,0.1,0.01,0.04,0.0,0.09,0.08,0.0,0.0,0.08,0.0,0.08,0.0,0.0,0.05,0.08,0.0,0.0,0.0,0.0,0.0,0.02,0.05,0.05,0.01,0.04,0.04,0.07,0.05,0.13,0.03,0.0,0.0,0.04,0.0,0.04,0.05,0.0,0.03,0.11,0.0,0.07,0.0,0.0,0.07,0.17,0.0,0.03,0.12,0.07,0.05,0.07,0.05,0.0,0.13,0.0,0.0,0.12,0.04,0.07,0.05,0.06,0.03,0.11,0.0,0.06,0.08,0.09,0.07,0.04,0.07,0.0,0.0,0.0,0.03,0.0,0.0,0.05,0.01,0.0,0.17,0.04,0.0,0.02,0.05,0.0,0.0,0.13,0.0,0.04,0.09,0.04,0.07,0.06,0.04,0.0,0.07,0.02,0.01,0.01,0.03,0.0,0.16,0.0,0.11,0.11,0.0,0.01,0.07,0.0,0.03,0.02,0.0,0.0,0.07,0.0,0.07,0.15,0.02,0.06,0.04,0.09,0.0,0.1,0.02,0.0,0.02,0.01,0.07,0.07,0.04,0.0,0.0,0.03,0.07,0.0,0.01,0.07,0.0,0.02,0.07,0.05,0.0,0.0,0.07,0.13,0.07,0.0,0.0,0.07,0.07,0.07,0.02,0.03,0.09,0.01,0.0,0.07,0.07,0.07,0.03,0.07,0.0,0.03,0.0,0.05,0.04,0.0,0.05,0.07,0.11,0.0,0.05,0.04,0.09,0.03,0.0,0.02,0.04,0.04,0.04,0.0,0.0,0.04,0.04,0.0,0.0,0.0,0.0,0.04,0.04,0.06,0.07,0.07,0.05,0.0,0.07,0.06,0.0,0.0,0.05,0.0,0.07,0.05,0.07,0.01,0.0,0.0,0.06,0.05,0.04,0.16,0.05,0.03,0.07,0.07,0.0,0.07,0.0,0.07,0.18,0.12,0.04,0.01,0.0,0.0,0.0,0.0,0.07,0.0,0.0,0.04,0.0,0.0,0.0,0.01,0.0,0.0,0.05,0.07,0.08,0.01,0.16,0.0,0.07,0.01,0.0,0.07,0.0,0.15,0.0,0.0,0.16,0.0,0.17,0.0,0.05,0.16,0.0,0.0,0.0,0.0,0.05,0.05,0.0,0.03,0.07,0.0,0.13,0.0,0.0,0.0,0.07,0.0,0.05,0.07,0.0,0.07,0.0,0.07,0.0,0.07,0.05,0.11,0.03,0.07,0.02,0.0,0.0,0.04,0.0,0.0,0.04,0.03,0.0,0.03,0.07,0.0,0.0,0.07,0.0,0.07,0.0,0.05,0.02,0.04,0.0,0.07,0.03,0.0,0.04,0.07,0.0,0.09,0.11,0.0,0.07,0.11,0.06,0.0,0.09,0.07,0.05,0.04,0.0,0.07,0.04,0.11,0.04,0.0,0.07,0.02,0.01,0.07,0.0,0.0,0.04,0.0,0.03,0.07,0.02,0.04,0.02,0.07,0.0,0.1,0.0,0.03,0.06,0.11,0.07,0.14,0.05,0.0,0.01,0.0,0.07,0.08,0.15,0.09,0.04,0.04,0.0,0.04,0.07,0.04,0.07,0.0,0.0,0.0,0.07,0.09,0.05,0.0,0.1,0.01,0.0,0.06,0.0,0.0,0.02,0.08,0.04,0.0,0.16,0.01,0.01,0.04,0.16,0.06,0.12,0.04,0.03,0.06,0.0,0.05,0.0,0.0,0.03,0.0,0.0,0.06,0.0,0.0,0.0,0.03,0.04,0.07,0.0,0.07,0.07,0.0,0.14,0.12,0.04,0.04,0.04,0.04,0.0,0.0,0.04,0.0,0.04,0.04,0.1,0.02,0.15,0.05,0.02,0.0,0.07,0.04,0.06,0.03,0.08,0.08,0.0,0.04,0.0,0.04,0.16,0.0,0.0,0.07,0.07,0.1,0.05,0.06,0.09,0.05,0.07,0.04,0.13,0.04,0.0,0.07,0.1,0.0,0.02,0.08,0.04,0.03,0.09,0.07,0.0,0.07,0.0,0.04,0.0,0.07,0.07,0.02,0.07,0.0,0.07,0.07,0.04,0.04,0.04,0.04,0.05,0.0,0.03,0.02,0.0,0.0,0.0,0.04,0.05,0.05,0.0,0.0,0.0,0.07,0.09,0.07,0.0,0.07,0.05,0.04,0.0,0.05,0.0,0.0,0.13,0.07,0.07,0.0,0.13,0.0,0.05,0.04,0.05,0.0,0.0,0.04,0.04,0.0,0.03,0.04,0.02,0.02,0.07,0.02,0.02,0.07,0.04,0.16,0.07,0.0,0.07,0.02,0.08,0.0,0.05,0.14,0.09,0.07,0.1,0.0,0.07,0.05,0.02,0.05,0.04,0.07,0.03,0.07,0.03,0.02,0.04,0.05,0.0,0.07,0.02,0.05,0.0,0.0,0.03,0.0,0.0,0.07,0.07,0.0,0.03,0.04,0.0,0.08,0.0,0.07,0.0,0.0,0.0,0.07,0.03,0.0,0.0,0.0,0.03,0.08,0.01,0.01,0.03,0.04,0.06,0.0,0.07,0.05,0.07,0.04,0.07,0.03,0.03,0.07,0.0,0.0,0.0,0.0,0.04,0.0,0.0,0.01,0.04,0.04,0.08,0.07,0.07,0.05,0.0,0.07,0.07,0.0,0.12,0.04,0.07,0.0,0.04,0.01,0.07,0.0,0.07,0.0,0.0,0.0,0.0,0.03,0.05,0.0,0.0,0.0,0.07,0.0,0.04,0.12,0.02,0.03,0.0,0.04,0.0,0.0,0.12,0.04,0.15,0.0,0.03,0.05,0.07,0.06,0.0,0.0,0.02,0.07,0.09,0.0,0.03,0.01,0.05,0.04,0.01,0.05,0.03,0.06,0.0,0.06,0.0,0.04,0.12,0.0,0.02,0.0,0.04,0.04,0.0,0.0,0.0,0.0,0.04,0.06,0.06,0.01,0.06,0.03,0.0,0.06,0.07,0.02,0.0,0.06,0.06,0.03,0.06,0.0,0.12,0.03,0.0,0.05,0.04,0.0,0.03,0.0,0.06,0.04,0.06,0.06,0.03,0.04,0.0,0.06,0.01,0.06,0.06,0.02,0.01,0.06,0.0,0.0,0.03,0.16,0.01,0.0,0.0,0.07,0.0,0.06,0.04,0.02,0.04,0.01,0.04,0.07,0.0,0.02,0.13,0.03,0.04,0.04,0.0,0.0,0.01,0.0,0.11,0.0,0.0,0.07,0.04,0.0,0.0,0.01,0.04,0.06,0.03,0.04,0.04,0.02,0.02,0.06,0.01,0.0,0.07,0.0,0.04,0.0,0.0,0.0,0.0,0.0,0.13,0.02,0.04,0.04,0.0,0.01,0.01,0.01,0.01,0.0,0.02,0.03,0.06,0.0,0.02,0.0,0.0,0.06,0.0,0.06,0.0,0.04,0.04,0.0,0.01,0.06,0.06,0.02,0.02,0.08,0.03,0.06,0.03,0.0,0.05,0.06,0.04,0.05,0.0,0.0,0.06,0.14,0.03,0.0,0.06,0.0,0.04,0.06,0.03,0.04,0.0,0.01,0.04,0.04,0.06,0.05,0.0,0.0,0.0,0.04,0.0,0.03,0.06,0.01,0.04,0.0,0.03,0.03,0.0,0.0,0.06,0.03,0.02,0.06,0.0,0.1,0.04,0.0,0.0,0.03,0.03,0.0,0.02,0.0,0.03,0.06,0.06,0.01,0.0,0.0,0.06,0.06,0.02,0.0,0.06,0.0,0.0,0.03,0.06,0.03,0.0,0.06,0.0,0.03,0.02,0.0,0.0,0.0,0.06,0.0,0.04,0.06,0.0,0.01,0.06,0.0,0.03,0.0,0.01,0.14,0.07,0.0,0.0,0.0,0.0,0.0,0.05,0.04,0.0,0.03,0.03,0.03,0.0,0.03,0.03,0.03,0.03,0.03,0.03,0.03,0.0,0.0,0.15,0.02,0.0,0.03,0.15,0.0,0.06,0.04,0.0,0.03,0.01,0.0,0.0,0.06,0.01,0.01,0.1,0.0,0.05,0.07,0.06,0.0,0.07,0.0,0.05,0.0,0.0,0.02,0.01,0.06,0.0,0.06,0.0,0.05,0.06,0.0,0.02,0.14,0.0,0.0,0.0,0.03,0.02,0.09,0.03,0.0,0.03,0.04,0.0,0.01,0.0,0.01,0.07,0.0,0.04,0.0,0.0,0.0,0.13,0.0,0.09,0.04,0.03,0.0,0.0,0.0,0.06,0.04,0.01,0.06,0.0,0.03,0.0,0.0,0.0,0.03,0.01,0.04,0.0,0.0,0.0,0.01,0.0,0.13,0.0,0.04,0.0,0.02,0.04,0.03,0.06,0.02,0.03,0.05,0.03,0.0,0.0,0.06,0.06,0.0,0.01,0.0,0.0,0.06,0.1,0.06,0.0,0.0,0.0,0.06,0.0,0.0,0.02,0.0,0.04,0.01,0.07,0.06,0.06,0.09,0.01,0.04,0.06,0.01,0.06,0.02,0.0,0.04,0.0,0.02,0.06,0.08,0.04,0.06,0.02,0.07,0.05,0.0,0.06,0.01,0.0,0.01,0.03,0.06,0.0,0.0,0.06,0.03,0.03,0.01,0.06,0.03,0.13,0.02,0.03,0.03,0.03,0.01,0.14,0.06,0.06,0.01,0.06,0.01,0.01,0.0,0.01,0.0,0.09,0.03,0.02,0.06,0.01,0.03,0.07,0.03,0.0,0.03,0.06,0.0,0.01,0.06,0.06,0.06,0.01,0.0,0.03,0.01,0.0,0.01,0.0,0.03,0.0,0.02,0.0,0.02,0.03,0.01,0.06,0.02,0.14,0.0,0.04,0.04,0.0,0.0,0.02,0.06,0.0,0.06,0.02,0.01,0.03,0.0,0.0,0.0,0.0,0.04,0.0,0.03,0.03,0.03,0.0,0.03,0.0,0.04,0.02,0.08,0.05,0.03,0.0,0.06,0.0,0.03,0.0,0.0,0.03,0.06,0.0,0.0,0.06,0.04,0.01,0.0,0.06,0.06,0.0,0.06,0.09,0.13,0.07,0.0,0.03,0.06,0.0,0.03,0.0,0.04,0.0,0.04,0.0,0.04,0.06,0.06,0.05,0.0,0.0,0.03,0.03,0.0,0.03,0.0,0.0,0.06,0.03,0.03,0.03,0.01,0.08,0.0,0.0,0.03,0.0,0.02,0.03,0.0,0.06,0.03,0.0,0.01,0.0,0.06,0.04,0.03,0.0,0.0,0.04,0.0,0.06,0.03,0.01,0.03,0.06,0.06,0.0,0.04,0.0,0.0,0.0,0.05,0.0,0.0,0.0,0.0,0.0,0.0,0.0,0.01,0.0,0.0,0.06,0.03,0.06,0.03,0.03,0.0,0.0,0.04,0.0,0.02,0.03,0.11,0.03,0.01,0.06,0.0,0.0,0.02,0.03,0.06,0.0,0.08,0.06,0.0,0.06,0.03,0.0,0.0,0.0,0.0,0.06,0.03,0.0,0.0,0.08,0.04,0.04,0.08,0.06,0.0,0.03,0.0,0.0,0.13,0.0,0.0,0.04,0.02,0.0,0.06,0.04,0.03,0.06,0.02,0.03,0.0,0.0,0.06,0.0,0.0,0.06,0.06,0.0,0.0,0.04,0.04,0.0,0.0,0.0,0.03,0.0,0.03,0.13,0.04,0.0,0.03,0.0,0.03,0.0,0.06,0.01,0.06,0.06,0.0,0.03,0.0,0.03,0.0,0.0,0.05,0.0,0.03,0.03,0.05,0.06,0.06,0.0,0.0,0.04,0.06,0.05,0.05,0.0,0.0,0.02,0.0,0.06,0.0,0.03,0.0,0.05,0.0,0.0,0.03,0.05,0.05,0.04,0.02,0.12,0.0,0.11,0.05,0.04,0.0,0.05,0.01,0.05,0.05,0.03,0.12,0.05,0.0,0.02,0.0,0.04,0.0,0.05,0.0,0.1,0.08,0.0,0.0,0.0,0.03,0.03,0.11,0.0,0.0,0.0,0.1,0.0,0.05,0.01,0.0,0.0,0.05,0.0,0.0,0.03,0.1,0.03,0.03,0.0,0.03,0.0,0.0,0.0,0.0,0.04,0.0,0.03,0.05,0.05,0.0,0.03,0.0,0.0,0.03,0.0,0.01,0.01,0.05,0.0,0.04,0.0,0.03,0.0,0.05,0.05,0.01,0.0,0.11,0.02,0.04,0.05,0.05,0.0,0.0,0.03,0.0,0.06,0.0,0.03,0.03,0.05,0.05,0.0,0.05,0.0,0.12,0.0,0.05,0.0,0.05,0.05,0.02,0.0,0.03,0.0,0.11,0.05,0.02,0.02,0.05,0.05,0.0,0.02,0.07,0.1,0.05,0.11,0.05,0.0,0.0,0.03,0.03,0.03,0.03,0.03,0.05,0.01,0.0,0.0,0.05,0.12,0.01,0.03,0.0,0.0,0.05,0.05,0.03,0.05,0.0,0.0,0.0,0.01,0.0,0.03,0.01,0.01,0.05,0.05,0.04,0.0,0.01,0.12,0.0,0.05,0.04,0.0,0.03,0.03,0.05,0.0,0.03,0.02,0.02,0.03,0.0,0.05,0.0,0.03,0.03,0.0,0.05,0.04,0.03,0.0,0.03,0.05,0.03,0.0,0.06,0.0,0.0,0.03,0.0,0.05,0.0,0.04,0.01,0.0,0.0,0.0,0.0,0.0,0.0,0.01,0.04,0.01,0.04,0.0,0.13,0.1,0.0,0.03,0.03,0.0,0.03,0.03,0.0,0.0,0.0,0.0,0.0,0.0,0.0,0.0,0.01,0.0,0.0,0.0,0.09,0.0,0.02,0.02,0.0,0.0,0.02,0.0,0.0,0.03,0.02,0.03,0.03,0.02,0.12,0.1,0.04,0.01,0.01,0.0,0.01,0.1,0.04,0.04,0.01,0.0,0.0,0.0,0.04,0.0,0.03,0.0,0.0,0.01,0.01,0.0,0.05,0.04,0.0,0.1,0.0,0.03,0.0,0.05,0.05,0.0,0.02,0.03,0.0,0.04,0.05,0.02,0.0,0.02,0.13,0.03,0.02,0.0,0.05,0.05,0.04,0.0,0.0,0.1,0.07,0.03,0.01,0.01,0.01,0.05,0.03,0.04,0.0,0.03,0.03,0.0,0.0,0.0,0.0,0.0,0.03,0.03,0.12,0.05,0.0,0.04,0.0,0.0,0.05,0.05,0.0,0.0,0.01,0.0,0.04,0.0,0.05,0.07,0.0,0.05,0.0,0.03,0.0,0.04,0.05,0.0,0.01,0.0,0.0,0.0,0.04,0.03,0.04,0.0,0.06,0.0,0.05,0.03,0.02,0.03,0.12,0.04,0.0,0.05,0.0,0.0,0.05,0.01,0.0,0.05,0.0,0.0,0.0,0.05,0.0,0.05,0.05,0.03,0.01,0.05,0.03,0.05,0.03,0.09,0.05,0.05,0.0,0.05,0.0,0.03,0.0,0.0,0.03,0.0,0.0,0.05,0.04,0.03,0.05,0.01,0.0,0.0,0.0,0.0,0.0,0.04,0.0,0.0,0.02,0.03,0.05,0.04,0.0,0.01,0.04,0.0,0.03,0.05,0.05,0.02,0.05,0.0,0.05,0.0,0.0,0.03,0.05,0.02,0.0,0.0,0.12,0.03,0.0,0.0,0.0,0.0,0.0,0.09,0.08,0.0,0.09,0.04,0.05,0.03,0.0,0.03,0.02,0.0,0.03,0.0,0.03,0.0,0.03,0.02,0.03,0.04,0.0,0.0,0.05,0.0,0.0,0.02,0.03,0.02,0.05,0.04,0.0,0.0,0.0,0.0,0.01,0.02,0.1,0.0,0.06,0.03,0.03,0.0,0.04,0.02,0.05,0.0,0.03,0.0,0.03,0.01,0.03,0.0,0.03,0.03,0.03,0.03,0.0,0.0,0.03,0.05,0.05,0.05,0.0,0.03,0.0,0.08,0.01,0.05,0.02,0.0,0.08,0.0,0.0,0.02,0.0,0.0,0.02,0.02,0.0,0.0,0.05,0.03,0.0,0.0,0.01,0.0,0.05,0.0,0.01,0.0,0.05,0.0,0.0,0.03,0.05,0.01,0.0,0.04,0.0,0.0,0.1,0.03,0.04,0.03,0.05,0.03,0.01,0.04,0.0,0.04,0.0,0.03,0.02,0.01,0.0,0.03,0.0,0.0,0.0,0.05,0.03,0.08,0.03,0.05,0.05,0.01,0.05,0.0,0.03,0.05,0.0,0.05,0.03,0.03,0.0,0.01,0.03,0.03,0.05,0.05,0.0,0.0,0.0,0.03,0.07,0.03,0.03,0.0,0.03,0.02,0.01,0.0,0.05,0.03,0.05,0.01,0.05,0.01,0.05,0.05,0.0,0.0,0.03,0.05,0.05,0.03,0.0,0.04,0.0,0.04,0.0,0.0,0.05,0.0,0.03,0.01,0.03,0.0,0.04,0.0,0.0,0.0,0.0,0.0,0.03,0.0,0.0,0.03,0.03,0.08,0.01,0.05,0.03,0.0,0.03,0.0,0.03,0.05,0.01,0.04,0.03,0.0,0.03,0.0,0.0,0.04,0.04,0.0,0.0,0.05,0.02,0.03,0.0,0.0,0.01,0.05,0.04,0.04,0.03,0.0,0.0,0.0,0.0,0.0,0.0,0.0,0.05,0.01,0.01,0.05,0.02,0.0,0.1,0.07,0.05,0.0,0.0,0.0,0.01,0.0,0.05,0.0,0.0,0.03,0.1,0.1,0.0,0.02,0.05,0.0,0.0,0.0,0.02,0.07,0.0,0.05,0.0,0.0,0.03,0.05,0.0,0.0,0.02,0.0,0.09,0.0,0.07,0.01,0.05,0.05,0.0,0.0,0.0,0.0,0.03,0.0,0.05,0.04,0.05,0.01,0.05,0.03,0.05,0.05,0.02,0.0,0.05,0.0,0.04,0.0,0.0,0.05,0.0,0.01,0.04,0.0,0.0,0.0,0.01,0.06,0.01,0.0,0.0,0.0,0.0,0.02,0.09,0.03,0.0,0.05,0.03,0.06,0.0,0.04,0.0,0.0,0.05,0.0,0.03,0.05,0.0,0.0,0.05,0.04,0.05,0.0,0.0,0.0,0.03,0.01,0.04,0.0,0.03,0.07,0.01,0.0,0.05,0.03,0.0,0.1,0.03,0.01,0.04,0.0,0.0,0.0,0.03,0.0,0.0,0.0,0.05,0.0,0.0,0.02,0.0,0.0,0.02,0.0,0.0,0.03,0.0,0.0,0.0,0.0,0.0,0.02,0.03,0.02,0.01,0.02,0.02,0.0,0.03,0.0,0.0,0.0,0.05,0.01,0.05,0.03,0.02,0.0,0.0,0.03,0.0,0.02,0.0,0.02,0.0,0.0,0.0,0.0,0.04,0.05,0.0,0.05,0.0,0.0,0.05,0.05,0.03,0.0,0.0,0.05,0.02,0.0,0.01,0.03,0.0,0.01,0.0,0.05,0.03,0.0,0.03,0.03,0.0,0.0,0.0,0.05,0.0,0.02,0.0,0.0,0.03,0.05,0.0,0.02,0.04,0.02,0.07,0.0,0.0,0.03,0.0,0.05,0.02,0.0,0.04,0.05,0.03,0.1,0.07,0.0,0.0,0.03,0.03,0.01,0.0,0.01,0.0,0.0,0.06,0.02,0.08,0.0,0.0,0.02,0.0,0.0,0.03,0.0,0.0,0.04,0.04,0.0,0.03,0.02,0.09,0.0,0.03,0.0,0.0,0.0,0.0,0.0,0.02,0.03,0.0,0.0,0.03,0.0,0.03,0.03,0.04,0.0,0.03,0.0,0.0,0.04,0.04,0.01,0.05,0.03,0.02,0.05,0.02,0.03,0.1,0.0,0.0,0.02,0.0,0.04,0.0,0.03,0.03,0.0,0.01,0.03,0.0,0.04,0.01,0.02,0.0,0.04,0.04,0.02,0.02,0.01,0.02,0.0,0.03,0.01,0.0,0.0,0.04,0.0,0.03,0.0,0.0,0.0,0.0,0.02,0.0,0.01,0.0,0.0,0.02,0.07,0.02,0.1,0.04,0.0,0.0,0.07,0.02,0.0,0.03,0.0,0.0,0.0,0.0,0.0,0.02,0.02,0.0,0.09,0.02,0.04,0.02,0.04,0.04,0.0,0.02,0.0,0.0,0.0,0.0,0.0,0.04,0.02,0.03,0.0,0.03,0.0,0.02,0.0,0.03,0.01,0.04,0.02,0.0,0.0,0.0,0.02,0.01,0.0,0.04,0.02,0.08,0.0,0.08,0.04,0.03,0.04,0.0,0.04,0.01,0.02,0.0,0.04,0.02,0.0,0.0,0.0,0.04,0.03,0.0,0.0,0.09,0.04,0.0,0.0,0.0,0.0,0.04,0.04,0.04,0.0,0.09,0.02,0.02,0.0,0.03,0.02,0.01,0.02,0.0,0.09,0.0,0.0,0.04,0.0,0.04,0.03,0.02,0.0,0.06,0.0,0.0,0.0,0.02,0.04,0.0,0.0,0.0,0.03,0.01,0.04,0.0,0.0,0.1,0.0,0.01,0.0,0.1,0.0,0.06,0.08,0.0,0.02,0.01,0.0,0.02,0.0,0.0,0.02,0.0,0.02,0.0,0.0,0.02,0.03,0.04,0.05,0.04,0.0,0.05,0.03,0.0,0.03,0.03,0.0,0.03,0.02,0.03,0.0,0.0,0.02,0.02,0.04,0.0,0.03,0.0,0.0,0.04,0.01,0.0,0.03,0.02,0.08,0.02,0.02,0.0,0.01,0.0,0.03,0.0,0.0,0.02,0.02,0.04,0.0,0.01,0.0,0.01,0.1,0.02,0.0,0.0,0.0,0.02,0.02,0.04,0.03,0.09,0.07,0.04,0.04,0.04,0.03,0.01,0.02,0.0,0.0,0.05,0.02,0.04,0.01,0.0,0.02,0.0,0.0,0.02,0.03,0.05,0.0,0.02,0.0,0.03,0.04,0.04,0.0,0.0,0.0,0.03,0.0,0.0,0.0,0.02,0.0,0.01,0.02,0.07,0.04,0.0,0.04,0.02,0.02,0.02,0.02,0.02,0.02,0.02,0.02,0.09,0.0,0.04,0.01,0.03,0.0,0.04,0.0,0.0,0.04,0.0,0.0,0.07,0.04,0.02,0.01,0.04,0.0,0.0,0.0,0.04,0.03,0.05,0.0,0.0,0.0,0.01,0.04,0.0,0.02,0.02,0.02,0.04,0.04,0.01,0.0,0.02,0.0,0.02,0.0,0.03,0.0,0.07,0.0,0.0,0.02,0.0,0.04,0.0,0.0,0.0,0.0,0.02,0.04,0.01,0.04,0.04,0.0,0.02,0.09,0.01,0.02,0.02,0.02,0.02,0.0,0.01,0.0,0.01,0.03,0.04,0.09,0.01,0.0,0.02,0.04,0.0,0.02,0.01,0.0,0.0,0.0,0.04,0.02,0.02,0.0,0.06,0.0,0.04,0.0,0.04,0.04,0.0,0.0,0.0,0.04,0.0,0.02,0.03,0.03,0.0,0.04,0.04,0.0,0.0,0.03,0.0,0.0,0.0,0.03,0.0,0.0,0.0,0.0,0.0,0.0,0.03,0.0,0.01,0.0,0.0,0.04,0.0,0.08,0.03,0.04,0.0,0.0,0.0,0.02,0.04,0.0,0.01,0.0,0.08,0.0,0.04,0.0,0.0,0.06,0.02,0.0,0.0,0.0,0.03,0.0,0.04,0.0,0.02,0.04,0.04,0.0,0.01,0.02,0.01,0.04,0.0,0.0,0.04,0.0,0.0,0.0,0.03,0.0,0.0,0.03,0.0,0.04,0.0,0.01,0.0,0.0,0.0,0.04,0.0,0.04,0.0,0.02,0.0,0.02,0.0,0.07,0.08,0.0,0.04,0.0,0.02,0.0,0.04,0.03,0.04,0.0,0.0,0.0,0.0,0.0,0.0,0.04,0.0,0.0,0.0,0.0,0.01,0.01,0.04,0.0,0.0,0.02,0.07,0.0,0.0,0.0,0.0,0.0,0.02,0.04,0.0,0.02,0.02,0.01,0.02,0.09,0.04,0.0,0.09,0.0,0.03,0.0,0.02,0.04,0.04,0.0,0.0,0.0,0.01,0.04,0.02,0.08,0.02,0.0,0.01,0.04,0.03,0.03,0.0,0.0,0.0,0.0,0.0,0.0,0.01,0.0,0.0,0.0,0.04,0.0,0.0,0.03,0.0,0.0,0.04,0.03,0.08,0.04,0.07,0.0,0.02,0.01,0.0,0.04,0.0,0.0,0.03,0.06,0.03,0.04,0.0,0.0,0.0,0.0,0.0,0.05,0.02,0.01,0.04,0.04,0.0,0.0,0.03,0.0,0.01,0.0,0.0,0.01,0.0,0.0,0.0,0.02,0.03,0.0,0.02,0.05,0.0,0.0,0.0,0.04,0.02,0.01,0.0,0.0,0.1,0.04,0.0,0.0,0.0,0.0,0.02,0.0,0.0,0.02,0.0,0.04,0.0,0.0,0.0,0.0,0.04,0.04,0.02,0.03,0.06,0.02,0.0,0.0,0.04,0.0,0.0,0.0,0.02,0.01,0.02,0.0,0.1,0.02,0.04,0.0,0.04,0.04,0.02,0.02,0.02,0.0,0.0,0.06,0.01,0.0,0.04,0.04,0.0,0.02,0.0,0.01,0.0,0.0,0.02,0.1,0.02,0.04,0.0,0.04,0.02,0.0,0.0,0.03,0.0,0.04,0.0,0.09,0.01,0.0,0.0,0.03,0.0,0.04,0.01,0.0,0.01,0.0,0.0,0.02,0.02,0.04,0.0,0.04,0.0,0.02,0.02,0.0,0.01,0.02,0.0,0.04,0.0,0.0,0.02,0.02,0.02,0.0,0.02,0.02,0.02,0.0,0.02,0.0,0.02,0.02,0.04,0.02,0.09,0.03,0.0,0.04,0.01,0.04,0.03,0.04,0.0,0.0,0.0,0.04,0.04,0.02,0.03,0.04,0.02,0.02,0.02,0.02,0.0,0.0,0.03,0.0,0.0,0.02,0.02,0.0,0.0,0.0,0.03,0.04,0.01,0.02,0.0,0.03,0.0,0.04,0.01,0.02,0.0,0.0,0.0,0.02,0.0,0.03,0.01,0.08,0.01,0.02,0.02,0.09,0.02,0.0,0.0,0.0,0.03,0.0,0.05,0.0,0.02,0.0,0.0,0.04,0.0,0.04,0.02,0.0,0.0,0.03,0.02,0.0,0.0,0.01,0.01,0.08,0.0,0.0,0.04,0.0,0.04,0.04,0.08,0.0,0.04,0.0,0.01,0.09,0.0,0.0,0.0,0.02,0.04,0.03,0.0,0.0,0.04,0.07,0.04,0.03,0.0,0.0,0.0,0.0,0.02,0.04,0.0,0.0,0.02,0.0,0.0,0.0,0.06,0.01,0.0,0.0,0.0,0.0,0.0,0.0,0.0,0.02,0.04,0.0,0.0,0.04,0.04,0.0,0.05,0.0,0.0,0.02,0.0,0.02,0.02,0.08,0.03,0.0,0.0,0.0,0.0,0.0,0.0,0.05,0.03,0.03,0.0,0.02,0.0,0.0,0.0,0.0,0.0,0.0,0.0,0.01,0.0,0.0,0.01,0.02,0.01,0.08,0.02,0.0,0.02,0.0,0.04,0.0,0.02,0.02,0.03,0.0,0.06,0.04,0.0,0.02,0.08,0.0,0.0,0.0,0.04,0.0,0.02,0.0,0.0,0.0,0.0,0.0,0.02,0.08,0.04,0.0,0.07,0.03,0.08,0.02,0.02,0.07,0.01,0.02,0.0,0.02,0.08,0.02,0.0,0.02,0.04,0.07,0.01,0.0,0.02,0.0,0.0,0.0,0.04,0.0,0.04,0.04,0.0,0.04,0.0,0.02,0.0,0.0,0.02,0.0,0.0,0.04,0.02,0.04,0.04,0.04,0.03,0.01,0.0,0.02,0.02,0.0,0.06,0.0,0.0,0.04,0.0,0.0,0.0,0.0,0.03,0.08,0.04,0.0,0.0,0.02,0.02,0.0,0.04,0.02,0.04,0.02,0.0,0.0,0.0,0.04,0.01,0.04,0.01,0.0,0.02,0.02,0.05,0.0,0.0,0.02,0.0,0.0,0.04,0.0,0.0,0.0,0.04,0.0,0.01,0.0,0.02,0.08,0.0,0.02,0.04,0.02,0.04,0.06,0.0,0.02,0.01,0.02,0.02,0.07,0.0,0.01,0.03,0.0,0.01,0.02,0.0,0.06,0.0,0.01,0.07,0.0,0.0,0.0,0.0,0.05,0.08,0.0,0.0,0.03,0.0,0.02,0.04,0.02,0.01,0.0,0.0,0.07,0.01,0.02,0.0,0.02,0.04,0.0,0.03,0.0,0.03,0.02,0.03,0.0,0.01,0.04,0.03,0.03,0.03,0.07,0.02,0.02,0.0,0.0,0.0,0.0,0.01,0.02,0.02,0.0,0.02,0.0,0.04,0.0,0.03,0.0,0.01,0.0,0.0,0.0,0.05,0.02,0.0,0.03,0.01,0.01,0.0,0.0,0.0,0.02,0.03,0.01,0.03,0.0,0.08,0.0,0.0,0.0,0.03,0.0,0.0,0.0,0.02,0.0,0.02,0.0,0.0,0.0,0.01,0.05,0.02,0.0,0.0,0.0,0.0,0.03,0.02,0.0,0.06,0.02,0.0,0.01,0.02,0.02,0.02,0.08,0.0,0.0,0.03,0.02,0.06,0.0,0.03,0.0,0.0,0.0,0.0,0.0,0.0,0.0,0.0,0.01,0.01,0.0,0.0,0.08,0.04,0.0,0.0,0.01,0.0,0.0,0.01,0.0,0.02,0.07,0.0,0.0,0.0,0.0,0.0,0.04,0.03,0.01,0.0,0.0,0.06,0.0,0.0,0.0,0.03,0.0,0.02,0.0,0.0,0.0,0.0,0.0,0.01,0.02,0.07,0.02,0.0,0.0,0.0,0.0,0.07,0.0,0.0,0.0,0.02,0.02,0.02,0.0,0.02,0.02,0.01,0.0,0.03,0.0,0.0,0.0,0.0,0.0,0.02,0.01,0.02,0.02,0.03,0.0,0.0,0.0,0.0,0.07,0.0,0.01,0.0,0.0,0.0,0.06,0.06,0.0,0.0,0.04,0.0,0.0,0.0,0.02,0.04,0.0,0.01,0.06,0.02,0.02,0.02,0.0,0.02,0.02,0.0,0.0,0.04,0.0,0.03,0.01,0.0,0.0,0.0,0.0,0.03,0.0,0.02,0.05,0.02,0.03,0.02,0.02,0.04,0.0,0.01,0.04,0.03,0.03,0.0,0.0,0.0,0.03,0.0,0.02,0.07,0.0,0.0,0.03,0.02,0.02,0.0,0.0,0.08,0.02,0.0,0.02,0.0,0.03,0.05,0.0,0.0,0.08,0.02,0.07,0.0,0.02,0.02,0.03,0.01,0.03,0.01,0.0,0.02,0.02,0.0,0.0,0.03,0.07,0.03,0.01,0.0,0.0,0.0,0.03,0.0,0.0,0.03,0.03,0.0,0.03,0.05,0.0,0.0,0.0,0.03,0.03,0.02,0.03,0.0,0.0,0.01,0.0,0.02,0.0,0.03,0.02,0.03,0.0,0.0,0.0,0.0,0.01,0.0,0.02,0.07,0.0,0.03,0.0,0.0,0.03,0.0,0.01,0.04,0.0,0.0,0.0,0.0,0.0,0.0,0.03,0.0,0.0,0.05,0.0,0.0,0.02,0.01,0.07,0.0,0.02,0.0,0.02,0.0,0.01,0.02,0.02,0.01,0.03,0.0,0.06,0.03,0.02,0.0,0.03,0.03,0.03,0.07,0.0,0.01,0.05,0.02,0.02,0.0,0.0,0.02,0.0,0.02,0.02,0.03,0.01,0.0,0.03,0.0,0.03,0.02,0.0,0.0,0.03,0.02,0.0,0.07,0.0,0.0,0.0,0.0,0.02,0.03,0.0,0.08,0.02,0.0,0.0,0.02,0.02,0.0,0.0,0.03,0.02,0.0,0.02,0.02,0.02,0.02,0.03,0.03,0.03,0.0,0.0,0.02,0.03,0.06,0.0,0.0,0.03,0.03,0.0,0.02,0.03,0.07,0.03,0.0,0.04,0.02,0.03,0.0,0.0,0.05,0.03,0.0,0.03,0.0,0.0,0.03,0.0,0.0,0.0,0.0,0.07,0.03,0.0,0.0,0.0,0.02,0.0,0.0,0.02,0.0,0.01,0.0,0.02,0.03,0.0,0.0,0.0,0.0,0.0,0.0,0.03,0.0,0.01,0.03,0.01,0.0,0.0,0.0,0.02,0.01,0.0,0.02,0.0,0.0,0.02,0.04,0.0,0.01,0.0,0.0,0.0,0.02,0.07,0.0,0.0,0.07,0.0,0.02,0.02,0.0,0.0,0.0,0.03,0.01,0.01,0.01,0.0,0.0,0.0,0.02,0.02,0.0,0.03,0.0,0.05,0.0,0.07,0.0,0.0,0.0,0.03,0.03,0.0,0.0,0.0,0.02,0.08,0.0,0.05,0.01,0.01,0.0,0.0,0.03,0.04,0.0,0.0,0.02,0.02,0.0,0.02,0.01,0.02,0.02,0.01,0.06,0.03,0.06,0.0,0.01,0.01,0.02,0.02,0.02,0.0,0.0,0.0,0.02,0.03,0.0,0.0,0.0,0.0,0.03,0.02,0.02,0.02,0.0,0.0,0.03,0.0,0.0,0.0,0.0,0.06,0.07,0.0,0.0,0.02,0.0,0.02,0.05,0.05,0.0,0.0,0.01,0.0,0.0,0.04,0.03,0.01,0.03,0.0,0.01,0.02,0.0,0.0,0.04,0.0,0.02,0.0,0.06,0.0,0.01,0.0,0.03,0.0,0.0,0.02,0.02,0.0,0.04,0.0,0.01,0.02,0.02,0.02,0.0,0.01,0.0,0.0,0.0,0.02,0.03,0.0,0.01,0.02,0.0,0.0,0.03,0.02,0.07,0.0,0.02,0.07,0.04,0.0,0.0,0.03,0.07,0.0,0.0,0.05,0.01,0.03,0.01,0.03,0.0,0.0,0.02,0.0,0.05,0.02,0.01,0.0,0.03,0.0,0.0,0.0,0.03,0.02,0.02,0.01,0.01,0.06,0.0,0.07,0.02,0.01,0.0,0.07,0.03,0.02,0.0,0.0,0.0,0.0,0.03,0.0,0.03,0.0,0.0,0.0,0.02,0.0,0.03,0.02,0.03,0.0,0.02,0.0,0.0,0.0,0.0,0.02,0.03,0.0,0.0,0.0,0.0,0.0,0.0,0.02,0.0,0.0,0.01,0.0,0.0,0.03,0.0,0.0,0.0,0.02,0.02,0.02,0.0,0.02,0.0,0.0,0.03,0.03,0.0,0.0,0.0,0.02,0.06,0.03,0.01,0.02,0.0,0.03,0.0,0.0,0.0,0.03,0.0,0.03,0.06,0.0,0.06,0.0,0.0,0.0,0.0,0.0,0.0,0.05,0.0,0.02,0.02,0.0,0.0,0.0,0.03,0.02,0.02,0.0,0.0,0.02,0.0,0.03,0.06,0.0,0.07,0.0,0.01,0.0,0.06,0.0,0.02,0.02,0.02,0.0,0.06,0.06,0.02,0.0,0.0,0.0,0.0,0.05,0.03,0.02,0.03,0.0,0.02,0.02,0.0,0.0,0.0,0.0,0.0,0.02,0.0,0.0,0.0,0.0,0.0,0.0,0.0,0.03,0.0,0.0,0.0,0.0,0.0,0.0,0.06,0.01,0.03,0.0,0.0,0.0,0.0,0.03,0.0,0.0,0.03,0.0,0.0,0.0,0.02,0.0,0.0,0.07,0.0,0.01,0.0,0.02,0.03,0.03,0.06,0.0,0.0,0.0,0.03,0.0,0.02,0.01,0.05,0.0,0.03,0.0,0.0,0.0,0.0,0.0,0.0,0.03,0.0,0.0,0.0,0.01,0.0,0.02,0.0,0.0,0.0,0.0,0.01,0.0,0.0,0.06,0.02,0.02,0.04,0.01,0.05,0.02,0.03,0.06,0.02,0.02,0.0,0.06,0.03,0.04,0.0,0.02,0.01,0.0,0.03,0.0,0.0,0.0,0.03,0.0,0.0,0.0,0.03,0.01,0.02,0.02,0.0,0.0,0.03,0.0,0.0,0.02,0.01,0.0,0.03,0.02,0.03,0.0,0.02,0.02,0.05,0.0,0.03,0.06,0.0,0.03,0.0,0.0,0.0,0.0,0.0,0.0,0.0,0.0,0.0,0.0,0.0,0.02,0.02,0.01,0.01,0.06,0.02,0.0,0.03,0.06,0.02,0.0,0.03,0.0,0.02,0.06,0.03,0.0,0.02,0.0,0.0,0.0,0.0,0.01,0.0,0.0,0.03,0.02,0.0,0.0,0.01,0.0,0.0,0.0,0.02,0.0,0.06,0.0,0.0,0.0,0.04,0.02,0.02,0.02,0.0,0.0,0.0,0.02,0.0,0.0,0.0,0.03,0.03,0.03,0.04,0.05,0.01,0.03,0.01,0.02,0.0,0.0,0.03,0.0,0.0,0.03,0.0,0.03,0.06,0.06,0.0,0.02,0.0,0.0,0.0,0.0,0.0,0.0,0.0,0.01,0.0,0.0,0.05,0.02,0.03,0.02,0.0,0.02,0.0,0.0,0.0,0.0,0.0,0.06,0.0,0.03,0.03,0.0,0.0,0.01,0.0,0.03,0.03,0.03,0.06,0.03,0.0,0.03,0.01,0.0,0.06,0.02,0.02,0.0,0.03,0.04,0.0,0.01,0.0,0.01,0.01,0.02,0.01,0.01,0.0,0.01,0.0,0.02,0.0,0.04,0.0,0.05,0.01,0.01,0.01,0.03,0.0,0.04,0.01,0.0,0.0,0.02,0.03,0.03,0.02,0.03,0.0,0.0,0.0,0.0,0.02,0.0,0.0,0.01,0.0,0.0,0.0,0.03,0.0,0.0,0.0,0.0,0.0,0.0,0.0,0.0,0.0,0.03,0.01,0.0,0.01,0.03,0.0,0.01,0.03,0.0,0.0,0.03,0.0,0.03,0.03,0.0,0.0,0.03,0.05,0.02,0.0,0.01,0.01,0.03,0.0,0.02,0.01,0.02,0.0,0.01,0.02,0.0,0.03,0.0,0.0,0.01,0.01,0.0,0.06,0.01,0.0,0.0,0.0,0.02,0.0,0.0,0.0,0.03,0.0,0.03,0.0,0.0,0.0,0.0,0.01,0.0,0.0,0.0,0.03,0.03,0.03,0.0,0.01,0.01,0.04,0.03,0.04,0.02,0.0,0.0,0.0,0.06,0.06,0.0,0.02,0.05,0.03,0.06,0.01,0.0,0.06,0.0,0.01,0.0,0.0,0.0,0.03,0.0,0.03,0.01,0.0,0.01,0.03,0.0,0.0,0.06,0.0,0.03,0.01,0.0,0.03,0.0,0.0,0.0,0.0,0.0,0.0,0.0,0.01,0.0,0.0,0.06,0.0,0.02,0.0,0.03,0.01,0.01,0.0,0.0,0.02,0.03,0.01,0.01,0.0,0.03,0.01,0.05,0.0,0.02,0.0,0.01,0.03,0.06,0.02,0.0,0.0,0.01,0.0,0.06,0.02,0.0,0.02,0.02,0.03,0.0,0.0,0.0,0.0,0.05,0.03,0.0,0.03,0.0,0.01,0.0,0.01,0.0,0.0,0.03,0.0,0.02,0.02,0.0,0.05,0.0,0.03,0.0,0.06,0.0,0.01,0.01,0.0,0.0,0.0,0.0,0.0,0.0,0.0,0.01,0.0,0.0,0.02,0.05,0.0,0.03,0.02,0.0,0.04,0.0,0.0,0.0,0.02,0.0,0.02,0.0,0.02,0.01,0.0,0.06,0.0,0.02,0.02,0.0,0.0,0.0,0.04,0.0,0.01,0.0,0.0,0.0,0.02,0.01,0.01,0.0,0.05,0.0,0.02,0.0,0.06,0.0,0.01,0.0,0.0,0.01,0.02,0.01,0.01,0.0,0.02,0.01,0.0,0.0,0.0,0.02,0.04,0.01,0.01,0.01,0.0,0.0,0.02,0.0,0.0,0.02,0.01,0.0,0.0,0.0,0.0,0.01,0.06,0.02,0.01,0.0,0.0,0.0,0.0,0.0,0.0,0.0,0.02,0.0,0.0,0.0,0.01,0.0,0.0,0.0,0.06,0.0,0.0,0.02,0.01,0.0,0.0,0.0,0.05,0.0,0.0,0.0,0.0,0.0,0.03,0.02,0.02,0.0,0.02,0.05,0.0,0.01,0.0,0.0,0.06,0.01,0.0,0.0,0.03,0.01,0.0,0.0,0.0,0.01,0.06,0.03,0.0,0.0,0.0,0.0,0.0,0.05,0.02,0.0,0.02,0.02,0.02,0.03,0.02,0.01,0.04,0.0,0.0,0.0,0.01,0.01,0.02,0.02,0.0,0.0,0.0,0.0,0.04,0.0,0.0,0.0,0.0,0.0,0.02,0.0,0.03,0.02,0.0,0.05,0.02,0.0,0.0,0.0,0.0,0.01,0.0,0.0,0.0,0.02,0.02,0.04,0.01,0.0,0.0,0.01,0.0,0.0,0.02,0.02,0.0,0.0,0.0,0.02,0.05,0.01,0.0,0.05,0.01,0.02,0.05,0.05,0.02,0.0,0.0,0.02,0.05,0.0,0.0,0.06,0.01,0.02,0.0,0.05,0.05,0.02,0.02,0.02,0.0,0.0,0.01,0.01,0.02,0.02,0.02,0.01,0.0,0.0,0.02,0.06,0.0,0.02,0.02,0.01,0.0,0.0,0.0,0.0,0.05,0.0,0.0,0.01,0.0,0.0,0.0,0.05,0.0,0.0,0.0,0.0,0.05,0.05,0.01,0.0,0.0,0.0,0.01,0.01,0.0,0.01,0.02,0.0,0.0,0.05,0.0,0.0,0.01,0.02,0.0,0.0,0.01,0.0,0.0,0.0,0.01,0.05,0.02,0.02,0.0,0.01,0.01,0.0,0.0,0.02,0.0,0.02,0.0,0.01,0.0,0.0,0.0,0.0,0.01,0.05,0.0,0.02,0.0,0.02,0.0,0.05,0.0,0.01,0.01,0.01,0.01,0.01,0.01,0.01,0.0,0.01,0.01,0.01,0.01,0.01,0.0,0.01,0.0,0.01,0.02,0.04,0.01,0.0,0.05,0.01,0.0,0.0,0.0,0.02,0.0,0.02,0.02,0.02,0.0,0.0,0.0,0.0,0.05,0.02,0.0,0.02,0.02,0.02,0.02,0.01,0.02,0.04,0.05,0.0,0.0,0.0,0.0,0.0,0.02,0.0,0.0,0.02,0.0,0.0,0.05,0.0,0.0,0.0,0.0,0.02,0.05,0.01,0.0,0.0,0.03,0.0,0.0,0.0,0.0,0.02,0.0,0.03,0.0,0.0,0.0,0.01,0.04,0.02,0.02,0.01,0.01,0.02,0.0,0.0,0.0,0.01,0.05,0.03,0.0,0.0,0.02,0.05,0.01,0.0,0.0,0.0,0.01,0.05,0.0,0.0,0.0,0.0,0.0,0.02,0.0,0.0,0.0,0.0,0.0,0.0,0.02,0.0,0.02,0.0,0.04,0.02,0.01,0.0,0.0,0.0,0.0,0.02,0.0,0.0,0.02,0.02,0.0,0.0,0.0,0.0,0.03,0.0,0.0,0.0,0.02,0.05,0.0,0.02,0.01,0.0,0.0,0.0,0.0,0.01,0.0,0.0,0.02,0.05,0.0,0.01,0.04,0.0,0.0,0.02,0.0,0.0,0.0,0.01,0.0,0.02,0.02,0.0,0.0,0.0,0.04,0.02,0.01,0.0,0.0,0.01,0.02,0.0,0.0,0.0,0.0,0.0,0.04,0.0,0.0,0.01,0.05,0.0,0.05,0.0,0.0,0.01,0.0,0.02,0.0,0.02,0.02,0.02,0.0,0.0,0.03,0.05,0.0,0.02,0.0,0.0,0.0,0.0,0.01,0.0,0.01,0.0,0.0,0.0,0.04,0.0,0.0,0.0,0.02,0.0,0.02,0.02,0.01,0.01,0.05,0.01,0.01,0.02,0.05,0.01,0.05,0.0,0.0,0.0,0.0,0.0,0.0,0.0,0.02,0.02,0.0,0.01,0.04,0.0,0.02,0.0,0.01,0.01,0.05,0.0,0.01,0.0,0.0,0.03,0.0,0.0,0.02,0.0,0.0,0.0,0.05,0.0,0.02,0.05,0.05,0.0,0.0,0.0,0.0,0.0,0.0,0.01,0.02,0.0,0.0,0.02,0.01,0.0,0.0,0.01,0.05,0.0,0.01,0.0,0.0,0.0,0.02,0.0,0.02,0.0,0.0,0.0,0.0,0.01,0.02,0.0,0.0,0.02,0.05,0.01,0.0,0.0,0.02,0.0,0.01,0.01,0.0,0.02,0.02,0.0,0.01,0.01,0.0,0.02,0.0,0.0,0.0,0.0,0.02,0.02,0.0,0.04,0.0,0.0,0.04,0.01,0.01,0.04,0.0,0.02,0.01,0.0,0.01,0.0,0.04,0.01,0.01,0.0,0.03,0.02,0.0,0.02,0.02,0.05,0.0,0.01,0.05,0.01,0.0,0.04,0.0,0.0,0.02,0.03,0.01,0.0,0.0,0.0,0.04,0.01,0.01,0.02,0.0,0.01,0.0,0.0,0.01,0.0,0.0,0.0,0.01,0.01,0.0,0.0,0.02,0.02,0.01,0.0,0.0,0.01,0.02,0.02,0.0,0.0,0.02,0.0,0.01,0.0,0.0,0.0,0.0,0.01,0.01,0.0,0.0,0.0,0.01,0.05,0.01,0.04,0.01,0.0,0.03,0.0,0.02,0.0,0.0,0.0,0.05,0.01,0.0,0.0,0.0,0.02,0.0,0.0,0.0,0.02,0.04,0.0,0.05,0.01,0.02,0.04,0.0,0.0,0.02,0.01,0.03,0.0,0.0,0.0,0.02,0.0,0.0,0.02,0.05,0.0,0.0,0.01,0.05,0.02,0.01,0.0,0.01,0.0,0.0,0.0,0.01,0.0,0.05,0.01,0.0,0.0,0.0,0.0,0.0,0.02,0.0,0.0,0.04,0.0,0.0,0.0,0.01,0.0,0.0,0.0,0.0,0.0,0.01,0.0,0.0,0.0,0.0,0.05,0.02,0.0,0.0,0.0,0.0,0.0,0.01,0.02,0.01,0.0,0.0,0.01,0.0,0.0,0.01,0.0,0.0,0.01,0.01,0.01,0.0,0.05,0.01,0.01,0.02,0.0,0.02,0.0,0.0,0.0,0.02,0.0,0.02,0.0,0.04,0.02,0.0,0.0,0.0,0.01,0.0,0.01,0.0,0.04,0.0,0.04,0.0,0.0,0.01,0.01,0.0,0.04,0.02,0.0,0.04,0.0,0.0,0.0,0.0,0.0,0.04,0.0,0.01,0.0,0.02,0.04,0.05,0.0,0.03,0.0,0.01,0.0,0.05,0.0,0.0,0.01,0.0,0.04,0.01,0.03,0.0,0.02,0.02,0.0,0.0,0.0,0.0,0.02,0.02,0.0,0.0,0.0,0.01,0.0,0.01,0.0,0.0,0.0,0.0,0.01,0.01,0.0,0.0,0.0,0.0,0.0,0.04,0.04,0.0,0.01,0.02,0.0,0.01,0.0,0.0,0.0,0.0,0.03,0.02,0.0,0.0,0.0,0.03,0.01,0.0,0.04,0.01,0.0,0.01,0.01,0.04,0.01,0.01,0.0,0.01,0.01,0.01,0.01,0.01,0.0,0.0,0.0,0.01,0.0,0.04,0.0,0.02,0.02,0.0,0.04,0.0,0.01,0.0,0.0,0.0,0.01,0.04,0.0,0.0,0.01,0.0,0.03,0.0,0.0,0.0,0.04,0.02,0.0,0.01,0.0,0.02,0.0,0.01,0.04,0.0,0.01,0.0,0.0,0.04,0.02,0.0,0.01,0.0,0.0,0.0,0.01,0.0,0.0,0.02,0.04,0.0,0.0,0.04,0.0,0.01,0.0,0.02,0.02,0.0,0.01,0.02,0.02,0.02,0.03,0.0,0.0,0.0,0.01,0.0,0.0,0.0,0.03,0.05,0.0,0.01,0.0,0.0,0.0,0.01,0.0,0.01,0.02,0.01,0.02,0.0,0.0,0.0,0.0,0.0,0.01,0.0,0.02,0.01,0.02,0.0,0.0,0.0,0.02,0.0,0.01,0.0,0.0,0.02,0.0,0.02,0.0,0.0,0.04,0.0,0.01,0.04,0.04,0.0,0.0,0.01,0.0,0.02,0.0,0.02,0.01,0.0,0.0,0.01,0.0,0.0,0.0,0.01,0.0,0.02,0.01,0.01,0.01,0.04,0.02,0.0,0.0,0.0,0.0,0.0,0.01,0.01,0.0,0.0,0.0,0.02,0.01,0.0,0.01,0.01,0.0,0.0,0.04,0.02,0.0,0.02,0.0,0.04,0.0,0.01,0.0,0.01,0.02,0.01,0.0,0.0,0.01,0.04,0.0,0.03,0.01,0.0,0.0,0.0,0.01,0.0,0.0,0.01,0.0,0.0,0.04,0.04,0.0,0.04,0.0,0.0,0.0,0.01,0.04,0.02,0.01,0.0,0.01,0.0,0.04,0.01,0.0,0.02,0.0,0.0,0.0,0.01,0.0,0.04,0.0,0.0,0.03,0.01,0.0,0.0,0.0,0.04,0.0,0.02,0.02,0.0,0.0,0.01,0.0,0.04,0.04,0.01,0.04,0.0,0.0,0.0,0.0,0.0,0.0,0.02,0.0,0.0,0.02,0.01,0.0,0.0,0.04,0.0,0.0,0.01,0.03,0.01,0.0,0.0,0.01,0.0,0.0,0.0,0.02,0.01,0.04,0.0,0.02,0.0,0.0,0.0,0.04,0.0,0.0,0.0,0.0,0.0,0.01,0.0,0.02,0.0,0.01,0.0,0.01,0.01,0.0,0.04,0.01,0.0,0.01,0.0,0.0,0.0,0.0,0.04,0.0,0.0,0.0,0.0,0.0,0.04,0.02,0.0,0.03,0.0,0.0,0.0,0.02,0.0,0.0,0.01,0.0,0.0,0.0,0.01,0.0,0.04,0.01,0.02,0.0,0.01,0.0,0.0,0.0,0.01,0.04,0.0,0.04,0.01,0.0,0.0,0.0,0.0,0.04,0.03,0.01,0.04,0.01,0.04,0.04,0.02,0.0,0.0,0.01,0.0,0.0,0.01,0.04,0.02,0.0,0.02,0.04,0.0,0.0,0.0,0.0,0.0,0.0,0.02,0.0,0.0,0.0,0.04,0.0,0.0,0.02,0.0,0.0,0.0,0.0,0.0,0.01,0.0,0.01,0.02,0.02,0.0,0.0,0.0,0.0,0.03,0.0,0.0,0.01,0.0,0.02,0.0,0.02,0.0,0.04,0.01,0.04,0.0,0.0,0.0,0.0,0.04,0.01,0.01,0.04,0.0,0.04,0.0,0.01,0.0,0.04,0.0,0.01,0.0,0.02,0.0,0.0,0.0,0.0,0.0,0.0,0.0,0.0,0.01,0.0,0.0,0.0,0.0,0.01,0.02,0.02,0.0,0.01,0.0,0.0,0.0,0.01,0.0,0.0,0.04,0.0,0.01,0.01,0.01,0.0,0.0,0.02,0.0,0.04,0.01,0.0,0.0,0.01,0.02,0.01,0.0,0.0,0.0,0.0,0.0,0.0,0.0,0.0,0.0,0.03,0.04,0.0,0.0,0.04,0.0,0.0,0.0,0.02,0.01,0.01,0.02,0.0,0.02,0.0,0.04,0.01,0.0,0.0,0.0,0.04,0.0,0.0,0.04,0.01,0.02,0.0,0.0,0.0,0.01,0.0,0.0,0.0,0.02,0.0,0.0,0.0,0.0,0.01,0.01,0.0,0.02,0.0,0.04,0.0,0.0,0.01,0.0,0.0,0.0,0.0,0.02,0.0,0.0,0.02,0.0,0.01,0.01,0.0,0.01,0.02,0.03,0.0,0.0,0.01,0.0,0.0,0.0,0.04,0.02,0.04,0.03,0.0,0.0,0.03,0.01,0.02,0.0,0.0,0.0,0.04,0.04,0.01,0.0,0.0,0.04,0.0,0.0,0.02,0.01,0.0,0.0,0.0,0.0,0.0,0.0,0.03,0.0,0.0,0.0,0.03,0.0,0.03,0.03,0.0,0.02,0.03,0.0,0.0,0.0,0.0,0.01,0.03,0.0,0.04,0.0,0.0,0.0,0.03,0.04,0.0,0.02,0.0,0.03,0.0,0.0,0.01,0.0,0.0,0.02,0.0,0.02,0.0,0.0,0.01,0.0,0.0,0.0,0.01,0.02,0.03,0.02,0.0,0.0,0.02,0.0,0.03,0.0,0.0,0.0,0.0,0.01,0.0,0.0,0.0,0.02,0.0,0.03,0.0,0.0,0.01,0.03,0.0,0.01,0.0,0.0,0.0,0.04,0.0,0.03,0.01,0.0,0.0,0.0,0.0,0.0,0.01,0.01,0.01,0.01,0.01,0.01,0.0,0.0,0.01,0.0,0.02,0.01,0.03,0.0,0.0,0.0,0.02,0.0,0.0,0.0,0.03,0.0,0.0,0.0,0.01,0.0,0.0,0.02,0.0,0.0,0.0,0.04,0.0,0.03,0.01,0.0,0.0,0.02,0.0,0.0,0.0,0.02,0.0,0.0,0.01,0.03,0.0,0.0,0.0,0.04,0.0,0.0,0.03,0.0,0.0,0.03,0.01,0.0,0.0,0.0,0.0,0.0,0.0,0.0,0.01,0.0,0.0,0.03,0.0,0.0,0.0,0.0,0.0,0.0,0.0,0.0,0.01,0.01,0.0,0.0,0.01,0.0,0.03,0.0,0.02,0.01,0.03,0.0,0.01,0.01,0.0,0.0,0.03,0.0,0.03,0.03,0.01,0.04,0.0,0.0,0.01,0.0,0.0,0.01,0.01,0.01,0.0,0.01,0.01,0.0,0.02,0.02,0.0,0.02,0.0,0.0,0.01,0.03,0.0,0.01,0.01,0.0,0.01,0.0,0.0,0.0,0.01,0.01,0.04,0.0,0.03,0.0,0.0,0.04,0.0,0.03,0.01,0.0,0.0,0.01,0.04,0.0,0.03,0.0,0.02,0.02,0.0,0.0,0.0,0.01,0.0,0.03,0.0,0.03,0.01,0.0,0.0,0.01,0.0,0.0,0.01,0.01,0.0,0.0,0.02,0.03,0.03,0.01,0.01,0.0,0.01,0.04,0.03,0.01,0.01,0.0,0.01,0.04,0.01,0.0,0.01,0.0,0.01,0.0,0.04,0.01,0.0,0.01,0.0,0.0,0.0,0.04,0.0,0.0,0.0,0.01,0.0,0.0,0.0,0.0,0.0,0.0,0.0,0.0,0.0,0.0,0.01,0.03,0.0,0.01,0.0,0.0,0.0,0.0,0.03,0.03,0.01,0.01,0.0,0.0,0.01,0.01,0.0,0.0,0.0,0.01,0.0,0.0,0.0,0.01,0.03,0.0,0.0,0.01,0.0,0.01,0.0,0.0,0.0,0.01,0.03,0.0,0.0,0.03,0.01,0.0,0.0,0.0,0.0,0.01,0.03,0.0,0.01,0.03,0.02,0.01,0.0,0.0,0.01,0.0,0.01,0.02,0.0,0.01,0.01,0.0,0.01,0.0,0.01,0.0,0.01,0.03,0.0,0.0,0.0,0.0,0.0,0.0,0.03,0.01,0.0,0.03,0.0,0.01,0.0,0.0,0.01,0.0,0.03,0.01,0.0,0.01,0.01,0.0,0.0,0.01,0.03,0.0,0.0,0.03,0.0,0.02,0.0,0.01,0.03,0.0,0.0,0.03,0.01,0.03,0.0,0.03,0.02,0.0,0.03,0.0,0.03,0.0,0.0,0.0,0.0,0.0,0.0,0.03,0.0,0.03,0.01,0.01,0.03,0.0,0.0,0.02,0.0,0.01,0.03,0.0,0.03,0.03,0.01,0.01,0.0,0.0,0.03,0.03,0.03,0.0,0.01,0.01,0.03,0.0,0.0,0.02,0.0,0.0,0.03,0.0,0.0,0.0,0.0,0.01,0.03,0.0,0.01,0.03,0.01,0.0,0.0,0.0,0.0,0.03,0.03,0.03,0.01,0.0,0.0,0.01,0.0,0.0,0.01,0.0,0.0,0.01,0.03,0.0,0.03,0.0,0.0,0.0,0.01,0.03,0.0,0.03,0.01,0.0,0.0,0.01,0.01,0.0,0.01,0.03,0.0,0.03,0.0,0.0,0.0,0.03,0.0,0.01,0.01,0.0,0.0,0.01,0.0,0.0,0.01,0.03,0.0,0.0,0.03,0.01,0.0,0.03,0.0,0.01,0.0,0.0,0.0,0.0,0.01,0.01,0.0,0.0,0.0,0.03,0.0,0.01,0.0,0.0,0.01,0.0,0.0,0.0,0.01,0.0,0.02,0.01,0.01,0.01,0.0,0.01,0.0,0.0,0.01,0.0,0.01,0.01,0.0,0.0,0.0,0.01,0.0,0.0,0.0,0.03,0.01,0.0,0.0,0.0,0.0,0.01,0.03,0.0,0.0,0.03,0.03,0.01,0.0,0.0,0.03,0.0,0.0,0.01,0.01,0.01,0.0,0.0,0.0,0.03,0.0,0.0,0.01,0.0,0.0,0.0,0.03,0.0,0.01,0.03,0.0,0.0,0.0,0.0,0.03,0.03,0.01,0.0,0.0,0.0,0.03,0.01,0.01,0.0,0.03,0.0,0.0,0.01,0.0,0.0,0.0,0.0,0.03,0.01,0.0,0.03,0.03,0.01,0.02,0.0,0.0,0.0,0.01,0.0,0.0,0.03,0.0,0.0,0.01,0.01,0.0,0.0,0.03,0.0,0.03,0.0,0.01,0.0,0.0,0.01,0.0,0.0,0.0,0.01,0.0,0.0,0.0,0.0,0.01,0.02,0.0,0.01,0.01,0.0,0.0,0.0,0.0,0.01,0.02,0.03,0.0,0.0,0.0,0.0,0.0,0.0,0.0,0.0,0.03,0.0,0.0,0.0,0.01,0.0,0.0,0.01,0.03,0.03,0.03,0.03,0.0,0.0,0.0,0.0,0.03,0.0,0.0,0.0,0.0,0.0,0.0,0.0,0.0,0.0,0.02,0.0,0.0,0.0,0.02,0.0,0.01,0.03,0.02,0.01,0.01,0.0,0.0,0.02,0.0,0.01,0.0,0.0,0.0,0.01,0.0,0.03,0.0,0.0,0.02,0.01,0.02,0.01,0.0,0.0,0.0,0.0,0.0,0.0,0.0,0.03,0.03,0.0,0.03,0.0,0.0,0.01,0.0,0.03,0.0,0.0,0.03,0.0,0.01,0.0,0.01,0.0,0.0,0.01,0.0,0.0,0.0,0.0,0.0,0.02,0.0,0.0,0.03,0.03,0.0,0.03,0.02,0.0,0.03,0.0,0.02,0.0,0.0,0.0,0.01,0.0,0.02,0.0,0.0,0.01,0.0,0.0,0.0,0.0,0.0,0.01,0.01,0.0,0.0,0.0,0.0,0.0,0.0,0.0,0.03,0.0,0.0,0.0,0.0,0.0,0.0,0.0,0.01,0.01,0.0,0.0,0.0,0.01,0.03,0.03,0.0,0.0,0.01,0.0,0.01,0.0,0.0,0.01,0.0,0.0,0.02,0.01,0.0,0.0,0.03,0.0,0.0,0.0,0.01,0.0,0.01,0.01,0.0,0.0,0.03,0.02,0.01,0.02,0.0,0.01,0.01,0.0,0.01,0.0,0.0,0.01,0.0,0.01,0.01,0.01,0.0,0.01,0.0,0.0,0.0,0.02,0.0,0.0,0.01,0.0,0.0,0.0,0.02,0.0,0.0,0.0,0.0,0.0,0.0,0.0,0.01,0.02,0.0,0.01,0.01,0.01,0.0,0.0,0.01,0.03,0.0,0.02,0.0,0.01,0.0,0.03,0.0,0.0,0.01,0.0,0.01,0.01,0.01,0.0,0.0,0.02,0.01,0.01,0.02,0.01,0.03,0.0,0.01,0.0,0.0,0.0,0.02,0.01,0.01,0.01,0.03,0.0,0.0,0.0,0.0,0.01,0.0,0.02,0.0,0.01,0.03,0.0,0.0,0.02,0.02,0.0,0.0,0.0,0.0,0.03,0.0,0.03,0.0,0.02,0.0,0.02,0.0,0.0,0.02,0.0,0.01,0.01,0.0,0.0,0.0,0.01,0.02,0.01,0.0,0.01,0.01,0.0,0.0,0.01,0.0,0.01,0.0,0.0,0.01,0.0,0.0,0.0,0.0,0.0,0.01,0.0,0.0,0.0,0.01,0.0,0.0,0.0,0.0,0.03,0.0,0.0,0.01,0.01,0.0,0.0,0.0,0.0,0.01,0.01,0.0,0.0,0.03,0.02,0.0,0.0,0.03,0.0,0.0,0.01,0.03,0.0,0.01,0.02,0.03,0.0,0.0,0.02,0.0,0.0,0.0,0.0,0.0,0.02,0.02,0.02,0.02,0.01,0.02,0.0,0.01,0.01,0.0,0.0,0.02,0.0,0.0,0.03,0.01,0.01,0.0,0.02,0.0,0.0,0.0,0.0,0.0,0.01,0.0,0.0,0.02,0.0,0.02,0.0,0.01,0.0,0.0,0.0,0.0,0.02,0.0,0.02,0.0,0.0,0.0,0.0,0.02,0.01,0.0,0.0,0.0,0.02,0.02,0.02,0.0,0.01,0.0,0.0,0.0,0.02,0.01,0.01,0.01,0.0,0.0,0.01,0.01,0.0,0.01,0.0,0.0,0.02,0.02,0.01,0.01,0.01,0.02,0.0,0.02,0.02,0.01,0.01,0.02,0.0,0.0,0.0,0.0,0.01,0.02,0.0,0.0,0.0,0.02,0.02,0.0,0.0,0.0,0.0,0.0,0.01,0.0,0.0,0.02,0.0,0.0,0.03,0.0,0.0,0.0,0.01,0.0,0.0,0.01,0.0,0.0,0.0,0.0,0.01,0.01,0.0,0.0,0.0,0.0,0.01,0.02,0.0,0.0,0.01,0.02,0.01,0.02,0.02,0.01,0.02,0.0,0.02,0.01,0.0,0.02,0.01,0.0,0.0,0.0,0.02,0.02,0.0,0.0,0.0,0.01,0.0,0.0,0.0,0.0,0.0,0.01,0.0,0.01,0.0,0.01,0.02,0.0,0.0,0.0,0.0,0.01,0.01,0.0,0.0,0.0,0.01,0.0,0.02,0.0,0.02,0.01,0.02,0.0,0.01,0.0,0.01,0.0,0.0,0.01,0.0,0.02,0.0,0.02,0.0,0.01,0.01,0.0,0.02,0.0,0.0,0.02,0.01,0.0,0.02,0.0,0.0,0.0,0.0,0.0,0.0,0.02,0.01,0.0,0.0,0.0,0.01,0.0,0.01,0.0,0.01,0.0,0.0,0.0,0.0,0.02,0.02,0.02,0.0,0.01,0.01,0.01,0.0,0.0,0.0,0.01,0.0,0.01,0.0,0.0,0.01,0.0,0.02,0.02,0.02,0.0,0.0,0.0,0.01,0.0,0.01,0.0,0.0,0.0,0.0,0.0,0.0,0.0,0.0,0.01,0.0,0.0,0.0,0.0,0.0,0.0,0.0,0.0,0.0,0.0,0.0,0.02,0.0,0.0,0.0,0.02,0.02,0.01,0.0,0.0,0.01,0.0,0.0,0.02,0.0,0.0,0.02,0.02,0.02,0.0,0.02,0.02,0.0,0.0,0.0,0.01,0.01,0.01,0.0,0.0,0.0,0.02,0.0,0.0,0.0,0.0,0.0,0.0,0.0,0.01,0.01,0.02,0.0,0.01,0.0,0.01,0.01,0.0,0.02,0.01,0.01,0.02,0.02,0.0,0.02,0.0,0.0,0.0,0.0,0.02,0.0,0.01,0.0,0.0,0.0,0.0,0.0,0.02,0.02,0.02,0.0,0.0,0.0,0.01,0.01,0.01,0.01,0.01,0.0,0.02,0.02,0.01,0.0,0.0,0.0,0.0,0.0,0.0,0.0,0.0,0.02,0.0,0.0,0.02,0.0,0.01,0.02,0.01,0.02,0.0,0.02,0.0,0.0,0.02,0.0,0.0,0.0,0.02,0.0,0.02,0.0,0.0,0.02,0.01,0.0,0.0,0.0,0.02,0.02,0.0,0.02,0.01,0.0,0.0,0.0,0.01,0.0,0.0,0.0,0.0,0.02,0.0,0.02,0.0,0.01,0.01,0.0,0.02,0.0,0.01,0.0,0.0,0.0,0.0,0.0,0.01,0.0,0.02,0.01,0.0,0.02,0.01,0.0,0.0,0.0,0.0,0.02,0.0,0.02,0.01,0.0,0.02,0.0,0.0,0.0,0.02,0.02,0.01,0.01,0.0,0.0,0.02,0.02,0.01,0.02,0.02,0.0,0.0,0.0,0.02,0.0,0.0,0.0,0.0,0.0,0.0,0.01,0.0,0.0,0.02,0.02,0.0,0.0,0.0,0.02,0.0,0.0,0.01,0.0,0.0,0.0,0.01,0.0,0.0,0.0,0.0,0.02,0.02,0.0,0.0,0.0,0.0,0.0,0.0,0.0,0.0,0.02,0.01,0.0,0.02,0.0,0.01,0.01,0.02,0.02,0.0,0.02,0.0,0.02,0.02,0.02,0.0,0.01,0.0,0.0,0.01,0.0,0.02,0.02,0.0,0.0,0.0,0.0,0.0,0.0,0.01,0.0,0.0,0.02,0.01,0.0,0.0,0.0,0.0,0.0,0.0,0.02,0.02,0.0,0.02,0.0,0.0,0.0,0.01,0.02,0.0,0.0,0.02,0.02,0.0,0.0,0.0,0.0,0.0,0.0,0.02,0.0,0.0,0.0,0.0,0.0,0.0,0.0,0.01,0.0,0.02,0.0,0.02,0.02,0.02,0.02,0.01,0.01,0.0,0.02,0.02,0.0,0.0,0.0,0.0,0.0,0.0,0.0,0.0,0.02,0.0,0.0,0.01,0.0,0.0,0.0,0.0,0.0,0.0,0.02,0.0,0.01,0.02,0.02,0.02,0.0,0.0,0.0,0.0,0.0,0.0,0.0,0.0,0.0,0.01,0.02,0.0,0.0,0.02,0.01,0.0,0.02,0.0,0.02,0.0,0.0,0.0,0.02,0.0,0.0,0.02,0.0,0.0,0.0,0.01,0.0,0.0,0.0,0.02,0.0,0.0,0.01,0.02,0.01,0.0,0.01,0.0,0.0,0.0,0.0,0.0,0.0,0.0,0.02,0.0,0.0,0.02,0.01,0.0,0.0,0.02,0.0,0.0,0.0,0.0,0.0,0.0,0.01,0.0,0.02,0.01,0.0,0.0,0.0,0.02,0.0,0.02,0.0,0.02,0.0,0.0,0.01,0.0,0.01,0.0,0.02,0.0,0.0,0.01,0.02,0.0,0.0,0.0,0.0,0.0,0.0,0.0,0.02,0.0,0.0,0.0,0.0,0.0,0.02,0.02,0.01,0.0,0.02,0.0,0.01,0.0,0.02,0.02,0.0,0.0,0.0,0.01,0.02,0.0,0.0,0.0,0.0,0.0,0.0,0.0,0.02,0.0,0.0,0.01,0.01,0.0,0.0,0.0,0.0,0.0,0.0,0.0,0.02,0.02,0.0,0.0,0.0,0.0,0.0,0.01,0.01,0.0,0.0,0.01,0.01,0.0,0.0,0.0,0.0,0.0,0.0,0.02,0.0,0.0,0.0,0.02,0.02,0.0,0.0,0.0,0.0,0.0,0.01,0.0,0.0,0.0,0.0,0.0,0.0,0.01,0.01,0.02,0.0,0.01,0.0,0.0,0.02,0.02,0.0,0.02,0.0,0.0,0.0,0.0,0.0,0.02,0.0,0.01,0.0,0.01,0.0,0.02,0.02,0.0,0.01,0.01,0.02,0.02,0.01,0.01,0.0,0.01,0.0,0.02,0.02,0.02,0.0,0.0,0.0,0.02,0.0,0.0,0.0,0.02,0.02,0.01,0.02,0.0,0.0,0.0,0.0,0.0,0.02,0.0,0.02,0.0,0.02,0.02,0.01,0.02,0.02,0.0,0.02,0.0,0.0,0.01,0.0,0.0,0.0,0.0,0.0,0.0,0.0,0.01,0.0,0.0,0.0,0.02,0.01,0.0,0.0,0.02,0.0,0.0,0.02,0.0,0.0,0.02,0.0,0.0,0.02,0.0,0.0,0.0,0.01,0.0,0.0,0.01,0.0,0.0,0.0,0.0,0.02,0.0,0.0,0.0,0.0,0.01,0.0,0.02,0.0,0.0,0.0,0.0,0.01,0.01,0.0,0.0,0.0,0.0,0.0,0.0,0.0,0.0,0.0,0.0,0.0,0.0,0.0,0.0,0.0,0.02,0.01,0.01,0.0,0.0,0.0,0.0,0.0,0.0,0.01,0.0,0.0,0.0,0.0,0.0,0.0,0.0,0.0,0.0,0.0,0.0,0.0,0.0,0.0,0.01,0.0,0.01,0.0,0.02,0.0,0.0,0.0,0.0,0.02,0.0,0.02,0.0,0.0,0.0,0.0,0.01,0.0,0.0,0.01,0.01,0.0,0.0,0.0,0.0,0.0,0.01,0.0,0.0,0.0,0.0,0.0,0.0,0.0,0.0,0.01,0.0,0.02,0.01,0.0,0.0,0.01,0.0,0.0,0.0,0.0,0.0,0.02,0.01,0.02,0.0,0.0,0.0,0.0,0.01,0.02,0.0,0.0,0.02,0.0,0.0,0.0,0.0,0.01,0.0,0.01,0.0,0.0,0.0,0.0,0.01,0.0,0.0,0.0,0.0,0.0,0.02,0.01,0.0,0.0,0.0,0.0,0.02,0.02,0.0,0.01,0.0,0.0,0.01,0.01,0.0,0.01,0.0,0.0,0.01,0.0,0.0,0.0,0.0,0.01,0.0,0.01,0.0,0.0,0.0,0.0,0.0,0.0,0.01,0.01,0.0,0.0,0.0,0.0,0.0,0.02,0.01,0.0,0.01,0.0,0.0,0.0,0.0,0.0,0.0,0.0,0.0,0.0,0.0,0.01,0.0,0.0,0.01,0.0,0.0,0.0,0.01,0.02,0.0,0.0,0.0,0.0,0.0,0.01,0.02,0.01,0.0,0.0,0.0,0.0,0.0,0.01,0.01,0.0,0.0,0.01,0.0,0.0,0.0,0.0,0.01,0.0,0.01,0.02,0.0,0.0,0.0,0.0,0.0,0.0,0.0,0.0,0.0,0.0,0.0,0.0,0.01,0.0,0.01,0.0,0.01,0.0,0.01,0.01,0.0,0.01,0.0,0.0,0.0,0.0,0.0,0.0,0.0,0.02,0.0,0.0,0.0,0.01,0.01,0.0,0.02,0.0,0.0,0.0,0.01,0.0,0.0,0.0,0.0,0.0,0.0,0.0,0.0,0.0,0.01,0.0,0.0,0.0,0.01,0.0,0.0,0.0,0.01,0.0,0.01,0.01,0.0,0.01,0.0,0.0,0.0,0.01,0.02,0.01,0.0,0.0,0.0,0.01,0.01,0.0,0.01,0.0,0.0,0.0,0.0,0.02,0.0,0.01,0.0,0.01,0.0,0.0,0.0,0.0,0.01,0.0,0.01,0.0,0.0,0.0,0.01,0.0,0.0,0.0,0.0,0.0,0.0,0.01,0.0,0.0,0.01,0.01,0.01,0.01,0.0,0.0,0.0,0.0,0.0,0.0,0.0,0.0,0.0,0.0,0.0,0.0,0.0,0.0,0.0,0.0,0.01,0.0,0.0,0.0,0.01,0.01,0.01,0.0,0.0,0.0,0.0,0.0,0.0,0.0,0.0,0.0,0.0,0.0,0.0,0.0,0.0,0.01,0.0,0.0,0.01,0.0,0.0,0.0,0.0,0.0,0.0,0.0,0.0,0.0,0.01,0.0,0.0,0.0,0.0,0.0,0.0,0.0,0.01,0.01,0.0,0.0,0.0,0.0,0.0,0.0,0.0,0.0,0.0,0.0,0.0,0.01,0.0,0.0,0.01,0.0,0.0,0.0,0.0,0.01,0.0,0.0,0.0,0.0,0.01,0.0,0.01,0.0,0.0,0.0,0.0,0.0,0.0,0.0,0.0,0.0,0.01,0.01,0.0,0.0,0.01,0.01,0.01,0.0,0.0,0.0,0.0,0.0,0.0,0.0,0.0,0.01,0.01,0.0,0.0,0.0,0.0,0.01,0.0,0.0,0.01,0.0,0.0,0.01,0.01,0.01,0.01,0.0,0.0,0.0,0.0,0.01,0.0,0.0,0.0,0.0,0.0,0.0,0.0,0.0,0.0,0.01,0.0,0.0,0.0,0.0,0.01,0.0,0.0,0.01,0.0,0.0,0.01,0.0,0.0,0.0,0.01,0.01,0.0,0.0,0.0,0.0,0.0,0.0,0.01,0.0,0.0,0.0,0.0,0.01,0.0,0.01,0.0,0.0,0.01,0.0,0.0,0.0,0.01,0.0,0.0,0.0,0.0,0.0,0.0,0.0,0.01,0.0,0.0,0.0,0.0,0.01,0.0,0.0,0.0,0.01,0.0,0.0,0.01,0.01,0.0,0.01,0.0,0.0,0.01,0.0,0.0,0.01,0.01,0.0,0.0,0.01,0.01,0.0,0.01,0.0,0.0,0.0,0.0,0.01,0.01,0.0,0.01,0.01,0.0,0.0,0.0,0.0,0.01,0.0,0.0,0.0,0.0,0.0,0.0,0.0,0.0,0.0,0.0,0.0,0.0,0.01,0.0,0.0,0.0,0.0,0.0,0.0,0.0,0.0,0.0,0.0,0.0,0.01,0.01,0.0,0.0,0.0,0.0,0.01,0.0,0.0,0.0,0.0,0.0,0.01,0.0,0.0,0.0,0.0,0.01,0.0,0.0,0.0,0.0,0.0,0.01,0.0,0.0,0.01,0.0,0.0,0.01,0.01,0.01,0.01,0.0,0.0,0.01,0.0,0.0,0.0,0.0,0.0,0.0,0.0,0.01,0.0,0.0,0.0,0.0,0.01,0.0,0.01,0.01,0.0,0.01,0.0,0.0,0.0,0.0,0.0,0.0,0.0,0.0,0.01,0.0,0.0,0.0,0.0,0.0,0.0,0.0,0.01,0.01,0.0,0.0,0.0,0.01,0.0,0.0,0.0,0.01,0.01,0.0,0.01,0.01,0.0,0.01,0.01,0.0,0.0,0.01,0.0,0.0,0.0,0.0,0.01,0.01,0.0,0.01,0.0,0.0,0.01,0.0,0.01,0.0,0.0,0.0,0.0,0.0,0.0,0.0,0.0,0.0,0.01,0.0,0.0,0.0,0.0,0.01,0.0,0.0,0.01,0.0,0.0,0.0,0.0,0.0,0.0,0.01,0.0,0.0,0.0,0.0,0.0,0.0,0.0,0.0,0.0,0.0,0.01,0.0,0.01,0.0,0.0,0.0,0.0,0.0,0.0,0.0,0.01,0.01,0.0,0.0,0.0,0.0,0.0,0.0,0.01,0.0,0.0,0.0,0.01,0.0,0.01,0.0,0.0,0.0,0.0,0.0,0.0,0.0,0.0,0.0,0.0,0.0,0.0,0.0,0.0,0.01,0.01,0.0,0.01,0.0,0.0,0.0,0.0,0.0,0.0,0.01,0.01,0.0,0.01,0.0,0.0,0.01,0.0,0.0,0.0,0.0,0.0,0.0,0.01,0.0,0.0,0.0,0.0,0.01,0.01,0.0,0.0,0.0,0.01,0.0,0.0,0.0,0.0,0.01,0.0,0.0,0.0,0.0,0.0,0.0,0.0,0.0,0.0,0.0,0.0,0.01,0.01,0.0,0.0,0.0,0.01,0.0,0.0,0.0,0.0,0.0,0.0,0.0,0.0,0.0,0.0,0.01,0.0,0.0,0.0,0.0,0.01,0.0,0.0,0.0,0.0,0.0,0.0,0.01,0.01,0.01,0.0,0.01,0.01,0.0,0.0,0.0,0.0,0.01,0.0,0.01,0.01,0.0,0.0,0.0,0.0,0.01,0.0,0.0,0.0,0.0,0.01,0.0,0.0,0.01,0.01,0.0,0.0,0.0,0.01,0.01,0.0,0.01,0.0,0.0,0.01,0.01,0.01,0.0,0.01,0.0,0.01,0.0,0.0,0.0,0.01,0.01,0.0,0.0,0.0,0.0,0.0,0.01,0.0,0.01,0.01,0.0,0.0,0.0,0.0,0.0,0.0,0.0,0.0,0.0,0.0,0.01,0.0,0.0,0.0,0.01,0.0,0.0,0.0,0.0,0.01,0.0,0.0,0.0,0.01,0.0,0.0,0.01,0.0,0.0,0.0,0.0,0.0,0.0,0.0,0.0,0.0,0.0,0.01,0.01,0.01,0.01,0.0,0.01,0.01,0.0,0.0,0.0,0.0,0.0,0.01,0.01,0.0,0.0,0.0,0.0,0.01,0.0,0.0,0.0,0.0,0.0,0.01,0.0,0.0,0.01,0.0,0.0,0.0,0.0,0.01,0.0,0.0,0.0,0.01,0.0,0.0,0.0,0.0,0.0,0.0,0.0,0.01,0.0,0.01,0.0,0.0,0.0,0.0,0.0,0.0,0.0,0.0,0.0,0.0,0.01,0.0,0.0,0.01,0.01,0.0,0.01,0.0,0.01,0.0,0.0,0.0,0.01,0.0,0.0,0.0,0.0,0.0,0.0,0.0,0.0,0.0,0.0,0.0,0.0,0.01,0.01,0.01,0.0,0.0,0.0,0.01,0.0,0.0,0.01,0.01,0.0,0.0,0.0,0.0,0.0,0.0,0.0,0.0,0.0,0.0,0.0,0.0,0.01,0.0,0.0,0.01,0.0,0.0,0.0,0.0,0.0,0.0,0.01,0.0,0.0,0.0,0.0,0.01,0.0,0.0,0.0,0.0,0.0,0.01,0.01,0.0,0.0,0.0,0.01,0.0,0.0,0.0,0.0,0.01,0.0,0.0,0.0,0.0,0.0,0.0,0.0,0.0,0.0,0.01,0.0],\"y\":[41.49,29.08,15.85,15.75,11.27,23.2,11.38,14.03,14.59,26.93,9.07,9.81,9.0,8.94,9.09,14.97,7.01,9.43,12.78,4.75,6.42,10.83,9.54,9.63,8.41,6.06,5.57,3.44,6.85,9.03,5.89,9.67,5.17,5.77,4.99,8.25,8.52,5.54,6.99,6.75,5.98,2.55,4.74,7.97,3.8,4.4,6.91,3.01,6.16,4.23,6.16,6.76,4.02,4.89,2.96,4.99,4.76,5.99,4.34,5.08,6.05,6.72,7.03,5.55,3.66,6.63,3.01,4.09,5.84,3.88,5.91,4.36,5.58,2.01,4.46,5.03,3.54,1.11,1.79,6.82,3.81,2.91,1.06,0.98,5.8,2.58,2.91,2.28,2.82,7.28,2.9,3.66,2.93,2.8,4.1,3.78,5.39,3.24,4.79,4.46,3.83,4.52,3.51,2.85,3.27,3.27,3.68,4.41,3.13,2.47,4.12,4.14,0.78,2.71,2.93,2.77,3.23,3.5,4.15,3.27,3.1,0.84,1.67,2.79,0.79,3.25,2.55,3.74,2.64,4.98,2.57,3.64,2.55,4.34,3.7,4.01,2.47,0.07,3.11,3.92,4.05,3.54,2.45,4.47,2.63,3.18,2.41,1.88,2.8,0.66,3.66,1.88,2.26,3.13,2.49,2.97,2.54,2.95,3.28,2.7,2.99,0.47,3.14,2.62,3.21,3.18,2.72,2.07,1.97,1.74,2.18,3.02,3.13,1.62,1.92,3.33,3.1,1.22,2.3,4.26,0.65,2.43,2.93,2.32,2.49,1.08,1.9,2.1,0.96,1.64,1.98,2.71,3.59,3.21,3.22,3.81,1.96,2.66,1.7,0.6,3.4,2.05,3.42,2.59,2.79,3.36,3.06,3.49,3.39,1.85,2.31,3.98,2.89,2.91,0.0,2.62,2.74,2.56,1.91,0.57,2.57,0.28,2.99,2.36,1.73,3.05,1.87,1.94,2.08,2.29,3.06,2.42,2.6,1.89,1.78,1.55,1.78,3.19,4.18,4.21,3.63,2.71,0.2,1.96,1.54,2.71,2.55,2.67,2.66,0.1,2.82,2.19,2.03,1.73,3.03,2.2,0.92,2.75,4.0,2.51,2.64,2.11,2.23,1.41,3.0,1.46,2.45,1.7,2.03,0.78,0.88,1.3,1.28,2.25,2.02,0.84,3.38,2.04,3.79,3.36,1.4,4.03,1.65,0.71,2.14,1.42,2.13,2.45,2.57,2.65,2.32,2.35,0.12,2.28,1.68,1.12,2.78,1.38,1.22,2.15,0.92,2.67,2.08,2.1,1.18,1.97,2.29,1.33,0.67,1.53,1.15,0.93,0.1,2.12,2.48,0.16,0.87,2.12,2.21,2.26,1.06,1.44,1.49,1.14,2.4,1.82,1.4,1.98,2.03,1.98,1.37,0.96,1.3,1.93,0.58,1.49,1.3,1.59,0.0,2.13,1.65,1.87,2.53,2.33,0.71,2.08,2.23,0.6,0.05,1.78,2.08,1.28,1.93,2.05,2.02,1.61,2.38,2.18,2.01,1.57,1.56,1.23,1.66,1.9,1.98,2.14,0.71,1.96,2.14,2.66,1.22,2.11,1.17,2.84,1.64,2.2,0.59,0.59,1.94,2.09,2.11,2.26,0.88,0.0,2.39,1.55,1.34,1.82,1.13,0.86,1.75,1.73,0.46,1.56,2.03,1.08,1.43,2.47,1.9,0.65,1.63,1.9,0.0,1.45,1.44,1.15,1.47,1.99,1.5,0.8,2.13,1.89,1.36,0.5,0.25,0.95,0.88,1.27,2.33,0.03,1.72,0.73,2.26,1.76,1.35,1.48,0.0,2.15,1.78,1.18,1.52,1.86,0.58,2.06,1.88,1.92,1.79,1.22,0.88,1.89,0.68,1.7,2.14,2.31,0.91,1.69,0.08,1.29,1.99,0.78,2.17,2.5,1.92,1.89,1.4,1.57,1.72,1.94,1.91,1.38,2.06,1.94,1.54,1.4,1.85,2.03,1.45,2.38,2.6,1.15,1.01,1.61,1.67,0.12,1.36,0.47,1.33,0.96,1.58,1.04,1.57,1.36,1.82,1.98,2.22,1.45,1.76,2.07,1.83,0.87,1.43,1.75,0.61,1.84,1.54,1.75,0.08,0.71,0.99,1.51,1.54,2.03,1.3,0.09,1.87,2.53,2.09,1.98,1.37,1.29,1.37,1.4,0.4,1.87,1.65,2.52,1.28,1.32,1.96,1.59,0.02,1.05,1.32,1.32,1.74,1.47,0.29,1.45,1.96,1.19,0.0,1.98,0.89,2.19,0.3,0.46,1.68,1.27,1.44,1.2,1.41,1.24,1.25,2.56,1.43,1.07,1.02,1.33,1.52,1.49,1.75,0.99,1.47,1.25,2.42,1.85,2.38,1.63,1.46,1.23,0.0,0.69,0.78,1.95,1.48,1.78,1.44,1.99,1.59,1.15,1.56,0.86,0.0,2.0,1.53,2.0,0.76,1.53,1.7,2.15,1.07,1.55,0.59,2.31,0.63,0.9,1.02,1.86,0.48,0.93,2.03,0.64,0.89,1.04,0.37,1.4,1.31,0.28,1.76,2.14,1.7,0.15,2.11,1.21,1.13,2.21,2.36,1.13,1.55,1.5,0.49,0.6,2.29,0.13,1.28,0.86,1.84,1.29,1.81,1.15,1.38,1.15,1.72,1.93,2.1,1.13,1.67,1.55,0.0,0.93,2.12,1.44,0.87,1.07,1.52,1.56,1.26,1.27,0.29,1.63,2.07,0.81,1.43,0.69,2.07,2.1,0.77,2.3,2.15,0.49,1.74,1.54,1.49,1.07,1.48,1.67,1.02,1.73,1.94,1.0,1.46,2.04,1.16,2.18,2.28,0.96,1.25,2.03,1.38,0.69,1.07,1.39,0.0,1.68,1.32,0.92,1.2,1.08,1.27,1.14,1.93,1.57,0.78,0.79,0.85,0.52,1.58,0.28,1.65,1.24,0.95,0.95,1.08,0.91,1.23,1.38,0.3,1.11,0.0,0.51,0.38,1.01,1.05,0.07,1.12,1.34,1.07,1.22,0.9,1.4,1.19,1.34,0.28,0.62,1.52,1.48,1.93,0.67,0.51,1.19,1.29,1.74,1.42,1.09,1.27,0.88,1.71,1.0,1.03,1.45,1.47,1.06,1.78,2.06,2.01,1.11,0.15,1.28,1.06,0.34,1.17,1.68,0.87,1.04,0.59,0.0,1.92,1.21,1.97,1.29,1.48,1.27,1.6,0.48,1.23,1.51,1.5,0.54,0.14,0.6,0.52,0.66,0.01,1.47,1.2,1.99,1.04,0.64,0.82,0.59,0.93,0.91,1.47,1.37,0.83,1.61,1.2,1.68,0.11,1.68,0.9,1.35,0.63,1.63,0.94,1.17,1.54,1.77,1.41,0.99,0.0,1.16,1.26,1.84,1.97,0.92,0.7,0.46,1.77,1.11,0.63,1.36,0.97,0.59,2.04,0.89,0.79,1.54,0.63,1.48,0.75,1.64,1.04,0.73,1.2,0.71,1.15,0.68,1.06,0.89,0.73,1.23,1.43,1.16,1.47,0.71,1.75,0.48,1.11,1.45,0.73,1.74,0.71,1.2,0.58,1.53,1.25,1.47,1.57,1.05,1.81,1.76,0.82,0.49,1.2,0.77,0.89,0.35,0.52,1.48,0.95,0.75,1.21,0.75,0.93,1.25,1.11,0.72,0.99,0.74,1.2,0.71,1.01,1.84,1.22,0.5,1.13,0.18,0.79,1.09,1.3,0.74,1.26,1.09,1.69,0.95,0.49,1.94,0.59,0.96,1.09,1.41,1.42,1.0,1.15,1.1,1.48,0.34,1.06,1.53,0.56,1.51,0.86,0.92,0.73,0.87,0.76,1.03,0.94,0.26,1.06,0.72,1.14,1.3,0.77,1.08,1.03,0.59,0.73,1.56,0.21,1.05,1.37,0.92,0.25,0.89,1.42,0.47,0.96,0.22,0.53,0.73,0.87,1.75,1.12,0.94,1.37,0.0,0.64,0.91,1.34,0.62,0.85,0.61,1.33,0.83,1.26,0.8,1.05,0.0,0.97,1.53,0.83,1.31,0.84,1.33,0.46,0.25,1.09,0.92,0.61,1.24,1.73,1.81,0.91,0.22,0.55,1.05,1.1,0.78,0.88,1.0,0.93,1.66,1.41,1.0,0.49,1.26,0.52,1.05,1.25,0.23,1.12,0.39,0.32,0.45,0.41,0.93,0.85,1.16,0.31,1.59,0.24,0.63,1.19,1.07,0.85,1.27,1.06,0.93,1.02,0.53,0.86,1.23,0.86,0.72,0.68,1.26,1.11,0.52,0.35,0.61,1.68,0.9,1.24,0.06,1.0,0.7,0.94,0.79,0.83,0.85,1.25,0.72,0.63,0.83,1.19,0.69,0.96,1.69,1.66,0.49,0.59,0.67,0.85,0.64,1.48,0.94,1.15,0.95,1.06,0.85,0.61,0.66,0.61,0.7,0.41,1.61,0.8,0.59,1.43,0.99,1.15,0.88,1.09,0.0,1.25,1.58,0.34,0.23,0.99,0.49,0.62,0.0,0.69,1.41,1.22,1.36,0.88,1.01,0.94,0.96,0.55,1.37,1.1,0.87,0.79,1.52,0.98,0.98,0.8,0.9,0.82,1.58,0.9,0.59,0.38,1.67,1.23,0.91,1.18,0.94,0.93,0.45,1.58,0.81,0.43,1.22,0.91,1.09,0.59,0.82,0.97,1.13,1.35,1.08,0.63,0.57,1.0,0.78,0.86,0.81,0.76,1.25,0.96,1.54,0.9,1.06,0.48,0.0,1.09,0.32,0.8,0.76,1.52,0.93,0.74,0.8,1.44,0.54,1.02,0.44,1.54,0.45,0.78,0.58,0.6,1.18,0.71,1.33,1.32,0.59,0.99,0.8,0.82,0.99,1.01,0.9,0.8,0.79,0.92,0.66,0.0,0.98,0.0,1.5,0.79,0.95,0.4,1.3,0.71,0.46,1.49,0.71,0.19,0.58,1.05,1.26,0.01,1.15,0.61,0.58,1.48,0.04,0.92,0.95,0.88,0.47,0.87,0.85,0.81,0.88,0.62,0.94,0.64,0.88,1.06,0.58,0.85,0.1,0.77,0.98,0.95,0.18,0.77,1.07,0.59,1.32,0.58,0.67,0.0,0.68,0.59,0.84,0.72,0.76,0.91,0.79,0.85,1.13,0.57,0.9,0.8,0.6,1.55,1.07,0.69,1.06,0.68,0.71,0.83,0.58,1.4,0.86,1.26,0.85,0.63,0.92,0.71,0.57,1.19,1.44,0.95,0.17,1.09,0.85,0.73,0.94,0.44,1.07,0.36,1.43,0.0,0.18,1.45,1.43,0.5,0.6,1.11,1.26,1.3,0.65,0.84,0.02,0.0,0.93,0.23,1.41,0.35,1.18,0.99,0.64,0.66,0.86,1.41,0.49,1.08,1.19,1.2,0.46,1.0,0.0,0.75,1.13,1.21,1.08,0.72,1.0,1.22,1.0,0.82,0.0,0.82,0.61,0.37,0.43,0.47,0.28,1.2,0.7,0.78,0.72,1.08,0.82,0.39,0.58,0.72,0.62,1.04,1.33,0.45,0.69,0.95,0.78,1.15,0.4,0.29,1.02,0.93,0.81,0.72,0.46,0.83,0.95,1.36,0.81,0.93,0.63,0.94,0.47,1.17,0.53,0.51,0.37,0.89,0.86,0.75,0.71,0.0,0.54,0.53,0.0,0.0,0.0,0.0,1.24,0.97,0.11,1.38,0.37,0.79,0.04,0.73,0.48,0.26,0.33,0.92,0.92,1.23,0.33,1.03,0.73,1.16,0.8,0.96,0.91,0.85,0.81,0.82,0.0,0.79,0.07,0.7,0.8,1.35,0.89,1.15,0.71,0.57,0.12,0.89,0.63,0.0,0.47,0.58,0.64,0.95,1.09,0.97,1.07,0.97,0.36,0.87,1.02,0.0,1.19,0.69,0.82,1.07,0.38,1.15,0.43,0.74,0.0,0.38,0.03,0.78,0.49,0.34,1.27,0.5,1.19,1.05,0.24,0.87,0.51,0.76,0.96,0.49,0.58,0.5,0.87,0.77,0.46,0.43,0.71,1.24,0.8,0.67,0.63,0.6,0.46,0.24,0.76,0.5,0.43,0.74,0.99,0.55,0.0,0.86,0.86,0.63,0.63,0.23,0.27,0.0,1.26,0.47,0.82,0.67,0.76,0.81,0.0,0.25,1.29,0.23,1.18,0.2,0.59,0.66,0.76,1.0,0.22,0.7,0.79,0.66,0.24,0.7,0.15,0.0,0.31,0.67,0.95,0.77,1.09,1.03,0.85,0.84,1.22,0.65,1.32,1.1,0.62,1.27,0.79,0.47,0.86,0.89,0.92,1.08,0.9,0.93,0.74,0.87,0.9,0.43,0.65,0.71,0.51,0.72,0.69,0.72,0.4,0.01,0.52,0.69,0.03,0.73,1.06,0.73,0.31,0.77,0.73,0.72,0.75,0.57,0.73,0.64,0.97,0.71,0.84,1.22,0.78,0.57,0.81,1.22,0.64,0.68,1.11,0.84,1.21,0.94,0.45,1.07,0.56,0.27,0.69,1.05,0.0,0.78,0.56,0.53,0.46,0.61,0.39,0.11,0.54,1.0,0.73,0.93,0.63,1.04,0.76,0.71,1.22,0.63,0.72,0.55,0.45,0.0,0.61,1.1,0.72,1.07,0.63,0.48,0.62,0.45,0.58,1.22,0.72,0.71,0.44,1.18,1.0,0.74,0.85,0.68,0.77,0.96,0.49,0.39,0.87,0.62,0.39,0.0,0.56,0.1,0.0,0.05,0.54,0.61,0.49,0.0,0.02,0.5,0.99,0.63,0.45,0.94,0.7,0.49,1.17,0.47,0.0,0.0,0.99,0.48,0.71,1.01,1.19,0.61,0.52,1.05,0.85,0.61,1.12,0.29,1.1,0.65,0.43,0.75,0.66,0.24,0.69,0.56,0.82,0.55,0.6,0.3,0.92,0.59,0.6,0.69,0.08,1.0,0.25,0.29,0.88,0.68,0.54,0.79,0.44,0.4,1.05,0.92,0.72,0.5,0.45,0.5,0.42,0.58,0.13,0.76,0.79,0.27,0.59,0.12,0.72,1.13,0.0,0.61,0.68,0.98,0.68,0.59,0.6,0.55,1.01,0.93,0.78,0.13,1.03,0.66,0.66,0.0,0.66,0.34,0.69,0.67,0.24,0.01,0.59,0.52,1.0,0.48,0.52,0.77,0.72,0.41,0.0,0.0,0.0,1.12,0.4,0.72,0.59,0.74,0.55,0.01,0.49,0.38,0.66,0.56,0.45,0.86,0.09,0.92,0.18,0.99,1.02,0.68,0.99,0.76,0.41,0.86,0.64,0.83,0.46,0.9,0.66,1.1,0.48,0.4,0.1,0.52,0.5,0.85,0.53,0.48,0.95,0.41,0.5,0.03,0.65,0.7,0.74,0.98,0.57,0.6,0.54,0.58,0.68,0.32,0.74,0.0,0.57,0.65,0.16,0.76,0.0,0.65,0.51,0.82,0.68,0.43,0.78,0.58,0.38,0.45,0.97,0.57,0.45,0.39,0.66,0.57,0.78,0.57,0.84,0.21,0.65,0.5,0.54,0.52,0.83,0.15,0.51,0.0,0.52,0.56,0.57,0.56,1.07,0.44,0.69,0.0,0.51,0.0,0.0,0.5,0.75,0.5,0.45,0.0,0.56,0.64,0.0,0.47,0.64,0.44,0.78,0.25,0.31,0.95,0.31,0.26,0.9,0.71,0.46,0.41,0.58,0.71,0.82,0.0,0.65,0.12,0.7,1.01,0.5,0.61,0.0,0.81,0.33,0.99,0.38,0.23,0.63,0.64,0.34,0.21,0.81,0.67,0.72,1.05,0.55,0.56,0.63,0.36,0.5,0.84,0.62,1.03,0.66,0.41,0.28,0.0,0.82,0.85,0.32,0.63,0.31,0.92,0.62,0.71,0.68,0.33,0.0,0.95,0.54,0.45,0.18,0.52,0.51,0.53,1.03,0.45,0.52,1.03,0.61,0.36,0.47,0.44,0.0,0.0,0.0,0.0,0.45,0.51,0.92,0.52,0.12,0.0,0.54,0.54,0.26,0.31,0.43,0.63,0.24,0.05,0.82,0.78,0.29,1.02,0.0,0.75,0.96,1.02,0.01,0.89,0.61,0.53,0.0,0.64,0.44,0.35,0.44,0.6,0.74,0.53,0.47,0.53,0.36,0.87,0.53,0.55,0.48,1.02,0.28,0.26,0.28,1.01,0.53,0.64,0.27,0.47,0.67,0.6,0.77,0.77,0.68,0.49,0.79,1.01,0.0,0.89,0.65,0.57,0.53,0.17,0.0,0.53,0.08,0.72,0.59,0.74,0.43,0.12,0.1,0.67,0.17,0.54,0.59,0.59,0.88,0.55,0.52,0.23,0.67,0.16,0.96,0.0,0.28,0.52,0.31,0.65,0.18,0.52,0.44,1.02,1.01,0.56,0.97,1.03,0.39,0.76,0.23,0.52,0.49,0.32,0.58,0.99,0.81,0.42,0.41,0.99,0.27,0.0,0.0,0.0,0.0,0.55,0.51,0.3,0.78,0.91,0.45,0.56,0.52,0.44,0.62,0.19,0.58,0.54,0.46,0.51,0.58,0.33,0.58,0.09,0.58,0.57,0.45,0.44,0.87,0.59,0.39,0.5,0.91,0.62,0.17,0.53,0.52,0.61,0.68,0.34,0.16,0.47,0.46,0.86,0.56,0.94,0.33,0.72,0.5,0.68,0.18,0.45,0.96,0.94,0.38,0.61,0.32,0.45,0.87,0.53,0.73,0.51,0.28,0.39,0.51,0.57,0.69,0.97,0.44,0.5,0.56,0.34,0.54,0.41,0.44,0.65,0.87,0.0,0.48,0.0,0.12,0.33,0.27,0.21,0.93,0.49,0.29,0.13,0.3,0.65,0.65,0.41,0.63,0.0,0.78,0.49,0.72,0.08,0.56,0.56,0.25,0.55,0.13,0.86,0.51,0.44,0.89,0.48,0.64,0.17,0.55,0.64,0.49,0.74,0.77,0.59,0.51,0.57,0.37,0.94,0.36,0.6,0.61,0.55,0.35,0.88,0.52,0.3,0.73,0.38,0.23,0.76,0.0,0.02,0.85,0.02,0.21,0.49,0.72,0.5,0.36,0.62,0.94,0.91,0.29,0.56,0.42,0.24,0.38,0.45,0.0,0.34,0.03,0.82,0.88,0.62,0.09,0.37,0.89,0.5,0.73,0.4,0.88,0.49,0.15,0.53,0.56,0.47,0.78,0.77,0.33,0.52,0.0,0.9,0.75,0.36,0.21,0.54,0.82,0.38,0.54,0.5,0.0,0.72,0.0,0.37,0.3,0.72,0.32,0.54,0.29,0.47,0.0,0.3,0.41,0.39,0.36,0.77,0.25,0.4,0.32,0.47,0.88,0.47,0.8,0.36,0.74,0.57,0.65,0.27,0.46,0.26,0.27,0.68,0.53,0.54,0.39,0.41,0.35,0.51,0.62,0.7,0.48,0.24,0.79,0.27,0.01,0.48,0.73,0.69,0.52,0.83,0.28,0.46,0.26,0.48,0.51,0.78,0.7,0.1,0.87,0.52,0.48,0.75,0.57,0.19,0.46,0.78,0.46,0.36,0.78,0.16,0.59,0.42,0.29,0.33,0.35,0.5,0.34,0.85,0.67,0.87,0.51,0.45,0.71,0.67,0.77,0.54,0.72,0.44,0.0,0.47,0.52,0.45,0.45,0.3,0.51,0.86,0.51,0.17,0.52,0.55,0.58,0.63,0.87,0.51,0.5,0.63,0.39,0.01,0.16,0.51,0.37,0.25,0.26,0.86,0.71,0.45,0.12,0.45,0.67,0.23,0.32,0.85,0.45,0.32,0.41,0.58,0.45,0.35,0.47,0.02,0.72,0.52,0.46,0.77,0.68,0.57,0.0,0.61,0.42,0.55,0.38,0.44,0.13,0.0,0.44,0.66,0.75,0.28,0.38,0.5,0.3,0.26,0.5,0.17,0.41,0.27,0.52,0.51,0.84,0.74,0.65,0.42,0.32,0.42,0.29,0.84,0.42,0.62,0.81,0.44,0.73,0.62,0.35,0.44,0.82,0.74,0.32,0.6,0.51,0.74,0.46,0.6,0.42,0.0,0.69,0.36,0.16,0.15,0.44,0.28,0.21,0.42,0.18,0.81,0.01,0.39,0.55,0.6,0.49,0.0,0.0,0.44,0.44,0.38,0.01,0.0,0.62,0.6,0.73,0.3,0.43,0.32,0.47,0.49,0.42,0.32,0.51,0.28,0.43,0.33,0.08,0.65,0.49,0.49,0.7,0.38,0.0,0.71,0.48,0.61,0.29,0.43,0.73,0.61,0.82,0.37,0.48,0.14,0.46,0.72,0.46,0.48,0.2,0.47,0.72,0.59,0.63,0.48,0.43,0.3,0.12,0.11,0.47,0.81,0.2,0.1,0.0,0.12,0.01,0.35,0.34,0.54,0.25,0.42,0.0,0.48,0.81,0.48,0.22,0.52,0.61,0.32,0.17,0.52,0.35,0.46,0.1,0.47,0.46,0.78,0.79,0.46,0.14,0.64,0.44,0.74,0.4,0.28,0.47,0.7,0.36,0.52,0.31,0.47,0.42,0.26,0.32,0.52,0.46,0.28,0.65,0.56,0.37,0.42,0.68,0.75,0.36,0.46,0.65,0.79,0.4,0.41,0.69,0.32,0.42,0.47,0.52,0.41,0.36,0.24,0.41,0.6,0.13,0.32,0.09,0.37,0.46,0.44,0.22,0.24,0.38,0.77,0.6,0.43,0.27,0.62,0.57,0.0,0.46,0.39,0.78,0.69,0.77,0.58,0.41,0.77,0.31,0.42,0.46,0.46,0.33,0.58,0.72,0.46,0.64,0.69,0.44,0.64,0.35,0.68,0.42,0.61,0.69,0.76,0.19,0.24,0.42,0.4,0.33,0.47,0.56,0.4,0.4,0.34,0.29,0.48,0.62,0.67,0.0,0.73,0.4,0.0,0.33,0.06,0.0,0.45,0.77,0.63,0.0,0.32,0.07,0.0,0.12,0.68,0.45,0.4,0.33,0.0,0.32,0.2,0.45,0.43,0.75,0.52,0.0,0.35,0.67,0.52,0.75,0.46,0.4,0.45,0.03,0.62,0.19,0.45,0.39,0.19,0.45,0.36,0.09,0.48,0.37,0.33,0.44,0.43,0.08,0.48,0.42,0.45,0.14,0.73,0.0,0.04,0.68,0.54,0.51,0.39,0.0,0.0,0.26,0.47,0.05,0.74,0.66,0.4,0.38,0.61,0.0,0.42,0.61,0.0,0.17,0.44,0.42,0.62,0.63,0.39,0.32,0.64,0.28,0.0,0.42,0.44,0.71,0.75,0.16,0.38,0.49,0.65,0.24,0.22,0.43,0.27,0.0,0.67,0.73,0.12,0.56,0.58,0.01,0.43,0.17,0.41,0.72,0.0,0.43,0.72,0.43,0.29,0.13,0.11,0.38,0.53,0.55,0.65,0.24,0.41,0.0,0.72,0.6,0.32,0.43,0.34,0.28,0.47,0.66,0.72,0.43,0.43,0.67,0.72,0.23,0.33,0.22,0.64,0.72,0.43,0.37,0.72,0.53,0.0,0.55,0.61,0.43,0.71,0.38,0.38,0.21,0.45,0.38,0.1,0.37,0.37,0.18,0.22,0.22,0.3,0.36,0.64,0.37,0.17,0.47,0.0,0.38,0.35,0.33,0.7,0.09,0.29,0.38,0.0,0.59,0.0,0.09,0.37,0.11,0.67,0.36,0.14,0.61,0.27,0.54,0.24,0.31,0.16,0.29,0.48,0.57,0.37,0.28,0.24,0.18,0.6,0.0,0.12,0.47,0.67,0.21,0.41,0.41,0.3,0.17,0.47,0.41,0.51,0.46,0.36,0.37,0.63,0.43,0.3,0.33,0.28,0.69,0.28,0.48,0.32,0.31,0.42,0.31,0.22,0.62,0.4,0.46,0.2,0.49,0.29,0.55,0.3,0.0,0.36,0.2,0.36,0.42,0.36,0.41,0.67,0.16,0.42,0.29,0.31,0.22,0.7,0.68,0.61,0.16,0.53,0.36,0.36,0.41,0.27,0.59,0.16,0.17,0.22,0.3,0.31,0.44,0.28,0.63,0.14,0.0,0.4,0.23,0.0,0.55,0.11,0.63,0.37,0.41,0.0,0.54,0.68,0.61,0.32,0.67,0.23,0.67,0.0,0.54,0.47,0.52,0.47,0.33,0.36,0.52,0.34,0.38,0.16,0.56,0.26,0.35,0.52,0.6,0.19,0.0,0.32,0.0,0.4,0.59,0.53,0.6,0.4,0.0,0.35,0.67,0.4,0.35,0.35,0.67,0.18,0.23,0.62,0.51,0.25,0.66,0.26,0.05,0.3,0.4,0.13,0.0,0.19,0.45,0.67,0.18,0.66,0.42,0.16,0.35,0.17,0.23,0.18,0.35,0.33,0.6,0.55,0.4,0.49,0.35,0.65,0.29,0.49,0.42,0.66,0.55,0.51,0.35,0.0,0.51,0.57,0.39,0.14,0.0,0.2,0.0,0.15,0.22,0.39,0.39,0.37,0.41,0.53,0.65,0.5,0.3,0.35,0.15,0.06,0.55,0.54,0.34,0.0,0.39,0.32,0.52,0.65,0.34,0.54,0.54,0.5,0.34,0.39,0.48,0.28,0.39,0.39,0.19,0.04,0.5,0.38,0.43,0.52,0.34,0.34,0.13,0.39,0.34,0.16,0.21,0.34,0.38,0.64,0.37,0.0,0.5,0.65,0.38,0.28,0.42,0.26,0.47,0.54,0.3,0.39,0.54,0.25,0.58,0.64,0.24,0.5,0.0,0.0,0.53,0.38,0.52,0.0,0.22,0.53,0.2,0.53,0.01,0.55,0.25,0.28,0.27,0.34,0.49,0.39,0.34,0.6,0.38,0.32,0.62,0.32,0.21,0.26,0.63,0.38,0.26,0.53,0.57,0.21,0.22,0.32,0.54,0.22,0.39,0.25,0.15,0.3,0.63,0.29,0.19,0.55,0.51,0.28,0.0,0.23,0.59,0.35,0.33,0.13,0.33,0.22,0.49,0.45,0.26,0.2,0.37,0.4,0.37,0.35,0.46,0.33,0.49,0.0,0.37,0.48,0.22,0.27,0.0,0.2,0.16,0.24,0.22,0.44,0.19,0.0,0.42,0.28,0.23,0.18,0.4,0.3,0.56,0.01,0.33,0.33,0.0,0.63,0.33,0.51,0.25,0.01,0.48,0.0,0.37,0.49,0.31,0.35,0.55,0.32,0.26,0.37,0.37,0.32,0.48,0.55,0.51,0.0,0.52,0.0,0.0,0.47,0.14,0.35,0.32,0.37,0.02,0.06,0.28,0.27,0.43,0.34,0.62,0.15,0.29,0.47,0.17,0.03,0.47,0.12,0.49,0.5,0.23,0.0,0.09,0.33,0.36,0.38,0.33,0.24,0.32,0.35,0.35,0.18,0.41,0.32,0.29,0.25,0.31,0.32,0.56,0.47,0.02,0.45,0.58,0.39,0.47,0.31,0.36,0.19,0.0,0.6,0.32,0.54,0.0,0.36,0.35,0.5,0.23,0.2,0.0,0.26,0.39,0.0,0.17,0.17,0.6,0.13,0.46,0.35,0.32,0.25,0.2,0.32,0.16,0.47,0.49,0.54,0.54,0.31,0.36,0.23,0.25,0.43,0.31,0.25,0.57,0.23,0.55,0.48,0.44,0.4,0.37,0.29,0.15,0.17,0.41,0.07,0.26,0.46,0.23,0.25,0.31,0.22,0.07,0.59,0.6,0.56,0.46,0.2,0.45,0.31,0.2,0.59,0.36,0.53,0.35,0.08,0.41,0.01,0.22,0.41,0.35,0.2,0.43,0.0,0.53,0.3,0.45,0.3,0.28,0.46,0.0,0.21,0.49,0.32,0.49,0.38,0.38,0.58,0.0,0.33,0.54,0.23,0.12,0.43,0.58,0.34,0.44,0.4,0.24,0.31,0.0,0.2,0.22,0.31,0.18,0.0,0.4,0.11,0.35,0.41,0.35,0.22,0.26,0.35,0.48,0.3,0.0,0.38,0.4,0.35,0.3,0.21,0.16,0.35,0.22,0.48,0.15,0.58,0.47,0.29,0.1,0.36,0.3,0.26,0.0,0.35,0.38,0.37,0.4,0.17,0.34,0.58,0.3,0.57,0.14,0.58,0.27,0.25,0.21,0.3,0.0,0.48,0.34,0.0,0.0,0.29,0.59,0.0,0.0,0.59,0.0,0.0,0.33,0.56,0.0,0.35,0.21,0.46,0.02,0.12,0.39,0.44,0.3,0.44,0.35,0.46,0.33,0.5,0.44,0.3,0.58,0.0,0.09,0.24,0.34,0.09,0.31,0.37,0.34,0.47,0.18,0.56,0.33,0.56,0.56,0.32,0.27,0.44,0.34,0.44,0.44,0.47,0.33,0.37,0.43,0.58,0.51,0.43,0.34,0.5,0.31,0.3,0.11,0.43,0.19,0.43,0.5,0.4,0.3,0.42,0.0,0.28,0.5,0.36,0.33,0.26,0.18,0.38,0.31,0.22,0.12,0.21,0.13,0.29,0.22,0.5,0.0,0.29,0.34,0.37,0.09,0.4,0.29,0.32,0.0,0.0,0.49,0.24,0.25,0.33,0.55,0.0,0.4,0.38,0.34,0.26,0.29,0.31,0.29,0.0,0.26,0.0,0.29,0.13,0.07,0.15,0.0,0.56,0.0,0.15,0.33,0.33,0.46,0.23,0.31,0.17,0.33,0.19,0.0,0.29,0.0,0.21,0.55,0.24,0.21,0.44,0.46,0.55,0.54,0.53,0.52,0.47,0.47,0.33,0.36,0.0,0.39,0.36,0.05,0.13,0.54,0.51,0.36,0.33,0.18,0.29,0.39,0.2,0.35,0.25,0.28,0.34,0.29,0.14,0.0,0.26,0.22,0.15,0.53,0.29,0.29,0.28,0.0,0.29,0.53,0.3,0.55,0.06,0.49,0.35,0.21,0.35,0.02,0.3,0.23,0.31,0.21,0.54,0.31,0.32,0.27,0.28,0.37,0.27,0.15,0.14,0.06,0.28,0.28,0.23,0.0,0.33,0.28,0.32,0.42,0.25,0.05,0.53,0.28,0.32,0.0,0.53,0.21,0.24,0.0,0.43,0.27,0.36,0.32,0.45,0.54,0.28,0.48,0.38,0.1,0.52,0.32,0.34,0.55,0.0,0.53,0.28,0.08,0.28,0.24,0.29,0.49,0.53,0.32,0.28,0.41,0.23,0.0,0.37,0.27,0.0,0.41,0.24,0.53,0.11,0.22,0.21,0.25,0.44,0.3,0.01,0.52,0.47,0.38,0.51,0.36,0.0,0.48,0.52,0.1,0.27,0.43,0.11,0.32,0.5,0.28,0.47,0.42,0.0,0.45,0.19,0.0,0.29,0.39,0.19,0.31,0.28,0.28,0.4,0.19,0.09,0.21,0.24,0.11,0.44,0.23,0.26,0.4,0.4,0.28,0.4,0.28,0.31,0.4,0.28,0.31,0.28,0.41,0.4,0.28,0.27,0.28,0.31,0.32,0.28,0.39,0.28,0.27,0.4,0.43,0.31,0.41,0.49,0.43,0.39,0.09,0.27,0.26,0.15,0.44,0.13,0.34,0.15,0.0,0.27,0.27,0.27,0.4,0.4,0.39,0.32,0.17,0.27,0.0,0.49,0.52,0.0,0.28,0.48,0.18,0.27,0.24,0.27,0.37,0.5,0.51,0.27,0.18,0.42,0.39,0.37,0.27,0.15,0.31,0.41,0.35,0.27,0.34,0.35,0.42,0.0,0.22,0.24,0.4,0.0,0.0,0.3,0.52,0.31,0.52,0.31,0.0,0.0,0.21,0.27,0.29,0.32,0.47,0.18,0.33,0.17,0.0,0.5,0.51,0.51,0.34,0.22,0.31,0.2,0.31,0.0,0.0,0.4,0.0,0.18,0.39,0.0,0.3,0.31,0.49,0.39,0.11,0.29,0.39,0.45,0.22,0.51,0.27,0.3,0.4,0.26,0.12,0.36,0.0,0.49,0.46,0.4,0.16,0.0,0.0,0.4,0.29,0.07,0.42,0.11,0.27,0.4,0.08,0.25,0.14,0.39,0.15,0.0,0.0,0.29,0.13,0.25,0.26,0.42,0.43,0.5,0.43,0.11,0.0,0.39,0.21,0.09,0.29,0.0,0.24,0.0,0.4,0.12,0.28,0.51,0.33,0.13,0.22,0.39,0.32,0.42,0.35,0.46,0.42,0.39,0.0,0.26,0.0,0.45,0.3,0.14,0.32,0.5,0.04,0.26,0.26,0.22,0.41,0.26,0.13,0.0,0.21,0.26,0.07,0.45,0.49,0.26,0.25,0.15,0.26,0.44,0.3,0.26,0.4,0.18,0.26,0.26,0.3,0.26,0.4,0.3,0.28,0.39,0.0,0.0,0.0,0.34,0.09,0.23,0.32,0.12,0.32,0.16,0.26,0.31,0.26,0.2,0.43,0.48,0.35,0.41,0.27,0.5,0.0,0.23,0.32,0.28,0.17,0.48,0.08,0.26,0.41,0.26,0.44,0.2,0.0,0.48,0.28,0.3,0.35,0.22,0.49,0.49,0.0,0.26,0.24,0.0,0.47,0.29,0.46,0.0,0.37,0.09,0.45,0.46,0.13,0.29,0.47,0.29,0.44,0.18,0.26,0.39,0.18,0.46,0.35,0.29,0.28,0.29,0.15,0.12,0.17,0.23,0.26,0.09,0.46,0.21,0.17,0.0,0.25,0.44,0.25,0.38,0.37,0.36,0.47,0.25,0.1,0.0,0.25,0.37,0.37,0.48,0.17,0.46,0.35,0.38,0.29,0.25,0.46,0.13,0.0,0.29,0.48,0.25,0.34,0.13,0.17,0.08,0.35,0.25,0.18,0.29,0.12,0.26,0.17,0.12,0.25,0.0,0.4,0.0,0.25,0.28,0.47,0.46,0.28,0.18,0.37,0.36,0.41,0.0,0.01,0.47,0.33,0.24,0.45,0.19,0.44,0.0,0.37,0.44,0.15,0.18,0.32,0.08,0.3,0.17,0.36,0.42,0.18,0.27,0.47,0.37,0.25,0.0,0.42,0.18,0.0,0.36,0.26,0.46,0.37,0.25,0.47,0.22,0.29,0.14,0.25,0.12,0.28,0.36,0.1,0.45,0.42,0.25,0.23,0.47,0.27,0.1,0.31,0.42,0.22,0.0,0.14,0.39,0.28,0.25,0.25,0.25,0.47,0.25,0.25,0.27,0.2,0.34,0.43,0.22,0.27,0.46,0.4,0.46,0.24,0.13,0.27,0.0,0.27,0.45,0.41,0.28,0.3,0.11,0.11,0.24,0.2,0.24,0.29,0.41,0.47,0.22,0.46,0.11,0.28,0.29,0.38,0.24,0.0,0.09,0.24,0.36,0.0,0.0,0.41,0.41,0.21,0.24,0.25,0.46,0.24,0.46,0.46,0.19,0.46,0.3,0.16,0.26,0.44,0.35,0.21,0.46,0.0,0.09,0.41,0.2,0.31,0.38,0.24,0.35,0.34,0.45,0.45,0.35,0.12,0.12,0.0,0.0,0.37,0.24,0.18,0.16,0.24,0.42,0.2,0.28,0.0,0.07,0.24,0.0,0.24,0.36,0.28,0.0,0.14,0.0,0.25,0.0,0.0,0.36,0.24,0.07,0.36,0.45,0.27,0.08,0.27,0.0,0.31,0.07,0.0,0.42,0.01,0.12,0.38,0.44,0.19,0.12,0.43,0.33,0.0,0.4,0.16,0.16,0.35,0.15,0.42,0.15,0.35,0.0,0.36,0.23,0.45,0.0,0.27,0.22,0.2,0.24,0.4,0.27,0.42,0.44,0.27,0.08,0.24,0.25,0.22,0.09,0.24,0.44,0.44,0.25,0.4,0.24,0.18,0.41,0.27,0.26,0.0,0.23,0.18,0.25,0.16,0.45,0.38,0.27,0.42,0.34,0.14,0.14,0.12,0.25,0.35,0.19,0.19,0.45,0.06,0.37,0.23,0.35,0.15,0.14,0.45,0.24,0.45,0.16,0.44,0.23,0.25,0.23,0.31,0.39,0.19,0.43,0.33,0.0,0.26,0.37,0.15,0.23,0.26,0.23,0.21,0.14,0.3,0.0,0.05,0.42,0.23,0.0,0.04,0.23,0.41,0.0,0.05,0.0,0.1,0.0,0.41,0.14,0.23,0.27,0.28,0.38,0.0,0.38,0.34,0.0,0.3,0.44,0.28,0.29,0.23,0.35,0.43,0.37,0.04,0.26,0.43,0.44,0.0,0.0,0.0,0.27,0.23,0.35,0.33,0.39,0.0,0.26,0.0,0.33,0.24,0.22,0.43,0.23,0.36,0.3,0.46,0.23,0.23,0.26,0.33,0.35,0.25,0.34,0.33,0.43,0.44,0.26,0.4,0.21,0.33,0.2,0.25,0.0,0.13,0.0,0.33,0.12,0.13,0.33,0.2,0.38,0.37,0.27,0.23,0.38,0.36,0.34,0.38,0.33,0.19,0.26,0.23,0.42,0.04,0.26,0.26,0.38,0.09,0.3,0.43,0.22,0.22,0.33,0.33,0.19,0.11,0.3,0.43,0.33,0.26,0.37,0.22,0.0,0.18,0.09,0.24,0.3,0.25,0.29,0.08,0.25,0.22,0.02,0.42,0.24,0.0,0.14,0.19,0.0,0.22,0.42,0.05,0.21,0.36,0.43,0.25,0.39,0.2,0.0,0.13,0.0,0.26,0.03,0.33,0.15,0.25,0.21,0.42,0.0,0.12,0.0,0.34,0.36,0.34,0.0,0.42,0.23,0.03,0.22,0.21,0.39,0.13,0.32,0.41,0.38,0.14,0.42,0.4,0.3,0.42,0.25,0.22,0.0,0.12,0.22,0.26,0.34,0.39,0.42,0.26,0.3,0.41,0.17,0.42,0.08,0.25,0.27,0.09,0.32,0.11,0.0,0.1,0.0,0.08,0.22,0.0,0.36,0.36,0.19,0.26,0.09,0.41,0.41,0.32,0.22,0.0,0.21,0.26,0.32,0.16,0.42,0.0,0.25,0.0,0.17,0.0,0.09,0.4,0.04,0.36,0.25,0.34,0.38,0.04,0.35,0.42,0.35,0.13,0.36,0.25,0.22,0.14,0.13,0.18,0.42,0.22,0.32,0.11,0.24,0.42,0.3,0.22,0.21,0.37,0.37,0.06,0.42,0.22,0.37,0.19,0.3,0.22,0.2,0.22,0.3,0.41,0.28,0.14,0.4,0.22,0.33,0.26,0.26,0.0,0.35,0.37,0.19,0.25,0.33,0.0,0.25,0.18,0.07,0.19,0.28,0.33,0.1,0.4,0.36,0.0,0.25,0.25,0.0,0.16,0.35,0.2,0.41,0.18,0.34,0.0,0.24,0.41,0.4,0.19,0.34,0.0,0.24,0.0,0.26,0.34,0.31,0.41,0.0,0.41,0.26,0.26,0.34,0.31,0.28,0.34,0.31,0.36,0.0,0.0,0.4,0.0,0.0,0.21,0.41,0.36,0.19,0.16,0.35,0.41,0.26,0.19,0.2,0.39,0.21,0.41,0.31,0.17,0.24,0.32,0.31,0.01,0.36,0.13,0.41,0.0,0.4,0.22,0.35,0.38,0.21,0.18,0.24,0.16,0.21,0.4,0.21,0.28,0.31,0.18,0.0,0.23,0.12,0.21,0.15,0.21,0.24,0.35,0.28,0.25,0.15,0.39,0.33,0.4,0.36,0.0,0.21,0.1,0.37,0.09,0.21,0.16,0.17,0.21,0.07,0.02,0.23,0.33,0.39,0.39,0.31,0.21,0.27,0.33,0.37,0.39,0.24,0.21,0.24,0.18,0.21,0.15,0.11,0.39,0.0,0.0,0.33,0.22,0.13,0.23,0.21,0.14,0.24,0.35,0.21,0.33,0.31,0.23,0.21,0.24,0.0,0.24,0.22,0.33,0.15,0.0,0.39,0.34,0.03,0.24,0.21,0.23,0.22,0.2,0.38,0.42,0.23,0.0,0.32,0.3,0.21,0.21,0.21,0.33,0.35,0.19,0.3,0.37,0.3,0.23,0.39,0.0,0.39,0.0,0.35,0.0,0.2,0.21,0.35,0.34,0.34,0.0,0.34,0.32,0.19,0.09,0.35,0.24,0.32,0.32,0.36,0.0,0.21,0.0,0.32,0.39,0.2,0.35,0.36,0.14,0.39,0.2,0.32,0.18,0.21,0.22,0.02,0.3,0.31,0.18,0.31,0.21,0.39,0.19,0.16,0.13,0.16,0.16,0.31,0.0,0.2,0.17,0.16,0.2,0.22,0.2,0.0,0.26,0.3,0.36,0.2,0.15,0.26,0.0,0.2,0.3,0.2,0.3,0.14,0.24,0.41,0.04,0.0,0.23,0.34,0.01,0.37,0.2,0.23,0.26,0.0,0.23,0.23,0.0,0.16,0.0,0.28,0.17,0.18,0.15,0.21,0.2,0.0,0.31,0.21,0.2,0.27,0.0,0.34,0.28,0.36,0.37,0.23,0.09,0.0,0.24,0.36,0.0,0.36,0.29,0.3,0.23,0.23,0.0,0.1,0.33,0.08,0.2,0.05,0.2,0.13,0.39,0.18,0.24,0.0,0.19,0.14,0.26,0.16,0.15,0.2,0.21,0.35,0.11,0.2,0.31,0.37,0.34,0.0,0.23,0.15,0.34,0.0,0.36,0.21,0.34,0.22,0.29,0.18,0.0,0.23,0.0,0.34,0.0,0.2,0.24,0.26,0.23,0.34,0.02,0.18,0.19,0.38,0.2,0.23,0.23,0.38,0.08,0.0,0.36,0.38,0.17,0.13,0.34,0.31,0.32,0.13,0.18,0.0,0.12,0.0,0.33,0.2,0.2,0.38,0.0,0.1,0.37,0.2,0.31,0.3,0.27,0.0,0.36,0.2,0.29,0.0,0.25,0.22,0.31,0.29,0.0,0.31,0.34,0.22,0.37,0.23,0.0,0.22,0.14,0.12,0.0,0.32,0.32,0.37,0.32,0.2,0.33,0.22,0.27,0.06,0.2,0.33,0.18,0.2,0.17,0.29,0.38,0.32,0.31,0.22,0.24,0.22,0.0,0.29,0.34,0.32,0.2,0.19,0.12,0.22,0.0,0.24,0.17,0.18,0.31,0.35,0.0,0.09,0.19,0.22,0.19,0.22,0.01,0.0,0.31,0.26,0.37,0.17,0.29,0.0,0.23,0.33,0.19,0.17,0.19,0.26,0.07,0.19,0.19,0.15,0.38,0.36,0.17,0.14,0.36,0.37,0.0,0.22,0.22,0.37,0.0,0.28,0.34,0.32,0.14,0.29,0.18,0.0,0.39,0.08,0.36,0.24,0.23,0.37,0.36,0.14,0.22,0.36,0.3,0.18,0.31,0.0,0.18,0.18,0.14,0.22,0.19,0.34,0.18,0.25,0.0,0.0,0.29,0.3,0.28,0.36,0.0,0.31,0.31,0.18,0.23,0.0,0.19,0.36,0.16,0.19,0.37,0.23,0.22,0.0,0.19,0.33,0.24,0.07,0.34,0.19,0.16,0.0,0.22,0.0,0.35,0.36,0.28,0.19,0.35,0.0,0.19,0.29,0.26,0.36,0.19,0.19,0.36,0.0,0.12,0.27,0.2,0.0,0.28,0.38,0.13,0.19,0.05,0.16,0.21,0.09,0.0,0.07,0.0,0.21,0.16,0.0,0.24,0.29,0.19,0.36,0.17,0.0,0.17,0.27,0.0,0.0,0.15,0.27,0.13,0.19,0.3,0.22,0.07,0.0,0.27,0.1,0.19,0.29,0.0,0.11,0.35,0.3,0.21,0.11,0.15,0.12,0.21,0.0,0.19,0.19,0.0,0.29,0.19,0.16,0.27,0.15,0.19,0.31,0.3,0.0,0.07,0.19,0.0,0.13,0.19,0.32,0.21,0.34,0.16,0.18,0.11,0.0,0.21,0.13,0.28,0.32,0.21,0.0,0.14,0.24,0.0,0.12,0.21,0.21,0.26,0.02,0.16,0.19,0.12,0.32,0.35,0.35,0.22,0.35,0.35,0.05,0.18,0.28,0.0,0.24,0.12,0.34,0.11,0.28,0.13,0.31,0.15,0.11,0.29,0.32,0.35,0.35,0.35,0.09,0.35,0.21,0.12,0.19,0.13,0.32,0.0,0.35,0.12,0.16,0.29,0.14,0.18,0.28,0.34,0.34,0.08,0.18,0.17,0.2,0.0,0.34,0.21,0.29,0.18,0.18,0.09,0.18,0.18,0.35,0.0,0.0,0.21,0.14,0.31,0.0,0.21,0.06,0.35,0.0,0.3,0.3,0.35,0.29,0.05,0.14,0.1,0.0,0.28,0.0,0.26,0.12,0.17,0.0,0.11,0.33,0.34,0.0,0.17,0.37,0.13,0.3,0.0,0.09,0.34,0.11,0.09,0.0,0.11,0.0,0.2,0.17,0.25,0.0,0.3,0.34,0.31,0.31,0.25,0.33,0.28,0.0,0.08,0.0,0.24,0.18,0.32,0.09,0.0,0.0,0.0,0.18,0.18,0.18,0.0,0.17,0.07,0.17,0.21,0.21,0.11,0.18,0.24,0.21,0.2,0.04,0.26,0.14,0.33,0.0,0.26,0.2,0.29,0.33,0.19,0.0,0.2,0.18,0.27,0.25,0.07,0.29,0.29,0.13,0.33,0.2,0.2,0.26,0.33,0.27,0.12,0.0,0.0,0.23,0.2,0.3,0.33,0.27,0.27,0.33,0.0,0.23,0.07,0.18,0.0,0.18,0.11,0.0,0.24,0.18,0.18,0.0,0.0,0.0,0.0,0.06,0.33,0.06,0.19,0.0,0.0,0.33,0.29,0.27,0.23,0.0,0.2,0.0,0.25,0.21,0.17,0.24,0.17,0.0,0.0,0.33,0.06,0.25,0.16,0.32,0.2,0.28,0.25,0.23,0.17,0.27,0.08,0.0,0.1,0.22,0.17,0.25,0.0,0.09,0.0,0.14,0.19,0.17,0.25,0.26,0.13,0.0,0.08,0.16,0.04,0.17,0.0,0.15,0.17,0.03,0.25,0.0,0.2,0.31,0.3,0.13,0.21,0.23,0.0,0.05,0.11,0.18,0.23,0.17,0.27,0.25,0.32,0.17,0.19,0.26,0.18,0.13,0.17,0.17,0.09,0.11,0.13,0.23,0.17,0.0,0.17,0.17,0.17,0.27,0.32,0.17,0.1,0.0,0.19,0.1,0.3,0.19,0.0,0.17,0.18,0.32,0.06,0.27,0.09,0.16,0.17,0.3,0.08,0.0,0.32,0.25,0.0,0.11,0.25,0.17,0.11,0.0,0.19,0.2,0.13,0.1,0.25,0.31,0.28,0.27,0.32,0.25,0.08,0.15,0.15,0.17,0.0,0.19,0.07,0.25,0.24,0.19,0.17,0.26,0.17,0.32,0.32,0.17,0.28,0.29,0.26,0.14,0.22,0.32,0.13,0.31,0.15,0.0,0.27,0.32,0.15,0.22,0.19,0.29,0.32,0.0,0.17,0.14,0.25,0.0,0.05,0.31,0.31,0.13,0.28,0.14,0.3,0.19,0.09,0.25,0.15,0.31,0.29,0.18,0.24,0.11,0.26,0.21,0.1,0.0,0.0,0.28,0.29,0.17,0.04,0.27,0.19,0.16,0.3,0.17,0.25,0.12,0.16,0.0,0.06,0.14,0.21,0.17,0.15,0.06,0.13,0.09,0.23,0.16,0.24,0.06,0.0,0.14,0.27,0.14,0.12,0.19,0.0,0.31,0.15,0.13,0.14,0.0,0.26,0.2,0.26,0.14,0.26,0.25,0.29,0.31,0.31,0.12,0.25,0.12,0.3,0.16,0.25,0.21,0.31,0.0,0.09,0.26,0.0,0.14,0.16,0.24,0.21,0.16,0.0,0.15,0.22,0.0,0.0,0.17,0.26,0.3,0.16,0.1,0.16,0.17,0.1,0.14,0.26,0.24,0.05,0.08,0.0,0.26,0.0,0.17,0.18,0.09,0.26,0.27,0.1,0.0,0.31,0.15,0.25,0.22,0.11,0.01,0.16,0.16,0.29,0.09,0.12,0.25,0.28,0.3,0.2,0.0,0.24,0.0,0.12,0.18,0.24,0.1,0.0,0.0,0.19,0.19,0.22,0.25,0.0,0.14,0.19,0.0,0.29,0.16,0.09,0.2,0.12,0.0,0.19,0.25,0.11,0.31,0.13,0.1,0.25,0.3,0.3,0.2,0.3,0.12,0.22,0.0,0.24,0.16,0.14,0.13,0.25,0.15,0.3,0.04,0.32,0.23,0.16,0.0,0.13,0.16,0.18,0.06,0.23,0.13,0.3,0.18,0.3,0.19,0.17,0.3,0.0,0.18,0.15,0.16,0.14,0.18,0.28,0.11,0.0,0.12,0.22,0.3,0.0,0.27,0.16,0.27,0.3,0.05,0.18,0.09,0.28,0.11,0.16,0.0,0.08,0.0,0.16,0.03,0.18,0.3,0.16,0.24,0.3,0.15,0.25,0.16,0.15,0.18,0.0,0.03,0.23,0.18,0.0,0.18,0.27,0.16,0.18,0.26,0.16,0.0,0.0,0.0,0.0,0.16,0.29,0.23,0.0,0.17,0.16,0.16,0.14,0.23,0.3,0.3,0.18,0.0,0.1,0.04,0.24,0.28,0.0,0.0,0.0,0.23,0.16,0.0,0.0,0.0,0.24,0.23,0.03,0.28,0.29,0.24,0.16,0.28,0.0,0.18,0.08,0.08,0.2,0.23,0.15,0.1,0.13,0.0,0.24,0.17,0.0,0.22,0.18,0.1,0.0,0.09,0.18,0.12,0.09,0.1,0.18,0.0,0.24,0.29,0.17,0.29,0.25,0.0,0.28,0.22,0.1,0.0,0.08,0.0,0.0,0.17,0.28,0.27,0.23,0.15,0.28,0.25,0.15,0.0,0.19,0.29,0.05,0.15,0.17,0.23,0.23,0.23,0.27,0.1,0.17,0.29,0.15,0.19,0.08,0.07,0.0,0.29,0.0,0.17,0.23,0.22,0.0,0.27,0.29,0.07,0.0,0.06,0.25,0.25,0.25,0.0,0.0,0.31,0.24,0.18,0.0,0.29,0.18,0.0,0.28,0.25,0.23,0.18,0.22,0.15,0.29,0.15,0.25,0.28,0.15,0.0,0.28,0.23,0.28,0.17,0.24,0.0,0.28,0.14,0.24,0.0,0.14,0.11,0.17,0.15,0.28,0.17,0.15,0.17,0.15,0.29,0.0,0.29,0.15,0.17,0.08,0.18,0.25,0.29,0.22,0.17,0.21,0.09,0.23,0.17,0.0,0.17,0.15,0.0,0.0,0.15,0.18,0.28,0.13,0.22,0.28,0.23,0.22,0.09,0.15,0.0,0.0,0.17,0.0,0.24,0.22,0.17,0.0,0.24,0.22,0.26,0.12,0.2,0.0,0.05,0.15,0.24,0.23,0.22,0.15,0.18,0.29,0.0,0.19,0.22,0.15,0.0,0.0,0.0,0.17,0.05,0.15,0.01,0.17,0.0,0.27,0.24,0.28,0.0,0.1,0.0,0.02,0.13,0.14,0.12,0.28,0.15,0.27,0.09,0.05,0.08,0.05,0.0,0.0,0.05,0.15,0.2,0.24,0.24,0.0,0.21,0.15,0.24,0.17,0.0,0.0,0.15,0.21,0.0,0.2,0.13,0.17,0.02,0.23,0.15,0.1,0.0,0.23,0.15,0.13,0.0,0.07,0.26,0.0,0.28,0.28,0.08,0.15,0.27,0.26,0.21,0.01,0.0,0.0,0.06,0.12,0.15,0.28,0.0,0.13,0.02,0.0,0.17,0.0,0.18,0.3,0.0,0.14,0.21,0.21,0.19,0.16,0.16,0.25,0.0,0.23,0.0,0.14,0.22,0.15,0.12,0.02,0.22,0.24,0.22,0.14,0.23,0.28,0.28,0.27,0.14,0.26,0.09,0.21,0.12,0.13,0.26,0.25,0.04,0.16,0.21,0.0,0.25,0.01,0.0,0.18,0.23,0.22,0.06,0.11,0.16,0.02,0.2,0.0,0.24,0.0,0.11,0.09,0.23,0.14,0.02,0.13,0.03,0.0,0.08,0.27,0.14,0.0,0.14,0.16,0.0,0.13,0.17,0.14,0.0,0.25,0.13,0.0,0.18,0.27,0.27,0.22,0.22,0.18,0.06,0.0,0.13,0.16,0.14,0.13,0.14,0.15,0.06,0.27,0.0,0.23,0.23,0.23,0.23,0.22,0.23,0.23,0.23,0.1,0.0,0.0,0.21,0.14,0.23,0.14,0.15,0.22,0.16,0.18,0.22,0.17,0.0,0.22,0.0,0.22,0.1,0.0,0.22,0.16,0.13,0.0,0.08,0.27,0.26,0.14,0.0,0.07,0.06,0.27,0.15,0.17,0.12,0.26,0.12,0.26,0.16,0.27,0.0,0.11,0.14,0.13,0.16,0.0,0.03,0.14,0.0,0.14,0.27,0.16,0.13,0.27,0.0,0.0,0.26,0.14,0.0,0.0,0.11,0.12,0.22,0.06,0.26,0.21,0.16,0.26,0.0,0.26,0.2,0.08,0.14,0.07,0.26,0.03,0.11,0.14,0.14,0.15,0.16,0.0,0.2,0.2,0.26,0.0,0.26,0.0,0.15,0.16,0.21,0.16,0.09,0.24,0.1,0.14,0.21,0.2,0.2,0.14,0.18,0.0,0.22,0.0,0.2,0.0,0.01,0.24,0.21,0.0,0.25,0.15,0.2,0.24,0.0,0.26,0.14,0.27,0.16,0.14,0.16,0.1,0.14,0.22,0.21,0.0,0.13,0.19,0.2,0.16,0.0,0.0,0.0,0.14,0.0,0.0,0.12,0.2,0.26,0.0,0.14,0.27,0.11,0.14,0.21,0.09,0.14,0.27,0.26,0.2,0.12,0.13,0.26,0.16,0.18,0.14,0.2,0.2,0.09,0.14,0.12,0.14,0.03,0.21,0.11,0.22,0.16,0.2,0.0,0.12,0.22,0.21,0.24,0.0,0.13,0.0,0.14,0.01,0.14,0.14,0.1,0.21,0.25,0.14,0.26,0.23,0.05,0.0,0.05,0.26,0.15,0.14,0.0,0.21,0.15,0.11,0.0,0.14,0.26,0.0,0.14,0.0,0.0,0.0,0.24,0.09,0.21,0.25,0.25,0.11,0.15,0.14,0.21,0.14,0.14,0.0,0.22,0.17,0.0,0.14,0.2,0.22,0.04,0.0,0.06,0.0,0.0,0.26,0.0,0.13,0.0,0.06,0.13,0.0,0.13,0.26,0.05,0.25,0.21,0.18,0.0,0.21,0.2,0.0,0.09,0.2,0.14,0.24,0.0,0.15,0.2,0.15,0.26,0.25,0.09,0.09,0.15,0.02,0.15,0.15,0.09,0.12,0.08,0.12,0.16,0.26,0.02,0.09,0.13,0.15,0.0,0.0,0.15,0.13,0.21,0.0,0.15,0.0,0.07,0.13,0.19,0.14,0.2,0.24,0.25,0.25,0.25,0.12,0.1,0.06,0.18,0.0,0.13,0.19,0.1,0.21,0.09,0.21,0.0,0.0,0.19,0.0,0.13,0.08,0.2,0.24,0.13,0.2,0.2,0.25,0.1,0.25,0.0,0.25,0.18,0.22,0.14,0.13,0.0,0.0,0.13,0.13,0.04,0.13,0.2,0.19,0.06,0.13,0.23,0.25,0.1,0.13,0.0,0.22,0.12,0.25,0.25,0.0,0.14,0.0,0.13,0.21,0.16,0.2,0.15,0.15,0.25,0.25,0.0,0.01,0.19,0.25,0.23,0.22,0.24,0.15,0.13,0.08,0.0,0.0,0.21,0.24,0.16,0.18,0.0,0.24,0.13,0.25,0.15,0.18,0.25,0.25,0.15,0.2,0.25,0.09,0.15,0.19,0.24,0.06,0.11,0.15,0.0,0.25,0.13,0.13,0.13,0.25,0.23,0.13,0.25,0.06,0.25,0.0,0.19,0.15,0.04,0.24,0.25,0.24,0.16,0.13,0.14,0.06,0.18,0.11,0.2,0.0,0.24,0.11,0.25,0.24,0.19,0.06,0.23,0.21,0.21,0.0,0.0,0.22,0.0,0.22,0.13,0.16,0.0,0.24,0.08,0.13,0.0,0.08,0.15,0.13,0.13,0.05,0.04,0.15,0.0,0.0,0.13,0.0,0.19,0.0,0.16,0.05,0.09,0.0,0.24,0.24,0.0,0.13,0.22,0.1,0.24,0.0,0.19,0.0,0.26,0.0,0.19,0.0,0.19,0.11,0.15,0.13,0.0,0.24,0.2,0.13,0.0,0.25,0.24,0.14,0.0,0.01,0.0,0.24,0.14,0.14,0.0,0.0,0.24,0.13,0.17,0.17,0.1,0.04,0.0,0.18,0.0,0.0,0.21,0.21,0.21,0.21,0.13,0.06,0.13,0.19,0.13,0.0,0.11,0.17,0.19,0.2,0.1,0.24,0.12,0.0,0.2,0.14,0.19,0.05,0.15,0.15,0.14,0.13,0.2,0.01,0.24,0.13,0.0,0.08,0.1,0.24,0.2,0.24,0.0,0.18,0.0,0.16,0.19,0.03,0.13,0.14,0.08,0.0,0.17,0.1,0.13,0.15,0.23,0.19,0.0,0.0,0.12,0.2,0.23,0.18,0.07,0.0,0.24,0.22,0.0,0.0,0.18,0.03,0.24,0.2,0.19,0.0,0.13,0.0,0.14,0.1,0.13,0.0,0.0,0.16,0.21,0.13,0.23,0.0,0.19,0.2,0.18,0.19,0.0,0.16,0.0,0.23,0.12,0.22,0.24,0.14,0.04,0.09,0.17,0.15,0.23,0.12,0.0,0.12,0.14,0.11,0.18,0.23,0.19,0.09,0.0,0.0,0.1,0.2,0.12,0.19,0.21,0.14,0.18,0.0,0.0,0.19,0.14,0.22,0.2,0.14,0.12,0.22,0.14,0.16,0.15,0.1,0.12,0.14,0.09,0.14,0.22,0.0,0.1,0.0,0.19,0.1,0.19,0.22,0.19,0.18,0.25,0.0,0.12,0.18,0.06,0.0,0.21,0.18,0.19,0.19,0.14,0.16,0.23,0.0,0.21,0.14,0.16,0.23,0.2,0.2,0.2,0.11,0.2,0.23,0.2,0.07,0.0,0.12,0.19,0.12,0.0,0.19,0.14,0.15,0.12,0.0,0.0,0.08,0.0,0.03,0.18,0.17,0.11,0.1,0.03,0.2,0.14,0.2,0.18,0.0,0.14,0.14,0.19,0.0,0.16,0.12,0.0,0.11,0.12,0.16,0.23,0.19,0.14,0.07,0.19,0.14,0.23,0.22,0.12,0.2,0.12,0.19,0.12,0.14,0.18,0.02,0.14,0.06,0.0,0.08,0.18,0.06,0.14,0.05,0.19,0.12,0.12,0.0,0.22,0.18,0.23,0.19,0.18,0.03,0.21,0.19,0.04,0.07,0.11,0.08,0.12,0.13,0.12,0.0,0.12,0.16,0.18,0.0,0.22,0.12,0.12,0.03,0.11,0.23,0.21,0.0,0.14,0.12,0.04,0.14,0.23,0.14,0.16,0.16,0.22,0.11,0.11,0.08,0.2,0.12,0.0,0.12,0.1,0.23,0.18,0.0,0.12,0.22,0.02,0.11,0.0,0.1,0.12,0.11,0.19,0.14,0.17,0.04,0.13,0.06,0.13,0.18,0.05,0.21,0.15,0.21,0.21,0.08,0.1,0.23,0.05,0.2,0.18,0.17,0.17,0.12,0.14,0.18,0.1,0.0,0.19,0.16,0.22,0.0,0.0,0.19,0.16,0.02,0.0,0.18,0.16,0.17,0.18,0.22,0.09,0.0,0.17,0.12,0.22,0.12,0.15,0.19,0.21,0.2,0.0,0.18,0.19,0.22,0.19,0.19,0.19,0.19,0.19,0.19,0.21,0.12,0.0,0.12,0.18,0.13,0.19,0.0,0.22,0.17,0.22,0.22,0.13,0.0,0.13,0.0,0.15,0.09,0.08,0.18,0.12,0.08,0.18,0.22,0.0,0.18,0.16,0.09,0.18,0.13,0.19,0.07,0.17,0.17,0.19,0.0,0.15,0.12,0.16,0.12,0.13,0.12,0.12,0.22,0.0,0.04,0.0,0.12,0.06,0.13,0.13,0.16,0.13,0.22,0.16,0.09,0.1,0.0,0.13,0.17,0.08,0.18,0.17,0.0,0.21,0.13,0.22,0.22,0.11,0.16,0.1,0.09,0.22,0.13,0.17,0.1,0.14,0.16,0.12,0.12,0.16,0.18,0.12,0.22,0.11,0.11,0.16,0.0,0.09,0.0,0.13,0.0,0.0,0.09,0.22,0.11,0.0,0.18,0.18,0.07,0.18,0.18,0.17,0.0,0.0,0.15,0.11,0.16,0.14,0.22,0.17,0.0,0.13,0.14,0.09,0.19,0.08,0.17,0.0,0.11,0.17,0.0,0.0,0.14,0.13,0.11,0.22,0.22,0.11,0.0,0.21,0.0,0.22,0.2,0.09,0.18,0.18,0.2,0.22,0.11,0.11,0.0,0.16,0.17,0.14,0.11,0.16,0.13,0.0,0.0,0.18,0.21,0.1,0.19,0.21,0.19,0.2,0.13,0.13,0.21,0.17,0.0,0.11,0.13,0.0,0.0,0.13,0.13,0.21,0.17,0.15,0.15,0.0,0.13,0.21,0.08,0.11,0.0,0.17,0.13,0.08,0.11,0.21,0.16,0.15,0.19,0.0,0.0,0.2,0.2,0.0,0.21,0.0,0.0,0.0,0.11,0.15,0.09,0.11,0.02,0.22,0.0,0.13,0.16,0.21,0.0,0.0,0.14,0.11,0.16,0.21,0.0,0.17,0.0,0.17,0.08,0.11,0.06,0.13,0.0,0.11,0.0,0.13,0.0,0.18,0.11,0.11,0.18,0.18,0.06,0.21,0.06,0.17,0.09,0.11,0.15,0.19,0.21,0.21,0.11,0.19,0.11,0.2,0.11,0.09,0.14,0.21,0.0,0.11,0.21,0.0,0.06,0.0,0.11,0.13,0.11,0.2,0.0,0.21,0.2,0.11,0.11,0.2,0.2,0.0,0.1,0.18,0.17,0.0,0.11,0.12,0.16,0.12,0.0,0.17,0.21,0.21,0.21,0.14,0.17,0.0,0.13,0.0,0.21,0.17,0.11,0.11,0.0,0.13,0.21,0.13,0.0,0.17,0.2,0.01,0.21,0.0,0.11,0.1,0.11,0.17,0.16,0.16,0.21,0.05,0.14,0.19,0.09,0.0,0.06,0.13,0.21,0.0,0.12,0.18,0.12,0.19,0.03,0.2,0.07,0.2,0.0,0.14,0.19,0.2,0.16,0.07,0.07,0.03,0.03,0.19,0.2,0.16,0.12,0.12,0.09,0.05,0.12,0.09,0.05,0.16,0.2,0.09,0.16,0.09,0.16,0.0,0.17,0.11,0.18,0.14,0.0,0.18,0.18,0.0,0.17,0.17,0.2,0.21,0.11,0.03,0.12,0.04,0.2,0.15,0.16,0.11,0.12,0.17,0.16,0.13,0.05,0.0,0.17,0.11,0.11,0.0,0.19,0.07,0.11,0.1,0.0,0.17,0.2,0.1,0.2,0.11,0.11,0.0,0.2,0.19,0.12,0.11,0.01,0.1,0.11,0.16,0.12,0.2,0.16,0.08,0.0,0.11,0.2,0.0,0.17,0.09,0.12,0.0,0.16,0.2,0.0,0.12,0.12,0.07,0.19,0.14,0.05,0.14,0.17,0.0,0.15,0.0,0.15,0.17,0.06,0.19,0.0,0.11,0.0,0.11,0.13,0.0,0.0,0.17,0.03,0.12,0.1,0.12,0.11,0.12,0.12,0.1,0.2,0.07,0.11,0.12,0.0,0.17,0.11,0.2,0.11,0.0,0.16,0.09,0.0,0.0,0.03,0.0,0.0,0.2,0.08,0.09,0.1,0.2,0.12,0.18,0.17,0.12,0.11,0.1,0.1,0.0,0.1,0.2,0.0,0.15,0.16,0.0,0.1,0.19,0.11,0.19,0.16,0.14,0.12,0.19,0.16,0.16,0.1,0.07,0.1,0.2,0.05,0.2,0.2,0.2,0.0,0.1,0.12,0.17,0.11,0.18,0.1,0.1,0.1,0.0,0.16,0.0,0.07,0.0,0.12,0.09,0.17,0.19,0.06,0.12,0.15,0.16,0.15,0.18,0.2,0.0,0.1,0.16,0.2,0.2,0.06,0.1,0.12,0.09,0.0,0.16,0.15,0.19,0.19,0.17,0.17,0.17,0.17,0.17,0.17,0.13,0.2,0.0,0.06,0.0,0.16,0.0,0.12,0.12,0.0,0.0,0.18,0.12,0.1,0.17,0.1,0.1,0.09,0.16,0.15,0.0,0.15,0.08,0.0,0.13,0.16,0.12,0.16,0.18,0.12,0.1,0.1,0.19,0.0,0.12,0.03,0.03,0.19,0.19,0.19,0.0,0.19,0.1,0.11,0.19,0.15,0.11,0.0,0.19,0.19,0.0,0.1,0.0,0.0,0.19,0.09,0.14,0.15,0.19,0.04,0.13,0.16,0.15,0.0,0.1,0.1,0.14,0.0,0.05,0.11,0.17,0.16,0.06,0.0,0.15,0.15,0.1,0.18,0.15,0.02,0.0,0.19,0.15,0.19,0.17,0.15,0.11,0.0,0.19,0.19,0.07,0.17,0.1,0.16,0.0,0.1,0.15,0.17,0.0,0.11,0.14,0.0,0.0,0.09,0.06,0.15,0.15,0.06,0.0,0.14,0.16,0.0,0.15,0.0,0.09,0.15,0.1,0.0,0.0,0.05,0.06,0.0,0.1,0.1,0.0,0.04,0.06,0.0,0.17,0.19,0.14,0.0,0.1,0.16,0.0,0.0,0.15,0.13,0.16,0.06,0.1,0.16,0.0,0.1,0.14,0.09,0.09,0.0,0.1,0.17,0.0,0.0,0.17,0.14,0.1,0.18,0.16,0.13,0.0,0.13,0.0,0.15,0.14,0.0,0.15,0.0,0.19,0.16,0.02,0.1,0.14,0.06,0.1,0.1,0.19,0.19,0.19,0.1,0.1,0.11,0.18,0.12,0.1,0.14,0.15,0.11,0.0,0.1,0.07,0.1,0.1,0.15,0.13,0.06,0.1,0.15,0.16,0.0,0.06,0.13,0.16,0.16,0.16,0.16,0.16,0.0,0.16,0.18,0.15,0.0,0.14,0.16,0.16,0.18,0.09,0.0,0.14,0.1,0.06,0.0,0.15,0.0,0.08,0.07,0.1,0.15,0.0,0.14,0.15,0.0,0.02,0.0,0.14,0.05,0.12,0.1,0.0,0.02,0.18,0.12,0.05,0.15,0.15,0.0,0.1,0.0,0.18,0.04,0.1,0.1,0.19,0.15,0.18,0.0,0.0,0.15,0.18,0.12,0.16,0.0,0.1,0.18,0.17,0.11,0.07,0.17,0.15,0.09,0.1,0.1,0.0,0.18,0.07,0.18,0.1,0.18,0.18,0.14,0.1,0.0,0.08,0.0,0.0,0.18,0.16,0.14,0.14,0.17,0.15,0.15,0.11,0.14,0.05,0.15,0.0,0.0,0.15,0.18,0.15,0.14,0.0,0.15,0.05,0.13,0.1,0.15,0.18,0.1,0.0,0.18,0.06,0.04,0.1,0.07,0.1,0.14,0.16,0.02,0.18,0.18,0.05,0.15,0.1,0.14,0.07,0.15,0.06,0.0,0.11,0.07,0.08,0.1,0.13,0.1,0.13,0.18,0.0,0.07,0.18,0.0,0.14,0.17,0.0,0.0,0.15,0.0,0.16,0.14,0.0,0.0,0.05,0.0,0.1,0.05,0.14,0.09,0.1,0.14,0.18,0.11,0.11,0.16,0.17,0.13,0.0,0.01,0.0,0.07,0.06,0.0,0.17,0.09,0.0,0.12,0.16,0.18,0.0,0.11,0.13,0.11,0.0,0.15,0.1,0.15,0.09,0.18,0.05,0.15,0.18,0.16,0.17,0.09,0.09,0.14,0.0,0.18,0.14,0.09,0.0,0.17,0.09,0.18,0.16,0.09,0.14,0.0,0.0,0.09,0.04,0.11,0.0,0.0,0.09,0.08,0.1,0.06,0.15,0.08,0.02,0.0,0.09,0.09,0.11,0.15,0.09,0.17,0.14,0.0,0.14,0.14,0.0,0.13,0.09,0.05,0.18,0.14,0.14,0.07,0.15,0.0,0.08,0.15,0.15,0.15,0.0,0.0,0.15,0.15,0.0,0.18,0.0,0.18,0.13,0.15,0.11,0.11,0.09,0.14,0.0,0.11,0.1,0.18,0.0,0.06,0.18,0.09,0.14,0.09,0.04,0.12,0.0,0.1,0.11,0.15,0.0,0.11,0.14,0.09,0.09,0.0,0.09,0.0,0.09,0.0,0.05,0.15,0.18,0.18,0.18,0.0,0.18,0.1,0.0,0.0,0.14,0.18,0.0,0.0,0.15,0.0,0.11,0.11,0.1,0.09,0.17,0.0,0.0,0.1,0.16,0.0,0.09,0.0,0.0,0.0,0.0,0.0,0.17,0.0,0.0,0.12,0.0,0.18,0.0,0.07,0.18,0.13,0.1,0.0,0.14,0.1,0.17,0.02,0.0,0.0,0.0,0.1,0.0,0.13,0.1,0.12,0.09,0.18,0.09,0.0,0.09,0.13,0.05,0.12,0.09,0.15,0.0,0.0,0.14,0.17,0.0,0.14,0.15,0.0,0.16,0.09,0.17,0.17,0.09,0.0,0.1,0.07,0.13,0.14,0.14,0.17,0.09,0.14,0.17,0.12,0.1,0.0,0.06,0.04,0.17,0.09,0.06,0.1,0.17,0.08,0.09,0.13,0.13,0.17,0.09,0.14,0.04,0.14,0.17,0.09,0.08,0.16,0.1,0.17,0.14,0.14,0.0,0.04,0.09,0.15,0.14,0.11,0.06,0.0,0.07,0.0,0.04,0.11,0.05,0.1,0.01,0.13,0.17,0.16,0.0,0.09,0.09,0.0,0.08,0.14,0.14,0.15,0.14,0.1,0.12,0.1,0.0,0.0,0.0,0.09,0.07,0.13,0.0,0.05,0.11,0.0,0.09,0.13,0.0,0.15,0.07,0.14,0.17,0.0,0.04,0.16,0.13,0.0,0.07,0.05,0.14,0.07,0.11,0.0,0.13,0.0,0.17,0.15,0.09,0.0,0.1,0.08,0.0,0.17,0.06,0.14,0.1,0.16,0.09,0.09,0.0,0.0,0.04,0.13,0.13,0.14,0.14,0.0,0.09,0.14,0.0,0.12,0.13,0.05,0.15,0.01,0.13,0.14,0.0,0.09,0.13,0.1,0.14,0.07,0.08,0.0,0.14,0.17,0.13,0.0,0.17,0.0,0.1,0.1,0.05,0.13,0.1,0.06,0.13,0.09,0.11,0.04,0.14,0.17,0.09,0.06,0.17,0.05,0.08,0.14,0.1,0.06,0.1,0.0,0.09,0.16,0.14,0.17,0.1,0.09,0.14,0.1,0.0,0.09,0.1,0.04,0.14,0.05,0.09,0.13,0.16,0.04,0.14,0.0,0.13,0.0,0.13,0.13,0.13,0.0,0.0,0.0,0.09,0.06,0.09,0.17,0.09,0.11,0.12,0.16,0.13,0.16,0.17,0.02,0.1,0.1,0.16,0.03,0.17,0.13,0.13,0.13,0.0,0.0,0.13,0.13,0.16,0.12,0.13,0.15,0.14,0.09,0.13,0.07,0.09,0.11,0.0,0.09,0.16,0.09,0.13,0.0,0.0,0.09,0.0,0.07,0.1,0.04,0.0,0.09,0.13,0.07,0.12,0.11,0.09,0.13,0.09,0.13,0.14,0.1,0.11,0.16,0.1,0.09,0.12,0.0,0.16,0.13,0.16,0.0,0.08,0.07,0.0,0.13,0.13,0.0,0.08,0.16,0.1,0.16,0.16,0.0,0.08,0.13,0.16,0.16,0.0,0.13,0.07,0.15,0.16,0.13,0.13,0.08,0.0,0.08,0.12,0.08,0.13,0.08,0.13,0.13,0.1,0.0,0.0,0.0,0.16,0.06,0.0,0.0,0.15,0.13,0.13,0.05,0.08,0.08,0.12,0.16,0.08,0.08,0.03,0.01,0.12,0.08,0.0,0.1,0.15,0.06,0.0,0.08,0.0,0.0,0.16,0.0,0.13,0.12,0.0,0.16,0.16,0.07,0.16,0.13,0.03,0.13,0.0,0.0,0.05,0.16,0.16,0.04,0.13,0.0,0.16,0.13,0.12,0.09,0.09,0.16,0.16,0.14,0.08,0.07,0.0,0.14,0.05,0.12,0.13,0.14,0.12,0.06,0.08,0.0,0.08,0.0,0.12,0.02,0.0,0.02,0.16,0.1,0.11,0.16,0.0,0.0,0.16,0.05,0.09,0.1,0.14,0.08,0.12,0.16,0.08,0.08,0.11,0.0,0.08,0.09,0.04,0.09,0.0,0.0,0.13,0.15,0.11,0.12,0.0,0.13,0.0,0.08,0.13,0.09,0.09,0.13,0.13,0.0,0.09,0.15,0.07,0.08,0.02,0.02,0.09,0.15,0.0,0.13,0.0,0.14,0.0,0.0,0.08,0.0,0.08,0.06,0.13,0.13,0.1,0.13,0.05,0.0,0.1,0.0,0.13,0.12,0.12,0.0,0.16,0.15,0.0,0.04,0.0,0.0,0.08,0.12,0.0,0.15,0.15,0.11,0.08,0.13,0.12,0.12,0.11,0.13,0.08,0.14,0.0,0.08,0.0,0.12,0.0,0.0,0.07,0.0,0.01,0.0,0.11,0.12,0.04,0.15,0.14,0.15,0.15,0.15,0.0,0.13,0.05,0.08,0.0,0.13,0.13,0.0,0.08,0.0,0.08,0.16,0.12,0.05,0.15,0.14,0.09,0.08,0.13,0.12,0.07,0.12,0.08,0.11,0.12,0.07,0.08,0.11,0.06,0.13,0.0,0.08,0.0,0.13,0.11,0.08,0.0,0.12,0.08,0.02,0.12,0.15,0.14,0.11,0.11,0.08,0.07,0.15,0.15,0.0,0.12,0.0,0.09,0.09,0.13,0.12,0.0,0.13,0.13,0.0,0.0,0.09,0.12,0.12,0.08,0.15,0.05,0.07,0.0,0.0,0.12,0.11,0.15,0.13,0.15,0.12,0.08,0.08,0.14,0.15,0.0,0.08,0.08,0.12,0.14,0.08,0.0,0.15,0.12,0.08,0.12,0.0,0.09,0.15,0.12,0.13,0.15,0.0,0.0,0.08,0.15,0.12,0.08,0.0,0.14,0.08,0.14,0.12,0.15,0.11,0.0,0.08,0.15,0.15,0.0,0.15,0.0,0.09,0.11,0.0,0.13,0.13,0.13,0.0,0.13,0.13,0.13,0.13,0.13,0.13,0.13,0.0,0.12,0.0,0.05,0.0,0.08,0.0,0.0,0.08,0.11,0.0,0.12,0.14,0.15,0.15,0.08,0.14,0.03,0.0,0.15,0.06,0.08,0.08,0.16,0.07,0.0,0.1,0.15,0.15,0.13,0.14,0.08,0.14,0.09,0.15,0.09,0.09,0.15,0.13,0.0,0.05,0.0,0.0,0.12,0.11,0.02,0.09,0.0,0.11,0.11,0.0,0.14,0.0,0.14,0.07,0.15,0.1,0.15,0.0,0.15,0.0,0.15,0.04,0.11,0.04,0.0,0.0,0.15,0.09,0.1,0.01,0.08,0.13,0.11,0.14,0.0,0.0,0.12,0.14,0.11,0.15,0.1,0.14,0.14,0.03,0.0,0.0,0.11,0.15,0.12,0.11,0.12,0.09,0.1,0.12,0.06,0.12,0.0,0.14,0.08,0.08,0.0,0.13,0.14,0.0,0.09,0.03,0.07,0.0,0.14,0.15,0.08,0.0,0.14,0.07,0.15,0.11,0.13,0.06,0.09,0.09,0.05,0.14,0.11,0.09,0.02,0.09,0.12,0.15,0.11,0.0,0.11,0.08,0.04,0.1,0.08,0.13,0.07,0.08,0.14,0.08,0.14,0.14,0.12,0.12,0.08,0.14,0.0,0.08,0.12,0.11,0.13,0.07,0.12,0.0,0.12,0.12,0.12,0.12,0.13,0.0,0.07,0.08,0.14,0.09,0.14,0.14,0.0,0.14,0.0,0.05,0.11,0.12,0.05,0.13,0.11,0.07,0.11,0.14,0.12,0.09,0.11,0.12,0.07,0.07,0.07,0.08,0.14,0.12,0.13,0.0,0.13,0.0,0.1,0.14,0.12,0.0,0.07,0.12,0.13,0.07,0.05,0.0,0.14,0.05,0.11,0.0,0.14,0.08,0.08,0.14,0.07,0.12,0.12,0.11,0.0,0.0,0.0,0.0,0.11,0.14,0.12,0.11,0.11,0.0,0.12,0.14,0.09,0.12,0.05,0.08,0.12,0.14,0.08,0.14,0.11,0.13,0.0,0.11,0.07,0.08,0.0,0.07,0.06,0.13,0.14,0.07,0.07,0.14,0.07,0.0,0.0,0.04,0.0,0.11,0.07,0.02,0.12,0.0,0.09,0.0,0.0,0.04,0.11,0.07,0.07,0.08,0.0,0.0,0.12,0.12,0.0,0.12,0.14,0.14,0.08,0.11,0.11,0.02,0.13,0.05,0.0,0.14,0.11,0.13,0.12,0.11,0.0,0.07,0.12,0.14,0.12,0.14,0.08,0.11,0.11,0.0,0.14,0.1,0.0,0.07,0.11,0.06,0.11,0.07,0.08,0.14,0.11,0.13,0.0,0.14,0.04,0.14,0.0,0.0,0.0,0.0,0.14,0.0,0.13,0.14,0.0,0.07,0.11,0.07,0.11,0.11,0.0,0.14,0.11,0.1,0.07,0.11,0.01,0.11,0.13,0.08,0.13,0.13,0.11,0.11,0.08,0.0,0.03,0.08,0.0,0.08,0.11,0.0,0.15,0.09,0.0,0.08,0.11,0.0,0.0,0.06,0.09,0.11,0.05,0.08,0.13,0.11,0.0,0.0,0.0,0.13,0.0,0.09,0.12,0.14,0.08,0.1,0.11,0.08,0.11,0.11,0.14,0.0,0.07,0.0,0.13,0.07,0.07,0.13,0.0,0.1,0.1,0.13,0.0,0.14,0.11,0.0,0.04,0.0,0.1,0.13,0.11,0.0,0.11,0.09,0.07,0.12,0.07,0.07,0.02,0.03,0.0,0.11,0.0,0.13,0.08,0.0,0.1,0.07,0.08,0.07,0.07,0.0,0.0,0.1,0.07,0.08,0.08,0.13,0.13,0.12,0.0,0.07,0.13,0.11,0.11,0.07,0.0,0.0,0.1,0.08,0.08,0.1,0.11,0.0,0.13,0.0,0.08,0.09,0.13,0.07,0.12,0.07,0.07,0.1,0.0,0.08,0.0,0.11,0.0,0.1,0.0,0.07,0.13,0.02,0.05,0.0,0.0,0.13,0.11,0.09,0.0,0.13,0.07,0.09,0.01,0.0,0.07,0.12,0.0,0.0,0.07,0.13,0.0,0.11,0.01,0.11,0.11,0.06,0.1,0.13,0.03,0.13,0.13,0.1,0.0,0.06,0.08,0.07,0.07,0.11,0.0,0.0,0.11,0.0,0.0,0.01,0.07,0.13,0.1,0.09,0.11,0.0,0.07,0.07,0.13,0.0,0.0,0.11,0.1,0.07,0.08,0.08,0.13,0.11,0.13,0.07,0.13,0.11,0.11,0.07,0.08,0.0,0.08,0.0,0.0,0.13,0.07,0.0,0.08,0.07,0.11,0.0,0.11,0.0,0.03,0.07,0.11,0.1,0.07,0.07,0.0,0.11,0.06,0.0,0.08,0.0,0.08,0.13,0.0,0.11,0.11,0.11,0.11,0.11,0.08,0.11,0.0,0.13,0.07,0.0,0.02,0.11,0.0,0.13,0.08,0.07,0.1,0.08,0.0,0.13,0.13,0.12,0.0,0.1,0.12,0.12,0.07,0.08,0.1,0.0,0.1,0.0,0.0,0.08,0.1,0.0,0.11,0.11,0.08,0.0,0.08,0.1,0.1,0.11,0.0,0.08,0.13,0.1,0.1,0.13,0.08,0.08,0.1,0.13,0.09,0.08,0.1,0.0,0.06,0.0,0.13,0.1,0.13,0.08,0.12,0.1,0.04,0.12,0.0,0.0,0.07,0.0,0.0,0.0,0.08,0.12,0.0,0.13,0.0,0.0,0.0,0.11,0.11,0.1,0.11,0.07,0.0,0.13,0.07,0.0,0.0,0.0,0.13,0.13,0.03,0.12,0.13,0.12,0.04,0.13,0.11,0.1,0.12,0.12,0.03,0.0,0.13,0.09,0.0,0.07,0.09,0.11,0.0,0.0,0.1,0.11,0.12,0.13,0.11,0.0,0.09,0.08,0.11,0.0,0.0,0.13,0.1,0.13,0.09,0.13,0.13,0.11,0.08,0.0,0.07,0.1,0.11,0.01,0.12,0.1,0.0,0.07,0.08,0.13,0.11,0.1,0.0,0.1,0.07,0.08,0.12,0.03,0.0,0.09,0.11,0.12,0.08,0.08,0.1,0.13,0.13,0.02,0.04,0.1,0.11,0.11,0.11,0.07,0.1,0.08,0.13,0.1,0.1,0.0,0.0,0.12,0.13,0.13,0.08,0.1,0.0,0.07,0.0,0.1,0.0,0.0,0.07,0.07,0.0,0.12,0.11,0.12,0.1,0.12,0.07,0.06,0.0,0.07,0.0,0.1,0.0,0.1,0.07,0.12,0.11,0.0,0.13,0.12,0.07,0.04,0.1,0.0,0.07,0.0,0.07,0.1,0.1,0.09,0.0,0.08,0.12,0.07,0.12,0.12,0.07,0.07,0.12,0.07,0.12,0.12,0.08,0.07,0.0,0.07,0.07,0.09,0.11,0.07,0.1,0.07,0.1,0.02,0.06,0.07,0.12,0.06,0.12,0.1,0.12,0.12,0.1,0.0,0.12,0.07,0.08,0.1,0.07,0.1,0.12,0.0,0.0,0.0,0.0,0.09,0.0,0.0,0.08,0.1,0.07,0.08,0.0,0.11,0.08,0.12,0.1,0.06,0.01,0.11,0.06,0.12,0.07,0.12,0.0,0.09,0.06,0.09,0.0,0.0,0.0,0.08,0.0,0.12,0.12,0.0,0.0,0.01,0.03,0.12,0.03,0.06,0.07,0.09,0.0,0.1,0.04,0.0,0.1,0.12,0.05,0.0,0.08,0.1,0.1,0.08,0.12,0.12,0.07,0.12,0.12,0.1,0.1,0.06,0.06,0.07,0.0,0.0,0.07,0.0,0.12,0.06,0.01,0.12,0.06,0.1,0.1,0.12,0.08,0.09,0.06,0.12,0.04,0.0,0.09,0.12,0.1,0.12,0.1,0.1,0.1,0.1,0.11,0.12,0.09,0.06,0.07,0.06,0.0,0.09,0.0,0.03,0.1,0.06,0.03,0.12,0.03,0.12,0.12,0.1,0.0,0.0,0.1,0.08,0.12,0.12,0.06,0.09,0.12,0.12,0.11,0.0,0.06,0.0,0.1,0.0,0.06,0.0,0.0,0.09,0.06,0.1,0.12,0.08,0.0,0.0,0.0,0.09,0.07,0.1,0.06,0.1,0.11,0.07,0.0,0.08,0.12,0.1,0.1,0.11,0.0,0.1,0.0,0.0,0.11,0.06,0.09,0.04,0.08,0.06,0.06,0.11,0.07,0.0,0.1,0.02,0.11,0.06,0.1,0.1,0.0,0.11,0.1,0.1,0.07,0.06,0.0,0.0,0.12,0.1,0.05,0.09,0.09,0.12,0.09,0.09,0.11,0.12,0.06,0.09,0.06,0.1,0.07,0.1,0.07,0.07,0.0,0.0,0.09,0.07,0.06,0.1,0.12,0.07,0.12,0.07,0.0,0.0,0.07,0.11,0.09,0.11,0.08,0.12,0.05,0.12,0.0,0.11,0.0,0.12,0.09,0.0,0.12,0.09,0.1,0.03,0.04,0.04,0.1,0.0,0.09,0.0,0.09,0.06,0.1,0.08,0.09,0.0,0.09,0.12,0.1,0.07,0.06,0.0,0.11,0.07,0.09,0.09,0.0,0.0,0.11,0.07,0.07,0.07,0.09,0.0,0.12,0.11,0.0,0.11,0.0,0.0,0.07,0.11,0.1,0.06,0.1,0.11,0.0,0.03,0.06,0.0,0.0,0.11,0.11,0.0,0.07,0.0,0.12,0.09,0.0,0.0,0.0,0.09,0.06,0.0,0.11,0.0,0.1,0.05,0.0,0.06,0.12,0.0,0.09,0.06,0.0,0.12,0.03,0.12,0.03,0.0,0.05,0.05,0.07,0.07,0.0,0.0,0.11,0.0,0.04,0.11,0.06,0.05,0.07,0.05,0.0,0.09,0.06,0.06,0.09,0.11,0.07,0.0,0.0,0.0,0.0,0.07,0.11,0.11,0.06,0.09,0.11,0.11,0.11,0.04,0.1,0.11,0.0,0.0,0.11,0.1,0.02,0.09,0.0,0.06,0.09,0.05,0.0,0.07,0.0,0.11,0.06,0.0,0.09,0.06,0.0,0.0,0.06,0.07,0.06,0.11,0.0,0.11,0.03,0.1,0.07,0.0,0.0,0.0,0.1,0.11,0.03,0.09,0.11,0.0,0.09,0.11,0.06,0.0,0.11,0.08,0.09,0.11,0.0,0.01,0.07,0.11,0.0,0.08,0.1,0.11,0.09,0.0,0.0,0.09,0.0,0.11,0.11,0.0,0.11,0.08,0.09,0.09,0.11,0.1,0.1,0.0,0.09,0.11,0.09,0.11,0.06,0.1,0.06,0.08,0.09,0.11,0.11,0.09,0.11,0.08,0.11,0.08,0.0,0.07,0.11,0.0,0.06,0.07,0.0,0.07,0.0,0.0,0.06,0.06,0.09,0.0,0.11,0.06,0.08,0.11,0.1,0.09,0.0,0.1,0.09,0.06,0.08,0.11,0.09,0.09,0.11,0.0,0.11,0.03,0.11,0.09,0.11,0.0,0.08,0.06,0.11,0.09,0.07,0.09,0.03,0.11,0.11,0.09,0.11,0.06,0.09,0.0,0.07,0.06,0.09,0.0,0.04,0.11,0.0,0.07,0.08,0.1,0.08,0.1,0.01,0.0,0.02,0.09,0.02,0.0,0.0,0.08,0.11,0.0,0.08,0.0,0.0,0.06,0.07,0.11,0.09,0.09,0.01,0.11,0.02,0.0,0.0,0.11,0.0,0.1,0.02,0.08,0.11,0.11,0.06,0.0,0.09,0.08,0.07,0.0,0.08,0.11,0.0,0.06,0.06,0.1,0.05,0.09,0.07,0.06,0.02,0.09,0.0,0.0,0.0,0.09,0.0,0.06,0.11,0.07,0.07,0.11,0.06,0.08,0.0,0.06,0.1,0.09,0.0,0.06,0.06,0.09,0.09,0.07,0.09,0.0,0.07,0.09,0.0,0.0,0.06,0.11,0.07,0.0,0.0,0.0,0.0,0.09,0.11,0.1,0.0,0.0,0.09,0.02,0.09,0.0,0.05,0.11,0.11,0.02,0.09,0.11,0.08,0.11,0.0,0.0,0.08,0.11,0.09,0.09,0.0,0.0,0.09,0.06,0.09,0.06,0.06,0.11,0.08,0.09,0.11,0.1,0.0,0.0,0.05,0.09,0.08,0.0,0.08,0.0,0.08,0.0,0.08,0.1,0.06,0.08,0.11,0.11,0.11,0.09,0.09,0.0,0.06,0.09,0.03,0.0,0.0,0.06,0.08,0.06,0.1,0.06,0.1,0.08,0.11,0.06,0.08,0.0,0.0,0.0,0.06,0.08,0.11,0.0,0.0,0.06,0.1,0.1,0.1,0.1,0.06,0.06,0.06,0.11,0.0,0.08,0.08,0.1,0.0,0.08,0.09,0.09,0.06,0.0,0.09,0.1,0.06,0.0,0.06,0.07,0.08,0.0,0.05,0.08,0.0,0.0,0.08,0.06,0.11,0.0,0.1,0.07,0.09,0.06,0.08,0.0,0.0,0.1,0.1,0.0,0.0,0.1,0.02,0.0,0.11,0.08,0.04,0.11,0.03,0.1,0.1,0.08,0.1,0.09,0.0,0.0,0.09,0.07,0.05,0.05,0.06,0.0,0.05,0.07,0.0,0.08,0.08,0.1,0.08,0.09,0.08,0.0,0.1,0.07,0.04,0.05,0.0,0.07,0.0,0.0,0.05,0.1,0.0,0.08,0.08,0.0,0.09,0.09,0.0,0.1,0.1,0.08,0.0,0.1,0.08,0.08,0.05,0.0,0.09,0.1,0.09,0.0,0.08,0.1,0.0,0.1,0.09,0.08,0.05,0.08,0.0,0.02,0.06,0.06,0.05,0.07,0.09,0.08,0.1,0.08,0.05,0.08,0.05,0.09,0.11,0.08,0.0,0.0,0.09,0.08,0.04,0.1,0.07,0.1,0.07,0.05,0.05,0.0,0.1,0.0,0.07,0.0,0.09,0.1,0.08,0.1,0.09,0.07,0.03,0.05,0.0,0.06,0.09,0.09,0.09,0.09,0.09,0.09,0.09,0.09,0.0,0.1,0.05,0.07,0.07,0.0,0.05,0.0,0.0,0.05,0.0,0.0,0.03,0.05,0.08,0.09,0.06,0.1,0.0,0.09,0.05,0.07,0.05,0.0,0.0,0.1,0.1,0.05,0.1,0.08,0.08,0.08,0.06,0.06,0.0,0.0,0.08,0.1,0.08,0.1,0.0,0.0,0.02,0.1,0.0,0.08,0.1,0.06,0.0,0.1,0.0,0.1,0.08,0.05,0.09,0.05,0.05,0.0,0.08,0.0,0.08,0.08,0.08,0.08,0.08,0.1,0.05,0.1,0.09,0.08,0.05,0.01,0.09,0.0,0.08,0.05,0.1,0.08,0.09,0.0,0.1,0.1,0.06,0.08,0.08,0.0,0.03,0.0,0.06,0.1,0.06,0.06,0.0,0.1,0.0,0.05,0.0,0.08,0.0,0.06,0.1,0.06,0.06,0.1,0.1,0.06,0.0,0.0,0.1,0.07,0.1,0.1,0.0,0.1,0.01,0.1,0.08,0.0,0.09,0.1,0.1,0.05,0.08,0.0,0.08,0.06,0.0,0.0,0.0,0.08,0.06,0.1,0.05,0.0,0.0,0.0,0.0,0.1,0.1,0.04,0.08,0.1,0.1,0.1,0.07,0.0,0.05,0.0,0.08,0.06,0.06,0.0,0.09,0.08,0.01,0.06,0.0,0.0,0.05,0.0,0.1,0.0,0.07,0.0,0.1,0.08,0.06,0.06,0.0,0.04,0.0,0.1,0.0,0.06,0.0,0.06,0.1,0.08,0.1,0.03,0.0,0.0,0.0,0.0,0.06,0.0,0.08,0.0,0.05,0.08,0.06,0.0,0.09,0.0,0.1,0.0,0.0,0.05,0.07,0.0,0.1,0.1,0.09,0.09,0.05,0.0,0.0,0.08,0.02,0.0,0.0,0.09,0.1,0.0,0.08,0.05,0.0,0.08,0.08,0.08,0.08,0.0,0.05,0.0,0.0,0.0,0.07,0.1,0.02,0.05,0.05,0.0,0.09,0.1,0.09,0.05,0.08,0.0,0.08,0.1,0.09,0.05,0.06,0.05,0.0,0.1,0.0,0.1,0.0,0.0,0.09,0.1,0.1,0.1,0.05,0.1,0.0,0.0,0.0,0.09,0.05,0.07,0.0,0.06,0.02,0.1,0.08,0.02,0.09,0.06,0.09,0.0,0.07,0.02,0.07,0.05,0.0,0.09,0.1,0.09,0.09,0.04,0.08,0.08,0.05,0.06,0.0,0.0,0.06,0.0,0.08,0.09,0.1,0.0,0.0,0.1,0.0,0.08,0.07,0.0,0.08,0.04,0.0,0.0,0.09,0.06,0.08,0.08,0.09,0.09,0.0,0.06,0.0,0.05,0.1,0.09,0.08,0.0,0.0,0.08,0.0,0.06,0.0,0.09,0.09,0.0,0.05,0.05,0.06,0.04,0.03,0.08,0.0,0.09,0.05,0.09,0.09,0.0,0.08,0.09,0.07,0.08,0.0,0.08,0.05,0.0,0.05,0.05,0.08,0.08,0.02,0.0,0.09,0.03,0.08,0.07,0.05,0.06,0.09,0.08,0.0,0.08,0.0,0.0,0.08,0.0,0.07,0.06,0.06,0.06,0.07,0.09,0.09,0.04,0.09,0.05,0.0,0.0,0.09,0.0,0.0,0.07,0.09,0.05,0.08,0.09,0.07,0.09,0.0,0.08,0.08,0.05,0.0,0.06,0.09,0.03,0.08,0.08,0.09,0.08,0.0,0.05,0.09,0.0,0.08,0.08,0.08,0.05,0.08,0.08,0.08,0.0,0.08,0.09,0.08,0.08,0.06,0.08,0.0,0.07,0.09,0.0,0.08,0.06,0.07,0.05,0.09,0.0,0.09,0.05,0.06,0.07,0.06,0.06,0.01,0.07,0.07,0.07,0.0,0.0,0.07,0.09,0.0,0.07,0.07,0.0,0.0,0.0,0.0,0.06,0.08,0.07,0.0,0.05,0.0,0.04,0.08,0.07,0.0,0.0,0.0,0.07,0.09,0.06,0.08,0.01,0.08,0.07,0.07,0.0,0.07,0.0,0.0,0.09,0.06,0.09,0.04,0.0,0.08,0.0,0.09,0.05,0.0,0.03,0.07,0.0,0.09,0.05,0.07,0.0,0.09,0.08,0.08,0.0,0.0,0.09,0.05,0.0,0.05,0.05,0.0,0.09,0.05,0.09,0.08,0.0,0.09,0.0,0.08,0.07,0.05,0.06,0.05,0.1,0.05,0.02,0.05,0.06,0.0,0.09,0.0,0.0,0.07,0.05,0.09,0.09,0.07,0.09,0.0,0.0,0.02,0.01,0.0,0.09,0.09,0.09,0.08,0.09,0.09,0.07,0.05,0.09,0.09,0.05,0.05,0.0,0.0,0.0,0.09,0.07,0.0,0.05,0.06,0.0,0.05,0.09,0.09,0.0,0.0,0.09,0.0,0.04,0.07,0.07,0.0,0.05,0.09,0.08,0.09,0.0,0.09,0.0,0.0,0.08,0.07,0.09,0.08,0.07,0.08,0.01,0.07,0.0,0.05,0.09,0.05,0.0,0.07,0.07,0.06,0.09,0.01,0.05,0.0,0.07,0.0,0.0,0.0,0.09,0.05,0.0,0.07,0.0,0.0,0.0,0.09,0.09,0.07,0.0,0.05,0.09,0.0,0.05,0.0,0.07,0.07,0.0,0.08,0.07,0.0,0.07,0.0,0.07,0.0,0.07,0.05,0.02,0.04,0.0,0.07,0.0,0.0,0.0,0.05,0.09,0.05,0.05,0.0,0.05,0.08,0.02,0.09,0.08,0.07,0.09,0.09,0.05,0.07,0.05,0.05,0.05,0.06,0.08,0.0,0.07,0.07,0.0,0.02,0.0,0.09,0.05,0.08,0.0,0.08,0.0,0.05,0.0,0.05,0.0,0.09,0.07,0.07,0.0,0.05,0.07,0.05,0.07,0.05,0.09,0.01,0.05,0.0,0.05,0.07,0.09,0.07,0.07,0.02,0.0,0.09,0.07,0.08,0.0,0.05,0.0,0.0,0.0,0.05,0.09,0.08,0.0,0.07,0.0,0.09,0.07,0.05,0.06,0.05,0.01,0.08,0.07,0.07,0.07,0.06,0.0,0.0,0.07,0.05,0.08,0.08,0.07,0.09,0.02,0.08,0.08,0.01,0.08,0.09,0.07,0.0,0.03,0.0,0.0,0.08,0.05,0.08,0.06,0.05,0.07,0.08,0.08,0.09,0.0,0.07,0.07,0.0,0.07,0.04,0.08,0.04,0.09,0.04,0.06,0.05,0.08,0.06,0.05,0.05,0.04,0.05,0.0,0.07,0.07,0.0,0.0,0.09,0.0,0.0,0.06,0.06,0.0,0.07,0.0,0.05,0.09,0.04,0.0,0.07,0.09,0.0,0.0,0.02,0.07,0.08,0.04,0.01,0.08,0.09,0.08,0.08,0.06,0.04,0.07,0.05,0.08,0.0,0.0,0.0,0.08,0.05,0.08,0.08,0.0,0.07,0.08,0.06,0.0,0.05,0.0,0.06,0.04,0.06,0.0,0.01,0.0,0.08,0.04,0.06,0.0,0.01,0.07,0.0,0.03,0.07,0.07,0.07,0.0,0.08,0.0,0.05,0.06,0.01,0.08,0.05,0.0,0.08,0.0,0.07,0.0,0.0,0.0,0.0,0.07,0.07,0.0,0.0,0.0,0.04,0.0,0.08,0.02,0.0,0.08,0.03,0.0,0.07,0.0,0.08,0.0,0.08,0.0,0.0,0.04,0.04,0.02,0.0,0.08,0.0,0.0,0.08,0.0,0.04,0.08,0.06,0.0,0.08,0.0,0.08,0.0,0.07,0.06,0.0,0.06,0.08,0.0,0.08,0.08,0.0,0.0,0.08,0.0,0.07,0.07,0.07,0.08,0.07,0.07,0.04,0.0,0.05,0.08,0.0,0.06,0.0,0.08,0.07,0.07,0.05,0.07,0.04,0.08,0.0,0.08,0.07,0.01,0.08,0.07,0.08,0.08,0.08,0.01,0.02,0.0,0.08,0.04,0.0,0.08,0.08,0.07,0.04,0.08,0.07,0.01,0.07,0.07,0.07,0.0,0.06,0.06,0.04,0.07,0.04,0.0,0.05,0.07,0.08,0.08,0.08,0.0,0.04,0.0,0.06,0.03,0.05,0.04,0.06,0.07,0.03,0.0,0.07,0.03,0.05,0.04,0.0,0.0,0.0,0.05,0.08,0.06,0.0,0.08,0.08,0.05,0.06,0.06,0.06,0.0,0.0,0.06,0.08,0.06,0.08,0.04,0.02,0.0,0.0,0.0,0.07,0.0,0.0,0.06,0.03,0.05,0.07,0.04,0.07,0.08,0.06,0.0,0.08,0.05,0.05,0.0,0.04,0.07,0.08,0.0,0.08,0.05,0.08,0.0,0.05,0.04,0.0,0.04,0.03,0.0,0.08,0.0,0.04,0.05,0.06,0.04,0.0,0.07,0.03,0.0,0.06,0.0,0.04,0.07,0.04,0.07,0.0,0.08,0.0,0.07,0.0,0.03,0.0,0.0,0.05,0.07,0.0,0.04,0.0,0.06,0.03,0.08,0.08,0.08,0.0,0.08,0.08,0.05,0.0,0.0,0.03,0.08,0.0,0.06,0.07,0.0,0.08,0.06,0.0,0.0,0.08,0.07,0.06,0.06,0.02,0.05,0.08,0.02,0.05,0.06,0.07,0.04,0.04,0.04,0.0,0.08,0.07,0.02,0.04,0.06,0.0,0.07,0.05,0.08,0.06,0.06,0.04,0.06,0.08,0.04,0.08,0.04,0.06,0.07,0.0,0.05,0.06,0.0,0.0,0.0,0.08,0.05,0.0,0.06,0.04,0.08,0.0,0.06,0.0,0.03,0.06,0.06,0.0,0.08,0.05,0.06,0.0,0.06,0.06,0.06,0.06,0.04,0.05,0.04,0.08,0.0,0.05,0.05,0.0,0.08,0.0,0.05,0.04,0.0,0.06,0.05,0.0,0.04,0.08,0.01,0.05,0.04,0.08,0.08,0.02,0.05,0.0,0.04,0.07,0.0,0.05,0.0,0.0,0.08,0.0,0.0,0.04,0.08,0.0,0.07,0.06,0.0,0.0,0.06,0.0,0.06,0.0,0.06,0.04,0.0,0.08,0.07,0.0,0.07,0.0,0.04,0.0,0.06,0.04,0.06,0.0,0.0,0.07,0.06,0.07,0.0,0.06,0.0,0.07,0.05,0.03,0.0,0.01,0.07,0.0,0.0,0.06,0.0,0.08,0.08,0.0,0.07,0.06,0.06,0.0,0.07,0.0,0.04,0.06,0.06,0.07,0.07,0.07,0.0,0.06,0.06,0.0,0.04,0.0,0.03,0.0,0.0,0.08,0.0,0.07,0.04,0.04,0.07,0.07,0.0,0.06,0.0,0.07,0.01,0.06,0.06,0.0,0.07,0.05,0.03,0.0,0.0,0.06,0.06,0.07,0.06,0.07,0.06,0.06,0.02,0.0,0.04,0.0,0.07,0.04,0.06,0.06,0.06,0.06,0.08,0.0,0.0,0.05,0.04,0.0,0.0,0.0,0.07,0.04,0.06,0.05,0.06,0.0,0.07,0.04,0.0,0.0,0.07,0.07,0.01,0.0,0.0,0.0,0.06,0.0,0.06,0.01,0.02,0.0,0.07,0.05,0.0,0.0,0.03,0.04,0.02,0.04,0.07,0.06,0.06,0.0,0.0,0.03,0.0,0.06,0.07,0.0,0.0,0.06,0.07,0.04,0.07,0.07,0.06,0.06,0.07,0.03,0.07,0.06,0.06,0.06,0.06,0.07,0.0,0.0,0.07,0.07,0.06,0.03,0.07,0.06,0.06,0.07,0.07,0.04,0.06,0.0,0.07,0.06,0.0,0.03,0.07,0.0,0.04,0.0,0.0,0.07,0.01,0.07,0.04,0.06,0.04,0.0,0.0,0.06,0.0,0.02,0.06,0.07,0.0,0.04,0.07,0.07,0.0,0.04,0.05,0.05,0.07,0.06,0.0,0.0,0.0,0.06,0.06,0.07,0.0,0.04,0.06,0.0,0.0,0.07,0.07,0.04,0.07,0.0,0.0,0.0,0.07,0.06,0.0,0.04,0.06,0.04,0.0,0.06,0.0,0.07,0.0,0.0,0.06,0.04,0.07,0.0,0.07,0.0,0.07,0.0,0.06,0.0,0.0,0.06,0.0,0.07,0.04,0.0,0.0,0.07,0.06,0.06,0.06,0.0,0.06,0.07,0.0,0.04,0.04,0.0,0.0,0.0,0.06,0.0,0.04,0.06,0.05,0.07,0.04,0.0,0.0,0.07,0.04,0.07,0.04,0.0,0.0,0.01,0.07,0.0,0.07,0.0,0.07,0.07,0.01,0.07,0.05,0.06,0.07,0.07,0.07,0.04,0.06,0.06,0.0,0.0,0.05,0.0,0.04,0.0,0.0,0.0,0.0,0.05,0.0,0.0,0.07,0.05,0.06,0.06,0.0,0.0,0.0,0.05,0.07,0.07,0.0,0.07,0.01,0.0,0.06,0.03,0.07,0.06,0.06,0.07,0.07,0.0,0.0,0.07,0.06,0.0,0.0,0.07,0.0,0.07,0.0,0.0,0.04,0.0,0.07,0.06,0.0,0.0,0.0,0.0,0.06,0.04,0.07,0.0,0.0,0.0,0.04,0.0,0.0,0.04,0.0,0.07,0.0,0.06,0.07,0.0,0.0,0.0,0.05,0.07,0.05,0.04,0.04,0.0,0.0,0.0,0.0,0.04,0.07,0.06,0.06,0.02,0.0,0.04,0.07,0.0,0.0,0.0,0.0,0.0,0.0,0.07,0.03,0.07,0.0,0.07,0.05,0.0,0.0,0.0,0.0,0.06,0.0,0.07,0.0,0.05,0.05,0.03,0.05,0.01,0.04,0.04,0.0,0.05,0.05,0.0,0.0,0.04,0.03,0.0,0.05,0.06,0.0,0.04,0.07,0.0,0.07,0.04,0.07,0.07,0.07,0.04,0.06,0.05,0.05,0.0,0.0,0.04,0.0,0.0,0.05,0.02,0.0,0.04,0.04,0.04,0.0,0.05,0.05,0.0,0.07,0.04,0.0,0.0,0.04,0.07,0.07,0.0,0.0,0.0,0.07,0.0,0.07,0.07,0.07,0.07,0.05,0.05,0.05,0.06,0.0,0.05,0.0,0.04,0.0,0.05,0.07,0.04,0.0,0.05,0.0,0.04,0.0,0.05,0.07,0.0,0.06,0.0,0.05,0.0,0.07,0.04,0.04,0.0,0.0,0.06,0.0,0.07,0.02,0.01,0.0,0.0,0.05,0.0,0.0,0.02,0.05,0.05,0.05,0.06,0.0,0.07,0.05,0.0,0.07,0.06,0.03,0.03,0.04,0.01,0.01,0.05,0.04,0.05,0.04,0.0,0.0,0.03,0.07,0.0,0.03,0.0,0.03,0.0,0.0,0.0,0.05,0.07,0.07,0.0,0.05,0.07,0.07,0.07,0.06,0.0,0.07,0.01,0.05,0.03,0.05,0.0,0.05,0.0,0.0,0.06,0.07,0.06,0.0,0.06,0.04,0.04,0.0,0.0,0.05,0.0,0.03,0.03,0.04,0.0,0.03,0.07,0.0,0.05,0.0,0.0,0.05,0.05,0.0,0.03,0.01,0.0,0.05,0.0,0.06,0.06,0.05,0.06,0.04,0.0,0.06,0.06,0.05,0.0,0.01,0.0,0.0,0.05,0.06,0.05,0.0,0.0,0.01,0.05,0.06,0.0,0.05,0.0,0.03,0.05,0.04,0.07,0.06,0.0,0.06,0.01,0.0,0.0,0.05,0.06,0.06,0.0,0.03,0.0,0.06,0.0,0.0,0.0,0.06,0.06,0.06,0.06,0.04,0.05,0.06,0.06,0.04,0.0,0.05,0.03,0.06,0.06,0.03,0.0,0.03,0.03,0.06,0.06,0.03,0.01,0.04,0.0,0.05,0.05,0.04,0.0,0.04,0.05,0.05,0.0,0.05,0.04,0.0,0.04,0.0,0.0,0.02,0.05,0.0,0.0,0.05,0.0,0.0,0.0,0.04,0.0,0.06,0.06,0.04,0.06,0.03,0.0,0.06,0.0,0.0,0.0,0.04,0.0,0.0,0.03,0.03,0.04,0.0,0.05,0.05,0.03,0.03,0.01,0.05,0.0,0.0,0.0,0.0,0.0,0.0,0.05,0.0,0.04,0.0,0.05,0.0,0.0,0.0,0.05,0.0,0.06,0.02,0.04,0.0,0.04,0.05,0.06,0.05,0.03,0.0,0.0,0.0,0.06,0.04,0.01,0.06,0.03,0.06,0.06,0.06,0.0,0.05,0.06,0.06,0.05,0.0,0.0,0.0,0.06,0.05,0.06,0.03,0.05,0.05,0.06,0.02,0.05,0.03,0.05,0.05,0.0,0.03,0.05,0.01,0.06,0.05,0.0,0.06,0.03,0.0,0.05,0.0,0.0,0.05,0.06,0.0,0.05,0.06,0.05,0.04,0.04,0.06,0.0,0.0,0.05,0.0,0.04,0.06,0.04,0.0,0.05,0.0,0.05,0.06,0.06,0.03,0.06,0.04,0.05,0.0,0.0,0.0,0.03,0.0,0.0,0.02,0.05,0.05,0.06,0.06,0.06,0.06,0.0,0.0,0.0,0.05,0.06,0.0,0.04,0.0,0.06,0.03,0.04,0.06,0.0,0.0,0.0,0.06,0.05,0.06,0.04,0.06,0.05,0.05,0.0,0.0,0.05,0.05,0.03,0.0,0.06,0.06,0.02,0.0,0.05,0.06,0.06,0.0,0.04,0.05,0.04,0.0,0.0,0.0,0.05,0.0,0.0,0.06,0.05,0.06,0.06,0.05,0.03,0.05,0.05,0.0,0.05,0.05,0.04,0.06,0.06,0.04,0.02,0.04,0.05,0.05,0.06,0.0,0.05,0.0,0.0,0.03,0.05,0.06,0.0,0.06,0.06,0.05,0.0,0.05,0.05,0.06,0.06,0.06,0.0,0.0,0.06,0.0,0.03,0.06,0.0,0.0,0.03,0.06,0.0,0.0,0.0,0.06,0.0,0.04,0.05,0.06,0.0,0.0,0.0,0.0,0.0,0.06,0.0,0.0,0.0,0.03,0.05,0.0,0.03,0.0,0.06,0.05,0.0,0.0,0.0,0.05,0.0,0.06,0.02,0.04,0.05,0.06,0.06,0.05,0.0,0.03,0.0,0.0,0.0,0.0,0.06,0.0,0.05,0.0,0.03,0.05,0.03,0.03,0.04,0.05,0.01,0.06,0.0,0.0,0.05,0.05,0.04,0.04,0.0,0.0,0.0,0.0,0.01,0.06,0.0,0.0,0.06,0.06,0.03,0.06,0.03,0.04,0.06,0.0,0.04,0.0,0.0,0.0,0.06,0.05,0.0,0.05,0.06,0.04,0.03,0.01,0.05,0.0,0.06,0.05,0.05,0.0,0.03,0.03,0.06,0.06,0.0,0.03,0.0,0.05,0.0,0.0,0.05,0.04,0.01,0.0,0.03,0.0,0.0,0.03,0.0,0.06,0.0,0.0,0.0,0.03,0.0,0.0,0.0,0.03,0.03,0.03,0.0,0.0,0.05,0.05,0.03,0.03,0.04,0.05,0.06,0.0,0.03,0.0,0.04,0.04,0.04,0.05,0.0,0.0,0.04,0.0,0.0,0.0,0.0,0.05,0.06,0.06,0.06,0.0,0.0,0.06,0.03,0.0,0.0,0.0,0.05,0.05,0.06,0.0,0.05,0.05,0.05,0.05,0.03,0.0,0.06,0.0,0.0,0.0,0.05,0.04,0.06,0.05,0.05,0.06,0.0,0.0,0.05,0.0,0.04,0.04,0.05,0.04,0.05,0.06,0.0,0.03,0.0,0.01,0.0,0.05,0.05,0.06,0.0,0.0,0.05,0.0,0.0,0.03,0.0,0.03,0.06,0.0,0.0,0.05,0.05,0.05,0.05,0.05,0.05,0.05,0.0,0.05,0.05,0.05,0.05,0.05,0.0,0.05,0.0,0.04,0.04,0.01,0.05,0.06,0.0,0.04,0.06,0.06,0.0,0.03,0.06,0.03,0.04,0.03,0.06,0.05,0.0,0.0,0.0,0.03,0.06,0.03,0.03,0.03,0.04,0.04,0.04,0.0,0.0,0.0,0.0,0.06,0.06,0.06,0.03,0.06,0.05,0.04,0.0,0.0,0.0,0.0,0.06,0.05,0.0,0.04,0.0,0.04,0.0,0.05,0.02,0.0,0.0,0.05,0.0,0.03,0.0,0.02,0.05,0.05,0.06,0.05,0.0,0.03,0.04,0.05,0.05,0.04,0.05,0.0,0.0,0.05,0.0,0.03,0.0,0.0,0.03,0.0,0.04,0.05,0.0,0.05,0.04,0.0,0.05,0.03,0.0,0.05,0.0,0.03,0.0,0.05,0.06,0.05,0.0,0.0,0.03,0.0,0.03,0.05,0.01,0.04,0.04,0.0,0.05,0.0,0.0,0.03,0.05,0.0,0.03,0.03,0.0,0.0,0.06,0.0,0.02,0.05,0.04,0.05,0.04,0.0,0.0,0.03,0.04,0.05,0.0,0.0,0.0,0.05,0.0,0.05,0.03,0.0,0.0,0.04,0.0,0.0,0.05,0.03,0.0,0.0,0.0,0.04,0.05,0.03,0.03,0.05,0.0,0.05,0.01,0.04,0.04,0.05,0.05,0.04,0.03,0.0,0.0,0.06,0.05,0.0,0.01,0.0,0.05,0.04,0.0,0.01,0.0,0.05,0.0,0.04,0.0,0.03,0.0,0.03,0.04,0.03,0.0,0.0,0.03,0.0,0.05,0.04,0.0,0.05,0.0,0.0,0.04,0.0,0.04,0.0,0.0,0.05,0.01,0.0,0.0,0.0,0.03,0.0,0.03,0.03,0.04,0.02,0.0,0.04,0.04,0.03,0.0,0.04,0.0,0.0,0.05,0.0,0.0,0.05,0.05,0.0,0.03,0.03,0.0,0.04,0.01,0.0,0.03,0.0,0.04,0.04,0.0,0.03,0.04,0.05,0.0,0.02,0.0,0.05,0.03,0.05,0.0,0.0,0.0,0.0,0.03,0.0,0.0,0.0,0.05,0.05,0.0,0.0,0.0,0.04,0.03,0.0,0.0,0.03,0.04,0.0,0.05,0.04,0.0,0.0,0.04,0.0,0.05,0.0,0.03,0.0,0.03,0.05,0.0,0.05,0.0,0.04,0.03,0.05,0.04,0.03,0.0,0.04,0.02,0.0,0.03,0.0,0.04,0.04,0.0,0.03,0.04,0.05,0.04,0.04,0.0,0.03,0.0,0.05,0.05,0.05,0.03,0.03,0.0,0.0,0.0,0.05,0.0,0.04,0.04,0.0,0.05,0.03,0.04,0.05,0.04,0.0,0.0,0.04,0.04,0.0,0.02,0.03,0.05,0.03,0.03,0.0,0.0,0.04,0.0,0.04,0.0,0.01,0.0,0.0,0.03,0.02,0.04,0.0,0.05,0.01,0.0,0.04,0.04,0.03,0.05,0.04,0.0,0.05,0.04,0.04,0.0,0.05,0.04,0.04,0.0,0.0,0.03,0.03,0.04,0.05,0.0,0.04,0.03,0.03,0.05,0.0,0.03,0.05,0.04,0.05,0.05,0.0,0.0,0.04,0.04,0.05,0.0,0.0,0.04,0.0,0.04,0.0,0.04,0.0,0.0,0.0,0.03,0.0,0.05,0.05,0.0,0.04,0.05,0.0,0.0,0.03,0.0,0.0,0.0,0.03,0.0,0.05,0.0,0.04,0.03,0.0,0.05,0.0,0.03,0.04,0.01,0.0,0.0,0.0,0.03,0.0,0.0,0.03,0.0,0.0,0.0,0.04,0.0,0.03,0.04,0.0,0.03,0.0,0.04,0.0,0.04,0.0,0.0,0.04,0.0,0.05,0.0,0.05,0.05,0.03,0.0,0.05,0.0,0.05,0.01,0.05,0.03,0.05,0.0,0.02,0.03,0.0,0.04,0.05,0.0,0.0,0.04,0.0,0.03,0.05,0.0,0.05,0.0,0.05,0.04,0.03,0.04,0.0,0.04,0.04,0.05,0.0,0.04,0.05,0.05,0.04,0.04,0.04,0.05,0.0,0.03,0.04,0.03,0.05,0.02,0.05,0.05,0.05,0.03,0.0,0.03,0.0,0.0,0.02,0.05,0.0,0.05,0.03,0.0,0.03,0.0,0.0,0.0,0.01,0.0,0.0,0.04,0.04,0.0,0.0,0.03,0.0,0.0,0.05,0.0,0.05,0.02,0.0,0.0,0.0,0.04,0.05,0.03,0.01,0.0,0.0,0.02,0.05,0.04,0.0,0.0,0.05,0.0,0.04,0.0,0.0,0.03,0.01,0.05,0.02,0.03,0.05,0.05,0.05,0.0,0.03,0.03,0.0,0.0,0.05,0.0,0.05,0.03,0.0,0.05,0.0,0.0,0.04,0.04,0.0,0.0,0.0,0.0,0.05,0.0,0.0,0.05,0.04,0.03,0.0,0.04,0.0,0.0,0.0,0.0,0.01,0.02,0.0,0.04,0.05,0.01,0.04,0.0,0.0,0.04,0.0,0.04,0.04,0.0,0.02,0.04,0.0,0.04,0.04,0.04,0.04,0.04,0.0,0.0,0.0,0.04,0.0,0.0,0.0,0.02,0.03,0.0,0.0,0.0,0.04,0.04,0.0,0.05,0.04,0.0,0.0,0.05,0.04,0.0,0.01,0.0,0.0,0.0,0.0,0.03,0.05,0.04,0.0,0.03,0.0,0.04,0.0,0.05,0.03,0.05,0.0,0.0,0.02,0.0,0.04,0.04,0.0,0.0,0.04,0.0,0.0,0.02,0.0,0.0,0.0,0.0,0.0,0.04,0.05,0.02,0.03,0.0,0.0,0.02,0.02,0.02,0.01,0.0,0.05,0.04,0.04,0.0,0.0,0.0,0.02,0.0,0.04,0.03,0.0,0.04,0.0,0.04,0.05,0.03,0.02,0.03,0.03,0.0,0.0,0.0,0.0,0.05,0.03,0.05,0.02,0.03,0.02,0.04,0.0,0.0,0.03,0.0,0.04,0.0,0.0,0.02,0.0,0.03,0.04,0.04,0.0,0.0,0.03,0.0,0.0,0.0,0.04,0.03,0.04,0.02,0.0,0.02,0.03,0.0,0.0,0.01,0.0,0.0,0.0,0.04,0.0,0.02,0.04,0.03,0.04,0.0,0.03,0.04,0.0,0.0,0.0,0.04,0.03,0.04,0.04,0.0,0.0,0.02,0.04,0.04,0.04,0.04,0.0,0.0,0.0,0.03,0.0,0.03,0.0,0.0,0.0,0.04,0.0,0.04,0.03,0.01,0.0,0.0,0.04,0.0,0.04,0.01,0.04,0.04,0.0,0.0,0.03,0.04,0.04,0.03,0.0,0.04,0.0,0.0,0.04,0.0,0.04,0.04,0.0,0.03,0.0,0.02,0.03,0.04,0.04,0.0,0.0,0.04,0.0,0.03,0.0,0.0,0.0,0.04,0.04,0.0,0.04,0.04,0.01,0.04,0.0,0.04,0.04,0.0,0.0,0.03,0.03,0.04,0.04,0.03,0.0,0.0,0.0,0.03,0.0,0.0,0.0,0.04,0.04,0.04,0.04,0.03,0.04,0.0,0.03,0.04,0.04,0.04,0.0,0.04,0.04,0.04,0.0,0.03,0.04,0.0,0.03,0.0,0.0,0.0,0.02,0.04,0.0,0.04,0.02,0.04,0.04,0.03,0.0,0.0,0.0,0.04,0.04,0.0,0.03,0.04,0.03,0.04,0.04,0.04,0.04,0.04,0.0,0.0,0.03,0.0,0.03,0.04,0.04,0.04,0.0,0.0,0.0,0.04,0.04,0.0,0.0,0.0,0.03,0.04,0.01,0.0,0.0,0.0,0.03,0.0,0.04,0.03,0.0,0.0,0.0,0.03,0.04,0.0,0.03,0.03,0.0,0.03,0.04,0.0,0.0,0.03,0.0,0.04,0.0,0.03,0.04,0.0,0.0,0.04,0.0,0.0,0.03,0.0,0.03,0.0,0.0,0.03,0.04,0.0,0.03,0.0,0.0,0.03,0.0,0.02,0.0,0.03,0.0,0.04,0.04,0.04,0.0,0.0,0.0,0.02,0.04,0.0,0.0,0.0,0.04,0.04,0.02,0.0,0.0,0.0,0.0,0.0,0.03,0.0,0.03,0.02,0.02,0.04,0.04,0.0,0.04,0.0,0.0,0.04,0.03,0.0,0.02,0.01,0.02,0.0,0.0,0.03,0.0,0.04,0.0,0.0,0.0,0.0,0.03,0.03,0.0,0.04,0.0,0.04,0.03,0.0,0.0,0.0,0.03,0.0,0.02,0.0,0.0,0.04,0.04,0.04,0.04,0.0,0.0,0.03,0.0,0.0,0.0,0.0,0.03,0.02,0.02,0.04,0.03,0.0,0.0,0.04,0.03,0.04,0.04,0.0,0.0,0.03,0.03,0.03,0.04,0.0,0.02,0.0,0.0,0.03,0.04,0.04,0.03,0.01,0.03,0.0,0.0,0.04,0.0,0.0,0.0,0.0,0.0,0.0,0.01,0.0,0.0,0.0,0.0,0.0,0.0,0.0,0.02,0.03,0.03,0.02,0.04,0.02,0.0,0.0,0.03,0.0,0.0,0.0,0.0,0.0,0.02,0.0,0.03,0.02,0.0,0.04,0.04,0.03,0.04,0.0,0.04,0.02,0.0,0.0,0.0,0.04,0.03,0.03,0.0,0.02,0.0,0.0,0.04,0.0,0.03,0.04,0.0,0.0,0.04,0.02,0.0,0.0,0.01,0.0,0.03,0.03,0.0,0.03,0.01,0.0,0.0,0.04,0.03,0.04,0.0,0.0,0.0,0.01,0.0,0.0,0.04,0.04,0.0,0.03,0.01,0.0,0.0,0.04,0.0,0.0,0.03,0.0,0.03,0.0,0.04,0.0,0.02,0.03,0.0,0.03,0.0,0.0,0.04,0.0,0.0,0.04,0.0,0.04,0.0,0.04,0.0,0.0,0.0,0.02,0.0,0.04,0.0,0.04,0.0,0.03,0.01,0.01,0.0,0.04,0.0,0.0,0.01,0.0,0.04,0.02,0.0,0.0,0.04,0.03,0.03,0.0,0.0,0.01,0.04,0.02,0.0,0.0,0.03,0.0,0.03,0.0,0.03,0.01,0.01,0.02,0.0,0.04,0.02,0.04,0.0,0.04,0.0,0.0,0.03,0.03,0.0,0.0,0.0,0.02,0.04,0.0,0.0,0.0,0.03,0.0,0.0,0.03,0.0,0.04,0.0,0.0,0.04,0.0,0.03,0.0,0.0,0.03,0.04,0.0,0.03,0.03,0.03,0.03,0.03,0.03,0.0,0.0,0.03,0.0,0.01,0.03,0.0,0.0,0.03,0.04,0.02,0.04,0.04,0.0,0.0,0.0,0.0,0.04,0.03,0.0,0.0,0.02,0.0,0.0,0.0,0.0,0.0,0.0,0.03,0.04,0.0,0.02,0.04,0.0,0.03,0.02,0.0,0.0,0.03,0.0,0.03,0.04,0.0,0.0,0.0,0.0,0.0,0.0,0.03,0.0,0.03,0.0,0.04,0.03,0.0,0.04,0.0,0.0,0.03,0.0,0.0,0.0,0.0,0.0,0.02,0.04,0.03,0.0,0.0,0.0,0.02,0.02,0.0,0.04,0.03,0.0,0.0,0.04,0.02,0.02,0.01,0.0,0.02,0.03,0.04,0.0,0.0,0.0,0.01,0.0,0.03,0.0,0.0,0.0,0.02,0.0,0.0,0.03,0.02,0.02,0.0,0.02,0.02,0.01,0.01,0.01,0.03,0.01,0.0,0.0,0.02,0.01,0.03,0.03,0.02,0.0,0.03,0.0,0.0,0.0,0.03,0.02,0.0,0.0,0.0,0.0,0.03,0.0,0.0,0.0,0.03,0.04,0.04,0.02,0.0,0.04,0.0,0.0,0.0,0.01,0.01,0.0,0.0,0.03,0.03,0.0,0.0,0.0,0.02,0.0,0.04,0.02,0.04,0.0,0.02,0.02,0.0,0.0,0.02,0.0,0.0,0.02,0.02,0.04,0.02,0.0,0.0,0.02,0.03,0.0,0.02,0.0,0.03,0.03,0.02,0.0,0.03,0.0,0.0,0.02,0.0,0.03,0.0,0.0,0.0,0.0,0.0,0.0,0.03,0.03,0.03,0.0,0.0,0.0,0.03,0.0,0.03,0.03,0.03,0.03,0.02,0.0,0.0,0.03,0.03,0.03,0.03,0.0,0.01,0.0,0.03,0.02,0.03,0.0,0.02,0.03,0.0,0.0,0.03,0.03,0.0,0.0,0.03,0.03,0.0,0.0,0.0,0.02,0.0,0.02,0.0,0.0,0.0,0.03,0.0,0.0,0.0,0.0,0.03,0.03,0.0,0.0,0.0,0.02,0.0,0.0,0.02,0.0,0.01,0.02,0.03,0.0,0.02,0.0,0.03,0.01,0.0,0.03,0.02,0.0,0.02,0.03,0.03,0.0,0.03,0.0,0.0,0.0,0.0,0.0,0.03,0.0,0.0,0.03,0.0,0.0,0.0,0.02,0.0,0.0,0.02,0.0,0.0,0.02,0.03,0.03,0.03,0.03,0.0,0.03,0.0,0.0,0.0,0.0,0.0,0.01,0.03,0.03,0.0,0.0,0.03,0.0,0.02,0.0,0.03,0.0,0.01,0.0,0.0,0.0,0.0,0.0,0.03,0.0,0.03,0.03,0.0,0.0,0.0,0.0,0.03,0.03,0.0,0.03,0.04,0.01,0.03,0.02,0.0,0.03,0.0,0.0,0.02,0.03,0.03,0.03,0.0,0.0,0.0,0.0,0.03,0.02,0.0,0.03,0.0,0.01,0.0,0.0,0.0,0.0,0.0,0.03,0.0,0.02,0.0,0.0,0.02,0.0,0.03,0.0,0.03,0.0,0.0,0.0,0.0,0.0,0.03,0.02,0.0,0.03,0.0,0.0,0.02,0.0,0.03,0.02,0.0,0.0,0.0,0.0,0.0,0.0,0.02,0.0,0.03,0.0,0.03,0.0,0.03,0.02,0.02,0.03,0.02,0.0,0.0,0.0,0.0,0.03,0.0,0.0,0.0,0.02,0.03,0.03,0.0,0.02,0.0,0.0,0.02,0.0,0.0,0.0,0.0,0.02,0.0,0.0,0.0,0.03,0.03,0.03,0.03,0.03,0.02,0.03,0.0,0.0,0.0,0.0,0.0,0.02,0.03,0.0,0.03,0.0,0.03,0.0,0.02,0.0,0.01,0.02,0.02,0.02,0.0,0.02,0.0,0.01,0.03,0.0,0.02,0.02,0.0,0.0,0.0,0.02,0.0,0.0,0.0,0.0,0.03,0.03,0.0,0.0,0.0,0.02,0.0,0.0,0.0,0.0,0.0,0.02,0.0,0.0,0.0,0.0,0.03,0.02,0.03,0.02,0.0,0.0,0.0,0.0,0.0,0.0,0.02,0.03,0.03,0.0,0.0,0.03,0.02,0.0,0.0,0.0,0.0,0.03,0.0,0.0,0.02,0.03,0.0,0.0,0.0,0.02,0.02,0.03,0.0,0.03,0.03,0.02,0.03,0.0,0.0,0.0,0.0,0.02,0.03,0.0,0.0,0.02,0.01,0.0,0.0,0.0,0.03,0.03,0.0,0.0,0.0,0.0,0.02,0.03,0.0,0.0,0.0,0.03,0.0,0.03,0.03,0.0,0.0,0.02,0.03,0.03,0.0,0.02,0.03,0.0,0.0,0.0,0.02,0.01,0.03,0.02,0.02,0.03,0.0,0.0,0.03,0.02,0.0,0.0,0.0,0.03,0.0,0.0,0.03,0.0,0.0,0.03,0.0,0.0,0.03,0.03,0.02,0.0,0.0,0.02,0.0,0.0,0.0,0.0,0.0,0.03,0.0,0.0,0.0,0.0,0.0,0.01,0.0,0.0,0.01,0.03,0.0,0.0,0.0,0.0,0.0,0.0,0.0,0.0,0.02,0.0,0.01,0.02,0.02,0.0,0.0,0.0,0.0,0.02,0.03,0.03,0.0,0.02,0.0,0.0,0.0,0.0,0.01,0.02,0.0,0.02,0.0,0.0,0.0,0.0,0.0,0.0,0.0,0.0,0.0,0.0,0.0,0.03,0.0,0.02,0.0,0.0,0.0,0.0,0.0,0.0,0.02,0.0,0.01,0.0,0.03,0.02,0.0,0.03,0.0,0.03,0.0,0.0,0.0,0.03,0.0,0.0,0.0,0.0,0.0,0.0,0.0,0.0,0.0,0.0,0.03,0.02,0.02,0.03,0.0,0.0,0.0,0.02,0.0,0.02,0.0,0.0,0.0,0.02,0.02,0.0,0.03,0.0,0.0,0.0,0.0,0.0,0.0,0.0,0.0,0.0,0.0,0.0,0.0,0.0,0.01,0.02,0.0,0.0,0.03,0.02,0.0,0.0,0.0,0.0,0.01,0.03,0.02,0.03,0.0,0.02,0.0,0.0,0.0,0.01,0.02,0.0,0.0,0.0,0.0,0.0,0.02,0.0,0.02,0.02,0.0,0.0,0.0,0.0,0.01,0.01,0.03,0.02,0.02,0.0,0.02,0.0,0.0,0.02,0.0,0.02,0.02,0.02,0.0,0.02,0.03,0.0,0.0,0.0,0.0,0.0,0.02,0.03,0.01,0.0,0.0,0.0,0.0,0.03,0.0,0.0,0.0,0.0,0.02,0.0,0.0,0.02,0.01,0.02,0.0,0.0,0.02,0.0,0.03,0.0,0.0,0.02,0.03,0.0,0.0,0.03,0.02,0.0,0.02,0.02,0.02,0.0,0.0,0.0,0.02,0.02,0.0,0.02,0.0,0.0,0.01,0.0,0.0,0.03,0.0,0.02,0.01,0.02,0.0,0.0,0.0,0.03,0.0,0.02,0.0,0.0,0.03,0.02,0.0,0.0,0.0,0.0,0.0,0.02,0.0,0.0,0.03,0.0,0.0,0.0,0.03,0.0,0.0,0.0,0.0,0.0,0.0,0.03,0.01,0.01,0.0,0.0,0.03,0.02,0.0,0.02,0.0,0.02,0.02,0.0,0.0,0.01,0.02,0.02,0.0,0.03,0.02,0.0,0.0,0.0,0.03,0.0,0.01,0.0,0.03,0.0,0.02,0.0,0.0,0.0,0.0,0.0,0.03,0.02,0.02,0.01,0.0,0.0,0.0,0.0,0.01,0.02,0.0,0.0,0.0,0.0,0.0,0.03,0.0,0.03,0.0,0.02,0.0,0.0,0.02,0.0,0.0,0.0,0.03,0.0,0.0,0.0,0.0,0.03,0.0,0.0,0.0,0.0,0.0,0.02,0.0,0.0,0.02,0.02,0.0,0.0,0.0,0.0,0.0,0.0,0.02,0.02,0.03,0.0,0.0,0.0,0.0,0.0,0.0,0.02,0.0,0.0,0.0,0.02,0.0,0.0,0.02,0.03,0.0,0.0,0.0,0.0,0.03,0.0,0.0,0.0,0.0,0.0,0.0,0.02,0.02,0.0,0.03,0.0,0.0,0.0,0.0,0.02,0.0,0.0,0.0,0.0,0.02,0.02,0.01,0.0,0.03,0.02,0.02,0.0,0.01,0.0,0.0,0.0,0.0,0.02,0.02,0.02,0.0,0.0,0.0,0.0,0.02,0.02,0.0,0.03,0.0,0.0,0.0,0.02,0.0,0.0,0.0,0.0,0.0,0.0,0.0,0.0,0.0,0.02,0.0,0.01,0.01,0.0,0.0,0.02,0.02,0.0,0.0,0.02,0.0,0.02,0.02,0.02,0.02,0.0,0.02,0.0,0.0,0.01,0.02,0.0,0.0,0.0,0.02,0.02,0.0,0.0,0.02,0.02,0.0,0.01,0.0,0.0,0.01,0.0,0.0,0.0,0.01,0.0,0.0,0.02,0.0,0.0,0.0,0.0,0.0,0.02,0.02,0.0,0.02,0.0,0.02,0.0,0.0,0.0,0.01,0.0,0.01,0.0,0.01,0.0,0.0,0.0,0.02,0.0,0.02,0.01,0.02,0.02,0.02,0.02,0.0,0.0,0.02,0.0,0.02,0.0,0.02,0.01,0.0,0.01,0.0,0.02,0.02,0.0,0.0,0.02,0.0,0.0,0.02,0.01,0.02,0.0,0.0,0.0,0.0,0.02,0.0,0.0,0.02,0.02,0.0,0.02,0.02,0.0,0.0,0.02,0.0,0.0,0.0,0.0,0.02,0.02,0.0,0.01,0.0,0.0,0.0,0.0,0.0,0.0,0.0,0.0,0.01,0.02,0.01,0.02,0.02,0.0,0.01,0.02,0.02,0.0,0.0,0.01,0.02,0.0,0.0,0.0,0.0,0.0,0.0,0.01,0.0,0.01,0.0,0.0,0.02,0.0,0.0,0.02,0.0,0.02,0.01,0.0,0.0,0.0,0.0,0.0,0.0,0.0,0.02,0.0,0.02,0.02,0.0,0.0,0.0,0.02,0.0,0.0,0.02,0.0,0.0,0.02,0.0,0.02,0.0,0.0,0.0,0.0,0.0,0.0,0.0,0.0,0.0,0.0,0.0,0.0,0.02,0.02,0.01,0.02,0.0,0.0,0.0,0.0,0.02,0.0,0.0,0.0,0.02,0.0,0.02,0.02,0.0,0.0,0.02,0.0,0.01,0.01,0.0,0.0,0.02,0.02,0.0,0.0,0.02,0.0,0.02,0.0,0.0,0.0,0.0,0.02,0.02,0.0,0.0,0.0,0.0,0.0,0.0,0.0,0.0,0.0,0.0,0.02,0.02,0.01,0.02,0.01,0.02,0.0,0.0,0.0,0.01,0.0,0.0,0.02,0.0,0.0,0.0,0.0,0.0,0.0,0.0,0.0,0.0,0.02,0.02,0.0,0.01,0.0,0.0,0.0,0.0,0.0,0.0,0.0,0.0,0.0,0.0,0.0,0.0,0.0,0.02,0.0,0.01,0.02,0.0,0.0,0.0,0.0,0.0,0.0,0.01,0.0,0.0,0.0,0.02,0.0,0.0,0.0,0.02,0.0,0.0,0.0,0.0,0.02,0.01,0.02,0.0,0.02,0.01,0.0,0.02,0.02,0.0,0.0,0.02,0.02,0.0,0.02,0.0,0.0,0.02,0.0,0.0,0.02,0.0,0.0,0.02,0.0,0.01,0.0,0.0,0.02,0.0,0.02,0.0,0.0,0.01,0.0,0.0,0.0,0.0,0.0,0.01,0.0,0.0,0.0,0.0,0.02,0.0,0.02,0.0,0.0,0.02,0.0,0.0,0.01,0.0,0.0,0.0,0.0,0.0,0.02,0.0,0.0,0.0,0.0,0.01,0.0,0.0,0.0,0.02,0.02,0.02,0.0,0.02,0.0,0.0,0.0,0.0,0.0,0.0,0.02,0.02,0.0,0.0,0.0,0.01,0.02,0.0,0.02,0.01,0.01,0.0,0.0,0.0,0.0,0.0,0.0,0.0,0.0,0.02,0.02,0.0,0.02,0.01,0.02,0.0,0.0,0.0,0.02,0.02,0.0,0.02,0.0,0.01,0.0,0.02,0.0,0.01,0.0,0.02,0.02,0.0,0.0,0.02,0.0,0.0,0.0,0.0,0.0,0.0,0.0,0.01,0.0,0.0,0.02,0.0,0.0,0.0,0.0,0.0,0.0,0.02,0.0,0.0,0.02,0.0,0.0,0.02,0.0,0.02,0.02,0.01,0.0,0.0,0.0,0.0,0.0,0.0,0.0,0.01,0.01,0.02,0.0,0.0,0.0,0.02,0.02,0.0,0.0,0.0,0.0,0.02,0.0,0.02,0.0,0.01,0.0,0.0,0.0,0.02,0.0,0.02,0.0,0.02,0.01,0.0,0.0,0.0,0.0,0.0,0.02,0.0,0.02,0.0,0.0,0.02,0.0,0.01,0.0,0.0,0.02,0.0,0.0,0.02,0.0,0.0,0.0,0.0,0.0,0.0,0.0,0.02,0.02,0.0,0.0,0.02,0.0,0.01,0.0,0.02,0.01,0.0,0.0,0.02,0.01,0.0,0.01,0.02,0.02,0.0,0.0,0.02,0.0,0.0,0.02,0.0,0.0,0.02,0.0,0.0,0.0,0.0,0.0,0.0,0.0,0.0,0.0,0.02,0.0,0.0,0.01,0.0,0.0,0.01,0.02,0.0,0.02,0.0,0.0,0.0,0.02,0.0,0.0,0.02,0.01,0.01,0.01,0.0,0.0,0.02,0.0,0.01,0.0,0.0,0.0,0.0,0.0,0.0,0.02,0.0,0.0,0.0,0.0,0.0,0.02,0.0,0.0,0.0,0.01,0.01,0.0,0.0,0.01,0.0,0.0,0.0,0.02,0.0,0.0,0.01,0.0,0.02,0.02,0.0,0.02,0.0,0.0,0.0,0.0,0.0,0.02,0.01,0.01,0.02,0.0,0.0,0.0,0.02,0.0,0.0,0.0,0.0,0.02,0.02,0.0,0.0,0.02,0.01,0.01,0.0,0.0,0.01,0.01,0.0,0.0,0.0,0.0,0.02,0.0,0.0,0.0,0.0,0.0,0.0,0.0,0.02,0.0,0.0,0.0,0.01,0.0,0.02,0.0,0.0,0.0,0.0,0.0,0.01,0.01,0.0,0.0,0.01,0.02,0.0,0.0,0.0,0.0,0.0,0.01,0.0,0.01,0.0,0.0,0.0,0.0,0.01,0.02,0.0,0.0,0.0,0.0,0.0,0.01,0.01,0.0,0.0,0.0,0.01,0.0,0.0,0.0,0.0,0.0,0.0,0.02,0.0,0.0,0.0,0.0,0.0,0.02,0.0,0.0,0.01,0.0,0.0,0.01,0.0,0.02,0.0,0.0,0.0,0.0,0.0,0.0,0.0,0.01,0.0,0.0,0.0,0.0,0.0,0.0,0.01,0.0,0.0,0.0,0.0,0.0,0.0,0.02,0.01,0.02,0.0,0.01,0.0,0.01,0.01,0.0,0.0,0.0,0.0,0.0,0.0,0.01,0.0,0.0,0.02,0.0,0.01,0.0,0.02,0.01,0.0,0.0,0.01,0.0,0.0,0.0,0.0,0.0,0.0,0.0,0.0,0.0,0.01,0.0,0.0,0.02,0.0,0.01,0.01,0.0,0.01,0.0,0.01,0.0,0.0,0.01,0.02,0.02,0.0,0.0,0.01,0.01,0.0,0.0,0.01,0.0,0.0,0.01,0.0,0.0,0.0,0.0,0.0,0.01,0.02,0.01,0.0,0.0,0.0,0.0,0.0,0.0,0.0,0.0,0.0,0.01,0.0,0.0,0.0,0.01,0.0,0.0,0.0,0.0,0.0,0.01,0.0,0.0,0.02,0.0,0.02,0.0,0.02,0.0,0.0,0.0,0.01,0.02,0.0,0.0,0.0,0.0,0.0,0.0,0.0,0.0,0.0,0.0,0.02,0.01,0.0,0.01,0.01,0.0,0.02,0.0,0.0,0.0,0.0,0.0,0.0,0.01,0.02,0.0,0.0,0.01,0.02,0.0,0.0,0.0,0.0,0.0,0.0,0.0,0.01,0.0,0.0,0.0,0.0,0.01,0.0,0.02,0.0,0.0,0.02,0.01,0.0,0.01,0.01,0.01,0.01,0.0,0.0,0.0,0.01,0.0,0.0,0.01,0.0,0.0,0.0,0.01,0.0,0.0,0.01,0.01,0.02,0.01,0.0,0.01,0.01,0.0,0.01,0.02,0.0,0.02,0.0,0.0,0.01,0.01,0.0,0.0,0.0,0.0,0.01,0.01,0.0,0.01,0.0,0.01,0.0,0.01,0.01,0.0,0.02,0.0,0.0,0.0,0.0,0.0,0.0,0.0,0.02,0.0,0.0,0.02,0.0,0.0,0.0,0.0,0.01,0.02,0.0,0.0,0.0,0.0,0.0,0.0,0.0,0.0,0.0,0.01,0.02,0.01,0.0,0.0,0.0,0.0,0.0,0.0,0.02,0.0,0.01,0.0,0.01,0.0,0.0,0.01,0.0,0.0,0.01,0.0,0.0,0.0,0.02,0.01,0.01,0.02,0.0,0.0,0.01,0.01,0.01,0.0,0.0,0.02,0.0,0.0,0.0,0.01,0.0,0.0,0.0,0.0,0.0,0.0,0.0,0.01,0.0,0.0,0.0,0.0,0.01,0.0,0.02,0.02,0.01,0.01,0.01,0.0,0.0,0.0,0.0,0.01,0.0,0.0,0.0,0.0,0.0,0.02,0.0,0.01,0.0,0.0,0.0,0.0,0.0,0.0,0.0,0.0,0.0,0.02,0.0,0.0,0.0,0.0,0.0,0.01,0.01,0.0,0.01,0.0,0.0,0.0,0.0,0.01,0.01,0.01,0.0,0.0,0.01,0.02,0.0,0.0,0.0,0.0,0.0,0.0,0.0,0.0,0.02,0.01,0.0,0.02,0.0,0.01,0.0,0.01,0.0,0.0,0.0,0.0,0.01,0.0,0.02,0.0,0.0,0.01,0.02,0.01,0.0,0.0,0.0,0.0,0.02,0.0,0.0,0.0,0.0,0.0,0.0,0.0,0.0,0.0,0.01,0.0,0.0,0.01,0.01,0.02,0.0,0.01,0.0,0.0,0.0,0.0,0.0,0.0,0.0,0.0,0.0,0.01,0.0,0.0,0.0,0.01,0.01,0.0,0.01,0.0,0.01,0.0,0.01,0.0,0.0,0.0,0.01,0.0,0.0,0.0,0.01,0.0,0.0,0.0,0.0,0.0,0.01,0.01,0.0,0.0,0.01,0.01,0.0,0.0,0.0,0.0,0.0,0.01,0.0,0.0,0.0,0.0,0.0,0.0,0.01,0.01,0.0,0.01,0.0,0.01,0.0,0.01,0.0,0.0,0.01,0.0,0.01,0.0,0.0,0.01,0.0,0.0,0.01,0.0,0.0,0.0,0.01,0.0,0.0,0.0,0.0,0.01,0.0,0.01,0.0,0.01,0.0,0.01,0.0,0.0,0.0,0.01,0.0,0.0,0.0,0.01,0.01,0.0,0.0,0.01,0.0,0.0,0.0,0.01,0.01,0.0,0.01,0.0,0.0,0.0,0.0,0.0,0.0,0.01,0.0,0.01,0.0,0.0,0.0,0.0,0.01,0.0,0.01,0.0,0.01,0.0,0.0,0.0,0.0,0.01,0.0,0.0,0.01,0.0,0.0,0.0,0.0,0.0,0.0,0.0,0.0,0.0,0.0,0.0,0.01,0.01,0.01,0.0,0.0,0.0,0.0,0.0,0.0,0.0,0.0,0.0,0.0,0.01,0.0,0.0,0.01,0.0,0.0,0.0,0.0,0.0,0.0,0.01,0.0,0.0,0.0,0.01,0.0,0.0,0.0,0.0,0.0,0.0,0.0,0.01,0.0,0.0,0.0,0.01,0.0,0.0,0.01,0.0,0.0,0.0,0.01,0.0,0.0,0.0,0.0,0.0,0.0,0.0,0.0,0.0,0.0,0.0,0.01,0.0,0.01,0.0,0.0,0.0,0.0,0.0,0.01,0.0,0.0,0.01,0.01,0.01,0.01,0.0,0.01,0.0,0.0,0.01,0.0,0.01,0.01,0.0,0.01,0.0,0.0,0.0,0.01,0.0,0.0,0.0,0.0,0.01,0.01,0.0,0.0,0.0,0.01,0.0,0.01,0.0,0.0,0.01,0.01,0.0,0.0,0.0,0.0,0.0,0.0,0.0,0.0,0.0,0.0,0.0,0.0,0.0,0.0,0.0,0.01,0.0,0.0,0.0,0.0,0.0,0.0,0.0,0.0,0.01,0.0,0.01,0.0,0.0,0.0,0.0,0.0,0.0,0.01,0.0,0.0,0.01,0.0,0.0,0.01,0.0,0.0,0.0,0.0,0.0,0.0,0.01,0.0,0.0,0.0,0.0,0.0,0.01,0.0,0.0,0.0,0.01,0.01,0.01,0.0,0.0,0.0,0.0,0.0,0.01,0.0,0.01,0.0,0.0,0.0,0.0,0.0,0.0,0.0,0.0,0.0,0.0,0.0,0.0,0.0,0.0,0.0,0.0,0.0,0.0,0.0,0.0,0.0,0.01,0.0,0.01,0.01,0.0,0.01,0.0,0.01,0.0,0.01,0.0,0.0,0.0,0.0,0.0,0.0,0.01,0.01,0.0,0.0,0.0,0.0,0.0,0.0,0.0,0.0,0.01,0.0,0.01,0.01,0.0,0.0,0.0,0.0,0.0,0.01,0.01,0.0,0.0,0.01,0.0,0.0,0.0,0.0,0.01,0.01,0.0,0.0,0.01,0.0,0.0,0.0,0.0,0.0,0.0,0.01,0.0,0.0,0.0,0.0,0.0,0.0,0.0,0.0,0.0,0.0,0.01,0.0,0.0,0.0,0.0,0.0,0.0,0.0,0.0,0.0,0.01,0.01,0.0,0.0,0.0,0.0,0.0,0.0,0.01,0.0,0.0,0.01,0.0,0.0,0.01,0.0,0.0,0.01,0.0,0.0,0.0,0.0,0.01,0.01,0.0,0.01,0.0,0.0,0.0,0.0,0.0,0.0,0.0,0.0,0.01,0.01,0.0,0.01,0.01,0.01,0.0,0.0,0.01,0.0,0.0,0.0,0.0,0.0,0.01,0.0,0.01,0.0,0.0,0.0,0.0,0.0,0.0,0.01,0.0,0.0,0.0,0.0,0.0,0.0,0.01,0.01,0.0,0.0,0.0,0.0,0.01,0.0,0.0,0.0,0.0,0.01,0.01,0.0,0.01,0.0,0.0,0.0,0.0,0.0,0.01,0.0,0.0,0.0,0.0,0.01,0.0,0.0,0.01,0.0,0.0,0.01,0.01,0.0,0.0,0.0,0.0,0.01,0.0,0.0,0.0,0.01,0.01,0.0,0.0,0.0,0.0,0.0,0.0,0.0,0.01,0.0,0.01,0.0,0.0,0.0,0.0,0.0,0.0,0.0,0.0,0.0,0.0,0.01,0.0,0.0,0.0,0.0,0.01,0.0,0.01,0.0,0.0,0.0,0.0,0.0,0.01,0.0,0.0,0.01,0.0,0.0,0.01,0.0,0.0,0.0,0.0,0.0,0.0,0.0,0.0,0.01,0.01,0.01,0.0,0.0,0.0,0.0,0.0,0.0,0.0,0.0,0.01,0.0,0.0,0.0,0.0,0.0,0.0,0.01,0.01,0.0,0.0,0.0,0.0,0.0,0.0,0.0,0.0,0.0,0.0,0.0,0.0,0.0,0.0,0.0,0.01,0.01,0.0,0.01,0.0,0.0,0.0,0.0,0.0,0.0,0.0,0.0,0.0,0.0,0.01,0.0,0.0,0.0,0.0,0.0,0.0,0.01,0.0,0.01,0.0,0.0,0.0,0.0,0.01,0.01,0.0,0.0,0.0,0.0,0.0,0.01,0.01,0.0,0.0,0.01,0.0,0.0,0.0,0.0,0.01,0.0,0.0,0.0,0.0,0.0,0.01,0.0,0.0,0.0,0.0,0.0,0.01,0.0,0.0,0.0,0.01,0.0,0.0,0.0,0.0,0.0,0.0,0.0,0.0,0.0,0.0,0.0,0.0,0.0,0.0,0.01,0.01,0.0,0.0,0.0,0.0,0.0,0.01,0.0,0.01,0.0,0.01,0.0,0.0,0.0,0.01,0.0,0.01,0.0,0.0,0.0,0.0,0.0,0.01,0.01,0.01,0.0,0.01,0.0,0.0,0.01,0.0,0.0,0.0,0.01,0.0,0.0,0.0,0.0,0.01,0.01,0.0,0.0,0.01,0.01,0.01,0.01,0.0,0.0,0.01,0.0,0.0,0.01,0.01,0.01,0.01,0.0,0.0,0.01],\"z\":[3.77,6.81,3.79,3.28,10.22,4.22,6.5,2.93,4.7,0.28,1.93,4.13,7.2,3.6,2.53,0.24,0.97,0.41,3.54,4.16,6.04,4.18,3.84,0.06,0.47,5.38,5.65,5.32,1.87,0.13,3.12,0.11,4.34,0.35,0.65,0.07,0.08,0.49,0.3,2.66,0.48,5.33,2.67,0.13,0.36,3.96,1.91,1.1,1.2,3.08,2.69,0.14,2.54,2.13,0.81,0.38,0.44,2.12,3.15,1.25,0.0,0.04,0.08,2.23,2.47,0.04,3.28,0.38,0.01,1.69,0.13,3.0,0.02,4.36,1.98,0.1,3.81,0.06,2.49,0.05,1.58,3.14,0.13,0.0,0.13,0.66,2.73,3.63,2.69,0.0,0.24,0.98,0.22,0.14,1.45,1.31,0.7,2.42,0.0,0.06,0.6,0.01,0.0,0.35,0.08,1.4,1.42,1.39,1.27,0.24,0.87,0.0,0.07,0.08,0.17,0.19,0.94,0.0,0.06,0.21,0.28,0.11,1.6,0.17,0.05,1.03,0.25,1.69,0.16,0.08,2.06,1.49,1.29,0.06,0.09,0.87,2.87,0.0,0.02,0.03,0.07,0.07,0.87,0.16,0.83,0.78,0.28,2.33,0.17,4.35,0.0,2.02,1.36,0.07,0.16,1.81,0.21,1.97,0.07,0.11,0.1,4.13,0.91,0.99,0.95,0.94,0.0,0.24,0.0,1.87,2.0,1.01,0.03,2.78,2.11,1.09,0.08,1.03,0.2,0.01,3.61,0.0,0.83,1.27,1.57,0.03,0.95,2.2,1.89,0.44,0.13,1.7,0.05,0.01,0.0,0.0,1.08,0.0,0.16,0.06,0.15,1.11,0.02,0.8,0.0,0.07,0.29,0.01,0.09,1.54,0.12,0.01,0.0,0.89,4.87,1.52,0.12,0.0,0.09,0.04,0.44,0.06,0.04,0.02,0.0,0.02,1.32,0.08,0.06,0.13,0.0,1.15,0.89,0.22,1.1,1.44,0.07,0.01,0.01,0.0,0.01,0.03,4.1,0.08,0.19,0.02,0.46,0.01,0.01,1.05,0.13,1.61,0.08,0.14,0.26,1.38,0.01,0.0,0.0,0.11,0.03,0.72,0.07,0.1,0.05,0.83,0.0,0.0,0.62,0.04,0.2,0.18,0.57,0.04,0.58,0.02,0.31,1.57,0.0,0.01,0.11,0.09,1.76,0.03,0.37,2.1,0.05,0.01,0.0,0.04,0.04,0.03,0.9,0.16,0.51,0.1,0.64,0.12,2.46,0.07,0.92,0.05,0.0,0.06,0.08,1.07,0.01,0.13,2.62,0.06,0.0,0.31,3.77,0.1,0.03,1.12,1.05,0.22,0.54,0.81,0.41,0.73,0.1,0.27,0.0,0.47,0.1,0.0,0.0,0.59,0.14,0.21,1.54,0.0,0.04,1.38,0.27,0.08,3.67,0.01,0.0,0.55,0.06,0.0,0.4,0.15,0.66,0.05,0.64,0.05,0.46,0.15,0.03,0.0,0.0,0.1,0.46,0.03,0.06,0.0,0.07,0.05,0.12,0.1,0.01,0.02,0.02,0.0,0.01,0.05,0.27,0.12,1.75,0.03,1.42,0.02,0.73,0.04,0.02,0.04,0.01,0.0,0.1,3.44,0.03,0.33,0.17,0.06,0.0,2.55,0.02,0.59,0.05,0.19,0.0,0.48,0.74,0.0,0.73,0.82,0.0,0.01,2.32,0.12,0.57,0.76,0.03,0.05,0.05,0.06,0.0,0.02,0.46,0.31,2.78,0.77,0.0,0.12,0.0,3.18,0.0,2.35,0.12,0.07,0.8,0.04,3.19,0.01,0.09,0.93,0.1,0.0,1.93,0.38,0.0,0.99,0.0,0.06,0.88,0.03,0.0,0.02,0.0,0.14,1.03,0.14,3.03,0.06,0.03,0.0,0.55,0.01,0.64,0.04,0.46,0.55,0.0,0.03,0.0,0.02,0.12,0.02,0.0,0.08,0.0,0.45,0.07,0.0,0.01,0.76,0.05,0.8,0.0,1.16,0.64,1.39,0.08,0.0,0.0,0.06,1.19,0.04,0.15,0.34,0.06,0.04,0.12,0.05,0.03,0.73,0.05,0.62,0.11,0.04,0.0,0.0,1.13,0.06,1.38,0.01,0.0,0.02,0.0,0.12,0.0,0.0,0.03,0.0,0.89,0.98,0.0,0.0,0.05,0.11,0.05,0.0,0.07,0.04,0.1,0.04,0.0,0.03,0.0,0.04,0.0,1.1,2.13,0.09,0.0,0.04,2.78,0.0,0.0,0.0,0.68,1.96,0.0,0.07,0.26,0.17,0.0,0.04,0.07,0.0,0.71,0.06,1.13,1.04,0.02,0.02,0.33,1.09,0.0,0.87,0.0,0.01,0.0,0.35,0.0,0.0,2.68,0.04,0.89,0.0,0.01,0.0,0.0,0.0,0.0,0.0,0.0,0.01,2.65,0.12,0.0,0.02,0.12,0.04,0.06,0.0,0.24,0.04,0.01,0.01,0.96,0.04,0.92,0.11,0.04,0.08,0.0,0.01,0.07,0.03,1.75,0.03,0.31,0.33,0.03,0.0,0.21,2.41,0.0,0.7,0.29,0.0,0.0,0.06,0.16,0.0,0.52,0.08,0.0,0.26,1.08,0.18,0.0,0.0,0.0,0.1,0.0,0.06,0.05,0.0,0.0,0.92,0.0,0.05,2.43,1.34,0.0,0.04,0.0,0.0,0.0,0.02,0.46,0.78,0.54,0.51,0.0,0.7,0.0,0.04,0.0,0.0,1.42,0.0,0.0,0.05,0.0,0.0,0.0,0.04,0.0,0.03,0.0,0.02,0.03,0.26,0.01,0.0,0.0,0.0,0.08,0.04,0.01,0.0,0.02,1.48,0.0,0.4,2.34,0.01,0.0,0.01,0.0,0.34,0.0,0.47,0.0,0.0,1.06,0.04,0.09,1.21,0.0,2.02,0.1,0.0,0.0,0.62,0.15,0.0,0.04,0.0,0.46,0.0,2.28,1.63,0.01,0.0,0.1,0.02,0.64,0.0,0.04,0.91,0.54,0.02,0.0,0.14,0.87,1.06,0.2,0.46,0.0,1.05,0.91,0.22,0.0,0.21,0.0,0.0,0.18,0.0,0.02,0.45,0.0,0.02,0.0,0.05,0.0,0.0,0.0,0.34,2.05,0.02,0.0,0.55,0.02,0.0,1.1,0.3,0.07,2.17,0.0,0.01,0.0,0.73,0.47,0.01,0.08,1.56,0.0,0.0,0.02,0.13,1.98,0.0,0.0,1.45,2.13,0.19,0.0,0.0,0.0,1.35,0.89,0.06,0.02,1.07,0.45,0.05,0.92,0.05,0.0,0.0,0.4,0.02,0.63,0.0,1.13,0.0,1.05,0.0,0.04,0.02,0.01,0.29,1.96,0.08,0.05,0.01,0.0,0.0,0.14,0.96,0.0,0.0,0.05,0.0,0.73,0.13,0.0,0.0,0.0,0.0,0.75,0.0,0.54,0.0,0.01,0.02,0.04,0.74,0.04,0.79,0.13,0.46,0.04,0.0,0.04,0.83,0.05,0.15,0.0,0.02,0.53,0.01,0.0,0.0,0.0,0.29,0.03,0.0,0.13,0.0,0.0,0.0,0.01,0.0,0.04,0.0,0.0,0.01,0.53,0.02,1.29,0.0,0.27,0.9,0.05,0.02,0.75,0.0,0.07,0.08,0.0,0.0,0.0,0.51,0.02,0.0,0.02,0.63,0.41,1.53,1.05,0.02,0.0,0.0,0.0,0.0,0.0,0.0,0.01,0.0,0.0,0.55,0.65,0.03,0.0,0.0,0.0,0.0,0.0,1.3,0.2,0.0,0.1,0.29,0.01,0.41,0.01,0.0,0.0,0.0,0.0,1.46,0.0,1.01,0.0,0.0,0.04,0.0,0.03,0.06,0.03,0.0,1.33,0.03,0.0,0.0,1.48,0.09,0.03,0.0,0.3,0.04,1.07,0.4,0.41,0.0,0.03,0.39,0.04,0.0,0.01,0.0,0.0,0.69,0.13,0.55,0.0,0.0,0.35,0.83,0.08,0.42,0.35,0.0,0.93,0.0,0.0,0.03,0.07,1.49,0.02,0.52,0.79,0.03,0.0,0.0,0.07,1.35,0.11,0.0,0.12,0.56,0.0,0.0,0.21,0.01,0.03,0.0,0.07,0.08,0.06,0.03,0.0,1.49,0.0,0.02,0.36,0.06,0.72,0.14,0.0,0.0,0.84,0.0,1.33,1.03,0.24,0.01,0.56,0.0,0.0,0.4,0.2,1.09,0.0,0.0,0.0,0.04,0.01,0.0,0.0,0.0,0.02,0.02,0.0,0.25,0.0,0.53,0.03,0.91,0.21,0.8,0.08,0.01,0.0,0.04,0.45,0.02,0.0,0.03,0.01,0.0,0.0,0.06,0.13,0.12,0.0,0.14,0.0,0.1,0.0,0.0,0.01,0.0,0.06,0.0,0.0,0.0,0.0,0.0,0.55,0.0,0.0,0.0,0.0,0.32,0.0,1.71,0.0,0.0,0.03,0.0,0.14,0.0,0.79,1.69,0.0,0.0,0.04,0.0,0.02,0.01,0.0,0.08,0.0,0.03,0.04,0.08,0.01,0.0,0.0,0.22,0.07,0.0,0.0,0.0,0.0,0.82,0.33,0.0,0.0,0.04,0.17,0.0,0.0,0.0,0.0,0.01,0.42,0.0,0.42,0.02,0.03,0.0,0.04,0.0,0.0,0.0,0.11,0.06,0.31,0.06,0.01,0.0,0.02,0.03,0.54,0.0,0.6,0.15,0.33,1.65,0.02,1.27,0.76,0.0,0.0,0.0,0.61,0.0,0.0,0.0,0.0,0.05,0.0,0.02,0.56,0.0,0.02,0.0,0.32,0.0,0.0,0.02,0.0,0.01,0.03,0.49,0.45,0.0,0.3,0.0,0.03,0.65,1.61,0.2,0.0,0.0,0.01,0.01,0.0,0.0,0.02,0.09,0.0,0.3,1.36,0.02,0.06,0.0,0.0,0.04,0.46,0.34,0.0,0.32,0.07,0.0,0.0,0.03,0.0,0.0,0.01,0.0,0.01,0.0,0.0,0.34,0.0,0.44,0.0,0.12,0.0,0.0,0.46,0.49,0.0,0.0,0.81,0.0,0.33,0.69,1.56,0.44,0.01,0.0,0.04,0.0,0.0,0.19,0.02,0.02,0.02,0.0,0.0,0.21,0.0,0.0,0.24,0.01,0.29,0.52,0.08,0.0,0.02,0.01,0.0,0.0,0.0,0.0,0.01,0.0,0.0,0.0,0.0,0.0,0.25,0.0,0.15,0.0,0.0,0.0,0.0,0.0,1.52,1.27,0.0,0.0,0.04,0.03,0.06,0.0,0.0,0.0,0.0,0.0,1.51,0.42,0.0,0.0,0.0,0.0,0.11,0.05,0.15,0.0,0.0,0.0,0.0,0.05,0.02,0.92,0.09,1.5,0.09,0.0,0.1,0.0,0.36,0.0,0.0,0.0,0.25,0.0,0.01,0.0,0.28,0.0,0.52,0.65,0.02,0.39,0.03,0.0,0.0,0.0,0.0,0.06,0.14,0.65,0.0,0.01,0.44,0.49,0.0,0.03,0.0,0.02,0.89,0.0,0.02,0.04,0.0,0.0,0.02,0.1,0.0,0.0,0.25,0.03,0.0,0.06,0.04,0.0,0.07,0.54,0.0,0.0,0.01,0.0,0.0,0.46,0.0,1.44,1.45,1.45,1.44,0.03,0.0,1.24,0.0,0.0,0.0,0.0,0.0,0.0,1.09,0.08,0.0,0.0,0.02,0.05,0.0,0.0,0.0,0.0,0.0,0.0,0.0,0.0,0.35,1.39,0.0,1.3,0.0,0.02,0.0,0.22,0.0,0.0,0.71,1.3,0.0,0.35,1.18,0.06,0.0,0.0,0.0,0.0,0.0,0.0,0.03,0.32,0.13,0.0,0.77,0.0,0.0,0.0,0.0,0.03,0.0,0.01,0.08,1.39,0.0,0.02,0.0,0.02,0.54,0.0,0.07,0.0,0.15,0.91,0.0,0.0,0.02,0.0,0.0,0.59,0.49,0.02,0.0,0.38,0.15,0.0,0.0,0.01,0.0,0.0,0.0,0.06,0.16,0.0,0.01,0.02,0.01,0.0,0.0,1.37,0.02,0.0,0.0,0.01,0.0,1.0,1.36,0.0,0.28,0.0,0.0,0.0,0.11,1.26,0.08,0.0,0.02,0.06,0.0,0.05,0.05,0.05,0.0,1.06,0.0,0.08,0.04,1.03,0.02,1.07,0.0,0.01,0.13,0.01,0.43,0.1,0.0,0.0,0.24,0.05,0.0,0.0,0.0,0.01,0.0,0.0,0.06,0.0,0.01,0.01,0.0,0.01,0.0,0.0,0.07,0.0,0.32,0.0,0.0,0.58,0.01,0.02,0.0,0.4,0.0,0.18,0.0,0.02,0.4,0.0,0.0,0.96,0.09,0.0,0.04,0.0,0.0,0.0,0.0,0.0,0.05,0.0,0.0,0.0,0.0,0.0,0.0,0.0,0.0,0.06,0.0,0.0,0.0,0.06,0.02,0.09,0.0,0.0,0.0,1.29,0.0,0.28,0.02,0.02,0.11,0.85,0.0,0.45,0.02,0.0,0.0,0.0,0.0,0.0,0.24,0.0,0.0,0.01,0.0,0.17,1.28,0.0,0.0,0.0,0.0,0.0,0.36,0.0,0.05,0.21,0.0,0.0,0.0,0.47,0.0,0.0,0.0,0.0,0.41,0.0,0.0,0.26,0.0,0.06,0.0,0.53,1.27,0.0,1.12,0.0,1.1,0.62,0.13,0.03,0.0,0.01,0.0,0.0,0.0,0.0,0.02,0.0,0.01,0.0,0.03,1.25,1.25,0.1,0.01,0.31,0.03,0.0,0.0,0.0,0.0,0.22,0.0,0.0,0.67,0.0,0.0,0.05,0.0,0.0,0.75,0.0,0.43,0.0,0.0,0.0,0.07,0.07,0.0,0.0,0.0,0.0,0.0,0.03,0.75,0.0,0.0,0.62,0.12,0.21,0.7,0.01,0.0,0.0,0.0,0.0,0.0,0.15,0.46,1.0,0.12,0.08,0.85,0.01,0.11,0.0,0.0,1.14,0.27,0.0,0.0,0.0,0.01,0.0,0.14,0.0,0.0,0.0,0.01,0.0,0.0,0.35,1.2,0.01,0.28,0.01,0.0,0.0,0.31,0.0,0.0,0.0,0.56,0.0,0.0,0.01,0.0,1.2,1.2,1.2,0.0,0.36,0.01,0.0,0.36,0.42,0.86,0.0,0.38,0.0,0.19,0.0,0.0,0.11,0.0,0.27,0.0,0.04,0.35,0.0,0.0,0.0,0.01,0.29,0.0,0.33,0.0,0.0,0.0,0.36,0.0,1.08,0.38,0.44,0.0,0.02,0.01,0.0,0.04,0.52,0.0,0.0,0.0,0.02,0.0,0.0,0.15,0.01,0.01,0.39,0.04,0.02,1.17,0.0,0.0,0.83,0.0,0.0,0.0,0.01,0.0,0.21,0.02,0.0,0.0,0.01,0.3,0.0,0.0,0.0,0.43,0.0,0.0,0.07,0.5,0.0,0.77,0.0,0.02,0.0,0.09,0.0,0.01,0.0,0.0,0.0,0.0,0.09,0.0,0.0,0.06,0.01,0.0,0.41,1.15,1.15,0.0,0.05,0.46,0.0,1.15,0.0,0.0,1.07,0.35,0.0,0.25,0.2,0.65,0.76,0.0,0.02,0.0,0.0,0.25,0.48,0.47,0.15,0.0,0.0,0.0,0.0,0.88,0.01,0.0,0.06,0.0,1.06,0.0,0.37,0.0,0.0,0.84,0.0,0.0,0.04,0.62,0.0,0.0,0.01,0.0,0.0,0.3,0.02,0.28,0.1,0.01,0.0,0.01,0.0,0.63,0.0,0.0,0.0,0.0,0.04,0.0,0.03,0.0,0.0,0.0,0.0,0.7,1.1,0.0,0.0,0.29,0.73,0.0,0.0,0.0,0.0,0.01,0.17,0.0,0.0,0.0,0.0,0.01,1.1,1.1,1.1,1.1,0.29,0.45,0.0,0.04,0.0,0.0,0.31,0.01,0.72,0.45,0.0,0.0,0.0,0.84,0.01,0.0,0.08,0.0,1.07,0.0,0.0,0.0,0.0,0.01,0.0,0.0,1.02,0.04,0.0,0.0,0.09,0.0,0.0,0.0,0.03,0.0,0.0,0.0,0.0,0.0,0.2,0.0,0.03,0.0,0.0,0.0,0.01,0.0,0.01,0.13,0.0,0.0,0.0,0.0,0.19,0.09,0.03,0.0,1.0,0.0,0.0,0.02,0.03,0.77,0.0,0.0,0.04,0.21,0.0,0.13,0.0,0.05,0.0,0.0,0.71,0.0,0.0,0.0,0.0,0.0,0.0,0.0,0.01,0.0,0.01,0.99,0.0,0.0,0.05,0.01,0.0,0.0,0.0,0.0,0.0,0.0,0.0,0.0,0.1,0.0,0.03,0.0,0.0,0.64,0.0,0.0,0.0,0.0,0.0,0.0,0.0,1.05,0.92,1.05,1.04,0.03,0.0,0.12,0.0,0.0,0.0,0.01,0.0,0.0,0.0,0.66,0.37,0.0,0.0,0.0,0.0,0.26,0.0,0.83,0.0,0.02,0.22,0.45,0.0,0.01,0.37,0.31,0.0,0.0,0.02,0.0,0.41,0.0,0.0,0.02,0.0,0.0,0.01,0.0,0.01,0.0,0.01,0.0,0.0,0.0,0.85,0.0,0.0,0.0,0.51,0.01,0.01,0.0,0.02,0.05,0.01,0.0,0.45,0.49,0.0,0.0,0.22,0.0,0.0,0.0,0.0,0.1,0.02,0.03,0.01,0.05,0.0,0.0,0.0,1.01,0.74,0.02,0.0,0.0,0.0,0.0,0.46,0.03,0.38,0.21,0.19,0.47,0.09,1.0,0.03,0.02,0.0,0.02,0.0,0.0,0.04,0.0,0.74,0.01,0.05,0.0,0.0,0.0,0.0,0.0,0.0,0.0,0.39,0.0,0.0,0.0,0.0,0.01,0.12,0.0,0.0,0.0,0.0,0.0,0.04,0.0,0.0,0.38,0.0,0.0,0.0,0.0,0.0,0.0,0.0,0.19,0.0,0.16,0.0,0.28,0.0,0.21,0.0,0.0,0.38,0.27,0.0,0.01,0.06,0.0,0.0,0.06,0.51,0.0,0.0,0.0,0.86,0.15,0.0,0.0,0.0,0.0,0.0,0.29,0.63,0.0,0.0,0.0,0.03,0.0,0.0,0.0,0.97,0.0,0.0,0.0,0.28,0.0,0.0,0.26,0.0,0.04,0.9,0.0,0.96,0.0,0.0,0.0,0.57,0.0,0.2,0.0,0.96,0.0,0.09,0.53,0.22,0.0,0.0,0.13,0.15,0.0,0.0,0.0,0.0,0.0,0.0,0.0,0.0,0.0,0.0,0.46,0.41,0.0,0.0,0.0,0.0,0.0,0.05,0.01,0.0,0.0,0.0,0.18,0.0,0.0,0.01,0.13,0.0,0.0,0.0,0.0,0.0,0.0,0.33,0.02,0.09,0.0,0.0,0.71,0.0,0.0,0.08,0.04,0.0,0.63,0.0,0.0,0.0,0.02,0.0,0.0,0.0,0.0,0.02,0.36,0.02,0.02,0.0,0.0,0.0,0.0,0.32,0.42,0.0,0.0,0.0,0.0,0.0,0.0,0.93,0.16,0.0,0.0,0.0,0.21,0.0,0.0,0.0,0.0,0.0,0.0,0.0,0.02,0.0,0.0,0.0,0.0,0.43,0.0,0.53,0.01,0.0,0.46,0.12,0.0,0.0,0.0,0.66,0.11,0.0,0.05,0.04,0.0,0.0,0.0,0.29,0.01,0.0,0.21,0.0,0.02,0.0,0.0,0.0,0.0,0.0,0.0,0.91,0.0,0.0,0.0,0.0,0.0,0.77,0.9,0.0,0.04,0.0,0.0,0.15,0.0,0.0,0.03,0.0,0.55,0.01,0.05,0.0,0.0,0.0,0.01,0.0,0.01,0.0,0.0,0.0,0.0,0.01,0.0,0.0,0.0,0.0,0.0,0.01,0.0,0.0,0.0,0.01,0.05,0.01,0.0,0.24,0.0,0.3,0.89,0.0,0.0,0.56,0.0,0.0,0.0,0.46,0.04,0.01,0.01,0.0,0.21,0.01,0.0,0.0,0.0,0.89,0.09,0.0,0.01,0.0,0.0,0.0,0.0,0.0,0.3,0.0,0.0,0.12,0.0,0.0,0.12,0.01,0.13,0.0,0.01,0.62,0.0,0.0,0.0,0.0,0.0,0.87,0.0,0.01,0.0,0.02,0.09,0.0,0.0,0.0,0.09,0.0,0.01,0.02,0.0,0.0,0.0,0.0,0.0,0.0,0.0,0.0,0.0,0.0,0.3,0.0,0.64,0.0,0.0,0.45,0.0,0.86,0.0,0.12,0.01,0.0,0.21,0.01,0.0,0.86,0.0,0.0,0.0,0.18,0.0,0.2,0.02,0.51,0.08,0.0,0.01,0.0,0.0,0.0,0.0,0.0,0.0,0.57,0.0,0.01,0.0,0.37,0.0,0.0,0.0,0.0,0.0,0.0,0.0,0.0,0.44,0.2,0.0,0.02,0.03,0.0,0.13,0.0,0.11,0.0,0.01,0.14,0.0,0.0,0.0,0.05,0.0,0.06,0.52,0.1,0.0,0.0,0.0,0.03,0.39,0.0,0.0,0.04,0.05,0.0,0.01,0.0,0.0,0.4,0.34,0.0,0.0,0.0,0.01,0.28,0.01,0.0,0.83,0.0,0.12,0.0,0.0,0.0,0.0,0.0,0.0,0.0,0.11,0.0,0.0,0.09,0.0,0.0,0.0,0.0,0.0,0.0,0.0,0.08,0.0,0.28,0.0,0.0,0.0,0.0,0.19,0.14,0.0,0.0,0.0,0.0,0.01,0.0,0.36,0.0,0.0,0.0,0.0,0.81,0.0,0.0,0.81,0.07,0.66,0.81,0.0,0.0,0.0,0.76,0.0,0.63,0.81,0.03,0.0,0.27,0.0,0.0,0.81,0.0,0.3,0.0,0.01,0.0,0.0,0.75,0.09,0.0,0.0,0.0,0.02,0.0,0.0,0.74,0.0,0.0,0.0,0.0,0.0,0.0,0.0,0.2,0.0,0.0,0.0,0.03,0.0,0.0,0.0,0.07,0.0,0.22,0.0,0.75,0.26,0.0,0.0,0.0,0.13,0.8,0.8,0.04,0.01,0.29,0.0,0.0,0.03,0.0,0.0,0.74,0.3,0.0,0.74,0.0,0.0,0.0,0.0,0.0,0.32,0.21,0.02,0.23,0.79,0.08,0.01,0.0,0.0,0.0,0.03,0.01,0.0,0.0,0.17,0.01,0.27,0.25,0.01,0.0,0.0,0.0,0.11,0.0,0.0,0.0,0.0,0.0,0.0,0.0,0.0,0.0,0.12,0.13,0.0,0.0,0.0,0.03,0.0,0.01,0.0,0.78,0.0,0.0,0.0,0.0,0.0,0.0,0.0,0.03,0.0,0.0,0.0,0.0,0.0,0.03,0.0,0.32,0.0,0.0,0.0,0.11,0.0,0.0,0.77,0.0,0.0,0.0,0.0,0.0,0.0,0.38,0.14,0.0,0.56,0.0,0.0,0.42,0.01,0.0,0.03,0.0,0.0,0.0,0.43,0.0,0.71,0.08,0.07,0.0,0.0,0.11,0.0,0.0,0.76,0.0,0.76,0.62,0.0,0.0,0.0,0.01,0.0,0.0,0.3,0.0,0.0,0.13,0.01,0.01,0.01,0.07,0.0,0.0,0.0,0.06,0.02,0.76,0.0,0.01,0.0,0.0,0.0,0.0,0.2,0.0,0.0,0.01,0.0,0.01,0.0,0.0,0.0,0.0,0.13,0.02,0.23,0.0,0.0,0.0,0.19,0.0,0.0,0.01,0.3,0.0,0.0,0.01,0.01,0.0,0.0,0.0,0.22,0.74,0.0,0.24,0.0,0.0,0.02,0.0,0.0,0.25,0.15,0.01,0.02,0.02,0.0,0.0,0.0,0.0,0.0,0.0,0.0,0.0,0.14,0.0,0.5,0.0,0.0,0.24,0.3,0.25,0.22,0.0,0.46,0.73,0.17,0.0,0.73,0.0,0.01,0.0,0.32,0.0,0.73,0.0,0.0,0.0,0.0,0.0,0.01,0.0,0.73,0.0,0.17,0.0,0.02,0.0,0.0,0.0,0.0,0.0,0.53,0.0,0.0,0.0,0.0,0.0,0.0,0.72,0.08,0.67,0.0,0.01,0.0,0.0,0.0,0.7,0.0,0.0,0.0,0.0,0.0,0.0,0.02,0.0,0.0,0.0,0.0,0.0,0.22,0.61,0.2,0.0,0.0,0.0,0.0,0.0,0.0,0.5,0.0,0.0,0.37,0.0,0.0,0.29,0.41,0.0,0.27,0.0,0.0,0.0,0.0,0.0,0.0,0.06,0.07,0.0,0.0,0.0,0.0,0.0,0.71,0.0,0.0,0.17,0.0,0.71,0.44,0.0,0.41,0.0,0.0,0.0,0.01,0.0,0.0,0.0,0.0,0.0,0.0,0.01,0.0,0.0,0.0,0.12,0.7,0.0,0.0,0.0,0.0,0.0,0.0,0.0,0.0,0.0,0.0,0.0,0.0,0.0,0.0,0.01,0.58,0.0,0.0,0.0,0.12,0.0,0.0,0.0,0.0,0.0,0.36,0.22,0.0,0.0,0.0,0.17,0.7,0.0,0.0,0.0,0.05,0.0,0.26,0.0,0.0,0.0,0.0,0.0,0.0,0.0,0.0,0.0,0.0,0.69,0.69,0.0,0.0,0.01,0.42,0.0,0.0,0.0,0.0,0.02,0.0,0.18,0.0,0.0,0.0,0.0,0.0,0.33,0.0,0.0,0.18,0.0,0.0,0.0,0.02,0.0,0.0,0.03,0.0,0.0,0.28,0.04,0.34,0.0,0.0,0.0,0.22,0.38,0.0,0.0,0.0,0.0,0.04,0.0,0.11,0.0,0.2,0.0,0.01,0.0,0.0,0.0,0.42,0.0,0.0,0.11,0.0,0.0,0.0,0.0,0.0,0.0,0.0,0.0,0.67,0.0,0.0,0.23,0.0,0.67,0.0,0.0,0.01,0.0,0.0,0.31,0.0,0.01,0.0,0.0,0.0,0.01,0.01,0.0,0.0,0.0,0.0,0.0,0.0,0.25,0.0,0.05,0.0,0.0,0.66,0.0,0.0,0.01,0.03,0.0,0.0,0.13,0.0,0.0,0.0,0.0,0.0,0.0,0.66,0.0,0.66,0.64,0.0,0.0,0.0,0.0,0.0,0.0,0.55,0.33,0.0,0.0,0.0,0.0,0.0,0.19,0.0,0.3,0.62,0.0,0.41,0.0,0.0,0.0,0.66,0.03,0.0,0.0,0.0,0.0,0.0,0.01,0.0,0.0,0.29,0.12,0.0,0.0,0.3,0.0,0.0,0.0,0.0,0.58,0.0,0.0,0.0,0.0,0.27,0.0,0.26,0.0,0.0,0.0,0.0,0.0,0.0,0.0,0.0,0.2,0.22,0.65,0.05,0.0,0.65,0.4,0.0,0.0,0.0,0.0,0.0,0.0,0.0,0.0,0.0,0.01,0.0,0.01,0.0,0.0,0.07,0.0,0.0,0.0,0.0,0.0,0.0,0.0,0.0,0.0,0.0,0.04,0.0,0.0,0.0,0.34,0.2,0.0,0.0,0.09,0.0,0.27,0.0,0.0,0.0,0.0,0.0,0.0,0.01,0.0,0.11,0.04,0.0,0.01,0.0,0.01,0.0,0.0,0.0,0.0,0.03,0.0,0.0,0.0,0.0,0.0,0.63,0.0,0.01,0.0,0.0,0.0,0.0,0.63,0.0,0.0,0.25,0.0,0.0,0.0,0.0,0.63,0.0,0.0,0.01,0.38,0.0,0.0,0.0,0.0,0.0,0.0,0.0,0.63,0.0,0.16,0.0,0.34,0.59,0.0,0.15,0.0,0.0,0.0,0.01,0.0,0.0,0.0,0.32,0.62,0.0,0.0,0.0,0.0,0.11,0.29,0.0,0.08,0.0,0.0,0.0,0.0,0.0,0.22,0.0,0.0,0.07,0.57,0.0,0.12,0.0,0.0,0.02,0.0,0.0,0.0,0.0,0.27,0.0,0.09,0.0,0.23,0.0,0.62,0.0,0.0,0.62,0.62,0.0,0.0,0.62,0.62,0.0,0.58,0.04,0.11,0.0,0.0,0.0,0.01,0.0,0.57,0.34,0.0,0.0,0.0,0.0,0.0,0.0,0.0,0.0,0.0,0.0,0.0,0.61,0.0,0.14,0.0,0.42,0.0,0.0,0.0,0.01,0.0,0.0,0.21,0.0,0.0,0.0,0.22,0.0,0.0,0.0,0.0,0.0,0.0,0.01,0.0,0.0,0.0,0.0,0.0,0.0,0.0,0.0,0.33,0.0,0.25,0.0,0.0,0.09,0.0,0.0,0.6,0.0,0.0,0.0,0.0,0.0,0.2,0.0,0.03,0.04,0.0,0.21,0.0,0.0,0.0,0.0,0.6,0.0,0.0,0.14,0.23,0.0,0.0,0.0,0.56,0.56,0.03,0.0,0.0,0.0,0.0,0.6,0.0,0.0,0.0,0.0,0.0,0.0,0.0,0.6,0.31,0.0,0.0,0.0,0.0,0.0,0.59,0.0,0.56,0.0,0.0,0.0,0.0,0.23,0.0,0.05,0.0,0.0,0.55,0.0,0.59,0.0,0.0,0.0,0.16,0.0,0.0,0.0,0.0,0.0,0.0,0.0,0.0,0.0,0.14,0.59,0.02,0.0,0.42,0.01,0.01,0.0,0.0,0.0,0.0,0.0,0.13,0.08,0.0,0.0,0.0,0.11,0.0,0.0,0.59,0.0,0.14,0.0,0.0,0.0,0.0,0.0,0.55,0.07,0.0,0.0,0.0,0.47,0.0,0.17,0.0,0.0,0.0,0.02,0.0,0.0,0.0,0.0,0.02,0.0,0.0,0.0,0.0,0.22,0.0,0.0,0.19,0.0,0.0,0.16,0.54,0.0,0.0,0.0,0.0,0.31,0.5,0.0,0.0,0.0,0.58,0.0,0.0,0.26,0.58,0.0,0.14,0.06,0.0,0.0,0.0,0.0,0.0,0.0,0.01,0.0,0.0,0.02,0.0,0.0,0.0,0.0,0.0,0.27,0.13,0.0,0.0,0.0,0.0,0.0,0.0,0.0,0.57,0.0,0.0,0.54,0.0,0.01,0.0,0.35,0.0,0.0,0.0,0.0,0.04,0.0,0.0,0.0,0.0,0.0,0.03,0.57,0.0,0.0,0.29,0.0,0.0,0.35,0.0,0.0,0.0,0.0,0.02,0.57,0.0,0.04,0.57,0.0,0.0,0.17,0.0,0.0,0.0,0.0,0.0,0.0,0.05,0.0,0.34,0.0,0.09,0.24,0.0,0.0,0.0,0.0,0.0,0.13,0.0,0.0,0.0,0.0,0.0,0.0,0.0,0.22,0.0,0.0,0.0,0.0,0.0,0.0,0.0,0.0,0.0,0.0,0.0,0.0,0.0,0.07,0.45,0.0,0.12,0.26,0.0,0.27,0.01,0.0,0.56,0.0,0.0,0.0,0.0,0.0,0.0,0.0,0.0,0.0,0.56,0.0,0.0,0.56,0.0,0.0,0.22,0.0,0.0,0.0,0.14,0.0,0.0,0.0,0.0,0.0,0.02,0.0,0.06,0.14,0.0,0.0,0.0,0.0,0.15,0.0,0.0,0.55,0.0,0.0,0.0,0.52,0.55,0.0,0.0,0.0,0.0,0.0,0.55,0.55,0.12,0.0,0.04,0.03,0.0,0.0,0.0,0.0,0.55,0.0,0.0,0.0,0.0,0.24,0.0,0.02,0.0,0.51,0.55,0.0,0.55,0.07,0.0,0.55,0.0,0.21,0.0,0.0,0.36,0.02,0.0,0.0,0.03,0.0,0.0,0.0,0.0,0.13,0.0,0.0,0.0,0.0,0.01,0.0,0.0,0.54,0.54,0.08,0.04,0.0,0.0,0.02,0.0,0.03,0.01,0.0,0.25,0.0,0.0,0.38,0.54,0.0,0.1,0.0,0.0,0.0,0.0,0.0,0.0,0.0,0.54,0.01,0.13,0.35,0.16,0.54,0.0,0.5,0.0,0.18,0.0,0.0,0.15,0.01,0.0,0.0,0.0,0.0,0.0,0.0,0.0,0.1,0.54,0.0,0.48,0.0,0.0,0.0,0.0,0.0,0.48,0.0,0.0,0.24,0.0,0.0,0.0,0.53,0.0,0.0,0.38,0.0,0.0,0.0,0.17,0.27,0.0,0.0,0.0,0.0,0.0,0.33,0.0,0.0,0.0,0.0,0.0,0.0,0.02,0.0,0.53,0.53,0.53,0.0,0.0,0.12,0.0,0.02,0.0,0.0,0.0,0.0,0.0,0.02,0.0,0.0,0.0,0.0,0.0,0.0,0.49,0.01,0.0,0.0,0.0,0.0,0.0,0.0,0.0,0.0,0.0,0.0,0.53,0.0,0.0,0.16,0.0,0.04,0.0,0.0,0.49,0.0,0.19,0.52,0.0,0.0,0.02,0.52,0.0,0.0,0.0,0.0,0.0,0.0,0.0,0.0,0.0,0.16,0.0,0.0,0.22,0.02,0.0,0.0,0.16,0.0,0.28,0.28,0.0,0.0,0.01,0.0,0.0,0.0,0.18,0.52,0.02,0.0,0.0,0.0,0.0,0.08,0.01,0.0,0.31,0.52,0.0,0.0,0.0,0.0,0.2,0.0,0.0,0.0,0.0,0.0,0.0,0.25,0.0,0.01,0.0,0.0,0.0,0.27,0.0,0.35,0.0,0.0,0.0,0.0,0.07,0.0,0.02,0.06,0.0,0.51,0.0,0.51,0.0,0.0,0.0,0.0,0.17,0.3,0.0,0.02,0.0,0.51,0.22,0.0,0.0,0.0,0.0,0.0,0.0,0.48,0.0,0.0,0.2,0.02,0.11,0.0,0.0,0.3,0.07,0.0,0.0,0.01,0.0,0.0,0.0,0.51,0.0,0.0,0.0,0.0,0.0,0.0,0.0,0.0,0.0,0.05,0.0,0.02,0.0,0.0,0.0,0.0,0.0,0.0,0.0,0.0,0.01,0.0,0.04,0.0,0.0,0.0,0.11,0.5,0.32,0.0,0.0,0.0,0.0,0.0,0.0,0.0,0.0,0.0,0.0,0.0,0.0,0.18,0.07,0.0,0.0,0.0,0.0,0.31,0.17,0.5,0.0,0.0,0.03,0.0,0.08,0.29,0.01,0.0,0.0,0.0,0.0,0.0,0.0,0.0,0.0,0.28,0.0,0.0,0.0,0.0,0.5,0.32,0.0,0.0,0.5,0.46,0.0,0.0,0.0,0.0,0.01,0.0,0.0,0.0,0.0,0.12,0.0,0.03,0.13,0.05,0.0,0.0,0.0,0.0,0.49,0.0,0.0,0.01,0.02,0.0,0.07,0.0,0.0,0.0,0.0,0.0,0.24,0.0,0.49,0.49,0.0,0.0,0.16,0.0,0.03,0.02,0.0,0.0,0.49,0.09,0.0,0.0,0.0,0.04,0.0,0.49,0.0,0.46,0.0,0.0,0.0,0.02,0.0,0.02,0.0,0.0,0.0,0.0,0.02,0.49,0.05,0.35,0.49,0.0,0.0,0.07,0.0,0.0,0.01,0.0,0.0,0.01,0.0,0.0,0.05,0.29,0.0,0.0,0.0,0.17,0.0,0.45,0.0,0.01,0.0,0.48,0.0,0.01,0.0,0.0,0.0,0.0,0.0,0.0,0.0,0.0,0.0,0.13,0.0,0.03,0.0,0.0,0.0,0.11,0.0,0.0,0.0,0.0,0.0,0.06,0.0,0.0,0.0,0.0,0.01,0.0,0.07,0.0,0.0,0.0,0.31,0.0,0.27,0.01,0.0,0.01,0.0,0.0,0.0,0.04,0.0,0.0,0.0,0.19,0.0,0.04,0.0,0.18,0.0,0.01,0.01,0.0,0.03,0.0,0.0,0.0,0.0,0.47,0.0,0.03,0.09,0.0,0.0,0.0,0.04,0.0,0.0,0.47,0.38,0.0,0.0,0.46,0.39,0.0,0.0,0.05,0.01,0.0,0.02,0.47,0.0,0.0,0.0,0.08,0.0,0.0,0.44,0.0,0.0,0.0,0.1,0.0,0.01,0.0,0.0,0.0,0.0,0.0,0.0,0.0,0.0,0.0,0.47,0.47,0.0,0.0,0.0,0.0,0.0,0.0,0.46,0.0,0.0,0.0,0.0,0.22,0.0,0.0,0.0,0.07,0.0,0.0,0.0,0.0,0.0,0.0,0.12,0.0,0.0,0.0,0.0,0.0,0.0,0.01,0.0,0.06,0.0,0.46,0.2,0.46,0.0,0.0,0.0,0.0,0.21,0.02,0.0,0.0,0.0,0.0,0.0,0.0,0.0,0.0,0.0,0.0,0.0,0.0,0.24,0.0,0.0,0.0,0.03,0.0,0.0,0.0,0.0,0.0,0.0,0.0,0.0,0.12,0.0,0.0,0.0,0.0,0.0,0.46,0.0,0.0,0.0,0.0,0.0,0.0,0.23,0.0,0.0,0.01,0.0,0.0,0.46,0.17,0.0,0.45,0.07,0.0,0.34,0.0,0.0,0.0,0.0,0.01,0.03,0.0,0.15,0.45,0.0,0.38,0.0,0.09,0.0,0.0,0.0,0.45,0.01,0.45,0.02,0.0,0.0,0.45,0.0,0.16,0.0,0.0,0.02,0.0,0.07,0.0,0.0,0.0,0.0,0.0,0.0,0.0,0.0,0.0,0.0,0.42,0.0,0.0,0.0,0.0,0.0,0.0,0.0,0.01,0.0,0.0,0.0,0.15,0.0,0.0,0.05,0.0,0.0,0.45,0.32,0.45,0.1,0.0,0.45,0.0,0.0,0.07,0.0,0.0,0.0,0.0,0.0,0.0,0.42,0.0,0.01,0.0,0.0,0.0,0.42,0.0,0.0,0.06,0.42,0.0,0.0,0.36,0.0,0.0,0.0,0.0,0.0,0.0,0.0,0.0,0.31,0.0,0.0,0.0,0.19,0.13,0.0,0.0,0.0,0.0,0.0,0.0,0.0,0.0,0.0,0.0,0.0,0.0,0.02,0.0,0.0,0.0,0.0,0.0,0.0,0.0,0.0,0.0,0.0,0.0,0.03,0.02,0.0,0.0,0.01,0.0,0.41,0.0,0.0,0.0,0.0,0.0,0.43,0.0,0.0,0.3,0.11,0.0,0.0,0.0,0.0,0.01,0.44,0.0,0.0,0.44,0.15,0.0,0.06,0.0,0.0,0.0,0.44,0.0,0.0,0.0,0.12,0.0,0.44,0.0,0.43,0.0,0.0,0.0,0.0,0.44,0.0,0.0,0.0,0.0,0.0,0.01,0.0,0.0,0.0,0.0,0.44,0.0,0.44,0.44,0.0,0.0,0.0,0.08,0.26,0.0,0.0,0.07,0.0,0.06,0.0,0.0,0.0,0.0,0.0,0.0,0.0,0.0,0.0,0.0,0.01,0.0,0.43,0.0,0.0,0.0,0.0,0.0,0.14,0.0,0.0,0.0,0.0,0.0,0.1,0.0,0.17,0.43,0.01,0.21,0.0,0.0,0.0,0.0,0.0,0.0,0.07,0.0,0.0,0.04,0.0,0.0,0.0,0.0,0.24,0.03,0.25,0.09,0.0,0.23,0.0,0.29,0.0,0.0,0.0,0.0,0.0,0.0,0.0,0.0,0.0,0.0,0.0,0.0,0.0,0.0,0.0,0.0,0.0,0.0,0.0,0.42,0.42,0.0,0.0,0.0,0.16,0.0,0.22,0.0,0.0,0.0,0.0,0.0,0.0,0.0,0.0,0.42,0.0,0.04,0.0,0.0,0.41,0.0,0.01,0.1,0.0,0.0,0.0,0.16,0.0,0.0,0.0,0.0,0.42,0.0,0.0,0.0,0.0,0.0,0.04,0.0,0.03,0.0,0.0,0.0,0.0,0.0,0.39,0.0,0.42,0.0,0.42,0.12,0.0,0.0,0.0,0.0,0.39,0.0,0.0,0.0,0.02,0.0,0.0,0.0,0.0,0.0,0.42,0.0,0.42,0.0,0.0,0.0,0.0,0.0,0.16,0.0,0.0,0.0,0.05,0.03,0.13,0.35,0.0,0.0,0.03,0.0,0.0,0.0,0.09,0.11,0.0,0.25,0.0,0.0,0.0,0.0,0.1,0.12,0.0,0.04,0.0,0.42,0.06,0.0,0.0,0.0,0.11,0.0,0.41,0.0,0.0,0.0,0.0,0.15,0.0,0.0,0.05,0.41,0.0,0.0,0.0,0.0,0.0,0.0,0.0,0.41,0.0,0.0,0.39,0.02,0.41,0.0,0.0,0.0,0.0,0.0,0.0,0.41,0.04,0.09,0.0,0.0,0.41,0.0,0.0,0.0,0.0,0.0,0.0,0.41,0.0,0.0,0.41,0.0,0.0,0.0,0.0,0.0,0.41,0.25,0.0,0.0,0.0,0.0,0.0,0.16,0.0,0.0,0.0,0.38,0.0,0.0,0.0,0.0,0.0,0.08,0.04,0.01,0.19,0.0,0.0,0.0,0.0,0.41,0.0,0.12,0.0,0.4,0.0,0.0,0.0,0.0,0.0,0.0,0.41,0.0,0.41,0.0,0.41,0.0,0.0,0.0,0.0,0.0,0.0,0.06,0.0,0.0,0.0,0.0,0.0,0.0,0.0,0.26,0.0,0.0,0.0,0.16,0.01,0.0,0.01,0.0,0.0,0.4,0.0,0.4,0.0,0.0,0.0,0.0,0.4,0.02,0.0,0.0,0.0,0.04,0.09,0.4,0.0,0.0,0.0,0.38,0.07,0.0,0.0,0.0,0.4,0.0,0.0,0.08,0.0,0.0,0.4,0.0,0.0,0.0,0.4,0.0,0.0,0.0,0.0,0.0,0.0,0.0,0.0,0.0,0.0,0.0,0.0,0.0,0.0,0.0,0.0,0.0,0.0,0.0,0.0,0.0,0.39,0.0,0.0,0.0,0.0,0.04,0.0,0.0,0.4,0.01,0.0,0.0,0.0,0.0,0.37,0.24,0.0,0.0,0.0,0.0,0.0,0.4,0.0,0.0,0.0,0.0,0.01,0.4,0.0,0.0,0.0,0.0,0.0,0.0,0.01,0.0,0.01,0.0,0.0,0.0,0.03,0.0,0.0,0.0,0.39,0.0,0.0,0.0,0.39,0.0,0.0,0.01,0.0,0.0,0.04,0.39,0.0,0.0,0.0,0.0,0.03,0.0,0.0,0.16,0.0,0.0,0.0,0.0,0.03,0.37,0.15,0.01,0.0,0.0,0.0,0.0,0.0,0.05,0.39,0.0,0.0,0.0,0.0,0.0,0.34,0.0,0.0,0.0,0.09,0.0,0.0,0.0,0.06,0.0,0.0,0.0,0.0,0.39,0.0,0.0,0.0,0.0,0.0,0.0,0.0,0.39,0.0,0.39,0.0,0.0,0.0,0.0,0.0,0.39,0.0,0.0,0.0,0.0,0.0,0.0,0.0,0.36,0.2,0.01,0.0,0.0,0.0,0.0,0.03,0.0,0.28,0.2,0.0,0.0,0.38,0.25,0.38,0.0,0.12,0.36,0.0,0.0,0.0,0.0,0.06,0.38,0.0,0.0,0.0,0.37,0.0,0.0,0.19,0.0,0.0,0.0,0.31,0.38,0.0,0.0,0.0,0.0,0.38,0.0,0.0,0.0,0.0,0.17,0.0,0.0,0.0,0.36,0.0,0.0,0.38,0.0,0.0,0.02,0.0,0.1,0.0,0.0,0.0,0.36,0.25,0.0,0.38,0.0,0.0,0.0,0.0,0.0,0.01,0.0,0.0,0.38,0.0,0.0,0.0,0.0,0.0,0.38,0.0,0.07,0.38,0.2,0.0,0.0,0.0,0.01,0.0,0.0,0.0,0.0,0.0,0.0,0.0,0.0,0.0,0.25,0.0,0.0,0.38,0.0,0.0,0.0,0.11,0.06,0.21,0.0,0.0,0.0,0.0,0.0,0.0,0.0,0.0,0.19,0.0,0.0,0.0,0.13,0.0,0.0,0.35,0.0,0.0,0.0,0.0,0.03,0.04,0.0,0.0,0.0,0.21,0.0,0.0,0.0,0.37,0.0,0.0,0.0,0.0,0.0,0.01,0.0,0.0,0.0,0.37,0.37,0.0,0.0,0.0,0.35,0.01,0.0,0.0,0.32,0.0,0.0,0.0,0.0,0.02,0.0,0.0,0.0,0.0,0.37,0.0,0.01,0.0,0.36,0.02,0.0,0.0,0.37,0.02,0.0,0.15,0.02,0.37,0.18,0.0,0.0,0.0,0.37,0.0,0.37,0.0,0.0,0.0,0.0,0.0,0.0,0.0,0.0,0.0,0.0,0.0,0.36,0.21,0.36,0.01,0.0,0.0,0.05,0.36,0.36,0.36,0.0,0.0,0.0,0.36,0.16,0.0,0.0,0.0,0.01,0.14,0.0,0.0,0.04,0.0,0.27,0.0,0.08,0.0,0.34,0.0,0.0,0.0,0.0,0.0,0.36,0.0,0.0,0.0,0.0,0.23,0.0,0.0,0.16,0.0,0.0,0.0,0.0,0.0,0.0,0.0,0.35,0.36,0.01,0.0,0.0,0.0,0.0,0.0,0.0,0.36,0.0,0.0,0.0,0.36,0.0,0.0,0.36,0.0,0.0,0.0,0.33,0.36,0.0,0.35,0.0,0.0,0.0,0.0,0.0,0.33,0.0,0.0,0.0,0.0,0.36,0.0,0.36,0.0,0.11,0.0,0.0,0.0,0.0,0.36,0.0,0.23,0.0,0.0,0.0,0.0,0.03,0.0,0.0,0.0,0.0,0.19,0.35,0.0,0.08,0.0,0.0,0.35,0.0,0.35,0.0,0.01,0.0,0.0,0.0,0.0,0.35,0.23,0.07,0.3,0.0,0.35,0.05,0.0,0.28,0.0,0.35,0.04,0.0,0.0,0.0,0.0,0.09,0.29,0.03,0.0,0.0,0.0,0.0,0.0,0.0,0.0,0.0,0.0,0.0,0.0,0.01,0.0,0.0,0.16,0.0,0.14,0.0,0.0,0.32,0.0,0.0,0.0,0.0,0.0,0.0,0.0,0.35,0.0,0.15,0.0,0.0,0.35,0.0,0.0,0.0,0.0,0.0,0.15,0.0,0.0,0.01,0.0,0.32,0.0,0.0,0.34,0.0,0.0,0.0,0.12,0.34,0.0,0.09,0.0,0.2,0.0,0.0,0.0,0.02,0.0,0.0,0.19,0.0,0.0,0.0,0.34,0.0,0.0,0.0,0.09,0.0,0.0,0.0,0.0,0.0,0.0,0.0,0.0,0.0,0.0,0.15,0.0,0.0,0.0,0.0,0.03,0.34,0.0,0.0,0.0,0.0,0.0,0.0,0.0,0.0,0.0,0.0,0.0,0.34,0.23,0.0,0.0,0.0,0.03,0.16,0.0,0.0,0.0,0.0,0.0,0.0,0.0,0.0,0.0,0.0,0.0,0.0,0.0,0.0,0.34,0.02,0.0,0.0,0.25,0.0,0.0,0.0,0.0,0.0,0.0,0.0,0.0,0.33,0.07,0.02,0.0,0.0,0.0,0.21,0.08,0.14,0.01,0.0,0.0,0.22,0.0,0.18,0.02,0.0,0.0,0.0,0.33,0.0,0.0,0.0,0.0,0.0,0.0,0.0,0.0,0.16,0.0,0.0,0.0,0.0,0.0,0.08,0.0,0.06,0.0,0.0,0.0,0.1,0.0,0.31,0.08,0.0,0.0,0.0,0.0,0.0,0.0,0.0,0.31,0.0,0.0,0.33,0.33,0.0,0.03,0.0,0.0,0.0,0.0,0.09,0.06,0.0,0.0,0.0,0.23,0.0,0.29,0.0,0.33,0.01,0.0,0.15,0.0,0.0,0.12,0.33,0.0,0.0,0.0,0.08,0.0,0.0,0.0,0.0,0.0,0.0,0.0,0.0,0.0,0.0,0.0,0.31,0.0,0.33,0.0,0.0,0.0,0.0,0.32,0.33,0.0,0.0,0.0,0.0,0.33,0.0,0.08,0.31,0.0,0.04,0.01,0.05,0.16,0.33,0.0,0.0,0.1,0.0,0.19,0.0,0.0,0.0,0.0,0.0,0.0,0.16,0.08,0.3,0.0,0.0,0.01,0.0,0.0,0.0,0.0,0.2,0.0,0.0,0.0,0.32,0.0,0.0,0.0,0.16,0.02,0.0,0.0,0.0,0.0,0.03,0.12,0.0,0.32,0.0,0.1,0.0,0.15,0.0,0.0,0.0,0.3,0.0,0.0,0.0,0.0,0.0,0.0,0.0,0.0,0.21,0.0,0.02,0.0,0.12,0.0,0.32,0.15,0.0,0.0,0.0,0.0,0.0,0.0,0.0,0.0,0.0,0.0,0.0,0.13,0.0,0.32,0.0,0.0,0.0,0.0,0.0,0.0,0.0,0.0,0.0,0.0,0.0,0.32,0.32,0.3,0.0,0.0,0.0,0.32,0.0,0.0,0.0,0.0,0.0,0.0,0.0,0.0,0.32,0.02,0.0,0.0,0.0,0.32,0.32,0.32,0.0,0.0,0.3,0.3,0.32,0.0,0.0,0.0,0.0,0.0,0.0,0.0,0.0,0.32,0.0,0.16,0.0,0.03,0.02,0.0,0.0,0.0,0.32,0.0,0.08,0.32,0.0,0.0,0.0,0.32,0.0,0.0,0.0,0.0,0.0,0.0,0.31,0.0,0.0,0.0,0.0,0.0,0.31,0.01,0.0,0.0,0.31,0.06,0.31,0.31,0.0,0.0,0.01,0.0,0.0,0.0,0.0,0.1,0.31,0.0,0.0,0.03,0.0,0.0,0.0,0.0,0.0,0.0,0.13,0.0,0.0,0.0,0.0,0.0,0.16,0.31,0.0,0.31,0.0,0.0,0.0,0.29,0.0,0.0,0.17,0.26,0.13,0.0,0.0,0.0,0.26,0.0,0.0,0.0,0.0,0.31,0.0,0.0,0.31,0.0,0.0,0.0,0.09,0.0,0.02,0.0,0.0,0.0,0.0,0.0,0.31,0.0,0.0,0.0,0.0,0.0,0.29,0.0,0.0,0.0,0.31,0.0,0.0,0.0,0.0,0.0,0.04,0.0,0.0,0.0,0.0,0.31,0.0,0.0,0.0,0.14,0.1,0.0,0.0,0.0,0.0,0.0,0.01,0.0,0.0,0.3,0.0,0.0,0.31,0.31,0.0,0.0,0.0,0.07,0.0,0.0,0.0,0.0,0.06,0.0,0.3,0.3,0.0,0.3,0.0,0.0,0.0,0.3,0.0,0.01,0.0,0.0,0.08,0.0,0.21,0.0,0.0,0.0,0.0,0.0,0.0,0.0,0.3,0.0,0.0,0.0,0.3,0.3,0.3,0.0,0.0,0.0,0.0,0.0,0.3,0.0,0.0,0.0,0.3,0.19,0.3,0.0,0.07,0.07,0.0,0.0,0.06,0.0,0.06,0.17,0.2,0.19,0.3,0.3,0.05,0.0,0.08,0.0,0.0,0.3,0.0,0.0,0.0,0.0,0.28,0.3,0.0,0.0,0.3,0.05,0.11,0.0,0.0,0.0,0.0,0.1,0.3,0.0,0.0,0.14,0.3,0.15,0.0,0.0,0.0,0.0,0.0,0.0,0.0,0.0,0.0,0.0,0.3,0.3,0.14,0.0,0.0,0.0,0.3,0.0,0.0,0.3,0.0,0.29,0.1,0.0,0.3,0.01,0.0,0.0,0.0,0.0,0.0,0.02,0.3,0.0,0.3,0.0,0.0,0.12,0.0,0.0,0.0,0.0,0.0,0.0,0.0,0.0,0.0,0.0,0.0,0.0,0.11,0.0,0.0,0.04,0.0,0.0,0.0,0.0,0.0,0.29,0.0,0.12,0.29,0.0,0.04,0.0,0.02,0.07,0.0,0.25,0.0,0.29,0.0,0.17,0.0,0.01,0.0,0.0,0.05,0.0,0.22,0.27,0.0,0.0,0.0,0.29,0.14,0.0,0.27,0.03,0.0,0.0,0.29,0.0,0.01,0.28,0.03,0.0,0.0,0.0,0.0,0.0,0.15,0.28,0.0,0.0,0.0,0.0,0.0,0.1,0.0,0.0,0.29,0.0,0.0,0.0,0.0,0.02,0.0,0.0,0.0,0.14,0.0,0.0,0.0,0.0,0.0,0.0,0.05,0.0,0.0,0.0,0.0,0.0,0.29,0.0,0.27,0.0,0.01,0.19,0.0,0.0,0.0,0.29,0.0,0.0,0.0,0.0,0.29,0.15,0.16,0.0,0.01,0.1,0.0,0.0,0.0,0.0,0.0,0.0,0.29,0.0,0.0,0.14,0.0,0.29,0.21,0.0,0.29,0.0,0.0,0.0,0.0,0.0,0.29,0.27,0.0,0.0,0.29,0.29,0.08,0.0,0.0,0.22,0.0,0.0,0.0,0.0,0.29,0.0,0.0,0.17,0.0,0.0,0.0,0.0,0.0,0.0,0.0,0.05,0.0,0.28,0.0,0.0,0.0,0.28,0.0,0.28,0.0,0.0,0.0,0.0,0.1,0.0,0.07,0.0,0.0,0.0,0.0,0.0,0.0,0.28,0.0,0.28,0.0,0.09,0.09,0.01,0.0,0.28,0.0,0.0,0.0,0.0,0.28,0.0,0.0,0.0,0.0,0.0,0.0,0.02,0.0,0.0,0.0,0.28,0.12,0.0,0.0,0.0,0.28,0.28,0.28,0.0,0.28,0.28,0.0,0.0,0.0,0.0,0.0,0.0,0.01,0.0,0.0,0.0,0.0,0.0,0.0,0.0,0.03,0.0,0.0,0.0,0.0,0.0,0.03,0.0,0.1,0.0,0.01,0.0,0.23,0.0,0.04,0.0,0.0,0.0,0.28,0.0,0.0,0.0,0.0,0.28,0.0,0.03,0.0,0.0,0.0,0.0,0.12,0.0,0.0,0.0,0.0,0.0,0.17,0.28,0.17,0.0,0.0,0.0,0.28,0.0,0.0,0.0,0.28,0.0,0.0,0.28,0.0,0.27,0.28,0.26,0.0,0.0,0.0,0.0,0.0,0.02,0.0,0.0,0.0,0.0,0.0,0.19,0.0,0.0,0.27,0.0,0.0,0.0,0.0,0.28,0.15,0.28,0.28,0.0,0.18,0.0,0.28,0.2,0.0,0.27,0.0,0.0,0.0,0.0,0.0,0.0,0.26,0.0,0.0,0.26,0.11,0.0,0.0,0.0,0.27,0.0,0.0,0.0,0.0,0.0,0.0,0.15,0.0,0.22,0.0,0.0,0.02,0.0,0.19,0.11,0.1,0.0,0.0,0.0,0.0,0.0,0.27,0.27,0.0,0.0,0.0,0.27,0.0,0.27,0.12,0.0,0.0,0.0,0.0,0.0,0.0,0.0,0.0,0.0,0.0,0.0,0.0,0.27,0.0,0.0,0.06,0.0,0.0,0.0,0.27,0.26,0.0,0.27,0.0,0.0,0.0,0.0,0.0,0.0,0.0,0.0,0.0,0.0,0.27,0.0,0.0,0.0,0.0,0.0,0.27,0.25,0.0,0.0,0.0,0.0,0.0,0.0,0.14,0.0,0.0,0.0,0.16,0.0,0.27,0.0,0.02,0.0,0.0,0.27,0.12,0.26,0.0,0.0,0.0,0.0,0.0,0.0,0.0,0.0,0.27,0.01,0.0,0.0,0.0,0.0,0.0,0.0,0.0,0.0,0.25,0.27,0.0,0.0,0.0,0.0,0.27,0.0,0.0,0.0,0.0,0.0,0.0,0.0,0.0,0.0,0.0,0.0,0.0,0.0,0.0,0.14,0.0,0.0,0.27,0.0,0.0,0.0,0.04,0.0,0.0,0.0,0.0,0.11,0.0,0.27,0.0,0.0,0.16,0.0,0.0,0.0,0.0,0.0,0.0,0.14,0.0,0.09,0.0,0.25,0.01,0.03,0.0,0.0,0.0,0.0,0.0,0.0,0.0,0.26,0.26,0.0,0.26,0.0,0.0,0.04,0.25,0.0,0.11,0.0,0.26,0.14,0.0,0.0,0.0,0.0,0.0,0.0,0.26,0.26,0.0,0.17,0.0,0.26,0.0,0.0,0.0,0.26,0.0,0.0,0.26,0.0,0.0,0.05,0.0,0.26,0.0,0.26,0.0,0.25,0.0,0.26,0.0,0.01,0.0,0.05,0.0,0.0,0.0,0.0,0.26,0.0,0.0,0.0,0.0,0.0,0.26,0.0,0.0,0.07,0.25,0.25,0.0,0.0,0.0,0.0,0.14,0.18,0.26,0.01,0.26,0.26,0.0,0.0,0.0,0.0,0.0,0.14,0.0,0.0,0.1,0.26,0.0,0.0,0.0,0.0,0.0,0.0,0.0,0.26,0.0,0.0,0.0,0.0,0.0,0.0,0.0,0.0,0.0,0.25,0.0,0.11,0.26,0.0,0.11,0.0,0.0,0.0,0.26,0.0,0.26,0.0,0.0,0.0,0.0,0.0,0.0,0.26,0.0,0.0,0.0,0.06,0.0,0.0,0.24,0.26,0.02,0.0,0.0,0.0,0.13,0.26,0.0,0.0,0.26,0.26,0.0,0.1,0.0,0.0,0.0,0.0,0.0,0.0,0.0,0.0,0.0,0.0,0.25,0.04,0.02,0.0,0.0,0.26,0.0,0.0,0.0,0.0,0.24,0.0,0.25,0.0,0.0,0.0,0.0,0.0,0.0,0.0,0.0,0.06,0.0,0.0,0.25,0.0,0.06,0.03,0.0,0.0,0.0,0.1,0.25,0.25,0.0,0.0,0.0,0.0,0.0,0.0,0.0,0.25,0.24,0.0,0.0,0.0,0.0,0.0,0.0,0.0,0.0,0.0,0.0,0.02,0.0,0.0,0.0,0.0,0.0,0.25,0.0,0.0,0.0,0.1,0.0,0.0,0.0,0.0,0.0,0.25,0.0,0.0,0.0,0.23,0.0,0.0,0.0,0.0,0.0,0.0,0.0,0.25,0.0,0.0,0.05,0.0,0.0,0.0,0.0,0.0,0.0,0.0,0.0,0.0,0.0,0.0,0.0,0.0,0.23,0.0,0.0,0.0,0.0,0.24,0.25,0.0,0.25,0.0,0.0,0.0,0.1,0.12,0.18,0.0,0.0,0.0,0.0,0.24,0.0,0.0,0.0,0.25,0.03,0.0,0.25,0.0,0.0,0.0,0.0,0.0,0.0,0.0,0.03,0.0,0.0,0.0,0.0,0.03,0.0,0.0,0.0,0.0,0.0,0.0,0.0,0.0,0.25,0.0,0.0,0.0,0.0,0.15,0.0,0.0,0.0,0.23,0.0,0.0,0.0,0.0,0.0,0.0,0.0,0.0,0.0,0.0,0.1,0.12,0.0,0.0,0.0,0.24,0.0,0.0,0.0,0.23,0.0,0.0,0.0,0.0,0.12,0.0,0.0,0.24,0.0,0.0,0.16,0.0,0.0,0.0,0.0,0.0,0.0,0.06,0.0,0.16,0.0,0.0,0.23,0.0,0.08,0.0,0.0,0.23,0.0,0.0,0.0,0.02,0.24,0.0,0.0,0.12,0.0,0.05,0.0,0.16,0.0,0.0,0.0,0.0,0.18,0.0,0.0,0.0,0.0,0.0,0.0,0.0,0.18,0.0,0.0,0.0,0.01,0.0,0.01,0.0,0.0,0.0,0.0,0.05,0.0,0.24,0.24,0.0,0.0,0.0,0.24,0.0,0.06,0.0,0.0,0.0,0.0,0.24,0.0,0.0,0.0,0.0,0.07,0.0,0.01,0.0,0.24,0.0,0.0,0.0,0.0,0.0,0.0,0.0,0.0,0.0,0.0,0.0,0.24,0.0,0.0,0.0,0.0,0.0,0.0,0.0,0.0,0.0,0.0,0.23,0.0,0.24,0.0,0.0,0.06,0.0,0.0,0.0,0.0,0.0,0.24,0.0,0.0,0.06,0.0,0.0,0.03,0.0,0.0,0.0,0.0,0.0,0.01,0.0,0.04,0.0,0.0,0.0,0.0,0.0,0.0,0.01,0.24,0.0,0.11,0.0,0.04,0.0,0.0,0.0,0.0,0.0,0.0,0.0,0.0,0.0,0.13,0.0,0.0,0.24,0.0,0.0,0.0,0.0,0.0,0.0,0.0,0.13,0.0,0.0,0.04,0.01,0.01,0.0,0.0,0.0,0.0,0.0,0.0,0.0,0.0,0.0,0.0,0.23,0.12,0.23,0.0,0.0,0.0,0.0,0.0,0.0,0.23,0.0,0.0,0.0,0.0,0.0,0.0,0.11,0.23,0.06,0.01,0.0,0.05,0.0,0.0,0.23,0.08,0.0,0.0,0.0,0.0,0.0,0.0,0.0,0.0,0.23,0.23,0.0,0.0,0.0,0.0,0.0,0.0,0.23,0.0,0.23,0.0,0.0,0.0,0.0,0.0,0.0,0.0,0.0,0.0,0.23,0.0,0.0,0.0,0.0,0.0,0.0,0.23,0.23,0.0,0.0,0.0,0.0,0.0,0.0,0.0,0.0,0.0,0.0,0.0,0.0,0.0,0.0,0.09,0.18,0.02,0.0,0.0,0.0,0.0,0.0,0.23,0.0,0.0,0.0,0.0,0.0,0.0,0.0,0.0,0.0,0.0,0.0,0.0,0.0,0.0,0.23,0.0,0.0,0.23,0.0,0.23,0.23,0.23,0.0,0.0,0.13,0.0,0.0,0.0,0.23,0.0,0.0,0.0,0.23,0.23,0.07,0.0,0.0,0.0,0.23,0.0,0.23,0.0,0.03,0.0,0.1,0.0,0.23,0.0,0.23,0.0,0.21,0.0,0.0,0.0,0.0,0.0,0.12,0.0,0.12,0.0,0.12,0.0,0.04,0.0,0.0,0.0,0.0,0.0,0.0,0.0,0.0,0.0,0.0,0.0,0.23,0.0,0.0,0.21,0.09,0.23,0.0,0.0,0.0,0.0,0.23,0.0,0.0,0.0,0.0,0.0,0.0,0.22,0.0,0.0,0.0,0.22,0.0,0.05,0.0,0.0,0.22,0.0,0.0,0.0,0.0,0.08,0.0,0.22,0.0,0.22,0.0,0.0,0.0,0.0,0.22,0.0,0.0,0.0,0.22,0.0,0.0,0.0,0.0,0.22,0.06,0.11,0.0,0.0,0.0,0.0,0.0,0.0,0.07,0.0,0.01,0.0,0.1,0.0,0.0,0.22,0.0,0.0,0.0,0.0,0.17,0.0,0.08,0.0,0.22,0.0,0.0,0.0,0.0,0.0,0.0,0.0,0.02,0.0,0.0,0.03,0.0,0.0,0.0,0.12,0.0,0.0,0.0,0.0,0.0,0.0,0.0,0.0,0.0,0.22,0.0,0.0,0.0,0.05,0.22,0.0,0.0,0.22,0.0,0.0,0.0,0.0,0.0,0.0,0.0,0.17,0.0,0.03,0.0,0.0,0.0,0.0,0.0,0.0,0.12,0.22,0.0,0.0,0.0,0.22,0.0,0.07,0.0,0.0,0.22,0.0,0.0,0.0,0.0,0.0,0.0,0.22,0.0,0.0,0.0,0.0,0.0,0.06,0.0,0.0,0.06,0.0,0.0,0.13,0.22,0.0,0.0,0.22,0.0,0.0,0.0,0.22,0.0,0.0,0.22,0.0,0.0,0.06,0.0,0.01,0.0,0.0,0.0,0.22,0.0,0.0,0.0,0.0,0.0,0.0,0.22,0.0,0.13,0.0,0.04,0.0,0.22,0.02,0.03,0.05,0.0,0.0,0.0,0.08,0.0,0.06,0.0,0.0,0.0,0.0,0.0,0.0,0.0,0.0,0.0,0.21,0.0,0.11,0.21,0.21,0.15,0.21,0.0,0.0,0.03,0.08,0.0,0.0,0.0,0.0,0.0,0.0,0.0,0.0,0.0,0.21,0.0,0.0,0.21,0.0,0.0,0.21,0.0,0.0,0.0,0.0,0.0,0.0,0.0,0.0,0.0,0.0,0.0,0.0,0.0,0.0,0.01,0.0,0.0,0.0,0.0,0.07,0.0,0.0,0.0,0.0,0.0,0.0,0.0,0.21,0.0,0.2,0.01,0.21,0.0,0.08,0.0,0.0,0.08,0.0,0.0,0.0,0.0,0.0,0.0,0.21,0.0,0.0,0.0,0.0,0.13,0.0,0.0,0.03,0.21,0.0,0.0,0.0,0.0,0.0,0.0,0.0,0.0,0.0,0.0,0.0,0.0,0.2,0.0,0.21,0.0,0.01,0.0,0.0,0.2,0.2,0.01,0.02,0.0,0.0,0.0,0.0,0.1,0.0,0.0,0.21,0.0,0.07,0.21,0.03,0.0,0.0,0.0,0.0,0.0,0.0,0.0,0.0,0.21,0.0,0.0,0.0,0.0,0.0,0.0,0.21,0.0,0.0,0.0,0.0,0.0,0.0,0.21,0.0,0.0,0.19,0.0,0.21,0.21,0.0,0.08,0.06,0.0,0.0,0.12,0.0,0.0,0.0,0.21,0.06,0.0,0.0,0.21,0.04,0.0,0.0,0.0,0.01,0.21,0.0,0.0,0.0,0.0,0.0,0.11,0.2,0.0,0.0,0.0,0.0,0.0,0.0,0.2,0.0,0.0,0.0,0.0,0.0,0.0,0.2,0.0,0.0,0.0,0.2,0.0,0.0,0.2,0.0,0.0,0.07,0.0,0.0,0.14,0.2,0.02,0.01,0.0,0.0,0.2,0.0,0.0,0.0,0.2,0.2,0.09,0.08,0.0,0.0,0.0,0.2,0.1,0.05,0.0,0.0,0.0,0.0,0.0,0.0,0.0,0.2,0.2,0.0,0.03,0.0,0.08,0.0,0.0,0.2,0.0,0.0,0.02,0.0,0.0,0.0,0.0,0.2,0.16,0.0,0.0,0.0,0.0,0.0,0.0,0.2,0.0,0.2,0.0,0.0,0.2,0.0,0.2,0.0,0.0,0.18,0.0,0.0,0.09,0.07,0.0,0.0,0.0,0.0,0.02,0.0,0.0,0.0,0.0,0.0,0.01,0.0,0.0,0.2,0.04,0.0,0.0,0.0,0.0,0.0,0.0,0.0,0.0,0.0,0.17,0.0,0.05,0.0,0.0,0.0,0.0,0.0,0.2,0.0,0.0,0.0,0.2,0.0,0.03,0.0,0.0,0.0,0.2,0.0,0.0,0.1,0.19,0.0,0.0,0.0,0.0,0.0,0.0,0.2,0.02,0.0,0.2,0.0,0.2,0.0,0.01,0.0,0.0,0.2,0.16,0.0,0.0,0.0,0.0,0.0,0.2,0.0,0.0,0.0,0.05,0.07,0.0,0.0,0.0,0.0,0.2,0.2,0.0,0.01,0.0,0.0,0.2,0.0,0.0,0.0,0.0,0.0,0.0,0.0,0.09,0.0,0.0,0.2,0.0,0.03,0.0,0.0,0.0,0.0,0.0,0.0,0.2,0.11,0.2,0.18,0.0,0.0,0.0,0.0,0.0,0.0,0.0,0.0,0.0,0.0,0.0,0.2,0.2,0.0,0.0,0.0,0.0,0.2,0.0,0.0,0.05,0.0,0.03,0.0,0.0,0.0,0.0,0.08,0.0,0.0,0.05,0.0,0.0,0.02,0.0,0.0,0.0,0.0,0.0,0.0,0.0,0.04,0.0,0.0,0.18,0.01,0.0,0.0,0.0,0.0,0.0,0.06,0.0,0.19,0.08,0.0,0.19,0.0,0.0,0.19,0.0,0.0,0.19,0.0,0.0,0.19,0.18,0.0,0.19,0.04,0.02,0.0,0.0,0.0,0.0,0.0,0.0,0.05,0.0,0.0,0.0,0.19,0.0,0.19,0.0,0.0,0.19,0.0,0.0,0.19,0.01,0.0,0.0,0.19,0.0,0.04,0.0,0.0,0.02,0.01,0.0,0.0,0.0,0.0,0.0,0.0,0.0,0.0,0.0,0.0,0.0,0.19,0.0,0.0,0.0,0.19,0.0,0.0,0.0,0.0,0.0,0.0,0.19,0.19,0.0,0.0,0.0,0.18,0.19,0.02,0.0,0.0,0.1,0.0,0.0,0.16,0.19,0.0,0.0,0.0,0.0,0.0,0.0,0.0,0.19,0.0,0.0,0.19,0.0,0.0,0.0,0.0,0.0,0.0,0.0,0.0,0.19,0.06,0.0,0.0,0.0,0.16,0.19,0.0,0.0,0.19,0.0,0.19,0.0,0.0,0.0,0.0,0.0,0.0,0.0,0.19,0.0,0.01,0.0,0.19,0.07,0.0,0.0,0.0,0.0,0.12,0.06,0.19,0.0,0.0,0.0,0.0,0.0,0.0,0.0,0.0,0.19,0.0,0.19,0.0,0.0,0.0,0.0,0.0,0.0,0.0,0.18,0.0,0.0,0.19,0.18,0.0,0.0,0.19,0.19,0.02,0.19,0.0,0.0,0.0,0.0,0.0,0.0,0.19,0.0,0.0,0.19,0.0,0.19,0.0,0.19,0.19,0.0,0.0,0.0,0.19,0.0,0.0,0.0,0.19,0.11,0.0,0.0,0.03,0.19,0.0,0.0,0.0,0.0,0.19,0.19,0.19,0.0,0.19,0.0,0.0,0.06,0.0,0.0,0.0,0.19,0.0,0.0,0.0,0.03,0.0,0.0,0.19,0.19,0.0,0.0,0.19,0.0,0.0,0.19,0.0,0.01,0.0,0.0,0.0,0.19,0.0,0.11,0.0,0.0,0.0,0.0,0.0,0.0,0.0,0.0,0.0,0.19,0.0,0.0,0.0,0.0,0.0,0.0,0.0,0.0,0.0,0.0,0.0,0.0,0.0,0.0,0.0,0.0,0.0,0.0,0.07,0.0,0.0,0.0,0.01,0.0,0.18,0.11,0.0,0.0,0.0,0.05,0.03,0.18,0.0,0.18,0.11,0.0,0.0,0.0,0.0,0.0,0.0,0.0,0.18,0.0,0.0,0.0,0.0,0.0,0.0,0.02,0.0,0.0,0.0,0.0,0.18,0.18,0.17,0.0,0.0,0.0,0.0,0.0,0.05,0.18,0.01,0.0,0.18,0.0,0.01,0.0,0.0,0.0,0.13,0.0,0.0,0.0,0.03,0.0,0.0,0.05,0.0,0.18,0.0,0.18,0.0,0.0,0.07,0.18,0.0,0.07,0.18,0.0,0.07,0.0,0.0,0.0,0.0,0.0,0.17,0.0,0.0,0.0,0.0,0.0,0.0,0.18,0.07,0.0,0.18,0.0,0.0,0.0,0.0,0.0,0.0,0.0,0.18,0.0,0.0,0.0,0.0,0.0,0.0,0.18,0.0,0.0,0.0,0.0,0.0,0.18,0.0,0.0,0.0,0.0,0.0,0.0,0.0,0.0,0.02,0.0,0.0,0.0,0.0,0.0,0.0,0.1,0.0,0.0,0.02,0.0,0.0,0.18,0.0,0.0,0.0,0.0,0.0,0.0,0.01,0.0,0.18,0.0,0.0,0.08,0.0,0.08,0.0,0.0,0.0,0.1,0.0,0.18,0.04,0.18,0.0,0.0,0.0,0.18,0.18,0.18,0.0,0.0,0.0,0.0,0.0,0.0,0.0,0.0,0.0,0.0,0.0,0.0,0.0,0.0,0.0,0.0,0.0,0.0,0.0,0.0,0.18,0.18,0.0,0.0,0.0,0.0,0.0,0.0,0.0,0.0,0.01,0.07,0.0,0.0,0.0,0.0,0.0,0.0,0.0,0.08,0.17,0.0,0.0,0.0,0.0,0.0,0.17,0.0,0.0,0.06,0.0,0.0,0.0,0.0,0.0,0.0,0.0,0.0,0.0,0.0,0.0,0.06,0.0,0.17,0.0,0.0,0.0,0.17,0.0,0.01,0.17,0.0,0.0,0.16,0.0,0.0,0.0,0.0,0.0,0.17,0.0,0.0,0.0,0.0,0.17,0.0,0.0,0.0,0.0,0.0,0.0,0.0,0.17,0.0,0.0,0.0,0.0,0.0,0.0,0.0,0.0,0.17,0.17,0.17,0.0,0.04,0.16,0.16,0.0,0.0,0.0,0.0,0.0,0.0,0.0,0.0,0.0,0.0,0.14,0.0,0.0,0.0,0.16,0.0,0.0,0.04,0.16,0.0,0.17,0.17,0.0,0.17,0.0,0.0,0.17,0.0,0.0,0.0,0.0,0.0,0.0,0.0,0.14,0.17,0.07,0.0,0.0,0.0,0.0,0.0,0.0,0.0,0.0,0.0,0.0,0.0,0.0,0.0,0.0,0.0,0.17,0.0,0.11,0.0,0.0,0.0,0.0,0.06,0.0,0.17,0.0,0.17,0.0,0.0,0.17,0.12,0.0,0.0,0.0,0.0,0.17,0.16,0.0,0.06,0.0,0.0,0.0,0.0,0.0,0.0,0.0,0.0,0.03,0.17,0.0,0.0,0.09,0.0,0.17,0.03,0.0,0.0,0.0,0.0,0.17,0.0,0.16,0.0,0.0,0.0,0.0,0.0,0.0,0.17,0.0,0.0,0.02,0.0,0.12,0.12,0.0,0.0,0.17,0.0,0.0,0.0,0.17,0.17,0.0,0.16,0.0,0.05,0.0,0.0,0.05,0.0,0.02,0.17,0.04,0.0,0.0,0.0,0.0,0.17,0.0,0.0,0.17,0.0,0.17,0.17,0.0,0.0,0.17,0.0,0.0,0.0,0.0,0.0,0.0,0.0,0.03,0.0,0.0,0.0,0.17,0.0,0.17,0.0,0.17,0.17,0.08,0.17,0.15,0.0,0.02,0.0,0.08,0.0,0.0,0.0,0.0,0.0,0.16,0.0,0.06,0.0,0.16,0.0,0.0,0.16,0.0,0.16,0.0,0.0,0.0,0.06,0.0,0.0,0.0,0.0,0.0,0.0,0.0,0.0,0.0,0.0,0.03,0.03,0.0,0.0,0.03,0.02,0.16,0.0,0.0,0.0,0.04,0.0,0.15,0.0,0.0,0.11,0.0,0.0,0.0,0.0,0.0,0.0,0.03,0.0,0.0,0.16,0.0,0.16,0.03,0.0,0.0,0.0,0.15,0.0,0.0,0.16,0.15,0.0,0.0,0.0,0.0,0.0,0.0,0.03,0.16,0.16,0.0,0.0,0.0,0.0,0.0,0.0,0.0,0.0,0.0,0.0,0.16,0.0,0.0,0.0,0.01,0.0,0.16,0.0,0.0,0.0,0.0,0.16,0.0,0.0,0.0,0.0,0.0,0.16,0.16,0.0,0.0,0.0,0.0,0.16,0.0,0.0,0.0,0.0,0.0,0.03,0.0,0.0,0.0,0.0,0.16,0.0,0.16,0.0,0.0,0.15,0.0,0.0,0.0,0.12,0.0,0.0,0.0,0.0,0.0,0.0,0.0,0.12,0.03,0.0,0.08,0.16,0.03,0.0,0.16,0.0,0.0,0.16,0.0,0.0,0.0,0.0,0.0,0.0,0.11,0.02,0.0,0.02,0.0,0.0,0.0,0.0,0.16,0.0,0.0,0.0,0.0,0.0,0.0,0.0,0.0,0.0,0.0,0.0,0.0,0.0,0.0,0.09,0.15,0.16,0.0,0.02,0.0,0.04,0.16,0.0,0.0,0.15,0.0,0.15,0.0,0.0,0.0,0.0,0.0,0.16,0.0,0.0,0.0,0.0,0.0,0.08,0.16,0.15,0.0,0.0,0.0,0.13,0.0,0.01,0.0,0.0,0.15,0.16,0.0,0.0,0.0,0.0,0.04,0.0,0.0,0.12,0.0,0.16,0.0,0.0,0.0,0.0,0.0,0.0,0.03,0.0,0.04,0.0,0.16,0.0,0.0,0.0,0.16,0.0,0.0,0.16,0.0,0.0,0.0,0.16,0.0,0.0,0.0,0.16,0.0,0.06,0.0,0.0,0.0,0.0,0.0,0.0,0.0,0.0,0.0,0.0,0.12,0.0,0.0,0.0,0.0,0.14,0.01,0.0,0.0,0.0,0.0,0.0,0.0,0.0,0.0,0.0,0.0,0.0,0.01,0.0,0.0,0.0,0.15,0.0,0.0,0.0,0.0,0.0,0.0,0.0,0.0,0.0,0.0,0.0,0.0,0.0,0.01,0.0,0.0,0.0,0.0,0.0,0.15,0.0,0.15,0.0,0.0,0.0,0.02,0.0,0.0,0.0,0.0,0.0,0.0,0.0,0.04,0.02,0.0,0.0,0.0,0.05,0.0,0.0,0.0,0.15,0.0,0.15,0.0,0.0,0.0,0.15,0.06,0.0,0.0,0.0,0.0,0.0,0.0,0.05,0.0,0.15,0.0,0.04,0.0,0.0,0.0,0.0,0.0,0.0,0.15,0.15,0.15,0.15,0.0,0.0,0.0,0.0,0.0,0.14,0.0,0.0,0.0,0.0,0.0,0.0,0.0,0.0,0.0,0.0,0.0,0.01,0.15,0.0,0.0,0.04,0.15,0.0,0.05,0.0,0.0,0.0,0.0,0.0,0.0,0.04,0.0,0.03,0.15,0.0,0.0,0.13,0.0,0.15,0.0,0.15,0.09,0.1,0.0,0.0,0.0,0.0,0.15,0.09,0.0,0.0,0.15,0.0,0.0,0.0,0.0,0.0,0.0,0.08,0.0,0.0,0.15,0.0,0.0,0.0,0.0,0.0,0.15,0.0,0.0,0.0,0.0,0.0,0.0,0.0,0.0,0.14,0.0,0.0,0.15,0.0,0.0,0.07,0.0,0.0,0.0,0.0,0.0,0.0,0.15,0.0,0.04,0.0,0.15,0.15,0.15,0.14,0.0,0.15,0.0,0.0,0.15,0.0,0.0,0.0,0.0,0.0,0.15,0.0,0.0,0.01,0.05,0.0,0.0,0.0,0.0,0.0,0.01,0.0,0.0,0.0,0.0,0.15,0.01,0.0,0.14,0.0,0.0,0.15,0.0,0.03,0.15,0.0,0.0,0.15,0.14,0.0,0.0,0.0,0.0,0.0,0.0,0.0,0.14,0.15,0.0,0.0,0.15,0.0,0.0,0.0,0.0,0.0,0.0,0.0,0.0,0.0,0.0,0.15,0.0,0.15,0.0,0.0,0.0,0.0,0.15,0.0,0.0,0.0,0.15,0.0,0.0,0.14,0.05,0.0,0.0,0.01,0.0,0.14,0.0,0.04,0.0,0.0,0.0,0.0,0.13,0.07,0.14,0.0,0.14,0.0,0.0,0.14,0.0,0.02,0.0,0.0,0.0,0.14,0.14,0.0,0.0,0.0,0.0,0.0,0.0,0.0,0.14,0.0,0.0,0.0,0.0,0.0,0.14,0.14,0.0,0.0,0.0,0.0,0.0,0.0,0.0,0.0,0.0,0.0,0.0,0.0,0.0,0.0,0.0,0.01,0.0,0.0,0.14,0.0,0.14,0.0,0.14,0.0,0.0,0.0,0.0,0.13,0.13,0.0,0.0,0.01,0.0,0.0,0.06,0.04,0.0,0.14,0.0,0.0,0.14,0.14,0.0,0.0,0.14,0.0,0.0,0.0,0.0,0.08,0.0,0.0,0.11,0.0,0.0,0.0,0.14,0.03,0.0,0.0,0.06,0.0,0.14,0.14,0.0,0.13,0.13,0.11,0.0,0.0,0.0,0.04,0.0,0.14,0.0,0.0,0.0,0.14,0.0,0.0,0.0,0.0,0.0,0.05,0.0,0.0,0.0,0.0,0.0,0.0,0.0,0.0,0.0,0.14,0.0,0.13,0.0,0.0,0.0,0.14,0.0,0.0,0.0,0.13,0.0,0.14,0.0,0.0,0.0,0.02,0.0,0.0,0.14,0.0,0.0,0.0,0.0,0.0,0.0,0.0,0.13,0.0,0.0,0.0,0.0,0.0,0.0,0.0,0.14,0.0,0.0,0.0,0.1,0.0,0.14,0.0,0.0,0.0,0.0,0.0,0.14,0.0,0.0,0.0,0.14,0.0,0.0,0.0,0.0,0.0,0.0,0.14,0.01,0.0,0.14,0.0,0.0,0.14,0.0,0.0,0.0,0.14,0.03,0.0,0.0,0.0,0.14,0.0,0.0,0.0,0.0,0.0,0.0,0.0,0.0,0.0,0.0,0.0,0.0,0.14,0.0,0.14,0.0,0.0,0.0,0.0,0.0,0.0,0.08,0.0,0.14,0.13,0.06,0.14,0.14,0.13,0.0,0.0,0.1,0.0,0.0,0.0,0.13,0.0,0.0,0.02,0.0,0.02,0.14,0.0,0.06,0.13,0.14,0.14,0.0,0.0,0.09,0.0,0.0,0.0,0.0,0.0,0.0,0.0,0.0,0.0,0.07,0.14,0.0,0.01,0.0,0.02,0.0,0.0,0.0,0.0,0.0,0.0,0.0,0.0,0.0,0.0,0.0,0.0,0.0,0.13,0.14,0.0,0.0,0.0,0.0,0.0,0.0,0.0,0.03,0.14,0.0,0.0,0.0,0.0,0.0,0.0,0.14,0.0,0.0,0.0,0.0,0.0,0.14,0.0,0.0,0.03,0.0,0.07,0.0,0.0,0.0,0.0,0.0,0.0,0.0,0.0,0.0,0.0,0.0,0.0,0.0,0.0,0.0,0.0,0.0,0.0,0.0,0.0,0.0,0.14,0.14,0.0,0.0,0.0,0.0,0.0,0.0,0.0,0.13,0.0,0.13,0.13,0.0,0.0,0.13,0.01,0.0,0.0,0.0,0.0,0.0,0.0,0.13,0.0,0.13,0.0,0.13,0.0,0.0,0.0,0.0,0.13,0.0,0.0,0.01,0.04,0.0,0.13,0.0,0.13,0.0,0.0,0.0,0.0,0.0,0.0,0.0,0.0,0.0,0.0,0.0,0.04,0.0,0.0,0.0,0.01,0.05,0.0,0.13,0.0,0.0,0.0,0.0,0.0,0.0,0.0,0.0,0.0,0.0,0.0,0.0,0.0,0.0,0.0,0.0,0.0,0.0,0.13,0.0,0.0,0.0,0.0,0.0,0.0,0.0,0.13,0.13,0.13,0.13,0.0,0.13,0.13,0.03,0.0,0.0,0.0,0.13,0.0,0.0,0.0,0.0,0.0,0.06,0.0,0.0,0.0,0.0,0.0,0.13,0.0,0.0,0.0,0.13,0.13,0.0,0.0,0.13,0.0,0.0,0.13,0.13,0.0,0.0,0.0,0.0,0.01,0.0,0.0,0.13,0.0,0.05,0.13,0.0,0.0,0.04,0.13,0.02,0.0,0.0,0.0,0.0,0.0,0.0,0.0,0.0,0.0,0.0,0.04,0.0,0.0,0.13,0.13,0.05,0.13,0.0,0.05,0.0,0.0,0.0,0.0,0.0,0.0,0.0,0.0,0.0,0.0,0.04,0.13,0.0,0.0,0.0,0.0,0.0,0.0,0.0,0.0,0.0,0.0,0.0,0.0,0.0,0.0,0.13,0.0,0.13,0.0,0.0,0.0,0.07,0.0,0.0,0.0,0.0,0.0,0.13,0.13,0.0,0.03,0.0,0.0,0.0,0.0,0.0,0.0,0.0,0.13,0.0,0.13,0.0,0.12,0.0,0.13,0.13,0.0,0.0,0.0,0.0,0.0,0.13,0.13,0.0,0.0,0.0,0.0,0.0,0.0,0.0,0.0,0.13,0.0,0.0,0.0,0.0,0.0,0.13,0.0,0.13,0.13,0.0,0.0,0.0,0.0,0.0,0.0,0.0,0.0,0.0,0.13,0.0,0.04,0.0,0.0,0.0,0.0,0.13,0.0,0.0,0.0,0.0,0.0,0.13,0.12,0.0,0.0,0.0,0.0,0.0,0.0,0.0,0.01,0.0,0.0,0.0,0.0,0.0,0.0,0.0,0.0,0.0,0.0,0.13,0.13,0.0,0.0,0.0,0.0,0.0,0.0,0.0,0.0,0.13,0.13,0.0,0.0,0.0,0.0,0.0,0.0,0.02,0.0,0.13,0.0,0.13,0.0,0.0,0.13,0.0,0.0,0.0,0.0,0.06,0.01,0.0,0.13,0.0,0.13,0.0,0.0,0.0,0.0,0.0,0.13,0.0,0.0,0.01,0.0,0.0,0.12,0.0,0.0,0.0,0.0,0.12,0.12,0.0,0.0,0.0,0.0,0.0,0.12,0.0,0.0,0.12,0.0,0.12,0.12,0.0,0.0,0.0,0.0,0.0,0.0,0.0,0.0,0.0,0.12,0.12,0.0,0.0,0.12,0.0,0.12,0.0,0.0,0.0,0.0,0.12,0.0,0.0,0.12,0.0,0.12,0.0,0.0,0.12,0.0,0.0,0.12,0.0,0.0,0.12,0.0,0.07,0.0,0.0,0.12,0.0,0.05,0.0,0.0,0.12,0.12,0.0,0.12,0.03,0.0,0.0,0.0,0.0,0.06,0.06,0.0,0.0,0.0,0.0,0.0,0.0,0.12,0.06,0.12,0.12,0.0,0.0,0.0,0.0,0.03,0.0,0.0,0.0,0.0,0.0,0.0,0.12,0.12,0.0,0.0,0.0,0.0,0.12,0.0,0.0,0.0,0.12,0.0,0.12,0.0,0.0,0.12,0.0,0.0,0.12,0.12,0.0,0.0,0.0,0.0,0.12,0.0,0.05,0.0,0.01,0.12,0.09,0.03,0.0,0.0,0.02,0.0,0.0,0.0,0.0,0.0,0.0,0.12,0.0,0.03,0.0,0.0,0.12,0.11,0.0,0.0,0.12,0.01,0.01,0.0,0.0,0.12,0.11,0.0,0.12,0.0,0.0,0.12,0.0,0.0,0.0,0.0,0.0,0.0,0.0,0.05,0.0,0.0,0.03,0.0,0.0,0.0,0.0,0.0,0.0,0.0,0.0,0.0,0.0,0.0,0.0,0.0,0.12,0.04,0.0,0.12,0.0,0.0,0.12,0.0,0.12,0.12,0.0,0.0,0.0,0.12,0.0,0.0,0.0,0.0,0.0,0.0,0.12,0.0,0.02,0.0,0.0,0.0,0.0,0.0,0.0,0.12,0.0,0.02,0.0,0.0,0.0,0.12,0.0,0.0,0.0,0.0,0.0,0.0,0.0,0.0,0.0,0.0,0.0,0.0,0.0,0.12,0.0,0.0,0.0,0.0,0.0,0.0,0.12,0.0,0.0,0.0,0.03,0.0,0.1,0.12,0.01,0.0,0.0,0.12,0.12,0.01,0.0,0.11,0.0,0.12,0.12,0.0,0.0,0.0,0.0,0.0,0.0,0.0,0.05,0.12,0.11,0.0,0.12,0.01,0.06,0.0,0.0,0.0,0.0,0.12,0.0,0.0,0.0,0.12,0.0,0.0,0.12,0.0,0.0,0.0,0.0,0.0,0.0,0.0,0.06,0.0,0.0,0.12,0.12,0.0,0.12,0.0,0.0,0.0,0.0,0.0,0.02,0.0,0.12,0.0,0.0,0.0,0.12,0.0,0.0,0.0,0.0,0.0,0.0,0.11,0.0,0.0,0.12,0.12,0.0,0.0,0.0,0.12,0.11,0.12,0.12,0.0,0.0,0.0,0.12,0.12,0.0,0.0,0.0,0.0,0.02,0.0,0.0,0.01,0.0,0.0,0.0,0.0,0.11,0.11,0.03,0.0,0.0,0.0,0.11,0.0,0.0,0.0,0.0,0.0,0.0,0.0,0.0,0.02,0.0,0.0,0.11,0.11,0.02,0.0,0.0,0.11,0.0,0.11,0.0,0.11,0.0,0.0,0.0,0.0,0.0,0.0,0.0,0.0,0.0,0.11,0.0,0.0,0.0,0.11,0.02,0.0,0.0,0.0,0.0,0.0,0.0,0.0,0.0,0.0,0.0,0.11,0.11,0.11,0.0,0.0,0.0,0.11,0.0,0.0,0.0,0.0,0.0,0.0,0.0,0.0,0.0,0.0,0.0,0.0,0.0,0.0,0.08,0.0,0.0,0.0,0.05,0.0,0.01,0.0,0.0,0.11,0.0,0.0,0.0,0.11,0.0,0.03,0.11,0.11,0.0,0.0,0.0,0.11,0.0,0.0,0.0,0.0,0.01,0.11,0.0,0.0,0.0,0.11,0.0,0.0,0.0,0.0,0.0,0.0,0.06,0.0,0.06,0.0,0.0,0.0,0.0,0.0,0.11,0.11,0.0,0.0,0.0,0.0,0.0,0.1,0.0,0.0,0.11,0.0,0.0,0.0,0.0,0.0,0.0,0.11,0.0,0.02,0.04,0.0,0.11,0.0,0.11,0.11,0.0,0.0,0.11,0.0,0.0,0.0,0.0,0.0,0.11,0.0,0.0,0.0,0.11,0.0,0.0,0.0,0.0,0.11,0.0,0.0,0.0,0.0,0.0,0.0,0.11,0.0,0.0,0.0,0.0,0.0,0.0,0.0,0.0,0.0,0.0,0.0,0.0,0.0,0.0,0.03,0.0,0.0,0.0,0.0,0.0,0.0,0.11,0.11,0.0,0.0,0.0,0.0,0.02,0.0,0.0,0.0,0.0,0.11,0.0,0.11,0.0,0.11,0.0,0.0,0.0,0.0,0.0,0.0,0.0,0.0,0.11,0.0,0.0,0.0,0.0,0.0,0.0,0.0,0.0,0.0,0.0,0.0,0.0,0.03,0.0,0.11,0.0,0.11,0.11,0.0,0.11,0.11,0.0,0.0,0.0,0.0,0.0,0.0,0.11,0.01,0.0,0.0,0.0,0.11,0.11,0.0,0.0,0.0,0.0,0.0,0.0,0.0,0.0,0.0,0.09,0.11,0.0,0.0,0.0,0.0,0.07,0.11,0.0,0.0,0.11,0.0,0.0,0.0,0.11,0.0,0.11,0.0,0.0,0.0,0.0,0.0,0.0,0.11,0.0,0.0,0.01,0.0,0.0,0.0,0.0,0.0,0.04,0.0,0.0,0.0,0.0,0.0,0.0,0.11,0.0,0.0,0.0,0.0,0.0,0.11,0.0,0.0,0.0,0.0,0.0,0.11,0.0,0.11,0.0,0.0,0.0,0.0,0.11,0.0,0.11,0.0,0.11,0.0,0.06,0.0,0.0,0.0,0.0,0.0,0.0,0.0,0.11,0.11,0.0,0.0,0.0,0.0,0.1,0.0,0.09,0.0,0.0,0.1,0.0,0.0,0.0,0.0,0.01,0.0,0.0,0.0,0.11,0.11,0.1,0.0,0.0,0.0,0.04,0.11,0.0,0.1,0.06,0.0,0.0,0.0,0.0,0.0,0.0,0.0,0.0,0.11,0.0,0.11,0.0,0.0,0.0,0.11,0.0,0.0,0.09,0.0,0.11,0.11,0.0,0.11,0.0,0.11,0.0,0.11,0.0,0.0,0.03,0.0,0.11,0.04,0.11,0.0,0.11,0.0,0.11,0.0,0.0,0.0,0.0,0.05,0.11,0.02,0.0,0.11,0.0,0.11,0.0,0.11,0.01,0.0,0.0,0.1,0.0,0.1,0.0,0.1,0.1,0.0,0.03,0.1,0.0,0.0,0.0,0.0,0.0,0.1,0.1,0.0,0.0,0.1,0.1,0.0,0.0,0.1,0.0,0.0,0.1,0.0,0.0,0.0,0.0,0.0,0.0,0.1,0.0,0.1,0.0,0.0,0.06,0.0,0.0,0.1,0.01,0.0,0.0,0.0,0.0,0.0,0.0,0.0,0.0,0.0,0.0,0.0,0.1,0.0,0.1,0.0,0.1,0.1,0.0,0.0,0.0,0.0,0.0,0.0,0.1,0.07,0.1,0.0,0.0,0.0,0.0,0.0,0.0,0.0,0.0,0.07,0.0,0.0,0.0,0.1,0.0,0.0,0.0,0.0,0.1,0.0,0.0,0.0,0.0,0.0,0.0,0.0,0.0,0.0,0.1,0.1,0.0,0.1,0.0,0.0,0.0,0.09,0.1,0.0,0.1,0.0,0.0,0.1,0.0,0.0,0.1,0.1,0.0,0.0,0.0,0.0,0.0,0.0,0.0,0.0,0.1,0.04,0.0,0.0,0.0,0.1,0.1,0.0,0.1,0.0,0.1,0.0,0.0,0.1,0.0,0.0,0.02,0.02,0.0,0.0,0.1,0.0,0.0,0.0,0.0,0.1,0.0,0.0,0.0,0.02,0.0,0.0,0.0,0.1,0.0,0.0,0.0,0.0,0.05,0.1,0.0,0.0,0.0,0.01,0.0,0.0,0.0,0.0,0.1,0.0,0.1,0.1,0.0,0.0,0.0,0.0,0.03,0.0,0.0,0.0,0.0,0.01,0.0,0.0,0.1,0.0,0.0,0.1,0.1,0.0,0.0,0.0,0.0,0.0,0.02,0.0,0.1,0.0,0.0,0.0,0.1,0.0,0.0,0.04,0.0,0.01,0.0,0.0,0.1,0.0,0.0,0.1,0.0,0.0,0.0,0.05,0.0,0.0,0.0,0.05,0.0,0.0,0.0,0.0,0.0,0.0,0.0,0.0,0.0,0.04,0.0,0.0,0.0,0.0,0.0,0.1,0.0,0.0,0.0,0.0,0.0,0.0,0.06,0.0,0.0,0.0,0.1,0.1,0.0,0.0,0.1,0.0,0.0,0.1,0.09,0.1,0.06,0.0,0.0,0.0,0.1,0.0,0.1,0.0,0.0,0.0,0.1,0.1,0.1,0.0,0.0,0.0,0.0,0.0,0.0,0.0,0.0,0.0,0.0,0.1,0.1,0.0,0.0,0.0,0.0,0.1,0.0,0.1,0.0,0.0,0.1,0.01,0.0,0.1,0.0,0.0,0.0,0.1,0.0,0.0,0.0,0.0,0.1,0.0,0.0,0.1,0.0,0.0,0.0,0.0,0.0,0.0,0.0,0.0,0.0,0.1,0.0,0.0,0.0,0.0,0.03,0.0,0.0,0.0,0.0,0.0,0.09,0.0,0.1,0.09,0.0,0.0,0.0,0.0,0.0,0.0,0.1,0.09,0.0,0.07,0.1,0.0,0.0,0.0,0.0,0.0,0.0,0.0,0.0,0.0,0.0,0.0,0.0,0.1,0.03,0.09,0.0,0.0,0.1,0.03,0.0,0.0,0.0,0.0,0.0,0.1,0.1,0.0,0.1,0.0,0.0,0.0,0.09,0.02,0.0,0.0,0.0,0.09,0.0,0.1,0.1,0.0,0.02,0.0,0.0,0.0,0.0,0.0,0.0,0.1,0.02,0.0,0.0,0.1,0.0,0.0,0.0,0.0,0.0,0.0,0.09,0.0,0.0,0.09,0.09,0.0,0.0,0.09,0.0,0.09,0.09,0.09,0.0,0.0,0.0,0.0,0.0,0.0,0.0,0.0,0.0,0.0,0.0,0.0,0.0,0.0,0.09,0.0,0.0,0.0,0.09,0.0,0.0,0.0,0.03,0.09,0.0,0.09,0.09,0.09,0.0,0.0,0.0,0.0,0.09,0.0,0.0,0.04,0.0,0.0,0.0,0.0,0.0,0.0,0.0,0.0,0.0,0.0,0.0,0.0,0.09,0.0,0.0,0.09,0.0,0.09,0.0,0.0,0.0,0.09,0.0,0.09,0.0,0.0,0.0,0.09,0.0,0.0,0.0,0.09,0.0,0.0,0.0,0.0,0.03,0.0,0.08,0.0,0.08,0.0,0.0,0.0,0.0,0.0,0.0,0.09,0.0,0.0,0.0,0.09,0.0,0.09,0.09,0.09,0.0,0.0,0.0,0.09,0.0,0.0,0.0,0.0,0.0,0.0,0.0,0.0,0.0,0.0,0.0,0.0,0.0,0.0,0.09,0.0,0.0,0.0,0.0,0.0,0.0,0.0,0.0,0.0,0.0,0.0,0.0,0.02,0.09,0.0,0.0,0.09,0.0,0.0,0.0,0.0,0.0,0.0,0.0,0.0,0.0,0.0,0.0,0.0,0.09,0.0,0.0,0.0,0.0,0.0,0.0,0.0,0.0,0.0,0.01,0.0,0.0,0.0,0.0,0.0,0.0,0.0,0.09,0.09,0.0,0.09,0.08,0.0,0.0,0.09,0.0,0.09,0.0,0.0,0.0,0.09,0.0,0.0,0.09,0.09,0.0,0.0,0.0,0.0,0.07,0.0,0.0,0.0,0.0,0.0,0.0,0.0,0.0,0.0,0.0,0.09,0.09,0.0,0.0,0.0,0.01,0.09,0.0,0.0,0.0,0.09,0.04,0.09,0.01,0.0,0.0,0.09,0.08,0.09,0.0,0.0,0.0,0.09,0.0,0.0,0.06,0.05,0.0,0.0,0.0,0.0,0.0,0.09,0.0,0.0,0.0,0.0,0.0,0.09,0.0,0.09,0.01,0.08,0.09,0.09,0.09,0.0,0.0,0.09,0.09,0.0,0.0,0.09,0.0,0.05,0.09,0.0,0.04,0.09,0.0,0.0,0.0,0.08,0.0,0.09,0.09,0.0,0.0,0.05,0.09,0.0,0.01,0.09,0.0,0.09,0.0,0.0,0.0,0.09,0.0,0.09,0.0,0.09,0.0,0.0,0.0,0.0,0.0,0.09,0.0,0.0,0.0,0.09,0.0,0.09,0.0,0.0,0.0,0.0,0.0,0.0,0.04,0.09,0.0,0.0,0.09,0.02,0.09,0.0,0.0,0.0,0.0,0.0,0.0,0.0,0.09,0.0,0.02,0.0,0.0,0.0,0.0,0.0,0.0,0.0,0.0,0.09,0.0,0.0,0.09,0.0,0.0,0.0,0.0,0.0,0.0,0.0,0.0,0.0,0.0,0.08,0.0,0.0,0.04,0.01,0.0,0.08,0.0,0.0,0.0,0.0,0.0,0.09,0.0,0.08,0.0,0.0,0.0,0.0,0.0,0.0,0.0,0.09,0.0,0.0,0.0,0.0,0.09,0.09,0.09,0.0,0.0,0.0,0.0,0.0,0.0,0.0,0.0,0.0,0.02,0.09,0.0,0.0,0.0,0.0,0.0,0.0,0.0,0.09,0.08,0.0,0.0,0.0,0.09,0.0,0.03,0.0,0.0,0.0,0.0,0.0,0.0,0.0,0.0,0.03,0.0,0.0,0.0,0.0,0.0,0.09,0.0,0.0,0.0,0.09,0.0,0.0,0.09,0.0,0.0,0.09,0.0,0.09,0.0,0.0,0.0,0.0,0.09,0.0,0.04,0.08,0.0,0.08,0.0,0.0,0.0,0.0,0.08,0.0,0.08,0.0,0.08,0.03,0.0,0.08,0.0,0.01,0.08,0.0,0.08,0.0,0.0,0.0,0.0,0.0,0.08,0.0,0.0,0.0,0.08,0.08,0.0,0.0,0.08,0.0,0.0,0.0,0.0,0.0,0.08,0.06,0.0,0.0,0.0,0.0,0.04,0.0,0.0,0.0,0.0,0.0,0.0,0.0,0.01,0.0,0.0,0.0,0.0,0.0,0.02,0.0,0.08,0.0,0.0,0.0,0.0,0.0,0.0,0.0,0.0,0.0,0.0,0.0,0.0,0.0,0.08,0.0,0.0,0.08,0.0,0.08,0.0,0.03,0.08,0.0,0.0,0.0,0.0,0.0,0.08,0.05,0.0,0.0,0.08,0.0,0.0,0.0,0.08,0.0,0.0,0.0,0.0,0.0,0.0,0.0,0.0,0.08,0.0,0.0,0.01,0.0,0.08,0.0,0.0,0.08,0.0,0.0,0.0,0.0,0.0,0.02,0.0,0.0,0.0,0.0,0.0,0.0,0.08,0.0,0.0,0.08,0.0,0.08,0.08,0.0,0.08,0.0,0.0,0.0,0.08,0.0,0.0,0.08,0.08,0.0,0.08,0.0,0.08,0.0,0.0,0.08,0.0,0.0,0.08,0.0,0.08,0.0,0.08,0.0,0.0,0.0,0.08,0.08,0.0,0.0,0.0,0.08,0.0,0.08,0.0,0.0,0.0,0.08,0.05,0.0,0.08,0.08,0.0,0.0,0.0,0.0,0.0,0.0,0.0,0.0,0.08,0.0,0.08,0.0,0.0,0.0,0.0,0.0,0.0,0.08,0.0,0.0,0.08,0.0,0.08,0.0,0.08,0.0,0.0,0.08,0.0,0.0,0.0,0.0,0.0,0.08,0.0,0.0,0.0,0.0,0.0,0.0,0.07,0.0,0.0,0.0,0.08,0.08,0.0,0.0,0.0,0.0,0.0,0.0,0.0,0.05,0.0,0.0,0.0,0.0,0.03,0.0,0.0,0.0,0.0,0.0,0.08,0.08,0.0,0.0,0.08,0.08,0.08,0.0,0.0,0.0,0.0,0.0,0.08,0.0,0.0,0.08,0.08,0.0,0.0,0.0,0.0,0.08,0.08,0.0,0.08,0.0,0.0,0.0,0.08,0.0,0.0,0.08,0.08,0.0,0.0,0.04,0.0,0.0,0.0,0.0,0.08,0.08,0.0,0.08,0.0,0.0,0.0,0.08,0.0,0.0,0.0,0.0,0.0,0.0,0.0,0.0,0.0,0.0,0.0,0.0,0.0,0.0,0.0,0.07,0.08,0.0,0.0,0.0,0.01,0.0,0.0,0.0,0.0,0.0,0.0,0.0,0.0,0.0,0.0,0.0,0.0,0.0,0.08,0.0,0.0,0.08,0.0,0.01,0.0,0.0,0.0,0.0,0.08,0.08,0.0,0.07,0.0,0.0,0.0,0.08,0.0,0.0,0.0,0.08,0.0,0.0,0.0,0.0,0.0,0.0,0.08,0.0,0.0,0.0,0.0,0.0,0.0,0.0,0.08,0.08,0.0,0.0,0.0,0.0,0.04,0.08,0.08,0.0,0.0,0.08,0.0,0.0,0.0,0.08,0.0,0.08,0.0,0.08,0.08,0.0,0.0,0.0,0.08,0.0,0.08,0.0,0.08,0.0,0.07,0.08,0.0,0.08,0.0,0.0,0.08,0.08,0.0,0.0,0.0,0.0,0.08,0.0,0.0,0.08,0.0,0.0,0.08,0.08,0.08,0.0,0.0,0.0,0.0,0.0,0.0,0.0,0.08,0.08,0.0,0.0,0.0,0.0,0.0,0.08,0.0,0.0,0.08,0.0,0.08,0.0,0.0,0.0,0.0,0.0,0.0,0.0,0.0,0.0,0.0,0.0,0.0,0.08,0.08,0.0,0.08,0.0,0.0,0.08,0.0,0.08,0.0,0.08,0.0,0.0,0.0,0.0,0.0,0.08,0.0,0.0,0.0,0.0,0.0,0.08,0.0,0.0,0.04,0.0,0.0,0.0,0.0,0.0,0.0,0.0,0.08,0.08,0.0,0.0,0.08,0.08,0.0,0.07,0.0,0.07,0.07,0.0,0.07,0.0,0.0,0.07,0.07,0.07,0.0,0.0,0.0,0.0,0.07,0.07,0.07,0.0,0.07,0.07,0.0,0.07,0.0,0.07,0.0,0.0,0.07,0.0,0.07,0.0,0.0,0.0,0.0,0.0,0.0,0.07,0.07,0.07,0.0,0.0,0.0,0.0,0.0,0.07,0.0,0.0,0.07,0.07,0.07,0.07,0.07,0.03,0.0,0.04,0.0,0.06,0.0,0.0,0.07,0.07,0.07,0.07,0.0,0.07,0.0,0.0,0.0,0.0,0.0,0.0,0.0,0.0,0.0,0.0,0.0,0.0,0.07,0.0,0.0,0.0,0.07,0.0,0.0,0.07,0.0,0.0,0.07,0.0,0.0,0.0,0.0,0.0,0.0,0.0,0.0,0.0,0.07,0.07,0.0,0.07,0.07,0.0,0.04,0.07,0.0,0.0,0.0,0.07,0.0,0.0,0.0,0.0,0.0,0.0,0.07,0.0,0.0,0.0,0.07,0.07,0.07,0.0,0.07,0.0,0.0,0.0,0.0,0.0,0.0,0.0,0.0,0.0,0.0,0.07,0.0,0.0,0.0,0.0,0.0,0.07,0.0,0.0,0.0,0.07,0.0,0.0,0.07,0.0,0.07,0.0,0.07,0.0,0.0,0.0,0.07,0.07,0.0,0.07,0.0,0.05,0.04,0.07,0.0,0.02,0.07,0.07,0.0,0.0,0.0,0.0,0.0,0.07,0.0,0.0,0.07,0.0,0.0,0.0,0.0,0.0,0.0,0.0,0.0,0.0,0.0,0.0,0.07,0.07,0.0,0.0,0.07,0.0,0.07,0.0,0.0,0.0,0.07,0.0,0.0,0.0,0.07,0.0,0.0,0.0,0.0,0.0,0.07,0.0,0.0,0.0,0.0,0.0,0.07,0.0,0.07,0.07,0.0,0.0,0.0,0.0,0.0,0.0,0.0,0.07,0.07,0.0,0.07,0.0,0.0,0.0,0.0,0.0,0.0,0.03,0.0,0.07,0.0,0.0,0.0,0.07,0.0,0.0,0.07,0.0,0.07,0.0,0.0,0.0,0.0,0.02,0.04,0.0,0.0,0.0,0.07,0.0,0.07,0.0,0.0,0.0,0.0,0.03,0.07,0.0,0.0,0.0,0.07,0.0,0.04,0.0,0.0,0.0,0.0,0.0,0.07,0.0,0.02,0.07,0.07,0.0,0.0,0.0,0.07,0.0,0.07,0.0,0.07,0.07,0.07,0.0,0.0,0.0,0.0,0.0,0.0,0.0,0.0,0.0,0.07,0.0,0.0,0.0,0.0,0.0,0.07,0.0,0.0,0.0,0.0,0.0,0.0,0.0,0.07,0.0,0.0,0.0,0.07,0.0,0.0,0.0,0.07,0.0,0.0,0.07,0.0,0.07,0.07,0.05,0.0,0.07,0.0,0.0,0.07,0.07,0.07,0.0,0.07,0.0,0.0,0.0,0.0,0.0,0.06,0.0,0.07,0.06,0.06,0.03,0.07,0.06,0.0,0.0,0.0,0.07,0.0,0.0,0.0,0.0,0.0,0.0,0.07,0.07,0.07,0.0,0.0,0.07,0.0,0.01,0.0,0.0,0.0,0.07,0.0,0.07,0.0,0.07,0.0,0.05,0.0,0.07,0.0,0.0,0.0,0.0,0.0,0.07,0.07,0.0,0.0,0.0,0.05,0.0,0.0,0.0,0.0,0.0,0.07,0.0,0.0,0.0,0.0,0.07,0.07,0.0,0.0,0.0,0.0,0.0,0.0,0.0,0.0,0.05,0.0,0.0,0.0,0.0,0.07,0.0,0.0,0.0,0.0,0.0,0.07,0.0,0.0,0.0,0.0,0.07,0.07,0.0,0.0,0.0,0.0,0.0,0.0,0.0,0.0,0.0,0.06,0.07,0.01,0.0,0.0,0.0,0.0,0.07,0.0,0.07,0.0,0.0,0.0,0.0,0.0,0.0,0.0,0.07,0.0,0.07,0.0,0.07,0.0,0.05,0.0,0.0,0.0,0.0,0.0,0.0,0.07,0.06,0.07,0.0,0.0,0.07,0.0,0.0,0.0,0.0,0.0,0.0,0.02,0.07,0.07,0.0,0.0,0.0,0.0,0.0,0.0,0.0,0.07,0.0,0.0,0.0,0.0,0.07,0.0,0.0,0.0,0.07,0.0,0.0,0.0,0.07,0.0,0.0,0.0,0.07,0.0,0.06,0.0,0.06,0.0,0.0,0.0,0.0,0.0,0.0,0.0,0.0,0.0,0.06,0.0,0.0,0.02,0.0,0.0,0.0,0.0,0.01,0.0,0.0,0.0,0.06,0.0,0.06,0.06,0.0,0.0,0.0,0.06,0.0,0.0,0.0,0.0,0.0,0.0,0.0,0.0,0.0,0.06,0.06,0.0,0.06,0.0,0.0,0.06,0.06,0.02,0.0,0.06,0.06,0.0,0.0,0.06,0.0,0.0,0.0,0.06,0.06,0.0,0.06,0.06,0.0,0.06,0.06,0.03,0.0,0.0,0.06,0.0,0.0,0.0,0.0,0.06,0.06,0.0,0.0,0.06,0.0,0.0,0.0,0.01,0.0,0.0,0.0,0.0,0.0,0.06,0.06,0.06,0.06,0.0,0.0,0.0,0.06,0.0,0.0,0.0,0.0,0.0,0.0,0.0,0.0,0.06,0.06,0.0,0.0,0.0,0.0,0.06,0.06,0.06,0.06,0.0,0.0,0.06,0.06,0.0,0.0,0.0,0.0,0.0,0.0,0.0,0.0,0.0,0.06,0.06,0.06,0.0,0.0,0.06,0.0,0.0,0.0,0.0,0.0,0.0,0.06,0.0,0.0,0.0,0.06,0.0,0.0,0.0,0.0,0.06,0.0,0.0,0.0,0.06,0.0,0.0,0.0,0.0,0.0,0.0,0.06,0.06,0.0,0.0,0.0,0.06,0.0,0.04,0.0,0.06,0.0,0.0,0.0,0.0,0.0,0.06,0.06,0.0,0.0,0.0,0.0,0.0,0.0,0.0,0.06,0.0,0.0,0.01,0.0,0.0,0.0,0.06,0.06,0.01,0.06,0.01,0.06,0.06,0.0,0.0,0.0,0.0,0.0,0.06,0.0,0.02,0.06,0.0,0.0,0.0,0.0,0.0,0.06,0.0,0.0,0.0,0.0,0.0,0.06,0.0,0.0,0.06,0.06,0.0,0.0,0.0,0.0,0.0,0.0,0.06,0.06,0.0,0.0,0.0,0.0,0.0,0.0,0.0,0.0,0.06,0.0,0.06,0.03,0.06,0.0,0.0,0.0,0.06,0.06,0.0,0.0,0.06,0.0,0.06,0.0,0.0,0.0,0.06,0.0,0.0,0.0,0.0,0.0,0.0,0.0,0.06,0.0,0.0,0.0,0.0,0.0,0.06,0.0,0.06,0.0,0.0,0.0,0.0,0.0,0.0,0.0,0.0,0.0,0.06,0.0,0.0,0.0,0.0,0.0,0.0,0.0,0.06,0.06,0.0,0.0,0.0,0.0,0.0,0.0,0.0,0.0,0.0,0.0,0.0,0.06,0.06,0.0,0.0,0.0,0.0,0.0,0.0,0.0,0.06,0.06,0.0,0.06,0.0,0.0,0.06,0.0,0.0,0.0,0.06,0.0,0.0,0.06,0.06,0.0,0.06,0.0,0.06,0.0,0.0,0.0,0.0,0.0,0.0,0.0,0.0,0.0,0.0,0.0,0.0,0.06,0.06,0.0,0.0,0.0,0.06,0.06,0.0,0.0,0.0,0.0,0.06,0.0,0.0,0.0,0.0,0.02,0.06,0.0,0.06,0.0,0.06,0.0,0.0,0.0,0.06,0.06,0.0,0.06,0.0,0.0,0.0,0.0,0.0,0.06,0.0,0.06,0.06,0.0,0.0,0.06,0.0,0.0,0.06,0.06,0.0,0.06,0.0,0.0,0.01,0.0,0.0,0.0,0.06,0.0,0.0,0.0,0.06,0.06,0.06,0.0,0.06,0.0,0.0,0.0,0.06,0.0,0.01,0.06,0.0,0.0,0.06,0.06,0.06,0.0,0.0,0.0,0.0,0.0,0.06,0.0,0.0,0.0,0.0,0.0,0.0,0.0,0.0,0.06,0.05,0.0,0.0,0.06,0.0,0.06,0.0,0.0,0.0,0.05,0.0,0.0,0.06,0.0,0.06,0.0,0.06,0.0,0.0,0.0,0.06,0.06,0.0,0.0,0.0,0.0,0.06,0.0,0.06,0.06,0.0,0.06,0.0,0.06,0.06,0.0,0.0,0.06,0.06,0.06,0.0,0.06,0.0,0.0,0.0,0.02,0.0,0.0,0.0,0.0,0.0,0.0,0.0,0.06,0.0,0.06,0.06,0.0,0.0,0.06,0.0,0.0,0.06,0.0,0.0,0.06,0.0,0.06,0.0,0.0,0.0,0.02,0.0,0.0,0.06,0.0,0.06,0.0,0.0,0.0,0.06,0.06,0.0,0.06,0.0,0.0,0.0,0.06,0.0,0.0,0.05,0.06,0.06,0.0,0.0,0.06,0.06,0.0,0.0,0.05,0.0,0.0,0.0,0.06,0.0,0.06,0.0,0.06,0.0,0.06,0.0,0.0,0.06,0.0,0.06,0.0,0.0,0.0,0.0,0.0,0.0,0.0,0.03,0.06,0.0,0.06,0.0,0.0,0.06,0.0,0.0,0.0,0.0,0.0,0.06,0.0,0.06,0.0,0.0,0.0,0.0,0.0,0.05,0.0,0.05,0.0,0.0,0.0,0.0,0.0,0.0,0.0,0.0,0.0,0.0,0.05,0.0,0.0,0.0,0.05,0.0,0.0,0.0,0.0,0.0,0.0,0.05,0.0,0.0,0.0,0.05,0.0,0.05,0.05,0.0,0.0,0.0,0.05,0.0,0.04,0.0,0.0,0.0,0.0,0.0,0.0,0.05,0.0,0.0,0.0,0.05,0.0,0.0,0.0,0.05,0.05,0.0,0.0,0.0,0.0,0.05,0.0,0.0,0.0,0.0,0.05,0.0,0.0,0.0,0.0,0.0,0.05,0.05,0.0,0.0,0.0,0.05,0.05,0.0,0.0,0.0,0.0,0.0,0.05,0.02,0.05,0.0,0.05,0.0,0.0,0.0,0.0,0.0,0.05,0.05,0.0,0.05,0.05,0.05,0.0,0.0,0.0,0.0,0.0,0.0,0.01,0.0,0.05,0.0,0.0,0.0,0.05,0.05,0.05,0.0,0.05,0.05,0.0,0.0,0.05,0.05,0.0,0.0,0.0,0.0,0.05,0.0,0.05,0.0,0.05,0.0,0.05,0.0,0.0,0.05,0.0,0.05,0.0,0.0,0.0,0.05,0.0,0.0,0.0,0.03,0.0,0.0,0.0,0.05,0.02,0.01,0.05,0.0,0.0,0.05,0.05,0.0,0.0,0.0,0.0,0.05,0.0,0.05,0.0,0.0,0.0,0.0,0.05,0.0,0.0,0.0,0.05,0.0,0.0,0.0,0.0,0.0,0.0,0.0,0.0,0.01,0.0,0.0,0.0,0.0,0.0,0.0,0.0,0.0,0.05,0.0,0.05,0.0,0.0,0.0,0.05,0.0,0.0,0.05,0.0,0.05,0.0,0.05,0.0,0.05,0.05,0.0,0.0,0.05,0.0,0.0,0.05,0.0,0.0,0.05,0.0,0.03,0.05,0.0,0.05,0.0,0.0,0.0,0.0,0.0,0.05,0.0,0.0,0.0,0.05,0.0,0.0,0.05,0.0,0.05,0.0,0.01,0.0,0.0,0.0,0.0,0.0,0.0,0.0,0.05,0.0,0.0,0.05,0.05,0.0,0.04,0.0,0.0,0.05,0.0,0.05,0.05,0.0,0.0,0.05,0.05,0.05,0.05,0.0,0.0,0.0,0.0,0.0,0.0,0.05,0.0,0.05,0.05,0.05,0.05,0.0,0.0,0.05,0.0,0.0,0.0,0.0,0.05,0.0,0.0,0.05,0.0,0.0,0.0,0.01,0.0,0.05,0.0,0.0,0.0,0.0,0.0,0.05,0.05,0.05,0.0,0.05,0.0,0.05,0.0,0.0,0.05,0.0,0.05,0.0,0.0,0.05,0.0,0.0,0.0,0.05,0.0,0.0,0.05,0.0,0.05,0.05,0.05,0.0,0.0,0.0,0.0,0.05,0.0,0.05,0.0,0.0,0.0,0.0,0.0,0.05,0.0,0.0,0.05,0.0,0.0,0.05,0.05,0.0,0.05,0.05,0.0,0.0,0.05,0.05,0.0,0.05,0.0,0.0,0.0,0.0,0.05,0.04,0.0,0.0,0.0,0.0,0.05,0.0,0.0,0.0,0.05,0.05,0.05,0.0,0.0,0.0,0.0,0.05,0.0,0.05,0.0,0.0,0.0,0.0,0.0,0.0,0.05,0.05,0.05,0.05,0.0,0.0,0.0,0.0,0.0,0.0,0.0,0.05,0.05,0.0,0.05,0.0,0.05,0.05,0.0,0.05,0.0,0.0,0.0,0.0,0.05,0.0,0.0,0.0,0.05,0.0,0.0,0.01,0.0,0.05,0.0,0.0,0.05,0.05,0.03,0.05,0.05,0.05,0.0,0.05,0.0,0.0,0.0,0.0,0.0,0.0,0.0,0.05,0.05,0.05,0.0,0.0,0.0,0.0,0.05,0.05,0.0,0.0,0.0,0.0,0.0,0.05,0.05,0.0,0.0,0.05,0.0,0.05,0.0,0.05,0.0,0.05,0.0,0.0,0.01,0.05,0.05,0.0,0.0,0.0,0.0,0.0,0.0,0.05,0.05,0.0,0.0,0.0,0.0,0.05,0.0,0.0,0.0,0.0,0.0,0.0,0.0,0.05,0.0,0.0,0.0,0.0,0.0,0.0,0.05,0.0,0.0,0.05,0.0,0.05,0.05,0.05,0.0,0.0,0.0,0.0,0.0,0.0,0.0,0.05,0.0,0.0,0.0,0.05,0.0,0.0,0.0,0.0,0.01,0.05,0.0,0.0,0.0,0.0,0.05,0.05,0.0,0.0,0.0,0.0,0.0,0.0,0.05,0.0,0.0,0.0,0.0,0.0,0.0,0.0,0.0,0.0,0.0,0.01,0.05,0.0,0.05,0.05,0.05,0.0,0.0,0.0,0.0,0.0,0.0,0.0,0.01,0.0,0.05,0.05,0.0,0.0,0.05,0.0,0.0,0.0,0.0,0.0,0.0,0.0,0.0,0.05,0.0,0.0,0.05,0.0,0.0,0.0,0.0,0.05,0.0,0.05,0.0,0.0,0.05,0.05,0.0,0.0,0.0,0.0,0.05,0.05,0.05,0.0,0.05,0.0,0.0,0.05,0.05,0.05,0.0,0.0,0.0,0.0,0.0,0.05,0.0,0.0,0.05,0.05,0.0,0.0,0.0,0.0,0.0,0.0,0.05,0.05,0.0,0.0,0.0,0.0,0.0,0.0,0.0,0.0,0.0,0.0,0.05,0.0,0.05,0.05,0.0,0.0,0.0,0.04,0.0,0.0,0.0,0.0,0.0,0.04,0.04,0.04,0.0,0.0,0.04,0.04,0.0,0.0,0.0,0.0,0.04,0.04,0.04,0.04,0.04,0.0,0.04,0.0,0.0,0.0,0.0,0.0,0.04,0.0,0.0,0.04,0.0,0.0,0.04,0.0,0.03,0.0,0.04,0.0,0.0,0.0,0.0,0.04,0.04,0.04,0.0,0.0,0.0,0.0,0.0,0.0,0.0,0.0,0.04,0.0,0.04,0.0,0.04,0.0,0.04,0.04,0.0,0.0,0.0,0.0,0.04,0.04,0.0,0.04,0.04,0.04,0.04,0.0,0.0,0.0,0.0,0.0,0.04,0.04,0.0,0.0,0.0,0.0,0.0,0.04,0.0,0.0,0.0,0.0,0.04,0.0,0.04,0.0,0.0,0.0,0.0,0.0,0.0,0.0,0.04,0.04,0.0,0.04,0.04,0.04,0.04,0.04,0.04,0.0,0.0,0.04,0.04,0.0,0.04,0.04,0.04,0.0,0.0,0.0,0.0,0.0,0.0,0.04,0.0,0.0,0.04,0.04,0.04,0.0,0.04,0.02,0.0,0.0,0.0,0.04,0.0,0.0,0.0,0.0,0.04,0.0,0.0,0.04,0.04,0.04,0.0,0.0,0.0,0.04,0.0,0.04,0.0,0.0,0.04,0.0,0.0,0.04,0.04,0.0,0.0,0.04,0.04,0.0,0.04,0.0,0.0,0.04,0.0,0.0,0.0,0.04,0.0,0.0,0.0,0.04,0.04,0.0,0.0,0.0,0.0,0.0,0.0,0.0,0.0,0.0,0.04,0.04,0.0,0.0,0.0,0.0,0.04,0.0,0.0,0.0,0.04,0.0,0.0,0.04,0.0,0.04,0.04,0.0,0.04,0.0,0.0,0.04,0.0,0.0,0.0,0.0,0.0,0.04,0.0,0.0,0.0,0.04,0.0,0.04,0.0,0.0,0.02,0.0,0.0,0.04,0.04,0.0,0.0,0.0,0.0,0.04,0.0,0.0,0.0,0.0,0.04,0.04,0.0,0.0,0.0,0.04,0.04,0.0,0.04,0.0,0.04,0.0,0.0,0.0,0.0,0.04,0.0,0.0,0.0,0.0,0.0,0.04,0.04,0.0,0.0,0.04,0.04,0.04,0.0,0.0,0.0,0.04,0.04,0.0,0.0,0.04,0.0,0.04,0.0,0.04,0.0,0.0,0.0,0.0,0.04,0.04,0.0,0.0,0.04,0.0,0.0,0.0,0.0,0.0,0.0,0.04,0.04,0.0,0.04,0.0,0.0,0.0,0.04,0.01,0.0,0.0,0.0,0.0,0.04,0.0,0.04,0.04,0.0,0.0,0.04,0.04,0.0,0.04,0.04,0.04,0.0,0.04,0.0,0.0,0.0,0.04,0.0,0.0,0.04,0.0,0.0,0.04,0.04,0.0,0.0,0.0,0.0,0.04,0.0,0.04,0.04,0.0,0.04,0.0,0.0,0.0,0.04,0.0,0.0,0.04,0.0,0.04,0.04,0.0,0.04,0.04,0.0,0.04,0.04,0.02,0.0,0.0,0.04,0.04,0.04,0.0,0.0,0.04,0.0,0.0,0.04,0.0,0.0,0.0,0.0,0.0,0.04,0.0,0.0,0.0,0.04,0.0,0.04,0.0,0.0,0.0,0.0,0.04,0.04,0.0,0.04,0.04,0.0,0.0,0.0,0.04,0.0,0.0,0.03,0.0,0.0,0.0,0.0,0.04,0.04,0.0,0.0,0.0,0.0,0.0,0.04,0.0,0.04,0.04,0.04,0.0,0.0,0.0,0.04,0.0,0.04,0.0,0.0,0.04,0.0,0.0,0.0,0.0,0.0,0.0,0.0,0.0,0.04,0.0,0.0,0.02,0.04,0.04,0.0,0.0,0.0,0.04,0.0,0.0,0.04,0.0,0.0,0.0,0.04,0.0,0.0,0.04,0.04,0.0,0.0,0.0,0.0,0.0,0.0,0.0,0.0,0.0,0.0,0.0,0.04,0.0,0.0,0.0,0.0,0.0,0.04,0.0,0.04,0.0,0.0,0.04,0.0,0.04,0.04,0.04,0.0,0.04,0.04,0.0,0.0,0.0,0.04,0.04,0.04,0.0,0.04,0.0,0.0,0.0,0.0,0.0,0.0,0.04,0.0,0.0,0.0,0.0,0.04,0.0,0.0,0.0,0.0,0.0,0.04,0.0,0.0,0.04,0.04,0.0,0.0,0.04,0.04,0.0,0.0,0.0,0.04,0.04,0.0,0.04,0.0,0.04,0.04,0.04,0.0,0.0,0.04,0.04,0.0,0.0,0.0,0.04,0.04,0.04,0.0,0.0,0.04,0.0,0.0,0.0,0.0,0.0,0.04,0.0,0.04,0.0,0.0,0.04,0.0,0.0,0.04,0.0,0.0,0.0,0.04,0.0,0.0,0.04,0.04,0.04,0.04,0.0,0.04,0.0,0.0,0.04,0.0,0.04,0.0,0.04,0.04,0.0,0.04,0.0,0.0,0.0,0.0,0.0,0.0,0.04,0.0,0.0,0.04,0.04,0.0,0.04,0.0,0.0,0.0,0.0,0.04,0.0,0.0,0.0,0.0,0.0,0.0,0.0,0.04,0.0,0.04,0.0,0.04,0.0,0.04,0.0,0.0,0.04,0.0,0.04,0.0,0.0,0.0,0.0,0.0,0.0,0.0,0.0,0.0,0.0,0.0,0.0,0.0,0.0,0.0,0.0,0.0,0.0,0.0,0.0,0.04,0.0,0.0,0.0,0.0,0.04,0.0,0.04,0.04,0.0,0.04,0.04,0.0,0.03,0.0,0.0,0.03,0.0,0.0,0.0,0.03,0.0,0.03,0.03,0.0,0.0,0.0,0.0,0.01,0.03,0.0,0.03,0.03,0.0,0.03,0.0,0.0,0.0,0.03,0.0,0.03,0.03,0.03,0.0,0.0,0.0,0.0,0.0,0.03,0.0,0.0,0.0,0.0,0.0,0.0,0.03,0.0,0.03,0.0,0.03,0.0,0.03,0.0,0.0,0.0,0.03,0.0,0.03,0.03,0.0,0.0,0.03,0.03,0.0,0.0,0.03,0.0,0.03,0.0,0.0,0.0,0.0,0.0,0.0,0.0,0.03,0.03,0.03,0.0,0.03,0.0,0.0,0.03,0.0,0.03,0.0,0.03,0.0,0.03,0.0,0.0,0.0,0.0,0.03,0.0,0.03,0.02,0.0,0.03,0.0,0.0,0.03,0.03,0.03,0.0,0.03,0.03,0.03,0.0,0.0,0.0,0.03,0.03,0.03,0.0,0.0,0.03,0.03,0.0,0.0,0.0,0.03,0.03,0.0,0.03,0.0,0.0,0.0,0.0,0.03,0.03,0.03,0.0,0.03,0.03,0.0,0.0,0.0,0.03,0.0,0.0,0.0,0.0,0.03,0.03,0.03,0.0,0.0,0.0,0.0,0.0,0.03,0.03,0.0,0.0,0.0,0.0,0.0,0.0,0.0,0.0,0.0,0.03,0.03,0.03,0.0,0.0,0.0,0.0,0.0,0.0,0.0,0.03,0.03,0.03,0.0,0.0,0.03,0.0,0.03,0.03,0.0,0.0,0.03,0.03,0.0,0.0,0.0,0.0,0.0,0.03,0.03,0.0,0.0,0.0,0.03,0.0,0.0,0.03,0.03,0.03,0.0,0.0,0.0,0.01,0.0,0.0,0.03,0.03,0.0,0.0,0.0,0.0,0.03,0.0,0.03,0.03,0.0,0.03,0.03,0.0,0.0,0.03,0.0,0.0,0.0,0.03,0.03,0.0,0.0,0.0,0.0,0.0,0.03,0.0,0.03,0.03,0.0,0.03,0.03,0.02,0.03,0.03,0.02,0.0,0.03,0.03,0.0,0.03,0.03,0.03,0.0,0.03,0.0,0.0,0.0,0.0,0.0,0.03,0.03,0.01,0.03,0.0,0.0,0.0,0.03,0.0,0.03,0.0,0.03,0.03,0.0,0.0,0.0,0.0,0.03,0.03,0.03,0.03,0.03,0.03,0.03,0.0,0.0,0.03,0.0,0.0,0.03,0.0,0.03,0.0,0.03,0.03,0.0,0.03,0.0,0.03,0.0,0.03,0.0,0.0,0.03,0.0,0.03,0.0,0.03,0.0,0.03,0.0,0.0,0.0,0.03,0.0,0.0,0.03,0.0,0.03,0.0,0.03,0.0,0.0,0.0,0.0,0.0,0.03,0.03,0.0,0.03,0.0,0.03,0.03,0.03,0.0,0.0,0.03,0.0,0.03,0.03,0.03,0.03,0.03,0.0,0.03,0.03,0.03,0.03,0.03,0.03,0.03,0.0,0.0,0.03,0.03,0.0,0.0,0.0,0.0,0.03,0.03,0.0,0.0,0.0,0.0,0.03,0.0,0.03,0.03,0.0,0.0,0.01,0.03,0.0,0.03,0.03,0.03,0.0,0.03,0.0,0.0,0.03,0.03,0.0,0.0,0.0,0.0,0.0,0.0,0.0,0.03,0.0,0.03,0.03,0.0,0.03,0.0,0.0,0.0,0.03,0.0,0.0,0.03,0.03,0.0,0.03,0.03,0.0,0.0,0.02,0.03,0.0,0.03,0.03,0.0,0.03,0.03,0.03,0.03,0.0,0.0,0.03,0.0,0.0,0.0,0.03,0.03,0.0,0.0,0.0,0.0,0.03,0.0,0.0,0.0,0.03,0.0,0.0,0.03,0.0,0.0,0.0,0.03,0.03,0.0,0.0,0.0,0.0,0.0,0.0,0.03,0.0,0.03,0.03,0.0,0.0,0.0,0.0,0.0,0.0,0.03,0.03,0.0,0.03,0.0,0.03,0.0,0.0,0.0,0.0,0.03,0.03,0.0,0.0,0.0,0.03,0.03,0.0,0.0,0.03,0.0,0.0,0.0,0.03,0.0,0.03,0.03,0.0,0.0,0.0,0.0,0.03,0.03,0.0,0.0,0.0,0.0,0.03,0.0,0.0,0.03,0.03,0.0,0.0,0.0,0.03,0.0,0.0,0.03,0.03,0.03,0.0,0.03,0.0,0.03,0.0,0.03,0.0,0.03,0.03,0.03,0.03,0.0,0.0,0.0,0.0,0.0,0.03,0.03,0.03,0.03,0.0,0.0,0.03,0.03,0.0,0.0,0.03,0.0,0.0,0.0,0.03,0.0,0.0,0.03,0.0,0.0,0.0,0.03,0.0,0.0,0.03,0.03,0.03,0.0,0.03,0.0,0.0,0.0,0.0,0.0,0.0,0.03,0.0,0.0,0.03,0.03,0.0,0.03,0.03,0.0,0.0,0.0,0.0,0.0,0.03,0.03,0.03,0.03,0.03,0.0,0.03,0.03,0.0,0.0,0.0,0.03,0.0,0.0,0.03,0.03,0.03,0.0,0.0,0.0,0.03,0.03,0.03,0.03,0.0,0.0,0.0,0.03,0.0,0.0,0.0,0.0,0.03,0.0,0.03,0.03,0.03,0.0,0.0,0.0,0.0,0.03,0.0,0.0,0.0,0.03,0.0,0.03,0.03,0.0,0.0,0.0,0.0,0.0,0.0,0.03,0.0,0.0,0.0,0.0,0.0,0.0,0.03,0.03,0.03,0.0,0.0,0.03,0.03,0.03,0.0,0.0,0.03,0.03,0.03,0.0,0.03,0.0,0.01,0.03,0.0,0.0,0.0,0.0,0.03,0.0,0.03,0.0,0.0,0.0,0.0,0.03,0.0,0.03,0.03,0.0,0.0,0.03,0.03,0.03,0.0,0.0,0.0,0.03,0.0,0.0,0.0,0.0,0.0,0.0,0.0,0.0,0.03,0.0,0.0,0.02,0.0,0.0,0.03,0.03,0.03,0.0,0.0,0.0,0.0,0.03,0.0,0.03,0.0,0.03,0.03,0.03,0.0,0.03,0.0,0.03,0.0,0.0,0.03,0.03,0.0,0.03,0.0,0.0,0.0,0.0,0.0,0.0,0.03,0.0,0.0,0.0,0.0,0.0,0.0,0.0,0.03,0.0,0.03,0.0,0.0,0.03,0.0,0.0,0.0,0.03,0.0,0.0,0.0,0.0,0.03,0.03,0.0,0.0,0.03,0.0,0.0,0.0,0.03,0.0,0.0,0.03,0.0,0.0,0.03,0.03,0.03,0.01,0.0,0.0,0.03,0.0,0.03,0.03,0.03,0.03,0.0,0.0,0.0,0.03,0.0,0.0,0.0,0.0,0.0,0.03,0.0,0.0,0.0,0.03,0.03,0.0,0.0,0.0,0.0,0.0,0.03,0.03,0.03,0.0,0.02,0.0,0.03,0.03,0.0,0.03,0.03,0.0,0.03,0.0,0.0,0.03,0.02,0.03,0.03,0.03,0.03,0.02,0.0,0.02,0.0,0.0,0.0,0.02,0.02,0.0,0.0,0.0,0.0,0.02,0.02,0.0,0.02,0.0,0.0,0.02,0.02,0.0,0.0,0.0,0.02,0.0,0.0,0.02,0.02,0.02,0.0,0.0,0.0,0.0,0.02,0.02,0.0,0.02,0.0,0.02,0.02,0.02,0.0,0.02,0.0,0.0,0.0,0.02,0.0,0.02,0.0,0.0,0.02,0.0,0.0,0.0,0.0,0.0,0.0,0.0,0.0,0.02,0.02,0.02,0.0,0.0,0.0,0.02,0.02,0.02,0.02,0.02,0.0,0.0,0.0,0.02,0.02,0.0,0.0,0.0,0.0,0.0,0.0,0.02,0.0,0.0,0.0,0.02,0.02,0.0,0.02,0.02,0.02,0.02,0.02,0.0,0.02,0.02,0.0,0.0,0.0,0.0,0.0,0.0,0.02,0.0,0.02,0.02,0.0,0.02,0.02,0.02,0.0,0.02,0.0,0.02,0.0,0.0,0.0,0.0,0.02,0.02,0.0,0.0,0.02,0.0,0.0,0.02,0.02,0.02,0.0,0.02,0.02,0.02,0.0,0.0,0.02,0.0,0.02,0.0,0.0,0.0,0.0,0.0,0.0,0.02,0.0,0.0,0.02,0.02,0.0,0.0,0.0,0.0,0.02,0.0,0.0,0.02,0.02,0.0,0.02,0.0,0.0,0.0,0.0,0.02,0.0,0.0,0.02,0.0,0.0,0.0,0.0,0.02,0.02,0.02,0.0,0.0,0.0,0.0,0.0,0.02,0.02,0.0,0.0,0.0,0.02,0.02,0.0,0.02,0.02,0.0,0.02,0.02,0.0,0.0,0.02,0.0,0.02,0.0,0.02,0.02,0.0,0.02,0.02,0.02,0.0,0.0,0.0,0.02,0.0,0.0,0.0,0.02,0.02,0.02,0.02,0.0,0.0,0.02,0.02,0.0,0.0,0.0,0.0,0.0,0.0,0.0,0.0,0.0,0.02,0.0,0.02,0.0,0.0,0.0,0.0,0.0,0.02,0.0,0.0,0.0,0.0,0.0,0.02,0.0,0.0,0.02,0.0,0.02,0.0,0.02,0.0,0.0,0.0,0.02,0.0,0.0,0.02,0.02,0.0,0.0,0.0,0.02,0.0,0.02,0.02,0.02,0.0,0.0,0.02,0.0,0.0,0.0,0.02,0.02,0.02,0.02,0.0,0.02,0.0,0.0,0.02,0.02,0.0,0.02,0.0,0.0,0.0,0.02,0.0,0.02,0.0,0.0,0.0,0.0,0.0,0.0,0.0,0.0,0.0,0.02,0.0,0.0,0.02,0.02,0.02,0.02,0.0,0.0,0.0,0.02,0.0,0.02,0.02,0.02,0.0,0.02,0.0,0.0,0.0,0.0,0.0,0.0,0.0,0.02,0.02,0.0,0.02,0.0,0.02,0.02,0.0,0.02,0.0,0.0,0.02,0.0,0.0,0.0,0.0,0.0,0.02,0.0,0.02,0.02,0.02,0.0,0.0,0.0,0.0,0.02,0.0,0.02,0.0,0.02,0.0,0.01,0.0,0.02,0.0,0.0,0.0,0.0,0.0,0.0,0.02,0.02,0.0,0.02,0.02,0.0,0.02,0.0,0.0,0.02,0.0,0.0,0.02,0.02,0.0,0.02,0.02,0.02,0.0,0.02,0.02,0.0,0.02,0.0,0.0,0.0,0.02,0.0,0.0,0.02,0.0,0.0,0.0,0.02,0.0,0.0,0.0,0.0,0.02,0.0,0.0,0.02,0.0,0.0,0.02,0.02,0.02,0.02,0.02,0.0,0.02,0.0,0.02,0.02,0.02,0.0,0.02,0.0,0.0,0.0,0.0,0.0,0.02,0.0,0.02,0.0,0.0,0.0,0.02,0.02,0.0,0.0,0.0,0.0,0.02,0.0,0.02,0.02,0.02,0.0,0.02,0.0,0.0,0.0,0.0,0.02,0.02,0.02,0.0,0.02,0.02,0.0,0.0,0.0,0.0,0.02,0.02,0.0,0.0,0.0,0.02,0.02,0.0,0.0,0.02,0.02,0.02,0.02,0.0,0.02,0.0,0.02,0.02,0.02,0.0,0.0,0.0,0.02,0.02,0.02,0.0,0.01,0.0,0.02,0.02,0.02,0.02,0.02,0.0,0.0,0.0,0.02,0.0,0.0,0.02,0.0,0.0,0.02,0.0,0.0,0.02,0.0,0.02,0.02,0.0,0.02,0.0,0.0,0.0,0.02,0.0,0.0,0.02,0.0,0.0,0.0,0.0,0.0,0.0,0.02,0.0,0.02,0.0,0.0,0.0,0.0,0.02,0.02,0.0,0.02,0.02,0.0,0.0,0.0,0.0,0.0,0.02,0.0,0.02,0.0,0.02,0.0,0.02,0.0,0.02,0.0,0.0,0.0,0.0,0.0,0.02,0.0,0.02,0.02,0.0,0.02,0.02,0.02,0.02,0.02,0.02,0.0,0.0,0.0,0.02,0.0,0.0,0.0,0.0,0.02,0.0,0.02,0.02,0.0,0.02,0.0,0.0,0.02,0.0,0.0,0.0,0.02,0.0,0.0,0.02,0.02,0.0,0.02,0.02,0.02,0.02,0.0,0.02,0.02,0.02,0.02,0.0,0.02,0.0,0.0,0.02,0.0,0.0,0.0,0.0,0.02,0.0,0.02,0.02,0.0,0.0,0.0,0.02,0.02,0.0,0.0,0.02,0.02,0.0,0.02,0.0,0.0,0.0,0.02,0.02,0.02,0.02,0.0,0.0,0.0,0.02,0.02,0.02,0.02,0.02,0.02,0.02,0.02,0.02,0.0,0.02,0.02,0.02,0.0,0.0,0.02,0.0,0.02,0.0,0.0,0.02,0.02,0.0,0.0,0.0,0.0,0.0,0.02,0.02,0.02,0.0,0.0,0.02,0.0,0.0,0.02,0.02,0.02,0.02,0.02,0.0,0.02,0.0,0.0,0.02,0.0,0.0,0.02,0.0,0.0,0.02,0.0,0.0,0.02,0.02,0.0,0.0,0.02,0.02,0.0,0.0,0.0,0.0,0.0,0.02,0.02,0.02,0.02,0.0,0.0,0.02,0.02,0.0,0.0,0.02,0.0,0.02,0.0,0.0,0.0,0.02,0.0,0.0,0.0,0.0,0.02,0.02,0.02,0.0,0.02,0.0,0.0,0.02,0.02,0.02,0.0,0.0,0.0,0.0,0.0,0.0,0.0,0.0,0.0,0.0,0.0,0.0,0.0,0.0,0.0,0.02,0.02,0.0,0.0,0.02,0.0,0.02,0.02,0.0,0.0,0.02,0.0,0.0,0.0,0.02,0.0,0.0,0.02,0.0,0.0,0.0,0.02,0.0,0.02,0.02,0.02,0.0,0.02,0.02,0.0,0.02,0.02,0.02,0.0,0.0,0.0,0.0,0.02,0.02,0.02,0.0,0.0,0.02,0.02,0.02,0.0,0.0,0.0,0.0,0.0,0.02,0.02,0.02,0.02,0.0,0.0,0.0,0.02,0.0,0.0,0.02,0.0,0.02,0.02,0.0,0.02,0.0,0.0,0.0,0.0,0.0,0.0,0.02,0.02,0.0,0.0,0.0,0.02,0.02,0.0,0.0,0.02,0.0,0.0,0.0,0.02,0.0,0.0,0.02,0.0,0.02,0.0,0.02,0.02,0.02,0.02,0.0,0.0,0.0,0.0,0.0,0.0,0.0,0.02,0.0,0.02,0.02,0.0,0.0,0.02,0.02,0.02,0.02,0.0,0.02,0.0,0.02,0.02,0.0,0.02,0.02,0.02,0.0,0.02,0.02,0.0,0.0,0.02,0.0,0.0,0.02,0.0,0.0,0.02,0.0,0.0,0.0,0.0,0.02,0.0,0.0,0.0,0.0,0.02,0.0,0.0,0.02,0.02,0.02,0.0,0.02,0.0,0.02,0.0,0.0,0.0,0.02,0.0,0.0,0.0,0.0,0.0,0.02,0.02,0.0,0.02,0.0,0.02,0.0,0.02,0.02,0.0,0.0,0.0,0.0,0.0,0.0,0.0,0.0,0.02,0.02,0.02,0.02,0.02,0.02,0.02,0.02,0.02,0.0,0.02,0.02,0.0,0.0,0.0,0.0,0.0,0.02,0.02,0.0,0.0,0.0,0.02,0.02,0.02,0.02,0.0,0.02,0.02,0.02,0.0,0.0,0.02,0.0,0.02,0.0,0.0,0.0,0.02,0.0,0.02,0.0,0.02,0.02,0.02,0.0,0.02,0.02,0.02,0.0,0.02,0.0,0.0,0.02,0.02,0.0,0.0,0.0,0.0,0.02,0.02,0.02,0.0,0.02,0.02,0.02,0.02,0.02,0.02,0.0,0.0,0.02,0.0,0.0,0.0,0.02,0.0,0.02,0.0,0.0,0.02,0.0,0.02,0.0,0.0,0.0,0.02,0.0,0.02,0.02,0.02,0.0,0.02,0.02,0.02,0.0,0.0,0.02,0.0,0.0,0.0,0.0,0.0,0.02,0.02,0.02,0.0,0.02,0.02,0.02,0.0,0.0,0.02,0.02,0.0,0.02,0.0,0.02,0.0,0.0,0.02,0.0,0.0,0.0,0.0,0.0,0.02,0.02,0.0,0.02,0.0,0.02,0.02,0.02,0.02,0.0,0.02,0.0,0.02,0.0,0.0,0.01,0.01,0.01,0.0,0.0,0.01,0.0,0.0,0.01,0.01,0.0,0.01,0.01,0.01,0.0,0.0,0.01,0.01,0.0,0.0,0.0,0.01,0.0,0.01,0.01,0.01,0.01,0.0,0.01,0.0,0.01,0.0,0.0,0.01,0.0,0.01,0.0,0.01,0.01,0.01,0.01,0.0,0.01,0.01,0.0,0.0,0.01,0.01,0.01,0.0,0.01,0.01,0.01,0.0,0.01,0.01,0.0,0.0,0.01,0.0,0.0,0.01,0.0,0.01,0.0,0.0,0.0,0.01,0.01,0.0,0.0,0.01,0.0,0.01,0.01,0.01,0.0,0.0,0.0,0.01,0.0,0.0,0.01,0.01,0.0,0.01,0.0,0.0,0.0,0.0,0.0,0.01,0.0,0.01,0.01,0.0,0.01,0.0,0.0,0.0,0.0,0.01,0.01,0.01,0.0,0.01,0.01,0.01,0.01,0.0,0.0,0.0,0.0,0.01,0.0,0.01,0.0,0.0,0.01,0.0,0.0,0.01,0.01,0.0,0.01,0.01,0.01,0.01,0.0,0.01,0.01,0.01,0.01,0.01,0.0,0.01,0.0,0.0,0.01,0.01,0.0,0.0,0.0,0.0,0.01,0.0,0.0,0.0,0.01,0.01,0.01,0.01,0.01,0.01,0.0,0.01,0.01,0.0,0.01,0.0,0.0,0.0,0.0,0.01,0.0,0.01,0.01,0.0,0.01,0.01,0.01,0.01,0.01,0.0,0.01,0.01,0.01,0.0,0.0,0.0,0.01,0.0,0.0,0.01,0.01,0.0,0.0,0.0,0.01,0.01,0.0,0.0,0.01,0.0,0.01,0.01,0.0,0.0,0.01,0.01,0.0,0.01,0.01,0.01,0.01,0.0,0.0,0.01,0.0,0.0,0.01,0.0,0.0,0.0,0.0,0.01,0.0,0.01,0.0,0.01,0.01,0.01,0.01,0.0,0.01,0.0,0.0,0.01,0.0,0.01,0.01,0.0,0.01,0.01,0.01,0.0,0.01,0.0,0.0,0.01,0.01,0.01,0.01,0.01,0.0,0.0,0.01,0.01,0.0,0.0,0.01,0.0,0.01,0.0,0.0,0.01,0.01,0.0,0.01,0.0,0.0,0.01,0.01,0.01,0.0,0.01,0.01,0.0,0.01,0.01,0.01,0.0,0.01,0.0,0.01,0.0,0.01,0.01,0.01,0.01,0.01,0.01,0.01,0.01,0.01,0.0,0.0,0.01,0.0,0.0,0.01,0.0,0.01,0.0,0.01,0.01,0.0,0.01,0.0,0.0,0.01,0.0,0.0,0.01,0.0,0.01,0.01,0.0,0.0,0.01,0.0,0.0,0.01,0.01,0.01,0.01,0.0,0.0,0.01,0.0,0.0,0.0,0.0,0.0,0.0,0.01,0.0,0.0,0.01,0.01,0.01,0.01,0.01,0.0,0.01,0.0,0.01,0.01,0.0,0.0,0.01,0.01,0.0,0.0,0.01,0.01,0.01,0.01,0.01,0.0,0.0,0.01,0.01,0.01,0.0,0.0,0.01,0.01,0.01,0.0,0.0,0.0,0.01,0.0,0.01,0.01,0.0,0.0,0.0,0.0,0.0,0.0,0.01,0.01,0.0,0.01,0.0,0.0,0.0,0.0,0.0,0.0,0.01,0.01,0.0,0.01,0.0,0.01,0.01,0.0,0.0,0.0,0.0,0.0,0.01,0.01,0.01,0.0,0.0,0.0,0.0,0.0,0.01,0.0,0.0,0.0,0.01,0.0,0.01,0.0,0.01,0.01,0.0,0.0,0.0,0.01,0.01,0.0,0.01,0.0,0.0,0.01,0.0,0.0,0.01,0.0,0.01,0.01,0.0,0.01,0.01,0.0,0.01,0.01,0.0,0.01,0.01,0.01,0.0,0.01,0.0,0.0,0.0,0.0,0.01,0.01,0.01,0.0,0.01,0.01,0.0,0.0,0.01,0.01,0.01,0.01,0.01,0.01,0.0,0.0,0.01,0.0,0.0,0.0,0.0,0.01,0.0,0.0,0.01,0.01,0.01,0.01,0.01,0.0,0.0,0.0,0.0,0.01,0.0,0.01,0.01,0.01,0.01,0.01,0.01,0.0,0.01,0.01,0.0,0.0,0.01,0.01,0.01,0.0,0.01,0.01,0.0,0.0,0.0,0.01,0.01,0.01,0.01,0.0,0.0,0.0,0.01,0.0,0.01,0.01,0.0,0.0,0.01,0.01,0.0,0.01,0.01,0.01,0.0,0.0,0.01,0.0,0.0,0.01,0.0,0.0,0.0,0.01,0.01,0.01,0.0,0.0,0.01,0.01,0.01,0.0,0.01,0.01,0.01,0.01,0.01,0.01,0.01,0.0,0.0,0.0,0.01,0.01,0.01,0.0,0.0,0.0,0.0,0.0,0.01,0.01,0.01,0.0,0.01,0.0,0.01,0.0,0.01,0.01,0.01,0.0,0.0,0.0,0.01,0.0,0.01,0.01,0.01,0.0,0.0,0.0,0.0,0.0,0.01,0.01,0.0,0.0,0.01,0.01,0.0,0.01,0.01,0.0,0.0,0.0,0.0,0.01,0.0,0.0,0.0,0.0,0.0,0.0,0.01,0.0,0.01,0.01,0.0,0.0,0.0,0.0,0.0,0.0,0.0],\"type\":\"scatter3d\"}],                        {\"template\":{\"data\":{\"bar\":[{\"error_x\":{\"color\":\"#2a3f5f\"},\"error_y\":{\"color\":\"#2a3f5f\"},\"marker\":{\"line\":{\"color\":\"#E5ECF6\",\"width\":0.5},\"pattern\":{\"fillmode\":\"overlay\",\"size\":10,\"solidity\":0.2}},\"type\":\"bar\"}],\"barpolar\":[{\"marker\":{\"line\":{\"color\":\"#E5ECF6\",\"width\":0.5},\"pattern\":{\"fillmode\":\"overlay\",\"size\":10,\"solidity\":0.2}},\"type\":\"barpolar\"}],\"carpet\":[{\"aaxis\":{\"endlinecolor\":\"#2a3f5f\",\"gridcolor\":\"white\",\"linecolor\":\"white\",\"minorgridcolor\":\"white\",\"startlinecolor\":\"#2a3f5f\"},\"baxis\":{\"endlinecolor\":\"#2a3f5f\",\"gridcolor\":\"white\",\"linecolor\":\"white\",\"minorgridcolor\":\"white\",\"startlinecolor\":\"#2a3f5f\"},\"type\":\"carpet\"}],\"choropleth\":[{\"colorbar\":{\"outlinewidth\":0,\"ticks\":\"\"},\"type\":\"choropleth\"}],\"contour\":[{\"colorbar\":{\"outlinewidth\":0,\"ticks\":\"\"},\"colorscale\":[[0.0,\"#0d0887\"],[0.1111111111111111,\"#46039f\"],[0.2222222222222222,\"#7201a8\"],[0.3333333333333333,\"#9c179e\"],[0.4444444444444444,\"#bd3786\"],[0.5555555555555556,\"#d8576b\"],[0.6666666666666666,\"#ed7953\"],[0.7777777777777778,\"#fb9f3a\"],[0.8888888888888888,\"#fdca26\"],[1.0,\"#f0f921\"]],\"type\":\"contour\"}],\"contourcarpet\":[{\"colorbar\":{\"outlinewidth\":0,\"ticks\":\"\"},\"type\":\"contourcarpet\"}],\"heatmap\":[{\"colorbar\":{\"outlinewidth\":0,\"ticks\":\"\"},\"colorscale\":[[0.0,\"#0d0887\"],[0.1111111111111111,\"#46039f\"],[0.2222222222222222,\"#7201a8\"],[0.3333333333333333,\"#9c179e\"],[0.4444444444444444,\"#bd3786\"],[0.5555555555555556,\"#d8576b\"],[0.6666666666666666,\"#ed7953\"],[0.7777777777777778,\"#fb9f3a\"],[0.8888888888888888,\"#fdca26\"],[1.0,\"#f0f921\"]],\"type\":\"heatmap\"}],\"heatmapgl\":[{\"colorbar\":{\"outlinewidth\":0,\"ticks\":\"\"},\"colorscale\":[[0.0,\"#0d0887\"],[0.1111111111111111,\"#46039f\"],[0.2222222222222222,\"#7201a8\"],[0.3333333333333333,\"#9c179e\"],[0.4444444444444444,\"#bd3786\"],[0.5555555555555556,\"#d8576b\"],[0.6666666666666666,\"#ed7953\"],[0.7777777777777778,\"#fb9f3a\"],[0.8888888888888888,\"#fdca26\"],[1.0,\"#f0f921\"]],\"type\":\"heatmapgl\"}],\"histogram\":[{\"marker\":{\"pattern\":{\"fillmode\":\"overlay\",\"size\":10,\"solidity\":0.2}},\"type\":\"histogram\"}],\"histogram2d\":[{\"colorbar\":{\"outlinewidth\":0,\"ticks\":\"\"},\"colorscale\":[[0.0,\"#0d0887\"],[0.1111111111111111,\"#46039f\"],[0.2222222222222222,\"#7201a8\"],[0.3333333333333333,\"#9c179e\"],[0.4444444444444444,\"#bd3786\"],[0.5555555555555556,\"#d8576b\"],[0.6666666666666666,\"#ed7953\"],[0.7777777777777778,\"#fb9f3a\"],[0.8888888888888888,\"#fdca26\"],[1.0,\"#f0f921\"]],\"type\":\"histogram2d\"}],\"histogram2dcontour\":[{\"colorbar\":{\"outlinewidth\":0,\"ticks\":\"\"},\"colorscale\":[[0.0,\"#0d0887\"],[0.1111111111111111,\"#46039f\"],[0.2222222222222222,\"#7201a8\"],[0.3333333333333333,\"#9c179e\"],[0.4444444444444444,\"#bd3786\"],[0.5555555555555556,\"#d8576b\"],[0.6666666666666666,\"#ed7953\"],[0.7777777777777778,\"#fb9f3a\"],[0.8888888888888888,\"#fdca26\"],[1.0,\"#f0f921\"]],\"type\":\"histogram2dcontour\"}],\"mesh3d\":[{\"colorbar\":{\"outlinewidth\":0,\"ticks\":\"\"},\"type\":\"mesh3d\"}],\"parcoords\":[{\"line\":{\"colorbar\":{\"outlinewidth\":0,\"ticks\":\"\"}},\"type\":\"parcoords\"}],\"pie\":[{\"automargin\":true,\"type\":\"pie\"}],\"scatter\":[{\"marker\":{\"colorbar\":{\"outlinewidth\":0,\"ticks\":\"\"}},\"type\":\"scatter\"}],\"scatter3d\":[{\"line\":{\"colorbar\":{\"outlinewidth\":0,\"ticks\":\"\"}},\"marker\":{\"colorbar\":{\"outlinewidth\":0,\"ticks\":\"\"}},\"type\":\"scatter3d\"}],\"scattercarpet\":[{\"marker\":{\"colorbar\":{\"outlinewidth\":0,\"ticks\":\"\"}},\"type\":\"scattercarpet\"}],\"scattergeo\":[{\"marker\":{\"colorbar\":{\"outlinewidth\":0,\"ticks\":\"\"}},\"type\":\"scattergeo\"}],\"scattergl\":[{\"marker\":{\"colorbar\":{\"outlinewidth\":0,\"ticks\":\"\"}},\"type\":\"scattergl\"}],\"scattermapbox\":[{\"marker\":{\"colorbar\":{\"outlinewidth\":0,\"ticks\":\"\"}},\"type\":\"scattermapbox\"}],\"scatterpolar\":[{\"marker\":{\"colorbar\":{\"outlinewidth\":0,\"ticks\":\"\"}},\"type\":\"scatterpolar\"}],\"scatterpolargl\":[{\"marker\":{\"colorbar\":{\"outlinewidth\":0,\"ticks\":\"\"}},\"type\":\"scatterpolargl\"}],\"scatterternary\":[{\"marker\":{\"colorbar\":{\"outlinewidth\":0,\"ticks\":\"\"}},\"type\":\"scatterternary\"}],\"surface\":[{\"colorbar\":{\"outlinewidth\":0,\"ticks\":\"\"},\"colorscale\":[[0.0,\"#0d0887\"],[0.1111111111111111,\"#46039f\"],[0.2222222222222222,\"#7201a8\"],[0.3333333333333333,\"#9c179e\"],[0.4444444444444444,\"#bd3786\"],[0.5555555555555556,\"#d8576b\"],[0.6666666666666666,\"#ed7953\"],[0.7777777777777778,\"#fb9f3a\"],[0.8888888888888888,\"#fdca26\"],[1.0,\"#f0f921\"]],\"type\":\"surface\"}],\"table\":[{\"cells\":{\"fill\":{\"color\":\"#EBF0F8\"},\"line\":{\"color\":\"white\"}},\"header\":{\"fill\":{\"color\":\"#C8D4E3\"},\"line\":{\"color\":\"white\"}},\"type\":\"table\"}]},\"layout\":{\"annotationdefaults\":{\"arrowcolor\":\"#2a3f5f\",\"arrowhead\":0,\"arrowwidth\":1},\"autotypenumbers\":\"strict\",\"coloraxis\":{\"colorbar\":{\"outlinewidth\":0,\"ticks\":\"\"}},\"colorscale\":{\"diverging\":[[0,\"#8e0152\"],[0.1,\"#c51b7d\"],[0.2,\"#de77ae\"],[0.3,\"#f1b6da\"],[0.4,\"#fde0ef\"],[0.5,\"#f7f7f7\"],[0.6,\"#e6f5d0\"],[0.7,\"#b8e186\"],[0.8,\"#7fbc41\"],[0.9,\"#4d9221\"],[1,\"#276419\"]],\"sequential\":[[0.0,\"#0d0887\"],[0.1111111111111111,\"#46039f\"],[0.2222222222222222,\"#7201a8\"],[0.3333333333333333,\"#9c179e\"],[0.4444444444444444,\"#bd3786\"],[0.5555555555555556,\"#d8576b\"],[0.6666666666666666,\"#ed7953\"],[0.7777777777777778,\"#fb9f3a\"],[0.8888888888888888,\"#fdca26\"],[1.0,\"#f0f921\"]],\"sequentialminus\":[[0.0,\"#0d0887\"],[0.1111111111111111,\"#46039f\"],[0.2222222222222222,\"#7201a8\"],[0.3333333333333333,\"#9c179e\"],[0.4444444444444444,\"#bd3786\"],[0.5555555555555556,\"#d8576b\"],[0.6666666666666666,\"#ed7953\"],[0.7777777777777778,\"#fb9f3a\"],[0.8888888888888888,\"#fdca26\"],[1.0,\"#f0f921\"]]},\"colorway\":[\"#636efa\",\"#EF553B\",\"#00cc96\",\"#ab63fa\",\"#FFA15A\",\"#19d3f3\",\"#FF6692\",\"#B6E880\",\"#FF97FF\",\"#FECB52\"],\"font\":{\"color\":\"#2a3f5f\"},\"geo\":{\"bgcolor\":\"white\",\"lakecolor\":\"white\",\"landcolor\":\"#E5ECF6\",\"showlakes\":true,\"showland\":true,\"subunitcolor\":\"white\"},\"hoverlabel\":{\"align\":\"left\"},\"hovermode\":\"closest\",\"mapbox\":{\"style\":\"light\"},\"paper_bgcolor\":\"white\",\"plot_bgcolor\":\"#E5ECF6\",\"polar\":{\"angularaxis\":{\"gridcolor\":\"white\",\"linecolor\":\"white\",\"ticks\":\"\"},\"bgcolor\":\"#E5ECF6\",\"radialaxis\":{\"gridcolor\":\"white\",\"linecolor\":\"white\",\"ticks\":\"\"}},\"scene\":{\"xaxis\":{\"backgroundcolor\":\"#E5ECF6\",\"gridcolor\":\"white\",\"gridwidth\":2,\"linecolor\":\"white\",\"showbackground\":true,\"ticks\":\"\",\"zerolinecolor\":\"white\"},\"yaxis\":{\"backgroundcolor\":\"#E5ECF6\",\"gridcolor\":\"white\",\"gridwidth\":2,\"linecolor\":\"white\",\"showbackground\":true,\"ticks\":\"\",\"zerolinecolor\":\"white\"},\"zaxis\":{\"backgroundcolor\":\"#E5ECF6\",\"gridcolor\":\"white\",\"gridwidth\":2,\"linecolor\":\"white\",\"showbackground\":true,\"ticks\":\"\",\"zerolinecolor\":\"white\"}},\"shapedefaults\":{\"line\":{\"color\":\"#2a3f5f\"}},\"ternary\":{\"aaxis\":{\"gridcolor\":\"white\",\"linecolor\":\"white\",\"ticks\":\"\"},\"baxis\":{\"gridcolor\":\"white\",\"linecolor\":\"white\",\"ticks\":\"\"},\"bgcolor\":\"#E5ECF6\",\"caxis\":{\"gridcolor\":\"white\",\"linecolor\":\"white\",\"ticks\":\"\"}},\"title\":{\"x\":0.05},\"xaxis\":{\"automargin\":true,\"gridcolor\":\"white\",\"linecolor\":\"white\",\"ticks\":\"\",\"title\":{\"standoff\":15},\"zerolinecolor\":\"white\",\"zerolinewidth\":2},\"yaxis\":{\"automargin\":true,\"gridcolor\":\"white\",\"linecolor\":\"white\",\"ticks\":\"\",\"title\":{\"standoff\":15},\"zerolinecolor\":\"white\",\"zerolinewidth\":2}}},\"scene\":{\"domain\":{\"x\":[0.0,1.0],\"y\":[0.0,1.0]},\"xaxis\":{\"title\":{\"text\":\"EU_Sales\"}},\"yaxis\":{\"title\":{\"text\":\"NA_Sales\"}},\"zaxis\":{\"title\":{\"text\":\"JP_Sales\"}}},\"coloraxis\":{\"colorbar\":{\"title\":{\"text\":\"Global_Sales\"}},\"colorscale\":[[0.0,\"#0d0887\"],[0.1111111111111111,\"#46039f\"],[0.2222222222222222,\"#7201a8\"],[0.3333333333333333,\"#9c179e\"],[0.4444444444444444,\"#bd3786\"],[0.5555555555555556,\"#d8576b\"],[0.6666666666666666,\"#ed7953\"],[0.7777777777777778,\"#fb9f3a\"],[0.8888888888888888,\"#fdca26\"],[1.0,\"#f0f921\"]]},\"legend\":{\"tracegroupgap\":0},\"margin\":{\"t\":60},\"height\":900,\"width\":1700},                        {\"responsive\": true}                    ).then(function(){\n",
              "                            \n",
              "var gd = document.getElementById('3501a93e-ff41-41c8-b37c-daefae1b5d4a');\n",
              "var x = new MutationObserver(function (mutations, observer) {{\n",
              "        var display = window.getComputedStyle(gd).display;\n",
              "        if (!display || display === 'none') {{\n",
              "            console.log([gd, 'removed!']);\n",
              "            Plotly.purge(gd);\n",
              "            observer.disconnect();\n",
              "        }}\n",
              "}});\n",
              "\n",
              "// Listen for the removal of the full notebook cells\n",
              "var notebookContainer = gd.closest('#notebook-container');\n",
              "if (notebookContainer) {{\n",
              "    x.observe(notebookContainer, {childList: true});\n",
              "}}\n",
              "\n",
              "// Listen for the clearing of the current output cell\n",
              "var outputEl = gd.closest('.output');\n",
              "if (outputEl) {{\n",
              "    x.observe(outputEl, {childList: true});\n",
              "}}\n",
              "\n",
              "                        })                };                            </script>        </div>\n",
              "</body>\n",
              "</html>"
            ]
          },
          "metadata": {}
        }
      ]
    },
    {
      "cell_type": "code",
      "metadata": {
        "id": "1QInH4Pz0IqH"
      },
      "source": [
        "from sklearn.neighbors import KNeighborsClassifier"
      ],
      "execution_count": 212,
      "outputs": []
    },
    {
      "cell_type": "code",
      "metadata": {
        "colab": {
          "base_uri": "https://localhost:8080/"
        },
        "id": "uKAIySG70qoJ",
        "outputId": "ec218f3b-6cce-464f-e1e7-783182e96ddf"
      },
      "source": [
        "knn_vg = KNeighborsClassifier(n_neighbors = 5, metric = 'minkowski', p = 2)\n",
        "knn_vg.fit(x_vg_data_train, y_vg_data_train)"
      ],
      "execution_count": 213,
      "outputs": [
        {
          "output_type": "execute_result",
          "data": {
            "text/plain": [
              "KNeighborsClassifier()"
            ]
          },
          "metadata": {},
          "execution_count": 213
        }
      ]
    },
    {
      "cell_type": "code",
      "metadata": {
        "colab": {
          "base_uri": "https://localhost:8080/"
        },
        "id": "k2jFDrTJ1WzL",
        "outputId": "73ee939d-340a-47e0-a9a5-bbfadc249174"
      },
      "source": [
        "predictions = knn_vg.predict(x_vg_data_test)\n",
        "predictions"
      ],
      "execution_count": 214,
      "outputs": [
        {
          "output_type": "execute_result",
          "data": {
            "text/plain": [
              "array(['> 60K and <= 170K', '<= 60K', '> 470K', ..., '<= 60K',\n",
              "       '> 170K and <= 470K', '> 470K'], dtype=object)"
            ]
          },
          "metadata": {},
          "execution_count": 214
        }
      ]
    },
    {
      "cell_type": "code",
      "metadata": {
        "colab": {
          "base_uri": "https://localhost:8080/"
        },
        "id": "9tHGCUdG1og9",
        "outputId": "33cce67f-b267-4c9b-caab-0ffbd9a675d2"
      },
      "source": [
        "accuracy_score(y_vg_data_test, predictions)"
      ],
      "execution_count": 215,
      "outputs": [
        {
          "output_type": "execute_result",
          "data": {
            "text/plain": [
              "0.5651753325272068"
            ]
          },
          "metadata": {},
          "execution_count": 215
        }
      ]
    },
    {
      "cell_type": "code",
      "metadata": {
        "colab": {
          "base_uri": "https://localhost:8080/",
          "height": 679
        },
        "id": "s47Uo6o819gm",
        "outputId": "a2ec094f-47f2-4a78-a577-67715a434347"
      },
      "source": [
        "cm = ConfusionMatrix(knn_vg)\n",
        "cm.fit(x_vg_data_train, y_vg_data_train)\n",
        "cm.score(x_vg_data_test, y_vg_data_test)"
      ],
      "execution_count": 216,
      "outputs": [
        {
          "output_type": "execute_result",
          "data": {
            "text/plain": [
              "0.5651753325272068"
            ]
          },
          "metadata": {},
          "execution_count": 216
        },
        {
          "output_type": "display_data",
          "data": {
            "text/plain": [
              "<Figure size 1080x648 with 1 Axes>"
            ],
            "image/png": "[encoded data removed]"
          },
          "metadata": {}
        }
      ]
    },
    {
      "cell_type": "code",
      "metadata": {
        "id": "-EgfzTob374-"
      },
      "source": [
        "from sklearn.ensemble import RandomForestClassifier"
      ],
      "execution_count": 217,
      "outputs": []
    },
    {
      "cell_type": "code",
      "metadata": {
        "colab": {
          "base_uri": "https://localhost:8080/"
        },
        "id": "E-t7nknt4XI1",
        "outputId": "591e7f71-7190-4fb9-dbb2-7b7cb2e344c6"
      },
      "source": [
        "random_forest_vg = RandomForestClassifier(n_estimators = 100, criterion = 'entropy')\n",
        "random_forest_vg.fit(x_vg_data_train, y_vg_data_train)"
      ],
      "execution_count": 218,
      "outputs": [
        {
          "output_type": "execute_result",
          "data": {
            "text/plain": [
              "RandomForestClassifier(criterion='entropy')"
            ]
          },
          "metadata": {},
          "execution_count": 218
        }
      ]
    },
    {
      "cell_type": "code",
      "metadata": {
        "colab": {
          "base_uri": "https://localhost:8080/"
        },
        "id": "KoK01HT74otH",
        "outputId": "7655bd30-b48e-4d14-c617-e8f51ace9d34"
      },
      "source": [
        "predictions = random_forest_vg.predict(x_vg_data_test)\n",
        "predictions"
      ],
      "execution_count": 219,
      "outputs": [
        {
          "output_type": "execute_result",
          "data": {
            "text/plain": [
              "array(['<= 60K', '<= 60K', '> 470K', ..., '<= 60K', '> 170K and <= 470K',\n",
              "       '> 470K'], dtype=object)"
            ]
          },
          "metadata": {},
          "execution_count": 219
        }
      ]
    },
    {
      "cell_type": "code",
      "metadata": {
        "colab": {
          "base_uri": "https://localhost:8080/"
        },
        "id": "LAT8OX7-4usJ",
        "outputId": "9184532a-beb5-46d9-86b5-ed119813ee36"
      },
      "source": [
        "accuracy_score(y_vg_data_test, predictions)"
      ],
      "execution_count": 220,
      "outputs": [
        {
          "output_type": "execute_result",
          "data": {
            "text/plain": [
              "0.6512696493349456"
            ]
          },
          "metadata": {},
          "execution_count": 220
        }
      ]
    },
    {
      "cell_type": "code",
      "metadata": {
        "id": "n2o31Qh15IBb"
      },
      "source": [
        "from sklearn.linear_model import LogisticRegression"
      ],
      "execution_count": 221,
      "outputs": []
    },
    {
      "cell_type": "code",
      "metadata": {
        "colab": {
          "base_uri": "https://localhost:8080/"
        },
        "id": "r_RY_jdA5OIf",
        "outputId": "be8b1220-a208-419e-dc60-104398edd529"
      },
      "source": [
        "logistic_vg = LogisticRegression(max_iter = 1000)\n",
        "logistic_vg.fit(x_vg_data_train, y_vg_data_train)"
      ],
      "execution_count": 222,
      "outputs": [
        {
          "output_type": "execute_result",
          "data": {
            "text/plain": [
              "LogisticRegression(max_iter=1000)"
            ]
          },
          "metadata": {},
          "execution_count": 222
        }
      ]
    },
    {
      "cell_type": "code",
      "metadata": {
        "colab": {
          "base_uri": "https://localhost:8080/"
        },
        "id": "vr0Uc-Ux5ncB",
        "outputId": "77683e06-5e3d-4d9f-ff75-7ba54eb90756"
      },
      "source": [
        "predictions = logistic_vg.predict(x_vg_data_test)\n",
        "predictions"
      ],
      "execution_count": 223,
      "outputs": [
        {
          "output_type": "execute_result",
          "data": {
            "text/plain": [
              "array(['<= 60K', '<= 60K', '> 60K and <= 170K', ..., '<= 60K', '<= 60K',\n",
              "       '> 470K'], dtype=object)"
            ]
          },
          "metadata": {},
          "execution_count": 223
        }
      ]
    },
    {
      "cell_type": "code",
      "metadata": {
        "colab": {
          "base_uri": "https://localhost:8080/"
        },
        "id": "yDrdE2Pw5zsp",
        "outputId": "0cf9474a-f692-4c78-e5c4-6594e5f8fb2a"
      },
      "source": [
        "accuracy_score(y_vg_data_test, predictions)"
      ],
      "execution_count": 224,
      "outputs": [
        {
          "output_type": "execute_result",
          "data": {
            "text/plain": [
              "0.6099153567110036"
            ]
          },
          "metadata": {},
          "execution_count": 224
        }
      ]
    },
    {
      "cell_type": "code",
      "metadata": {
        "id": "z1_hCtpsLy1N"
      },
      "source": [
        "from sklearn.svm import SVC"
      ],
      "execution_count": 225,
      "outputs": []
    },
    {
      "cell_type": "code",
      "metadata": {
        "colab": {
          "base_uri": "https://localhost:8080/"
        },
        "id": "hHuBJAG1L3Zt",
        "outputId": "58c0da36-ea05-4a8c-faa2-dfdd44c2e93f"
      },
      "source": [
        "svm_vg = SVC(kernel = 'linear', random_state = 1, C = 3.0)\n",
        "svm_vg.fit(x_vg_data_train, y_vg_data_train)"
      ],
      "execution_count": 226,
      "outputs": [
        {
          "output_type": "execute_result",
          "data": {
            "text/plain": [
              "SVC(C=3.0, kernel='linear', random_state=1)"
            ]
          },
          "metadata": {},
          "execution_count": 226
        }
      ]
    },
    {
      "cell_type": "code",
      "metadata": {
        "colab": {
          "base_uri": "https://localhost:8080/"
        },
        "id": "nOasP470MI2S",
        "outputId": "135a4cd3-d80b-4874-a8e1-7919f612fe07"
      },
      "source": [
        "predictions = svm_vg.predict(x_vg_data_test)\n",
        "predictions"
      ],
      "execution_count": 227,
      "outputs": [
        {
          "output_type": "execute_result",
          "data": {
            "text/plain": [
              "array(['<= 60K', '<= 60K', '> 60K and <= 170K', ..., '<= 60K', '<= 60K',\n",
              "       '> 470K'], dtype=object)"
            ]
          },
          "metadata": {},
          "execution_count": 227
        }
      ]
    },
    {
      "cell_type": "code",
      "metadata": {
        "colab": {
          "base_uri": "https://localhost:8080/"
        },
        "id": "Z9CWBxlVMRNM",
        "outputId": "77e3123d-c699-4c4b-b329-608534e5a61f"
      },
      "source": [
        "accuracy_score(y_vg_data_test, predictions)"
      ],
      "execution_count": 228,
      "outputs": [
        {
          "output_type": "execute_result",
          "data": {
            "text/plain": [
              "0.6391777509068923"
            ]
          },
          "metadata": {},
          "execution_count": 228
        }
      ]
    },
    {
      "cell_type": "code",
      "source": [
        "#vg_data = vg_data.drop(\"Categoric_Global_Sales\", axis = 1)\n",
        "vg_data = pd.read_csv('/content/gdrive/MyDrive/datasets/VideoGames/vgsales.csv')"
      ],
      "metadata": {
        "id": "si_YCxwW3JCv"
      },
      "execution_count": 363,
      "outputs": []
    },
    {
      "cell_type": "code",
      "source": [
        "vg_data.head()"
      ],
      "metadata": {
        "colab": {
          "base_uri": "https://localhost:8080/",
          "height": 206
        },
        "id": "pG3XmiAw3so8",
        "outputId": "37bb7237-3641-460b-8fd1-c17b336c5d95"
      },
      "execution_count": 364,
      "outputs": [
        {
          "output_type": "execute_result",
          "data": {
            "text/plain": [
              "   Rank                      Name Platform    Year         Genre Publisher  \\\n",
              "0     1                Wii Sports      Wii  2006.0        Sports  Nintendo   \n",
              "1     2         Super Mario Bros.      NES  1985.0      Platform  Nintendo   \n",
              "2     3            Mario Kart Wii      Wii  2008.0        Racing  Nintendo   \n",
              "3     4         Wii Sports Resort      Wii  2009.0        Sports  Nintendo   \n",
              "4     5  Pokemon Red/Pokemon Blue       GB  1996.0  Role-Playing  Nintendo   \n",
              "\n",
              "   NA_Sales  EU_Sales  JP_Sales  Other_Sales  Global_Sales  \n",
              "0     41.49     29.02      3.77         8.46         82.74  \n",
              "1     29.08      3.58      6.81         0.77         40.24  \n",
              "2     15.85     12.88      3.79         3.31         35.82  \n",
              "3     15.75     11.01      3.28         2.96         33.00  \n",
              "4     11.27      8.89     10.22         1.00         31.37  "
            ],
            "text/html": [
              "\n",
              "  <div id=\"df-01dda303-4bbe-4333-ba1b-bf3efa539687\">\n",
              "    <div class=\"colab-df-container\">\n",
              "      <div>\n",
              "<style scoped>\n",
              "    .dataframe tbody tr th:only-of-type {\n",
              "        vertical-align: middle;\n",
              "    }\n",
              "\n",
              "    .dataframe tbody tr th {\n",
              "        vertical-align: top;\n",
              "    }\n",
              "\n",
              "    .dataframe thead th {\n",
              "        text-align: right;\n",
              "    }\n",
              "</style>\n",
              "<table border=\"1\" class=\"dataframe\">\n",
              "  <thead>\n",
              "    <tr style=\"text-align: right;\">\n",
              "      <th></th>\n",
              "      <th>Rank</th>\n",
              "      <th>Name</th>\n",
              "      <th>Platform</th>\n",
              "      <th>Year</th>\n",
              "      <th>Genre</th>\n",
              "      <th>Publisher</th>\n",
              "      <th>NA_Sales</th>\n",
              "      <th>EU_Sales</th>\n",
              "      <th>JP_Sales</th>\n",
              "      <th>Other_Sales</th>\n",
              "      <th>Global_Sales</th>\n",
              "    </tr>\n",
              "  </thead>\n",
              "  <tbody>\n",
              "    <tr>\n",
              "      <th>0</th>\n",
              "      <td>1</td>\n",
              "      <td>Wii Sports</td>\n",
              "      <td>Wii</td>\n",
              "      <td>2006.0</td>\n",
              "      <td>Sports</td>\n",
              "      <td>Nintendo</td>\n",
              "      <td>41.49</td>\n",
              "      <td>29.02</td>\n",
              "      <td>3.77</td>\n",
              "      <td>8.46</td>\n",
              "      <td>82.74</td>\n",
              "    </tr>\n",
              "    <tr>\n",
              "      <th>1</th>\n",
              "      <td>2</td>\n",
              "      <td>Super Mario Bros.</td>\n",
              "      <td>NES</td>\n",
              "      <td>1985.0</td>\n",
              "      <td>Platform</td>\n",
              "      <td>Nintendo</td>\n",
              "      <td>29.08</td>\n",
              "      <td>3.58</td>\n",
              "      <td>6.81</td>\n",
              "      <td>0.77</td>\n",
              "      <td>40.24</td>\n",
              "    </tr>\n",
              "    <tr>\n",
              "      <th>2</th>\n",
              "      <td>3</td>\n",
              "      <td>Mario Kart Wii</td>\n",
              "      <td>Wii</td>\n",
              "      <td>2008.0</td>\n",
              "      <td>Racing</td>\n",
              "      <td>Nintendo</td>\n",
              "      <td>15.85</td>\n",
              "      <td>12.88</td>\n",
              "      <td>3.79</td>\n",
              "      <td>3.31</td>\n",
              "      <td>35.82</td>\n",
              "    </tr>\n",
              "    <tr>\n",
              "      <th>3</th>\n",
              "      <td>4</td>\n",
              "      <td>Wii Sports Resort</td>\n",
              "      <td>Wii</td>\n",
              "      <td>2009.0</td>\n",
              "      <td>Sports</td>\n",
              "      <td>Nintendo</td>\n",
              "      <td>15.75</td>\n",
              "      <td>11.01</td>\n",
              "      <td>3.28</td>\n",
              "      <td>2.96</td>\n",
              "      <td>33.00</td>\n",
              "    </tr>\n",
              "    <tr>\n",
              "      <th>4</th>\n",
              "      <td>5</td>\n",
              "      <td>Pokemon Red/Pokemon Blue</td>\n",
              "      <td>GB</td>\n",
              "      <td>1996.0</td>\n",
              "      <td>Role-Playing</td>\n",
              "      <td>Nintendo</td>\n",
              "      <td>11.27</td>\n",
              "      <td>8.89</td>\n",
              "      <td>10.22</td>\n",
              "      <td>1.00</td>\n",
              "      <td>31.37</td>\n",
              "    </tr>\n",
              "  </tbody>\n",
              "</table>\n",
              "</div>\n",
              "      <button class=\"colab-df-convert\" onclick=\"convertToInteractive('df-01dda303-4bbe-4333-ba1b-bf3efa539687')\"\n",
              "              title=\"Convert this dataframe to an interactive table.\"\n",
              "              style=\"display:none;\">\n",
              "        \n",
              "  <svg xmlns=\"http://www.w3.org/2000/svg\" height=\"24px\"viewBox=\"0 0 24 24\"\n",
              "       width=\"24px\">\n",
              "    <path d=\"M0 0h24v24H0V0z\" fill=\"none\"/>\n",
              "    <path d=\"M18.56 5.44l.94 2.06.94-2.06 2.06-.94-2.06-.94-.94-2.06-.94 2.06-2.06.94zm-11 1L8.5 8.5l.94-2.06 2.06-.94-2.06-.94L8.5 2.5l-.94 2.06-2.06.94zm10 10l.94 2.06.94-2.06 2.06-.94-2.06-.94-.94-2.06-.94 2.06-2.06.94z\"/><path d=\"M17.41 7.96l-1.37-1.37c-.4-.4-.92-.59-1.43-.59-.52 0-1.04.2-1.43.59L10.3 9.45l-7.72 7.72c-.78.78-.78 2.05 0 2.83L4 21.41c.39.39.9.59 1.41.59.51 0 1.02-.2 1.41-.59l7.78-7.78 2.81-2.81c.8-.78.8-2.07 0-2.86zM5.41 20L4 18.59l7.72-7.72 1.47 1.35L5.41 20z\"/>\n",
              "  </svg>\n",
              "      </button>\n",
              "      \n",
              "  <style>\n",
              "    .colab-df-container {\n",
              "      display:flex;\n",
              "      flex-wrap:wrap;\n",
              "      gap: 12px;\n",
              "    }\n",
              "\n",
              "    .colab-df-convert {\n",
              "      background-color: #E8F0FE;\n",
              "      border: none;\n",
              "      border-radius: 50%;\n",
              "      cursor: pointer;\n",
              "      display: none;\n",
              "      fill: #1967D2;\n",
              "      height: 32px;\n",
              "      padding: 0 0 0 0;\n",
              "      width: 32px;\n",
              "    }\n",
              "\n",
              "    .colab-df-convert:hover {\n",
              "      background-color: #E2EBFA;\n",
              "      box-shadow: 0px 1px 2px rgba(60, 64, 67, 0.3), 0px 1px 3px 1px rgba(60, 64, 67, 0.15);\n",
              "      fill: #174EA6;\n",
              "    }\n",
              "\n",
              "    [theme=dark] .colab-df-convert {\n",
              "      background-color: #3B4455;\n",
              "      fill: #D2E3FC;\n",
              "    }\n",
              "\n",
              "    [theme=dark] .colab-df-convert:hover {\n",
              "      background-color: #434B5C;\n",
              "      box-shadow: 0px 1px 3px 1px rgba(0, 0, 0, 0.15);\n",
              "      filter: drop-shadow(0px 1px 2px rgba(0, 0, 0, 0.3));\n",
              "      fill: #FFFFFF;\n",
              "    }\n",
              "  </style>\n",
              "\n",
              "      <script>\n",
              "        const buttonEl =\n",
              "          document.querySelector('#df-01dda303-4bbe-4333-ba1b-bf3efa539687 button.colab-df-convert');\n",
              "        buttonEl.style.display =\n",
              "          google.colab.kernel.accessAllowed ? 'block' : 'none';\n",
              "\n",
              "        async function convertToInteractive(key) {\n",
              "          const element = document.querySelector('#df-01dda303-4bbe-4333-ba1b-bf3efa539687');\n",
              "          const dataTable =\n",
              "            await google.colab.kernel.invokeFunction('convertToInteractive',\n",
              "                                                     [key], {});\n",
              "          if (!dataTable) return;\n",
              "\n",
              "          const docLinkHtml = 'Like what you see? Visit the ' +\n",
              "            '<a target=\"_blank\" href=https://colab.research.google.com/notebooks/data_table.ipynb>data table notebook</a>'\n",
              "            + ' to learn more about interactive tables.';\n",
              "          element.innerHTML = '';\n",
              "          dataTable['output_type'] = 'display_data';\n",
              "          await google.colab.output.renderOutput(dataTable, element);\n",
              "          const docLink = document.createElement('div');\n",
              "          docLink.innerHTML = docLinkHtml;\n",
              "          element.appendChild(docLink);\n",
              "        }\n",
              "      </script>\n",
              "    </div>\n",
              "  </div>\n",
              "  "
            ]
          },
          "metadata": {},
          "execution_count": 364
        }
      ]
    },
    {
      "cell_type": "code",
      "source": [
        "x_vg_data = vg_data.loc[: , ['Publisher','Year', 'Genre', 'Platform', 'NA_Sales', 'EU_Sales']].values\n",
        "x_vg_data"
      ],
      "metadata": {
        "colab": {
          "base_uri": "https://localhost:8080/"
        },
        "id": "uH2oksum7Ah8",
        "outputId": "47191b08-8681-4dca-ea92-b405f2b22694"
      },
      "execution_count": 366,
      "outputs": [
        {
          "output_type": "execute_result",
          "data": {
            "text/plain": [
              "array([['Nintendo', 2006.0, 'Sports', 'Wii', 41.49, 29.02],\n",
              "       ['Nintendo', 1985.0, 'Platform', 'NES', 29.08, 3.58],\n",
              "       ['Nintendo', 2008.0, 'Racing', 'Wii', 15.85, 12.88],\n",
              "       ...,\n",
              "       ['Activision', 2008.0, 'Racing', 'PS2', 0.0, 0.0],\n",
              "       ['7G//AMES', 2010.0, 'Puzzle', 'DS', 0.0, 0.01],\n",
              "       ['Wanadoo', 2003.0, 'Platform', 'GBA', 0.01, 0.0]], dtype=object)"
            ]
          },
          "metadata": {},
          "execution_count": 366
        }
      ]
    },
    {
      "cell_type": "code",
      "source": [
        "label_encoder_genre = LabelEncoder()\n",
        "label_encoder_platform = LabelEncoder()\n",
        "label_encoder_publisher = LabelEncoder()"
      ],
      "metadata": {
        "id": "G0ZBl5je3lgT"
      },
      "execution_count": 367,
      "outputs": []
    },
    {
      "cell_type": "code",
      "source": [
        "x_vg_data[:, 2] = label_encoder_genre.fit_transform(x_vg_data[:, 2])\n",
        "x_vg_data[:, 3] = label_encoder_platform.fit_transform(x_vg_data[:, 3])\n",
        "x_vg_data[:, 0] = label_encoder_publisher.fit_transform(x_vg_data[:, 0])"
      ],
      "metadata": {
        "id": "TYReJmf83n_S"
      },
      "execution_count": 368,
      "outputs": []
    },
    {
      "cell_type": "code",
      "source": [
        "y_vg_data = vg_data.loc[:, 'Global_Sales']\n",
        "y_vg_data = np.array(y_vg_data)\n",
        "y_vg_data"
      ],
      "metadata": {
        "colab": {
          "base_uri": "https://localhost:8080/"
        },
        "id": "ny0VJj0G4yGu",
        "outputId": "2e66f057-ddec-484f-839a-0cc4958c2f52"
      },
      "execution_count": 369,
      "outputs": [
        {
          "output_type": "execute_result",
          "data": {
            "text/plain": [
              "array([8.274e+01, 4.024e+01, 3.582e+01, ..., 1.000e-02, 1.000e-02,\n",
              "       1.000e-02])"
            ]
          },
          "metadata": {},
          "execution_count": 369
        }
      ]
    },
    {
      "cell_type": "code",
      "source": [
        "onehotencoder_vg_data = ColumnTransformer(transformers = [('OneHot', OneHotEncoder(), [1, 2])], remainder = 'passthrough')"
      ],
      "metadata": {
        "id": "zgq9uvV-3xir"
      },
      "execution_count": 370,
      "outputs": []
    },
    {
      "cell_type": "code",
      "source": [
        "x_vg_data = onehotencoder_vg_data.fit_transform(x_vg_data)"
      ],
      "metadata": {
        "id": "w_26jwnq320f"
      },
      "execution_count": 371,
      "outputs": []
    },
    {
      "cell_type": "code",
      "source": [
        "scaler_vg_data = StandardScaler(with_mean=False)\n",
        "x_vg_data = scaler_vg_data.fit_transform(x_vg_data)\n",
        "y_vg_data = scaler_vg_data.fit_transform(y_vg_data.reshape(1,-1))"
      ],
      "metadata": {
        "id": "g8wIah_e38vm"
      },
      "execution_count": 372,
      "outputs": []
    },
    {
      "cell_type": "code",
      "source": [
        "from sklearn.model_selection import cross_val_score, KFold"
      ],
      "metadata": {
        "id": "Fogfwkwg4dO1"
      },
      "execution_count": 373,
      "outputs": []
    },
    {
      "cell_type": "code",
      "source": [
        "kfold = KFold(n_splits = 4, shuffle = True, random_state = 1)"
      ],
      "metadata": {
        "id": "5oDgSiaL5bic"
      },
      "execution_count": 374,
      "outputs": []
    },
    {
      "cell_type": "code",
      "source": [
        "from sklearn.linear_model import LinearRegression"
      ],
      "metadata": {
        "id": "LEmL3Swp5ksK"
      },
      "execution_count": 375,
      "outputs": []
    },
    {
      "cell_type": "code",
      "source": [
        "VG_Regressor = LinearRegression()"
      ],
      "metadata": {
        "id": "BwgIvLeM5mhy"
      },
      "execution_count": 376,
      "outputs": []
    },
    {
      "cell_type": "code",
      "source": [
        "x_vg_data.shape"
      ],
      "metadata": {
        "colab": {
          "base_uri": "https://localhost:8080/"
        },
        "id": "gklPZBtc56su",
        "outputId": "e426d5b9-1eb5-4ed5-a39d-e73f70714501"
      },
      "execution_count": 377,
      "outputs": [
        {
          "output_type": "execute_result",
          "data": {
            "text/plain": [
              "(16598, 56)"
            ]
          },
          "metadata": {},
          "execution_count": 377
        }
      ]
    },
    {
      "cell_type": "code",
      "source": [
        "y_vg_data = y_vg_data.reshape(-1,1)"
      ],
      "metadata": {
        "id": "sF8m-q-M59Js"
      },
      "execution_count": 378,
      "outputs": []
    },
    {
      "cell_type": "code",
      "source": [
        "scores = cross_val_score(VG_Regressor, x_vg_data, y_vg_data, cv = kfold, scoring= 'neg_mean_absolute_error')\n",
        "scores.mean() + 1"
      ],
      "metadata": {
        "colab": {
          "base_uri": "https://localhost:8080/"
        },
        "id": "ZuwUm4x24918",
        "outputId": "99458751-6a93-4330-eda1-2b89aaa8fbed"
      },
      "execution_count": 392,
      "outputs": [
        {
          "output_type": "execute_result",
          "data": {
            "text/plain": [
              "0.8913938305373902"
            ]
          },
          "metadata": {},
          "execution_count": 392
        }
      ]
    },
    {
      "cell_type": "code",
      "source": [
        "scores = cross_val_score(VG_Regressor, x_vg_data, y_vg_data, cv = kfold, scoring= 'neg_mean_absolute_error')\n",
        "scores.mean() + 1"
      ],
      "metadata": {
        "colab": {
          "base_uri": "https://localhost:8080/"
        },
        "id": "odsEQjYTCT5L",
        "outputId": "f67bad45-5725-4b83-f85b-e4c0388fc6b0"
      },
      "execution_count": 393,
      "outputs": [
        {
          "output_type": "execute_result",
          "data": {
            "text/plain": [
              "0.8913938305373902"
            ]
          },
          "metadata": {},
          "execution_count": 393
        }
      ]
    },
    {
      "cell_type": "code",
      "source": [
        "scores = cross_val_score(VG_Regressor, x_vg_data, y_vg_data, cv = kfold, scoring= 'neg_root_mean_squared_error')\n",
        "scores.mean() + 1"
      ],
      "metadata": {
        "colab": {
          "base_uri": "https://localhost:8080/"
        },
        "id": "K2lk_VrvCilS",
        "outputId": "e9e0be6d-20e6-455b-c5b7-54081b78c3ea"
      },
      "execution_count": 396,
      "outputs": [
        {
          "output_type": "execute_result",
          "data": {
            "text/plain": [
              "0.7207498798585298"
            ]
          },
          "metadata": {},
          "execution_count": 396
        }
      ]
    },
    {
      "cell_type": "code",
      "source": [
        "scores = cross_val_score(VG_Regressor, x_vg_data, y_vg_data, cv = kfold, scoring= 'r2')\n",
        "scores.mean() "
      ],
      "metadata": {
        "colab": {
          "base_uri": "https://localhost:8080/"
        },
        "id": "rGZFnB3-CcIo",
        "outputId": "5332ad00-1c0a-4904-e81f-091769831840"
      },
      "execution_count": 395,
      "outputs": [
        {
          "output_type": "execute_result",
          "data": {
            "text/plain": [
              "0.9659891530700209"
            ]
          },
          "metadata": {},
          "execution_count": 395
        }
      ]
    },
    {
      "cell_type": "code",
      "source": [
        "scores = cross_val_score(VG_Regressor, x_vg_data, y_vg_data, cv = kfold)\n",
        "scores.mean()"
      ],
      "metadata": {
        "colab": {
          "base_uri": "https://localhost:8080/"
        },
        "id": "SPLXgmWx9VTh",
        "outputId": "c5cc4cfa-6059-45a3-8b62-4f881448c763"
      },
      "execution_count": 397,
      "outputs": [
        {
          "output_type": "execute_result",
          "data": {
            "text/plain": [
              "0.9659891530700209"
            ]
          },
          "metadata": {},
          "execution_count": 397
        }
      ]
    },
    {
      "cell_type": "code",
      "source": [
        "from sklearn.linear_model import LogisticRegression"
      ],
      "metadata": {
        "id": "pxySPaeSEHxj"
      },
      "execution_count": 398,
      "outputs": []
    },
    {
      "cell_type": "code",
      "source": [
        "VG_Logistic_Regressor = LinearRegression()"
      ],
      "metadata": {
        "id": "KsdYHwnSEOfE"
      },
      "execution_count": 399,
      "outputs": []
    },
    {
      "cell_type": "code",
      "source": [
        "scores = cross_val_score(VG_Logistic_Regressor, x_vg_data, y_vg_data, cv = kfold)\n",
        "scores.mean()"
      ],
      "metadata": {
        "colab": {
          "base_uri": "https://localhost:8080/"
        },
        "id": "e7YCjypcELvj",
        "outputId": "5061f42b-c23d-418e-a121-67e4948475c8"
      },
      "execution_count": 400,
      "outputs": [
        {
          "output_type": "execute_result",
          "data": {
            "text/plain": [
              "0.9659891530700209"
            ]
          },
          "metadata": {},
          "execution_count": 400
        }
      ]
    },
    {
      "cell_type": "code",
      "source": [
        "scores = cross_val_score(VG_Logistic_Regressor, x_vg_data, y_vg_data, cv = kfold, scoring= 'neg_mean_absolute_error')\n",
        "scores.mean() + 1"
      ],
      "metadata": {
        "colab": {
          "base_uri": "https://localhost:8080/"
        },
        "id": "RTJsnOtdETeF",
        "outputId": "5e7df542-ac40-47dc-e399-28ac8a27339f"
      },
      "execution_count": 401,
      "outputs": [
        {
          "output_type": "execute_result",
          "data": {
            "text/plain": [
              "0.8913938305373902"
            ]
          },
          "metadata": {},
          "execution_count": 401
        }
      ]
    },
    {
      "cell_type": "code",
      "source": [
        "scores = cross_val_score(VG_Logistic_Regressor, x_vg_data, y_vg_data, cv = kfold, scoring= 'neg_root_mean_squared_error')\n",
        "scores.mean() + 1"
      ],
      "metadata": {
        "colab": {
          "base_uri": "https://localhost:8080/"
        },
        "id": "6w6QNGHhEX5z",
        "outputId": "46a53b0c-8f7f-4ab2-b8f4-dc003b00d9e3"
      },
      "execution_count": 402,
      "outputs": [
        {
          "output_type": "execute_result",
          "data": {
            "text/plain": [
              "0.7207498798585298"
            ]
          },
          "metadata": {},
          "execution_count": 402
        }
      ]
    }
  ]
}