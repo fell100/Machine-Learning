{
  "nbformat": 4,
  "nbformat_minor": 0,
  "metadata": {
    "colab": {
      "name": "3-MLP_BP.ipynb",
      "provenance": [],
      "collapsed_sections": [],
      "include_colab_link": true
    },
    "kernelspec": {
      "name": "python3",
      "display_name": "Python 3"
    },
    "language_info": {
      "name": "python"
    }
  },
  "cells": [
    {
      "cell_type": "markdown",
      "metadata": {
        "id": "view-in-github",
        "colab_type": "text"
      },
      "source": [
        "<a href=\"https://colab.research.google.com/github/fell100/Machine-Learning/blob/master/3_MLP_BP.ipynb\" target=\"_parent\"><img src=\"https://colab.research.google.com/assets/colab-badge.svg\" alt=\"Open In Colab\"/></a>"
      ]
    },
    {
      "cell_type": "markdown",
      "metadata": {
        "id": "6-Dv7y5KH8gC"
      },
      "source": [
        "# Importando bibliotecas"
      ]
    },
    {
      "cell_type": "code",
      "metadata": {
        "id": "9J37DQgxr5Gv"
      },
      "source": [
        "import numpy as np\n",
        "import matplotlib.pyplot as plt\n",
        "import torch "
      ],
      "execution_count": 17,
      "outputs": []
    },
    {
      "cell_type": "markdown",
      "metadata": {
        "id": "lSfD3cXyHGW6"
      },
      "source": [
        "# Descrição\n",
        "\n",
        "No último exercício verificamos a limitação em usar um modelo linear para algo mais complexo.\n",
        "\n",
        "Aqui, sem se preocupar muito com todo o código, vamos verificar o que ocorre quando temos vários elementos organizados em camadas. Isto é, elementos que representam a equação\n",
        "\n",
        "$y_i = \\alpha + \\beta X_i$\n",
        "\n",
        "servindo de entradas para outros. A ideia é que combinações mais complexas possam ser formadas em cada camada.\n",
        "\n",
        "Mais uma vez, vamos usar dados provenientes da equação \n",
        "\n",
        "$y = 3x^2+2x+1$"
      ]
    },
    {
      "cell_type": "code",
      "metadata": {
        "colab": {
          "base_uri": "https://localhost:8080/",
          "height": 265
        },
        "id": "5iYMfJlSsCL4",
        "outputId": "f8274d5a-5150-4717-91a5-4fef9ff7d98d"
      },
      "source": [
        "N = 200\n",
        "# criar o vetor x com N valores entre -2 e 2\n",
        "x = (np.random.rand(N)*4)-2\n",
        "#cria o vetor y\n",
        "y = 3*np.power(x,2)+2*x+1\n",
        "plt.plot(x,y,'xb')\n",
        "plt.grid('both')\n",
        "plt.axis([-3,3,0,15]);"
      ],
      "execution_count": 18,
      "outputs": [
        {
          "output_type": "display_data",
          "data": {
            "text/plain": [
              "<Figure size 432x288 with 1 Axes>"
            ],
            "image/png": "[encoded data removed]"
          },
          "metadata": {
            "needs_background": "light"
          }
        }
      ]
    },
    {
      "cell_type": "markdown",
      "metadata": {
        "id": "Se4FgKD1tgnJ"
      },
      "source": [
        "Nesse experimento, vamos fazer algo novo, mas muito usual. Vamos criar os dados e dividi-los em dados de treinamento e teste. \n",
        "\n",
        "Isso serve para verificar se o modelo foi capaz de generalizar."
      ]
    },
    {
      "cell_type": "code",
      "metadata": {
        "id": "lR6ranOr0Jw6",
        "colab": {
          "base_uri": "https://localhost:8080/"
        },
        "outputId": "efcb3c16-bd29-460d-ddd8-adc972fb7984"
      },
      "source": [
        "nTreinamento = int(0.7*N) # colocar 70% dos dados para treinamento\n",
        "x_train = np.array(x[0:nTreinamento],dtype=np.float32)\n",
        "x_train = x_train.reshape(-1,1)\n",
        "\n",
        "y_train = np.array(y[0:nTreinamento],dtype=np.float32)\n",
        "y_train = y_train.reshape(-1,1)\n",
        "\n",
        "x_test= np.array(x[nTreinamento:],dtype=np.float32)\n",
        "x_test = x_test.reshape(-1,1)\n",
        "\n",
        "y_test= np.array(y[nTreinamento:],dtype=np.float32)\n",
        "y_test = y_test.reshape(-1,1)\n",
        "\n",
        "nInputs = 1\n",
        "nHidden = 3\n",
        "nOutput = 1\n",
        "learningRate=0.01\n",
        "model = torch.nn.Sequential(\n",
        "    torch.nn.Linear(nInputs, nHidden),\n",
        "    torch.nn.Linear(nHidden, nOutput)\n",
        "    )  \n",
        "criterion = torch.nn.MSELoss() \n",
        "optimizer = torch.optim.SGD(model.parameters(), lr=learningRate)   \n",
        "print(model)"
      ],
      "execution_count": 19,
      "outputs": [
        {
          "output_type": "stream",
          "name": "stdout",
          "text": [
            "Sequential(\n",
            "  (0): Linear(in_features=1, out_features=3, bias=True)\n",
            "  (1): Linear(in_features=3, out_features=1, bias=True)\n",
            ")\n"
          ]
        }
      ]
    },
    {
      "cell_type": "markdown",
      "metadata": {
        "id": "nBwOCLQJleRY"
      },
      "source": [
        "Você percebeu um novo recurso sendo usado, o Sequential.\n",
        "\n",
        "\n",
        "\n",
        "```\n",
        "model = torch.nn.Sequential(\n",
        "    torch.nn.Linear(nInputs, nHidden),\n",
        "    torch.nn.Linear(nHidden, nOutput)\n",
        "    ) \n",
        "```\n",
        "\n",
        "O *Sequential* permite declararmos as operações que serão executadas em sequência. Nesse código, temos uma camada de 1 entrada com 3 saídas que gera 3 valores (equação linear) que serão usados como entradas da próxima camada, que gera uma saída apenas.\n",
        "\n",
        "Nesse ponto, alguns de vocês devem ter percebido que:\n",
        "1.   existe algo de estranho nessa estratégia\n",
        "2.   estamos adicionando camadas e nos aproximando de deep learning.\n",
        "\n",
        "\n"
      ]
    },
    {
      "cell_type": "code",
      "metadata": {
        "colab": {
          "base_uri": "https://localhost:8080/"
        },
        "id": "-U94_GT9TQHv",
        "outputId": "16b68506-1424-43c8-e45e-76e1e4705a98"
      },
      "source": [
        "if torch.cuda.is_available():\n",
        "  model.cuda()\n",
        "  print('Ueba! Vamos de GPU')\n",
        "else:\n",
        "  print('Ok. Vamos de CPU')"
      ],
      "execution_count": 20,
      "outputs": [
        {
          "output_type": "stream",
          "name": "stdout",
          "text": [
            "Ok. Vamos de CPU\n"
          ]
        }
      ]
    },
    {
      "cell_type": "code",
      "metadata": {
        "colab": {
          "base_uri": "https://localhost:8080/"
        },
        "id": "ttBig1lQVT7h",
        "outputId": "4c67d7a6-7fc0-4969-9c73-25e65ae94434"
      },
      "source": [
        "def train_model(nEpochs = 10):\n",
        "  errors=[]\n",
        "  for epoch in range(nEpochs):\n",
        "    if torch.cuda.is_available():\n",
        "      inputs = torch.tensor(x_train).to('cuda')\n",
        "      targets = torch.tensor(y_train).to('cuda')\n",
        "    else:\n",
        "      inputs = torch.tensor(x_train) \n",
        "      targets = torch.tensor(y_train)    \n",
        "    # A linha abaixo zera os gradientes calculados anteriormente, para não acumular informações\n",
        "    optimizer.zero_grad()\n",
        "    # calculamos a saída da rede\n",
        "    outputs = model(inputs)\n",
        "    # calcula o erro\n",
        "    loss = criterion(outputs, targets)\n",
        "    # calcula os gradientes\n",
        "    loss.backward()\n",
        "    # atualiza parâmetros \n",
        "    optimizer.step()\n",
        "    errors.append(loss.item())\n",
        "    if(not epoch%100):\n",
        "      print('Epoch:' + str(epoch) + ' errors: ' + str(loss.item()))\n",
        "  return errors\n",
        "\n",
        "errors = train_model(100) "
      ],
      "execution_count": 21,
      "outputs": [
        {
          "output_type": "stream",
          "name": "stdout",
          "text": [
            "Epoch:0 errors: 43.712066650390625\n"
          ]
        }
      ]
    },
    {
      "cell_type": "markdown",
      "metadata": {
        "id": "YQrJj6ABXGBg"
      },
      "source": [
        "Observando o gráfico, percebemos que o erro caiu. Porém, não tanto quanto no exercício anterior."
      ]
    },
    {
      "cell_type": "code",
      "metadata": {
        "colab": {
          "base_uri": "https://localhost:8080/",
          "height": 285
        },
        "id": "jYCMRaXkYbgm",
        "outputId": "d4a4800a-1bd1-450c-a9bb-d4ebe7ccf2b8"
      },
      "source": [
        "plt.plot(errors)"
      ],
      "execution_count": 22,
      "outputs": [
        {
          "output_type": "execute_result",
          "data": {
            "text/plain": [
              "[<matplotlib.lines.Line2D at 0x7fe2bd41dd50>]"
            ]
          },
          "metadata": {},
          "execution_count": 22
        },
        {
          "output_type": "display_data",
          "data": {
            "text/plain": [
              "<Figure size 432x288 with 1 Axes>"
            ],
            "image/png": "[encoded data removed]"
          },
          "metadata": {
            "needs_background": "light"
          }
        }
      ]
    },
    {
      "cell_type": "markdown",
      "metadata": {
        "id": "Q1T-7yZLY76l"
      },
      "source": [
        "Podemos verificar a falha plotando o gráfico de x versus a saída do modelo para esses valores.\n"
      ]
    },
    {
      "cell_type": "code",
      "metadata": {
        "colab": {
          "base_uri": "https://localhost:8080/",
          "height": 267
        },
        "id": "b-iSfAob1tsc",
        "outputId": "b7eaeeb8-b825-4079-9e3d-905446fb32c4"
      },
      "source": [
        "with torch.no_grad():# isso desabilita o cálculo de gradientes\n",
        "  if torch.cuda.is_available():\n",
        "    entradas = torch.tensor(x_train).to('cuda')\n",
        "  else:\n",
        "    entradas = torch.tensor(x_train)\n",
        "  saidas = model(entradas)\n",
        "\n",
        "plt.clf()\n",
        "plt.plot(x_train, y_train, 'xb', label='Dados reais', lw=5)\n",
        "plt.plot(x_train, saidas, 'ko', label='Saída do modelo')\n",
        "plt.legend(loc='best')\n",
        "plt.show()"
      ],
      "execution_count": 23,
      "outputs": [
        {
          "output_type": "display_data",
          "data": {
            "text/plain": [
              "<Figure size 432x288 with 1 Axes>"
            ],
            "image/png": "[encoded data removed]"
          },
          "metadata": {
            "needs_background": "light"
          }
        }
      ]
    },
    {
      "cell_type": "markdown",
      "metadata": {
        "id": "qciLELcpaqeX"
      },
      "source": [
        "\n",
        "\n",
        "Como indicado anteriormente, essa estratégia não faz muito sentido pois, colocando mais elementos lineares em cascata, continuamos com uma equação linear.\n",
        "\n",
        "Aqui entra um ponto crítico das redes neurais: adicionar a não linearidade. Isso pode ser feito, incluindo uma função de ativação não-linear. Vamos trabalhar com a sigmoide."
      ]
    },
    {
      "cell_type": "code",
      "metadata": {
        "colab": {
          "base_uri": "https://localhost:8080/",
          "height": 265
        },
        "id": "sK-ycj0kbbNG",
        "outputId": "0baf195c-a0c7-4493-dc5f-f8b990b1f437"
      },
      "source": [
        "def sigmoid(x):\n",
        "    \"\"\"\n",
        "    Calculate sigmoid\n",
        "    \"\"\"\n",
        "    return 1 / (1 + np.exp(-x))\n",
        "xt = np.linspace(-10,10,100)\n",
        "yt = sigmoid(xt)\n",
        "\n",
        "plt.plot(xt,yt)\n",
        "plt.grid('both')"
      ],
      "execution_count": 24,
      "outputs": [
        {
          "output_type": "display_data",
          "data": {
            "text/plain": [
              "<Figure size 432x288 with 1 Axes>"
            ],
            "image/png": "[encoded data removed]"
          },
          "metadata": {
            "needs_background": "light"
          }
        }
      ]
    },
    {
      "cell_type": "markdown",
      "metadata": {
        "id": "Pt7g9EDepe_z"
      },
      "source": [
        "Felizmente, não é necessário declarar uma função. O Pytorch já oferece essa e outras funções. Vamos inclui-lá usando *Sequential*"
      ]
    },
    {
      "cell_type": "code",
      "metadata": {
        "colab": {
          "base_uri": "https://localhost:8080/"
        },
        "id": "FKsDT-ZyopK9",
        "outputId": "895f1ab4-cbef-4da2-c6b4-b1fea676567d"
      },
      "source": [
        "nInputs = 1\n",
        "nHidden = 4\n",
        "nOutput = 1\n",
        "model = torch.nn.Sequential(\n",
        "    torch.nn.Linear(nInputs, nHidden),\n",
        "    torch.nn.Sigmoid(),\n",
        "    torch.nn.Linear(nHidden, nOutput)\n",
        "    )  \n",
        "criterion = torch.nn.MSELoss() \n",
        "optimizer = torch.optim.SGD(model.parameters(), lr=learningRate)   \n",
        "print(model)"
      ],
      "execution_count": 25,
      "outputs": [
        {
          "output_type": "stream",
          "name": "stdout",
          "text": [
            "Sequential(\n",
            "  (0): Linear(in_features=1, out_features=4, bias=True)\n",
            "  (1): Sigmoid()\n",
            "  (2): Linear(in_features=4, out_features=1, bias=True)\n",
            ")\n"
          ]
        }
      ]
    },
    {
      "cell_type": "markdown",
      "metadata": {
        "id": "P-jkJ1YiqFwR"
      },
      "source": [
        "Por fim, vamos treinar a rede, visualizar os erros e os valores gerados."
      ]
    },
    {
      "cell_type": "code",
      "metadata": {
        "colab": {
          "base_uri": "https://localhost:8080/",
          "height": 1000
        },
        "id": "bfmbyJQdylPh",
        "outputId": "2211b660-165c-4b74-c33f-9c2aacbd8345"
      },
      "source": [
        "errors = train_model(5000) \n",
        "plt.plot(errors)\n",
        "plt.show()\n",
        "with torch.no_grad():# isso desabilita o cálculo de gradientes\n",
        "  if torch.cuda.is_available():\n",
        "    entradas = torch.tensor(x_train).to('cuda')\n",
        "  else:\n",
        "    entradas = torch.tensor(x_train)\n",
        "  saidas = model(entradas)\n",
        "\n",
        "plt.clf()\n",
        "plt.plot(x_train, y_train, 'xb', label='Dados reais', lw=5)\n",
        "plt.plot(x_train, saidas, 'ko', label='Saída do modelo')\n",
        "plt.legend(loc='best')\n",
        "plt.show()"
      ],
      "execution_count": null,
      "outputs": [
        {
          "output_type": "stream",
          "text": [
            "Epoch:0 errors: 40.3276481628418\n",
            "Epoch:100 errors: 13.09768295288086\n",
            "Epoch:200 errors: 10.121708869934082\n",
            "Epoch:300 errors: 7.900350570678711\n",
            "Epoch:400 errors: 6.412769317626953\n",
            "Epoch:500 errors: 5.385917663574219\n",
            "Epoch:600 errors: 4.625550746917725\n",
            "Epoch:700 errors: 4.019202709197998\n",
            "Epoch:800 errors: 3.510488748550415\n",
            "Epoch:900 errors: 3.0722155570983887\n",
            "Epoch:1000 errors: 2.6896255016326904\n",
            "Epoch:1100 errors: 2.354200839996338\n",
            "Epoch:1200 errors: 2.060786008834839\n",
            "Epoch:1300 errors: 1.8055758476257324\n",
            "Epoch:1400 errors: 1.5849946737289429\n",
            "Epoch:1500 errors: 1.3953369855880737\n",
            "Epoch:1600 errors: 1.2328182458877563\n",
            "Epoch:1700 errors: 1.0937477350234985\n",
            "Epoch:1800 errors: 0.9746853709220886\n",
            "Epoch:1900 errors: 0.8725418448448181\n",
            "Epoch:2000 errors: 0.7846242785453796\n",
            "Epoch:2100 errors: 0.7086302638053894\n",
            "Epoch:2200 errors: 0.6426241397857666\n",
            "Epoch:2300 errors: 0.5849947929382324\n",
            "Epoch:2400 errors: 0.5344157218933105\n",
            "Epoch:2500 errors: 0.4898050129413605\n",
            "Epoch:2600 errors: 0.4502882957458496\n",
            "Epoch:2700 errors: 0.41516587138175964\n",
            "Epoch:2800 errors: 0.3838740587234497\n",
            "Epoch:2900 errors: 0.3559522330760956\n",
            "Epoch:3000 errors: 0.3310084342956543\n",
            "Epoch:3100 errors: 0.30869680643081665\n",
            "Epoch:3200 errors: 0.28870508074760437\n",
            "Epoch:3300 errors: 0.2707511782646179\n",
            "Epoch:3400 errors: 0.2545829117298126\n",
            "Epoch:3500 errors: 0.2399815171957016\n",
            "Epoch:3600 errors: 0.2267548143863678\n",
            "Epoch:3700 errors: 0.21473906934261322\n",
            "Epoch:3800 errors: 0.20379294455051422\n",
            "Epoch:3900 errors: 0.19379575550556183\n",
            "Epoch:4000 errors: 0.18464292585849762\n",
            "Epoch:4100 errors: 0.17624396085739136\n",
            "Epoch:4200 errors: 0.16852010786533356\n",
            "Epoch:4300 errors: 0.1614026129245758\n",
            "Epoch:4400 errors: 0.15483109652996063\n",
            "Epoch:4500 errors: 0.14875230193138123\n",
            "Epoch:4600 errors: 0.14311936497688293\n",
            "Epoch:4700 errors: 0.1378905177116394\n",
            "Epoch:4800 errors: 0.13302843272686005\n",
            "Epoch:4900 errors: 0.12850046157836914\n"
          ],
          "name": "stdout"
        },
        {
          "output_type": "display_data",
          "data": {
            "image/png": "[encoded data removed]",
            "text/plain": [
              "<Figure size 432x288 with 1 Axes>"
            ]
          },
          "metadata": {
            "tags": [],
            "needs_background": "light"
          }
        },
        {
          "output_type": "display_data",
          "data": {
            "image/png": "[encoded data removed]",
            "text/plain": [
              "<Figure size 432x288 with 1 Axes>"
            ]
          },
          "metadata": {
            "tags": [],
            "needs_background": "light"
          }
        }
      ]
    },
    {
      "cell_type": "markdown",
      "metadata": {
        "id": "el3z7Xlsrogp"
      },
      "source": [
        "Foi um bom resultado? Para o treinamento, ***talvez***. A rede é inicializada com pesos randômicos e é possível que tenha alcançado um mínimo local em que apenas parte dos dados tenha sido previsto com boa precisão. \n",
        "\n",
        "Você deve ter notado também que foram necessárias milhares de épocas para alcançar algo decente. E ainda estamos falando de um problema artificial extremamente simples.\n",
        "\n",
        "Além disso, é necessário verificar o comportamento para dados não observados."
      ]
    },
    {
      "cell_type": "code",
      "metadata": {
        "colab": {
          "base_uri": "https://localhost:8080/",
          "height": 281
        },
        "id": "kDVj_VI5si8M",
        "outputId": "d7511555-c015-4daa-eef9-0582e73e24d0"
      },
      "source": [
        "with torch.no_grad():# isso desabilita o cálculo de gradientes\n",
        "  if torch.cuda.is_available():\n",
        "    entradas = torch.tensor(x_test).to('cuda')\n",
        "    targets = torch.tensor(y_test).to('cuda')\n",
        "  else:\n",
        "    entradas = torch.tensor(x_test)\n",
        "    targets = torch.tensor(y_test)\n",
        "  saidas = model(entradas)\n",
        "\n",
        "loss = criterion(saidas,targets)\n",
        "plt.clf()\n",
        "plt.plot(x_test, y_test, 'xb', label='Dados reais', lw=5)\n",
        "plt.plot(x_test, saidas, 'ko', label='Saída do modelo')\n",
        "plt.legend(loc='best')\n",
        "plt.title('Erro: ' + str(loss.item()))\n",
        "plt.show()"
      ],
      "execution_count": null,
      "outputs": [
        {
          "output_type": "display_data",
          "data": {
            "image/png": "[encoded data removed]",
            "text/plain": [
              "<Figure size 432x288 with 1 Axes>"
            ]
          },
          "metadata": {
            "tags": [],
            "needs_background": "light"
          }
        }
      ]
    },
    {
      "cell_type": "markdown",
      "metadata": {
        "id": "BWKnfm8-xu34"
      },
      "source": [
        "Durante a preparação deste notbook, o erro para dados desconhecidos foi aceitável. Tenha em mente que, quase sempre, o erro obtido no treinamento será inferior ao erro para dados desconhecidos.\n",
        "Vá em frente e brinque um pouco. Adicione mais camadas, modifique a taxa de aprendizagem, número de épocas e neurônios nas camadas escondidas."
      ]
    },
    {
      "cell_type": "markdown",
      "metadata": {
        "id": "-WResTqZ4MlV"
      },
      "source": [
        "## **O que vimos**\n",
        "\n",
        "A abordagem multicamada, incluindo a não linearidade necessária para aproximar uma função.\n",
        "\n",
        "## **Do Pytorch**\n",
        "torch.nn.Sequential()\n",
        "\n",
        "torch.nn.Sigmoid()\n"
      ]
    }
  ]
}