{
  "nbformat": 4,
  "nbformat_minor": 0,
  "metadata": {
    "colab": {
      "name": "Felipe_Miranda_MNIST.ipynb",
      "provenance": [],
      "collapsed_sections": [],
      "include_colab_link": true
    },
    "kernelspec": {
      "name": "python3",
      "display_name": "Python 3"
    },
    "language_info": {
      "name": "python"
    },
    "widgets": {
      "application/vnd.jupyter.widget-state+json": {
        "b7706f9666f54966aa8470026e7444a4": {
          "model_module": "@jupyter-widgets/controls",
          "model_name": "HBoxModel",
          "model_module_version": "1.5.0",
          "state": {
            "_dom_classes": [],
            "_model_module": "@jupyter-widgets/controls",
            "_model_module_version": "1.5.0",
            "_model_name": "HBoxModel",
            "_view_count": null,
            "_view_module": "@jupyter-widgets/controls",
            "_view_module_version": "1.5.0",
            "_view_name": "HBoxView",
            "box_style": "",
            "children": [
              "IPY_MODEL_43d30794cf084ac89be813485270db0e",
              "IPY_MODEL_2a475f553d694280afce76943983c5c7",
              "IPY_MODEL_705667933e334f8ebd6f33ed610293a8"
            ],
            "layout": "IPY_MODEL_60cd1da09edf438ea1108d8235b38d0c"
          }
        },
        "43d30794cf084ac89be813485270db0e": {
          "model_module": "@jupyter-widgets/controls",
          "model_name": "HTMLModel",
          "model_module_version": "1.5.0",
          "state": {
            "_dom_classes": [],
            "_model_module": "@jupyter-widgets/controls",
            "_model_module_version": "1.5.0",
            "_model_name": "HTMLModel",
            "_view_count": null,
            "_view_module": "@jupyter-widgets/controls",
            "_view_module_version": "1.5.0",
            "_view_name": "HTMLView",
            "description": "",
            "description_tooltip": null,
            "layout": "IPY_MODEL_316566907b1f438597903abe56ef830a",
            "placeholder": "​",
            "style": "IPY_MODEL_4b0001ddde4c4f2aaceb280b9f1ef8c1",
            "value": ""
          }
        },
        "2a475f553d694280afce76943983c5c7": {
          "model_module": "@jupyter-widgets/controls",
          "model_name": "FloatProgressModel",
          "model_module_version": "1.5.0",
          "state": {
            "_dom_classes": [],
            "_model_module": "@jupyter-widgets/controls",
            "_model_module_version": "1.5.0",
            "_model_name": "FloatProgressModel",
            "_view_count": null,
            "_view_module": "@jupyter-widgets/controls",
            "_view_module_version": "1.5.0",
            "_view_name": "ProgressView",
            "bar_style": "success",
            "description": "",
            "description_tooltip": null,
            "layout": "IPY_MODEL_9fe4e5b019ff4960bd2c6ab77b1618aa",
            "max": 26421880,
            "min": 0,
            "orientation": "horizontal",
            "style": "IPY_MODEL_4ee52f911ebc4d52a091de28cd41bfa4",
            "value": 26421880
          }
        },
        "705667933e334f8ebd6f33ed610293a8": {
          "model_module": "@jupyter-widgets/controls",
          "model_name": "HTMLModel",
          "model_module_version": "1.5.0",
          "state": {
            "_dom_classes": [],
            "_model_module": "@jupyter-widgets/controls",
            "_model_module_version": "1.5.0",
            "_model_name": "HTMLModel",
            "_view_count": null,
            "_view_module": "@jupyter-widgets/controls",
            "_view_module_version": "1.5.0",
            "_view_name": "HTMLView",
            "description": "",
            "description_tooltip": null,
            "layout": "IPY_MODEL_ffdbfe64d49d4f6fb2e53657064b4c26",
            "placeholder": "​",
            "style": "IPY_MODEL_794bbd33409e47a580142867ff2e8165",
            "value": " 26422272/? [00:01&lt;00:00, 22011102.37it/s]"
          }
        },
        "60cd1da09edf438ea1108d8235b38d0c": {
          "model_module": "@jupyter-widgets/base",
          "model_name": "LayoutModel",
          "model_module_version": "1.2.0",
          "state": {
            "_model_module": "@jupyter-widgets/base",
            "_model_module_version": "1.2.0",
            "_model_name": "LayoutModel",
            "_view_count": null,
            "_view_module": "@jupyter-widgets/base",
            "_view_module_version": "1.2.0",
            "_view_name": "LayoutView",
            "align_content": null,
            "align_items": null,
            "align_self": null,
            "border": null,
            "bottom": null,
            "display": null,
            "flex": null,
            "flex_flow": null,
            "grid_area": null,
            "grid_auto_columns": null,
            "grid_auto_flow": null,
            "grid_auto_rows": null,
            "grid_column": null,
            "grid_gap": null,
            "grid_row": null,
            "grid_template_areas": null,
            "grid_template_columns": null,
            "grid_template_rows": null,
            "height": null,
            "justify_content": null,
            "justify_items": null,
            "left": null,
            "margin": null,
            "max_height": null,
            "max_width": null,
            "min_height": null,
            "min_width": null,
            "object_fit": null,
            "object_position": null,
            "order": null,
            "overflow": null,
            "overflow_x": null,
            "overflow_y": null,
            "padding": null,
            "right": null,
            "top": null,
            "visibility": null,
            "width": null
          }
        },
        "316566907b1f438597903abe56ef830a": {
          "model_module": "@jupyter-widgets/base",
          "model_name": "LayoutModel",
          "model_module_version": "1.2.0",
          "state": {
            "_model_module": "@jupyter-widgets/base",
            "_model_module_version": "1.2.0",
            "_model_name": "LayoutModel",
            "_view_count": null,
            "_view_module": "@jupyter-widgets/base",
            "_view_module_version": "1.2.0",
            "_view_name": "LayoutView",
            "align_content": null,
            "align_items": null,
            "align_self": null,
            "border": null,
            "bottom": null,
            "display": null,
            "flex": null,
            "flex_flow": null,
            "grid_area": null,
            "grid_auto_columns": null,
            "grid_auto_flow": null,
            "grid_auto_rows": null,
            "grid_column": null,
            "grid_gap": null,
            "grid_row": null,
            "grid_template_areas": null,
            "grid_template_columns": null,
            "grid_template_rows": null,
            "height": null,
            "justify_content": null,
            "justify_items": null,
            "left": null,
            "margin": null,
            "max_height": null,
            "max_width": null,
            "min_height": null,
            "min_width": null,
            "object_fit": null,
            "object_position": null,
            "order": null,
            "overflow": null,
            "overflow_x": null,
            "overflow_y": null,
            "padding": null,
            "right": null,
            "top": null,
            "visibility": null,
            "width": null
          }
        },
        "4b0001ddde4c4f2aaceb280b9f1ef8c1": {
          "model_module": "@jupyter-widgets/controls",
          "model_name": "DescriptionStyleModel",
          "model_module_version": "1.5.0",
          "state": {
            "_model_module": "@jupyter-widgets/controls",
            "_model_module_version": "1.5.0",
            "_model_name": "DescriptionStyleModel",
            "_view_count": null,
            "_view_module": "@jupyter-widgets/base",
            "_view_module_version": "1.2.0",
            "_view_name": "StyleView",
            "description_width": ""
          }
        },
        "9fe4e5b019ff4960bd2c6ab77b1618aa": {
          "model_module": "@jupyter-widgets/base",
          "model_name": "LayoutModel",
          "model_module_version": "1.2.0",
          "state": {
            "_model_module": "@jupyter-widgets/base",
            "_model_module_version": "1.2.0",
            "_model_name": "LayoutModel",
            "_view_count": null,
            "_view_module": "@jupyter-widgets/base",
            "_view_module_version": "1.2.0",
            "_view_name": "LayoutView",
            "align_content": null,
            "align_items": null,
            "align_self": null,
            "border": null,
            "bottom": null,
            "display": null,
            "flex": null,
            "flex_flow": null,
            "grid_area": null,
            "grid_auto_columns": null,
            "grid_auto_flow": null,
            "grid_auto_rows": null,
            "grid_column": null,
            "grid_gap": null,
            "grid_row": null,
            "grid_template_areas": null,
            "grid_template_columns": null,
            "grid_template_rows": null,
            "height": null,
            "justify_content": null,
            "justify_items": null,
            "left": null,
            "margin": null,
            "max_height": null,
            "max_width": null,
            "min_height": null,
            "min_width": null,
            "object_fit": null,
            "object_position": null,
            "order": null,
            "overflow": null,
            "overflow_x": null,
            "overflow_y": null,
            "padding": null,
            "right": null,
            "top": null,
            "visibility": null,
            "width": null
          }
        },
        "4ee52f911ebc4d52a091de28cd41bfa4": {
          "model_module": "@jupyter-widgets/controls",
          "model_name": "ProgressStyleModel",
          "model_module_version": "1.5.0",
          "state": {
            "_model_module": "@jupyter-widgets/controls",
            "_model_module_version": "1.5.0",
            "_model_name": "ProgressStyleModel",
            "_view_count": null,
            "_view_module": "@jupyter-widgets/base",
            "_view_module_version": "1.2.0",
            "_view_name": "StyleView",
            "bar_color": null,
            "description_width": ""
          }
        },
        "ffdbfe64d49d4f6fb2e53657064b4c26": {
          "model_module": "@jupyter-widgets/base",
          "model_name": "LayoutModel",
          "model_module_version": "1.2.0",
          "state": {
            "_model_module": "@jupyter-widgets/base",
            "_model_module_version": "1.2.0",
            "_model_name": "LayoutModel",
            "_view_count": null,
            "_view_module": "@jupyter-widgets/base",
            "_view_module_version": "1.2.0",
            "_view_name": "LayoutView",
            "align_content": null,
            "align_items": null,
            "align_self": null,
            "border": null,
            "bottom": null,
            "display": null,
            "flex": null,
            "flex_flow": null,
            "grid_area": null,
            "grid_auto_columns": null,
            "grid_auto_flow": null,
            "grid_auto_rows": null,
            "grid_column": null,
            "grid_gap": null,
            "grid_row": null,
            "grid_template_areas": null,
            "grid_template_columns": null,
            "grid_template_rows": null,
            "height": null,
            "justify_content": null,
            "justify_items": null,
            "left": null,
            "margin": null,
            "max_height": null,
            "max_width": null,
            "min_height": null,
            "min_width": null,
            "object_fit": null,
            "object_position": null,
            "order": null,
            "overflow": null,
            "overflow_x": null,
            "overflow_y": null,
            "padding": null,
            "right": null,
            "top": null,
            "visibility": null,
            "width": null
          }
        },
        "794bbd33409e47a580142867ff2e8165": {
          "model_module": "@jupyter-widgets/controls",
          "model_name": "DescriptionStyleModel",
          "model_module_version": "1.5.0",
          "state": {
            "_model_module": "@jupyter-widgets/controls",
            "_model_module_version": "1.5.0",
            "_model_name": "DescriptionStyleModel",
            "_view_count": null,
            "_view_module": "@jupyter-widgets/base",
            "_view_module_version": "1.2.0",
            "_view_name": "StyleView",
            "description_width": ""
          }
        },
        "d65bdd40642b4dfe8e4c45cff3c306e6": {
          "model_module": "@jupyter-widgets/controls",
          "model_name": "HBoxModel",
          "model_module_version": "1.5.0",
          "state": {
            "_dom_classes": [],
            "_model_module": "@jupyter-widgets/controls",
            "_model_module_version": "1.5.0",
            "_model_name": "HBoxModel",
            "_view_count": null,
            "_view_module": "@jupyter-widgets/controls",
            "_view_module_version": "1.5.0",
            "_view_name": "HBoxView",
            "box_style": "",
            "children": [
              "IPY_MODEL_683b5f1257384572b6d4c1ed5b7983e5",
              "IPY_MODEL_82aa9b8dbe0d475b850a81127434a759",
              "IPY_MODEL_8f00a78b699a470b8b8c0088d327aad1"
            ],
            "layout": "IPY_MODEL_ee7e42b794e244cabde16081e2d0984b"
          }
        },
        "683b5f1257384572b6d4c1ed5b7983e5": {
          "model_module": "@jupyter-widgets/controls",
          "model_name": "HTMLModel",
          "model_module_version": "1.5.0",
          "state": {
            "_dom_classes": [],
            "_model_module": "@jupyter-widgets/controls",
            "_model_module_version": "1.5.0",
            "_model_name": "HTMLModel",
            "_view_count": null,
            "_view_module": "@jupyter-widgets/controls",
            "_view_module_version": "1.5.0",
            "_view_name": "HTMLView",
            "description": "",
            "description_tooltip": null,
            "layout": "IPY_MODEL_86b931c17038450da22836f14a7276a1",
            "placeholder": "​",
            "style": "IPY_MODEL_13db2df7d58440eead445cd98db2a489",
            "value": ""
          }
        },
        "82aa9b8dbe0d475b850a81127434a759": {
          "model_module": "@jupyter-widgets/controls",
          "model_name": "FloatProgressModel",
          "model_module_version": "1.5.0",
          "state": {
            "_dom_classes": [],
            "_model_module": "@jupyter-widgets/controls",
            "_model_module_version": "1.5.0",
            "_model_name": "FloatProgressModel",
            "_view_count": null,
            "_view_module": "@jupyter-widgets/controls",
            "_view_module_version": "1.5.0",
            "_view_name": "ProgressView",
            "bar_style": "success",
            "description": "",
            "description_tooltip": null,
            "layout": "IPY_MODEL_408ddb54806141498a04746504cc8256",
            "max": 29515,
            "min": 0,
            "orientation": "horizontal",
            "style": "IPY_MODEL_07a112d043b24ea6ad122b339701ee2b",
            "value": 29515
          }
        },
        "8f00a78b699a470b8b8c0088d327aad1": {
          "model_module": "@jupyter-widgets/controls",
          "model_name": "HTMLModel",
          "model_module_version": "1.5.0",
          "state": {
            "_dom_classes": [],
            "_model_module": "@jupyter-widgets/controls",
            "_model_module_version": "1.5.0",
            "_model_name": "HTMLModel",
            "_view_count": null,
            "_view_module": "@jupyter-widgets/controls",
            "_view_module_version": "1.5.0",
            "_view_name": "HTMLView",
            "description": "",
            "description_tooltip": null,
            "layout": "IPY_MODEL_a902b721dc954bbbb6c577fec3120898",
            "placeholder": "​",
            "style": "IPY_MODEL_95e726ce9a184728b26a65edf37949ee",
            "value": " 29696/? [00:00&lt;00:00, 8037.92it/s]"
          }
        },
        "ee7e42b794e244cabde16081e2d0984b": {
          "model_module": "@jupyter-widgets/base",
          "model_name": "LayoutModel",
          "model_module_version": "1.2.0",
          "state": {
            "_model_module": "@jupyter-widgets/base",
            "_model_module_version": "1.2.0",
            "_model_name": "LayoutModel",
            "_view_count": null,
            "_view_module": "@jupyter-widgets/base",
            "_view_module_version": "1.2.0",
            "_view_name": "LayoutView",
            "align_content": null,
            "align_items": null,
            "align_self": null,
            "border": null,
            "bottom": null,
            "display": null,
            "flex": null,
            "flex_flow": null,
            "grid_area": null,
            "grid_auto_columns": null,
            "grid_auto_flow": null,
            "grid_auto_rows": null,
            "grid_column": null,
            "grid_gap": null,
            "grid_row": null,
            "grid_template_areas": null,
            "grid_template_columns": null,
            "grid_template_rows": null,
            "height": null,
            "justify_content": null,
            "justify_items": null,
            "left": null,
            "margin": null,
            "max_height": null,
            "max_width": null,
            "min_height": null,
            "min_width": null,
            "object_fit": null,
            "object_position": null,
            "order": null,
            "overflow": null,
            "overflow_x": null,
            "overflow_y": null,
            "padding": null,
            "right": null,
            "top": null,
            "visibility": null,
            "width": null
          }
        },
        "86b931c17038450da22836f14a7276a1": {
          "model_module": "@jupyter-widgets/base",
          "model_name": "LayoutModel",
          "model_module_version": "1.2.0",
          "state": {
            "_model_module": "@jupyter-widgets/base",
            "_model_module_version": "1.2.0",
            "_model_name": "LayoutModel",
            "_view_count": null,
            "_view_module": "@jupyter-widgets/base",
            "_view_module_version": "1.2.0",
            "_view_name": "LayoutView",
            "align_content": null,
            "align_items": null,
            "align_self": null,
            "border": null,
            "bottom": null,
            "display": null,
            "flex": null,
            "flex_flow": null,
            "grid_area": null,
            "grid_auto_columns": null,
            "grid_auto_flow": null,
            "grid_auto_rows": null,
            "grid_column": null,
            "grid_gap": null,
            "grid_row": null,
            "grid_template_areas": null,
            "grid_template_columns": null,
            "grid_template_rows": null,
            "height": null,
            "justify_content": null,
            "justify_items": null,
            "left": null,
            "margin": null,
            "max_height": null,
            "max_width": null,
            "min_height": null,
            "min_width": null,
            "object_fit": null,
            "object_position": null,
            "order": null,
            "overflow": null,
            "overflow_x": null,
            "overflow_y": null,
            "padding": null,
            "right": null,
            "top": null,
            "visibility": null,
            "width": null
          }
        },
        "13db2df7d58440eead445cd98db2a489": {
          "model_module": "@jupyter-widgets/controls",
          "model_name": "DescriptionStyleModel",
          "model_module_version": "1.5.0",
          "state": {
            "_model_module": "@jupyter-widgets/controls",
            "_model_module_version": "1.5.0",
            "_model_name": "DescriptionStyleModel",
            "_view_count": null,
            "_view_module": "@jupyter-widgets/base",
            "_view_module_version": "1.2.0",
            "_view_name": "StyleView",
            "description_width": ""
          }
        },
        "408ddb54806141498a04746504cc8256": {
          "model_module": "@jupyter-widgets/base",
          "model_name": "LayoutModel",
          "model_module_version": "1.2.0",
          "state": {
            "_model_module": "@jupyter-widgets/base",
            "_model_module_version": "1.2.0",
            "_model_name": "LayoutModel",
            "_view_count": null,
            "_view_module": "@jupyter-widgets/base",
            "_view_module_version": "1.2.0",
            "_view_name": "LayoutView",
            "align_content": null,
            "align_items": null,
            "align_self": null,
            "border": null,
            "bottom": null,
            "display": null,
            "flex": null,
            "flex_flow": null,
            "grid_area": null,
            "grid_auto_columns": null,
            "grid_auto_flow": null,
            "grid_auto_rows": null,
            "grid_column": null,
            "grid_gap": null,
            "grid_row": null,
            "grid_template_areas": null,
            "grid_template_columns": null,
            "grid_template_rows": null,
            "height": null,
            "justify_content": null,
            "justify_items": null,
            "left": null,
            "margin": null,
            "max_height": null,
            "max_width": null,
            "min_height": null,
            "min_width": null,
            "object_fit": null,
            "object_position": null,
            "order": null,
            "overflow": null,
            "overflow_x": null,
            "overflow_y": null,
            "padding": null,
            "right": null,
            "top": null,
            "visibility": null,
            "width": null
          }
        },
        "07a112d043b24ea6ad122b339701ee2b": {
          "model_module": "@jupyter-widgets/controls",
          "model_name": "ProgressStyleModel",
          "model_module_version": "1.5.0",
          "state": {
            "_model_module": "@jupyter-widgets/controls",
            "_model_module_version": "1.5.0",
            "_model_name": "ProgressStyleModel",
            "_view_count": null,
            "_view_module": "@jupyter-widgets/base",
            "_view_module_version": "1.2.0",
            "_view_name": "StyleView",
            "bar_color": null,
            "description_width": ""
          }
        },
        "a902b721dc954bbbb6c577fec3120898": {
          "model_module": "@jupyter-widgets/base",
          "model_name": "LayoutModel",
          "model_module_version": "1.2.0",
          "state": {
            "_model_module": "@jupyter-widgets/base",
            "_model_module_version": "1.2.0",
            "_model_name": "LayoutModel",
            "_view_count": null,
            "_view_module": "@jupyter-widgets/base",
            "_view_module_version": "1.2.0",
            "_view_name": "LayoutView",
            "align_content": null,
            "align_items": null,
            "align_self": null,
            "border": null,
            "bottom": null,
            "display": null,
            "flex": null,
            "flex_flow": null,
            "grid_area": null,
            "grid_auto_columns": null,
            "grid_auto_flow": null,
            "grid_auto_rows": null,
            "grid_column": null,
            "grid_gap": null,
            "grid_row": null,
            "grid_template_areas": null,
            "grid_template_columns": null,
            "grid_template_rows": null,
            "height": null,
            "justify_content": null,
            "justify_items": null,
            "left": null,
            "margin": null,
            "max_height": null,
            "max_width": null,
            "min_height": null,
            "min_width": null,
            "object_fit": null,
            "object_position": null,
            "order": null,
            "overflow": null,
            "overflow_x": null,
            "overflow_y": null,
            "padding": null,
            "right": null,
            "top": null,
            "visibility": null,
            "width": null
          }
        },
        "95e726ce9a184728b26a65edf37949ee": {
          "model_module": "@jupyter-widgets/controls",
          "model_name": "DescriptionStyleModel",
          "model_module_version": "1.5.0",
          "state": {
            "_model_module": "@jupyter-widgets/controls",
            "_model_module_version": "1.5.0",
            "_model_name": "DescriptionStyleModel",
            "_view_count": null,
            "_view_module": "@jupyter-widgets/base",
            "_view_module_version": "1.2.0",
            "_view_name": "StyleView",
            "description_width": ""
          }
        },
        "11a83105409d4a61aadca0cbb0b3fe57": {
          "model_module": "@jupyter-widgets/controls",
          "model_name": "HBoxModel",
          "model_module_version": "1.5.0",
          "state": {
            "_dom_classes": [],
            "_model_module": "@jupyter-widgets/controls",
            "_model_module_version": "1.5.0",
            "_model_name": "HBoxModel",
            "_view_count": null,
            "_view_module": "@jupyter-widgets/controls",
            "_view_module_version": "1.5.0",
            "_view_name": "HBoxView",
            "box_style": "",
            "children": [
              "IPY_MODEL_0fd09570a03142f0ae07fcd77fe8c98d",
              "IPY_MODEL_865ed49fa07e4d81ba15c12670b05185",
              "IPY_MODEL_c4a92f3fae5545d6b0c709dea6cd8e51"
            ],
            "layout": "IPY_MODEL_22d3280247c544878011724596837787"
          }
        },
        "0fd09570a03142f0ae07fcd77fe8c98d": {
          "model_module": "@jupyter-widgets/controls",
          "model_name": "HTMLModel",
          "model_module_version": "1.5.0",
          "state": {
            "_dom_classes": [],
            "_model_module": "@jupyter-widgets/controls",
            "_model_module_version": "1.5.0",
            "_model_name": "HTMLModel",
            "_view_count": null,
            "_view_module": "@jupyter-widgets/controls",
            "_view_module_version": "1.5.0",
            "_view_name": "HTMLView",
            "description": "",
            "description_tooltip": null,
            "layout": "IPY_MODEL_af688902d5b24410bfd278a54d7df7aa",
            "placeholder": "​",
            "style": "IPY_MODEL_ce0383bd82f446a0ad08929dab6d3883",
            "value": ""
          }
        },
        "865ed49fa07e4d81ba15c12670b05185": {
          "model_module": "@jupyter-widgets/controls",
          "model_name": "FloatProgressModel",
          "model_module_version": "1.5.0",
          "state": {
            "_dom_classes": [],
            "_model_module": "@jupyter-widgets/controls",
            "_model_module_version": "1.5.0",
            "_model_name": "FloatProgressModel",
            "_view_count": null,
            "_view_module": "@jupyter-widgets/controls",
            "_view_module_version": "1.5.0",
            "_view_name": "ProgressView",
            "bar_style": "success",
            "description": "",
            "description_tooltip": null,
            "layout": "IPY_MODEL_2cb419e75d86494bbeb1a5c10cdebeb1",
            "max": 4422102,
            "min": 0,
            "orientation": "horizontal",
            "style": "IPY_MODEL_1ff5cd1666a048a996d16b3ea6254193",
            "value": 4422102
          }
        },
        "c4a92f3fae5545d6b0c709dea6cd8e51": {
          "model_module": "@jupyter-widgets/controls",
          "model_name": "HTMLModel",
          "model_module_version": "1.5.0",
          "state": {
            "_dom_classes": [],
            "_model_module": "@jupyter-widgets/controls",
            "_model_module_version": "1.5.0",
            "_model_name": "HTMLModel",
            "_view_count": null,
            "_view_module": "@jupyter-widgets/controls",
            "_view_module_version": "1.5.0",
            "_view_name": "HTMLView",
            "description": "",
            "description_tooltip": null,
            "layout": "IPY_MODEL_f82ae982bffa421db79b93ad94a8fb08",
            "placeholder": "​",
            "style": "IPY_MODEL_27faaaf4725741c684a4c225b5dd01d6",
            "value": " 4422656/? [00:00&lt;00:00, 8126908.61it/s]"
          }
        },
        "22d3280247c544878011724596837787": {
          "model_module": "@jupyter-widgets/base",
          "model_name": "LayoutModel",
          "model_module_version": "1.2.0",
          "state": {
            "_model_module": "@jupyter-widgets/base",
            "_model_module_version": "1.2.0",
            "_model_name": "LayoutModel",
            "_view_count": null,
            "_view_module": "@jupyter-widgets/base",
            "_view_module_version": "1.2.0",
            "_view_name": "LayoutView",
            "align_content": null,
            "align_items": null,
            "align_self": null,
            "border": null,
            "bottom": null,
            "display": null,
            "flex": null,
            "flex_flow": null,
            "grid_area": null,
            "grid_auto_columns": null,
            "grid_auto_flow": null,
            "grid_auto_rows": null,
            "grid_column": null,
            "grid_gap": null,
            "grid_row": null,
            "grid_template_areas": null,
            "grid_template_columns": null,
            "grid_template_rows": null,
            "height": null,
            "justify_content": null,
            "justify_items": null,
            "left": null,
            "margin": null,
            "max_height": null,
            "max_width": null,
            "min_height": null,
            "min_width": null,
            "object_fit": null,
            "object_position": null,
            "order": null,
            "overflow": null,
            "overflow_x": null,
            "overflow_y": null,
            "padding": null,
            "right": null,
            "top": null,
            "visibility": null,
            "width": null
          }
        },
        "af688902d5b24410bfd278a54d7df7aa": {
          "model_module": "@jupyter-widgets/base",
          "model_name": "LayoutModel",
          "model_module_version": "1.2.0",
          "state": {
            "_model_module": "@jupyter-widgets/base",
            "_model_module_version": "1.2.0",
            "_model_name": "LayoutModel",
            "_view_count": null,
            "_view_module": "@jupyter-widgets/base",
            "_view_module_version": "1.2.0",
            "_view_name": "LayoutView",
            "align_content": null,
            "align_items": null,
            "align_self": null,
            "border": null,
            "bottom": null,
            "display": null,
            "flex": null,
            "flex_flow": null,
            "grid_area": null,
            "grid_auto_columns": null,
            "grid_auto_flow": null,
            "grid_auto_rows": null,
            "grid_column": null,
            "grid_gap": null,
            "grid_row": null,
            "grid_template_areas": null,
            "grid_template_columns": null,
            "grid_template_rows": null,
            "height": null,
            "justify_content": null,
            "justify_items": null,
            "left": null,
            "margin": null,
            "max_height": null,
            "max_width": null,
            "min_height": null,
            "min_width": null,
            "object_fit": null,
            "object_position": null,
            "order": null,
            "overflow": null,
            "overflow_x": null,
            "overflow_y": null,
            "padding": null,
            "right": null,
            "top": null,
            "visibility": null,
            "width": null
          }
        },
        "ce0383bd82f446a0ad08929dab6d3883": {
          "model_module": "@jupyter-widgets/controls",
          "model_name": "DescriptionStyleModel",
          "model_module_version": "1.5.0",
          "state": {
            "_model_module": "@jupyter-widgets/controls",
            "_model_module_version": "1.5.0",
            "_model_name": "DescriptionStyleModel",
            "_view_count": null,
            "_view_module": "@jupyter-widgets/base",
            "_view_module_version": "1.2.0",
            "_view_name": "StyleView",
            "description_width": ""
          }
        },
        "2cb419e75d86494bbeb1a5c10cdebeb1": {
          "model_module": "@jupyter-widgets/base",
          "model_name": "LayoutModel",
          "model_module_version": "1.2.0",
          "state": {
            "_model_module": "@jupyter-widgets/base",
            "_model_module_version": "1.2.0",
            "_model_name": "LayoutModel",
            "_view_count": null,
            "_view_module": "@jupyter-widgets/base",
            "_view_module_version": "1.2.0",
            "_view_name": "LayoutView",
            "align_content": null,
            "align_items": null,
            "align_self": null,
            "border": null,
            "bottom": null,
            "display": null,
            "flex": null,
            "flex_flow": null,
            "grid_area": null,
            "grid_auto_columns": null,
            "grid_auto_flow": null,
            "grid_auto_rows": null,
            "grid_column": null,
            "grid_gap": null,
            "grid_row": null,
            "grid_template_areas": null,
            "grid_template_columns": null,
            "grid_template_rows": null,
            "height": null,
            "justify_content": null,
            "justify_items": null,
            "left": null,
            "margin": null,
            "max_height": null,
            "max_width": null,
            "min_height": null,
            "min_width": null,
            "object_fit": null,
            "object_position": null,
            "order": null,
            "overflow": null,
            "overflow_x": null,
            "overflow_y": null,
            "padding": null,
            "right": null,
            "top": null,
            "visibility": null,
            "width": null
          }
        },
        "1ff5cd1666a048a996d16b3ea6254193": {
          "model_module": "@jupyter-widgets/controls",
          "model_name": "ProgressStyleModel",
          "model_module_version": "1.5.0",
          "state": {
            "_model_module": "@jupyter-widgets/controls",
            "_model_module_version": "1.5.0",
            "_model_name": "ProgressStyleModel",
            "_view_count": null,
            "_view_module": "@jupyter-widgets/base",
            "_view_module_version": "1.2.0",
            "_view_name": "StyleView",
            "bar_color": null,
            "description_width": ""
          }
        },
        "f82ae982bffa421db79b93ad94a8fb08": {
          "model_module": "@jupyter-widgets/base",
          "model_name": "LayoutModel",
          "model_module_version": "1.2.0",
          "state": {
            "_model_module": "@jupyter-widgets/base",
            "_model_module_version": "1.2.0",
            "_model_name": "LayoutModel",
            "_view_count": null,
            "_view_module": "@jupyter-widgets/base",
            "_view_module_version": "1.2.0",
            "_view_name": "LayoutView",
            "align_content": null,
            "align_items": null,
            "align_self": null,
            "border": null,
            "bottom": null,
            "display": null,
            "flex": null,
            "flex_flow": null,
            "grid_area": null,
            "grid_auto_columns": null,
            "grid_auto_flow": null,
            "grid_auto_rows": null,
            "grid_column": null,
            "grid_gap": null,
            "grid_row": null,
            "grid_template_areas": null,
            "grid_template_columns": null,
            "grid_template_rows": null,
            "height": null,
            "justify_content": null,
            "justify_items": null,
            "left": null,
            "margin": null,
            "max_height": null,
            "max_width": null,
            "min_height": null,
            "min_width": null,
            "object_fit": null,
            "object_position": null,
            "order": null,
            "overflow": null,
            "overflow_x": null,
            "overflow_y": null,
            "padding": null,
            "right": null,
            "top": null,
            "visibility": null,
            "width": null
          }
        },
        "27faaaf4725741c684a4c225b5dd01d6": {
          "model_module": "@jupyter-widgets/controls",
          "model_name": "DescriptionStyleModel",
          "model_module_version": "1.5.0",
          "state": {
            "_model_module": "@jupyter-widgets/controls",
            "_model_module_version": "1.5.0",
            "_model_name": "DescriptionStyleModel",
            "_view_count": null,
            "_view_module": "@jupyter-widgets/base",
            "_view_module_version": "1.2.0",
            "_view_name": "StyleView",
            "description_width": ""
          }
        },
        "c1fb508cfe034a93a21c6ae0cbf0aea1": {
          "model_module": "@jupyter-widgets/controls",
          "model_name": "HBoxModel",
          "model_module_version": "1.5.0",
          "state": {
            "_dom_classes": [],
            "_model_module": "@jupyter-widgets/controls",
            "_model_module_version": "1.5.0",
            "_model_name": "HBoxModel",
            "_view_count": null,
            "_view_module": "@jupyter-widgets/controls",
            "_view_module_version": "1.5.0",
            "_view_name": "HBoxView",
            "box_style": "",
            "children": [
              "IPY_MODEL_a7ac5e4d980c4cf9884f1a498b9d531d",
              "IPY_MODEL_7b2971c55ad2477e9b7ab483233cb929",
              "IPY_MODEL_e4681064be0d44fdac860e661ef53941"
            ],
            "layout": "IPY_MODEL_9f3154e6a0da4baaa4a31302d4a99a04"
          }
        },
        "a7ac5e4d980c4cf9884f1a498b9d531d": {
          "model_module": "@jupyter-widgets/controls",
          "model_name": "HTMLModel",
          "model_module_version": "1.5.0",
          "state": {
            "_dom_classes": [],
            "_model_module": "@jupyter-widgets/controls",
            "_model_module_version": "1.5.0",
            "_model_name": "HTMLModel",
            "_view_count": null,
            "_view_module": "@jupyter-widgets/controls",
            "_view_module_version": "1.5.0",
            "_view_name": "HTMLView",
            "description": "",
            "description_tooltip": null,
            "layout": "IPY_MODEL_02e6a264a50246a59a0dcd387fea321b",
            "placeholder": "​",
            "style": "IPY_MODEL_67b9487954e7437cb98a3435dea4299d",
            "value": ""
          }
        },
        "7b2971c55ad2477e9b7ab483233cb929": {
          "model_module": "@jupyter-widgets/controls",
          "model_name": "FloatProgressModel",
          "model_module_version": "1.5.0",
          "state": {
            "_dom_classes": [],
            "_model_module": "@jupyter-widgets/controls",
            "_model_module_version": "1.5.0",
            "_model_name": "FloatProgressModel",
            "_view_count": null,
            "_view_module": "@jupyter-widgets/controls",
            "_view_module_version": "1.5.0",
            "_view_name": "ProgressView",
            "bar_style": "success",
            "description": "",
            "description_tooltip": null,
            "layout": "IPY_MODEL_eedebfbed40046d9825538b39fc7bab5",
            "max": 5148,
            "min": 0,
            "orientation": "horizontal",
            "style": "IPY_MODEL_911dea8a32b44a28a8d9c39625d504f6",
            "value": 5148
          }
        },
        "e4681064be0d44fdac860e661ef53941": {
          "model_module": "@jupyter-widgets/controls",
          "model_name": "HTMLModel",
          "model_module_version": "1.5.0",
          "state": {
            "_dom_classes": [],
            "_model_module": "@jupyter-widgets/controls",
            "_model_module_version": "1.5.0",
            "_model_name": "HTMLModel",
            "_view_count": null,
            "_view_module": "@jupyter-widgets/controls",
            "_view_module_version": "1.5.0",
            "_view_name": "HTMLView",
            "description": "",
            "description_tooltip": null,
            "layout": "IPY_MODEL_e5ef9cfdd03742febd21d81130a4cd1b",
            "placeholder": "​",
            "style": "IPY_MODEL_dafdf0c82dff4581ba88fda10d9e3cca",
            "value": " 6144/? [00:00&lt;00:00, 6902.47it/s]"
          }
        },
        "9f3154e6a0da4baaa4a31302d4a99a04": {
          "model_module": "@jupyter-widgets/base",
          "model_name": "LayoutModel",
          "model_module_version": "1.2.0",
          "state": {
            "_model_module": "@jupyter-widgets/base",
            "_model_module_version": "1.2.0",
            "_model_name": "LayoutModel",
            "_view_count": null,
            "_view_module": "@jupyter-widgets/base",
            "_view_module_version": "1.2.0",
            "_view_name": "LayoutView",
            "align_content": null,
            "align_items": null,
            "align_self": null,
            "border": null,
            "bottom": null,
            "display": null,
            "flex": null,
            "flex_flow": null,
            "grid_area": null,
            "grid_auto_columns": null,
            "grid_auto_flow": null,
            "grid_auto_rows": null,
            "grid_column": null,
            "grid_gap": null,
            "grid_row": null,
            "grid_template_areas": null,
            "grid_template_columns": null,
            "grid_template_rows": null,
            "height": null,
            "justify_content": null,
            "justify_items": null,
            "left": null,
            "margin": null,
            "max_height": null,
            "max_width": null,
            "min_height": null,
            "min_width": null,
            "object_fit": null,
            "object_position": null,
            "order": null,
            "overflow": null,
            "overflow_x": null,
            "overflow_y": null,
            "padding": null,
            "right": null,
            "top": null,
            "visibility": null,
            "width": null
          }
        },
        "02e6a264a50246a59a0dcd387fea321b": {
          "model_module": "@jupyter-widgets/base",
          "model_name": "LayoutModel",
          "model_module_version": "1.2.0",
          "state": {
            "_model_module": "@jupyter-widgets/base",
            "_model_module_version": "1.2.0",
            "_model_name": "LayoutModel",
            "_view_count": null,
            "_view_module": "@jupyter-widgets/base",
            "_view_module_version": "1.2.0",
            "_view_name": "LayoutView",
            "align_content": null,
            "align_items": null,
            "align_self": null,
            "border": null,
            "bottom": null,
            "display": null,
            "flex": null,
            "flex_flow": null,
            "grid_area": null,
            "grid_auto_columns": null,
            "grid_auto_flow": null,
            "grid_auto_rows": null,
            "grid_column": null,
            "grid_gap": null,
            "grid_row": null,
            "grid_template_areas": null,
            "grid_template_columns": null,
            "grid_template_rows": null,
            "height": null,
            "justify_content": null,
            "justify_items": null,
            "left": null,
            "margin": null,
            "max_height": null,
            "max_width": null,
            "min_height": null,
            "min_width": null,
            "object_fit": null,
            "object_position": null,
            "order": null,
            "overflow": null,
            "overflow_x": null,
            "overflow_y": null,
            "padding": null,
            "right": null,
            "top": null,
            "visibility": null,
            "width": null
          }
        },
        "67b9487954e7437cb98a3435dea4299d": {
          "model_module": "@jupyter-widgets/controls",
          "model_name": "DescriptionStyleModel",
          "model_module_version": "1.5.0",
          "state": {
            "_model_module": "@jupyter-widgets/controls",
            "_model_module_version": "1.5.0",
            "_model_name": "DescriptionStyleModel",
            "_view_count": null,
            "_view_module": "@jupyter-widgets/base",
            "_view_module_version": "1.2.0",
            "_view_name": "StyleView",
            "description_width": ""
          }
        },
        "eedebfbed40046d9825538b39fc7bab5": {
          "model_module": "@jupyter-widgets/base",
          "model_name": "LayoutModel",
          "model_module_version": "1.2.0",
          "state": {
            "_model_module": "@jupyter-widgets/base",
            "_model_module_version": "1.2.0",
            "_model_name": "LayoutModel",
            "_view_count": null,
            "_view_module": "@jupyter-widgets/base",
            "_view_module_version": "1.2.0",
            "_view_name": "LayoutView",
            "align_content": null,
            "align_items": null,
            "align_self": null,
            "border": null,
            "bottom": null,
            "display": null,
            "flex": null,
            "flex_flow": null,
            "grid_area": null,
            "grid_auto_columns": null,
            "grid_auto_flow": null,
            "grid_auto_rows": null,
            "grid_column": null,
            "grid_gap": null,
            "grid_row": null,
            "grid_template_areas": null,
            "grid_template_columns": null,
            "grid_template_rows": null,
            "height": null,
            "justify_content": null,
            "justify_items": null,
            "left": null,
            "margin": null,
            "max_height": null,
            "max_width": null,
            "min_height": null,
            "min_width": null,
            "object_fit": null,
            "object_position": null,
            "order": null,
            "overflow": null,
            "overflow_x": null,
            "overflow_y": null,
            "padding": null,
            "right": null,
            "top": null,
            "visibility": null,
            "width": null
          }
        },
        "911dea8a32b44a28a8d9c39625d504f6": {
          "model_module": "@jupyter-widgets/controls",
          "model_name": "ProgressStyleModel",
          "model_module_version": "1.5.0",
          "state": {
            "_model_module": "@jupyter-widgets/controls",
            "_model_module_version": "1.5.0",
            "_model_name": "ProgressStyleModel",
            "_view_count": null,
            "_view_module": "@jupyter-widgets/base",
            "_view_module_version": "1.2.0",
            "_view_name": "StyleView",
            "bar_color": null,
            "description_width": ""
          }
        },
        "e5ef9cfdd03742febd21d81130a4cd1b": {
          "model_module": "@jupyter-widgets/base",
          "model_name": "LayoutModel",
          "model_module_version": "1.2.0",
          "state": {
            "_model_module": "@jupyter-widgets/base",
            "_model_module_version": "1.2.0",
            "_model_name": "LayoutModel",
            "_view_count": null,
            "_view_module": "@jupyter-widgets/base",
            "_view_module_version": "1.2.0",
            "_view_name": "LayoutView",
            "align_content": null,
            "align_items": null,
            "align_self": null,
            "border": null,
            "bottom": null,
            "display": null,
            "flex": null,
            "flex_flow": null,
            "grid_area": null,
            "grid_auto_columns": null,
            "grid_auto_flow": null,
            "grid_auto_rows": null,
            "grid_column": null,
            "grid_gap": null,
            "grid_row": null,
            "grid_template_areas": null,
            "grid_template_columns": null,
            "grid_template_rows": null,
            "height": null,
            "justify_content": null,
            "justify_items": null,
            "left": null,
            "margin": null,
            "max_height": null,
            "max_width": null,
            "min_height": null,
            "min_width": null,
            "object_fit": null,
            "object_position": null,
            "order": null,
            "overflow": null,
            "overflow_x": null,
            "overflow_y": null,
            "padding": null,
            "right": null,
            "top": null,
            "visibility": null,
            "width": null
          }
        },
        "dafdf0c82dff4581ba88fda10d9e3cca": {
          "model_module": "@jupyter-widgets/controls",
          "model_name": "DescriptionStyleModel",
          "model_module_version": "1.5.0",
          "state": {
            "_model_module": "@jupyter-widgets/controls",
            "_model_module_version": "1.5.0",
            "_model_name": "DescriptionStyleModel",
            "_view_count": null,
            "_view_module": "@jupyter-widgets/base",
            "_view_module_version": "1.2.0",
            "_view_name": "StyleView",
            "description_width": ""
          }
        }
      }
    }
  },
  "cells": [
    {
      "cell_type": "markdown",
      "metadata": {
        "id": "view-in-github",
        "colab_type": "text"
      },
      "source": [
        "<a href=\"https://colab.research.google.com/github/fell100/Machine-Learning/blob/master/Felipe_Miranda_MNIST.ipynb\" target=\"_parent\"><img src=\"https://colab.research.google.com/assets/colab-badge.svg\" alt=\"Open In Colab\"/></a>"
      ]
    },
    {
      "cell_type": "markdown",
      "source": [
        "Aluno: Felipe Miranda Cardoso <br>\n",
        "Professor: Carlos Galvão <br>\n",
        "Matrícula: 201802677"
      ],
      "metadata": {
        "id": "6Jl_HuBMUBCo"
      }
    },
    {
      "cell_type": "markdown",
      "metadata": {
        "id": "v1EFE8PhZC_l"
      },
      "source": [
        "Neste exercicio vamos começar a trabalhar com dados mais interessantes, o Fashion MNIST, que tem imagens de acessórios de vestuário. Vamos ainda verificar outros aspectos ao trabalhar com redes neurais usando PyTorch:\n",
        "\n",
        "*   dataloader\n",
        "*   transformação \n",
        "*   batches\n",
        "*   Overfitting\n",
        "\n"
      ]
    },
    {
      "cell_type": "markdown",
      "metadata": {
        "id": "0GaiW0bHZzcq"
      },
      "source": [
        "## Carregando dados e usando transformações"
      ]
    },
    {
      "cell_type": "code",
      "metadata": {
        "id": "Yh11ACJxeY6e"
      },
      "source": [
        "import torch\n",
        "from torchvision import datasets, transforms\n",
        "import matplotlib.pyplot as plt\n"
      ],
      "execution_count": 1,
      "outputs": []
    },
    {
      "cell_type": "code",
      "metadata": {
        "id": "TJF2mLMrxFbX",
        "colab": {
          "base_uri": "https://localhost:8080/",
          "height": 437,
          "referenced_widgets": [
            "b7706f9666f54966aa8470026e7444a4",
            "43d30794cf084ac89be813485270db0e",
            "2a475f553d694280afce76943983c5c7",
            "705667933e334f8ebd6f33ed610293a8",
            "60cd1da09edf438ea1108d8235b38d0c",
            "316566907b1f438597903abe56ef830a",
            "4b0001ddde4c4f2aaceb280b9f1ef8c1",
            "9fe4e5b019ff4960bd2c6ab77b1618aa",
            "4ee52f911ebc4d52a091de28cd41bfa4",
            "ffdbfe64d49d4f6fb2e53657064b4c26",
            "794bbd33409e47a580142867ff2e8165",
            "d65bdd40642b4dfe8e4c45cff3c306e6",
            "683b5f1257384572b6d4c1ed5b7983e5",
            "82aa9b8dbe0d475b850a81127434a759",
            "8f00a78b699a470b8b8c0088d327aad1",
            "ee7e42b794e244cabde16081e2d0984b",
            "86b931c17038450da22836f14a7276a1",
            "13db2df7d58440eead445cd98db2a489",
            "408ddb54806141498a04746504cc8256",
            "07a112d043b24ea6ad122b339701ee2b",
            "a902b721dc954bbbb6c577fec3120898",
            "95e726ce9a184728b26a65edf37949ee",
            "11a83105409d4a61aadca0cbb0b3fe57",
            "0fd09570a03142f0ae07fcd77fe8c98d",
            "865ed49fa07e4d81ba15c12670b05185",
            "c4a92f3fae5545d6b0c709dea6cd8e51",
            "22d3280247c544878011724596837787",
            "af688902d5b24410bfd278a54d7df7aa",
            "ce0383bd82f446a0ad08929dab6d3883",
            "2cb419e75d86494bbeb1a5c10cdebeb1",
            "1ff5cd1666a048a996d16b3ea6254193",
            "f82ae982bffa421db79b93ad94a8fb08",
            "27faaaf4725741c684a4c225b5dd01d6",
            "c1fb508cfe034a93a21c6ae0cbf0aea1",
            "a7ac5e4d980c4cf9884f1a498b9d531d",
            "7b2971c55ad2477e9b7ab483233cb929",
            "e4681064be0d44fdac860e661ef53941",
            "9f3154e6a0da4baaa4a31302d4a99a04",
            "02e6a264a50246a59a0dcd387fea321b",
            "67b9487954e7437cb98a3435dea4299d",
            "eedebfbed40046d9825538b39fc7bab5",
            "911dea8a32b44a28a8d9c39625d504f6",
            "e5ef9cfdd03742febd21d81130a4cd1b",
            "dafdf0c82dff4581ba88fda10d9e3cca"
          ]
        },
        "outputId": "e4c28017-0047-496d-8990-eae81e94b1c7"
      },
      "source": [
        "transform = transforms.Compose([transforms.ToTensor(), transforms.Normalize((0.5,), (0.5,))])\n",
        "#Carregar os dados\n",
        "trainset = datasets.FashionMNIST('./F_MNIST_data/', download=True, train=True, transform=transform)\n",
        "trainloader = torch.utils.data.DataLoader(trainset, batch_size=64, shuffle=True)"
      ],
      "execution_count": 2,
      "outputs": [
        {
          "output_type": "stream",
          "name": "stdout",
          "text": [
            "Downloading http://fashion-mnist.s3-website.eu-central-1.amazonaws.com/train-images-idx3-ubyte.gz\n",
            "Downloading http://fashion-mnist.s3-website.eu-central-1.amazonaws.com/train-images-idx3-ubyte.gz to ./F_MNIST_data/FashionMNIST/raw/train-images-idx3-ubyte.gz\n"
          ]
        },
        {
          "output_type": "display_data",
          "data": {
            "text/plain": [
              "  0%|          | 0/26421880 [00:00<?, ?it/s]"
            ],
            "application/vnd.jupyter.widget-view+json": {
              "version_major": 2,
              "version_minor": 0,
              "model_id": "b7706f9666f54966aa8470026e7444a4"
            }
          },
          "metadata": {}
        },
        {
          "output_type": "stream",
          "name": "stdout",
          "text": [
            "Extracting ./F_MNIST_data/FashionMNIST/raw/train-images-idx3-ubyte.gz to ./F_MNIST_data/FashionMNIST/raw\n",
            "\n",
            "Downloading http://fashion-mnist.s3-website.eu-central-1.amazonaws.com/train-labels-idx1-ubyte.gz\n",
            "Downloading http://fashion-mnist.s3-website.eu-central-1.amazonaws.com/train-labels-idx1-ubyte.gz to ./F_MNIST_data/FashionMNIST/raw/train-labels-idx1-ubyte.gz\n"
          ]
        },
        {
          "output_type": "display_data",
          "data": {
            "text/plain": [
              "  0%|          | 0/29515 [00:00<?, ?it/s]"
            ],
            "application/vnd.jupyter.widget-view+json": {
              "version_major": 2,
              "version_minor": 0,
              "model_id": "d65bdd40642b4dfe8e4c45cff3c306e6"
            }
          },
          "metadata": {}
        },
        {
          "output_type": "stream",
          "name": "stdout",
          "text": [
            "Extracting ./F_MNIST_data/FashionMNIST/raw/train-labels-idx1-ubyte.gz to ./F_MNIST_data/FashionMNIST/raw\n",
            "\n",
            "Downloading http://fashion-mnist.s3-website.eu-central-1.amazonaws.com/t10k-images-idx3-ubyte.gz\n",
            "Downloading http://fashion-mnist.s3-website.eu-central-1.amazonaws.com/t10k-images-idx3-ubyte.gz to ./F_MNIST_data/FashionMNIST/raw/t10k-images-idx3-ubyte.gz\n"
          ]
        },
        {
          "output_type": "display_data",
          "data": {
            "text/plain": [
              "  0%|          | 0/4422102 [00:00<?, ?it/s]"
            ],
            "application/vnd.jupyter.widget-view+json": {
              "version_major": 2,
              "version_minor": 0,
              "model_id": "11a83105409d4a61aadca0cbb0b3fe57"
            }
          },
          "metadata": {}
        },
        {
          "output_type": "stream",
          "name": "stdout",
          "text": [
            "Extracting ./F_MNIST_data/FashionMNIST/raw/t10k-images-idx3-ubyte.gz to ./F_MNIST_data/FashionMNIST/raw\n",
            "\n",
            "Downloading http://fashion-mnist.s3-website.eu-central-1.amazonaws.com/t10k-labels-idx1-ubyte.gz\n",
            "Downloading http://fashion-mnist.s3-website.eu-central-1.amazonaws.com/t10k-labels-idx1-ubyte.gz to ./F_MNIST_data/FashionMNIST/raw/t10k-labels-idx1-ubyte.gz\n"
          ]
        },
        {
          "output_type": "display_data",
          "data": {
            "text/plain": [
              "  0%|          | 0/5148 [00:00<?, ?it/s]"
            ],
            "application/vnd.jupyter.widget-view+json": {
              "version_major": 2,
              "version_minor": 0,
              "model_id": "c1fb508cfe034a93a21c6ae0cbf0aea1"
            }
          },
          "metadata": {}
        },
        {
          "output_type": "stream",
          "name": "stdout",
          "text": [
            "Extracting ./F_MNIST_data/FashionMNIST/raw/t10k-labels-idx1-ubyte.gz to ./F_MNIST_data/FashionMNIST/raw\n",
            "\n"
          ]
        }
      ]
    },
    {
      "cell_type": "markdown",
      "metadata": {
        "id": "liD6-jXraRQ8"
      },
      "source": [
        "A célula acima fez três operações:\n",
        "\n",
        "\n",
        "1. Definiu uma transformação a ser aplicada a cada uma das imagens.\n",
        "\n",
        "`transform = transforms.Compose([transforms.ToTensor(), transforms.Normalize((0.5,), (0.5,))])`\n",
        "\n",
        "Essa linha determina que os dados serão armazenados em um tensor e normalizados com média 0.5 e desvio padrão 0.5.\n",
        "Outras transformações são possíveis, como rotação, por exemplo.\n",
        "\n",
        "2. Faz o download da base de dados Fashion MNIST\n",
        "\n",
        "`trainset = datasets.FashionMNIST('./F_MNIST_data/', download=True, train=True, transform=transform)`\n",
        "\n",
        "Essa linha faz o download a partir de training.pt e aplica as transformações definidas anteriormente\n",
        "\n",
        "3. Define um dataloader com a linha\n",
        "\n",
        "`\n",
        "trainloader = torch.utils.data.DataLoader(trainset, batch_size=64, shuffle=True)`\n",
        "\n",
        "que fornece um conjunto de 64 imagens misturadas cada vez que você solicitar.\n",
        "\n",
        "A seguir, vamos obter os dados para teste, usando a mesma transformação.\n",
        "\n"
      ]
    },
    {
      "cell_type": "code",
      "metadata": {
        "id": "tK2S5Av2aISg"
      },
      "source": [
        "testset = datasets.FashionMNIST('./F_MNIST_data/', download=True, train=False, transform=transform)\n",
        "testloader = torch.utils.data.DataLoader(testset, batch_size=64, shuffle=True)"
      ],
      "execution_count": 3,
      "outputs": []
    },
    {
      "cell_type": "markdown",
      "metadata": {
        "id": "zJ90m5u9djRH"
      },
      "source": [
        "Vamos observar alguns dados. Cada vez que você executar a célula, um novo conjunto de dados é carregado."
      ]
    },
    {
      "cell_type": "code",
      "metadata": {
        "colab": {
          "base_uri": "https://localhost:8080/",
          "height": 375
        },
        "id": "gQiKIuKjdoQs",
        "outputId": "2ed2ccd1-d82f-42e9-b19d-748e261bc8d3"
      },
      "source": [
        "images, labels = next(iter(trainloader))\n",
        "print(f\"Quantidade de imagens: {images.shape[0]}\")\n",
        "print(f\"Largura: {images.shape[2]}, Altura: {images.shape[3]}\")\n",
        "print(f\"Valores máximos e mínimos das imagens: {images.max()}, {images.min()}\")\n",
        "plt.imshow(images[0][0].numpy())\n",
        "print(labels)"
      ],
      "execution_count": 4,
      "outputs": [
        {
          "output_type": "stream",
          "name": "stdout",
          "text": [
            "Quantidade de imagens: 64\n",
            "Largura: 28, Altura: 28\n",
            "Valores máximos e mínimos das imagens: 1.0, -1.0\n",
            "tensor([8, 4, 0, 0, 3, 1, 3, 5, 8, 8, 6, 6, 3, 9, 2, 9, 7, 6, 7, 9, 4, 2, 9, 2,\n",
            "        7, 6, 6, 6, 3, 4, 0, 2, 3, 6, 5, 0, 0, 6, 7, 2, 5, 3, 8, 3, 5, 5, 4, 6,\n",
            "        2, 6, 3, 8, 7, 5, 6, 2, 6, 0, 5, 1, 5, 9, 0, 6])\n"
          ]
        },
        {
          "output_type": "display_data",
          "data": {
            "text/plain": [
              "<Figure size 432x288 with 1 Axes>"
            ],
            "image/png": "[encoded data removed]"
          },
          "metadata": {
            "needs_background": "light"
          }
        }
      ]
    },
    {
      "cell_type": "markdown",
      "metadata": {
        "id": "yt2pSdcTni5j"
      },
      "source": [
        "Verificamos que as imagens são de dimensões 28x28 e com valores entre -1 e 1 (normalização feita na transformação). \n",
        "\n",
        "Além disso, vemos 10 classes diferentes, com o vetor apresentando valores entre 0 e 9. \n",
        "\n",
        "**Obs**: *Como a filosofia do PyTorch é facilitar a vida do usuário, podemos usar os rótulos dessa forma. Em outras soluções, é necessário fazer o hot-encoding. Isso transforma um vetor de N rótulos de C classes para uma matriz $N$x$C$ em que cada linha tem apenas um valor 1.*\n",
        "\n",
        "Agora, vamos criar a nossa rede!"
      ]
    },
    {
      "cell_type": "code",
      "metadata": {
        "id": "18nKtZzknl2-"
      },
      "source": [
        "nInputs = images.shape[2]*images.shape[3]#784\n",
        "nHidden1 = 500\n",
        "nHidden2 = 200\n",
        "nHidden3 = 50\n",
        "nOutput = 10\n",
        "learningRate = 0.003\n",
        "model = torch.nn.Sequential(\n",
        "    torch.nn.Linear(nInputs, nHidden1),\n",
        "    torch.nn.ReLU(),\n",
        "    torch.nn.Dropout(0.5),\n",
        "\n",
        "    torch.nn.Linear(nHidden1, nHidden2),\n",
        "    torch.nn.ReLU(),\n",
        "    torch.nn.Dropout(0.5),\n",
        "\n",
        "    torch.nn.Linear(nHidden2, nHidden3),\n",
        "    torch.nn.ReLU(),\n",
        "    torch.nn.Dropout(0.5),\n",
        "    \n",
        "    torch.nn.Linear(nHidden3, nOutput),\n",
        "    torch.nn.LogSoftmax(dim=1),\n",
        "    )  \n",
        "\n",
        "criterion = torch.nn.NLLLoss(reduction='sum')\n",
        "optimizer = torch.optim.Adam(model.parameters(), lr=learningRate) "
      ],
      "execution_count": 5,
      "outputs": []
    },
    {
      "cell_type": "markdown",
      "metadata": {
        "id": "oq9l15opqkrP"
      },
      "source": [
        "Vamos verificar a saída da rede para o lote (batch) de imagens. As classes estimadas podem ser obtidas com argmax() e a acurácia **provavelmente** será próxima de 10%."
      ]
    },
    {
      "cell_type": "code",
      "metadata": {
        "colab": {
          "base_uri": "https://localhost:8080/"
        },
        "id": "peUX3fecrCKA",
        "outputId": "7e878578-b80a-47e1-933b-94f3d5c0406a"
      },
      "source": [
        "inputs = images.reshape(images.shape[0],-1)\n",
        "outputs = model(inputs)\n",
        "outputsClass = torch.argmax(outputs, dim=1)\n",
        "accuracy = 100*(outputsClass==labels).sum()/len(labels)\n",
        "print(accuracy)"
      ],
      "execution_count": 6,
      "outputs": [
        {
          "output_type": "stream",
          "name": "stdout",
          "text": [
            "tensor(4.6875)\n"
          ]
        }
      ]
    },
    {
      "cell_type": "markdown",
      "metadata": {
        "id": "lIiCGswjzvHX"
      },
      "source": [
        "\n",
        "\n",
        "O próximo passo e treinar a rede. Fizemos algumas modificações no código a seguir. \n",
        "\n",
        "*   A cada lote, fazemos o ajuste do modelo e o erro é acumulado dentro de cada época.\n",
        "*   Verificamos o erro para dados não usados no treinamento para validar o aprendizado.\n",
        "*   Os dados são achatados(```images.reshape(images.shape[0],-1)```) uma vez que a rede tem 784 entradas e espera uma matriz $N$x$784$ e não $N$x$28$x$28$"
      ]
    },
    {
      "cell_type": "code",
      "metadata": {
        "id": "mqgV5eSzwfH0"
      },
      "source": [
        "def train_model(nEpochs = 20):\n",
        "  errors_train=[]\n",
        "  errors_test=[]\n",
        "  accuracy_test=[]\n",
        "  for epoch in range(nEpochs):\n",
        "    #carrega dados de lote\n",
        "    train_loss=0\n",
        "    for images, labels in trainloader:\n",
        "    #images, labels = next(iter(trainloader))\n",
        "      if torch.cuda.is_available():\n",
        "        images.to('cuda')\n",
        "        labels.to('cuda')\n",
        "      #ajusta as dimensões\n",
        "      model.train()\n",
        "      inputs = images.reshape(images.shape[0],-1)\n",
        "      #zera o gradiente\n",
        "      optimizer.zero_grad()\n",
        "      #propaga os dados na rede\n",
        "      outputs = model(inputs)\n",
        "      #calcula o erro\n",
        "      \n",
        "      #torch.nn.Dropout()\n",
        "      loss = criterion(outputs, labels)\n",
        "      train_loss+=loss.item()\n",
        "      #calcula gradientes com backward\n",
        "\n",
        "      loss.backward()\n",
        "      #faz um passo de otimização\n",
        "      \n",
        "      optimizer.step()\n",
        "      #calcula a acurácia\n",
        "      model.eval()\n",
        "      outputsClass = torch.argmax(outputs, dim=1)\n",
        "      accuracy = 100*(outputsClass==labels).sum()/len(labels)\n",
        "      #usa os dados de fora do grupo de teste para fazer a validação\n",
        "\n",
        "    with torch.no_grad():\n",
        "      test_correct = 0\n",
        "      test_loss=0\n",
        "      for images, labels in testloader:\n",
        "        if torch.cuda.is_available():\n",
        "          images.to('cuda')\n",
        "          labels.to('cuda')        \n",
        "        inputs = images.reshape(images.shape[0],-1)\n",
        "        outputs = model(inputs)\n",
        "        loss = criterion(outputs, labels)\n",
        "        test_loss+=loss.item()\n",
        "        outputsClass = torch.argmax(outputs, dim=1)\n",
        "        test_correct += (outputsClass==labels).sum()\n",
        "    train_loss = train_loss/len(trainloader.dataset)\n",
        "    test_loss = test_loss/len(testloader.dataset)\n",
        "    errors_train.append(train_loss)\n",
        "    errors_test.append(test_loss)\n",
        "    print(f\"Epochs: {epoch}, error train: {errors_train[-1]}, error test: {errors_test[-1]}\")\n",
        "  return errors_train, errors_test"
      ],
      "execution_count": 7,
      "outputs": []
    },
    {
      "cell_type": "markdown",
      "metadata": {
        "id": "uf7MVxTm0R-_"
      },
      "source": [
        "Após executar a pŕoxima célula, aproveite para fazer uma pausa. \n",
        "\n",
        "Tome um café, faça um exercício ou dê um abraço em quem mora com você :)\n",
        "\n",
        "Com trinta épocas, você terá alguns minutos para isso."
      ]
    },
    {
      "cell_type": "code",
      "metadata": {
        "colab": {
          "base_uri": "https://localhost:8080/"
        },
        "id": "hq6jd17JzAeW",
        "outputId": "e44fb4cc-268a-4887-d331-950bfe8aef2d"
      },
      "source": [
        "errors_train, errors_test = train_model(30)"
      ],
      "execution_count": 8,
      "outputs": [
        {
          "output_type": "stream",
          "name": "stdout",
          "text": [
            "Epochs: 0, error train: 0.8568046522776286, error test: 0.5684108416557312\n",
            "Epochs: 1, error train: 0.7284784877141317, error test: 0.5919969269275666\n",
            "Epochs: 2, error train: 0.6994401970863342, error test: 0.5347790493011475\n",
            "Epochs: 3, error train: 0.671664747428894, error test: 0.5041235728263855\n",
            "Epochs: 4, error train: 0.6503279267628987, error test: 0.4923662349700928\n",
            "Epochs: 5, error train: 0.6499323974450429, error test: 0.4688708051681519\n",
            "Epochs: 6, error train: 0.6312813276290894, error test: 0.45725058941841124\n",
            "Epochs: 7, error train: 0.621526645676295, error test: 0.5015611144065857\n",
            "Epochs: 8, error train: 0.6359030595779419, error test: 0.465824342918396\n",
            "Epochs: 9, error train: 0.6128222301801046, error test: 0.44774319925308226\n",
            "Epochs: 10, error train: 0.6181075229326884, error test: 0.47172426404953005\n",
            "Epochs: 11, error train: 0.6179687894980113, error test: 0.4749583392858505\n",
            "Epochs: 12, error train: 0.6009168228626252, error test: 0.46206502304077146\n",
            "Epochs: 13, error train: 0.5964460327466329, error test: 0.47999378442764284\n",
            "Epochs: 14, error train: 0.6068368059476217, error test: 0.46563794598579406\n",
            "Epochs: 15, error train: 0.5925675450642903, error test: 0.46534137506484985\n",
            "Epochs: 16, error train: 0.6071950600941975, error test: 0.4575886229991913\n",
            "Epochs: 17, error train: 0.5939567851861318, error test: 0.4565576828956604\n",
            "Epochs: 18, error train: 0.6007097362200419, error test: 0.46543831741809844\n",
            "Epochs: 19, error train: 0.5970528652350108, error test: 0.4568590184211731\n",
            "Epochs: 20, error train: 0.5958050886789957, error test: 0.4564407756328583\n",
            "Epochs: 21, error train: 0.6003531358877818, error test: 0.46662956657409665\n",
            "Epochs: 22, error train: 0.5917021190166474, error test: 0.45391603841781614\n",
            "Epochs: 23, error train: 0.5872352027575175, error test: 0.4678560691833496\n",
            "Epochs: 24, error train: 0.6017404503186544, error test: 0.500439005279541\n",
            "Epochs: 25, error train: 0.5994046235720316, error test: 0.47540594711303713\n",
            "Epochs: 26, error train: 0.5843527218182881, error test: 0.4680390788078308\n",
            "Epochs: 27, error train: 0.6008653653144836, error test: 0.48110480885505674\n",
            "Epochs: 28, error train: 0.5873497454961141, error test: 0.47006752986907957\n",
            "Epochs: 29, error train: 0.5974829877217611, error test: 0.4940016140460968\n"
          ]
        }
      ]
    },
    {
      "cell_type": "code",
      "metadata": {
        "colab": {
          "base_uri": "https://localhost:8080/",
          "height": 283
        },
        "id": "WHT6LkRh_sVM",
        "outputId": "a8bb08a2-f9e0-497f-f9a4-bc5088e213c0"
      },
      "source": [
        "plt.plot(errors_train)\n",
        "plt.plot(errors_test)"
      ],
      "execution_count": 9,
      "outputs": [
        {
          "output_type": "execute_result",
          "data": {
            "text/plain": [
              "[<matplotlib.lines.Line2D at 0x7f134b2abfd0>]"
            ]
          },
          "metadata": {},
          "execution_count": 9
        },
        {
          "output_type": "display_data",
          "data": {
            "text/plain": [
              "<Figure size 432x288 with 1 Axes>"
            ],
            "image/png": "[encoded data removed]"
          },
          "metadata": {
            "needs_background": "light"
          }
        }
      ]
    },
    {
      "cell_type": "markdown",
      "metadata": {
        "id": "gq6oXvUQw8tW"
      },
      "source": [
        "Se você não alterou o código, Provavelmente, a partir da 10a. época, o erro com os dados de treinamento continuam caindo, enquanto o erro dos dados de teste apresentam uma tendência de alta. \n",
        "\n",
        "![image.png](data:image/png;base64,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)\n",
        "\n",
        "Esse fenômeno é conhecido como *overfitting*. Isso significa que a rede está ficando muito boa com os dados usados para o ajuste dos pesos, mas está perdendo a sua capacidade de generalização.\n",
        "\n",
        "Algumas medidas podem ser tomadas para evitar o *overfitting* e um deles é o dropout, que vamos usar a seguir."
      ]
    },
    {
      "cell_type": "markdown",
      "metadata": {
        "id": "RbFM52Q9C4Oi"
      },
      "source": [
        "## **Tarefa**\n",
        "\n",
        "Uma das maneiras de combater o overfitting é dropout.\n",
        "Durante o treinamento, entradas e neurônios são dasabilitados com probabilidade $p$. Isso quer dizer que nem todas as unidades terão seus pesos atualizados.\n",
        "\n",
        "O que você deve fazer aqui é:\n",
        "\n",
        "- Usar o `torch.nn.Dropout()` na definição do modelo (verifique a [documentação](https://pytorch.org/docs/stable/generated/torch.nn.Dropout.html?highlight=dropout))\n",
        "- Verificar quando usar `model.eval()` e `model.train()`\n",
        "\n",
        "Se tudo der certo, você vai verificar que o overfitting foi eliminado ou atenuado, ao menos.\n",
        "\n",
        "Você deve chegar em algo parecido com isso:\n",
        "\n",
        "![image.png](data:image/png;base64,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)"
      ]
    }
  ]
}